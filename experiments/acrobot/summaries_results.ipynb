{
 "cells": [
  {
   "cell_type": "code",
   "execution_count": 1,
   "metadata": {},
   "outputs": [
    {
     "data": {
      "text/plain": [
       "[['r20000_d50000_b512_t1000 J_1.npy', 188.90457427560835],\n",
       " ['r100000_d50000_b64_t500 J_1.npy', 125.23349737888996],\n",
       " ['r20000_d50000_b512_t500 J_1.npy', 99.739153724206],\n",
       " ['r20000_d300000_b128_t1000 J_1.npy', 96.27113843498431],\n",
       " ['r20000_d300000_b64_t1000 J_1.npy', 91.73485034472512],\n",
       " ['r20000_d300000_b512_t500 J_1.npy', 89.17545472267138],\n",
       " ['r20000_d300000_b512_t1000 J_1.npy', 85.63448763691993],\n",
       " ['r20000_d300000_b128_t500 J_1.npy', 69.56141493464737],\n",
       " ['r20000_d50000_b512_t6000 J_1.npy', 59.560389799663916],\n",
       " ['r20000_d300000_b64_t500 J_1.npy', 44.92341432986022],\n",
       " ['r20000_d300000_b512_t6000 J_1.npy', 43.18241316023502],\n",
       " ['r100000_d50000_b512_t1000 J_1.npy', 41.18982460266871],\n",
       " ['r100000_d300000_b128_t500 J_1.npy', 40.55743562532525],\n",
       " ['r20000_d50000_b128_t500 J_1.npy', 26.44759710349068],\n",
       " ['r100000_d50000_b512_t6000 J_1.npy', 24.83479586970624],\n",
       " ['r20000_d300000_b64_t6000 J_1.npy', 13.172776069067114],\n",
       " ['r20000_d50000_b128_t6000 J_1.npy', 7.960959406847903],\n",
       " ['r100000_d300000_b512_t6000 J_1.npy', 6.3759548253825304],\n",
       " ['r20000_d300000_b128_t6000 J_1.npy', 3.983435944502444],\n",
       " ['r100000_d300000_b512_t1000 J_1.npy', 1.2598166124682189],\n",
       " ['r20000_d50000_b128_t1000 J_1.npy', -5.722203954495675],\n",
       " ['r100000_d50000_b128_t1000 J_1.npy', -14.601773515230011],\n",
       " ['r100000_d300000_b128_t6000 J_1.npy', -16.083076420693654],\n",
       " ['r100000_d300000_b64_t6000 J_1.npy', -17.969147247938132],\n",
       " ['r100000_d300000_b128_t1000 J_1.npy', -22.070804753308554],\n",
       " ['r100000_d300000_b512_t500 J_1.npy', -26.201314540617165],\n",
       " ['r100000_d300000_b64_t1000 J_1.npy', -28.710725423943924],\n",
       " ['r20000_d50000_b64_t6000 J_1.npy', -30.48542892313973],\n",
       " ['r100000_d50000_b512_t500 J_1.npy', -33.37855987250946],\n",
       " ['r100000_d50000_b128_t6000 J_1.npy', -40.185428351102395],\n",
       " ['r100000_d50000_b128_t500 J_1.npy', -41.73272652854118],\n",
       " ['r100000_d300000_b64_t500 J_1.npy', -45.17498882709806],\n",
       " ['r100000_d50000_b64_t1000 J_1.npy', -55.51900023014507],\n",
       " ['r100000_d50000_b64_t6000 J_1.npy', -65.30411957639238],\n",
       " ['r20000_d50000_b64_t1000 J_1.npy', -103.44645806341846],\n",
       " ['test J_1.npy', -107.26000577824796],\n",
       " ['r20000_d50000_b64_t500 J_1.npy', -108.10951739379388],\n",
       " ['old_params J_2.npy', -111.34546678036726]]"
      ]
     },
     "execution_count": 1,
     "metadata": {},
     "output_type": "execute_result"
    }
   ],
   "source": [
    "import os\n",
    "import numpy as np\n",
    "\n",
    "experiments_scores = []\n",
    "\n",
    "for experiment in os.listdir(\"figures\"):\n",
    "    for file in os.listdir(f\"figures/{experiment}/DQN\"):\n",
    "        if \"J\" in file:\n",
    "            max_score = np.nanmax(np.load(f\"figures/{experiment}/DQN/{file}\"))\n",
    "            experiments_scores.append([f\"{experiment} {file}\", max_score])\n",
    "\n",
    "sorted(experiments_scores, key=lambda experiment_score: -experiment_score[1])"
   ]
  }
 ],
 "metadata": {
  "kernelspec": {
   "display_name": "env_cpu",
   "language": "python",
   "name": "python3"
  },
  "language_info": {
   "codemirror_mode": {
    "name": "ipython",
    "version": 3
   },
   "file_extension": ".py",
   "mimetype": "text/x-python",
   "name": "python",
   "nbconvert_exporter": "python",
   "pygments_lexer": "ipython3",
   "version": "3.10.12"
  },
  "orig_nbformat": 4
 },
 "nbformat": 4,
 "nbformat_minor": 2
}
