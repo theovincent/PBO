{
 "cells": [
  {
   "cell_type": "code",
   "execution_count": null,
   "metadata": {},
   "outputs": [],
   "source": [
    "import os\n",
    "import numpy as np\n",
    "\n",
    "experiments_scores = []\n",
    "\n",
    "for experiment in os.listdir(\"figures\"):\n",
    "    if os.path.exists(f\"figures/{experiment}/DQN\"):\n",
    "        for file in os.listdir(f\"figures/{experiment}/DQN\"):\n",
    "            if \"J\" in file:\n",
    "                max_score = np.nanmax(np.load(f\"figures/{experiment}/DQN/{file}\"))\n",
    "                experiments_scores.append([f\"{experiment} {file}\", max_score])\n",
    "\n",
    "    if os.path.exists(f\"figures/{experiment}/ProDQN\"):\n",
    "        for file in os.listdir(f\"figures/{experiment}/ProDQN\"):\n",
    "            if \"J\" in file:\n",
    "                max_score = np.nanmax(np.load(f\"figures/{experiment}/ProDQN/{file}\"))\n",
    "                experiments_scores.append([f\"{experiment} {file}\", max_score])\n",
    "\n",
    "sorted(experiments_scores, key=lambda experiment_score: -experiment_score[1])"
   ]
  }
 ],
 "metadata": {
  "kernelspec": {
   "display_name": "env_cpu",
   "language": "python",
   "name": "python3"
  },
  "language_info": {
   "codemirror_mode": {
    "name": "ipython",
    "version": 3
   },
   "file_extension": ".py",
   "mimetype": "text/x-python",
   "name": "python",
   "nbconvert_exporter": "python",
   "pygments_lexer": "ipython3",
   "version": "3.10.12"
  },
  "orig_nbformat": 4
 },
 "nbformat": 4,
 "nbformat_minor": 2
}
