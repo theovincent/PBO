{
    "cells": [
        {
            "cell_type": "code",
            "execution_count": null,
            "metadata": {},
            "outputs": [],
            "source": [
                "%load_ext autoreload\n",
                "%autoreload 2\n",
                "\n",
                "import json\n",
                "import numpy as np\n",
                "\n",
                "\n",
                "experiment_name = \"r20000_d50000_b512_t1000\"\n",
                "show_dqn = True; show_prodqn = False\n",
                "bellman_iterations_scope = 5\n",
                "seeds = [1]\n",
                "p = json.load(open(f\"figures/{experiment_name}/parameters.json\"))"
            ]
        },
        {
            "cell_type": "markdown",
            "metadata": {},
            "source": [
                "### Extract data"
            ]
        },
        {
            "cell_type": "code",
            "execution_count": null,
            "metadata": {},
            "outputs": [],
            "source": [
                "if show_dqn:\n",
                "    dqn_j = np.zeros((len(seeds), p[\"n_epochs\"])) * np.nan\n",
                "\n",
                "    for idx_seed, seed in enumerate(seeds):\n",
                "        dqn_j[idx_seed] = np.load(f\"figures/{experiment_name}/DQN/J_{seed}.npy\")\n",
                "\n",
                "if show_prodqn:\n",
                "    prodqn_j = np.zeros((len(seeds), p[\"n_epochs\"])) * np.nan\n",
                "\n",
                "    for idx_seed, seed in enumerate(seeds):\n",
                "        prodqn_j[idx_seed] = np.load(f\"figures/{experiment_name}/ProDQN/{bellman_iterations_scope}_J_{seed}.npy\")"
            ]
        },
        {
            "cell_type": "markdown",
            "metadata": {},
            "source": [
                "### Plot performance"
            ]
        },
        {
            "cell_type": "code",
            "execution_count": null,
            "metadata": {},
            "outputs": [],
            "source": [
                "import matplotlib.pyplot as plt \n",
                "from experiments import colors\n",
                "\n",
                "from pbo.utils.confidence_interval import means_and_confidence_interval\n",
                "\n",
                "plt.rc(\"font\", size=15)\n",
                "plt.rc(\"lines\", linewidth=3)\n",
                "\n",
                "iterations = range(p[\"n_epochs\"])\n",
                "\n",
                "\n",
                "if show_dqn:\n",
                "    dqn_j_mean, dqn_j_confidence_interval = means_and_confidence_interval(dqn_j)\n",
                "\n",
                "    plt.plot(iterations, dqn_j_mean, label=\"DQN\", color=colors[\"DQN\"], zorder=2)\n",
                "    plt.fill_between(iterations, dqn_j_confidence_interval[0], dqn_j_confidence_interval[1], color=colors[\"DQN\"], alpha=0.3)\n",
                "\n",
                "if show_prodqn:\n",
                "    prodqn_j_mean, prodqn_j_confidence_interval = means_and_confidence_interval(prodqn_j)\n",
                "\n",
                "    plt.plot(iterations, prodqn_j_mean, label=\"ProDQN (ours)\", color=colors[\"ProDQN\"], zorder=3)\n",
                "    plt.fill_between(iterations, prodqn_j_confidence_interval[0], prodqn_j_confidence_interval[1], color=colors[\"ProDQN\"], alpha=0.3)\n",
                "\n",
                "plt.xticks(range(0, p[\"n_epochs\"], p[\"n_epochs\"] // 5))\n",
                "plt.xlabel(\"#Epochs\")\n",
                "plt.title(r\"$ J_i $\")\n",
                "plt.legend().set_zorder(1)\n",
                "plt.grid(zorder=0)\n",
                "\n",
                "_ = plt.savefig(f\"figures/{experiment_name}/J_{bellman_iterations_scope}.pdf\", bbox_inches='tight')"
            ]
        }
    ],
    "metadata": {
        "kernelspec": {
            "display_name": "env_cpu",
            "language": "python",
            "name": "python3"
        },
        "language_info": {
            "codemirror_mode": {
                "name": "ipython",
                "version": 3
            },
            "file_extension": ".py",
            "mimetype": "text/x-python",
            "name": "python",
            "nbconvert_exporter": "python",
            "pygments_lexer": "ipython3",
            "version": "3.10.12"
        },
        "orig_nbformat": 4,
        "vscode": {
            "interpreter": {
                "hash": "f7b3ea23bccf8de325ecc5c54dd25843e11406ef93630fe4e3c14e669cf54228"
            }
        }
    },
    "nbformat": 4,
    "nbformat_minor": 2
}
