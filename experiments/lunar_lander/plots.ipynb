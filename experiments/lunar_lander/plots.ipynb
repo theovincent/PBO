{
 "cells": [
  {
   "cell_type": "code",
   "execution_count": 6,
   "metadata": {},
   "outputs": [
    {
     "name": "stdout",
     "output_type": "stream",
     "text": [
      "The autoreload extension is already loaded. To reload it, use:\n",
      "  %reload_ext autoreload\n"
     ]
    }
   ],
   "source": [
    "%load_ext autoreload\n",
    "%autoreload 2\n",
    "\n",
    "import json\n",
    "import numpy as np\n",
    "from pbo.utils.confidence_interval import confidence_interval\n",
    "\n",
    "experiment_name = \"test\"\n",
    "show_dqn = False; show_pbo_linear = False; show_pbo_deep = False; show_idqn = True\n",
    "weighted_by_sample = True\n",
    "max_bellman_iterations = 5\n",
    "max_bellman_iterations_validation = max_bellman_iterations + 10\n",
    "seeds = range(1, 2)\n",
    "\n",
    "p = json.load(open(f\"figures/{experiment_name}/parameters.json\"))\n",
    "\n",
    "n_seeds = len(seeds)\n",
    "ticks_freq = 10"
   ]
  },
  {
   "cell_type": "markdown",
   "metadata": {},
   "source": [
    "### Extract data"
   ]
  },
  {
   "cell_type": "code",
   "execution_count": 7,
   "metadata": {},
   "outputs": [],
   "source": [
    "if show_dqn:\n",
    "    dqn_j = np.zeros((n_seeds, max_bellman_iterations + 1))\n",
    "\n",
    "    for idx_seed, seed in enumerate(seeds):\n",
    "        dqn_j[idx_seed] = np.load(f\"figures/{experiment_name}/DQN/{max_bellman_iterations}_J_{seed}.npy\")\n",
    "\n",
    "if show_pbo_linear:\n",
    "    pbo_linear_j = np.zeros((n_seeds, max_bellman_iterations_validation + 2))\n",
    "\n",
    "    for idx_seed, seed in enumerate(seeds):\n",
    "        pbo_linear_j[idx_seed] = np.load(f\"figures/{experiment_name}/PBO_linear/{max_bellman_iterations}_J_{seed}.npy\")\n",
    "\n",
    "if show_pbo_deep:\n",
    "    pbo_deep_j = np.zeros((n_seeds, max_bellman_iterations_validation + 1))\n",
    "\n",
    "    for idx_seed, seed in enumerate(seeds):\n",
    "        pbo_deep_j[idx_seed] = np.load(f\"figures/{experiment_name}/PBO_deep/{max_bellman_iterations}_J_{seed}.npy\")\n",
    "\n",
    "if show_idqn:\n",
    "    idqn_j = np.zeros((n_seeds, max_bellman_iterations + 1))\n",
    "\n",
    "    for idx_seed, seed in enumerate(seeds):\n",
    "        idqn_j[idx_seed] = np.load(f\"figures/{experiment_name}/IDQN/{max_bellman_iterations}_J_{seed}.npy\")"
   ]
  },
  {
   "cell_type": "markdown",
   "metadata": {},
   "source": [
    "### Distances with the optimal Q function"
   ]
  },
  {
   "cell_type": "code",
   "execution_count": 8,
   "metadata": {},
   "outputs": [],
   "source": [
    "if show_dqn:\n",
    "    dqn_j_mean = dqn_j.mean(axis=0)\n",
    "    dqn_j_std = dqn_j.std(axis=0)\n",
    "    dqn_j_confidence_interval = confidence_interval(dqn_j_mean, dqn_j_std, n_seeds)\n",
    "\n",
    "if show_pbo_linear:\n",
    "    pbo_linear_j_mean = pbo_linear_j.mean(axis=0)\n",
    "    pbo_linear_j_std = pbo_linear_j.std(axis=0)\n",
    "    pbo_linear_j_confidence_interval = confidence_interval(pbo_linear_j_mean, pbo_linear_j_std, n_seeds)\n",
    "\n",
    "if show_pbo_deep:\n",
    "    pbo_deep_j_mean = pbo_deep_j.mean(axis=0)\n",
    "    pbo_deep_j_std = pbo_deep_j.std(axis=0)\n",
    "    pbo_deep_j_confidence_interval = confidence_interval(pbo_deep_j_mean, pbo_deep_j_std, n_seeds)\n",
    "\n",
    "if show_idqn:\n",
    "    idqn_j_mean = idqn_j.mean(axis=0)\n",
    "    idqn_j_std = idqn_j.std(axis=0)\n",
    "    idqn_j_confidence_interval = confidence_interval(idqn_j_mean, idqn_j_std, n_seeds)"
   ]
  },
  {
   "cell_type": "code",
   "execution_count": 9,
   "metadata": {},
   "outputs": [
    {
     "data": {
      "image/png": "[encoded data removed]",
      "text/plain": [
       "<Figure size 640x480 with 1 Axes>"
      ]
     },
     "metadata": {},
     "output_type": "display_data"
    }
   ],
   "source": [
    "import matplotlib.pyplot as plt \n",
    "\n",
    "plt.rc(\"font\", size=15)\n",
    "plt.rc(\"lines\", linewidth=3)\n",
    "\n",
    "iterations = range(max_bellman_iterations + 1)\n",
    "iterations_validation = range(max_bellman_iterations_validation + 1)\n",
    "\n",
    "if show_pbo_linear:\n",
    "    plt.plot(iterations_validation, pbo_linear_j_mean[:-1], label=\"linear PBO\", color=\"blue\", zorder=7)\n",
    "    plt.fill_between(iterations_validation, pbo_linear_j_confidence_interval[0, :-1], pbo_linear_j_confidence_interval[1, :-1], color=\"blue\", alpha=0.3)\n",
    "\n",
    "    # plt.hlines(pbo_linear_q_mean[-1], 0, max_bellman_iterations_validation, color=\"blue\", linestyle=\"--\", label=\"linear PBO fixed point\", zorder=3)\n",
    "    # plt.fill_between(iterations_validation, pbo_linear_q_confidence_interval[0, -1], pbo_linear_q_confidence_interval[1, -1], color=\"blue\", alpha=0.3)\n",
    "\n",
    "if show_pbo_deep:\n",
    "    plt.plot(iterations_validation, pbo_deep_j_mean, label=\"neural PBO\", color=\"green\", zorder=8)\n",
    "    plt.fill_between(iterations_validation, pbo_deep_j_confidence_interval[0], pbo_deep_j_confidence_interval[1], color=\"green\", alpha=0.3)\n",
    "\n",
    "if show_idqn:\n",
    "    plt.plot(iterations, idqn_j_mean, label=\"IDQN\", color=\"yellow\", zorder=9)\n",
    "    plt.fill_between(iterations, idqn_j_confidence_interval[0], idqn_j_confidence_interval[1], color=\"yellow\", alpha=0.3)\n",
    "\n",
    "if show_dqn:\n",
    "    plt.plot(iterations, dqn_j_mean, label=\"DQN\", color=\"red\", zorder=6)\n",
    "    plt.fill_between(iterations, dqn_j_confidence_interval[0], dqn_j_confidence_interval[1], color=\"red\", alpha=0.3)\n",
    "\n",
    "plt.axvline(max_bellman_iterations, color=\"black\", linestyle=\"--\", zorder=2)\n",
    "plt.xticks(range(0, max_bellman_iterations_validation + 1, ticks_freq))\n",
    "plt.xlabel(\"#Iterations\")\n",
    "plt.title(r\"$ J_i $\")\n",
    "plt.legend().set_zorder(9)\n",
    "plt.grid(zorder=0)\n",
    "_ = plt.savefig(f\"figures/{experiment_name}/J_{max_bellman_iterations}.pdf\", bbox_inches='tight')"
   ]
  }
 ],
 "metadata": {
  "kernelspec": {
   "display_name": "env_cpu",
   "language": "python",
   "name": "python3"
  },
  "language_info": {
   "codemirror_mode": {
    "name": "ipython",
    "version": 3
   },
   "file_extension": ".py",
   "mimetype": "text/x-python",
   "name": "python",
   "nbconvert_exporter": "python",
   "pygments_lexer": "ipython3",
   "version": "3.8.10"
  },
  "orig_nbformat": 4,
  "vscode": {
   "interpreter": {
    "hash": "af5525a3273d35d601ae265c5d3634806dd61a1c4d085ae098611a6832982bdb"
   }
  }
 },
 "nbformat": 4,
 "nbformat_minor": 2
}
