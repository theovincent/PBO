{
 "cells": [
  {
   "cell_type": "code",
   "execution_count": null,
   "metadata": {},
   "outputs": [],
   "source": [
    "%load_ext autoreload\n",
    "%autoreload 2\n",
    "\n",
    "import json\n",
    "import numpy as np\n",
    "import matplotlib.pyplot as plt\n",
    "\n",
    "experiment_name = \"test_2\"\n",
    "show_dqn = False; show_prodqn = True\n",
    "bellman_iterations_scope = 7\n",
    "seed = 3\n",
    "p = json.load(open(f\"figures/{experiment_name}/parameters.json\"))"
   ]
  },
  {
   "cell_type": "code",
   "execution_count": null,
   "metadata": {},
   "outputs": [],
   "source": [
    "if show_dqn:\n",
    "    dqn_loss = np.load(f\"figures/{experiment_name}/DQN/L_{seed}.npy\")\n",
    "\n",
    "    for idx_epoch in range(0, p[\"n_epochs\"]):\n",
    "        plt.plot(dqn_loss[idx_epoch], label=f\"epoch {idx_epoch + 1}\")\n",
    "\n",
    "    plt.title(f\"DQN training loss\")\n",
    "    plt.legend()\n",
    "    _ = plt.show()\n"
   ]
  },
  {
   "cell_type": "code",
   "execution_count": null,
   "metadata": {},
   "outputs": [],
   "source": [
    "if show_prodqn:\n",
    "    prodqn_loss = np.load(f\"figures/{experiment_name}/ProDQN/{bellman_iterations_scope}_L_{seed}.npy\")\n",
    "\n",
    "    for idx_epoch in range(0, p[\"n_epochs\"]):\n",
    "        plt.plot(prodqn_loss[idx_epoch], label=f\"epoch {idx_epoch + 1}\")\n",
    "\n",
    "    plt.title(f\"ProDQN training loss\")\n",
    "    plt.legend()\n",
    "    _ = plt.show()"
   ]
  }
 ],
 "metadata": {
  "kernelspec": {
   "display_name": "Python 3.8.10 ('env_cpu': venv)",
   "language": "python",
   "name": "python3"
  },
  "language_info": {
   "codemirror_mode": {
    "name": "ipython",
    "version": 3
   },
   "file_extension": ".py",
   "mimetype": "text/x-python",
   "name": "python",
   "nbconvert_exporter": "python",
   "pygments_lexer": "ipython3",
   "version": "3.10.12"
  },
  "orig_nbformat": 4,
  "vscode": {
   "interpreter": {
    "hash": "af5525a3273d35d601ae265c5d3634806dd61a1c4d085ae098611a6832982bdb"
   }
  }
 },
 "nbformat": 4,
 "nbformat_minor": 2
}
