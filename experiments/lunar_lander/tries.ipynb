{
 "cells": [
  {
   "cell_type": "code",
   "execution_count": 10,
   "metadata": {},
   "outputs": [],
   "source": [
    "import jax.numpy as jnp\n",
    "import time\n",
    "import jax\n",
    "from pbo.sample_collection.replay_buffer import ReplayBuffer\n",
    "\n",
    "replay_buffer = ReplayBuffer(10)\n",
    "\n",
    "for i in range(43):\n",
    "    replay_buffer.add(jnp.array([0, 10]), jnp.array([i]), jnp.array([10 * i]), jnp.array([i, 10 * i, 100 * i]), jnp.array([True]))"
   ]
  },
  {
   "cell_type": "code",
   "execution_count": 13,
   "metadata": {},
   "outputs": [
    {
     "data": {
      "text/plain": [
       "DeviceArray([[  40,  400, 4000],\n",
       "             [  41,  410, 4100],\n",
       "             [  42,  420, 4200],\n",
       "             [  33,  330, 3300],\n",
       "             [  34,  340, 3400],\n",
       "             [  35,  350, 3500],\n",
       "             [  36,  360, 3600],\n",
       "             [  37,  370, 3700],\n",
       "             [  38,  380, 3800],\n",
       "             [  39,  390, 3900]], dtype=int32)"
      ]
     },
     "execution_count": 13,
     "metadata": {},
     "output_type": "execute_result"
    }
   ],
   "source": [
    "replay_buffer.next_states"
   ]
  }
 ],
 "metadata": {
  "kernelspec": {
   "display_name": "env_cpu",
   "language": "python",
   "name": "python3"
  },
  "language_info": {
   "codemirror_mode": {
    "name": "ipython",
    "version": 3
   },
   "file_extension": ".py",
   "mimetype": "text/x-python",
   "name": "python",
   "nbconvert_exporter": "python",
   "pygments_lexer": "ipython3",
   "version": "3.8.10"
  },
  "orig_nbformat": 4,
  "vscode": {
   "interpreter": {
    "hash": "af5525a3273d35d601ae265c5d3634806dd61a1c4d085ae098611a6832982bdb"
   }
  }
 },
 "nbformat": 4,
 "nbformat_minor": 2
}
