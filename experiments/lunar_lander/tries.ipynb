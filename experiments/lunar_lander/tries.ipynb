{
 "cells": [
  {
   "cell_type": "code",
   "execution_count": 6,
   "metadata": {},
   "outputs": [
    {
     "name": "stderr",
     "output_type": "stream",
     "text": [
      "/home/vincent/Darmstadt/PBO/env_cpu/lib/python3.8/site-packages/haiku/_src/data_structures.py:143: FutureWarning: jax.tree_flatten is deprecated, and will be removed in a future release. Use jax.tree_util.tree_flatten instead.\n",
      "  leaves, treedef = jax.tree_flatten(tree)\n",
      "/home/vincent/Darmstadt/PBO/env_cpu/lib/python3.8/site-packages/haiku/_src/data_structures.py:144: FutureWarning: jax.tree_unflatten is deprecated, and will be removed in a future release. Use jax.tree_util.tree_unflatten instead.\n",
      "  return jax.tree_unflatten(treedef, leaves)\n"
     ]
    }
   ],
   "source": [
    "import jax.numpy as jnp\n",
    "import time\n",
    "import json\n",
    "import jax\n",
    "from pbo.networks.learnable_q import FullyConnectedQ\n",
    "from experiments.lunar_lander.utils import define_environment\n",
    "from pbo.utils.params import load_params\n",
    "\n",
    "env = define_environment(jax.random.PRNGKey(0), 0.99)\n",
    "p = json.load(open(f\"figures/b15_q30_30_b500_s2_pbo2_2_2_fpbo15000_5_lr4/parameters.json\"))  # p for parameters\n",
    "\n",
    "q = FullyConnectedQ(\n",
    "    state_dim=8,\n",
    "    action_dim=1,\n",
    "    actions_on_max=env.actions_on_max,\n",
    "    gamma=p[\"gamma\"],\n",
    "    network_key=jax.random.PRNGKey(0),\n",
    "    layers_dimension=p[\"layers_dimension\"],\n",
    "    zero_initializer=True,\n",
    "    learning_rate={\n",
    "        \"first\": p[\"starting_lr_dqn\"],\n",
    "        \"last\": p[\"ending_lr_dqn\"],\n",
    "        \"duration\": 1 * p[\"fitting_updates_dqn\"],\n",
    "    },\n",
    ")\n"
   ]
  },
  {
   "cell_type": "code",
   "execution_count": 3,
   "metadata": {},
   "outputs": [],
   "source": [
    "from pbo.utils.params import load_params\n",
    "\n",
    "q_params = load_params(\n",
    "    f\"figures/b10_q30_30_b500_s2_pbo2_2_2_fpbo3000_25_lr5/IDQN/10_P_2\"\n",
    ")"
   ]
  },
  {
   "cell_type": "code",
   "execution_count": 8,
   "metadata": {},
   "outputs": [
    {
     "data": {
      "text/plain": [
       "{'b': DeviceArray([0.], dtype=float32),\n",
       " 'w': DeviceArray([[0.],\n",
       "              [0.],\n",
       "              [0.],\n",
       "              [0.],\n",
       "              [0.],\n",
       "              [0.],\n",
       "              [0.],\n",
       "              [0.],\n",
       "              [0.],\n",
       "              [0.],\n",
       "              [0.],\n",
       "              [0.],\n",
       "              [0.],\n",
       "              [0.],\n",
       "              [0.],\n",
       "              [0.],\n",
       "              [0.],\n",
       "              [0.],\n",
       "              [0.],\n",
       "              [0.],\n",
       "              [0.],\n",
       "              [0.],\n",
       "              [0.],\n",
       "              [0.],\n",
       "              [0.],\n",
       "              [0.],\n",
       "              [0.],\n",
       "              [0.],\n",
       "              [0.],\n",
       "              [0.]], dtype=float32)}"
      ]
     },
     "execution_count": 8,
     "metadata": {},
     "output_type": "execute_result"
    }
   ],
   "source": [
    "q_params[\"FullyConnectedNet/head_0_linear_last\"]"
   ]
  }
 ],
 "metadata": {
  "kernelspec": {
   "display_name": "env_cpu",
   "language": "python",
   "name": "python3"
  },
  "language_info": {
   "codemirror_mode": {
    "name": "ipython",
    "version": 3
   },
   "file_extension": ".py",
   "mimetype": "text/x-python",
   "name": "python",
   "nbconvert_exporter": "python",
   "pygments_lexer": "ipython3",
   "version": "3.8.10"
  },
  "orig_nbformat": 4,
  "vscode": {
   "interpreter": {
    "hash": "af5525a3273d35d601ae265c5d3634806dd61a1c4d085ae098611a6832982bdb"
   }
  }
 },
 "nbformat": 4,
 "nbformat_minor": 2
}
