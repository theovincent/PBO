{
 "cells": [
  {
   "cell_type": "code",
   "execution_count": 232,
   "metadata": {},
   "outputs": [
    {
     "name": "stdout",
     "output_type": "stream",
     "text": [
      "The autoreload extension is already loaded. To reload it, use:\n",
      "  %reload_ext autoreload\n",
      "/home/theo/PBO_project/PBO\n",
      "Transition: s' = As + Ba\n",
      "Transition: s' = -0.45554542541503906s + 0.5418910980224609a\n",
      "Reward: Qs² + Ra² + 2 Ssa\n",
      "Reward: -0.7250176668167114s² + -0.9326448440551758a² + -0.6272382736206055sa\n"
     ]
    }
   ],
   "source": [
    "%load_ext autoreload\n",
    "%autoreload 2\n",
    "\n",
    "%cd /home/theo/PBO_project/PBO/\n",
    "import warnings\n",
    "\n",
    "warnings.simplefilter(action=\"ignore\", category=FutureWarning)\n",
    "\n",
    "import json\n",
    "import jax\n",
    "import numpy as np\n",
    "from experiments.lqr.utils import define_environment\n",
    "\n",
    "experiment_name = \"test\"\n",
    "max_bellman_iterations = 4\n",
    "\n",
    "p = json.load(open(f\"experiments/lqr/figures/{experiment_name}/parameters.json\"))\n",
    "\n",
    "env = define_environment(jax.random.PRNGKey(p[\"env_seed\"]), p[\"max_discrete_state\"])\n",
    "g_mesh, i_mesh = np.meshgrid(np.linspace(-4 + env.optimal_weights[0], 4 + env.optimal_weights[0], 3), np.linspace(-4 + env.optimal_weights[1], 4 + env.optimal_weights[1], 4))\n",
    "weights = np.stack((g_mesh, i_mesh), axis=-1).reshape((-1, 2))"
   ]
  },
  {
   "attachments": {},
   "cell_type": "markdown",
   "metadata": {},
   "source": [
    "## Compute PBOs iteration"
   ]
  },
  {
   "cell_type": "code",
   "execution_count": 233,
   "metadata": {},
   "outputs": [
    {
     "ename": "FileNotFoundError",
     "evalue": "[Errno 2] No such file or directory: 'experiments/lqr/figures/test/PBO_linear/4_P_0'",
     "output_type": "error",
     "traceback": [
      "\u001b[0;31m---------------------------------------------------------------------------\u001b[0m",
      "\u001b[0;31mFileNotFoundError\u001b[0m                         Traceback (most recent call last)",
      "\u001b[1;32m/home/theo/PBO_project/PBO/experiments/lqr/vector_field.ipynb Cell 3\u001b[0m in \u001b[0;36m<cell line: 15>\u001b[0;34m()\u001b[0m\n\u001b[1;32m      <a href='vscode-notebook-cell:/home/theo/PBO_project/PBO/experiments/lqr/vector_field.ipynb#W6sZmlsZQ%3D%3D?line=4'>5</a>\u001b[0m q \u001b[39m=\u001b[39m define_q_vector_field(p[\u001b[39m\"\u001b[39m\u001b[39mn_actions_on_max\u001b[39m\u001b[39m\"\u001b[39m], p[\u001b[39m\"\u001b[39m\u001b[39mmax_action_on_max\u001b[39m\u001b[39m\"\u001b[39m], env\u001b[39m.\u001b[39moptimal_weights[\u001b[39m2\u001b[39m], jax\u001b[39m.\u001b[39mrandom\u001b[39m.\u001b[39mPRNGKey(\u001b[39m0\u001b[39m))\n\u001b[1;32m      <a href='vscode-notebook-cell:/home/theo/PBO_project/PBO/experiments/lqr/vector_field.ipynb#W6sZmlsZQ%3D%3D?line=6'>7</a>\u001b[0m pbo \u001b[39m=\u001b[39m LinearPBO(\n\u001b[1;32m      <a href='vscode-notebook-cell:/home/theo/PBO_project/PBO/experiments/lqr/vector_field.ipynb#W6sZmlsZQ%3D%3D?line=7'>8</a>\u001b[0m     q\u001b[39m=\u001b[39mq,\n\u001b[1;32m      <a href='vscode-notebook-cell:/home/theo/PBO_project/PBO/experiments/lqr/vector_field.ipynb#W6sZmlsZQ%3D%3D?line=8'>9</a>\u001b[0m     max_bellman_iterations\u001b[39m=\u001b[39m\u001b[39m0\u001b[39m,\n\u001b[0;32m   (...)\u001b[0m\n\u001b[1;32m     <a href='vscode-notebook-cell:/home/theo/PBO_project/PBO/experiments/lqr/vector_field.ipynb#W6sZmlsZQ%3D%3D?line=12'>13</a>\u001b[0m     initial_weight_std\u001b[39m=\u001b[39mp[\u001b[39m\"\u001b[39m\u001b[39minitial_weight_std\u001b[39m\u001b[39m\"\u001b[39m],\n\u001b[1;32m     <a href='vscode-notebook-cell:/home/theo/PBO_project/PBO/experiments/lqr/vector_field.ipynb#W6sZmlsZQ%3D%3D?line=13'>14</a>\u001b[0m )\n\u001b[0;32m---> <a href='vscode-notebook-cell:/home/theo/PBO_project/PBO/experiments/lqr/vector_field.ipynb#W6sZmlsZQ%3D%3D?line=14'>15</a>\u001b[0m pbo\u001b[39m.\u001b[39mparams \u001b[39m=\u001b[39m load_params(\n\u001b[1;32m     <a href='vscode-notebook-cell:/home/theo/PBO_project/PBO/experiments/lqr/vector_field.ipynb#W6sZmlsZQ%3D%3D?line=15'>16</a>\u001b[0m     \u001b[39mf\u001b[39;49m\u001b[39m\"\u001b[39;49m\u001b[39mexperiments/lqr/figures/\u001b[39;49m\u001b[39m{\u001b[39;49;00mexperiment_name\u001b[39m}\u001b[39;49;00m\u001b[39m/PBO_linear/\u001b[39;49m\u001b[39m{\u001b[39;49;00mmax_bellman_iterations\u001b[39m}\u001b[39;49;00m\u001b[39m_P_0\u001b[39;49m\u001b[39m\"\u001b[39;49m\n\u001b[1;32m     <a href='vscode-notebook-cell:/home/theo/PBO_project/PBO/experiments/lqr/vector_field.ipynb#W6sZmlsZQ%3D%3D?line=16'>17</a>\u001b[0m )\n\u001b[1;32m     <a href='vscode-notebook-cell:/home/theo/PBO_project/PBO/experiments/lqr/vector_field.ipynb#W6sZmlsZQ%3D%3D?line=18'>19</a>\u001b[0m pbo_iterated_weights \u001b[39m=\u001b[39m pbo(pbo\u001b[39m.\u001b[39mparams, weights)\n",
      "File \u001b[0;32m~/PBO_project/PBO/pbo/utils/params.py:13\u001b[0m, in \u001b[0;36mload_params\u001b[0;34m(path)\u001b[0m\n\u001b[1;32m     12\u001b[0m \u001b[39mdef\u001b[39;00m \u001b[39mload_params\u001b[39m(path: \u001b[39mstr\u001b[39m) \u001b[39m-\u001b[39m\u001b[39m>\u001b[39m hk\u001b[39m.\u001b[39mParams:\n\u001b[0;32m---> 13\u001b[0m     \u001b[39mwith\u001b[39;00m \u001b[39mopen\u001b[39;49m(path, \u001b[39m\"\u001b[39;49m\u001b[39mrb\u001b[39;49m\u001b[39m\"\u001b[39;49m) \u001b[39mas\u001b[39;00m fp:\n\u001b[1;32m     14\u001b[0m         params \u001b[39m=\u001b[39m pickle\u001b[39m.\u001b[39mload(fp)\n\u001b[1;32m     15\u001b[0m     \u001b[39mreturn\u001b[39;00m jax\u001b[39m.\u001b[39mdevice_put(params)\n",
      "\u001b[0;31mFileNotFoundError\u001b[0m: [Errno 2] No such file or directory: 'experiments/lqr/figures/test/PBO_linear/4_P_0'"
     ]
    }
   ],
   "source": [
    "from experiments.lqr.utils import define_q_vector_field\n",
    "from pbo.networks.learnable_pbo import LinearPBO\n",
    "from pbo.utils.params import load_params\n",
    "\n",
    "q = define_q_vector_field(p[\"n_actions_on_max\"], p[\"max_action_on_max\"], env.optimal_weights[2], jax.random.PRNGKey(0))\n",
    "\n",
    "pbo = LinearPBO(\n",
    "    q=q,\n",
    "    max_bellman_iterations=0,\n",
    "    add_infinity=True,\n",
    "    network_key=jax.random.PRNGKey(0),\n",
    "    learning_rate={\"first\": 0, \"last\": 0, \"duration\": 0},\n",
    "    initial_weight_std=p[\"initial_weight_std\"],\n",
    ")\n",
    "pbo.params = load_params(\n",
    "    f\"experiments/lqr/figures/{experiment_name}/PBO_linear/{max_bellman_iterations}_P_0\"\n",
    ")\n",
    "\n",
    "pbo_iterated_weights = pbo(pbo.params, weights)"
   ]
  },
  {
   "attachments": {},
   "cell_type": "markdown",
   "metadata": {},
   "source": [
    "## Compute optimal Bellman iteration"
   ]
  },
  {
   "cell_type": "code",
   "execution_count": 260,
   "metadata": {},
   "outputs": [],
   "source": [
    "from experiments.lqr.utils import define_data_loader_samples\n",
    "\n",
    "data_loader_samples = define_data_loader_samples(\n",
    "    p[\"n_discrete_states\"] * p[\"n_discrete_actions\"], experiment_name, p[\"batch_size_samples\"], jax.random.PRNGKey(0)\n",
    ")\n",
    "Z = np.zeros((p[\"n_discrete_states\"] * p[\"n_discrete_actions\"], 2))\n",
    "Z[:, 0] = -np.array(data_loader_samples.replay_buffer.states.flatten())\n",
    "Z[:, 1] = -2 * np.array(\n",
    "    data_loader_samples.replay_buffer.states.flatten() * data_loader_samples.replay_buffer.actions.flatten()\n",
    ")\n",
    "invert_Z_Z = np.linalg.inv(Z.T @ Z)\n",
    "\n",
    "J = np.zeros((p[\"n_discrete_states\"] * p[\"n_discrete_actions\"], 3))\n",
    "J[:, 0] = np.array(data_loader_samples.replay_buffer.states.flatten()) ** 2\n",
    "J[:, 1] = 2 * np.array(\n",
    "    data_loader_samples.replay_buffer.states.flatten() * data_loader_samples.replay_buffer.actions.flatten()\n",
    ")\n",
    "J[:, 2] = np.array(data_loader_samples.replay_buffer.actions.flatten()) ** 2\n",
    "\n",
    "D = np.array(\n",
    "    [\n",
    "        [env.A**2, -env.A**2 / env.optimal_weights[2]],\n",
    "        [env.A * env.B, - env.A * env.B / env.optimal_weights[2]],\n",
    "        [env.B**2, -env.B**2 / env.optimal_weights[2]],\n",
    "    ]\n",
    ")\n",
    "\n",
    "E = np.array([env.Q, env.S, env.R - env.optimal_weights[2]])\n",
    "projection = - invert_Z_Z @ Z.T @ J"
   ]
  },
  {
   "cell_type": "code",
   "execution_count": 261,
   "metadata": {},
   "outputs": [
    {
     "data": {
      "text/plain": [
       "array([[ 2.77555756e-17, -2.77555756e-17, -4.16333634e-17],\n",
       "       [ 3.46944695e-18,  1.00000000e+00,  0.00000000e+00]])"
      ]
     },
     "execution_count": 261,
     "metadata": {},
     "output_type": "execute_result"
    }
   ],
   "source": [
    "projection"
   ]
  },
  {
   "cell_type": "code",
   "execution_count": 258,
   "metadata": {},
   "outputs": [
    {
     "data": {
      "text/plain": [
       "array([[ 0.00000000e+00,  0.00000000e+00, -1.13686838e-13],\n",
       "       [ 0.00000000e+00, -1.98246411e+04,  0.00000000e+00]])"
      ]
     },
     "execution_count": 258,
     "metadata": {},
     "output_type": "execute_result"
    }
   ],
   "source": [
    "Z.T @ J"
   ]
  },
  {
   "cell_type": "code",
   "execution_count": 256,
   "metadata": {},
   "outputs": [
    {
     "name": "stdout",
     "output_type": "stream",
     "text": [
      "[[-0.91310928 -0.08987599]\n",
      " [-0.91310927 -0.089876  ]\n",
      " [        nan         nan]\n",
      " [-0.91310928 -0.08987599]\n",
      " [-0.91310928 -0.08987599]\n",
      " [-0.91310928 -0.08987599]\n",
      " [-0.91310928 -0.08987599]\n",
      " [-0.91310928 -0.08987599]\n",
      " [-0.91310928 -0.08987599]\n",
      " [-0.91310928 -0.08987599]\n",
      " [-0.91310928 -0.08987599]\n",
      " [        nan         nan]]\n"
     ]
    }
   ],
   "source": [
    "non_linear_weights = np.zeros_like(weights)\n",
    "non_linear_weights[:, 0] = weights[:, 0]\n",
    "non_linear_weights[:, 1] = weights[:, 1] ** 2\n",
    "\n",
    "bellman_iterated_weights = np.zeros_like(weights)\n",
    "\n",
    "for idx_weight, weight in enumerate(weights):\n",
    "    bellman_iterated_weights[idx_weight] = projection @ (D @ non_linear_weights[idx_weight] + E)\n",
    "    \n",
    "\n",
    "print(bellman_iterated_weights)"
   ]
  }
 ],
 "metadata": {
  "kernelspec": {
   "display_name": "env_cpu",
   "language": "python",
   "name": "python3"
  },
  "language_info": {
   "codemirror_mode": {
    "name": "ipython",
    "version": 3
   },
   "file_extension": ".py",
   "mimetype": "text/x-python",
   "name": "python",
   "nbconvert_exporter": "python",
   "pygments_lexer": "ipython3",
   "version": "3.8.10 (default, Nov 14 2022, 12:59:47) \n[GCC 9.4.0]"
  },
  "orig_nbformat": 4,
  "vscode": {
   "interpreter": {
    "hash": "c5e1dd74efeea9bbe6a89a2745247eb51ed1fa75333f9ef990571494c10ce625"
   }
  }
 },
 "nbformat": 4,
 "nbformat_minor": 2
}
