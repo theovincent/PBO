{
    "cells": [
        {
            "attachments": {},
            "cell_type": "markdown",
            "metadata": {},
            "source": [
                "# Optimal on LQR"
            ]
        },
        {
            "cell_type": "code",
            "execution_count": 2,
            "metadata": {
                "execution": {
                    "iopub.execute_input": "2022-09-19T14:07:49.474494Z",
                    "iopub.status.busy": "2022-09-19T14:07:49.474265Z",
                    "iopub.status.idle": "2022-09-19T14:07:50.101602Z",
                    "shell.execute_reply": "2022-09-19T14:07:50.101089Z"
                }
            },
            "outputs": [
                {
                    "name": "stdout",
                    "output_type": "stream",
                    "text": [
                        "The autoreload extension is already loaded. To reload it, use:\n",
                        "  %reload_ext autoreload\n",
                        "Transition: s' = As + Ba\n",
                        "Transition: s' = -0.45554542541503906s + 0.5418910980224609a\n",
                        "Reward: Qs² + Ra² + 2 Ssa\n",
                        "Reward: -0.7250176668167114s² + -0.9326448440551758a² + -0.6272382736206055sa\n"
                    ]
                }
            ],
            "source": [
                "%load_ext autoreload\n",
                "%autoreload 2\n",
                "\n",
                "import warnings\n",
                "warnings.simplefilter(action='ignore', category=FutureWarning)\n",
                "import jax\n",
                "import os\n",
                "import json\n",
                "import numpy as np\n",
                "from experiments.lqr.utils import define_environment\n",
                "\n",
                "p = json.load(open(\"parameters.json\"))  # p for parameters\n",
                "env = define_environment(jax.random.PRNGKey(p[\"env_seed\"]), p[\"max_discrete_state\"])\n",
                "env.optimal_weights\n",
                "\n",
                "if not os.path.exists(\"figures/data/optimal/\"):\n",
                "    os.makedirs(\"figures/data/optimal/\")\n",
                "np.save(f\"figures/data/optimal/W.npy\", env.optimal_weights)\n",
                "np.save(f\"figures/data/optimal/V.npy\", env.greedy_V(env.optimal_weights, p[\"q_dim\"]))"
            ]
        }
    ],
    "metadata": {
        "kernelspec": {
            "display_name": "env_cpu",
            "language": "python",
            "name": "python3"
        },
        "language_info": {
            "codemirror_mode": {
                "name": "ipython",
                "version": 3
            },
            "file_extension": ".py",
            "mimetype": "text/x-python",
            "name": "python",
            "nbconvert_exporter": "python",
            "pygments_lexer": "ipython3",
            "version": "3.8.13 (default, Mar 28 2022, 11:38:47) \n[GCC 7.5.0]"
        },
        "vscode": {
            "interpreter": {
                "hash": "f7b3ea23bccf8de325ecc5c54dd25843e11406ef93630fe4e3c14e669cf54228"
            }
        }
    },
    "nbformat": 4,
    "nbformat_minor": 2
}
