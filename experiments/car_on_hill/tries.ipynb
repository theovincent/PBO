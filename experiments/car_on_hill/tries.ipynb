{
 "cells": [
  {
   "cell_type": "code",
   "execution_count": 2,
   "metadata": {},
   "outputs": [],
   "source": [
    "import argparse\n",
    "\n",
    "\n",
    "\n",
    "parser = argparse.ArgumentParser(\"Train FQI on Car-On-Hill.\")\n",
    "parser.add_argument(\n",
    "    \"-s\",\n",
    "    \"--seed\",\n",
    "    help=\"Seed of the training.\",\n",
    "    type=int,\n",
    "    required=True,\n",
    ")\n",
    "args = parser.parse_args([\"-s\", \"1\"])\n",
    "# print(args[\"seed\"])"
   ]
  },
  {
   "cell_type": "code",
   "execution_count": 4,
   "metadata": {},
   "outputs": [
    {
     "data": {
      "text/plain": [
       "1"
      ]
     },
     "execution_count": 4,
     "metadata": {},
     "output_type": "execute_result"
    }
   ],
   "source": [
    "args.seed"
   ]
  }
 ],
 "metadata": {
  "kernelspec": {
   "display_name": "Python 3.8.10 ('env_gpu': venv)",
   "language": "python",
   "name": "python3"
  },
  "language_info": {
   "codemirror_mode": {
    "name": "ipython",
    "version": 3
   },
   "file_extension": ".py",
   "mimetype": "text/x-python",
   "name": "python",
   "nbconvert_exporter": "python",
   "pygments_lexer": "ipython3",
   "version": "3.8.10"
  },
  "orig_nbformat": 4,
  "vscode": {
   "interpreter": {
    "hash": "ab25a1b93454a4c459c4cc7389b07f26610faebbcb955b8654e03002939afa4a"
   }
  }
 },
 "nbformat": 4,
 "nbformat_minor": 2
}
