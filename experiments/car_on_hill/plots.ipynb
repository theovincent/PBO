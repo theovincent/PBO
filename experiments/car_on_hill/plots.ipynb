{
    "cells": [
        {
            "cell_type": "code",
            "execution_count": null,
            "metadata": {},
            "outputs": [],
            "source": [
                "%load_ext autoreload\n",
                "%autoreload 2\n",
                "\n",
                "import json\n",
                "import numpy as np\n",
                "from pbo.utils.confidence_interval import confidence_interval\n",
                "\n",
                "experiment_name = \"test\"\n",
                "show_fqi = True; show_profqi = True\n",
                "bellman_iterations_scope = 9\n",
                "additional_iterations = 10\n",
                "seeds = range(1, 2)\n",
                "\n",
                "p = json.load(open(f\"figures/{experiment_name}/parameters.json\"))"
            ]
        },
        {
            "cell_type": "markdown",
            "metadata": {},
            "source": [
                "### Extract data"
            ]
        },
        {
            "cell_type": "code",
            "execution_count": null,
            "metadata": {},
            "outputs": [],
            "source": [
                "if show_fqi:\n",
                "    fqi_q = np.zeros((len(seeds), bellman_iterations_scope + 1, p[\"n_states_x\"], p[\"n_states_v\"], 2))\n",
                "    fqi_v = np.zeros((len(seeds), bellman_iterations_scope + 1, p[\"n_states_x\"], p[\"n_states_v\"]))\n",
                "\n",
                "    for idx_seed, seed in enumerate(seeds):\n",
                "        fqi_q[idx_seed] = np.load(f\"figures/{experiment_name}/FQI/{bellman_iterations_scope}_Q_{seed}.npy\")\n",
                "        fqi_v[idx_seed] = np.load(f\"figures/{experiment_name}/FQI/{bellman_iterations_scope}_V_{seed}.npy\")\n",
                "\n",
                "optimal_q = np.load(f\"figures/data/optimal/Q.npy\")\n",
                "optimal_v = np.load(f\"figures/data/optimal/V.npy\")\n",
                "\n",
                "if show_profqi:\n",
                "    profqi_q = np.zeros((len(seeds), bellman_iterations_scope + additional_iterations + 1, p[\"n_states_x\"], p[\"n_states_v\"], 2))\n",
                "    profqi_v = np.zeros((len(seeds), bellman_iterations_scope + additional_iterations + 1, p[\"n_states_x\"], p[\"n_states_v\"]))\n",
                "\n",
                "    for idx_seed, seed in enumerate(seeds):\n",
                "        profqi_q[idx_seed] = np.load(f\"figures/{experiment_name}/ProFQI/{bellman_iterations_scope}_Q_{seed}.npy\")\n",
                "        profqi_v[idx_seed] = np.load(f\"figures/{experiment_name}/ProFQI/{bellman_iterations_scope}_V_{seed}.npy\")\n",
                "\n",
                "\n",
                "samples_mask = np.load(f\"figures/{experiment_name}/samples_count.npy\")\n",
                "samples_mask_q_format = np.repeat(samples_mask[:, :, None], 2, axis=-1)"
            ]
        },
        {
            "cell_type": "markdown",
            "metadata": {},
            "source": [
                "### Distances with the optimal Q function"
            ]
        },
        {
            "cell_type": "code",
            "execution_count": null,
            "metadata": {},
            "outputs": [],
            "source": [
                "if show_fqi:\n",
                "    fqi_q_mean = np.sqrt(np.mean(np.square(fqi_q - optimal_q) * samples_mask_q_format, axis=(2, 3, 4))).mean(axis=0)\n",
                "    fqi_q_std = np.sqrt(np.mean(np.square(fqi_q - optimal_q) * samples_mask_q_format, axis=(2, 3, 4))).std(axis=0)\n",
                "    fqi_q_confidence_interval = confidence_interval(fqi_q_mean, fqi_q_std, len(seeds))\n",
                "\n",
                "if show_profqi:\n",
                "    profqi_q_mean = np.sqrt(np.mean(np.square(profqi_q - optimal_q) * samples_mask_q_format, axis=(2, 3, 4))).mean(axis=0)\n",
                "    profqi_q_std = np.sqrt(np.mean(np.square(profqi_q - optimal_q) * samples_mask_q_format, axis=(2, 3, 4))).std(axis=0)\n",
                "    profqi_q_confidence_interval = confidence_interval(profqi_q_mean, profqi_q_std, len(seeds))"
            ]
        },
        {
            "cell_type": "code",
            "execution_count": null,
            "metadata": {},
            "outputs": [],
            "source": [
                "import matplotlib.pyplot as plt \n",
                "from experiments import colors\n",
                "\n",
                "plt.rc(\"font\", size=15)\n",
                "plt.rc(\"lines\", linewidth=3)\n",
                "\n",
                "iterations = range(bellman_iterations_scope + 1)\n",
                "iterations_validation = range(bellman_iterations_scope + additional_iterations + 1)\n",
                "\n",
                "if show_profqi:\n",
                "    plt.plot(iterations_validation, profqi_q_mean, label=\"ProFQI\", color=colors[\"ProFQI\"], zorder=7)\n",
                "    plt.fill_between(iterations_validation, profqi_q_confidence_interval[0], profqi_q_confidence_interval[1], color=colors[\"ProFQI\"], alpha=0.3)\n",
                "\n",
                "if show_fqi:\n",
                "    plt.plot(iterations, fqi_q_mean, label=\"FQI\", color=colors[\"FQI\"], zorder=6)\n",
                "    plt.fill_between(iterations, fqi_q_confidence_interval[0], fqi_q_confidence_interval[1], color=colors[\"FQI\"], alpha=0.3)\n",
                "\n",
                "plt.axvline(bellman_iterations_scope, color=\"black\", linestyle=\"--\", zorder=2)\n",
                "plt.xticks(range(0, bellman_iterations_scope + additional_iterations + 1, 3))\n",
                "plt.xlabel(\"#Iterations\")\n",
                "plt.title(r\"$|| Q^* - Q_i ||_2$\")\n",
                "plt.legend().set_zorder(9)\n",
                "plt.grid(zorder=0)\n",
                "_ = plt.savefig(f\"figures/{experiment_name}/distance_to_optimal_Q_{bellman_iterations_scope}.pdf\", bbox_inches='tight')"
            ]
        },
        {
            "cell_type": "markdown",
            "metadata": {},
            "source": [
                "### Visualization of the policies at iteration bellman_iterations_scope"
            ]
        },
        {
            "cell_type": "code",
            "execution_count": null,
            "metadata": {},
            "outputs": [],
            "source": [
                "from pbo.utils.two_dimesions_mesh import TwoDimesionsMesh\n",
                "\n",
                "max_pos = 1.0\n",
                "max_velocity = 3.0\n",
                "\n",
                "states_x = np.linspace(-max_pos, max_pos, p[\"n_states_x\"])\n",
                "states_v = np.linspace(-max_velocity, max_velocity, p[\"n_states_v\"])\n",
                "\n",
                "q_visu_mesh = TwoDimesionsMesh(states_x, states_v, sleeping_time=0, axis_equal=False, zero_centered=True)\n",
                "\n",
                "optimal_pi_weighted_average = (2 * ((optimal_q[:, :, 1] > optimal_q[:, :, 0])).astype(float) - 1) + (optimal_q[:, :, 1] == optimal_q[:, :, 0]).astype(float) / 2\n",
                "# optimal_pi_weighted_average *= samples_mask\n",
                "\n",
                "q_visu_mesh.set_values(optimal_pi_weighted_average)\n",
                "q_visu_mesh.show(\"\", xlabel=\"x\", ylabel=\"v\", plot=False, ticks_freq=2)\n",
                "_ = plt.savefig(f\"figures/{experiment_name}/optimal_pi.pdf\", bbox_inches='tight')"
            ]
        },
        {
            "cell_type": "code",
            "execution_count": null,
            "metadata": {},
            "outputs": [],
            "source": [
                "if show_fqi:\n",
                "    fqi_left_q = fqi_q[:, -1, :, :, 0]\n",
                "    fqi_right_q = fqi_q[:, -1, :, :, 1]\n",
                "    fqi_pi_weighted_average = (2 * (fqi_right_q > fqi_left_q).mean(axis=0) - 1)\n",
                "    # fqi_pi_weighted_average *= samples_mask\n",
                "\n",
                "    q_visu_mesh.set_values(fqi_pi_weighted_average)\n",
                "    q_visu_mesh.show(\"\", xlabel=\"x\", ylabel=\"v\", plot=False, ticks_freq=2)\n",
                "    _ = plt.savefig(f\"figures/{experiment_name}/fqi_pi_{bellman_iterations_scope}.pdf\", bbox_inches='tight')"
            ]
        },
        {
            "cell_type": "code",
            "execution_count": null,
            "metadata": {},
            "outputs": [],
            "source": [
                "if show_profqi:\n",
                "    profqi_left_q = profqi_q[:, bellman_iterations_scope, :, :, 0]\n",
                "    profqi_right_q = profqi_q[:, bellman_iterations_scope, :, :, 1]\n",
                "    profqi_pi_weighted_average = (2 * (profqi_right_q > profqi_left_q).mean(axis=0) - 1)\n",
                "    # profqi_pi_weighted_average *= samples_mask\n",
                "\n",
                "    q_visu_mesh.set_values(profqi_pi_weighted_average)\n",
                "    q_visu_mesh.show(\"\", xlabel=\"x\", ylabel=\"v\", plot=False, ticks_freq=2)\n",
                "    _ = plt.savefig(f\"figures/{experiment_name}/profqi_pi_{bellman_iterations_scope}.pdf\", bbox_inches='tight')"
            ]
        },
        {
            "cell_type": "markdown",
            "metadata": {},
            "source": [
                "### Distance to optimal value function"
            ]
        },
        {
            "cell_type": "code",
            "execution_count": null,
            "metadata": {},
            "outputs": [],
            "source": [
                "if show_fqi:\n",
                "    fqi_v_mean = np.sqrt(np.mean(np.square(fqi_v - optimal_v) * samples_mask, axis=(2, 3))).mean(axis=0)\n",
                "    fqi_v_std = np.sqrt(np.mean(np.square(fqi_v - optimal_v) * samples_mask, axis=(2, 3))).std(axis=0)\n",
                "    fqi_v_confidence_interval = confidence_interval(fqi_v_mean, fqi_v_std, len(seeds))\n",
                "\n",
                "if show_profqi:\n",
                "    profqi_v_mean = np.sqrt(np.mean(np.square(profqi_v - optimal_v) * samples_mask, axis=(2, 3))).mean(axis=0)\n",
                "    profqi_v_std = np.sqrt(np.mean(np.square(profqi_v - optimal_v) * samples_mask, axis=(2, 3))).std(axis=0)\n",
                "    profqi_v_confidence_interval = confidence_interval(profqi_v_mean, profqi_v_std, len(seeds))"
            ]
        },
        {
            "cell_type": "code",
            "execution_count": null,
            "metadata": {},
            "outputs": [],
            "source": [
                "import matplotlib.pyplot as plt \n",
                "from experiments import colors\n",
                "\n",
                "plt.rc(\"font\", size=15)\n",
                "plt.rc(\"lines\", linewidth=3)\n",
                "\n",
                "iterations = range(bellman_iterations_scope + 1)\n",
                "iterations_validation = range(bellman_iterations_scope + additional_iterations + 1)\n",
                "\n",
                "if show_profqi:\n",
                "    plt.plot(iterations_validation, profqi_v_mean, label=\"ProFQI\", color=\"green\", zorder=7)\n",
                "    plt.fill_between(iterations_validation, profqi_v_confidence_interval[0], profqi_v_confidence_interval[1], color=\"blue\", alpha=0.3)\n",
                "\n",
                "if show_fqi:\n",
                "    plt.plot(iterations, fqi_v_mean, label=\"FQI\", color=colors[\"FQI\"], zorder=6)\n",
                "    plt.fill_between(iterations, fqi_v_confidence_interval[0], fqi_v_confidence_interval[1], color=colors[\"ProFQI\"], alpha=0.3)\n",
                "\n",
                "plt.axvline(bellman_iterations_scope, color=\"black\", linestyle=\"--\", zorder=2)\n",
                "plt.xticks(range(0, bellman_iterations_scope + additional_iterations + 1, 3))\n",
                "plt.xlabel(\"#Iterations\")\n",
                "plt.title(r\"$|| V^* - V^{\\pi_i} ||_2$\")\n",
                "plt.legend().set_zorder(9)\n",
                "plt.grid(zorder=0)\n",
                "_ = plt.savefig(f\"figures/{experiment_name}/distance_to_optimal_V_{bellman_iterations_scope}.pdf\", bbox_inches='tight')"
            ]
        },
        {
            "cell_type": "markdown",
            "metadata": {},
            "source": [
                "### Value functions"
            ]
        },
        {
            "cell_type": "code",
            "execution_count": null,
            "metadata": {},
            "outputs": [],
            "source": [
                "if show_fqi:\n",
                "    fqi_v_mean_performance = (fqi_v * samples_mask).mean(axis=(2, 3)).mean(axis=0)\n",
                "    fqi_v_std_performance = (fqi_v * samples_mask).mean(axis=(2, 3)).std(axis=0)\n",
                "    fqi_v_confidence_interval_performance = confidence_interval(fqi_v_mean_performance, fqi_v_std_performance, len(seeds))\n",
                "\n",
                "if show_profqi:\n",
                "    profqi_v_mean_performance = (profqi_v * samples_mask).mean(axis=(2, 3)).mean(axis=0)\n",
                "    profqi_v_std_performance = (profqi_v * samples_mask).mean(axis=(2, 3)).std(axis=0)\n",
                "    profqi_v_confidence_interval_performance = confidence_interval(profqi_v_mean_performance, profqi_v_std_performance, len(seeds))\n",
                "\n",
                "optimal_v_performance = (optimal_v * samples_mask).mean()"
            ]
        },
        {
            "cell_type": "code",
            "execution_count": null,
            "metadata": {},
            "outputs": [],
            "source": [
                "import matplotlib.pyplot as plt \n",
                "\n",
                "iterations = range(bellman_iterations_scope + 1)\n",
                "iterations_validation = range(bellman_iterations_scope + additional_iterations + 1)\n",
                "\n",
                "plt.hlines(optimal_v_performance, 0, bellman_iterations_scope + additional_iterations, color=\"black\", linestyle=\"--\", label=\"Optimal\")\n",
                "\n",
                "if show_profqi:\n",
                "    plt.plot(iterations_validation, profqi_v_mean_performance, label=\"ProFQI\", color=colors[\"ProFQI\"])\n",
                "    plt.fill_between(iterations_validation, profqi_v_confidence_interval_performance[0], profqi_v_confidence_interval_performance[1], color=colors[\"ProFQI\"], alpha=0.3)\n",
                "\n",
                "if show_fqi:\n",
                "    plt.plot(iterations, fqi_v_mean_performance, label=\"FQI\", color=colors[\"FQI\"])\n",
                "    plt.fill_between(iterations, fqi_v_confidence_interval_performance[0], fqi_v_confidence_interval_performance[1], color=colors[\"FQI\"], alpha=0.3)\n",
                "\n",
                "plt.axvline(bellman_iterations_scope, color=\"black\", linestyle=\"--\", zorder=2)\n",
                "plt.xticks(range(0, bellman_iterations_scope + additional_iterations + 1, 3))\n",
                "plt.xlabel(\"#Iterations\")\n",
                "plt.title(r\"$ Ji $\")\n",
                "plt.legend()\n",
                "plt.grid(zorder=0)\n",
                "_ = plt.savefig(f\"figures/{experiment_name}/V_{bellman_iterations_scope}.pdf\", bbox_inches='tight')"
            ]
        },
        {
            "cell_type": "markdown",
            "metadata": {},
            "source": [
                "### Visualization of the last value functions"
            ]
        },
        {
            "cell_type": "code",
            "execution_count": null,
            "metadata": {},
            "outputs": [],
            "source": [
                "from pbo.utils.two_dimesions_mesh import TwoDimesionsMesh\n",
                "\n",
                "max_pos = 1.0\n",
                "max_velocity = 3.0\n",
                "\n",
                "states_x = np.linspace(-max_pos, max_pos, p[\"n_states_x\"])\n",
                "states_v = np.linspace(-max_velocity, max_velocity, p[\"n_states_v\"])\n",
                "\n",
                "q_visu_mesh = TwoDimesionsMesh(states_x, states_v, sleeping_time=0, axis_equal=False, zero_centered=True)\n",
                "\n",
                "optimal_v_weighted_average = optimal_v * samples_mask\n",
                "\n",
                "q_visu_mesh.set_values(optimal_v_weighted_average)\n",
                "q_visu_mesh.show(r\"$V^{\\pi^*}, \\mathbb{E}\\left[ V^{\\pi^*} \\right] =$\" + str(np.round(np.mean(optimal_v_weighted_average), 2)), xlabel=\"x\", ylabel=\"v\", plot=False)\n",
                "_ = plt.savefig(f\"figures/{experiment_name}/optimal_V_{bellman_iterations_scope}.pdf\", bbox_inches='tight')"
            ]
        },
        {
            "cell_type": "code",
            "execution_count": null,
            "metadata": {},
            "outputs": [],
            "source": [
                "if show_fqi:\n",
                "    fqi_v_weighted_average = fqi_v[:, -1].mean(axis=0) * samples_mask\n",
                "\n",
                "    q_visu_mesh.set_values(fqi_v_weighted_average)\n",
                "    q_visu_mesh.show(r\"$V^{\\pi_{fqi}}, \\mathbb{E}\\left[ V^{\\pi_{fqi}} \\right] =$\" + f\"{np.round(np.mean(fqi_v_weighted_average), 4)}\", xlabel=\"x\", ylabel=\"v\", plot=False)\n",
                "    _ = plt.savefig(f\"figures/{experiment_name}/fqi_V_{bellman_iterations_scope}.pdf\", bbox_inches='tight')"
            ]
        },
        {
            "cell_type": "code",
            "execution_count": null,
            "metadata": {},
            "outputs": [],
            "source": [
                "if show_profqi:\n",
                "    profqi_v_weighted_average = profqi_v[:, bellman_iterations_scope].mean(axis=0) * samples_mask\n",
                "\n",
                "    q_visu_mesh.set_values(profqi_v_weighted_average)\n",
                "    q_visu_mesh.show(r\"$V^{\\pi_{pbo}}, \\mathbb{E}\\left[ V^{\\pi_{pbo\\_linear}} \\right] =$\" + str(np.round(np.mean(profqi_v_weighted_average), 4)), xlabel=\"x\", ylabel=\"v\", plot=False)\n",
                "    _ = plt.savefig(f\"figures/{experiment_name}/profqi_V_{bellman_iterations_scope}.pdf\", bbox_inches='tight')"
            ]
        }
    ],
    "metadata": {
        "kernelspec": {
            "display_name": "env_cpu",
            "language": "python",
            "name": "python3"
        },
        "language_info": {
            "codemirror_mode": {
                "name": "ipython",
                "version": 3
            },
            "file_extension": ".py",
            "mimetype": "text/x-python",
            "name": "python",
            "nbconvert_exporter": "python",
            "pygments_lexer": "ipython3",
            "version": "3.10.12"
        },
        "orig_nbformat": 4,
        "vscode": {
            "interpreter": {
                "hash": "f7b3ea23bccf8de325ecc5c54dd25843e11406ef93630fe4e3c14e669cf54228"
            }
        }
    },
    "nbformat": 4,
    "nbformat_minor": 2
}
