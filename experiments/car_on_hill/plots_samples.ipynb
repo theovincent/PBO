{
    "cells": [
        {
            "cell_type": "code",
            "execution_count": null,
            "metadata": {},
            "outputs": [],
            "source": [
                "%load_ext autoreload\n",
                "%autoreload 2\n",
                "\n",
                "import json\n",
                "import numpy as np\n",
                "from pbo.environments.car_on_hill import CarOnHillEnv\n",
                "from pbo.utils.two_dimesions_mesh import TwoDimesionsMesh\n",
                "import matplotlib.pyplot as plt \n",
                "\n",
                "experiment_name = \"test\"\n",
                "\n",
                "p = json.load(open(f\"figures/{experiment_name}/parameters.json\"))\n",
                "\n",
                "env = CarOnHillEnv(p[\"gamma\"])\n",
                "\n",
                "states_x = np.linspace(-env.max_position, env.max_position, p[\"n_states_x\"])\n",
                "states_v = np.linspace(-env.max_velocity, env.max_velocity, p[\"n_states_v\"])\n",
                "\n",
                "samples_visu_mesh = TwoDimesionsMesh(states_x, states_v, sleeping_time=0, axis_equal=False, zero_centered=False)\n",
                "\n",
                "samples_count = np.load(f\"figures/{experiment_name}/samples_count.npy\")\n",
                "samples_count[samples_count == 0] = None\n",
                "\n",
                "samples_visu_mesh.set_values(samples_count)\n",
                "samples_visu_mesh.show(\"\", xlabel=\"x\", ylabel=\"v\", plot=False, ticks_freq=2)\n",
                "_ = plt.savefig(f\"figures/{experiment_name}/sample_repartition.pdf\", bbox_inches='tight')"
            ]
        },
        {
            "cell_type": "code",
            "execution_count": null,
            "metadata": {},
            "outputs": [],
            "source": [
                "rewards_count = np.load(f\"figures/{experiment_name}/rewards_count.npy\")\n",
                "rewards_count[rewards_count == 0] = None\n",
                "\n",
                "samples_visu_mesh.set_values(rewards_count)\n",
                "samples_visu_mesh.show(\"\", xlabel=\"x\", ylabel=\"v\", plot=False, ticks_freq=2)\n",
                "_ = plt.savefig(f\"figures/{experiment_name}/reward_repartition.pdf\", bbox_inches='tight')"
            ]
        }
    ],
    "metadata": {
        "kernelspec": {
            "display_name": "env_cpu",
            "language": "python",
            "name": "python3"
        },
        "language_info": {
            "codemirror_mode": {
                "name": "ipython",
                "version": 3
            },
            "file_extension": ".py",
            "mimetype": "text/x-python",
            "name": "python",
            "nbconvert_exporter": "python",
            "pygments_lexer": "ipython3",
            "version": "3.10.12"
        },
        "orig_nbformat": 4,
        "vscode": {
            "interpreter": {
                "hash": "f7b3ea23bccf8de325ecc5c54dd25843e11406ef93630fe4e3c14e669cf54228"
            }
        }
    },
    "nbformat": 4,
    "nbformat_minor": 2
}
