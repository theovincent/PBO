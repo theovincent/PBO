{
 "cells": [
  {
   "cell_type": "code",
   "execution_count": 79,
   "metadata": {},
   "outputs": [
    {
     "name": "stdout",
     "output_type": "stream",
     "text": [
      "The autoreload extension is already loaded. To reload it, use:\n",
      "  %reload_ext autoreload\n"
     ]
    }
   ],
   "source": [
    "%load_ext autoreload\n",
    "%autoreload 2\n",
    "\n",
    "import warnings\n",
    "\n",
    "warnings.simplefilter(action=\"ignore\", category=FutureWarning)\n",
    "\n",
    "import json\n",
    "import numpy as np\n",
    "from pbo.utils.params import load_params\n",
    "from pbo.utils.confidence_interval import confidence_interval\n",
    "from pbo.sample_collection.replay_buffer import ReplayBuffer\n",
    "from pbo.sample_collection.dataloader import SampleDataLoader\n",
    "\n",
    "\n",
    "experiment_name = \"big_q\"\n",
    "show_fqi = True; show_pbo_linear = False; show_pbo_deep = True; show_ifqi = True\n",
    "max_bellman_iterations = 9\n",
    "max_bellman_iterations_validation = max_bellman_iterations + 10\n",
    "seeds = range(1, 8)\n",
    "\n",
    "p = json.load(open(f\"figures/{experiment_name}/parameters.json\"))\n",
    "\n",
    "n_states_x = p[\"n_states_x\"]\n",
    "n_states_v = p[\"n_states_v\"]\n",
    "n_seeds = len(seeds)\n",
    "ticks_freq = 3 if max_bellman_iterations == 6 else 5"
   ]
  },
  {
   "cell_type": "markdown",
   "metadata": {},
   "source": [
    "### Extract data"
   ]
  },
  {
   "cell_type": "code",
   "execution_count": 80,
   "metadata": {},
   "outputs": [],
   "source": [
    "if show_fqi:\n",
    "    fqi = np.zeros((n_seeds, max_bellman_iterations + 1, n_states_x, n_states_v, 2))\n",
    "    fqi_params = []\n",
    "\n",
    "    for idx_seed, seed in enumerate(seeds):\n",
    "        fqi[idx_seed] = np.load(f\"figures/{experiment_name}/FQI/{max_bellman_iterations}_Q_{seed}.npy\")\n",
    "        fqi_params.append(load_params(f\"figures/{experiment_name}/FQI/{max_bellman_iterations}_P_{seed}\"))\n",
    "\n",
    "if show_pbo_linear:\n",
    "    pbo_linear = np.zeros((n_seeds, max_bellman_iterations_validation + 2, n_states_x, n_states_v, 2))\n",
    "    pbo_linear_params = []\n",
    "\n",
    "    for idx_seed, seed in enumerate(seeds):\n",
    "        pbo_linear[idx_seed] = np.load(f\"figures/{experiment_name}/PBO_linear/{max_bellman_iterations}_Q_{seed}.npy\")\n",
    "        pbo_linear_params.append(load_params(f\"figures/{experiment_name}/PBO_linear/{max_bellman_iterations}_P_{seed}\"))\n",
    "\n",
    "if show_pbo_deep:\n",
    "    pbo_deep = np.zeros((n_seeds, max_bellman_iterations_validation + 1, n_states_x, n_states_v, 2))\n",
    "    pbo_deep_params = []\n",
    "\n",
    "    for idx_seed, seed in enumerate(seeds):\n",
    "        pbo_deep[idx_seed] = np.load(f\"figures/{experiment_name}/PBO_deep/{max_bellman_iterations}_Q_{seed}.npy\")\n",
    "        pbo_deep_params.append(load_params(f\"figures/{experiment_name}/PBO_deep/{max_bellman_iterations}_P_{seed}\"))\n",
    "\n",
    "if show_ifqi:\n",
    "    ifqi = np.zeros((n_seeds, max_bellman_iterations + 1, n_states_x, n_states_v, 2))\n",
    "    ifqi_params = []\n",
    "\n",
    "    for idx_seed, seed in enumerate(seeds):\n",
    "        ifqi[idx_seed] = np.load(f\"figures/{experiment_name}/IFQI/{max_bellman_iterations}_Q_{seed}.npy\")\n",
    "        ifqi_params.append(load_params(f\"figures/{experiment_name}/IFQI/{max_bellman_iterations}_P_{seed}\"))\n",
    "\n",
    "replay_buffer = ReplayBuffer()\n",
    "replay_buffer.load(f\"figures/{experiment_name}/replay_buffer.npz\")\n",
    "data_loader_samples = SampleDataLoader(replay_buffer, len(replay_buffer), None)"
   ]
  },
  {
   "cell_type": "markdown",
   "metadata": {},
   "source": [
    "### Compute approximation errors"
   ]
  },
  {
   "cell_type": "code",
   "execution_count": 81,
   "metadata": {},
   "outputs": [],
   "source": [
    "import jax \n",
    "\n",
    "from experiments.car_on_hill.utils import define_environment\n",
    "from pbo.networks.learnable_q import FullyConnectedQ\n",
    "\n",
    "env, _, _, _, _ = define_environment(p[\"gamma\"], p[\"n_states_x\"], p[\"n_states_v\"])\n",
    "q = FullyConnectedQ(\n",
    "    state_dim=2,\n",
    "    action_dim=1,\n",
    "    actions_on_max=env.actions_on_max,\n",
    "    gamma=p[\"gamma\"],\n",
    "    network_key=jax.random.PRNGKey(0),\n",
    "    layers_dimension=p[\"layers_dimension\"],\n",
    "    zero_initializer=True,\n",
    "    learning_rate={\n",
    "        \"first\": p[\"starting_lr_fqi\"],\n",
    "        \"last\": p[\"ending_lr_fqi\"],\n",
    "        \"duration\": p[\"fitting_steps_fqi\"] * len(replay_buffer) // p[\"batch_size_samples\"],\n",
    "    },\n",
    ")"
   ]
  },
  {
   "cell_type": "code",
   "execution_count": 82,
   "metadata": {},
   "outputs": [],
   "source": [
    "if show_fqi:\n",
    "    fqi_approximation_errors = np.ones((n_seeds, max_bellman_iterations)) * np.nan\n",
    "\n",
    "    for idx_seed in range(n_seeds):\n",
    "        for iteration in range(1, max_bellman_iterations + 1):\n",
    "            fqi_approximation_errors[idx_seed, iteration - 1] = q.loss(fqi_params[idx_seed][f\"{iteration}\"], fqi_params[idx_seed][f\"{iteration - 1}\"], data_loader_samples[0])"
   ]
  },
  {
   "cell_type": "code",
   "execution_count": 83,
   "metadata": {},
   "outputs": [],
   "source": [
    "if show_pbo_linear:\n",
    "    from pbo.networks.learnable_pbo import LinearPBO\n",
    "\n",
    "\n",
    "    pbo_linear = LinearPBO(\n",
    "                q=q,\n",
    "                max_bellman_iterations=max_bellman_iterations,\n",
    "                add_infinity=False,\n",
    "                network_key=jax.random.PRNGKey(0),\n",
    "                learning_rate={\n",
    "                    \"first\": p[\"starting_lr_pbo\"],\n",
    "                    \"last\": p[\"ending_lr_pbo\"],\n",
    "                    \"duration\": p[\"training_steps\"]\n",
    "                    * p[\"fitting_steps_pbo\"]\n",
    "                    * len(replay_buffer)\n",
    "                    // p[\"batch_size_samples\"],\n",
    "                },\n",
    "                initial_weight_std=p[\"initial_weight_std\"],\n",
    "            )\n",
    "    pbo_linear_approximation_errors = np.ones((n_seeds, max_bellman_iterations)) * np.nan\n",
    "\n",
    "    for idx_seed in range(n_seeds):\n",
    "        pbo_linear.params = pbo_linear_params[idx_seed]\n",
    "        q_weights_iteration_minus_1 = q.to_weights(fqi_params[idx_seed][\"0\"])\n",
    "        q_weights_iteration = pbo_linear(pbo_linear.params, q_weights_iteration_minus_1.reshape((1, -1)))[0]\n",
    "\n",
    "        for iteration in range(1, max_bellman_iterations + 1):\n",
    "            pbo_linear_approximation_errors[idx_seed, iteration - 1] = q.loss(q.to_params(q_weights_iteration), q.to_params(q_weights_iteration_minus_1), data_loader_samples[0])\n",
    "\n",
    "            q_weights_iteration_minus_1 = q_weights_iteration\n",
    "            q_weights_iteration = pbo_linear(pbo_linear.params, q_weights_iteration_minus_1.reshape((1, -1)))[0]"
   ]
  },
  {
   "cell_type": "code",
   "execution_count": 84,
   "metadata": {},
   "outputs": [],
   "source": [
    "if show_pbo_deep:\n",
    "    from pbo.networks.learnable_pbo import DeepPBO\n",
    "\n",
    "\n",
    "    pbo_deep = DeepPBO(\n",
    "                    q=q,\n",
    "                    max_bellman_iterations=max_bellman_iterations,\n",
    "                    network_key=jax.random.PRNGKey(0),\n",
    "                    layers_dimension=p[\"pbo_layers_dimension\"],\n",
    "                    learning_rate={\"first\": 0, \"last\": 0, \"duration\": 0},\n",
    "                    initial_weight_std=0.1,\n",
    "                )\n",
    "    pbo_deep_approximation_errors = np.ones((n_seeds, max_bellman_iterations)) * np.nan\n",
    "\n",
    "    for idx_seed in range(n_seeds):\n",
    "        pbo_deep.params = pbo_deep_params[idx_seed]\n",
    "        q_weights_iteration_minus_1 = q.to_weights(fqi_params[idx_seed][\"0\"])\n",
    "        q_weights_iteration = pbo_deep(pbo_deep.params, q_weights_iteration_minus_1.reshape((1, -1)))[0]\n",
    "\n",
    "        for iteration in range(1, max_bellman_iterations + 1):\n",
    "            pbo_deep_approximation_errors[idx_seed, iteration - 1] = q.loss(q.to_params(q_weights_iteration), q.to_params(q_weights_iteration_minus_1), data_loader_samples[0])\n",
    "\n",
    "            q_weights_iteration_minus_1 = q_weights_iteration\n",
    "            q_weights_iteration = pbo_deep(pbo_deep.params, q_weights_iteration_minus_1.reshape((1, -1)))[0]"
   ]
  },
  {
   "cell_type": "code",
   "execution_count": 85,
   "metadata": {},
   "outputs": [],
   "source": [
    "if show_ifqi:\n",
    "    from pbo.networks.learnable_multi_head_q import FullyConnectedMultiHeadQ\n",
    "\n",
    "\n",
    "    multi_head = FullyConnectedMultiHeadQ(\n",
    "            n_heads=max_bellman_iterations + 1,\n",
    "            state_dim=2,\n",
    "            action_dim=1,\n",
    "            actions_on_max=env.actions_on_max,\n",
    "            gamma=p[\"gamma\"],\n",
    "            network_key=jax.random.PRNGKey(0),\n",
    "            layers_dimension=p[\"layers_dimension\"],\n",
    "            zero_initializer=True,\n",
    "            learning_rate={\n",
    "                \"first\": p[\"starting_lr_pbo\"],\n",
    "                \"last\": p[\"ending_lr_pbo\"],\n",
    "                \"duration\": p[\"training_steps\"] * p[\"fitting_steps_pbo\"] * len(replay_buffer) // p[\"batch_size_samples\"],\n",
    "            },\n",
    "        )\n",
    "    ifqi_approximation_errors = np.ones((n_seeds, max_bellman_iterations)) * np.nan\n",
    "\n",
    "    for idx_seed in range(n_seeds):\n",
    "        target = multi_head.compute_target(ifqi_params[idx_seed], data_loader_samples[0])\n",
    "\n",
    "        ifqi_approximation_errors[idx_seed] = np.square(multi_head(ifqi_params[idx_seed], data_loader_samples[0][\"state\"], data_loader_samples[0][\"action\"])[:, 1:] - target[:, :-1]).mean(axis=0)"
   ]
  },
  {
   "cell_type": "markdown",
   "metadata": {},
   "source": [
    "### Plot approximation erros"
   ]
  },
  {
   "cell_type": "code",
   "execution_count": 86,
   "metadata": {},
   "outputs": [],
   "source": [
    "if show_fqi:\n",
    "    fqi_mean = fqi_approximation_errors.mean(axis=0)\n",
    "    fqi_std = fqi_approximation_errors.std(axis=0)\n",
    "    fqi_confidence_interval = confidence_interval(fqi_mean, fqi_std, n_seeds)\n",
    "\n",
    "if show_pbo_linear:\n",
    "    pbo_linear_mean = pbo_linear_approximation_errors.mean(axis=0)\n",
    "    pbo_linear_std = pbo_linear_approximation_errors.std(axis=0)\n",
    "    pbo_linear_confidence_interval = confidence_interval(pbo_linear_mean, pbo_linear_std, n_seeds)\n",
    "\n",
    "if show_pbo_deep:\n",
    "    pbo_deep_mean = pbo_deep_approximation_errors.mean(axis=0)\n",
    "    pbo_deep_std = pbo_deep_approximation_errors.std(axis=0)\n",
    "    pbo_deep_confidence_interval = confidence_interval(pbo_deep_mean, pbo_deep_std, n_seeds)\n",
    "\n",
    "if show_ifqi:\n",
    "    ifqi_mean = ifqi_approximation_errors.mean(axis=0)\n",
    "    ifqi_std = ifqi_approximation_errors.std(axis=0)\n",
    "    ifqi_confidence_interval = confidence_interval(ifqi_mean, ifqi_std, n_seeds)\n"
   ]
  },
  {
   "cell_type": "code",
   "execution_count": 87,
   "metadata": {},
   "outputs": [
    {
     "data": {
      "image/png": "[encoded data removed]",
      "text/plain": [
       "<Figure size 640x480 with 1 Axes>"
      ]
     },
     "metadata": {},
     "output_type": "display_data"
    }
   ],
   "source": [
    "import matplotlib.pyplot as plt \n",
    "\n",
    "plt.rc(\"font\", size=15)\n",
    "plt.rc(\"lines\", linewidth=3)\n",
    "\n",
    "iterations = range(1, max_bellman_iterations + 1)\n",
    "\n",
    "if show_pbo_linear:\n",
    "    plt.plot(iterations, pbo_linear_mean, label=\"linear pbo\", color=\"blue\", zorder=7)\n",
    "    plt.fill_between(iterations, pbo_linear_confidence_interval[0], pbo_linear_confidence_interval[1], color=\"blue\", alpha=0.3)\n",
    "\n",
    "if show_pbo_deep:\n",
    "    plt.plot(iterations, pbo_deep_mean, label=\"neural pbo\", color=\"green\", zorder=8)\n",
    "    plt.fill_between(iterations, pbo_deep_confidence_interval[0], pbo_deep_confidence_interval[1], color=\"green\", alpha=0.3)\n",
    "\n",
    "if show_fqi:\n",
    "    plt.plot(iterations, fqi_mean, label=\"FQI\", color=\"red\", zorder=6)\n",
    "    plt.fill_between(iterations, fqi_confidence_interval[0], fqi_confidence_interval[1], color=\"red\", alpha=0.3)\n",
    "\n",
    "if show_ifqi:\n",
    "    plt.plot(iterations, ifqi_mean, label=\"IFQI\", color=\"yellow\", zorder=6)\n",
    "    plt.fill_between(iterations, ifqi_confidence_interval[0], ifqi_confidence_interval[1], color=\"yellow\", alpha=0.3)\n",
    "\n",
    "\n",
    "# plt.axvline(max_bellman_iterations, color=\"black\", linestyle=\"--\", zorder=2)\n",
    "plt.xticks(range(1, max_bellman_iterations + 1, ticks_freq))\n",
    "plt.xlabel(\"#Iterations\")\n",
    "plt.title(r\"$|| \\Gamma^*Q_{i-1} - Q_i ||_2^2$\")\n",
    "plt.legend().set_zorder(9)\n",
    "plt.grid(zorder=0)\n",
    "_ = plt.savefig(f\"figures/{experiment_name}/approximation_errors_{max_bellman_iterations}.pdf\", bbox_inches='tight')"
   ]
  }
 ],
 "metadata": {
  "kernelspec": {
   "display_name": "Python 3.8.10 ('env_gpu': venv)",
   "language": "python",
   "name": "python3"
  },
  "language_info": {
   "codemirror_mode": {
    "name": "ipython",
    "version": 3
   },
   "file_extension": ".py",
   "mimetype": "text/x-python",
   "name": "python",
   "nbconvert_exporter": "python",
   "pygments_lexer": "ipython3",
   "version": "3.8.10"
  },
  "orig_nbformat": 4,
  "vscode": {
   "interpreter": {
    "hash": "ab25a1b93454a4c459c4cc7389b07f26610faebbcb955b8654e03002939afa4a"
   }
  }
 },
 "nbformat": 4,
 "nbformat_minor": 2
}
