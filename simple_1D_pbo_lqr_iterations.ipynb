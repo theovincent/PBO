{
    "cells": [
        {
            "cell_type": "markdown",
            "metadata": {},
            "source": [
                "# PBO learnt on several iterations and several weigths\n",
                "\n",
                "## Define paramters"
            ]
        },
        {
            "cell_type": "code",
            "execution_count": 1,
            "metadata": {},
            "outputs": [
                {
                    "name": "stderr",
                    "output_type": "stream",
                    "text": [
                        "WARNING:absl:No GPU/TPU found, falling back to CPU. (Set TF_CPP_MIN_LOG_LEVEL=0 and rerun for more info.)\n"
                    ]
                }
            ],
            "source": [
                "%load_ext autoreload\n",
                "%autoreload 2\n",
                "\n",
                "import jax\n",
                "\n",
                "# keys\n",
                "seed = 1\n",
                "key = jax.random.PRNGKey(seed)\n",
                "env_key, key = jax.random.split(key)\n",
                "shuffle_key, q_network_key, random_weights_key, pbo_network_key = jax.random.split(key, 4)\n",
                "\n",
                "# Box over states and actions\n",
                "max_discrete_state = 5\n",
                "n_discrete_states = 7\n",
                "max_discrete_action = 5\n",
                "n_discrete_actions = 7\n",
                "\n",
                "# Weights collection\n",
                "n_weights = 1\n",
                "\n",
                "# Q function\n",
                "action_range_on_max = max_discrete_action\n",
                "n_actions_on_max = 5000\n",
                "\n",
                "# PBO training\n",
                "tolerance = 0.1\n",
                "max_iterations = 500\n",
                "batch_size_samples = 20\n",
                "batch_size_weights = n_weights\n",
                "learning_rate = {\"first\": 0.01, \"last\": 0.0005, \"duration\": max_iterations}\n",
                "max_bellman_iterations = 1\n",
                "add_infinity = False\n",
                "\n",
                "# Visualisation\n",
                "plot_freq = 100\n",
                "weights_range = 1\n",
                "sleeping_time = 0"
            ]
        },
        {
            "cell_type": "markdown",
            "metadata": {},
            "source": [
                "## Define environment"
            ]
        },
        {
            "cell_type": "code",
            "execution_count": 2,
            "metadata": {},
            "outputs": [
                {
                    "name": "stdout",
                    "output_type": "stream",
                    "text": [
                        "Transition: s' = As + Ba\n",
                        "Transition: s' = -0.10490131378173828s + -0.6472394466400146a\n",
                        "Reward: Qs² + Ra² + 2 Ssa\n",
                        "Reward: -0.21946656703948975s² + -0.19231724739074707a² + -0.11510777473449707sa\n"
                    ]
                }
            ],
            "source": [
                "import numpy as np\n",
                "\n",
                "from pbo.environment.linear_quadratic import LinearQuadraticEnv\n",
                "\n",
                "\n",
                "discrete_states = np.linspace(-max_discrete_state, max_discrete_state, n_discrete_states)\n",
                "state_box_half_size = max_discrete_state / n_discrete_states\n",
                "discrete_states_boxes = np.linspace(\n",
                "    -max_discrete_state - state_box_half_size, max_discrete_state + state_box_half_size, n_discrete_states + 1\n",
                ")\n",
                "\n",
                "discrete_actions = np.linspace(-max_discrete_action, max_discrete_action, n_discrete_actions)\n",
                "action_box_half_size = max_discrete_action / n_discrete_actions\n",
                "discrete_actions_boxes = np.linspace(\n",
                "    -max_discrete_action - action_box_half_size, max_discrete_action + action_box_half_size, n_discrete_actions + 1\n",
                ")\n",
                "\n",
                "env = LinearQuadraticEnv(env_key, max_init_state=max_discrete_state)"
            ]
        },
        {
            "cell_type": "markdown",
            "metadata": {},
            "source": [
                "## Collect samples"
            ]
        },
        {
            "cell_type": "markdown",
            "metadata": {},
            "source": [
                "### Samples on the mesh"
            ]
        },
        {
            "cell_type": "code",
            "execution_count": 3,
            "metadata": {},
            "outputs": [],
            "source": [
                "import jax.numpy as jnp\n",
                "\n",
                "from pbo.sample_collection.replay_buffer import ReplayBuffer\n",
                "\n",
                "\n",
                "n_samples = n_discrete_states * n_discrete_actions\n",
                "replay_buffer = ReplayBuffer()\n",
                "\n",
                "for state in discrete_states:\n",
                "    for action in discrete_actions:\n",
                "        env.reset(jnp.array([state]))\n",
                "        next_state, reward, _, _ = env.step(jnp.array([action]))\n",
                "\n",
                "        replay_buffer.add(jnp.array([state]), jnp.array([action]), reward, next_state)\n",
                "\n",
                "replay_buffer.cast_to_jax_array()"
            ]
        },
        {
            "cell_type": "markdown",
            "metadata": {},
            "source": [
                "### Visualize samples"
            ]
        },
        {
            "cell_type": "code",
            "execution_count": 4,
            "metadata": {},
            "outputs": [
                {
                    "data": {
                        "image/png": "[encoded data removed]",
                        "text/plain": [
                            "<Figure size 432x288 with 2 Axes>"
                        ]
                    },
                    "metadata": {
                        "needs_background": "light"
                    },
                    "output_type": "display_data"
                }
            ],
            "source": [
                "from pbo.sample_collection.count_samples import count_samples\n",
                "from pbo.utils.state_action_mesh import StateActionMesh\n",
                "\n",
                "\n",
                "samples_count, n_outside_boxes = count_samples(replay_buffer, discrete_states_boxes, discrete_actions_boxes)\n",
                "samples_visu_mesh = StateActionMesh(discrete_states, discrete_actions, sleeping_time=0)\n",
                "\n",
                "samples_visu_mesh.set_values(samples_count, zeros_to_nan=True)\n",
                "samples_visu_mesh.show(\n",
                "    f\"Samples repartition, \\n{int(100 * n_outside_boxes / n_samples)}% are outside the box.\"\n",
                ")\n"
            ]
        },
        {
            "cell_type": "markdown",
            "metadata": {},
            "source": [
                "## Optimal Q function"
            ]
        },
        {
            "cell_type": "code",
            "execution_count": 5,
            "metadata": {},
            "outputs": [
                {
                    "data": {
                        "image/png": "[encoded data removed]",
                        "text/plain": [
                            "<Figure size 432x288 with 2 Axes>"
                        ]
                    },
                    "metadata": {
                        "needs_background": "light"
                    },
                    "output_type": "display_data"
                }
            ],
            "source": [
                "optimal_q = env.optimal_Q_mesh(discrete_states, discrete_actions)\n",
                "\n",
                "q_visu_mesh = StateActionMesh(discrete_states, discrete_actions, sleeping_time)\n",
                "\n",
                "q_visu_mesh.set_values(optimal_q)\n",
                "q_visu_mesh.show(\"Optimal q function\")"
            ]
        },
        {
            "cell_type": "markdown",
            "metadata": {},
            "source": [
                "## Build q network"
            ]
        },
        {
            "cell_type": "code",
            "execution_count": 6,
            "metadata": {},
            "outputs": [],
            "source": [
                "from pbo.networks.q import Theoretical1DQ\n",
                "\n",
                "\n",
                "q = Theoretical1DQ(\n",
                "    network_key=q_network_key,\n",
                "    random_weights_range=None,\n",
                "    random_weights_key=random_weights_key,\n",
                "    action_range_on_max=action_range_on_max,\n",
                "    n_actions_on_max=n_actions_on_max,\n",
                "    A=env.A[0, 0], B=env.B[0, 0], R=env.R[0, 0], S=env.S[0, 0], P=env.P[0, 0]\n",
                ")"
            ]
        },
        {
            "cell_type": "markdown",
            "metadata": {},
            "source": [
                "## Collect weights"
            ]
        },
        {
            "cell_type": "markdown",
            "metadata": {},
            "source": [
                "### Random init weights"
            ]
        },
        {
            "cell_type": "code",
            "execution_count": 7,
            "metadata": {},
            "outputs": [],
            "source": [
                "from pbo.weights_collection.weights_buffer import WeightsBuffer\n",
                "\n",
                "\n",
                "weights_buffer = WeightsBuffer()\n",
                "\n",
                "while len(weights_buffer) < n_weights:\n",
                "    weights_buffer.add(q.random_init_weights())\n",
                "\n",
                "weights_buffer.cast_to_jax_array()"
            ]
        },
        {
            "cell_type": "markdown",
            "metadata": {},
            "source": [
                "## Build the PBOs network and the dataloaders"
            ]
        },
        {
            "cell_type": "code",
            "execution_count": 8,
            "metadata": {},
            "outputs": [],
            "source": [
                "from pbo.networks.pbo import LinearPBO, Optimal1DPBO\n",
                "from pbo.sample_collection.dataloader import SampleDataLoader\n",
                "from pbo.weights_collection.dataloader import WeightsDataLoader\n",
                "\n",
                "\n",
                "data_loader_samples = SampleDataLoader(replay_buffer, batch_size_samples, shuffle_key)\n",
                "\n",
                "data_loader_weights = WeightsDataLoader(weights_buffer, batch_size_weights, shuffle_key)\n",
                "\n",
                "pbo = LinearPBO(pbo_network_key, q, learning_rate, max_bellman_iterations, add_infinity)\n",
                "pbo_optimal = Optimal1DPBO(env.A[0, 0], env.B[0, 0], env.Q[0, 0], env.R[0, 0], env.S[0, 0], env.P[0, 0])"
            ]
        },
        {
            "cell_type": "markdown",
            "metadata": {},
            "source": [
                "## Train PBO on several iteration"
            ]
        },
        {
            "cell_type": "code",
            "execution_count": 9,
            "metadata": {},
            "outputs": [
                {
                    "data": {
                        "image/png": "[encoded data removed]",
                        "text/plain": [
                            "<Figure size 360x360 with 1 Axes>"
                        ]
                    },
                    "metadata": {
                        "needs_background": "light"
                    },
                    "output_type": "display_data"
                },
                {
                    "data": {
                        "image/png": "[encoded data removed]",
                        "text/plain": [
                            "<Figure size 432x288 with 2 Axes>"
                        ]
                    },
                    "metadata": {
                        "needs_background": "light"
                    },
                    "output_type": "display_data"
                }
            ],
            "source": [
                "from pbo.utils.operator_viewer import OperatorViewer\n",
                "from pbo.utils.shared_axis_plot import shared_axis_plot\n",
                "\n",
                "\n",
                "# For visualization\n",
                "weights_iterator = OperatorViewer(pbo.network.apply, pbo_optimal, data_loader_weights.weights, weights_range, 0)\n",
                "full_batch = {\n",
                "    \"state\": replay_buffer.states,\n",
                "    \"action\": replay_buffer.actions,\n",
                "    \"reward\": replay_buffer.rewards,\n",
                "    \"next_state\": replay_buffer.next_states,\n",
                "}\n",
                "l1_losses = []\n",
                "l1_losses_on_weights = []\n",
                "\n",
                "iteration = 0\n",
                "l1_loss = float(\"inf\")\n",
                "bellman_iterations = jnp.arange(max_bellman_iterations + 1)\n",
                "\n",
                "while l1_loss > tolerance and iteration < max_iterations:\n",
                "    cumulative_l2_loss = 0\n",
                "    \n",
                "    data_loader_weights.shuffle()\n",
                "    for batch_weights in data_loader_weights:\n",
                "        data_loader_samples.shuffle()\n",
                "        for batch_samples in data_loader_samples:\n",
                "            pbo.params, pbo.optimizer_state, l2_loss = pbo.learn_on_batch(pbo.params, pbo.optimizer_state, batch_weights, batch_samples)            \n",
                "            cumulative_l2_loss += l2_loss\n",
                "\n",
                "    # Visualization\n",
                "    if iteration % plot_freq == 0:  \n",
                "        l1_loss = pbo.l1_loss(pbo.params, data_loader_weights.weights, full_batch)\n",
                "        l1_loss_on_weights = jnp.abs(pbo.network.apply(pbo.params, data_loader_weights.weights) - pbo_optimal(data_loader_weights.weights)).mean()\n",
                "\n",
                "        weights_iterator.update_pbo_iterations(pbo.params)\n",
                "        weights_iterator.show(\n",
                "            f\"Operator at iteration: {iteration}, \\nl1 loss: {str(np.round(l1_loss, 2))}, tolerance: {tolerance}, l1 loss on weights: {str(np.round(l1_loss_on_weights, 2))}\"\n",
                "        )\n",
                "\n",
                "        l1_losses.append(l1_loss)\n",
                "        l1_losses_on_weights.append(l1_loss_on_weights)\n",
                "\n",
                "    iteration += 1\n",
                "\n",
                "\n",
                "shared_axis_plot(l1_losses, l1_losses_on_weights, f\"every {plot_freq} iteration\", \"l1 loss\", \"l1 loss on weights\")"
            ]
        },
        {
            "cell_type": "code",
            "execution_count": 10,
            "metadata": {},
            "outputs": [
                {
                    "data": {
                        "image/png": "[encoded data removed]",
                        "text/plain": [
                            "<Figure size 432x288 with 2 Axes>"
                        ]
                    },
                    "metadata": {
                        "needs_background": "light"
                    },
                    "output_type": "display_data"
                }
            ],
            "source": [
                "batch_iterated_weights = pbo_optimal(pbo_optimal(pbo_optimal(data_loader_weights.weights)))\n",
                "\n",
                "q_values = jax.vmap(\n",
                "    lambda weights: q.network.apply(q.to_params(weights), full_batch[\"state\"], full_batch[\"action\"])\n",
                ")(batch_iterated_weights).reshape((n_discrete_states, n_discrete_actions))\n",
                "\n",
                "q_visu_mesh.set_values(q_values - optimal_q)\n",
                "q_visu_mesh.show(\"Optimal q function\")"
            ]
        },
        {
            "cell_type": "code",
            "execution_count": 51,
            "metadata": {},
            "outputs": [
                {
                    "name": "stdout",
                    "output_type": "stream",
                    "text": [
                        "Weight [-2.22]\n",
                        "optimal\n",
                        "13.823935\n",
                        "\n",
                        "optimal\n",
                        "4.586624\n",
                        "\n",
                        "\n",
                        "optimal\n",
                        "0.064064026\n",
                        "\n",
                        "optimal\n",
                        "4.7788157\n",
                        "\n",
                        "optimal\n",
                        "14.144255\n",
                        "\n",
                        "optimal\n",
                        "25.450657\n",
                        "\n",
                        "optimal\n",
                        "12.316416\n",
                        "\n",
                        "optimal\n",
                        "3.8328633\n",
                        "\n",
                        "\n",
                        "optimal\n",
                        "0.8178239\n",
                        "\n",
                        "optimal\n",
                        "6.2863355\n",
                        "\n",
                        "optimal\n",
                        "16.405535\n",
                        "\n",
                        "optimal\n",
                        "23.189375\n",
                        "\n",
                        "optimal\n",
                        "10.808895\n",
                        "\n",
                        "optimal\n",
                        "3.079104\n",
                        "\n",
                        "\n",
                        "optimal\n",
                        "1.5715839\n",
                        "\n",
                        "optimal\n",
                        "7.7938547\n",
                        "\n",
                        "optimal\n",
                        "18.666815\n",
                        "\n",
                        "optimal\n",
                        "20.928095\n",
                        "\n",
                        "optimal\n",
                        "9.301374\n",
                        "\n",
                        "optimal\n",
                        "2.3253436\n",
                        "\n",
                        "\n",
                        "optimal\n",
                        "2.3253436\n",
                        "\n",
                        "optimal\n",
                        "9.301374\n",
                        "\n",
                        "optimal\n",
                        "20.928095\n",
                        "\n",
                        "optimal\n",
                        "18.666815\n",
                        "\n",
                        "optimal\n",
                        "7.7938547\n",
                        "\n",
                        "optimal\n",
                        "1.5715839\n",
                        "\n",
                        "\n",
                        "optimal\n",
                        "3.079104\n",
                        "\n",
                        "optimal\n",
                        "10.808895\n",
                        "\n",
                        "optimal\n",
                        "23.189375\n",
                        "\n",
                        "optimal\n",
                        "16.405535\n",
                        "\n",
                        "optimal\n",
                        "6.2863355\n",
                        "\n",
                        "optimal\n",
                        "0.8178239\n",
                        "\n",
                        "\n",
                        "optimal\n",
                        "3.8328633\n",
                        "\n",
                        "optimal\n",
                        "12.316416\n",
                        "\n",
                        "optimal\n",
                        "25.450657\n",
                        "\n",
                        "optimal\n",
                        "14.144255\n",
                        "\n",
                        "optimal\n",
                        "4.7788157\n",
                        "\n",
                        "optimal\n",
                        "0.064064026\n",
                        "\n",
                        "\n",
                        "optimal\n",
                        "4.586624\n",
                        "\n",
                        "optimal\n",
                        "13.823935\n",
                        "\n",
                        "optimal\n",
                        "27.711935\n",
                        "\n"
                    ]
                }
            ],
            "source": [
                "weight = jnp.array([-2.22])\n",
                "I = env.S + env.A * env.B * env.P \n",
                "M = env.R + env.B**2 * env.P \n",
                "\n",
                "print('Weight', weight)\n",
                "\n",
                "for i in range(1, n_samples):\n",
                "    state = replay_buffer.states[i: i + 1]\n",
                "    # print('State', replay_buffer.states[i: i + 1])\n",
                "    action = replay_buffer.actions[i: i + 1]\n",
                "    # print('Action', replay_buffer.actions[i: i + 1])\n",
                "    reward = replay_buffer.rewards[i, i + 1]\n",
                "    # print('Reward', replay_buffer.rewards[i: i + 1])\n",
                "    next_state = replay_buffer.next_states[i: i + 1]\n",
                "    # print('Next state', next_state)\n",
                "    # print('true arg max', - next_state * I / M)\n",
                "    # print()\n",
                "\n",
                "    target = reward  + q.max_value(q.to_params(weight), next_state)\n",
                "    # print('target', target)\n",
                "\n",
                "    optimal_target = q.network.apply(q.to_params(pbo_optimal(weight.reshape((-1, 1)))), state, action)\n",
                "    # print(\"optimal target\", optimal_target)\n",
                "\n",
                "    true_target = reward + q.network.apply(q.to_params(weight), next_state, - next_state * I / M)\n",
                "    # print(\"true target\", true_target)\n",
                "\n",
                "    if np.abs(target - true_target)[0, 0] > 1e-5:\n",
                "        print(\"target\")\n",
                "        print(np.abs(target - true_target)[0, 0])\n",
                "\n",
                "    if np.abs(optimal_target - true_target)[0, 0] > 1e-5:\n",
                "        print(\"optimal\")\n",
                "        print(np.abs(optimal_target - true_target)[0, 0])\n",
                "    print()"
            ]
        },
        {
            "cell_type": "code",
            "execution_count": 12,
            "metadata": {},
            "outputs": [
                {
                    "data": {
                        "image/png": "[encoded data removed]",
                        "text/plain": [
                            "<Figure size 432x288 with 2 Axes>"
                        ]
                    },
                    "metadata": {
                        "needs_background": "light"
                    },
                    "output_type": "display_data"
                }
            ],
            "source": [
                "true_bellman_q = pbo.compute_target(jnp.array([[0.0000000103]]), full_batch).reshape((n_discrete_states, n_discrete_actions))\n",
                "\n",
                "q_visu_mesh.set_values(true_bellman_q)\n",
                "q_visu_mesh.show(\"Optimal q function\")"
            ]
        },
        {
            "cell_type": "code",
            "execution_count": 13,
            "metadata": {},
            "outputs": [
                {
                    "ename": "NameError",
                    "evalue": "name 'sample' is not defined",
                    "output_type": "error",
                    "traceback": [
                        "\u001b[0;31m---------------------------------------------------------------------------\u001b[0m",
                        "\u001b[0;31mNameError\u001b[0m                                 Traceback (most recent call last)",
                        "\u001b[1;32m/home/vincent/Darmstadt/PBO/simple_1D_pbo_lqr_iterations.ipynb Cell 24'\u001b[0m in \u001b[0;36m<cell line: 1>\u001b[0;34m()\u001b[0m\n\u001b[0;32m----> <a href='vscode-notebook-cell:/home/vincent/Darmstadt/PBO/simple_1D_pbo_lqr_iterations.ipynb#ch0000041?line=0'>1</a>\u001b[0m batch_targets \u001b[39m=\u001b[39m pbo\u001b[39m.\u001b[39mcompute_target(batch_iterated_weights, sample)\n\u001b[1;32m      <a href='vscode-notebook-cell:/home/vincent/Darmstadt/PBO/simple_1D_pbo_lqr_iterations.ipynb#ch0000041?line=2'>3</a>\u001b[0m batch_iterated_weights \u001b[39m=\u001b[39m \u001b[39mself\u001b[39m(batch_iterated_weights)\n\u001b[1;32m      <a href='vscode-notebook-cell:/home/vincent/Darmstadt/PBO/simple_1D_pbo_lqr_iterations.ipynb#ch0000041?line=4'>5</a>\u001b[0m q_values \u001b[39m=\u001b[39m jax\u001b[39m.\u001b[39mvmap(\n\u001b[1;32m      <a href='vscode-notebook-cell:/home/vincent/Darmstadt/PBO/simple_1D_pbo_lqr_iterations.ipynb#ch0000041?line=5'>6</a>\u001b[0m     \u001b[39mlambda\u001b[39;00m weights: q\u001b[39m.\u001b[39mnetwork\u001b[39m.\u001b[39mapply(q\u001b[39m.\u001b[39mto_params(weights), sample[\u001b[39m\"\u001b[39m\u001b[39mstate\u001b[39m\u001b[39m\"\u001b[39m], sample[\u001b[39m\"\u001b[39m\u001b[39maction\u001b[39m\u001b[39m\"\u001b[39m])\n\u001b[1;32m      <a href='vscode-notebook-cell:/home/vincent/Darmstadt/PBO/simple_1D_pbo_lqr_iterations.ipynb#ch0000041?line=6'>7</a>\u001b[0m )(batch_iterated_weights)\n",
                        "\u001b[0;31mNameError\u001b[0m: name 'sample' is not defined"
                    ]
                }
            ],
            "source": [
                "            batch_targets = pbo.compute_target(batch_iterated_weights, sample)\n",
                "\n",
                "            batch_iterated_weights = self(batch_iterated_weights)\n",
                "\n",
                "            q_values = jax.vmap(\n",
                "                lambda weights: q.network.apply(q.to_params(weights), sample[\"state\"], sample[\"action\"])\n",
                "            )(batch_iterated_weights)\n",
                "\n",
                "            loss += jnp.abs(q_values - batch_targets).mean()"
            ]
        },
        {
            "cell_type": "markdown",
            "metadata": {},
            "source": [
                "## Performances of the operators"
            ]
        },
        {
            "cell_type": "code",
            "execution_count": null,
            "metadata": {},
            "outputs": [],
            "source": [
                "l1_loss_optimal = pbo_optimal.l1_loss(pbo, q, data_loader_weights.weights, full_batch, max_bellman_iterations, add_infinity)\n",
                "\n",
                "print(\"l1 loss\", l1_loss)\n",
                "print(\"l1 loss optimal\", l1_loss_optimal)"
            ]
        },
        {
            "cell_type": "code",
            "execution_count": null,
            "metadata": {},
            "outputs": [],
            "source": [
                "q_thin = Theoretical1DQ(\n",
                "    network_key=q_network_key,\n",
                "    random_weights_range=None,\n",
                "    random_weights_key=random_weights_key,\n",
                "    action_range_on_max=10 * action_range_on_max,\n",
                "    n_actions_on_max=1000 * n_actions_on_max,\n",
                "    A=env.A[0, 0], B=env.B[0, 0], R=env.R[0, 0], S=env.S[0, 0], P=env.P[0, 0]\n",
                ")\n",
                "\n",
                "pbo_thin = LinearPBO(pbo_network_key, q_thin, learning_rate, max_bellman_iterations, add_infinity)\n",
                "\n",
                "l1_loss_optimal_thin = pbo_optimal.l1_loss(pbo_thin, q_thin, data_loader_weights.weights, full_batch, max_bellman_iterations, add_infinity)\n",
                "\n",
                "print(\"l1 loss optimal thin scale\", l1_loss_optimal_thin)"
            ]
        },
        {
            "cell_type": "markdown",
            "metadata": {},
            "source": [
                "## Visualize iterations on weights"
            ]
        },
        {
            "cell_type": "code",
            "execution_count": null,
            "metadata": {},
            "outputs": [],
            "source": [
                "import numpy as np\n",
                "import matplotlib.pyplot as plt\n",
                "\n",
                "def add_points(ax, points, size, label, color):\n",
                "    xdata = points[:, 0]\n",
                "    ydata = points[:, 1]\n",
                "    zdata = points[:, 2]\n",
                "    ax.scatter3D(xdata, ydata, zdata, s=size, label=label, color=color)\n",
                "\n",
                "fig = plt.figure(figsize=(7, 7))\n",
                "ax = fig.add_subplot(111, projection='3d')\n",
                "sizes = [1, 5, 300, 1000]\n",
                "colors = [\"black\", \"b\", \"red\", \"g\"]\n",
                "iterated_weights = weights_buffer.weights\n",
                "\n",
                "for iteration in range(4):\n",
                "    add_points(ax, iterated_weights, sizes[iteration], f\"iteration {iteration}\", colors[iteration])\n",
                "    iterated_weights = pbo_optimal(iterated_weights)\n",
                "\n",
                "ax.set_xlabel('k')\n",
                "ax.set_xticklabels([])\n",
                "ax.set_xticks([])\n",
                "\n",
                "ax.set_ylabel('i')\n",
                "ax.set_yticklabels([])\n",
                "ax.set_yticks([])\n",
                "\n",
                "ax.set_zlabel('m')\n",
                "ax.set_zlim(-2, 5)\n",
                "\n",
                "ax.legend()\n",
                "ax.view_init(0, 0)\n",
                "fig.tight_layout()\n",
                "plt.show()"
            ]
        },
        {
            "cell_type": "code",
            "execution_count": null,
            "metadata": {},
            "outputs": [],
            "source": [
                "fig = plt.figure(figsize=(7, 7))\n",
                "ax = plt.axes(projection='3d')\n",
                "\n",
                "iterated_weights = weights_buffer.weights\n",
                "\n",
                "for iteration in range(4):\n",
                "    add_points(ax, iterated_weights, sizes[iteration], f\"iteration {iteration}\", colors[iteration])\n",
                "    iterated_weights = pbo_optimal_linear.network.apply(pbo_optimal_linear.params, iterated_weights)\n",
                "\n",
                "ax.set_xlabel('k')\n",
                "ax.set_xticklabels([])\n",
                "ax.set_xticks([])\n",
                "\n",
                "ax.set_ylabel('i')\n",
                "ax.set_yticklabels([])\n",
                "ax.set_yticks([])\n",
                "\n",
                "ax.set_zlabel('m')\n",
                "ax.set_zlim(-2, 5)\n",
                "\n",
                "ax.legend()\n",
                "ax.view_init(0, 0)\n",
                "fig.tight_layout()\n",
                "print(\"Contracting facteur\", jnp.linalg.norm(pbo_optimal_linear.params[\"LinearPBONet/linear\"][\"w\"], ord=1))"
            ]
        },
        {
            "cell_type": "code",
            "execution_count": null,
            "metadata": {},
            "outputs": [],
            "source": [
                "fig = plt.figure(figsize=(7, 7))\n",
                "ax = plt.axes(projection='3d')\n",
                "\n",
                "iterated_weights = weights_buffer.weights\n",
                "\n",
                "for iteration in range(4):\n",
                "    add_points(ax, iterated_weights, sizes[iteration], f\"iteration {iteration}\", colors[iteration])\n",
                "    iterated_weights = pbo.network.apply(pbo.params, iterated_weights)\n",
                "\n",
                "ax.set_xlabel('k')\n",
                "ax.set_xticklabels([])\n",
                "ax.set_xticks([])\n",
                "\n",
                "ax.set_ylabel('i')\n",
                "ax.set_yticklabels([])\n",
                "ax.set_yticks([])\n",
                "\n",
                "ax.set_zlabel('m')\n",
                "ax.set_zlim(-2, 5)\n",
                "\n",
                "ax.legend()\n",
                "ax.view_init(0, 0)\n",
                "fig.tight_layout()\n",
                "print(\"Contracting facteur\", jnp.linalg.norm(pbo.params[\"LinearPBONet/linear\"][\"w\"], ord=1))"
            ]
        }
    ],
    "metadata": {
        "interpreter": {
            "hash": "1432d270abb514d077d760a4c8d2edd41cc0752b595b0513fca29951003961c1"
        },
        "kernelspec": {
            "display_name": "Python 3.8.10 ('env': venv)",
            "language": "python",
            "name": "python3"
        },
        "language_info": {
            "codemirror_mode": {
                "name": "ipython",
                "version": 3
            },
            "file_extension": ".py",
            "mimetype": "text/x-python",
            "name": "python",
            "nbconvert_exporter": "python",
            "pygments_lexer": "ipython3",
            "version": "3.8.10"
        },
        "orig_nbformat": 4
    },
    "nbformat": 4,
    "nbformat_minor": 2
}
