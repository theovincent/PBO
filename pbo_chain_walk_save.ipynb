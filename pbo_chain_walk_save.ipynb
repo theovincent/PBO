{
    "cells": [
        {
            "cell_type": "markdown",
            "metadata": {},
            "source": [
                "# PBO learnt on several iterations and one weigth one the chain walk environment\n",
                "\n",
                "## Define parameters"
            ]
        },
        {
            "cell_type": "code",
            "execution_count": 1,
            "metadata": {},
            "outputs": [
                {
                    "name": "stderr",
                    "output_type": "stream",
                    "text": [
                        "WARNING:absl:No GPU/TPU found, falling back to CPU. (Set TF_CPP_MIN_LOG_LEVEL=0 and rerun for more info.)\n"
                    ]
                }
            ],
            "source": [
                "%load_ext autoreload\n",
                "%autoreload 2\n",
                "\n",
                "import numpy as np\n",
                "import jax\n",
                "\n",
                "# keys\n",
                "seed = 1\n",
                "key = jax.random.PRNGKey(seed)\n",
                "env_key, key = jax.random.split(key)\n",
                "shuffle_key, q_network_key, random_weights_key, pbo_network_key = jax.random.split(key, 4)\n",
                "\n",
                "# Box over states and actions\n",
                "n_states = 100\n",
                "n_actions = 2\n",
                "n_repetitions = 10\n",
                "sucess_probability = 0.9\n",
                "gamma = 0.99\n",
                "\n",
                "# Weights collection\n",
                "n_weights = 1\n",
                "filtering_weights = True\n",
                "\n",
                "# PBO trainings\n",
                "max_bellman_iterations = 200\n",
                "add_infinity = False\n",
                "\n",
                "## Linear PBO\n",
                "max_steps = 10\n",
                "batch_size_samples = n_states // 2\n",
                "batch_size_weights = n_weights\n",
                "learning_rate = {\"first\": 0.001, \"last\": 0.001, \"duration\": max_steps}\n",
                "\n",
                "## Q-learning\n",
                "learning_rate_q = {\"first\": 1, \"last\": 1, \"duration\": max_steps}\n",
                "\n",
                "# Visualisation\n",
                "plot_freq = 5\n",
                "sleeping_time = 0"
            ]
        },
        {
            "cell_type": "markdown",
            "metadata": {},
            "source": [
                "## Define environment"
            ]
        },
        {
            "cell_type": "code",
            "execution_count": 2,
            "metadata": {},
            "outputs": [],
            "source": [
                "from pbo.environment.chain_walk import ChainWalkEnv\n",
                "\n",
                "states = np.arange(n_states)\n",
                "actions = np.arange(n_actions)\n",
                "states_boxes = (np.arange(n_states + 1 + 1) - 0.5)[:-1]\n",
                "actions_boxes = (np.arange(n_actions + 1 + 1) - 0.5)[:-1]\n",
                "\n",
                "env = ChainWalkEnv(env_key, n_states, sucess_probability, gamma)"
            ]
        },
        {
            "cell_type": "markdown",
            "metadata": {},
            "source": [
                "## Collect samples"
            ]
        },
        {
            "cell_type": "markdown",
            "metadata": {},
            "source": [
                "### Samples on the mesh"
            ]
        },
        {
            "cell_type": "code",
            "execution_count": 3,
            "metadata": {},
            "outputs": [],
            "source": [
                "import jax.numpy as jnp\n",
                "\n",
                "from pbo.sample_collection.replay_buffer import ReplayBuffer\n",
                "\n",
                "\n",
                "n_samples = n_states * n_actions * n_repetitions\n",
                "replay_buffer = ReplayBuffer()\n",
                "\n",
                "for state in states:\n",
                "    for action in actions:\n",
                "        # Need to repeat the samples to capture the randomness\n",
                "        for _ in range(n_repetitions):\n",
                "            env.reset(jnp.array([state]))\n",
                "            next_state, reward, _, _ = env.step(jnp.array([action]))\n",
                "\n",
                "            replay_buffer.add(jnp.array([state]), jnp.array([action]), reward, next_state)\n",
                "\n",
                "replay_buffer.cast_to_jax_array()"
            ]
        },
        {
            "cell_type": "markdown",
            "metadata": {},
            "source": [
                "### Visualize samples"
            ]
        },
        {
            "cell_type": "code",
            "execution_count": 4,
            "metadata": {},
            "outputs": [
                {
                    "data": {
                        "image/png": "[encoded data removed]",
                        "text/plain": [
                            "<Figure size 432x288 with 2 Axes>"
                        ]
                    },
                    "metadata": {
                        "needs_background": "light"
                    },
                    "output_type": "display_data"
                }
            ],
            "source": [
                "from pbo.sample_collection.count_samples import count_samples\n",
                "from pbo.utils.state_action_mesh import StateActionMesh\n",
                "\n",
                "\n",
                "samples_count, n_outside_boxes = count_samples(replay_buffer, states_boxes, actions_boxes)\n",
                "samples_visu_mesh = StateActionMesh(states, actions, sleeping_time=0)\n",
                "\n",
                "samples_visu_mesh.set_values(samples_count, zeros_to_nan=True)\n",
                "samples_visu_mesh.show(\n",
                "    f\"Samples repartition, \\n{int(100 * n_outside_boxes / n_samples)}% are outside the box.\"\n",
                ")"
            ]
        },
        {
            "cell_type": "markdown",
            "metadata": {},
            "source": [
                "## Optimal Q function"
            ]
        },
        {
            "cell_type": "code",
            "execution_count": 5,
            "metadata": {},
            "outputs": [
                {
                    "data": {
                        "image/png": "[encoded data removed]",
                        "text/plain": [
                            "<Figure size 432x288 with 2 Axes>"
                        ]
                    },
                    "metadata": {
                        "needs_background": "light"
                    },
                    "output_type": "display_data"
                }
            ],
            "source": [
                "optimal_q = env.optimal_Q_mesh()\n",
                "\n",
                "q_visu_mesh = StateActionMesh(states, actions, sleeping_time)\n",
                "\n",
                "q_visu_mesh.set_values(optimal_q)\n",
                "q_visu_mesh.show(\"Optimal q function\")"
            ]
        },
        {
            "cell_type": "markdown",
            "metadata": {},
            "source": [
                "## Build q network"
            ]
        },
        {
            "cell_type": "code",
            "execution_count": 6,
            "metadata": {},
            "outputs": [],
            "source": [
                "from pbo.networks.learnable_q import TableQ\n",
                "\n",
                "\n",
                "q = TableQ(\n",
                "    gamma=gamma,\n",
                "    network_key=q_network_key,\n",
                "    random_weights_range=None,\n",
                "    random_weights_key=random_weights_key,\n",
                "    n_states=n_states,\n",
                "    n_actions=n_actions\n",
                ")"
            ]
        },
        {
            "cell_type": "markdown",
            "metadata": {},
            "source": [
                "## Collect weights"
            ]
        },
        {
            "cell_type": "code",
            "execution_count": 7,
            "metadata": {},
            "outputs": [],
            "source": [
                "from pbo.weights_collection.weights_buffer import WeightsBuffer\n",
                "\n",
                "\n",
                "weights_buffer = WeightsBuffer()\n",
                "\n",
                "while len(weights_buffer) < n_weights:\n",
                "    weights = q.random_init_weights()\n",
                "    if not filtering_weights or weights.max() < 1 / (1 - gamma):\n",
                "        weights_buffer.add(weights)\n",
                "\n",
                "weights_buffer.cast_to_jax_array()"
            ]
        },
        {
            "cell_type": "markdown",
            "metadata": {},
            "source": [
                "## The performance is a function of the training losses"
            ]
        },
        {
            "cell_type": "code",
            "execution_count": 8,
            "metadata": {},
            "outputs": [],
            "source": [
                "# from pbo.utils.shared_axis_plot import shared_axis_plot\n",
                "\n",
                "\n",
                "# # For visualization\n",
                "# full_batch = {\n",
                "#     \"state\": replay_buffer.states,\n",
                "#     \"action\": replay_buffer.actions,\n",
                "#     \"reward\": replay_buffer.rewards,\n",
                "#     \"next_state\": replay_buffer.next_states,\n",
                "# }\n",
                "# l1_losses = []\n",
                "# contraction = []\n",
                "\n",
                "# step = 0\n",
                "# l1_loss = float(\"inf\")\n",
                "\n",
                "# while l1_loss > tolerance and step < max_steps:\n",
                "#     cumulative_l2_loss = 0\n",
                "#     importance_iteration = jnp.ones(max_bellman_iterations + 1)\n",
                "#     importance_iteration = importance_iteration.at[-1].set(0)\n",
                "    \n",
                "#     data_loader_weights.shuffle()\n",
                "#     for batch_weights in data_loader_weights:\n",
                "#         data_loader_samples.shuffle()\n",
                "#         for batch_samples in data_loader_samples:\n",
                "#             pbo.params, pbo.optimizer_state, l2_loss = pbo.learn_on_batch(pbo.params, pbo.optimizer_state, batch_weights, batch_samples, importance_iteration)            \n",
                "#             cumulative_l2_loss += l2_loss\n",
                "\n",
                "#     # Visualization\n",
                "#     if step % plot_freq == 0:\n",
                "#         l1_losses_iteration = np.zeros(max_bellman_iterations + 3)\n",
                "#         batch_iterated_weights = data_loader_weights.weights.copy()\n",
                "\n",
                "#         for iteration in range(max_bellman_iterations):\n",
                "#             batch_targets = pbo.compute_target(batch_iterated_weights, full_batch)\n",
                "#             batch_iterated_weights = pbo(pbo.params, batch_iterated_weights)\n",
                "#             q_values = jax.vmap(lambda weights: pbo.q(pbo.q.to_params(weights), full_batch[\"state\"], full_batch[\"action\"]))(\n",
                "#                 batch_iterated_weights\n",
                "#             )\n",
                "\n",
                "#             l1_losses_iteration[iteration] = jnp.abs(q_values - batch_targets).mean()\n",
                "\n",
                "#         fixed_point = pbo.fixed_point(pbo.params).reshape((1, -1))\n",
                "#         batch_targets_inf = pbo.compute_target(fixed_point, full_batch).reshape(\n",
                "#             (-1, n_states, n_actions)\n",
                "#         )\n",
                "\n",
                "#         q_values_inf = jax.vmap(lambda weights: pbo.q(pbo.q.to_params(weights), full_batch[\"state\"], full_batch[\"action\"]))(\n",
                "#             fixed_point\n",
                "#         ).reshape((-1, n_states, n_actions))\n",
                "        \n",
                "#         l1_losses_iteration[-3] = jnp.abs(q_values_inf - batch_targets_inf).mean()\n",
                "#         l1_losses_iteration[-2] = jnp.abs(optimal_q - q_values.reshape((-1, n_states, n_actions))).mean()\n",
                "#         l1_losses_iteration[-1] = jnp.abs(optimal_q - q.to_params(pbo.fixed_point(pbo.params))[\"TableQNet\"][\"table\"]).mean()\n",
                "\n",
                "#         l1_losses.append(l1_losses_iteration)\n",
                "#         contraction.append(pbo.contracting_factor())\n",
                "\n",
                "#         l1_loss = pbo.loss(pbo.params, data_loader_weights.weights, full_batch, importance_iteration, ord=1)\n",
                "\n",
                "\n",
                "#     step += 1\n",
                "\n",
                "# print(f\"Tolerance not achieved: {l1_loss}\") if step == max_steps else print(\"Tolerance achieved\")\n",
                "# shared_axis_plot(contraction, np.array(contraction) * np.nan, f\"every {plot_freq} steps\", \"contraction factor\")"
            ]
        },
        {
            "cell_type": "code",
            "execution_count": 9,
            "metadata": {},
            "outputs": [],
            "source": [
                "# import matplotlib.pyplot as plt \n",
                "\n",
                "# l1_losses_array = np.array(l1_losses)\n",
                "\n",
                "# for iteration in np.arange(max_bellman_iterations):\n",
                "#     plt.plot(l1_losses_array[:, iteration], label=f\"Iteration {iteration + 1}\")\n",
                "\n",
                "# plt.plot(l1_losses_array[:, -3], label=f\"Iteration inf\")\n",
                "# plt.plot(l1_losses_array[:, -2], label=f\"Q* - Q^MaxBellmanIteration\", linestyle=\"--\")\n",
                "# plt.plot(l1_losses_array[:, -1], label=f\"Q* - Q^fixed_point\", linestyle=\"--\")\n",
                "\n",
                "# plt.xlabel(f\"every {plot_freq} steps\")\n",
                "# plt.yscale(\"log\")\n",
                "# plt.legend(loc=\"center left\", bbox_to_anchor=(1, 0.5))\n",
                "# plt.title(\"Errors over the training steps\")\n",
                "# plt.show()"
            ]
        },
        {
            "cell_type": "code",
            "execution_count": 10,
            "metadata": {},
            "outputs": [],
            "source": [
                "# _ = plt.plot(range(max_bellman_iterations), l1_losses_array[-1, :-3])"
            ]
        },
        {
            "cell_type": "markdown",
            "metadata": {},
            "source": [
                "## The last iterations matter most "
            ]
        },
        {
            "cell_type": "code",
            "execution_count": 11,
            "metadata": {},
            "outputs": [],
            "source": [
                "# from tqdm.notebook import tqdm\n",
                "\n",
                "# from pbo.sample_collection.dataloader import SampleDataLoader\n",
                "# from pbo.weights_collection.dataloader import WeightsDataLoader\n",
                "# from pbo.networks.learnable_pbo import LinearPBO\n",
                "\n",
                "\n",
                "# data_loader_samples = SampleDataLoader(replay_buffer, batch_size_samples, shuffle_key)\n",
                "# data_loader_weights = WeightsDataLoader(weights_buffer, batch_size_weights, shuffle_key)\n",
                "# pbo = LinearPBO(q, max_bellman_iterations, gamma, add_infinity, pbo_network_key, learning_rate)\n",
                "\n",
                "# # For visualization\n",
                "# full_batch = {\n",
                "#     \"state\": replay_buffer.states,\n",
                "#     \"action\": replay_buffer.actions,\n",
                "#     \"reward\": replay_buffer.rewards,\n",
                "#     \"next_state\": replay_buffer.next_states,\n",
                "# }\n",
                "\n",
                "# training_losses_uniform = []\n",
                "# validation_losses_uniform = []\n",
                "\n",
                "# for k in tqdm(np.arange(max_bellman_iterations)):\n",
                "#     importance_iteration = jnp.zeros(max_bellman_iterations + 1)\n",
                "#     importance_iteration = importance_iteration.at[k].set(1)\n",
                "\n",
                "#     params_target = pbo.params\n",
                "\n",
                "#     for step in range(max_steps):\n",
                "#         for batch_weights in data_loader_weights:\n",
                "#             data_loader_samples.shuffle()\n",
                "#             for batch_samples in data_loader_samples:\n",
                "#                 pbo.params, pbo.optimizer_state, _ = pbo.learn_on_batch(pbo.params, params_target, pbo.optimizer_state, batch_weights, batch_samples, importance_iteration)            \n",
                "\n",
                "#     batch_iterated_weights = data_loader_weights.weights.copy()\n",
                "#     for _ in range(k):\n",
                "#         batch_iterated_weights = pbo(pbo.params, batch_iterated_weights)\n",
                "\n",
                "#     training_losses_uniform.append(pbo.loss(pbo.params, params_target, data_loader_weights.weights, full_batch, importance_iteration, ord=1))\n",
                "#     validation_losses_uniform.append(jnp.abs(optimal_q.flatten() - q.discretize(batch_iterated_weights, states, actions).flatten()).mean())"
            ]
        },
        {
            "cell_type": "code",
            "execution_count": 12,
            "metadata": {},
            "outputs": [],
            "source": [
                "# from tqdm.notebook import tqdm\n",
                "\n",
                "\n",
                "# data_loader_samples = SampleDataLoader(replay_buffer, batch_size_samples, shuffle_key)\n",
                "# data_loader_weights = WeightsDataLoader(weights_buffer, batch_size_weights, shuffle_key)\n",
                "# pbo = LinearPBO(q, max_bellman_iterations, gamma, add_infinity, pbo_network_key, learning_rate)\n",
                "\n",
                "# # For visualization\n",
                "# full_batch = {\n",
                "#     \"state\": replay_buffer.states,\n",
                "#     \"action\": replay_buffer.actions,\n",
                "#     \"reward\": replay_buffer.rewards,\n",
                "#     \"next_state\": replay_buffer.next_states,\n",
                "# }\n",
                "\n",
                "# training_losses_geom = []\n",
                "# validation_losses_geom = []\n",
                "# c_steps = max_steps * max_bellman_iterations / (np.sum([k for k in range(1, max_bellman_iterations + 1)])) \n",
                "\n",
                "# for k in tqdm(np.arange(max_bellman_iterations)):\n",
                "#     importance_iteration = jnp.zeros(max_bellman_iterations + 1)\n",
                "#     importance_iteration = importance_iteration.at[k].set(1)\n",
                "\n",
                "#     params_target = pbo.params\n",
                "\n",
                "#     n_steps = np.maximum(int(np.round(c_steps * (k + 1))), 1)\n",
                "\n",
                "#     for step in range(n_steps):\n",
                "#         for batch_weights in data_loader_weights:\n",
                "#             data_loader_samples.shuffle()\n",
                "#             for batch_samples in data_loader_samples:\n",
                "#                 pbo.params, pbo.optimizer_state, _ = pbo.learn_on_batch(pbo.params, params_target, pbo.optimizer_state, batch_weights, batch_samples, importance_iteration)            \n",
                "                \n",
                "#     batch_iterated_weights = data_loader_weights.weights.copy()\n",
                "#     for _ in range(k):\n",
                "#         batch_iterated_weights = pbo(pbo.params, batch_iterated_weights)\n",
                "\n",
                "#     training_losses_geom.append(pbo.loss(pbo.params, params_target, data_loader_weights.weights, full_batch, importance_iteration, ord=1))\n",
                "#     validation_losses_geom.append(jnp.abs(optimal_q.flatten() - q.discretize(batch_iterated_weights, states, actions).flatten()).mean())"
            ]
        },
        {
            "cell_type": "code",
            "execution_count": 13,
            "metadata": {},
            "outputs": [],
            "source": [
                "# import matplotlib.pyplot as plt \n",
                "\n",
                "# plt.plot(validation_losses_uniform, label=\"uniform\")\n",
                "# plt.plot(validation_losses_geom, label=\"geom\")\n",
                "\n",
                "# plt.legend()\n"
            ]
        },
        {
            "cell_type": "code",
            "execution_count": 14,
            "metadata": {},
            "outputs": [],
            "source": [
                "# plt.plot([c_steps * k for k in range(1, max_bellman_iterations + 1)])\n",
                "# plt.plot(np.ones(max_bellman_iterations) * max_steps)"
            ]
        },
        {
            "cell_type": "code",
            "execution_count": 15,
            "metadata": {},
            "outputs": [],
            "source": [
                "# plt.plot(training_losses_uniform, label=\"uniform\")\n",
                "# plt.plot(training_losses_geom, label=\"geom\")\n",
                "\n",
                "# plt.legend()"
            ]
        },
        {
            "cell_type": "markdown",
            "metadata": {},
            "source": [
                "## Fitted-Q"
            ]
        },
        {
            "cell_type": "code",
            "execution_count": 16,
            "metadata": {},
            "outputs": [
                {
                    "data": {
                        "application/vnd.jupyter.widget-view+json": {
                            "model_id": "014c60fb404947818c7c0f9ce50f3001",
                            "version_major": 2,
                            "version_minor": 0
                        },
                        "text/plain": [
                            "  0%|          | 0/200 [00:00<?, ?it/s]"
                        ]
                    },
                    "metadata": {},
                    "output_type": "display_data"
                }
            ],
            "source": [
                "from tqdm.notebook import tqdm\n",
                "\n",
                "from pbo.sample_collection.dataloader import SampleDataLoader\n",
                "from pbo.networks.learnable_pbo import LinearPBO\n",
                "\n",
                "\n",
                "data_loader_samples = SampleDataLoader(replay_buffer, batch_size_samples, shuffle_key)\n",
                "pbo = LinearPBO(q, max_bellman_iterations, add_infinity, pbo_network_key, learning_rate)\n",
                "q = TableQ(\n",
                "    gamma=gamma,\n",
                "    network_key=q_network_key,\n",
                "    random_weights_range=None,\n",
                "    random_weights_key=random_weights_key,\n",
                "    n_states=n_states,\n",
                "    n_actions=n_actions,\n",
                "    learning_rate=learning_rate_q,\n",
                ")\n",
                "\n",
                "weight = weights_buffer.weights[0]\n",
                "\n",
                "# For visualization\n",
                "full_batch = {\n",
                "    \"state\": replay_buffer.states,\n",
                "    \"action\": replay_buffer.actions,\n",
                "    \"reward\": replay_buffer.rewards,\n",
                "    \"next_state\": replay_buffer.next_states,\n",
                "}\n",
                "\n",
                "training_losses_q_uniform = []\n",
                "validation_losses_q_uniform = []\n",
                "\n",
                "for k in tqdm(np.arange(max_bellman_iterations)):\n",
                "    params_target = q.params\n",
                "\n",
                "    if (k + 1) % 10 == 0 or k == 0:\n",
                "        data_loader_samples.shuffle()\n",
                "\n",
                "    for step in range(max_steps):\n",
                "        for batch_samples in data_loader_samples:\n",
                "            q.params, q.optimizer_state, _ = q.learn_on_batch(q.params, params_target, q.optimizer_state, batch_samples)\n",
                "            break          \n",
                "\n",
                "    training_losses_q_uniform.append(q.loss(q.params, params_target, full_batch, ord=1))\n",
                "    validation_losses_q_uniform.append(jnp.abs(optimal_q.flatten() - q.discretize(q.to_weights(q.params).reshape((-1, q.weights_dimension)), states, actions).flatten()).mean())"
            ]
        },
        {
            "cell_type": "code",
            "execution_count": 17,
            "metadata": {},
            "outputs": [
                {
                    "data": {
                        "application/vnd.jupyter.widget-view+json": {
                            "model_id": "5d9c348d40e04fb887c67b68b449891a",
                            "version_major": 2,
                            "version_minor": 0
                        },
                        "text/plain": [
                            "  0%|          | 0/200 [00:00<?, ?it/s]"
                        ]
                    },
                    "metadata": {},
                    "output_type": "display_data"
                }
            ],
            "source": [
                "from tqdm.notebook import tqdm\n",
                "\n",
                "from pbo.sample_collection.dataloader import SampleDataLoader\n",
                "from pbo.networks.learnable_pbo import LinearPBO\n",
                "\n",
                "\n",
                "data_loader_samples = SampleDataLoader(replay_buffer, n_samples, shuffle_key)\n",
                "pbo = LinearPBO(q, max_bellman_iterations, add_infinity, pbo_network_key, learning_rate)\n",
                "q = TableQ(\n",
                "    gamma=gamma,\n",
                "    network_key=q_network_key,\n",
                "    random_weights_range=None,\n",
                "    random_weights_key=random_weights_key,\n",
                "    n_states=n_states,\n",
                "    n_actions=n_actions,\n",
                "    learning_rate=learning_rate_q,\n",
                ")\n",
                "\n",
                "weight = weights_buffer.weights[0]\n",
                "\n",
                "# For visualization\n",
                "full_batch = {\n",
                "    \"state\": replay_buffer.states,\n",
                "    \"action\": replay_buffer.actions,\n",
                "    \"reward\": replay_buffer.rewards,\n",
                "    \"next_state\": replay_buffer.next_states,\n",
                "}\n",
                "\n",
                "training_losses_q_geom = []\n",
                "validation_losses_q_geom = []\n",
                "c_samples = batch_size_samples * max_bellman_iterations / (np.sum([k for k in range(1, max_bellman_iterations + 1)])) \n",
                "\n",
                "\n",
                "for k in tqdm(np.arange(max_bellman_iterations)):\n",
                "    params_target = q.params\n",
                "\n",
                "    if (k + 1) % 10 == 0 or k == 0:\n",
                "        data_loader_samples.shuffle()\n",
                "    n_samples_iteration = np.maximum(int(np.round(c_samples * (k + 1))), 1)\n",
                "\n",
                "    for step in range(max_steps):\n",
                "        batch_samples = {\n",
                "            \"state\": data_loader_samples[0][\"state\"][: n_samples_iteration],\n",
                "            \"action\": data_loader_samples[0][\"action\"][: n_samples_iteration],\n",
                "            \"reward\": data_loader_samples[0][\"reward\"][: n_samples_iteration],\n",
                "            \"next_state\": data_loader_samples[0][\"next_state\"][: n_samples_iteration],\n",
                "        }\n",
                "        q.params, q.optimizer_state, _ = q.learn_on_batch(q.params, params_target, q.optimizer_state, batch_samples)            \n",
                "\n",
                "    training_losses_q_geom.append(q.loss(q.params, params_target, full_batch, ord=1))\n",
                "    validation_losses_q_geom.append(jnp.abs(optimal_q.flatten() - q.discretize(q.to_weights(q.params).reshape((-1, q.weights_dimension)), states, actions).flatten()).mean())"
            ]
        },
        {
            "cell_type": "code",
            "execution_count": 18,
            "metadata": {},
            "outputs": [
                {
                    "data": {
                        "text/plain": [
                            "<matplotlib.legend.Legend at 0x7fb03c566040>"
                        ]
                    },
                    "execution_count": 18,
                    "metadata": {},
                    "output_type": "execute_result"
                },
                {
                    "data": {
                        "image/png": "[encoded data removed]",
                        "text/plain": [
                            "<Figure size 432x288 with 1 Axes>"
                        ]
                    },
                    "metadata": {
                        "needs_background": "light"
                    },
                    "output_type": "display_data"
                }
            ],
            "source": [
                "import matplotlib.pyplot as plt \n",
                "\n",
                "plt.plot(validation_losses_q_uniform, label=\"uniform\")\n",
                "plt.plot(validation_losses_q_geom, label=\"geom\")\n",
                "\n",
                "plt.legend()"
            ]
        },
        {
            "cell_type": "code",
            "execution_count": 19,
            "metadata": {},
            "outputs": [
                {
                    "data": {
                        "text/plain": [
                            "[<matplotlib.lines.Line2D at 0x7fb03c3b59d0>]"
                        ]
                    },
                    "execution_count": 19,
                    "metadata": {},
                    "output_type": "execute_result"
                },
                {
                    "data": {
                        "image/png": "[encoded data removed]",
                        "text/plain": [
                            "<Figure size 432x288 with 1 Axes>"
                        ]
                    },
                    "metadata": {
                        "needs_background": "light"
                    },
                    "output_type": "display_data"
                }
            ],
            "source": [
                "plt.plot([c_samples * k for k in range(1, max_bellman_iterations + 1)])\n",
                "plt.plot(np.ones(max_bellman_iterations) * batch_size_samples)"
            ]
        },
        {
            "cell_type": "markdown",
            "metadata": {},
            "source": [
                "## Train PBO over different K"
            ]
        },
        {
            "cell_type": "code",
            "execution_count": 20,
            "metadata": {},
            "outputs": [],
            "source": [
                "# from tqdm import tqdm\n",
                "\n",
                "\n",
                "# ks = np.arange(max_bellman_iterations, step=3)\n",
                "# training_losses = np.zeros((2,len(ks)))\n",
                "# validation_losses = np.zeros((2, len(ks)))\n",
                "\n",
                "# uniform_importance = jnp.ones(max_bellman_iterations + 1)\n",
                "# uniform_importance = uniform_importance.at[-1].set(0)\n",
                "# linear_importance = jnp.linspace(max_bellman_iterations + 1, 1, max_bellman_iterations + 1)\n",
                "# linear_importance = linear_importance.at[-1].set(0)\n",
                "# list_importance_iteration = [uniform_importance, linear_importance]\n",
                "\n",
                "# for idx_importance, importance_iteration in enumerate(list_importance_iteration):\n",
                "#     for idx_k, k in tqdm(enumerate(np.arange(max_bellman_iterations, step=3)), leave=False):\n",
                "#         # Define PBO and dataloaders\n",
                "#         data_loader_samples = SampleDataLoader(replay_buffer, batch_size_samples, shuffle_key)\n",
                "#         data_loader_weights = WeightsDataLoader(weights_buffer, batch_size_weights, shuffle_key)\n",
                "\n",
                "#         pbo = LinearPBO(q, k, gamma, pbo_network_key, learning_rate)\n",
                "\n",
                "#         # Learn the PBO\n",
                "#         for step in range(500):\n",
                "#             cumulative_l2_loss = 0\n",
                "            \n",
                "#             data_loader_weights.shuffle()\n",
                "#             for batch_weights in data_loader_weights:\n",
                "#                 data_loader_samples.shuffle()\n",
                "#                 for batch_samples in data_loader_samples:\n",
                "#                     pbo.params, pbo.optimizer_state, l2_loss = pbo.learn_on_batch(pbo.params, pbo.optimizer_state, batch_weights, batch_samples, importance_iteration.at[k + 1].set(0))            \n",
                "#                     cumulative_l2_loss += l2_loss\n",
                "\n",
                "#             step += 1\n",
                "\n",
                "#         training_losses[idx_importance, idx_k] = pbo.loss(pbo.params, data_loader_weights.weights, full_batch, importance_iteration.at[k + 1].set(0), ord=1)\n",
                "        \n",
                "#         batch_iterated_weights = data_loader_weights.weights.copy()\n",
                "#         for _ in range(k):\n",
                "#             batch_iterated_weights = pbo(pbo.params, batch_iterated_weights)\n",
                "        \n",
                "#         validation_losses[idx_importance, idx_k] = jnp.abs(optimal_q.flatten() - q.discretize(batch_iterated_weights, states, actions).flatten()).mean()"
            ]
        },
        {
            "cell_type": "code",
            "execution_count": 21,
            "metadata": {},
            "outputs": [],
            "source": [
                "# import matplotlib.pyplot as plt \n",
                "\n",
                "# plt.plot(ks, validation_losses[0], label=\"Uniform\")\n",
                "# plt.plot(ks, validation_losses[1], label=\"Linear increasing\")\n",
                "# plt.xticks(ks)\n",
                "# plt.legend()\n",
                "\n",
                "# _ = plt.show()"
            ]
        },
        {
            "cell_type": "code",
            "execution_count": 22,
            "metadata": {},
            "outputs": [],
            "source": [
                "# plt.plot(ks, validation_losses[0], label=\"Validation Uniform\")\n",
                "# plt.plot(ks, validation_losses[1], label=\"Validation Linear increasing\")\n",
                "# plt.plot(ks, training_losses[0], label=\"Training Uniform\", linestyle=\"--\")\n",
                "# plt.plot(ks, training_losses[1], label=\"Training Linear increasing\", linestyle=\"--\")\n",
                "# plt.xticks(ks)\n",
                "# plt.yscale(\"log\")\n",
                "# plt.legend()\n",
                "\n",
                "# _ = plt.show()"
            ]
        }
    ],
    "metadata": {
        "interpreter": {
            "hash": "1432d270abb514d077d760a4c8d2edd41cc0752b595b0513fca29951003961c1"
        },
        "kernelspec": {
            "display_name": "Python 3.8.10 ('env': venv)",
            "language": "python",
            "name": "python3"
        },
        "language_info": {
            "codemirror_mode": {
                "name": "ipython",
                "version": 3
            },
            "file_extension": ".py",
            "mimetype": "text/x-python",
            "name": "python",
            "nbconvert_exporter": "python",
            "pygments_lexer": "ipython3",
            "version": "3.8.10"
        },
        "orig_nbformat": 4
    },
    "nbformat": 4,
    "nbformat_minor": 2
}
