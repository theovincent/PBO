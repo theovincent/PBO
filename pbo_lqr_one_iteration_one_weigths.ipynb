{
 "cells": [
  {
   "cell_type": "markdown",
   "metadata": {},
   "source": [
    "# PBO against LQR\n",
    "\n",
    "## Define paramters"
   ]
  },
  {
   "cell_type": "code",
   "execution_count": 1,
   "metadata": {},
   "outputs": [
    {
     "name": "stderr",
     "output_type": "stream",
     "text": [
      "WARNING:absl:No GPU/TPU found, falling back to CPU. (Set TF_CPP_MIN_LOG_LEVEL=0 and rerun for more info.)\n"
     ]
    }
   ],
   "source": [
    "%load_ext autoreload\n",
    "%autoreload 2\n",
    "\n",
    "import jax\n",
    "\n",
    "# keys\n",
    "seed = 0\n",
    "key = jax.random.PRNGKey(seed)\n",
    "env_key, key = jax.random.split(key)\n",
    "greedy_key, key = jax.random.split(key)\n",
    "shuffle_key, key = jax.random.split(key)\n",
    "q_network_key, key = jax.random.split(key)\n",
    "random_weights_key, key = jax.random.split(key)\n",
    "pbo_network_key, key = jax.random.split(key)\n",
    "training_q_key, key = jax.random.split(key)\n",
    "\n",
    "# Box over states and actions\n",
    "max_discrete_state = 7\n",
    "n_discrete_states = 5\n",
    "max_discrete_action = 9\n",
    "n_discrete_actions = 7\n",
    "\n",
    "gamma = 1\n",
    "\n",
    "# Sample collection\n",
    "n_samples = 1000\n",
    "epsilon_greedy = 0.3\n",
    "max_episode_length = 4\n",
    "\n",
    "# Q function\n",
    "layer_dimension = 50\n",
    "random_weights_range = 1\n",
    "action_range_on_max = 2 * max_discrete_action\n",
    "n_actions_on_max = 1000\n",
    "\n",
    "# Q trainings\n",
    "max_iterations = 10000\n",
    "batch_size_q = 1\n",
    "learning_rate_q = 0.001\n",
    "\n",
    "# PBO trainings\n",
    "n_iterations = 10000\n",
    "batch_size_pbo = 1\n",
    "learning_rate_pbo = 0.0001\n",
    "\n",
    "# Visualisation\n",
    "plot_freq = 200\n",
    "sleeping_time = 0"
   ]
  },
  {
   "cell_type": "markdown",
   "metadata": {},
   "source": [
    "## Define environment"
   ]
  },
  {
   "cell_type": "code",
   "execution_count": 2,
   "metadata": {},
   "outputs": [
    {
     "name": "stdout",
     "output_type": "stream",
     "text": [
      "Transition: s' = As + Ba\n",
      "Transition: s' = -0.4399999976158142s + 0.3700000047683716a\n",
      "Reward: Qs² + Ra² + 2 Ssa\n",
      "Reward: -0.4099999964237213s² + -0.47999998927116394a² + 0.8199999928474426sa\n"
     ]
    }
   ],
   "source": [
    "import numpy as np\n",
    "\n",
    "from pbo.environment.linear_quadratic import LinearQuadraticEnv\n",
    "\n",
    "\n",
    "discrete_states = np.linspace(-max_discrete_state, max_discrete_state, n_discrete_states)\n",
    "state_box_half_size = max_discrete_state / n_discrete_states\n",
    "discrete_states_boxes = np.linspace(\n",
    "    -max_discrete_state - state_box_half_size, max_discrete_state + state_box_half_size, n_discrete_states + 1\n",
    ")\n",
    "\n",
    "discrete_actions = np.linspace(-max_discrete_action, max_discrete_action, n_discrete_actions)\n",
    "action_box_half_size = max_discrete_action / n_discrete_actions\n",
    "discrete_actions_boxes = np.linspace(\n",
    "    -max_discrete_action - action_box_half_size, max_discrete_action + action_box_half_size, n_discrete_actions + 1\n",
    ")\n",
    "\n",
    "env = LinearQuadraticEnv(env_key, max_init_state=max_discrete_state)"
   ]
  },
  {
   "cell_type": "markdown",
   "metadata": {},
   "source": [
    "## Collect samples"
   ]
  },
  {
   "cell_type": "markdown",
   "metadata": {},
   "source": [
    "### Epsilon greedy from optimal actions"
   ]
  },
  {
   "cell_type": "code",
   "execution_count": 3,
   "metadata": {},
   "outputs": [],
   "source": [
    "# from pbo.data_collection.replay_buffer import ReplayBuffer\n",
    "\n",
    "\n",
    "# replay_buffer = ReplayBuffer()\n",
    "\n",
    "# state = env.reset()\n",
    "# idx_sample = 0\n",
    "# epidose_length = 0\n",
    "\n",
    "# while idx_sample < n_samples:\n",
    "#     greedy_key, key = jax.random.split(greedy_key)\n",
    "#     if jax.random.uniform(key) < epsilon_greedy:\n",
    "#        action = env.optimal_action()\n",
    "#     else:\n",
    "#         greedy_key, key = jax.random.split(greedy_key)\n",
    "#         action = jax.random.uniform(key, [env.B.shape[0]], minval=discrete_actions[0], maxval=discrete_actions[-1])\n",
    "#     next_state, reward, _, _ = env.step(action)\n",
    "\n",
    "#     replay_buffer.add(state, action, reward, next_state)\n",
    "\n",
    "#     epidose_length += 1\n",
    "#     idx_sample += 1\n",
    "\n",
    "#     if epidose_length >= max_episode_length:\n",
    "#         state = env.reset()\n",
    "#         epidose_length = 0\n",
    "#     else:    \n",
    "#         state = next_state"
   ]
  },
  {
   "cell_type": "markdown",
   "metadata": {},
   "source": [
    "### Samples on the crosses of the box"
   ]
  },
  {
   "cell_type": "code",
   "execution_count": 4,
   "metadata": {},
   "outputs": [],
   "source": [
    "import jax.numpy as jnp\n",
    "\n",
    "from pbo.data_collection.replay_buffer import ReplayBuffer\n",
    "\n",
    "\n",
    "replay_buffer = ReplayBuffer()\n",
    "\n",
    "state = env.reset()\n",
    "idx_sample = 0\n",
    "epidose_length = 0\n",
    "\n",
    "for state in discrete_states:\n",
    "    for action in discrete_actions:\n",
    "        env.reset(jnp.array([state]))\n",
    "        next_state, reward, _, _ = env.step(jnp.array([action]))\n",
    "\n",
    "        replay_buffer.add(jnp.array([state]), jnp.array([action]), reward, next_state)"
   ]
  },
  {
   "cell_type": "markdown",
   "metadata": {},
   "source": [
    "## Visualize samples"
   ]
  },
  {
   "cell_type": "code",
   "execution_count": 5,
   "metadata": {},
   "outputs": [
    {
     "data": {
      "image/png": "[encoded data removed]",
      "text/plain": [
       "<Figure size 432x288 with 2 Axes>"
      ]
     },
     "metadata": {
      "needs_background": "light"
     },
     "output_type": "display_data"
    }
   ],
   "source": [
    "from pbo.data_collection.count_samples import count_samples\n",
    "from pbo.utils.state_action_mesh import StateActionMesh\n",
    "\n",
    "\n",
    "samples_count, n_outside_boxes = count_samples(replay_buffer, discrete_states_boxes, discrete_actions_boxes)\n",
    "samples_visu_mesh = StateActionMesh(discrete_states, discrete_actions, sleeping_time=0)\n",
    "\n",
    "samples_visu_mesh.set_values(samples_count, zeros_to_nan=True)\n",
    "samples_visu_mesh.show(\n",
    "    f\"Samples repartition, \\n{int(100 * n_outside_boxes / n_samples)}% are outside the box.\"\n",
    ")\n"
   ]
  },
  {
   "cell_type": "markdown",
   "metadata": {},
   "source": [
    "## Optimal Q function"
   ]
  },
  {
   "cell_type": "code",
   "execution_count": 11,
   "metadata": {},
   "outputs": [
    {
     "data": {
      "image/png": "[encoded data removed]",
      "text/plain": [
       "<Figure size 432x288 with 2 Axes>"
      ]
     },
     "metadata": {
      "needs_background": "light"
     },
     "output_type": "display_data"
    }
   ],
   "source": [
    "import pandas as pd\n",
    "from pbo.utils.compute_Q_lqr import compute_Q_lqr\n",
    "\n",
    "\n",
    "optimal_q = compute_Q_lqr(env, discrete_states, discrete_actions, gamma)\n",
    "optimal_q_pd = pd.DataFrame(optimal_q, index=discrete_states, columns=discrete_actions)\n",
    "\n",
    "q_visu_mesh = StateActionMesh(discrete_states, discrete_actions, sleeping_time)\n",
    "\n",
    "q_visu_mesh.set_values(optimal_q)\n",
    "q_visu_mesh.show(\"Optimal q function\")"
   ]
  },
  {
   "cell_type": "markdown",
   "metadata": {},
   "source": [
    "## Build q network and its dataloader"
   ]
  },
  {
   "cell_type": "code",
   "execution_count": 12,
   "metadata": {},
   "outputs": [],
   "source": [
    "from pbo.networks.jax.q import FullyConnectedQ\n",
    "from pbo.data_collection.dataloader import DataLoader\n",
    "\n",
    "\n",
    "q = FullyConnectedQ(\n",
    "    layer_dimension=layer_dimension,\n",
    "    network_key=q_network_key,\n",
    "    random_weights_range=random_weights_range,\n",
    "    random_weights_key=random_weights_key,\n",
    "    action_range_on_max=action_range_on_max,\n",
    "    n_actions_on_max=n_actions_on_max,\n",
    ")\n",
    "\n",
    "replay_buffer.cast_to_jax_array()\n",
    "data_loader_q = DataLoader(replay_buffer, batch_size_q, shuffle_key)"
   ]
  },
  {
   "cell_type": "markdown",
   "metadata": {},
   "source": [
    "## Train Q \n",
    "Objective: See if the representation power of the network of Q is powerful enough to represent the optimal Q"
   ]
  },
  {
   "cell_type": "code",
   "execution_count": 13,
   "metadata": {},
   "outputs": [
    {
     "data": {
      "image/png": "[encoded data removed]",
      "text/plain": [
       "<Figure size 432x288 with 2 Axes>"
      ]
     },
     "metadata": {
      "needs_background": "light"
     },
     "output_type": "display_data"
    },
    {
     "ename": "KeyboardInterrupt",
     "evalue": "",
     "output_type": "error",
     "traceback": [
      "\u001b[0;31m---------------------------------------------------------------------------\u001b[0m",
      "\u001b[0;31mKeyboardInterrupt\u001b[0m                         Traceback (most recent call last)",
      "\u001b[1;32m/home/vincent/Darmstadt/PBO/pbo_lqr_jax.ipynb Cell 17'\u001b[0m in \u001b[0;36m<cell line: 16>\u001b[0;34m()\u001b[0m\n\u001b[1;32m     <a href='vscode-notebook-cell:/home/vincent/Darmstadt/PBO/pbo_lqr_jax.ipynb#ch0000016?line=18'>19</a>\u001b[0m data_loader_q\u001b[39m.\u001b[39mshuffle()\n\u001b[1;32m     <a href='vscode-notebook-cell:/home/vincent/Darmstadt/PBO/pbo_lqr_jax.ipynb#ch0000016?line=19'>20</a>\u001b[0m \u001b[39mfor\u001b[39;00m batch \u001b[39min\u001b[39;00m data_loader_q:\n\u001b[0;32m---> <a href='vscode-notebook-cell:/home/vincent/Darmstadt/PBO/pbo_lqr_jax.ipynb#ch0000016?line=20'>21</a>\u001b[0m     target \u001b[39m=\u001b[39m jnp\u001b[39m.\u001b[39mdiag(optimal_q_pd\u001b[39m.\u001b[39;49mloc[batch[\u001b[39m\"\u001b[39;49m\u001b[39mstate\u001b[39;49m\u001b[39m\"\u001b[39;49m]\u001b[39m.\u001b[39;49mflatten(), batch[\u001b[39m\"\u001b[39;49m\u001b[39maction\u001b[39;49m\u001b[39m\"\u001b[39;49m]\u001b[39m.\u001b[39;49mflatten()]\u001b[39m.\u001b[39mvalues)\u001b[39m.\u001b[39mreshape(\u001b[39m-\u001b[39m\u001b[39m1\u001b[39m, \u001b[39m1\u001b[39m)\n\u001b[1;32m     <a href='vscode-notebook-cell:/home/vincent/Darmstadt/PBO/pbo_lqr_jax.ipynb#ch0000016?line=22'>23</a>\u001b[0m     loss, grad_loss \u001b[39m=\u001b[39m q_function\u001b[39m.\u001b[39ml1_loss_and_grad_loss(q_function\u001b[39m.\u001b[39mparams, batch[\u001b[39m\"\u001b[39m\u001b[39mstate\u001b[39m\u001b[39m\"\u001b[39m], batch[\u001b[39m\"\u001b[39m\u001b[39maction\u001b[39m\u001b[39m\"\u001b[39m], target)\n\u001b[1;32m     <a href='vscode-notebook-cell:/home/vincent/Darmstadt/PBO/pbo_lqr_jax.ipynb#ch0000016?line=23'>24</a>\u001b[0m     updates, optimizer_state \u001b[39m=\u001b[39m optimizer\u001b[39m.\u001b[39mupdate(\n\u001b[1;32m     <a href='vscode-notebook-cell:/home/vincent/Darmstadt/PBO/pbo_lqr_jax.ipynb#ch0000016?line=24'>25</a>\u001b[0m         grad_loss, optimizer_state\n\u001b[1;32m     <a href='vscode-notebook-cell:/home/vincent/Darmstadt/PBO/pbo_lqr_jax.ipynb#ch0000016?line=25'>26</a>\u001b[0m     )\n",
      "File \u001b[0;32m~/Darmstadt/PBO/env/lib/python3.8/site-packages/pandas/core/indexing.py:961\u001b[0m, in \u001b[0;36m_LocationIndexer.__getitem__\u001b[0;34m(self, key)\u001b[0m\n\u001b[1;32m    <a href='file:///home/vincent/Darmstadt/PBO/env/lib/python3.8/site-packages/pandas/core/indexing.py?line=958'>959</a>\u001b[0m     \u001b[39mif\u001b[39;00m \u001b[39mself\u001b[39m\u001b[39m.\u001b[39m_is_scalar_access(key):\n\u001b[1;32m    <a href='file:///home/vincent/Darmstadt/PBO/env/lib/python3.8/site-packages/pandas/core/indexing.py?line=959'>960</a>\u001b[0m         \u001b[39mreturn\u001b[39;00m \u001b[39mself\u001b[39m\u001b[39m.\u001b[39mobj\u001b[39m.\u001b[39m_get_value(\u001b[39m*\u001b[39mkey, takeable\u001b[39m=\u001b[39m\u001b[39mself\u001b[39m\u001b[39m.\u001b[39m_takeable)\n\u001b[0;32m--> <a href='file:///home/vincent/Darmstadt/PBO/env/lib/python3.8/site-packages/pandas/core/indexing.py?line=960'>961</a>\u001b[0m     \u001b[39mreturn\u001b[39;00m \u001b[39mself\u001b[39;49m\u001b[39m.\u001b[39;49m_getitem_tuple(key)\n\u001b[1;32m    <a href='file:///home/vincent/Darmstadt/PBO/env/lib/python3.8/site-packages/pandas/core/indexing.py?line=961'>962</a>\u001b[0m \u001b[39melse\u001b[39;00m:\n\u001b[1;32m    <a href='file:///home/vincent/Darmstadt/PBO/env/lib/python3.8/site-packages/pandas/core/indexing.py?line=962'>963</a>\u001b[0m     \u001b[39m# we by definition only have the 0th axis\u001b[39;00m\n\u001b[1;32m    <a href='file:///home/vincent/Darmstadt/PBO/env/lib/python3.8/site-packages/pandas/core/indexing.py?line=963'>964</a>\u001b[0m     axis \u001b[39m=\u001b[39m \u001b[39mself\u001b[39m\u001b[39m.\u001b[39maxis \u001b[39mor\u001b[39;00m \u001b[39m0\u001b[39m\n",
      "File \u001b[0;32m~/Darmstadt/PBO/env/lib/python3.8/site-packages/pandas/core/indexing.py:1147\u001b[0m, in \u001b[0;36m_LocIndexer._getitem_tuple\u001b[0;34m(self, tup)\u001b[0m\n\u001b[1;32m   <a href='file:///home/vincent/Darmstadt/PBO/env/lib/python3.8/site-packages/pandas/core/indexing.py?line=1144'>1145</a>\u001b[0m \u001b[39m# ugly hack for GH #836\u001b[39;00m\n\u001b[1;32m   <a href='file:///home/vincent/Darmstadt/PBO/env/lib/python3.8/site-packages/pandas/core/indexing.py?line=1145'>1146</a>\u001b[0m \u001b[39mif\u001b[39;00m \u001b[39mself\u001b[39m\u001b[39m.\u001b[39m_multi_take_opportunity(tup):\n\u001b[0;32m-> <a href='file:///home/vincent/Darmstadt/PBO/env/lib/python3.8/site-packages/pandas/core/indexing.py?line=1146'>1147</a>\u001b[0m     \u001b[39mreturn\u001b[39;00m \u001b[39mself\u001b[39;49m\u001b[39m.\u001b[39;49m_multi_take(tup)\n\u001b[1;32m   <a href='file:///home/vincent/Darmstadt/PBO/env/lib/python3.8/site-packages/pandas/core/indexing.py?line=1148'>1149</a>\u001b[0m \u001b[39mreturn\u001b[39;00m \u001b[39mself\u001b[39m\u001b[39m.\u001b[39m_getitem_tuple_same_dim(tup)\n",
      "File \u001b[0;32m~/Darmstadt/PBO/env/lib/python3.8/site-packages/pandas/core/indexing.py:1098\u001b[0m, in \u001b[0;36m_LocIndexer._multi_take\u001b[0;34m(self, tup)\u001b[0m\n\u001b[1;32m   <a href='file:///home/vincent/Darmstadt/PBO/env/lib/python3.8/site-packages/pandas/core/indexing.py?line=1081'>1082</a>\u001b[0m \u001b[39m\"\"\"\u001b[39;00m\n\u001b[1;32m   <a href='file:///home/vincent/Darmstadt/PBO/env/lib/python3.8/site-packages/pandas/core/indexing.py?line=1082'>1083</a>\u001b[0m \u001b[39mCreate the indexers for the passed tuple of keys, and\u001b[39;00m\n\u001b[1;32m   <a href='file:///home/vincent/Darmstadt/PBO/env/lib/python3.8/site-packages/pandas/core/indexing.py?line=1083'>1084</a>\u001b[0m \u001b[39mexecutes the take operation. This allows the take operation to be\u001b[39;00m\n\u001b[0;32m   (...)\u001b[0m\n\u001b[1;32m   <a href='file:///home/vincent/Darmstadt/PBO/env/lib/python3.8/site-packages/pandas/core/indexing.py?line=1094'>1095</a>\u001b[0m \u001b[39mvalues: same type as the object being indexed\u001b[39;00m\n\u001b[1;32m   <a href='file:///home/vincent/Darmstadt/PBO/env/lib/python3.8/site-packages/pandas/core/indexing.py?line=1095'>1096</a>\u001b[0m \u001b[39m\"\"\"\u001b[39;00m\n\u001b[1;32m   <a href='file:///home/vincent/Darmstadt/PBO/env/lib/python3.8/site-packages/pandas/core/indexing.py?line=1096'>1097</a>\u001b[0m \u001b[39m# GH 836\u001b[39;00m\n\u001b[0;32m-> <a href='file:///home/vincent/Darmstadt/PBO/env/lib/python3.8/site-packages/pandas/core/indexing.py?line=1097'>1098</a>\u001b[0m d \u001b[39m=\u001b[39m {\n\u001b[1;32m   <a href='file:///home/vincent/Darmstadt/PBO/env/lib/python3.8/site-packages/pandas/core/indexing.py?line=1098'>1099</a>\u001b[0m     axis: \u001b[39mself\u001b[39m\u001b[39m.\u001b[39m_get_listlike_indexer(key, axis)\n\u001b[1;32m   <a href='file:///home/vincent/Darmstadt/PBO/env/lib/python3.8/site-packages/pandas/core/indexing.py?line=1099'>1100</a>\u001b[0m     \u001b[39mfor\u001b[39;00m (key, axis) \u001b[39min\u001b[39;00m \u001b[39mzip\u001b[39m(tup, \u001b[39mself\u001b[39m\u001b[39m.\u001b[39mobj\u001b[39m.\u001b[39m_AXIS_ORDERS)\n\u001b[1;32m   <a href='file:///home/vincent/Darmstadt/PBO/env/lib/python3.8/site-packages/pandas/core/indexing.py?line=1100'>1101</a>\u001b[0m }\n\u001b[1;32m   <a href='file:///home/vincent/Darmstadt/PBO/env/lib/python3.8/site-packages/pandas/core/indexing.py?line=1101'>1102</a>\u001b[0m \u001b[39mreturn\u001b[39;00m \u001b[39mself\u001b[39m\u001b[39m.\u001b[39mobj\u001b[39m.\u001b[39m_reindex_with_indexers(d, copy\u001b[39m=\u001b[39m\u001b[39mTrue\u001b[39;00m, allow_dups\u001b[39m=\u001b[39m\u001b[39mTrue\u001b[39;00m)\n",
      "File \u001b[0;32m~/Darmstadt/PBO/env/lib/python3.8/site-packages/pandas/core/indexing.py:1099\u001b[0m, in \u001b[0;36m<dictcomp>\u001b[0;34m(.0)\u001b[0m\n\u001b[1;32m   <a href='file:///home/vincent/Darmstadt/PBO/env/lib/python3.8/site-packages/pandas/core/indexing.py?line=1081'>1082</a>\u001b[0m \u001b[39m\"\"\"\u001b[39;00m\n\u001b[1;32m   <a href='file:///home/vincent/Darmstadt/PBO/env/lib/python3.8/site-packages/pandas/core/indexing.py?line=1082'>1083</a>\u001b[0m \u001b[39mCreate the indexers for the passed tuple of keys, and\u001b[39;00m\n\u001b[1;32m   <a href='file:///home/vincent/Darmstadt/PBO/env/lib/python3.8/site-packages/pandas/core/indexing.py?line=1083'>1084</a>\u001b[0m \u001b[39mexecutes the take operation. This allows the take operation to be\u001b[39;00m\n\u001b[0;32m   (...)\u001b[0m\n\u001b[1;32m   <a href='file:///home/vincent/Darmstadt/PBO/env/lib/python3.8/site-packages/pandas/core/indexing.py?line=1094'>1095</a>\u001b[0m \u001b[39mvalues: same type as the object being indexed\u001b[39;00m\n\u001b[1;32m   <a href='file:///home/vincent/Darmstadt/PBO/env/lib/python3.8/site-packages/pandas/core/indexing.py?line=1095'>1096</a>\u001b[0m \u001b[39m\"\"\"\u001b[39;00m\n\u001b[1;32m   <a href='file:///home/vincent/Darmstadt/PBO/env/lib/python3.8/site-packages/pandas/core/indexing.py?line=1096'>1097</a>\u001b[0m \u001b[39m# GH 836\u001b[39;00m\n\u001b[1;32m   <a href='file:///home/vincent/Darmstadt/PBO/env/lib/python3.8/site-packages/pandas/core/indexing.py?line=1097'>1098</a>\u001b[0m d \u001b[39m=\u001b[39m {\n\u001b[0;32m-> <a href='file:///home/vincent/Darmstadt/PBO/env/lib/python3.8/site-packages/pandas/core/indexing.py?line=1098'>1099</a>\u001b[0m     axis: \u001b[39mself\u001b[39;49m\u001b[39m.\u001b[39;49m_get_listlike_indexer(key, axis)\n\u001b[1;32m   <a href='file:///home/vincent/Darmstadt/PBO/env/lib/python3.8/site-packages/pandas/core/indexing.py?line=1099'>1100</a>\u001b[0m     \u001b[39mfor\u001b[39;00m (key, axis) \u001b[39min\u001b[39;00m \u001b[39mzip\u001b[39m(tup, \u001b[39mself\u001b[39m\u001b[39m.\u001b[39mobj\u001b[39m.\u001b[39m_AXIS_ORDERS)\n\u001b[1;32m   <a href='file:///home/vincent/Darmstadt/PBO/env/lib/python3.8/site-packages/pandas/core/indexing.py?line=1100'>1101</a>\u001b[0m }\n\u001b[1;32m   <a href='file:///home/vincent/Darmstadt/PBO/env/lib/python3.8/site-packages/pandas/core/indexing.py?line=1101'>1102</a>\u001b[0m \u001b[39mreturn\u001b[39;00m \u001b[39mself\u001b[39m\u001b[39m.\u001b[39mobj\u001b[39m.\u001b[39m_reindex_with_indexers(d, copy\u001b[39m=\u001b[39m\u001b[39mTrue\u001b[39;00m, allow_dups\u001b[39m=\u001b[39m\u001b[39mTrue\u001b[39;00m)\n",
      "File \u001b[0;32m~/Darmstadt/PBO/env/lib/python3.8/site-packages/pandas/core/indexing.py:1327\u001b[0m, in \u001b[0;36m_LocIndexer._get_listlike_indexer\u001b[0;34m(self, key, axis)\u001b[0m\n\u001b[1;32m   <a href='file:///home/vincent/Darmstadt/PBO/env/lib/python3.8/site-packages/pandas/core/indexing.py?line=1323'>1324</a>\u001b[0m ax \u001b[39m=\u001b[39m \u001b[39mself\u001b[39m\u001b[39m.\u001b[39mobj\u001b[39m.\u001b[39m_get_axis(axis)\n\u001b[1;32m   <a href='file:///home/vincent/Darmstadt/PBO/env/lib/python3.8/site-packages/pandas/core/indexing.py?line=1324'>1325</a>\u001b[0m axis_name \u001b[39m=\u001b[39m \u001b[39mself\u001b[39m\u001b[39m.\u001b[39mobj\u001b[39m.\u001b[39m_get_axis_name(axis)\n\u001b[0;32m-> <a href='file:///home/vincent/Darmstadt/PBO/env/lib/python3.8/site-packages/pandas/core/indexing.py?line=1326'>1327</a>\u001b[0m keyarr, indexer \u001b[39m=\u001b[39m ax\u001b[39m.\u001b[39;49m_get_indexer_strict(key, axis_name)\n\u001b[1;32m   <a href='file:///home/vincent/Darmstadt/PBO/env/lib/python3.8/site-packages/pandas/core/indexing.py?line=1328'>1329</a>\u001b[0m \u001b[39mreturn\u001b[39;00m keyarr, indexer\n",
      "File \u001b[0;32m~/Darmstadt/PBO/env/lib/python3.8/site-packages/pandas/core/indexes/base.py:5777\u001b[0m, in \u001b[0;36mIndex._get_indexer_strict\u001b[0;34m(self, key, axis_name)\u001b[0m\n\u001b[1;32m   <a href='file:///home/vincent/Darmstadt/PBO/env/lib/python3.8/site-packages/pandas/core/indexes/base.py?line=5773'>5774</a>\u001b[0m     keyarr \u001b[39m=\u001b[39m com\u001b[39m.\u001b[39masarray_tuplesafe(keyarr)\n\u001b[1;32m   <a href='file:///home/vincent/Darmstadt/PBO/env/lib/python3.8/site-packages/pandas/core/indexes/base.py?line=5775'>5776</a>\u001b[0m \u001b[39mif\u001b[39;00m \u001b[39mself\u001b[39m\u001b[39m.\u001b[39m_index_as_unique:\n\u001b[0;32m-> <a href='file:///home/vincent/Darmstadt/PBO/env/lib/python3.8/site-packages/pandas/core/indexes/base.py?line=5776'>5777</a>\u001b[0m     indexer \u001b[39m=\u001b[39m \u001b[39mself\u001b[39;49m\u001b[39m.\u001b[39;49mget_indexer_for(keyarr)\n\u001b[1;32m   <a href='file:///home/vincent/Darmstadt/PBO/env/lib/python3.8/site-packages/pandas/core/indexes/base.py?line=5777'>5778</a>\u001b[0m     keyarr \u001b[39m=\u001b[39m \u001b[39mself\u001b[39m\u001b[39m.\u001b[39mreindex(keyarr)[\u001b[39m0\u001b[39m]\n\u001b[1;32m   <a href='file:///home/vincent/Darmstadt/PBO/env/lib/python3.8/site-packages/pandas/core/indexes/base.py?line=5778'>5779</a>\u001b[0m \u001b[39melse\u001b[39;00m:\n",
      "File \u001b[0;32m~/Darmstadt/PBO/env/lib/python3.8/site-packages/pandas/core/indexes/base.py:5764\u001b[0m, in \u001b[0;36mIndex.get_indexer_for\u001b[0;34m(self, target)\u001b[0m\n\u001b[1;32m   <a href='file:///home/vincent/Darmstadt/PBO/env/lib/python3.8/site-packages/pandas/core/indexes/base.py?line=5745'>5746</a>\u001b[0m \u001b[39m\"\"\"\u001b[39;00m\n\u001b[1;32m   <a href='file:///home/vincent/Darmstadt/PBO/env/lib/python3.8/site-packages/pandas/core/indexes/base.py?line=5746'>5747</a>\u001b[0m \u001b[39mGuaranteed return of an indexer even when non-unique.\u001b[39;00m\n\u001b[1;32m   <a href='file:///home/vincent/Darmstadt/PBO/env/lib/python3.8/site-packages/pandas/core/indexes/base.py?line=5747'>5748</a>\u001b[0m \n\u001b[0;32m   (...)\u001b[0m\n\u001b[1;32m   <a href='file:///home/vincent/Darmstadt/PBO/env/lib/python3.8/site-packages/pandas/core/indexes/base.py?line=5760'>5761</a>\u001b[0m \u001b[39marray([0, 2])\u001b[39;00m\n\u001b[1;32m   <a href='file:///home/vincent/Darmstadt/PBO/env/lib/python3.8/site-packages/pandas/core/indexes/base.py?line=5761'>5762</a>\u001b[0m \u001b[39m\"\"\"\u001b[39;00m\n\u001b[1;32m   <a href='file:///home/vincent/Darmstadt/PBO/env/lib/python3.8/site-packages/pandas/core/indexes/base.py?line=5762'>5763</a>\u001b[0m \u001b[39mif\u001b[39;00m \u001b[39mself\u001b[39m\u001b[39m.\u001b[39m_index_as_unique:\n\u001b[0;32m-> <a href='file:///home/vincent/Darmstadt/PBO/env/lib/python3.8/site-packages/pandas/core/indexes/base.py?line=5763'>5764</a>\u001b[0m     \u001b[39mreturn\u001b[39;00m \u001b[39mself\u001b[39;49m\u001b[39m.\u001b[39;49mget_indexer(target)\n\u001b[1;32m   <a href='file:///home/vincent/Darmstadt/PBO/env/lib/python3.8/site-packages/pandas/core/indexes/base.py?line=5764'>5765</a>\u001b[0m indexer, _ \u001b[39m=\u001b[39m \u001b[39mself\u001b[39m\u001b[39m.\u001b[39mget_indexer_non_unique(target)\n\u001b[1;32m   <a href='file:///home/vincent/Darmstadt/PBO/env/lib/python3.8/site-packages/pandas/core/indexes/base.py?line=5765'>5766</a>\u001b[0m \u001b[39mreturn\u001b[39;00m indexer\n",
      "File \u001b[0;32m~/Darmstadt/PBO/env/lib/python3.8/site-packages/pandas/core/indexes/base.py:3784\u001b[0m, in \u001b[0;36mIndex.get_indexer\u001b[0;34m(self, target, method, limit, tolerance)\u001b[0m\n\u001b[1;32m   <a href='file:///home/vincent/Darmstadt/PBO/env/lib/python3.8/site-packages/pandas/core/indexes/base.py?line=3778'>3779</a>\u001b[0m     target \u001b[39m=\u001b[39m target\u001b[39m.\u001b[39mastype(dtype, copy\u001b[39m=\u001b[39m\u001b[39mFalse\u001b[39;00m)\n\u001b[1;32m   <a href='file:///home/vincent/Darmstadt/PBO/env/lib/python3.8/site-packages/pandas/core/indexes/base.py?line=3779'>3780</a>\u001b[0m     \u001b[39mreturn\u001b[39;00m this\u001b[39m.\u001b[39m_get_indexer(\n\u001b[1;32m   <a href='file:///home/vincent/Darmstadt/PBO/env/lib/python3.8/site-packages/pandas/core/indexes/base.py?line=3780'>3781</a>\u001b[0m         target, method\u001b[39m=\u001b[39mmethod, limit\u001b[39m=\u001b[39mlimit, tolerance\u001b[39m=\u001b[39mtolerance\n\u001b[1;32m   <a href='file:///home/vincent/Darmstadt/PBO/env/lib/python3.8/site-packages/pandas/core/indexes/base.py?line=3781'>3782</a>\u001b[0m     )\n\u001b[0;32m-> <a href='file:///home/vincent/Darmstadt/PBO/env/lib/python3.8/site-packages/pandas/core/indexes/base.py?line=3783'>3784</a>\u001b[0m \u001b[39mreturn\u001b[39;00m \u001b[39mself\u001b[39;49m\u001b[39m.\u001b[39;49m_get_indexer(target, method, limit, tolerance)\n",
      "File \u001b[0;32m~/Darmstadt/PBO/env/lib/python3.8/site-packages/pandas/core/indexes/base.py:3809\u001b[0m, in \u001b[0;36mIndex._get_indexer\u001b[0;34m(self, target, method, limit, tolerance)\u001b[0m\n\u001b[1;32m   <a href='file:///home/vincent/Darmstadt/PBO/env/lib/python3.8/site-packages/pandas/core/indexes/base.py?line=3803'>3804</a>\u001b[0m         \u001b[39m# error: \"IndexEngine\" has no attribute \"_extract_level_codes\"\u001b[39;00m\n\u001b[1;32m   <a href='file:///home/vincent/Darmstadt/PBO/env/lib/python3.8/site-packages/pandas/core/indexes/base.py?line=3804'>3805</a>\u001b[0m         tgt_values \u001b[39m=\u001b[39m engine\u001b[39m.\u001b[39m_extract_level_codes(  \u001b[39m# type: ignore[attr-defined]\u001b[39;00m\n\u001b[1;32m   <a href='file:///home/vincent/Darmstadt/PBO/env/lib/python3.8/site-packages/pandas/core/indexes/base.py?line=3805'>3806</a>\u001b[0m             target\n\u001b[1;32m   <a href='file:///home/vincent/Darmstadt/PBO/env/lib/python3.8/site-packages/pandas/core/indexes/base.py?line=3806'>3807</a>\u001b[0m         )\n\u001b[0;32m-> <a href='file:///home/vincent/Darmstadt/PBO/env/lib/python3.8/site-packages/pandas/core/indexes/base.py?line=3808'>3809</a>\u001b[0m     indexer \u001b[39m=\u001b[39m \u001b[39mself\u001b[39;49m\u001b[39m.\u001b[39;49m_engine\u001b[39m.\u001b[39;49mget_indexer(tgt_values)\n\u001b[1;32m   <a href='file:///home/vincent/Darmstadt/PBO/env/lib/python3.8/site-packages/pandas/core/indexes/base.py?line=3810'>3811</a>\u001b[0m \u001b[39mreturn\u001b[39;00m ensure_platform_int(indexer)\n",
      "\u001b[0;31mKeyboardInterrupt\u001b[0m: "
     ]
    }
   ],
   "source": [
    "import optax\n",
    "import jax.numpy as jnp\n",
    "\n",
    "\n",
    "optimizer = optax.sgd(learning_rate=learning_rate_q)\n",
    "optimizer_state = optimizer.init(q.params)\n",
    "\n",
    "# For visualization\n",
    "former_discrete_q = q.discretize(q.params, discrete_states, discrete_actions)\n",
    "cumulative_losses = []\n",
    "shifts = []\n",
    "\n",
    "iteration = 0\n",
    "cumulative_loss = float(\"inf\")\n",
    "\n",
    "while cumulative_loss > n_discrete_states * n_discrete_actions and iteration < max_iterations:\n",
    "    cumulative_loss = 0\n",
    "\n",
    "    data_loader_q.shuffle()\n",
    "    for batch in data_loader_q:\n",
    "        # the target is the optimal Q\n",
    "        target = jnp.diag(optimal_q_pd.loc[batch[\"state\"].flatten(), batch[\"action\"].flatten()].values).reshape(-1, 1)\n",
    "\n",
    "        loss, grad_loss = q.l1_loss_and_grad(q.params, batch[\"state\"], batch[\"action\"], target)\n",
    "        updates, optimizer_state = optimizer.update(\n",
    "            grad_loss, optimizer_state\n",
    "        )\n",
    "        q.params = optax.apply_updates(q.params, updates)\n",
    "\n",
    "        cumulative_loss += loss\n",
    "\n",
    "    iteration += 1\n",
    "\n",
    "    # Visualization\n",
    "    if iteration % plot_freq == 0:\n",
    "        discrete_q = q.discretize(q.params, discrete_states, discrete_actions)\n",
    "        shift = np.linalg.norm(discrete_q - former_discrete_q)\n",
    "        \n",
    "        q_visu_mesh.set_values(optimal_q - discrete_q)\n",
    "        q_visu_mesh.show(f\"Optimal Q - Discrete Q at iteration {iteration}, \\nloss: {int(cumulative_loss)}, shift: {np.around(shift, 2)}\")\n",
    "        \n",
    "        cumulative_losses.append(cumulative_loss)\n",
    "        shifts.append(shift)\n",
    "        former_discrete_q = discrete_q\n",
    "\n",
    "good_q_params = q.params\n",
    "\n",
    "final_discrete_q = q.discretize(q.params, discrete_states, discrete_actions)\n",
    "q_visu_mesh.set_values(optimal_q - final_discrete_q)\n",
    "q_visu_mesh.show(f\"Optimal Q - Discrete Q at iteration {iteration}, \\n final loss: {int(cumulative_loss)}\")\n",
    "\n",
    "# Plot the shifts and the loss\n",
    "fig, ax1 = plt.subplots()\n",
    "\n",
    "ax1.set_xlabel(f\"every {plot_freq} iteration\")\n",
    "ax1.set_ylabel(\"cumulative loss\", color=\"blue\")\n",
    "ax1.plot(np.arange(len(cumulative_losses)), cumulative_losses, color=\"blue\")\n",
    "ax1.tick_params(axis=\"y\", labelcolor=\"blue\")\n",
    "\n",
    "ax2 = ax1.twinx()\n",
    "ax2.set_ylabel(\"shift\", color=\"red\")\n",
    "ax2.plot(np.arange(len(shifts)), shifts, color=\"red\")\n",
    "ax2.tick_params(axis=\"y\", labelcolor=\"red\")\n",
    "\n",
    "fig.tight_layout()\n",
    "plt.show()"
   ]
  },
  {
   "cell_type": "markdown",
   "metadata": {},
   "source": [
    "## Maximizing Q over actions"
   ]
  },
  {
   "cell_type": "markdown",
   "metadata": {},
   "source": [
    "- Q is not spiky so discretizing the action space should work\n",
    "- Taking random init weights gives smaller maximums than taking random weights"
   ]
  },
  {
   "cell_type": "code",
   "execution_count": 67,
   "metadata": {},
   "outputs": [
    {
     "ename": "NameError",
     "evalue": "name 'q' is not defined",
     "output_type": "error",
     "traceback": [
      "\u001b[0;31m---------------------------------------------------------------------------\u001b[0m",
      "\u001b[0;31mNameError\u001b[0m                                 Traceback (most recent call last)",
      "\u001b[1;32m/home/vincent/Darmstadt/PBO/pbo_lqr_jax.ipynb Cell 20'\u001b[0m in \u001b[0;36m<cell line: 5>\u001b[0;34m()\u001b[0m\n\u001b[1;32m      <a href='vscode-notebook-cell:/home/vincent/Darmstadt/PBO/pbo_lqr_jax.ipynb#ch0000019?line=0'>1</a>\u001b[0m \u001b[39mimport\u001b[39;00m \u001b[39mmatplotlib\u001b[39;00m\u001b[39m.\u001b[39;00m\u001b[39mpyplot\u001b[39;00m \u001b[39mas\u001b[39;00m \u001b[39mplt\u001b[39;00m\n\u001b[1;32m      <a href='vscode-notebook-cell:/home/vincent/Darmstadt/PBO/pbo_lqr_jax.ipynb#ch0000019?line=3'>4</a>\u001b[0m \u001b[39m# random_q_params = q.to_params(q.random_weights())\u001b[39;00m\n\u001b[0;32m----> <a href='vscode-notebook-cell:/home/vincent/Darmstadt/PBO/pbo_lqr_jax.ipynb#ch0000019?line=4'>5</a>\u001b[0m random_q_params \u001b[39m=\u001b[39m q\u001b[39m.\u001b[39mto_params(q\u001b[39m.\u001b[39mrandom_init_weights())\n\u001b[1;32m      <a href='vscode-notebook-cell:/home/vincent/Darmstadt/PBO/pbo_lqr_jax.ipynb#ch0000019?line=5'>6</a>\u001b[0m random_state \u001b[39m=\u001b[39m jnp\u001b[39m.\u001b[39marray([np\u001b[39m.\u001b[39mrandom\u001b[39m.\u001b[39muniform(\u001b[39m-\u001b[39mmax_discrete_state, max_discrete_state)])\n\u001b[1;32m      <a href='vscode-notebook-cell:/home/vincent/Darmstadt/PBO/pbo_lqr_jax.ipynb#ch0000019?line=7'>8</a>\u001b[0m discrete_actions_on_max \u001b[39m=\u001b[39m jnp\u001b[39m.\u001b[39mlinspace(\n\u001b[1;32m      <a href='vscode-notebook-cell:/home/vincent/Darmstadt/PBO/pbo_lqr_jax.ipynb#ch0000019?line=8'>9</a>\u001b[0m     \u001b[39m-\u001b[39m\u001b[39m20\u001b[39m, \u001b[39m20\u001b[39m, num\u001b[39m=\u001b[39m\u001b[39m10000\u001b[39m\n\u001b[1;32m     <a href='vscode-notebook-cell:/home/vincent/Darmstadt/PBO/pbo_lqr_jax.ipynb#ch0000019?line=9'>10</a>\u001b[0m )\u001b[39m.\u001b[39mreshape((\u001b[39m-\u001b[39m\u001b[39m1\u001b[39m, \u001b[39m1\u001b[39m))\n",
      "\u001b[0;31mNameError\u001b[0m: name 'q' is not defined"
     ]
    }
   ],
   "source": [
    "import matplotlib.pyplot as plt\n",
    "\n",
    "\n",
    "# random_q_params = q.to_params(q.random_weights())\n",
    "random_q_params = q.to_params(q.random_init_weights())\n",
    "random_state = jnp.array([np.random.uniform(-max_discrete_state, max_discrete_state)])\n",
    "\n",
    "discrete_actions_on_max = jnp.linspace(\n",
    "    -20, 20, num=10000\n",
    ").reshape((-1, 1))\n",
    "\n",
    "q_values = q.network.apply(\n",
    "    random_q_params, random_state.repeat(len(discrete_actions_on_max)).reshape((-1, 1)), discrete_actions_on_max\n",
    ")\n",
    "\n",
    "plt.plot(discrete_actions_on_max, q_values)\n",
    "plt.xlabel(\"action\")\n",
    "plt.ylabel(\"Q value\")\n",
    "_ = plt.title(f\"Max(Q): {q_values.max()}, for state {state[0]}\")"
   ]
  },
  {
   "cell_type": "markdown",
   "metadata": {},
   "source": [
    "## Build PBO network and its dataloader"
   ]
  },
  {
   "cell_type": "code",
   "execution_count": 40,
   "metadata": {},
   "outputs": [],
   "source": [
    "from pbo.networks.jax.pbo import LinearPBO\n",
    "\n",
    "\n",
    "pbo = LinearPBO(pbo_network_key, gamma, q)\n",
    "\n",
    "data_loader_pbo = DataLoader(replay_buffer, batch_size_pbo, shuffle_key)"
   ]
  },
  {
   "cell_type": "markdown",
   "metadata": {},
   "source": [
    "## Train PBO on one iteration over one random init weight"
   ]
  },
  {
   "cell_type": "markdown",
   "metadata": {},
   "source": [
    "### Starting from random init weiths"
   ]
  },
  {
   "cell_type": "code",
   "execution_count": 68,
   "metadata": {},
   "outputs": [
    {
     "ename": "NameError",
     "evalue": "name 'q' is not defined",
     "output_type": "error",
     "traceback": [
      "\u001b[0;31m---------------------------------------------------------------------------\u001b[0m",
      "\u001b[0;31mNameError\u001b[0m                                 Traceback (most recent call last)",
      "\u001b[1;32m/home/vincent/Darmstadt/PBO/pbo_lqr_jax.ipynb Cell 25'\u001b[0m in \u001b[0;36m<cell line: 1>\u001b[0;34m()\u001b[0m\n\u001b[0;32m----> <a href='vscode-notebook-cell:/home/vincent/Darmstadt/PBO/pbo_lqr_jax.ipynb#ch0000024?line=0'>1</a>\u001b[0m random_init_q_weights \u001b[39m=\u001b[39m q\u001b[39m.\u001b[39mrandom_init_weights()\n\u001b[1;32m      <a href='vscode-notebook-cell:/home/vincent/Darmstadt/PBO/pbo_lqr_jax.ipynb#ch0000024?line=1'>2</a>\u001b[0m random_init_q_params \u001b[39m=\u001b[39m q\u001b[39m.\u001b[39mto_params(random_init_q_weights)\n\u001b[1;32m      <a href='vscode-notebook-cell:/home/vincent/Darmstadt/PBO/pbo_lqr_jax.ipynb#ch0000024?line=3'>4</a>\u001b[0m discrete_q_from_random \u001b[39m=\u001b[39m q\u001b[39m.\u001b[39mget_discrete_q(random_init_q_params, discrete_states, discrete_actions)\n",
      "\u001b[0;31mNameError\u001b[0m: name 'q' is not defined"
     ]
    }
   ],
   "source": [
    "random_init_q_weights = q.random_init_weights()\n",
    "random_init_q_params = q.to_params(random_init_q_weights)\n",
    "\n",
    "discrete_q_from_random = q.discretize(random_init_q_params, discrete_states, discrete_actions)\n",
    "q_visu_mesh.set_values(discrete_q_from_random)\n",
    "q_visu_mesh.show(f\"Discrete Q with random init weights\")"
   ]
  },
  {
   "cell_type": "markdown",
   "metadata": {},
   "source": [
    "### Iterating over the Q function with the random init weiths"
   ]
  },
  {
   "cell_type": "code",
   "execution_count": 61,
   "metadata": {},
   "outputs": [
    {
     "data": {
      "image/png": "[encoded data removed]",
      "text/plain": [
       "<Figure size 432x288 with 2 Axes>"
      ]
     },
     "metadata": {
      "needs_background": "light"
     },
     "output_type": "display_data"
    }
   ],
   "source": [
    "full_batch = {\n",
    "    \"reward\": replay_buffer.rewards,\n",
    "    \"next_state\": replay_buffer.next_states,\n",
    "}\n",
    "discrete_iterated_q_from_random_init = pbo.compute_target(full_batch, random_init_q_weights.reshape(1, -1)).reshape((n_discrete_states, n_discrete_actions))\n",
    "discrete_iterated_q_from_random_init_pd = pd.DataFrame(discrete_iterated_q_from_random_init, index=discrete_states, columns=discrete_actions)\n",
    "\n",
    "q_visu_mesh.set_values(discrete_iterated_q_from_random_init)\n",
    "q_visu_mesh.show(\n",
    "    f\"Discrete iterated Q with random init weights. \\nDifference with optimal Q: {np.linalg.norm(discrete_iterated_q_from_random_init - optimal_q, ord=1)}\"\n",
    ")"
   ]
  },
  {
   "cell_type": "markdown",
   "metadata": {},
   "source": [
    "### Training"
   ]
  },
  {
   "cell_type": "code",
   "execution_count": 62,
   "metadata": {},
   "outputs": [
    {
     "data": {
      "image/png": "[encoded data removed]",
      "text/plain": [
       "<Figure size 432x288 with 2 Axes>"
      ]
     },
     "metadata": {
      "needs_background": "light"
     },
     "output_type": "display_data"
    },
    {
     "data": {
      "image/png": "[encoded data removed]",
      "text/plain": [
       "<Figure size 432x288 with 2 Axes>"
      ]
     },
     "metadata": {
      "needs_background": "light"
     },
     "output_type": "display_data"
    }
   ],
   "source": [
    "import optax\n",
    "\n",
    "optimizer = optax.sgd(learning_rate=learning_rate_pbo)\n",
    "optimizer_state = optimizer.init(pbo.params)\n",
    "\n",
    "# For visualization\n",
    "former_discrete_iterated_q = q.discretize(random_init_q_params, discrete_states, discrete_actions)\n",
    "cumulative_losses = []\n",
    "shifts = []\n",
    "\n",
    "iteration = 0\n",
    "cumulative_loss = float(\"inf\")\n",
    "\n",
    "while cumulative_loss > n_discrete_states * n_discrete_actions and iteration < max_iterations:\n",
    "    cumulative_loss = 0\n",
    "    \n",
    "    data_loader_pbo.shuffle()\n",
    "    for batch in data_loader_pbo:\n",
    "        target = pbo.compute_target(batch, random_init_q_weights.reshape(1, -1))  # reshape since only one weights\n",
    "\n",
    "        loss, grad_loss = pbo.loss_and_grad(pbo.params, batch, random_init_q_weights.reshape(1, -1), target)\n",
    "        updates, optimizer_state = optimizer.update(\n",
    "            grad_loss, optimizer_state\n",
    "        )\n",
    "        pbo.params = optax.apply_updates(pbo.params, updates)\n",
    "\n",
    "        cumulative_loss += loss\n",
    "\n",
    "    iteration += 1\n",
    "\n",
    "    # Visualization\n",
    "    if iteration % plot_freq == 0:\n",
    "        iterated_q_params = q.to_params(pbo.network.apply(pbo.params, random_init_q_weights))\n",
    "        discrete_iterated_q = q.discretize(iterated_q_params, discrete_states, discrete_actions)\n",
    "        shift = np.linalg.norm(discrete_iterated_q - former_discrete_iterated_q)\n",
    "\n",
    "        q_visu_mesh.set_values(discrete_iterated_q_from_random_init - discrete_iterated_q)\n",
    "        q_visu_mesh.show(f\"Discrete iterated Q with Bellmann - Discrete Q at iteration {iteration}, \\nloss: {int(cumulative_loss)}, shift: {np.around(shift, 2)}\")\n",
    "        \n",
    "        cumulative_losses.append(cumulative_loss)\n",
    "        shifts.append(shift)\n",
    "        former_discrete_iterated_q = discrete_iterated_q\n",
    "\n",
    "iterated_q_params = q.to_params(pbo.network.apply(pbo.params, random_init_q_weights))\n",
    "final_discrete_iterated_q = q.discretize(iterated_q_params, discrete_states, discrete_actions)\n",
    "q_visu_mesh.set_values(discrete_iterated_q_from_random_init - final_discrete_iterated_q)\n",
    "q_visu_mesh.show(f\"Discrete iterated Q with Bellmann - Discrete Q at iteration {iteration}, \\n final loss: {int(cumulative_loss)}\")\n",
    "\n",
    "# Plot the shifts and the loss\n",
    "fig, ax1 = plt.subplots()\n",
    "\n",
    "ax1.set_xlabel(f\"every {plot_freq} iteration\")\n",
    "ax1.set_ylabel(\"cumulative loss\", color=\"blue\")\n",
    "ax1.plot(np.arange(len(cumulative_losses)), cumulative_losses, color=\"blue\")\n",
    "ax1.tick_params(axis=\"y\", labelcolor=\"blue\")\n",
    "\n",
    "ax2 = ax1.twinx()\n",
    "ax2.set_ylabel(\"shift\", color=\"red\")\n",
    "ax2.plot(np.arange(len(shifts)), shifts, color=\"red\")\n",
    "ax2.tick_params(axis=\"y\", labelcolor=\"red\")\n",
    "\n",
    "fig.tight_layout()\n",
    "plt.show()"
   ]
  },
  {
   "cell_type": "markdown",
   "metadata": {},
   "source": [
    "## Train PBO on one iteration over two random init weight"
   ]
  },
  {
   "cell_type": "markdown",
   "metadata": {},
   "source": [
    "### Define the two random init weights and its iterated versions"
   ]
  },
  {
   "cell_type": "code",
   "execution_count": 65,
   "metadata": {},
   "outputs": [],
   "source": [
    "full_batch = {\n",
    "    \"reward\": replay_buffer.rewards,\n",
    "    \"next_state\": replay_buffer.next_states,\n",
    "}\n",
    "\n",
    "random_init_q_weights_1 = q_function.get_random_init_weights()\n",
    "random_init_q_params_1 = q_function.convert_to_params(random_init_q_weights_1)\n",
    "discrete_iterated_q_1 = pbo_function.compute_target(full_batch, random_init_q_weights_1.reshape(1, -1)).reshape((n_discrete_states, n_discrete_actions))\n",
    "\n",
    "random_init_q_weights_2 = q_function.get_random_init_weights()\n",
    "random_init_q_params_2 = q_function.convert_to_params(random_init_q_weights_2)\n",
    "discrete_iterated_q_2 = pbo_function.compute_target(full_batch, random_init_q_weights_2.reshape(1, -1)).reshape((n_discrete_states, n_discrete_actions))\n",
    "\n",
    "random_init_q_weights = jnp.vstack((random_init_q_weights_1, random_init_q_weights_2))"
   ]
  },
  {
   "cell_type": "markdown",
   "metadata": {},
   "source": [
    "### Training"
   ]
  },
  {
   "cell_type": "code",
   "execution_count": 66,
   "metadata": {},
   "outputs": [
    {
     "data": {
      "image/png": "[encoded data removed]",
      "text/plain": [
       "<Figure size 432x288 with 2 Axes>"
      ]
     },
     "metadata": {
      "needs_background": "light"
     },
     "output_type": "display_data"
    },
    {
     "ename": "KeyboardInterrupt",
     "evalue": "",
     "output_type": "error",
     "traceback": [
      "\u001b[0;31m---------------------------------------------------------------------------\u001b[0m",
      "\u001b[0;31mKeyboardInterrupt\u001b[0m                         Traceback (most recent call last)",
      "\u001b[1;32m/home/vincent/Darmstadt/PBO/pbo_lqr_jax.ipynb Cell 34'\u001b[0m in \u001b[0;36m<cell line: 15>\u001b[0;34m()\u001b[0m\n\u001b[1;32m     <a href='vscode-notebook-cell:/home/vincent/Darmstadt/PBO/pbo_lqr_jax.ipynb#ch0000037?line=17'>18</a>\u001b[0m data_loader_pbo\u001b[39m.\u001b[39mshuffle()\n\u001b[1;32m     <a href='vscode-notebook-cell:/home/vincent/Darmstadt/PBO/pbo_lqr_jax.ipynb#ch0000037?line=18'>19</a>\u001b[0m \u001b[39mfor\u001b[39;00m batch \u001b[39min\u001b[39;00m data_loader_pbo:\n\u001b[0;32m---> <a href='vscode-notebook-cell:/home/vincent/Darmstadt/PBO/pbo_lqr_jax.ipynb#ch0000037?line=19'>20</a>\u001b[0m     target \u001b[39m=\u001b[39m pbo_function\u001b[39m.\u001b[39;49mcompute_target(batch, random_init_q_weights)\n\u001b[1;32m     <a href='vscode-notebook-cell:/home/vincent/Darmstadt/PBO/pbo_lqr_jax.ipynb#ch0000037?line=21'>22</a>\u001b[0m     loss, grad_loss \u001b[39m=\u001b[39m pbo_function\u001b[39m.\u001b[39mloss_and_grad_loss(pbo_function\u001b[39m.\u001b[39mparams, batch, random_init_q_weights, target)\n\u001b[1;32m     <a href='vscode-notebook-cell:/home/vincent/Darmstadt/PBO/pbo_lqr_jax.ipynb#ch0000037?line=22'>23</a>\u001b[0m     updates, optimizer_state \u001b[39m=\u001b[39m optimizer\u001b[39m.\u001b[39mupdate(\n\u001b[1;32m     <a href='vscode-notebook-cell:/home/vincent/Darmstadt/PBO/pbo_lqr_jax.ipynb#ch0000037?line=23'>24</a>\u001b[0m         grad_loss, optimizer_state\n\u001b[1;32m     <a href='vscode-notebook-cell:/home/vincent/Darmstadt/PBO/pbo_lqr_jax.ipynb#ch0000037?line=24'>25</a>\u001b[0m     )\n",
      "File \u001b[0;32m~/Darmstadt/PBO/pbo/networks/jax/pbo.py:26\u001b[0m, in \u001b[0;36mBasePBOFunction.compute_target\u001b[0;34m(self, batch, weights)\u001b[0m\n\u001b[1;32m     <a href='file:///home/vincent/Darmstadt/PBO/pbo/networks/jax/pbo.py?line=23'>24</a>\u001b[0m \u001b[39mfor\u001b[39;00m idx_weights \u001b[39min\u001b[39;00m \u001b[39mrange\u001b[39m(weights_batch_size):\n\u001b[1;32m     <a href='file:///home/vincent/Darmstadt/PBO/pbo/networks/jax/pbo.py?line=24'>25</a>\u001b[0m     q_params \u001b[39m=\u001b[39m \u001b[39mself\u001b[39m\u001b[39m.\u001b[39mq_function\u001b[39m.\u001b[39mconvert_to_params(weights[idx_weights])\n\u001b[0;32m---> <a href='file:///home/vincent/Darmstadt/PBO/pbo/networks/jax/pbo.py?line=25'>26</a>\u001b[0m     target_weights \u001b[39m=\u001b[39m batch[\u001b[39m\"\u001b[39m\u001b[39mreward\u001b[39m\u001b[39m\"\u001b[39m] \u001b[39m+\u001b[39m \u001b[39mself\u001b[39m\u001b[39m.\u001b[39mgamma \u001b[39m*\u001b[39m \u001b[39mself\u001b[39;49m\u001b[39m.\u001b[39;49mq_function\u001b[39m.\u001b[39;49mmax_value(q_params, batch[\u001b[39m\"\u001b[39;49m\u001b[39mnext_state\u001b[39;49m\u001b[39m\"\u001b[39;49m])\n\u001b[1;32m     <a href='file:///home/vincent/Darmstadt/PBO/pbo/networks/jax/pbo.py?line=27'>28</a>\u001b[0m     target \u001b[39m=\u001b[39m target\u001b[39m.\u001b[39mat[idx_weights \u001b[39m*\u001b[39m sample_batch_size : (idx_weights \u001b[39m+\u001b[39m \u001b[39m1\u001b[39m) \u001b[39m*\u001b[39m sample_batch_size]\u001b[39m.\u001b[39mset(\n\u001b[1;32m     <a href='file:///home/vincent/Darmstadt/PBO/pbo/networks/jax/pbo.py?line=28'>29</a>\u001b[0m         target_weights\n\u001b[1;32m     <a href='file:///home/vincent/Darmstadt/PBO/pbo/networks/jax/pbo.py?line=29'>30</a>\u001b[0m     )\n\u001b[1;32m     <a href='file:///home/vincent/Darmstadt/PBO/pbo/networks/jax/pbo.py?line=31'>32</a>\u001b[0m \u001b[39mreturn\u001b[39;00m target\n",
      "File \u001b[0;32m~/Darmstadt/PBO/pbo/networks/jax/q.py:54\u001b[0m, in \u001b[0;36mBaseQFunction.max_value\u001b[0;34m(self, q_params, state)\u001b[0m\n\u001b[1;32m     <a href='file:///home/vincent/Darmstadt/PBO/pbo/networks/jax/q.py?line=49'>50</a>\u001b[0m max_value_batch \u001b[39m=\u001b[39m np\u001b[39m.\u001b[39mzeros(state\u001b[39m.\u001b[39mshape[\u001b[39m0\u001b[39m])\n\u001b[1;32m     <a href='file:///home/vincent/Darmstadt/PBO/pbo/networks/jax/q.py?line=51'>52</a>\u001b[0m \u001b[39mfor\u001b[39;00m idx_s, s \u001b[39min\u001b[39;00m \u001b[39menumerate\u001b[39m(state):\n\u001b[1;32m     <a href='file:///home/vincent/Darmstadt/PBO/pbo/networks/jax/q.py?line=52'>53</a>\u001b[0m     max_value_batch[idx_s] \u001b[39m=\u001b[39m \u001b[39mself\u001b[39m\u001b[39m.\u001b[39mnetwork\u001b[39m.\u001b[39mapply(\n\u001b[0;32m---> <a href='file:///home/vincent/Darmstadt/PBO/pbo/networks/jax/q.py?line=53'>54</a>\u001b[0m         q_params, s\u001b[39m.\u001b[39;49mrepeat(\u001b[39mself\u001b[39;49m\u001b[39m.\u001b[39;49mn_actions_on_max)\u001b[39m.\u001b[39;49mreshape((\u001b[39m-\u001b[39;49m\u001b[39m1\u001b[39;49m, \u001b[39m1\u001b[39;49m)), discrete_actions_on_max\n\u001b[1;32m     <a href='file:///home/vincent/Darmstadt/PBO/pbo/networks/jax/q.py?line=54'>55</a>\u001b[0m     )\u001b[39m.\u001b[39mmax()\n\u001b[1;32m     <a href='file:///home/vincent/Darmstadt/PBO/pbo/networks/jax/q.py?line=56'>57</a>\u001b[0m \u001b[39mreturn\u001b[39;00m jnp\u001b[39m.\u001b[39marray(max_value_batch)\u001b[39m.\u001b[39mreshape((\u001b[39m-\u001b[39m\u001b[39m1\u001b[39m, \u001b[39m1\u001b[39m))\n",
      "File \u001b[0;32m~/Darmstadt/PBO/env/lib/python3.8/site-packages/jax/_src/numpy/lax_numpy.py:747\u001b[0m, in \u001b[0;36m_reshape\u001b[0;34m(a, order, *args)\u001b[0m\n\u001b[1;32m    <a href='file:///home/vincent/Darmstadt/PBO/env/lib/python3.8/site-packages/jax/_src/numpy/lax_numpy.py?line=744'>745</a>\u001b[0m newshape \u001b[39m=\u001b[39m _compute_newshape(a, args[\u001b[39m0\u001b[39m] \u001b[39mif\u001b[39;00m \u001b[39mlen\u001b[39m(args) \u001b[39m==\u001b[39m \u001b[39m1\u001b[39m \u001b[39melse\u001b[39;00m args)\n\u001b[1;32m    <a href='file:///home/vincent/Darmstadt/PBO/env/lib/python3.8/site-packages/jax/_src/numpy/lax_numpy.py?line=745'>746</a>\u001b[0m \u001b[39mif\u001b[39;00m order \u001b[39m==\u001b[39m \u001b[39m\"\u001b[39m\u001b[39mC\u001b[39m\u001b[39m\"\u001b[39m:\n\u001b[0;32m--> <a href='file:///home/vincent/Darmstadt/PBO/env/lib/python3.8/site-packages/jax/_src/numpy/lax_numpy.py?line=746'>747</a>\u001b[0m   \u001b[39mreturn\u001b[39;00m lax\u001b[39m.\u001b[39;49mreshape(a, newshape, \u001b[39mNone\u001b[39;49;00m)\n\u001b[1;32m    <a href='file:///home/vincent/Darmstadt/PBO/env/lib/python3.8/site-packages/jax/_src/numpy/lax_numpy.py?line=747'>748</a>\u001b[0m \u001b[39melif\u001b[39;00m order \u001b[39m==\u001b[39m \u001b[39m\"\u001b[39m\u001b[39mF\u001b[39m\u001b[39m\"\u001b[39m:\n\u001b[1;32m    <a href='file:///home/vincent/Darmstadt/PBO/env/lib/python3.8/site-packages/jax/_src/numpy/lax_numpy.py?line=748'>749</a>\u001b[0m   dims \u001b[39m=\u001b[39m np\u001b[39m.\u001b[39marange(ndim(a))[::\u001b[39m-\u001b[39m\u001b[39m1\u001b[39m]\n",
      "File \u001b[0;32m~/Darmstadt/PBO/env/lib/python3.8/site-packages/jax/_src/lax/lax.py:810\u001b[0m, in \u001b[0;36mreshape\u001b[0;34m(operand, new_sizes, dimensions)\u001b[0m\n\u001b[1;32m    <a href='file:///home/vincent/Darmstadt/PBO/env/lib/python3.8/site-packages/jax/_src/lax/lax.py?line=807'>808</a>\u001b[0m   \u001b[39mreturn\u001b[39;00m operand\n\u001b[1;32m    <a href='file:///home/vincent/Darmstadt/PBO/env/lib/python3.8/site-packages/jax/_src/lax/lax.py?line=808'>809</a>\u001b[0m \u001b[39melse\u001b[39;00m:\n\u001b[0;32m--> <a href='file:///home/vincent/Darmstadt/PBO/env/lib/python3.8/site-packages/jax/_src/lax/lax.py?line=809'>810</a>\u001b[0m   \u001b[39mreturn\u001b[39;00m reshape_p\u001b[39m.\u001b[39;49mbind(\n\u001b[1;32m    <a href='file:///home/vincent/Darmstadt/PBO/env/lib/python3.8/site-packages/jax/_src/lax/lax.py?line=810'>811</a>\u001b[0m     operand, new_sizes\u001b[39m=\u001b[39;49mnew_sizes,\n\u001b[1;32m    <a href='file:///home/vincent/Darmstadt/PBO/env/lib/python3.8/site-packages/jax/_src/lax/lax.py?line=811'>812</a>\u001b[0m     dimensions\u001b[39m=\u001b[39;49m\u001b[39mNone\u001b[39;49;00m \u001b[39mif\u001b[39;49;00m dims \u001b[39mis\u001b[39;49;00m \u001b[39mNone\u001b[39;49;00m \u001b[39mor\u001b[39;49;00m same_dims \u001b[39melse\u001b[39;49;00m dims)\n",
      "File \u001b[0;32m~/Darmstadt/PBO/env/lib/python3.8/site-packages/jax/core.py:325\u001b[0m, in \u001b[0;36mPrimitive.bind\u001b[0;34m(self, *args, **params)\u001b[0m\n\u001b[1;32m    <a href='file:///home/vincent/Darmstadt/PBO/env/lib/python3.8/site-packages/jax/core.py?line=321'>322</a>\u001b[0m \u001b[39mdef\u001b[39;00m \u001b[39mbind\u001b[39m(\u001b[39mself\u001b[39m, \u001b[39m*\u001b[39margs, \u001b[39m*\u001b[39m\u001b[39m*\u001b[39mparams):\n\u001b[1;32m    <a href='file:///home/vincent/Darmstadt/PBO/env/lib/python3.8/site-packages/jax/core.py?line=322'>323</a>\u001b[0m   \u001b[39massert\u001b[39;00m (\u001b[39mnot\u001b[39;00m config\u001b[39m.\u001b[39mjax_enable_checks \u001b[39mor\u001b[39;00m\n\u001b[1;32m    <a href='file:///home/vincent/Darmstadt/PBO/env/lib/python3.8/site-packages/jax/core.py?line=323'>324</a>\u001b[0m           \u001b[39mall\u001b[39m(\u001b[39misinstance\u001b[39m(arg, Tracer) \u001b[39mor\u001b[39;00m valid_jaxtype(arg) \u001b[39mfor\u001b[39;00m arg \u001b[39min\u001b[39;00m args)), args\n\u001b[0;32m--> <a href='file:///home/vincent/Darmstadt/PBO/env/lib/python3.8/site-packages/jax/core.py?line=324'>325</a>\u001b[0m   \u001b[39mreturn\u001b[39;00m \u001b[39mself\u001b[39m\u001b[39m.\u001b[39mbind_with_trace(find_top_trace(args), args, params)\n",
      "File \u001b[0;32m~/Darmstadt/PBO/env/lib/python3.8/site-packages/jax/core.py:998\u001b[0m, in \u001b[0;36mfind_top_trace\u001b[0;34m(xs)\u001b[0m\n\u001b[1;32m    <a href='file:///home/vincent/Darmstadt/PBO/env/lib/python3.8/site-packages/jax/core.py?line=996'>997</a>\u001b[0m \u001b[39mdef\u001b[39;00m \u001b[39mfind_top_trace\u001b[39m(xs) \u001b[39m-\u001b[39m\u001b[39m>\u001b[39m Trace:\n\u001b[0;32m--> <a href='file:///home/vincent/Darmstadt/PBO/env/lib/python3.8/site-packages/jax/core.py?line=997'>998</a>\u001b[0m   top_tracer \u001b[39m=\u001b[39m \u001b[39mmax\u001b[39m((x \u001b[39mfor\u001b[39;00m x \u001b[39min\u001b[39;00m xs \u001b[39mif\u001b[39;00m \u001b[39misinstance\u001b[39m(x, Tracer)),\n\u001b[1;32m    <a href='file:///home/vincent/Darmstadt/PBO/env/lib/python3.8/site-packages/jax/core.py?line=998'>999</a>\u001b[0m                     default\u001b[39m=\u001b[39m\u001b[39mNone\u001b[39;00m, key\u001b[39m=\u001b[39mattrgetter(\u001b[39m'\u001b[39m\u001b[39m_trace.level\u001b[39m\u001b[39m'\u001b[39m))\n\u001b[1;32m   <a href='file:///home/vincent/Darmstadt/PBO/env/lib/python3.8/site-packages/jax/core.py?line=999'>1000</a>\u001b[0m   \u001b[39mif\u001b[39;00m top_tracer \u001b[39mis\u001b[39;00m \u001b[39mnot\u001b[39;00m \u001b[39mNone\u001b[39;00m:\n\u001b[1;32m   <a href='file:///home/vincent/Darmstadt/PBO/env/lib/python3.8/site-packages/jax/core.py?line=1000'>1001</a>\u001b[0m     top_tracer\u001b[39m.\u001b[39m_assert_live()\n",
      "\u001b[0;31mKeyboardInterrupt\u001b[0m: "
     ]
    }
   ],
   "source": [
    "import optax\n",
    "\n",
    "optimizer = optax.sgd(learning_rate=learning_rate_pbo)\n",
    "optimizer_state = optimizer.init(pbo_function.params)\n",
    "\n",
    "# For visualization\n",
    "previous_discrete_q_network_1 = q_function.get_discrete_q(random_init_q_params_1, discrete_states, discrete_actions)\n",
    "previous_discrete_q_network_2 = q_function.get_discrete_q(random_init_q_params_2, discrete_states, discrete_actions)\n",
    "cumulative_losses = []\n",
    "shifts = []\n",
    "\n",
    "iteration = 0\n",
    "cumulative_loss = float(\"inf\")\n",
    "\n",
    "while cumulative_loss > n_discrete_states * n_discrete_actions and iteration < max_iterations:\n",
    "    cumulative_loss = 0\n",
    "\n",
    "    data_loader_pbo.shuffle()\n",
    "    for batch in data_loader_pbo:\n",
    "        target = pbo_function.compute_target(batch, random_init_q_weights)\n",
    "\n",
    "        loss, grad_loss = pbo_function.loss_and_grad_loss(pbo_function.params, batch, random_init_q_weights, target)\n",
    "        updates, optimizer_state = optimizer.update(\n",
    "            grad_loss, optimizer_state\n",
    "        )\n",
    "        pbo_function.params = optax.apply_updates(pbo_function.params, updates)\n",
    "\n",
    "        cumulative_loss += loss\n",
    "\n",
    "    iteration += 1\n",
    "\n",
    "    # Plot Q network\n",
    "    if iteration % plot_freq == 0:\n",
    "        iterated_q_weights = pbo_function.network.apply(pbo_function.params, random_init_q_weights)\n",
    "        \n",
    "        iterated_q_params_1 = q_function.convert_to_params(iterated_q_weights[0])\n",
    "        discrete_q_network_1 = q_function.get_discrete_q(iterated_q_params_1, discrete_states, discrete_actions)        \n",
    "        iterated_q_params_2 = q_function.convert_to_params(iterated_q_weights[1])\n",
    "        discrete_q_network_2 = q_function.get_discrete_q(iterated_q_params_2, discrete_states, discrete_actions)\n",
    "\n",
    "        shift = (np.linalg.norm(discrete_q_network_1 - previous_discrete_q_network_1) + np.linalg.norm(discrete_q_network_1 - previous_discrete_q_network_1)) / 2\n",
    "\n",
    "        q_funcions_visualization_mesh.set_values(discrete_q_network_1)\n",
    "        q_funcions_visualization_mesh.show(f\"Discrete Q function 1 at iteration {iteration}, \\nloss: {int(cumulative_loss)}, shift: {np.around(shift, 2)}\")\n",
    "        \n",
    "        cumulative_losses.append(cumulative_loss)\n",
    "        shifts.append(shift)\n",
    "        previous_discrete_q_network = discrete_q_network\n",
    "\n",
    "iterated_q_weights = pbo_function.network.apply(pbo_function.params, random_init_q_weights)\n",
    "iterated_q_params_1 = q_function.convert_to_params(iterated_q_weights[0])\n",
    "discrete_q_network_1 = q_function.get_discrete_q(iterated_q_params_1, discrete_states, discrete_actions)        \n",
    "iterated_q_params_2 = q_function.convert_to_params(iterated_q_weights[1])\n",
    "discrete_q_network_2 = q_function.get_discrete_q(iterated_q_params_2, discrete_states, discrete_actions)\n",
    "\n",
    "q_funcions_visualization_mesh.set_values((np.abs(discrete_q_network_1 - discrete_iterated_q_1) + np.abs(discrete_q_network_2 - discrete_iterated_q_2)) / 2)\n",
    "q_funcions_visualization_mesh.show(f\"Difference between optimal Q function and the neural network Q at iteration {iteration}, \\n final loss: {int(cumulative_loss)}\")\n",
    "\n",
    "# Plot the shifts and the loss\n",
    "fig, ax1 = plt.subplots()\n",
    "\n",
    "ax1.set_xlabel(f\"every {plot_freq} iteration\")\n",
    "ax1.set_ylabel(\"cumulative loss\", color=\"blue\")\n",
    "ax1.plot(np.arange(len(cumulative_losses)), cumulative_losses, color=\"blue\")\n",
    "ax1.tick_params(axis=\"y\", labelcolor=\"blue\")\n",
    "\n",
    "ax2 = ax1.twinx()\n",
    "ax2.set_ylabel(\"shift\", color=\"red\")\n",
    "ax2.plot(np.arange(len(shifts)), shifts, color=\"red\")\n",
    "ax2.tick_params(axis=\"y\", labelcolor=\"red\")\n",
    "\n",
    "fig.tight_layout()\n",
    "plt.show()"
   ]
  },
  {
   "cell_type": "markdown",
   "metadata": {},
   "source": [
    "## Train PBO"
   ]
  },
  {
   "cell_type": "code",
   "execution_count": 63,
   "metadata": {},
   "outputs": [],
   "source": [
    "# import optax\n",
    "\n",
    "# optimizer = optax.sgd(learning_rate=learning_rate_pbo)\n",
    "# optimizer_state = optimizer.init(pbo_function.params)\n",
    "\n",
    "# for iteration in range(n_iterations):\n",
    "#     random_weights = q_function.get_random_init_weights()\n",
    "#     data_loader_pbo.shuffle()\n",
    "\n",
    "#     for batch in data_loader_pbo:\n",
    "#         target = pbo_function.compute_target(batch, random_weights)\n",
    "#         loss, grad_loss = pbo_function.loss_and_grad_loss(pbo_function.params, batch, random_weights, target)\n",
    "#         updates, optimizer_state = optimizer.update(\n",
    "#             grad_loss, optimizer_state\n",
    "#         )\n",
    "#         pbo_function.params = optax.apply_updates(pbo_function.params, updates)\n",
    "\n",
    "#     # Plot the fixed point Q network\n",
    "#     fixed_point_params = q_function.convert_to_params(pbo_function.get_fixed_point())\n",
    "#     discrete_q_network = q_function.get_discrete_q(fixed_point_params, discrete_states, discrete_actions)\n",
    "    \n",
    "#     # q_funcions_visualization_mesh.set_values(discrete_q_network)\n",
    "#     # q_funcions_visualization_mesh.show(f\"Discrete Q function at iteration {iteration}\")"
   ]
  }
 ],
 "metadata": {
  "interpreter": {
   "hash": "1432d270abb514d077d760a4c8d2edd41cc0752b595b0513fca29951003961c1"
  },
  "kernelspec": {
   "display_name": "Python 3.8.10 ('env': venv)",
   "language": "python",
   "name": "python3"
  },
  "language_info": {
   "codemirror_mode": {
    "name": "ipython",
    "version": 3
   },
   "file_extension": ".py",
   "mimetype": "text/x-python",
   "name": "python",
   "nbconvert_exporter": "python",
   "pygments_lexer": "ipython3",
   "version": "3.8.10"
  },
  "orig_nbformat": 4
 },
 "nbformat": 4,
 "nbformat_minor": 2
}
