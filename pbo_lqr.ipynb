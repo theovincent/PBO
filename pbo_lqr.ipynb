{
 "cells": [
  {
   "cell_type": "markdown",
   "metadata": {},
   "source": [
    "# PBO against LQR\n",
    "## Data collection"
   ]
  },
  {
   "cell_type": "code",
   "execution_count": null,
   "metadata": {},
   "outputs": [],
   "source": [
    "n_samples = 100\n",
    "batch_size = 10\n",
    "n_discretisation_step_state = 100\n",
    "n_discretisation_step_action = 100\n",
    "action_range = 10\n",
    "data_loader = None"
   ]
  },
  {
   "cell_type": "markdown",
   "metadata": {},
   "source": [
    "## Object declaration"
   ]
  },
  {
   "cell_type": "code",
   "execution_count": 1,
   "metadata": {},
   "outputs": [
    {
     "ename": "SyntaxError",
     "evalue": "cannot assign to function call (q_networks.py, line 48)",
     "output_type": "error",
     "traceback": [
      "Traceback \u001b[0;36m(most recent call last)\u001b[0m:\n",
      "  File \u001b[1;32m~/Darmstadt/PBO/env/lib/python3.8/site-packages/IPython/core/interactiveshell.py:3397\u001b[0m in \u001b[1;35mrun_code\u001b[0m\n    exec(code_obj, self.user_global_ns, self.user_ns)\n",
      "\u001b[0;36m  Input \u001b[0;32mIn [1]\u001b[0;36m in \u001b[0;35m<cell line: 1>\u001b[0;36m\u001b[0m\n\u001b[0;31m    from pbo.agents.q_networks import QFullyConnectedNet\u001b[0m\n",
      "\u001b[0;36m  File \u001b[0;32m~/Darmstadt/PBO/pbo/agents/q_networks.py:48\u001b[0;36m\u001b[0m\n\u001b[0;31m    self.network.__getattr__(name_layer).__getattr__(name_weights) = shapped_weights\u001b[0m\n\u001b[0m    ^\u001b[0m\n\u001b[0;31mSyntaxError\u001b[0m\u001b[0;31m:\u001b[0m cannot assign to function call\n"
     ]
    }
   ],
   "source": [
    "from pbo.agents.q_networks import QFullyConnectedNet\n",
    "from pbo.agents.pbo_networks import LinearPBONet\n",
    "\n",
    "layer_dimension = 50\n",
    "random_range = 10\n",
    "gamma = 0.99\n",
    "\n",
    "Q_network = QFullyConnectedNet(layer_dimension=layer_dimension, random_range=random_range, action_range=action_range, n_discretisation_step_action=n_discretisation_step_action)\n",
    "PBO = LinearPBONet(gamma=gamma, q_weights_dimensions=Q_network.q_weights_dimensions)"
   ]
  },
  {
   "cell_type": "markdown",
   "metadata": {},
   "source": [
    "## Training"
   ]
  },
  {
   "cell_type": "code",
   "execution_count": null,
   "metadata": {},
   "outputs": [],
   "source": [
    "n_iteration = 10\n",
    "\n",
    "\n",
    "for iteration in range(n_iteration):\n",
    "    random_weights = Q_network.get_random_weights()\n",
    "\n",
    "    for batch in data_loader:\n",
    "        PBO.learn_on_batch(batch, random_weights, Q_network)\n",
    "    \n",
    "    # monitor the training with:\n",
    "    Q_network.set_weights(PBO.get_fixed_point())"
   ]
  }
 ],
 "metadata": {
  "interpreter": {
   "hash": "637b3343a8f1690def737a76a7e83ae3a0770ea616a4909b65899c37d05cb3cc"
  },
  "kernelspec": {
   "display_name": "Python 3.8.10 ('env': venv)",
   "language": "python",
   "name": "python3"
  },
  "language_info": {
   "codemirror_mode": {
    "name": "ipython",
    "version": 3
   },
   "file_extension": ".py",
   "mimetype": "text/x-python",
   "name": "python",
   "nbconvert_exporter": "python",
   "pygments_lexer": "ipython3",
   "version": "3.8.10"
  },
  "orig_nbformat": 4
 },
 "nbformat": 4,
 "nbformat_minor": 2
}
