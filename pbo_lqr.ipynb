{
 "cells": [
  {
   "cell_type": "markdown",
   "metadata": {},
   "source": [
    "# PBO against LQR\n",
    "## Define environment"
   ]
  },
  {
   "cell_type": "code",
   "execution_count": 1,
   "metadata": {},
   "outputs": [],
   "source": [
    "%load_ext autoreload\n",
    "%autoreload 2\n",
    "\n",
    "import numpy as np\n",
    "\n",
    "from pbo.environment.linear_quadratic import LinearQuadraticEnv\n",
    "\n",
    "low_value = -10\n",
    "high_value = 10\n",
    "state_range = 10\n",
    "action_range = 10\n",
    "initial_state = 4\n",
    "\n",
    "env = LinearQuadraticEnv(\n",
    "    A=np.random.uniform(low_value, high_value, size=(1, 1)),\n",
    "    B=np.random.uniform(low_value, high_value, size=(1, 1)),\n",
    "    Q=np.random.uniform(low_value, high_value, size=(1, 1)),\n",
    "    R=np.random.uniform(low_value, high_value, size=(1, 1)),\n",
    "    S=np.random.uniform(low_value, high_value, size=(1, 1)),\n",
    "    max_pos=state_range,\n",
    "    max_action=action_range,\n",
    "    initial_state=np.array([initial_state]),\n",
    ")"
   ]
  },
  {
   "cell_type": "markdown",
   "metadata": {},
   "source": [
    "## Data collection"
   ]
  },
  {
   "cell_type": "code",
   "execution_count": 2,
   "metadata": {},
   "outputs": [],
   "source": [
    "from pbo.data_collection.replay_buffer import ReplayBuffer\n",
    "\n",
    "\n",
    "n_samples = 100\n",
    "\n",
    "replay_buffer = ReplayBuffer()\n",
    "\n",
    "state = env.reset()\n",
    "terminal = False\n",
    "idx_sample = 0\n",
    "\n",
    "while idx_sample < n_samples:\n",
    "    action = np.random.uniform(-action_range, action_range, size=1)\n",
    "    next_state, reward, terminal, _ = env.step(action)\n",
    "\n",
    "    replay_buffer.add(state, action, np.array([reward]), next_state)\n",
    "\n",
    "    if terminal:\n",
    "        state = env.reset()\n",
    "        terminal = False\n",
    "\n",
    "    state = next_state\n",
    "    idx_sample += 1"
   ]
  },
  {
   "cell_type": "code",
   "execution_count": 3,
   "metadata": {},
   "outputs": [],
   "source": [
    "from pbo.data_collection.dataloader import DataLoader\n",
    "\n",
    "\n",
    "batch_size = 8\n",
    "    \n",
    "data_loader = DataLoader(replay_buffer, batch_size)"
   ]
  },
  {
   "cell_type": "markdown",
   "metadata": {},
   "source": [
    "## Building networks"
   ]
  },
  {
   "cell_type": "code",
   "execution_count": 4,
   "metadata": {},
   "outputs": [],
   "source": [
    "from pbo.agents.q_networks import QFullyConnectedNet\n",
    "from pbo.agents.pbo_networks import LinearPBONet\n",
    "\n",
    "n_discretisation_step_state = 100\n",
    "n_discretisation_step_action = 100\n",
    "\n",
    "layer_dimension = 3\n",
    "random_range = 10\n",
    "gamma = 0.99\n",
    "\n",
    "Q_network = QFullyConnectedNet(\n",
    "    layer_dimension=layer_dimension,\n",
    "    random_range=random_range,\n",
    "    action_range=action_range,\n",
    "    n_discretisation_step_action=n_discretisation_step_action,\n",
    ")\n",
    "PBO = LinearPBONet(gamma=gamma, q_weights_dimensions=Q_network.q_weights_dimensions)\n"
   ]
  },
  {
   "cell_type": "markdown",
   "metadata": {},
   "source": [
    "## Training"
   ]
  },
  {
   "cell_type": "code",
   "execution_count": 6,
   "metadata": {},
   "outputs": [],
   "source": [
    "n_iteration = 10\n",
    "\n",
    "\n",
    "for iteration in range(n_iteration):\n",
    "    random_weights = Q_network.get_random_weights()\n",
    "\n",
    "    for batch in data_loader:\n",
    "        PBO.learn_on_batch(batch, random_weights, Q_network)\n",
    "    \n",
    "    # monitor the training with:\n",
    "    Q_network.set_weights(PBO.get_fixed_point())"
   ]
  }
 ],
 "metadata": {
  "interpreter": {
   "hash": "637b3343a8f1690def737a76a7e83ae3a0770ea616a4909b65899c37d05cb3cc"
  },
  "kernelspec": {
   "display_name": "Python 3.8.10 ('env': venv)",
   "language": "python",
   "name": "python3"
  },
  "language_info": {
   "codemirror_mode": {
    "name": "ipython",
    "version": 3
   },
   "file_extension": ".py",
   "mimetype": "text/x-python",
   "name": "python",
   "nbconvert_exporter": "python",
   "pygments_lexer": "ipython3",
   "version": "3.8.10"
  },
  "orig_nbformat": 4
 },
 "nbformat": 4,
 "nbformat_minor": 2
}
