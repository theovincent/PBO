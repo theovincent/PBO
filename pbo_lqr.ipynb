{
 "cells": [
  {
   "cell_type": "markdown",
   "metadata": {},
   "source": [
    "# PBO against LQR\n",
    "## Define environment"
   ]
  },
  {
   "cell_type": "code",
   "execution_count": 4,
   "metadata": {},
   "outputs": [
    {
     "name": "stdout",
     "output_type": "stream",
     "text": [
      "The autoreload extension is already loaded. To reload it, use:\n",
      "  %reload_ext autoreload\n",
      "Transition: s' = As + Ba\n",
      "Transition: s' = 3.18s + 6.26a\n",
      "Reward: Qs² + Ra² + 2 Ssa\n",
      "Reward: -6.83s² + -2.49a² + -1.34sa\n"
     ]
    }
   ],
   "source": [
    "%load_ext autoreload\n",
    "%autoreload 2\n",
    "\n",
    "import numpy as np\n",
    "\n",
    "from pbo.environment.linear_quadratic import LinearQuadraticEnv\n",
    "\n",
    "\n",
    "max_state = 10\n",
    "max_action = 5\n",
    "initial_state = 4\n",
    "\n",
    "env = LinearQuadraticEnv(\n",
    "    max_state=max_state,\n",
    "    max_action=max_action,\n",
    "    initial_state=np.array([initial_state]),\n",
    ")"
   ]
  },
  {
   "cell_type": "markdown",
   "metadata": {},
   "source": [
    "## Data collection"
   ]
  },
  {
   "cell_type": "code",
   "execution_count": 5,
   "metadata": {},
   "outputs": [],
   "source": [
    "from pbo.data_collection.replay_buffer import ReplayBuffer\n",
    "\n",
    "\n",
    "n_samples = 100\n",
    "\n",
    "replay_buffer = ReplayBuffer()\n",
    "\n",
    "state = env.reset()\n",
    "terminal = False\n",
    "idx_sample = 0\n",
    "\n",
    "while idx_sample < n_samples:\n",
    "    action = np.random.uniform(-max_action, max_action, size=1)\n",
    "    next_state, reward, terminal, _ = env.step(action)\n",
    "\n",
    "    replay_buffer.add(state, action, np.array([reward]), next_state)\n",
    "\n",
    "    if terminal:\n",
    "        state = env.reset()\n",
    "        terminal = False\n",
    "\n",
    "    state = next_state\n",
    "    idx_sample += 1"
   ]
  },
  {
   "cell_type": "markdown",
   "metadata": {},
   "source": [
    "## Visualize samples"
   ]
  },
  {
   "cell_type": "code",
   "execution_count": 6,
   "metadata": {},
   "outputs": [
    {
     "data": {
      "image/png": "[encoded data removed]",
      "text/plain": [
       "<Figure size 432x288 with 2 Axes>"
      ]
     },
     "metadata": {
      "needs_background": "light"
     },
     "output_type": "display_data"
    }
   ],
   "source": [
    "from pbo.utils.state_action_mesh import StateActionMesh\n",
    "\n",
    "\n",
    "n_discrete_states = 5\n",
    "n_discrete_actions = 7\n",
    "\n",
    "state_box_half_size = max_state / n_discrete_states\n",
    "discrete_states_boxes = np.linspace(-max_state - state_box_half_size, max_state + state_box_half_size, n_discrete_states + 1)\n",
    "# get the index in the discrete states in which each state is\n",
    "indexes_states_boxes = np.searchsorted(discrete_states_boxes, np.array(replay_buffer.states).reshape(-1)) - 1\n",
    "\n",
    "action_box_half_size = max_action / n_discrete_actions\n",
    "discrete_actions_boxes = np.linspace(-max_action - action_box_half_size, max_action + action_box_half_size, n_discrete_actions + 1)\n",
    "# get the index in the discrete actions in which each action is\n",
    "indexes_actions_boxes = np.searchsorted(discrete_actions_boxes, np.array(replay_buffer.actions).reshape(-1)) - 1\n",
    "\n",
    "samples_count = np.zeros((n_discrete_states, n_discrete_actions))\n",
    "for idx_state, idx_action in zip(indexes_states_boxes, indexes_actions_boxes):\n",
    "    samples_count[idx_state, idx_action] += 1\n",
    "\n",
    "\n",
    "samples_visualization_mesh = StateActionMesh(max_state, n_discrete_states, max_action, n_discrete_actions, sleeping_time=0)\n",
    "\n",
    "samples_visualization_mesh.set_values(samples_count)\n",
    "samples_visualization_mesh.show(\"Samples repartition\")"
   ]
  },
  {
   "cell_type": "code",
   "execution_count": 7,
   "metadata": {},
   "outputs": [],
   "source": [
    "from pbo.data_collection.dataloader import DataLoader\n",
    "\n",
    "\n",
    "batch_size = 8\n",
    "    \n",
    "data_loader = DataLoader(replay_buffer, batch_size)"
   ]
  },
  {
   "cell_type": "markdown",
   "metadata": {},
   "source": [
    "## Building networks"
   ]
  },
  {
   "cell_type": "code",
   "execution_count": 8,
   "metadata": {},
   "outputs": [],
   "source": [
    "from pbo.agents.q_networks import QFullyConnectedNet\n",
    "from pbo.agents.pbo_networks import LinearPBONet\n",
    "\n",
    "layer_dimension = 3\n",
    "random_range = 10\n",
    "gamma = 0.99\n",
    "\n",
    "Q_network = QFullyConnectedNet(\n",
    "    layer_dimension=layer_dimension,\n",
    "    random_range=random_range,\n",
    "    max_action=max_action,\n",
    "    n_discrete_actions=n_discrete_actions,\n",
    ")\n",
    "PBO = LinearPBONet(gamma=gamma, q_weights_dimensions=Q_network.q_weights_dimensions)\n"
   ]
  },
  {
   "cell_type": "markdown",
   "metadata": {},
   "source": [
    "## The goal: optimal Q function"
   ]
  },
  {
   "cell_type": "code",
   "execution_count": 9,
   "metadata": {},
   "outputs": [
    {
     "data": {
      "image/png": "[encoded data removed]",
      "text/plain": [
       "<Figure size 432x288 with 2 Axes>"
      ]
     },
     "metadata": {
      "needs_background": "light"
     },
     "output_type": "display_data"
    }
   ],
   "source": [
    "from pbo.utils.compute_Q_lqr import compute_Q_lqr\n",
    "\n",
    "\n",
    "sleeping_time = 0.1\n",
    "\n",
    "optimal_Q = compute_Q_lqr(env, n_discrete_states, n_discrete_actions)\n",
    "\n",
    "q_funcions_visualization_mesh = StateActionMesh(max_state, n_discrete_states, max_action, n_discrete_actions, sleeping_time)\n",
    "\n",
    "q_funcions_visualization_mesh.set_values(optimal_Q)\n",
    "q_funcions_visualization_mesh.show(\"Optimal q function\")"
   ]
  },
  {
   "cell_type": "markdown",
   "metadata": {},
   "source": [
    "## Training"
   ]
  },
  {
   "cell_type": "code",
   "execution_count": 7,
   "metadata": {},
   "outputs": [],
   "source": [
    "n_iteration = 10\n",
    "\n",
    "\n",
    "for iteration in range(n_iteration):\n",
    "    random_weights = Q_network.get_random_weights()\n",
    "\n",
    "    for batch in data_loader:\n",
    "        PBO.learn_on_batch(batch, random_weights, Q_network)\n",
    "    \n",
    "    # monitor the training with:\n",
    "    Q_network.set_weights(PBO.get_fixed_point())"
   ]
  }
 ],
 "metadata": {
  "interpreter": {
   "hash": "637b3343a8f1690def737a76a7e83ae3a0770ea616a4909b65899c37d05cb3cc"
  },
  "kernelspec": {
   "display_name": "Python 3.8.10 ('env': venv)",
   "language": "python",
   "name": "python3"
  },
  "language_info": {
   "codemirror_mode": {
    "name": "ipython",
    "version": 3
   },
   "file_extension": ".py",
   "mimetype": "text/x-python",
   "name": "python",
   "nbconvert_exporter": "python",
   "pygments_lexer": "ipython3",
   "version": "3.8.10"
  },
  "orig_nbformat": 4
 },
 "nbformat": 4,
 "nbformat_minor": 2
}
