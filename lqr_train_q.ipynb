{
 "cells": [
  {
   "cell_type": "markdown",
   "metadata": {},
   "source": [
    "# Train Q on a LQR environment\n",
    "\n",
    "## Define paramters"
   ]
  },
  {
   "cell_type": "code",
   "execution_count": 3,
   "metadata": {},
   "outputs": [
    {
     "name": "stdout",
     "output_type": "stream",
     "text": [
      "The autoreload extension is already loaded. To reload it, use:\n",
      "  %reload_ext autoreload\n"
     ]
    }
   ],
   "source": [
    "%load_ext autoreload\n",
    "%autoreload 2\n",
    "\n",
    "import jax\n",
    "\n",
    "# keys\n",
    "seed = 1\n",
    "key = jax.random.PRNGKey(seed)\n",
    "env_key, key = jax.random.split(key)\n",
    "shuffle_key, q_network_key, random_weights_key = jax.random.split(key, 3)\n",
    "\n",
    "# Box over states and actions\n",
    "max_discrete_state = 7\n",
    "n_discrete_states = 5\n",
    "max_discrete_action = 9\n",
    "n_discrete_actions = 7\n",
    "\n",
    "gamma = 1\n",
    "\n",
    "# Q function\n",
    "layer_dimension = 50\n",
    "random_weights_range = 1\n",
    "\n",
    "# Q trainings\n",
    "max_iterations = 10000\n",
    "batch_size_q = 1\n",
    "learning_rate_q = 0.001\n",
    "\n",
    "# Visualisation\n",
    "plot_freq = 200\n",
    "sleeping_time = 0"
   ]
  },
  {
   "cell_type": "markdown",
   "metadata": {},
   "source": [
    "## Define environment"
   ]
  },
  {
   "cell_type": "code",
   "execution_count": 4,
   "metadata": {},
   "outputs": [
    {
     "name": "stdout",
     "output_type": "stream",
     "text": [
      "Transition: s' = As + Ba\n",
      "Transition: s' = -0.5264108180999756s + 0.7340433597564697a\n",
      "Reward: Qs² + Ra² + 2 Ssa\n",
      "Reward: -0.9019700288772583s² + 0.12905049324035645a² + 0.4164412021636963sa\n"
     ]
    }
   ],
   "source": [
    "import numpy as np\n",
    "\n",
    "from pbo.environment.linear_quadratic import LinearQuadraticEnv\n",
    "\n",
    "\n",
    "discrete_states = np.linspace(-max_discrete_state, max_discrete_state, n_discrete_states)\n",
    "state_box_half_size = max_discrete_state / n_discrete_states\n",
    "discrete_states_boxes = np.linspace(\n",
    "    -max_discrete_state - state_box_half_size, max_discrete_state + state_box_half_size, n_discrete_states + 1\n",
    ")\n",
    "\n",
    "discrete_actions = np.linspace(-max_discrete_action, max_discrete_action, n_discrete_actions)\n",
    "action_box_half_size = max_discrete_action / n_discrete_actions\n",
    "discrete_actions_boxes = np.linspace(\n",
    "    -max_discrete_action - action_box_half_size, max_discrete_action + action_box_half_size, n_discrete_actions + 1\n",
    ")\n",
    "\n",
    "env = LinearQuadraticEnv(env_key, max_init_state=max_discrete_state)"
   ]
  },
  {
   "cell_type": "markdown",
   "metadata": {},
   "source": [
    "## Collect samples"
   ]
  },
  {
   "cell_type": "markdown",
   "metadata": {},
   "source": [
    "### Epsilon greedy from optimal actions"
   ]
  },
  {
   "cell_type": "code",
   "execution_count": 5,
   "metadata": {},
   "outputs": [],
   "source": [
    "# from pbo.data_collection.replay_buffer import ReplayBuffer\n",
    "\n",
    "\n",
    "# replay_buffer = ReplayBuffer()\n",
    "\n",
    "# state = env.reset()\n",
    "# idx_sample = 0\n",
    "# epidose_length = 0\n",
    "\n",
    "# while idx_sample < n_samples:\n",
    "#     greedy_key, key = jax.random.split(greedy_key)\n",
    "#     if jax.random.uniform(key) < epsilon_greedy:\n",
    "#        action = env.optimal_action()\n",
    "#     else:\n",
    "#         greedy_key, key = jax.random.split(greedy_key)\n",
    "#         action = jax.random.uniform(key, [env.B.shape[0]], minval=discrete_actions[0], maxval=discrete_actions[-1])\n",
    "#     next_state, reward, _, _ = env.step(action)\n",
    "\n",
    "#     replay_buffer.add(state, action, reward, next_state)\n",
    "\n",
    "#     epidose_length += 1\n",
    "#     idx_sample += 1\n",
    "\n",
    "#     if epidose_length >= max_episode_length:\n",
    "#         state = env.reset()\n",
    "#         epidose_length = 0\n",
    "#     else:    \n",
    "#         state = next_state"
   ]
  },
  {
   "cell_type": "markdown",
   "metadata": {},
   "source": [
    "### Samples on the crosses of the box"
   ]
  },
  {
   "cell_type": "code",
   "execution_count": 6,
   "metadata": {},
   "outputs": [],
   "source": [
    "import jax.numpy as jnp\n",
    "\n",
    "from pbo.data_collection.replay_buffer import ReplayBuffer\n",
    "\n",
    "n_samples = n_discrete_states * n_discrete_actions\n",
    "replay_buffer = ReplayBuffer()\n",
    "\n",
    "state = env.reset()\n",
    "idx_sample = 0\n",
    "epidose_length = 0\n",
    "\n",
    "for state in discrete_states:\n",
    "    for action in discrete_actions:\n",
    "        env.reset(jnp.array([state]))\n",
    "        next_state, reward, _, _ = env.step(jnp.array([action]))\n",
    "\n",
    "        replay_buffer.add(jnp.array([state]), jnp.array([action]), reward, next_state)"
   ]
  },
  {
   "cell_type": "markdown",
   "metadata": {},
   "source": [
    "## Visualize samples"
   ]
  },
  {
   "cell_type": "code",
   "execution_count": 7,
   "metadata": {},
   "outputs": [
    {
     "data": {
      "image/png": "[encoded data removed]",
      "text/plain": [
       "<Figure size 432x288 with 2 Axes>"
      ]
     },
     "metadata": {
      "needs_background": "light"
     },
     "output_type": "display_data"
    }
   ],
   "source": [
    "from pbo.data_collection.count_samples import count_samples\n",
    "from pbo.utils.state_action_mesh import StateActionMesh\n",
    "\n",
    "\n",
    "samples_count, n_outside_boxes = count_samples(replay_buffer, discrete_states_boxes, discrete_actions_boxes)\n",
    "samples_visu_mesh = StateActionMesh(discrete_states, discrete_actions, sleeping_time=0)\n",
    "\n",
    "samples_visu_mesh.set_values(samples_count, zeros_to_nan=True)\n",
    "samples_visu_mesh.show(\n",
    "    f\"Samples repartition, \\n{int(100 * n_outside_boxes / n_samples)}% are outside the box.\"\n",
    ")\n"
   ]
  },
  {
   "cell_type": "markdown",
   "metadata": {},
   "source": [
    "## Optimal Q function"
   ]
  },
  {
   "cell_type": "code",
   "execution_count": 8,
   "metadata": {},
   "outputs": [
    {
     "data": {
      "image/png": "[encoded data removed]",
      "text/plain": [
       "<Figure size 432x288 with 2 Axes>"
      ]
     },
     "metadata": {
      "needs_background": "light"
     },
     "output_type": "display_data"
    }
   ],
   "source": [
    "import pandas as pd\n",
    "from pbo.utils.compute_Q_lqr import compute_Q_lqr\n",
    "\n",
    "\n",
    "optimal_q = compute_Q_lqr(env, discrete_states, discrete_actions, gamma)\n",
    "optimal_q_pd = pd.DataFrame(optimal_q, index=discrete_states, columns=discrete_actions)\n",
    "\n",
    "q_visu_mesh = StateActionMesh(discrete_states, discrete_actions, sleeping_time)\n",
    "\n",
    "q_visu_mesh.set_values(optimal_q)\n",
    "q_visu_mesh.show(\"Optimal q function\")"
   ]
  },
  {
   "cell_type": "markdown",
   "metadata": {},
   "source": [
    "## Build q network and its dataloader"
   ]
  },
  {
   "cell_type": "code",
   "execution_count": 9,
   "metadata": {},
   "outputs": [],
   "source": [
    "from pbo.networks.jax.q import FullyConnectedQ\n",
    "from pbo.data_collection.dataloader import DataLoader\n",
    "\n",
    "\n",
    "q = FullyConnectedQ(\n",
    "    layer_dimension=layer_dimension,\n",
    "    network_key=q_network_key,\n",
    "    random_weights_range=random_weights_range,\n",
    "    random_weights_key=random_weights_key,\n",
    "    action_range_on_max=None,\n",
    "    n_actions_on_max=None,\n",
    ")\n",
    "\n",
    "replay_buffer.cast_to_jax_array()\n",
    "data_loader = DataLoader(replay_buffer, batch_size_q, shuffle_key)"
   ]
  },
  {
   "cell_type": "markdown",
   "metadata": {},
   "source": [
    "## Train Q \n",
    "Objective: See if the representation power of the network of Q is powerful enough to represent the optimal Q"
   ]
  },
  {
   "cell_type": "code",
   "execution_count": 10,
   "metadata": {},
   "outputs": [
    {
     "data": {
      "image/png": "[encoded data removed]",
      "text/plain": [
       "<Figure size 432x288 with 2 Axes>"
      ]
     },
     "metadata": {
      "needs_background": "light"
     },
     "output_type": "display_data"
    },
    {
     "data": {
      "image/png": "[encoded data removed]",
      "text/plain": [
       "<Figure size 432x288 with 2 Axes>"
      ]
     },
     "metadata": {
      "needs_background": "light"
     },
     "output_type": "display_data"
    }
   ],
   "source": [
    "import matplotlib.pyplot as plt\n",
    "\n",
    "import optax\n",
    "import jax.numpy as jnp\n",
    "\n",
    "\n",
    "optimizer = optax.sgd(learning_rate=learning_rate_q)\n",
    "optimizer_state = optimizer.init(q.params)\n",
    "\n",
    "# For visualization\n",
    "former_discrete_q = q.discretize(q.params, discrete_states, discrete_actions)\n",
    "cumulative_losses = []\n",
    "shifts = []\n",
    "\n",
    "iteration = 0\n",
    "cumulative_loss = float(\"inf\")\n",
    "\n",
    "while cumulative_loss > n_discrete_states * n_discrete_actions and iteration < max_iterations:\n",
    "    cumulative_loss = 0\n",
    "\n",
    "    data_loader.shuffle()\n",
    "    for batch in data_loader:\n",
    "        # the target is the optimal Q\n",
    "        target = jnp.diag(optimal_q_pd.loc[batch[\"state\"].flatten(), batch[\"action\"].flatten()].values).reshape(-1, 1)\n",
    "\n",
    "        loss, grad_loss = q.l1_loss_and_grad(q.params, batch[\"state\"], batch[\"action\"], target)\n",
    "        updates, optimizer_state = optimizer.update(\n",
    "            grad_loss, optimizer_state\n",
    "        )\n",
    "        q.params = optax.apply_updates(q.params, updates)\n",
    "\n",
    "        cumulative_loss += loss\n",
    "\n",
    "    iteration += 1\n",
    "\n",
    "    # Visualization\n",
    "    if iteration % plot_freq == 0:\n",
    "        discrete_q = q.discretize(q.params, discrete_states, discrete_actions)\n",
    "        shift = np.linalg.norm(discrete_q - former_discrete_q)\n",
    "        \n",
    "        q_visu_mesh.set_values(optimal_q - discrete_q)\n",
    "        q_visu_mesh.show(f\"Optimal Q - Discrete Q at iteration {iteration}, \\nloss: {int(cumulative_loss)}, shift: {np.around(shift, 2)}\")\n",
    "        \n",
    "        cumulative_losses.append(cumulative_loss)\n",
    "        shifts.append(shift)\n",
    "        former_discrete_q = discrete_q\n",
    "\n",
    "good_q_params = q.params\n",
    "\n",
    "final_discrete_q = q.discretize(q.params, discrete_states, discrete_actions)\n",
    "q_visu_mesh.set_values(optimal_q - final_discrete_q)\n",
    "q_visu_mesh.show(f\"Optimal Q - Discrete Q at iteration {iteration}, \\n final loss: {int(cumulative_loss)}\")\n",
    "\n",
    "# Plot the shifts and the loss\n",
    "fig, ax1 = plt.subplots()\n",
    "\n",
    "ax1.set_xlabel(f\"every {plot_freq} iteration\")\n",
    "ax1.set_ylabel(\"cumulative loss\", color=\"blue\")\n",
    "ax1.plot(np.arange(len(cumulative_losses)), cumulative_losses, color=\"blue\")\n",
    "ax1.tick_params(axis=\"y\", labelcolor=\"blue\")\n",
    "\n",
    "ax2 = ax1.twinx()\n",
    "ax2.set_ylabel(\"shift\", color=\"red\")\n",
    "ax2.plot(np.arange(len(shifts)), shifts, color=\"red\")\n",
    "ax2.tick_params(axis=\"y\", labelcolor=\"red\")\n",
    "\n",
    "fig.tight_layout()\n",
    "plt.show()"
   ]
  },
  {
   "cell_type": "markdown",
   "metadata": {},
   "source": [
    "## Maximizing Q over actions"
   ]
  },
  {
   "cell_type": "code",
   "execution_count": 24,
   "metadata": {},
   "outputs": [
    {
     "data": {
      "image/png": "[encoded data removed]",
      "text/plain": [
       "<Figure size 432x288 with 1 Axes>"
      ]
     },
     "metadata": {
      "needs_background": "light"
     },
     "output_type": "display_data"
    }
   ],
   "source": [
    "# random_q_params = q.to_params(q.random_weights())\n",
    "random_q_params = q.to_params(q.random_init_weights())\n",
    "random_state = jnp.array([np.random.uniform(-max_discrete_state, max_discrete_state)])\n",
    "\n",
    "discrete_actions_on_max = jnp.linspace(\n",
    "    -20, 20, num=10000\n",
    ").reshape((-1, 1))\n",
    "\n",
    "q_values = q.network.apply(\n",
    "    random_q_params, random_state.repeat(len(discrete_actions_on_max)).reshape((-1, 1)), discrete_actions_on_max\n",
    ")\n",
    "\n",
    "plt.plot(discrete_actions_on_max, q_values)\n",
    "plt.xlabel(\"action\")\n",
    "plt.ylabel(\"Q value\")\n",
    "_ = plt.title(f\"Max(Q): {q_values.max()}, for state {random_state[0]}\")"
   ]
  },
  {
   "cell_type": "markdown",
   "metadata": {},
   "source": [
    "- Q is not spiky so discretizing the action space should work\n",
    "- Taking random init weights gives smaller maximums than taking random weights"
   ]
  }
 ],
 "metadata": {
  "interpreter": {
   "hash": "1432d270abb514d077d760a4c8d2edd41cc0752b595b0513fca29951003961c1"
  },
  "kernelspec": {
   "display_name": "Python 3.8.10 ('env': venv)",
   "language": "python",
   "name": "python3"
  },
  "language_info": {
   "codemirror_mode": {
    "name": "ipython",
    "version": 3
   },
   "file_extension": ".py",
   "mimetype": "text/x-python",
   "name": "python",
   "nbconvert_exporter": "python",
   "pygments_lexer": "ipython3",
   "version": "3.8.10"
  },
  "orig_nbformat": 4
 },
 "nbformat": 4,
 "nbformat_minor": 2
}
