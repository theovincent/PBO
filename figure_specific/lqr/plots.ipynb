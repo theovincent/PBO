{
 "cells": [
  {
   "cell_type": "markdown",
   "metadata": {},
   "source": [
    "# Plots with confidence interval"
   ]
  },
  {
   "cell_type": "code",
   "execution_count": 1,
   "metadata": {},
   "outputs": [],
   "source": [
    "%load_ext autoreload\n",
    "%autoreload 2\n",
    "\n",
    "import warnings\n",
    "warnings.simplefilter(action='ignore', category=FutureWarning)\n",
    "import os\n",
    "import json\n",
    "import numpy as np\n",
    "from scipy.stats import t as student_variable\n",
    "\n",
    "parameters = json.load(open(\"parameters.json\"))\n",
    "\n",
    "max_bellman_iterations = 2\n",
    "max_bellman_iterations_validation = max_bellman_iterations + 5\n",
    "n_seeds = 10\n",
    "n_samples = parameters[\"n_discrete_states\"] * parameters[\"n_discrete_actions\"]\n",
    "n_weights = parameters[\"n_weights\"]\n",
    "q_weights_dimension = 3"
   ]
  },
  {
   "cell_type": "markdown",
   "metadata": {},
   "source": [
    "## Compute confidence intervals"
   ]
  },
  {
   "cell_type": "code",
   "execution_count": 2,
   "metadata": {},
   "outputs": [],
   "source": [
    "def single_confidence_interval(mean, std, n_samples, confidence_level):\n",
    "    t_crit = np.abs(student_variable.ppf((1 - confidence_level) / 2, n_samples - 1))\n",
    "    lower_bound = mean - t_crit * (std / np.sqrt(n_samples))\n",
    "    upper_bound = mean + t_crit * (std / np.sqrt(n_samples))\n",
    "\n",
    "    return lower_bound, upper_bound\n",
    "\n",
    "def confidence_interval(means, stds, n_samples, confidence_level=0.95):\n",
    "    confidence_intervals = np.zeros((2, len(means)))\n",
    "\n",
    "    for idx_iteration in range(len(means)):\n",
    "        confidence_intervals[0, idx_iteration], confidence_intervals[1, idx_iteration] = single_confidence_interval(means[idx_iteration], stds[idx_iteration], n_samples, confidence_level)\n",
    "\n",
    "    return confidence_intervals"
   ]
  },
  {
   "cell_type": "markdown",
   "metadata": {},
   "source": [
    "## General case"
   ]
  },
  {
   "cell_type": "markdown",
   "metadata": {},
   "source": [
    "### Extract data"
   ]
  },
  {
   "cell_type": "code",
   "execution_count": 3,
   "metadata": {},
   "outputs": [],
   "source": [
    "fqi_w = np.zeros((n_seeds, max_bellman_iterations + 1, q_weights_dimension))\n",
    "\n",
    "for idx_seed, seed in enumerate(range(1, n_seeds + 1)):\n",
    "    fqi_w[idx_seed] = np.load(f\"figures/data/FQI/{max_bellman_iterations}_W_{seed}.npy\")\n",
    "\n",
    "lspi_w = np.load(f\"figures/data/LSPI/{max_bellman_iterations}_W.npy\")\n",
    "\n",
    "optimal_w = np.load(f\"figures/data/optimal/W.npy\")\n",
    "\n",
    "pbo_linear_w = np.zeros((n_seeds, max_bellman_iterations_validation + 2, q_weights_dimension))\n",
    "\n",
    "for idx_seed, seed in enumerate(range(1, n_seeds + 1)):\n",
    "    pbo_linear_w[idx_seed] = np.load(f\"figures/data/PBO_linear/{max_bellman_iterations}_W_{n_samples}_{n_weights}_{seed}.npy\")\n",
    "\n",
    "pbo_optimal_w = np.load(f\"figures/data/PBO_optimal/{max_bellman_iterations}_W.npy\")"
   ]
  },
  {
   "cell_type": "markdown",
   "metadata": {},
   "source": [
    "### Distances with the optimal Q function"
   ]
  },
  {
   "cell_type": "code",
   "execution_count": 4,
   "metadata": {},
   "outputs": [],
   "source": [
    "fqi_w_mean = np.sqrt(np.mean(np.square(fqi_w - optimal_w), axis=2)).mean(axis=0)\n",
    "fqi_w_std = np.sqrt(np.mean(np.square(fqi_w - optimal_w), axis=2)).std(axis=0)\n",
    "fqi_w_confidence_interval = confidence_interval(fqi_w_mean, fqi_w_std, n_seeds)\n",
    "\n",
    "lspi_w_mean = np.sqrt(np.mean(np.square(lspi_w - optimal_w), axis=1))\n",
    "\n",
    "pbo_linear_w_mean = np.sqrt(np.mean(np.square(pbo_linear_w - optimal_w), axis=2)).mean(axis=0)\n",
    "pbo_linear_w_std = np.sqrt(np.mean(np.square(pbo_linear_w - optimal_w), axis=2)).std(axis=0)\n",
    "pbo_linear_w_confidence_interval = confidence_interval(pbo_linear_w_mean, pbo_linear_w_std, n_seeds)\n",
    "\n",
    "pbo_optimal_w_mean = np.sqrt(np.mean(np.square(pbo_optimal_w - optimal_w), axis=1))"
   ]
  },
  {
   "cell_type": "code",
   "execution_count": 9,
   "metadata": {},
   "outputs": [
    {
     "data": {
      "image/png": "[encoded data removed]",
      "text/plain": [
       "<Figure size 432x288 with 1 Axes>"
      ]
     },
     "metadata": {
      "needs_background": "light"
     },
     "output_type": "display_data"
    }
   ],
   "source": [
    "import matplotlib.pyplot as plt \n",
    "\n",
    "iterations = range(max_bellman_iterations + 1)\n",
    "iterations_validation = range(max_bellman_iterations_validation + 1)\n",
    "\n",
    "plt.plot(iterations_validation, pbo_optimal_w_mean, label=\"PBO optimal\", color=\"black\")\n",
    "\n",
    "\n",
    "plt.plot(iterations_validation, pbo_linear_w_mean[:-1], label=\"PBO linear\", color=\"green\")\n",
    "plt.fill_between(iterations_validation, pbo_linear_w_confidence_interval[0, :-1], pbo_linear_w_confidence_interval[1, :-1], color=\"green\", alpha=0.3)\n",
    "\n",
    "plt.hlines(pbo_linear_w_mean[-1], 0, max_bellman_iterations_validation, color=\"green\", linestyle=\"--\", label=\"PBO linear fixed point\")\n",
    "plt.fill_between(iterations_validation, pbo_linear_w_confidence_interval[0, -1], pbo_linear_w_confidence_interval[1, -1], color=\"green\", alpha=0.3)\n",
    "\n",
    "plt.plot(iterations, fqi_w_mean, label=\"FQI\", color=\"red\")\n",
    "plt.fill_between(iterations, fqi_w_confidence_interval[0], fqi_w_confidence_interval[1], color=\"red\", alpha=0.3)\n",
    "\n",
    "plt.plot(iterations, lspi_w_mean, label=\"LSPI\", color=\"purple\")\n",
    "\n",
    "plt.axvline(max_bellman_iterations, color=\"black\", linestyle=\"--\")\n",
    "plt.xticks(iterations_validation)\n",
    "plt.xlabel(\"iterations\")\n",
    "plt.yscale(\"log\")\n",
    "plt.title(r\"$|| w^* - w_i ||_2$\")\n",
    "plt.legend()\n",
    "_ = plt.savefig(f\"figures/distance_to_optimal_W_{max_bellman_iterations}.jpg\", bbox_inches='tight')"
   ]
  }
 ],
 "metadata": {
  "kernelspec": {
   "display_name": "Python 3.8.10 ('env_cpu': venv)",
   "language": "python",
   "name": "python3"
  },
  "language_info": {
   "codemirror_mode": {
    "name": "ipython",
    "version": 3
   },
   "file_extension": ".py",
   "mimetype": "text/x-python",
   "name": "python",
   "nbconvert_exporter": "python",
   "pygments_lexer": "ipython3",
   "version": "3.8.10"
  },
  "orig_nbformat": 4,
  "vscode": {
   "interpreter": {
    "hash": "af5525a3273d35d601ae265c5d3634806dd61a1c4d085ae098611a6832982bdb"
   }
  }
 },
 "nbformat": 4,
 "nbformat_minor": 2
}
