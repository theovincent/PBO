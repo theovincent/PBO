{
    "cells": [
        {
            "cell_type": "markdown",
            "metadata": {},
            "source": [
                "# PBO on LQR\n",
                "\n",
                "## Define paramters"
            ]
        },
        {
            "cell_type": "code",
            "execution_count": 1,
            "metadata": {
                "execution": {
                    "iopub.execute_input": "2022-09-09T12:26:54.295059Z",
                    "iopub.status.busy": "2022-09-09T12:26:54.294286Z",
                    "iopub.status.idle": "2022-09-09T12:26:54.915778Z",
                    "shell.execute_reply": "2022-09-09T12:26:54.915279Z"
                }
            },
            "outputs": [
                {
                    "name": "stderr",
                    "output_type": "stream",
                    "text": [
                        "WARNING:absl:No GPU/TPU found, falling back to CPU. (Set TF_CPP_MIN_LOG_LEVEL=0 and rerun for more info.)\n"
                    ]
                }
            ],
            "source": [
                "%load_ext autoreload\n",
                "%autoreload 2\n",
                "\n",
                "import warnings\n",
                "warnings.simplefilter(action='ignore', category=FutureWarning)\n",
                "import jax\n",
                "import os\n",
                "import json\n",
                "\n",
                "parameters = json.load(open(\"parameters.json\"))\n",
                "env_seed = parameters[\"env_seed\"]\n",
                "\n",
                "# Sample collection\n",
                "max_discrete_state = parameters[\"max_discrete_state\"]\n",
                "n_discrete_states = parameters[\"n_discrete_states\"]\n",
                "max_discrete_action = parameters[\"max_discrete_action\"]\n",
                "n_discrete_actions = parameters[\"n_discrete_actions\"]\n",
                "n_samples = n_discrete_states * n_discrete_actions\n",
                "\n",
                "# Weights collection\n",
                "n_weights = parameters[\"n_weights\"]\n",
                "weights_filtering = True\n",
                "\n",
                "# Q function\n",
                "action_range_on_max = parameters[\"action_range_on_max\"]\n",
                "n_actions_on_max = parameters[\"n_actions_on_max\"]\n",
                "\n",
                "# Trainings\n",
                "max_bellman_iterations = parameters[\"max_bellman_iterations\"]\n",
                "training_steps = parameters[\"training_steps\"]\n",
                "fitting_steps = parameters[\"fitting_steps_pbo\"]\n",
                "batch_size_samples = parameters[\"batch_size_samples\"]\n",
                "batch_size_weights = parameters[\"batch_size_weights\"]\n",
                "initial_weight_std = parameters[\"initial_weight_std\"]\n",
                "initial_bias_std = parameters[\"initial_weight_std\"]\n",
                "learning_rate = {\"first\": parameters[\"starting_lr_pbo\"], \"last\": parameters[\"ending_lr_pbo\"], \"duration\": training_steps * fitting_steps * n_samples // batch_size_samples}\n",
                "add_infinity = True\n",
                "\n",
                "# Visualisation of errors and performances\n",
                "max_bellman_iterations_validation = max_bellman_iterations + 5\n",
                "\n",
                "# Search for an unused seed\n",
                "max_used_seed = 0\n",
                "if not os.path.exists(\"figures/data/PBO_linear/\"):\n",
                "    os.makedirs(\"figures/data/PBO_linear/\")\n",
                "for file in os.listdir(\"figures/data/PBO_linear/\"):\n",
                "    if int(file.split(\"_\")[0]) == max_bellman_iterations and float(file.split(\"_\")[2]) == initial_weight_std and int(file.split(\"_\")[3][:-4]) > max_used_seed:\n",
                "        max_used_seed = int(file.split(\"_\")[3][:-4])\n",
                "max_used_seed\n",
                "\n",
                "# keys\n",
                "env_key = jax.random.PRNGKey(env_seed)\n",
                "seed = max_used_seed + 1\n",
                "key = jax.random.PRNGKey(seed)\n",
                "shuffle_key, q_network_key, random_weights_key, pbo_network_key = jax.random.split(key, 4)"
            ]
        },
        {
            "cell_type": "markdown",
            "metadata": {},
            "source": [
                "## Define environment"
            ]
        },
        {
            "cell_type": "code",
            "execution_count": 2,
            "metadata": {
                "execution": {
                    "iopub.execute_input": "2022-09-09T12:26:54.917963Z",
                    "iopub.status.busy": "2022-09-09T12:26:54.917781Z",
                    "iopub.status.idle": "2022-09-09T12:26:55.268069Z",
                    "shell.execute_reply": "2022-09-09T12:26:55.267560Z"
                }
            },
            "outputs": [
                {
                    "name": "stdout",
                    "output_type": "stream",
                    "text": [
                        "Transition: s' = As + Ba\n",
                        "Transition: s' = 0.7204725742340088s + -0.5264108180999756a\n",
                        "Reward: Qs² + Ra² + 2 Ssa\n",
                        "Reward: -0.13297832012176514s² + -0.8039400577545166a² + 0.2581009864807129sa\n"
                    ]
                }
            ],
            "source": [
                "import numpy as np\n",
                "\n",
                "from pbo.environments.linear_quadratic import LinearQuadraticEnv\n",
                "\n",
                "\n",
                "discrete_states = np.linspace(-max_discrete_state, max_discrete_state, n_discrete_states)\n",
                "state_box_half_size = max_discrete_state / n_discrete_states\n",
                "discrete_states_boxes = np.linspace(\n",
                "    -max_discrete_state - state_box_half_size, max_discrete_state + state_box_half_size, n_discrete_states + 1\n",
                ")\n",
                "\n",
                "discrete_actions = np.linspace(-max_discrete_action, max_discrete_action, n_discrete_actions)\n",
                "action_box_half_size = max_discrete_action / n_discrete_actions\n",
                "discrete_actions_boxes = np.linspace(\n",
                "    -max_discrete_action - action_box_half_size, max_discrete_action + action_box_half_size, n_discrete_actions + 1\n",
                ")\n",
                "\n",
                "env = LinearQuadraticEnv(env_key, max_init_state=max_discrete_state)"
            ]
        },
        {
            "cell_type": "markdown",
            "metadata": {},
            "source": [
                "## Collect samples"
            ]
        },
        {
            "cell_type": "markdown",
            "metadata": {},
            "source": [
                "### Samples on the mesh"
            ]
        },
        {
            "cell_type": "code",
            "execution_count": 3,
            "metadata": {
                "execution": {
                    "iopub.execute_input": "2022-09-09T12:26:55.270016Z",
                    "iopub.status.busy": "2022-09-09T12:26:55.269883Z",
                    "iopub.status.idle": "2022-09-09T12:26:55.516649Z",
                    "shell.execute_reply": "2022-09-09T12:26:55.516168Z"
                }
            },
            "outputs": [],
            "source": [
                "import jax.numpy as jnp\n",
                "\n",
                "from pbo.sample_collection.replay_buffer import ReplayBuffer\n",
                "\n",
                "\n",
                "n_samples = n_discrete_states * n_discrete_actions\n",
                "replay_buffer = ReplayBuffer()\n",
                "\n",
                "for state in discrete_states:\n",
                "    for action in discrete_actions:\n",
                "        env.reset(jnp.array([state]))\n",
                "        next_state, reward, absorbing, _ = env.step(jnp.array([action]))\n",
                "\n",
                "        replay_buffer.add(jnp.array([state]), jnp.array([action]), reward, next_state, absorbing)\n",
                "\n",
                "replay_buffer.cast_to_jax_array()"
            ]
        },
        {
            "cell_type": "markdown",
            "metadata": {},
            "source": [
                "### Visualize samples"
            ]
        },
        {
            "cell_type": "code",
            "execution_count": 4,
            "metadata": {
                "execution": {
                    "iopub.execute_input": "2022-09-09T12:26:55.518731Z",
                    "iopub.status.busy": "2022-09-09T12:26:55.518601Z",
                    "iopub.status.idle": "2022-09-09T12:26:56.175290Z",
                    "shell.execute_reply": "2022-09-09T12:26:56.174827Z"
                }
            },
            "outputs": [
                {
                    "data": {
                        "image/png": "[encoded data removed]",
                        "text/plain": [
                            "<Figure size 432x288 with 2 Axes>"
                        ]
                    },
                    "metadata": {
                        "needs_background": "light"
                    },
                    "output_type": "display_data"
                }
            ],
            "source": [
                "from pbo.sample_collection.count_samples import count_samples\n",
                "from pbo.utils.two_dimesions_mesh import TwoDimesionsMesh\n",
                "\n",
                "\n",
                "samples_count, n_outside_boxes, _ = count_samples(replay_buffer.states, replay_buffer.actions, discrete_states_boxes, discrete_actions_boxes, replay_buffer.rewards)\n",
                "samples_visu_mesh = TwoDimesionsMesh(discrete_states, discrete_actions, sleeping_time=0)\n",
                "\n",
                "samples_visu_mesh.set_values(samples_count, zeros_to_nan=True)\n",
                "samples_visu_mesh.show(\n",
                "    f\"Samples repartition, \\n{int(100 * n_outside_boxes / n_samples)}% are outside the box.\"\n",
                ")\n"
            ]
        },
        {
            "cell_type": "markdown",
            "metadata": {},
            "source": [
                "## Collect weights"
            ]
        },
        {
            "cell_type": "code",
            "execution_count": 5,
            "metadata": {
                "execution": {
                    "iopub.execute_input": "2022-09-09T12:26:56.177200Z",
                    "iopub.status.busy": "2022-09-09T12:26:56.177016Z",
                    "iopub.status.idle": "2022-09-09T12:26:56.421649Z",
                    "shell.execute_reply": "2022-09-09T12:26:56.421120Z"
                }
            },
            "outputs": [],
            "source": [
                "from pbo.sample_collection.dataloader import SampleDataLoader\n",
                "from pbo.networks.learnable_q import LQRQ\n",
                "from pbo.weights_collection.weights_buffer import WeightsBuffer\n",
                "\n",
                "\n",
                "data_loader_samples = SampleDataLoader(replay_buffer, batch_size_samples, shuffle_key)\n",
                "q = LQRQ(\n",
                "    n_actions_on_max=n_actions_on_max,\n",
                "    action_range_on_max=action_range_on_max,\n",
                "    network_key=q_network_key,\n",
                "    random_weights_range=None,\n",
                "    random_weights_key=None,\n",
                "    learning_rate=None,\n",
                "    zero_initializer=True,\n",
                ")\n",
                "validation_initial_weight = q.to_weights(q.params)\n",
                "\n",
                "weights_buffer = WeightsBuffer()\n",
                "weights_buffer.add(validation_initial_weight)\n",
                "\n",
                "q_random = LQRQ(\n",
                "    n_actions_on_max=n_actions_on_max,\n",
                "    action_range_on_max=action_range_on_max,\n",
                "    network_key=q_network_key,\n",
                "    random_weights_range=None,\n",
                "    random_weights_key=random_weights_key,\n",
                "    learning_rate=None,\n",
                "    zero_initializer=False,\n",
                ")\n",
                "\n",
                "while len(weights_buffer) < n_weights:\n",
                "    weights = q_random.random_init_weights()\n",
                "    if not weights_filtering or q_random.to_params(weights)[\"LQRQNet\"][\"m\"] < 0:\n",
                "        weights_buffer.add(weights)\n",
                "\n",
                "weights_buffer.cast_to_jax_array()"
            ]
        },
        {
            "cell_type": "markdown",
            "metadata": {},
            "source": [
                "## Train linear PBO"
            ]
        },
        {
            "cell_type": "code",
            "execution_count": 6,
            "metadata": {
                "execution": {
                    "iopub.execute_input": "2022-09-09T12:26:56.423659Z",
                    "iopub.status.busy": "2022-09-09T12:26:56.423526Z",
                    "iopub.status.idle": "2022-09-09T12:27:02.317942Z",
                    "shell.execute_reply": "2022-09-09T12:27:02.317541Z"
                }
            },
            "outputs": [
                {
                    "data": {
                        "application/vnd.jupyter.widget-view+json": {
                            "model_id": "0aa8eeb3d82444ad81cf57ac2bcde495",
                            "version_major": 2,
                            "version_minor": 0
                        },
                        "text/plain": [
                            "  0%|          | 0/3200 [00:00<?, ?it/s]"
                        ]
                    },
                    "metadata": {},
                    "output_type": "display_data"
                },
                {
                    "name": "stdout",
                    "output_type": "stream",
                    "text": [
                        "[0. 0. 0.]\n",
                        "[-0.13261707  0.12893845 -0.80428338]\n",
                        "[-0.19652338  0.17210512 -0.82899755]\n",
                        "[-0.21444198  0.18882029 -0.84741843]\n",
                        "[-0.22048633  0.19401923 -0.85281593]\n",
                        "[-0.22243567  0.1957259  -0.85460776]\n",
                        "[-0.22307034  0.1962795  -0.85518777]\n",
                        "[-0.22327656  0.19645953 -0.85537648]\n",
                        "Optimal weights\n",
                        "[-0.22707027  0.19779846 -0.8541705 ]\n"
                    ]
                },
                {
                    "data": {
                        "image/png": "[encoded data removed]",
                        "text/plain": [
                            "<Figure size 432x288 with 1 Axes>"
                        ]
                    },
                    "metadata": {
                        "needs_background": "light"
                    },
                    "output_type": "display_data"
                }
            ],
            "source": [
                "from tqdm.notebook import tqdm\n",
                "import matplotlib.pyplot as plt\n",
                "\n",
                "from pbo.sample_collection.dataloader import SampleDataLoader\n",
                "from pbo.weights_collection.dataloader import WeightsDataLoader\n",
                "from pbo.networks.learnable_pbo import LinearPBO\n",
                "\n",
                "\n",
                "data_loader_samples = SampleDataLoader(replay_buffer, batch_size_samples, shuffle_key)\n",
                "data_loader_weights = WeightsDataLoader(weights_buffer, batch_size_weights, shuffle_key)\n",
                "pbo_linear = LinearPBO(q, max_bellman_iterations, add_infinity, pbo_network_key, learning_rate, initial_weight_std, initial_bias_std)\n",
                "importance_iteration = jnp.ones(max_bellman_iterations + 1)\n",
                "\n",
                "cumulative_l2_loss = np.zeros((training_steps, fitting_steps)) * np.nan\n",
                "\n",
                "for training_step in tqdm(range(training_steps)):\n",
                "    params_target = pbo_linear.params\n",
                "    for fitting_step in range(fitting_steps):\n",
                "        data_loader_weights.shuffle()\n",
                "        for batch_weights in data_loader_weights:\n",
                "            data_loader_samples.shuffle()\n",
                "            for batch_samples in data_loader_samples:\n",
                "                pbo_linear.params, pbo_linear.optimizer_state, l2_loss = pbo_linear.learn_on_batch(\n",
                "                    pbo_linear.params, params_target, pbo_linear.optimizer_state, batch_weights, batch_samples, importance_iteration\n",
                "                )\n",
                "        cumulative_l2_loss[training_step, fitting_step] = l2_loss\n",
                "\n",
                "weights = np.zeros((max_bellman_iterations_validation + 2, q.weights_dimension))\n",
                "\n",
                "\n",
                "batch_iterated_weights = validation_initial_weight.reshape((1, -1))\n",
                "for bellman_iteration in range(max_bellman_iterations_validation + 1):\n",
                "    weights[bellman_iteration] = batch_iterated_weights[0]\n",
                "    print(weights[bellman_iteration])\n",
                "\n",
                "    batch_iterated_weights = pbo_linear(pbo_linear.params, batch_iterated_weights)\n",
                "\n",
                "weights[max_bellman_iterations_validation + 1] = pbo_linear.fixed_point(pbo_linear.params)\n",
                "\n",
                "print(\"Optimal weights\")\n",
                "print(env.optimal_weights)\n",
                "\n",
                "for training_step in range(0, training_steps, max(training_steps // 10, 1)):\n",
                "    plt.plot(cumulative_l2_loss[training_step], label=f\"Training step {training_step}\")\n",
                "plt.legend()\n",
                "plt.show()"
            ]
        },
        {
            "cell_type": "code",
            "execution_count": 7,
            "metadata": {
                "execution": {
                    "iopub.execute_input": "2022-09-09T12:27:02.320078Z",
                    "iopub.status.busy": "2022-09-09T12:27:02.319941Z",
                    "iopub.status.idle": "2022-09-09T12:27:02.331772Z",
                    "shell.execute_reply": "2022-09-09T12:27:02.331336Z"
                }
            },
            "outputs": [
                {
                    "data": {
                        "text/plain": [
                            "DeviceArray([-0.22337584,  0.19654617, -0.85546726], dtype=float32)"
                        ]
                    },
                    "execution_count": 7,
                    "metadata": {},
                    "output_type": "execute_result"
                }
            ],
            "source": [
                "pbo_linear.fixed_point(pbo_linear.params)"
            ]
        },
        {
            "cell_type": "markdown",
            "metadata": {},
            "source": [
                "## Save data"
            ]
        },
        {
            "cell_type": "code",
            "execution_count": 8,
            "metadata": {
                "execution": {
                    "iopub.execute_input": "2022-09-09T12:27:02.333615Z",
                    "iopub.status.busy": "2022-09-09T12:27:02.333483Z",
                    "iopub.status.idle": "2022-09-09T12:27:02.414454Z",
                    "shell.execute_reply": "2022-09-09T12:27:02.413962Z"
                }
            },
            "outputs": [],
            "source": [
                "np.save(f\"figures/data/PBO_linear/{max_bellman_iterations}_W_{initial_weight_std}_{seed}.npy\", weights)\n",
                "np.save(f\"figures/data/PBO_linear/{max_bellman_iterations}_Pi_{initial_weight_std}_{seed}.npy\", env.greedy_V(weights))"
            ]
        },
        {
            "cell_type": "markdown",
            "metadata": {},
            "source": [
                "## Visualise"
            ]
        },
        {
            "cell_type": "code",
            "execution_count": 9,
            "metadata": {
                "execution": {
                    "iopub.execute_input": "2022-09-09T12:27:02.416522Z",
                    "iopub.status.busy": "2022-09-09T12:27:02.416383Z",
                    "iopub.status.idle": "2022-09-09T12:27:02.781863Z",
                    "shell.execute_reply": "2022-09-09T12:27:02.781394Z"
                }
            },
            "outputs": [
                {
                    "data": {
                        "image/png": "[encoded data removed]",
                        "text/plain": [
                            "<Figure size 504x504 with 1 Axes>"
                        ]
                    },
                    "metadata": {
                        "needs_background": "light"
                    },
                    "output_type": "display_data"
                }
            ],
            "source": [
                "from pbo.utils.lqr_weights_viewer import visualize\n",
                "\n",
                "weights[np.abs(weights) > 20] = np.nan\n",
                "\n",
                "visualize(weights, env.optimal_weights, pbo_linear.fixed_point(pbo_linear.params))"
            ]
        },
        {
            "cell_type": "code",
            "execution_count": 10,
            "metadata": {
                "execution": {
                    "iopub.execute_input": "2022-09-09T12:27:02.783584Z",
                    "iopub.status.busy": "2022-09-09T12:27:02.783448Z",
                    "iopub.status.idle": "2022-09-09T12:27:02.794819Z",
                    "shell.execute_reply": "2022-09-09T12:27:02.794367Z"
                }
            },
            "outputs": [
                {
                    "data": {
                        "text/plain": [
                            "{'LinearPBONet/linear': {'b': DeviceArray([-0.13261707,  0.12893845, -0.8042834 ], dtype=float32),\n",
                            "  'w': DeviceArray([[ 0.16662766, -0.19466461,  0.22354247],\n",
                            "               [-0.15266941,  0.09544015, -0.1093421 ],\n",
                            "               [ 0.02750731, -0.00627256, -0.02366058]], dtype=float32)}}"
                        ]
                    },
                    "execution_count": 10,
                    "metadata": {},
                    "output_type": "execute_result"
                }
            ],
            "source": [
                "pbo_linear.params"
            ]
        }
    ],
    "metadata": {
        "kernelspec": {
            "display_name": "Python 3.8.10 ('env_cpu': venv)",
            "language": "python",
            "name": "python3"
        },
        "language_info": {
            "codemirror_mode": {
                "name": "ipython",
                "version": 3
            },
            "file_extension": ".py",
            "mimetype": "text/x-python",
            "name": "python",
            "nbconvert_exporter": "python",
            "pygments_lexer": "ipython3",
            "version": "3.8.10"
        },
        "vscode": {
            "interpreter": {
                "hash": "af5525a3273d35d601ae265c5d3634806dd61a1c4d085ae098611a6832982bdb"
            }
        },
        "widgets": {
            "application/vnd.jupyter.widget-state+json": {
                "state": {
                    "0aa8eeb3d82444ad81cf57ac2bcde495": {
                        "model_module": "@jupyter-widgets/controls",
                        "model_module_version": "1.5.0",
                        "model_name": "HBoxModel",
                        "state": {
                            "_dom_classes": [],
                            "_model_module": "@jupyter-widgets/controls",
                            "_model_module_version": "1.5.0",
                            "_model_name": "HBoxModel",
                            "_view_count": null,
                            "_view_module": "@jupyter-widgets/controls",
                            "_view_module_version": "1.5.0",
                            "_view_name": "HBoxView",
                            "box_style": "",
                            "children": [
                                "IPY_MODEL_302fa66661bb4a1fbd2a5be688610928",
                                "IPY_MODEL_52700675f1a04dcaa1c7eae0ef1e3af0",
                                "IPY_MODEL_67a47a37d1854ff9824d45540c008708"
                            ],
                            "layout": "IPY_MODEL_6cba27f14e384ba4955494cf2009ecde"
                        }
                    },
                    "302fa66661bb4a1fbd2a5be688610928": {
                        "model_module": "@jupyter-widgets/controls",
                        "model_module_version": "1.5.0",
                        "model_name": "HTMLModel",
                        "state": {
                            "_dom_classes": [],
                            "_model_module": "@jupyter-widgets/controls",
                            "_model_module_version": "1.5.0",
                            "_model_name": "HTMLModel",
                            "_view_count": null,
                            "_view_module": "@jupyter-widgets/controls",
                            "_view_module_version": "1.5.0",
                            "_view_name": "HTMLView",
                            "description": "",
                            "description_tooltip": null,
                            "layout": "IPY_MODEL_8cb06733f2374cc88fa6d65f069aace5",
                            "placeholder": "​",
                            "style": "IPY_MODEL_4e8cb626b5fe4cb893950cf2d24ae665",
                            "value": "100%"
                        }
                    },
                    "4e8cb626b5fe4cb893950cf2d24ae665": {
                        "model_module": "@jupyter-widgets/controls",
                        "model_module_version": "1.5.0",
                        "model_name": "DescriptionStyleModel",
                        "state": {
                            "_model_module": "@jupyter-widgets/controls",
                            "_model_module_version": "1.5.0",
                            "_model_name": "DescriptionStyleModel",
                            "_view_count": null,
                            "_view_module": "@jupyter-widgets/base",
                            "_view_module_version": "1.2.0",
                            "_view_name": "StyleView",
                            "description_width": ""
                        }
                    },
                    "52700675f1a04dcaa1c7eae0ef1e3af0": {
                        "model_module": "@jupyter-widgets/controls",
                        "model_module_version": "1.5.0",
                        "model_name": "FloatProgressModel",
                        "state": {
                            "_dom_classes": [],
                            "_model_module": "@jupyter-widgets/controls",
                            "_model_module_version": "1.5.0",
                            "_model_name": "FloatProgressModel",
                            "_view_count": null,
                            "_view_module": "@jupyter-widgets/controls",
                            "_view_module_version": "1.5.0",
                            "_view_name": "ProgressView",
                            "bar_style": "success",
                            "description": "",
                            "description_tooltip": null,
                            "layout": "IPY_MODEL_53460c9cb9804a4ca8d191ccc742a55d",
                            "max": 3200.0,
                            "min": 0.0,
                            "orientation": "horizontal",
                            "style": "IPY_MODEL_ff37fb91d33b4b68937b814f39f7e50e",
                            "value": 3200.0
                        }
                    },
                    "53460c9cb9804a4ca8d191ccc742a55d": {
                        "model_module": "@jupyter-widgets/base",
                        "model_module_version": "1.2.0",
                        "model_name": "LayoutModel",
                        "state": {
                            "_model_module": "@jupyter-widgets/base",
                            "_model_module_version": "1.2.0",
                            "_model_name": "LayoutModel",
                            "_view_count": null,
                            "_view_module": "@jupyter-widgets/base",
                            "_view_module_version": "1.2.0",
                            "_view_name": "LayoutView",
                            "align_content": null,
                            "align_items": null,
                            "align_self": null,
                            "border": null,
                            "bottom": null,
                            "display": null,
                            "flex": null,
                            "flex_flow": null,
                            "grid_area": null,
                            "grid_auto_columns": null,
                            "grid_auto_flow": null,
                            "grid_auto_rows": null,
                            "grid_column": null,
                            "grid_gap": null,
                            "grid_row": null,
                            "grid_template_areas": null,
                            "grid_template_columns": null,
                            "grid_template_rows": null,
                            "height": null,
                            "justify_content": null,
                            "justify_items": null,
                            "left": null,
                            "margin": null,
                            "max_height": null,
                            "max_width": null,
                            "min_height": null,
                            "min_width": null,
                            "object_fit": null,
                            "object_position": null,
                            "order": null,
                            "overflow": null,
                            "overflow_x": null,
                            "overflow_y": null,
                            "padding": null,
                            "right": null,
                            "top": null,
                            "visibility": null,
                            "width": null
                        }
                    },
                    "67a47a37d1854ff9824d45540c008708": {
                        "model_module": "@jupyter-widgets/controls",
                        "model_module_version": "1.5.0",
                        "model_name": "HTMLModel",
                        "state": {
                            "_dom_classes": [],
                            "_model_module": "@jupyter-widgets/controls",
                            "_model_module_version": "1.5.0",
                            "_model_name": "HTMLModel",
                            "_view_count": null,
                            "_view_module": "@jupyter-widgets/controls",
                            "_view_module_version": "1.5.0",
                            "_view_name": "HTMLView",
                            "description": "",
                            "description_tooltip": null,
                            "layout": "IPY_MODEL_9965e4d8710a4143946dffcc3d3b0271",
                            "placeholder": "​",
                            "style": "IPY_MODEL_924956db66c1408eb935d9f59945d6b7",
                            "value": " 3200/3200 [00:05&lt;00:00, 747.26it/s]"
                        }
                    },
                    "6cba27f14e384ba4955494cf2009ecde": {
                        "model_module": "@jupyter-widgets/base",
                        "model_module_version": "1.2.0",
                        "model_name": "LayoutModel",
                        "state": {
                            "_model_module": "@jupyter-widgets/base",
                            "_model_module_version": "1.2.0",
                            "_model_name": "LayoutModel",
                            "_view_count": null,
                            "_view_module": "@jupyter-widgets/base",
                            "_view_module_version": "1.2.0",
                            "_view_name": "LayoutView",
                            "align_content": null,
                            "align_items": null,
                            "align_self": null,
                            "border": null,
                            "bottom": null,
                            "display": null,
                            "flex": null,
                            "flex_flow": null,
                            "grid_area": null,
                            "grid_auto_columns": null,
                            "grid_auto_flow": null,
                            "grid_auto_rows": null,
                            "grid_column": null,
                            "grid_gap": null,
                            "grid_row": null,
                            "grid_template_areas": null,
                            "grid_template_columns": null,
                            "grid_template_rows": null,
                            "height": null,
                            "justify_content": null,
                            "justify_items": null,
                            "left": null,
                            "margin": null,
                            "max_height": null,
                            "max_width": null,
                            "min_height": null,
                            "min_width": null,
                            "object_fit": null,
                            "object_position": null,
                            "order": null,
                            "overflow": null,
                            "overflow_x": null,
                            "overflow_y": null,
                            "padding": null,
                            "right": null,
                            "top": null,
                            "visibility": null,
                            "width": null
                        }
                    },
                    "8cb06733f2374cc88fa6d65f069aace5": {
                        "model_module": "@jupyter-widgets/base",
                        "model_module_version": "1.2.0",
                        "model_name": "LayoutModel",
                        "state": {
                            "_model_module": "@jupyter-widgets/base",
                            "_model_module_version": "1.2.0",
                            "_model_name": "LayoutModel",
                            "_view_count": null,
                            "_view_module": "@jupyter-widgets/base",
                            "_view_module_version": "1.2.0",
                            "_view_name": "LayoutView",
                            "align_content": null,
                            "align_items": null,
                            "align_self": null,
                            "border": null,
                            "bottom": null,
                            "display": null,
                            "flex": null,
                            "flex_flow": null,
                            "grid_area": null,
                            "grid_auto_columns": null,
                            "grid_auto_flow": null,
                            "grid_auto_rows": null,
                            "grid_column": null,
                            "grid_gap": null,
                            "grid_row": null,
                            "grid_template_areas": null,
                            "grid_template_columns": null,
                            "grid_template_rows": null,
                            "height": null,
                            "justify_content": null,
                            "justify_items": null,
                            "left": null,
                            "margin": null,
                            "max_height": null,
                            "max_width": null,
                            "min_height": null,
                            "min_width": null,
                            "object_fit": null,
                            "object_position": null,
                            "order": null,
                            "overflow": null,
                            "overflow_x": null,
                            "overflow_y": null,
                            "padding": null,
                            "right": null,
                            "top": null,
                            "visibility": null,
                            "width": null
                        }
                    },
                    "924956db66c1408eb935d9f59945d6b7": {
                        "model_module": "@jupyter-widgets/controls",
                        "model_module_version": "1.5.0",
                        "model_name": "DescriptionStyleModel",
                        "state": {
                            "_model_module": "@jupyter-widgets/controls",
                            "_model_module_version": "1.5.0",
                            "_model_name": "DescriptionStyleModel",
                            "_view_count": null,
                            "_view_module": "@jupyter-widgets/base",
                            "_view_module_version": "1.2.0",
                            "_view_name": "StyleView",
                            "description_width": ""
                        }
                    },
                    "9965e4d8710a4143946dffcc3d3b0271": {
                        "model_module": "@jupyter-widgets/base",
                        "model_module_version": "1.2.0",
                        "model_name": "LayoutModel",
                        "state": {
                            "_model_module": "@jupyter-widgets/base",
                            "_model_module_version": "1.2.0",
                            "_model_name": "LayoutModel",
                            "_view_count": null,
                            "_view_module": "@jupyter-widgets/base",
                            "_view_module_version": "1.2.0",
                            "_view_name": "LayoutView",
                            "align_content": null,
                            "align_items": null,
                            "align_self": null,
                            "border": null,
                            "bottom": null,
                            "display": null,
                            "flex": null,
                            "flex_flow": null,
                            "grid_area": null,
                            "grid_auto_columns": null,
                            "grid_auto_flow": null,
                            "grid_auto_rows": null,
                            "grid_column": null,
                            "grid_gap": null,
                            "grid_row": null,
                            "grid_template_areas": null,
                            "grid_template_columns": null,
                            "grid_template_rows": null,
                            "height": null,
                            "justify_content": null,
                            "justify_items": null,
                            "left": null,
                            "margin": null,
                            "max_height": null,
                            "max_width": null,
                            "min_height": null,
                            "min_width": null,
                            "object_fit": null,
                            "object_position": null,
                            "order": null,
                            "overflow": null,
                            "overflow_x": null,
                            "overflow_y": null,
                            "padding": null,
                            "right": null,
                            "top": null,
                            "visibility": null,
                            "width": null
                        }
                    },
                    "ff37fb91d33b4b68937b814f39f7e50e": {
                        "model_module": "@jupyter-widgets/controls",
                        "model_module_version": "1.5.0",
                        "model_name": "ProgressStyleModel",
                        "state": {
                            "_model_module": "@jupyter-widgets/controls",
                            "_model_module_version": "1.5.0",
                            "_model_name": "ProgressStyleModel",
                            "_view_count": null,
                            "_view_module": "@jupyter-widgets/base",
                            "_view_module_version": "1.2.0",
                            "_view_name": "StyleView",
                            "bar_color": null,
                            "description_width": ""
                        }
                    }
                },
                "version_major": 2,
                "version_minor": 0
            }
        }
    },
    "nbformat": 4,
    "nbformat_minor": 2
}