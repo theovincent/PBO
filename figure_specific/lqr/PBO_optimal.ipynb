{
 "cells": [
  {
   "cell_type": "markdown",
   "metadata": {},
   "source": [
    "# PBO optimal on LQR\n",
    "\n",
    "## Define paramters"
   ]
  },
  {
   "cell_type": "code",
   "execution_count": 5,
   "metadata": {
    "execution": {
     "iopub.execute_input": "2022-08-11T13:12:10.867004Z",
     "iopub.status.busy": "2022-08-11T13:12:10.866191Z",
     "iopub.status.idle": "2022-08-11T13:12:11.418256Z",
     "shell.execute_reply": "2022-08-11T13:12:11.417718Z"
    }
   },
   "outputs": [
    {
     "name": "stdout",
     "output_type": "stream",
     "text": [
      "The autoreload extension is already loaded. To reload it, use:\n",
      "  %reload_ext autoreload\n"
     ]
    }
   ],
   "source": [
    "%load_ext autoreload\n",
    "%autoreload 2\n",
    "\n",
    "import warnings\n",
    "warnings.simplefilter(action='ignore', category=FutureWarning)\n",
    "import jax\n",
    "import os\n",
    "import json\n",
    "\n",
    "parameters = json.load(open(\"parameters.json\"))\n",
    "env_seed = parameters[\"env_seed\"]\n",
    "\n",
    "dummy_max_discrete_state = parameters[\"max_discrete_state\"]\n",
    "\n",
    "# Q function\n",
    "dummy_action_range_on_max = parameters[\"action_range_on_max\"]\n",
    "dummy_n_actions_on_max = parameters[\"n_actions_on_max\"]\n",
    "\n",
    "# Visualisation of errors and performances\n",
    "max_bellman_iterations = parameters[\"max_bellman_iterations\"]\n",
    "max_bellman_iterations_validation = max_bellman_iterations + 5\n",
    "dummy_learning_rate = {\"first\": 0, \"last\": 0, \"duration\": 0}\n",
    "\n",
    "# keys\n",
    "env_key = jax.random.PRNGKey(env_seed)\n",
    "dummy_q_network_key = env_key.copy()\n",
    "dummy_pbo_network_key = env_key.copy()"
   ]
  },
  {
   "cell_type": "markdown",
   "metadata": {},
   "source": [
    "## Define environment"
   ]
  },
  {
   "cell_type": "code",
   "execution_count": 6,
   "metadata": {
    "execution": {
     "iopub.execute_input": "2022-08-11T13:12:11.421388Z",
     "iopub.status.busy": "2022-08-11T13:12:11.421213Z",
     "iopub.status.idle": "2022-08-11T13:12:11.802639Z",
     "shell.execute_reply": "2022-08-11T13:12:11.802172Z"
    }
   },
   "outputs": [
    {
     "name": "stdout",
     "output_type": "stream",
     "text": [
      "Transition: s' = As + Ba\n",
      "Transition: s' = -0.44256162643432617s + 0.37337517738342285a\n",
      "Reward: Qs² + Ra² + 2 Ssa\n",
      "Reward: -0.41404926776885986s² + -73.91294860839844a² + 1.6393332481384277sa\n"
     ]
    }
   ],
   "source": [
    "import numpy as np\n",
    "\n",
    "from pbo.environment.linear_quadratic import LinearQuadraticEnv\n",
    "\n",
    "env = LinearQuadraticEnv(env_key, max_init_state=dummy_max_discrete_state)"
   ]
  },
  {
   "cell_type": "markdown",
   "metadata": {},
   "source": [
    "## Optimal PBO"
   ]
  },
  {
   "cell_type": "code",
   "execution_count": 7,
   "metadata": {
    "execution": {
     "iopub.execute_input": "2022-08-11T13:12:11.804416Z",
     "iopub.status.busy": "2022-08-11T13:12:11.804288Z",
     "iopub.status.idle": "2022-08-11T13:12:12.203602Z",
     "shell.execute_reply": "2022-08-11T13:12:12.203129Z"
    }
   },
   "outputs": [
    {
     "name": "stdout",
     "output_type": "stream",
     "text": [
      "[0. 0. 0.]\n",
      "[ -0.41404927   0.81966662 -73.91294861]\n",
      "[ -0.49336496   0.88658273 -73.96940613]\n",
      "[ -0.5085988   0.8994351 -73.9802475]\n",
      "[ -0.51152205   0.9019013  -73.98233032]\n",
      "[ -0.51208293   0.90237451 -73.98272705]\n",
      "[ -0.51219052   0.90246528 -73.98280334]\n",
      "[ -0.51221114   0.90248269 -73.9828186 ]\n",
      "[ -0.51221514   0.90248603 -73.9828186 ]\n",
      "[ -0.51221591   0.90248668 -73.9828186 ]\n",
      "[ -0.51221603   0.9024868  -73.9828186 ]\n",
      "[ -0.51221603   0.9024868  -73.9828186 ]\n",
      "[ -0.51221603   0.9024868  -73.9828186 ]\n",
      "Optimal weights\n",
      "[ -0.5122161   0.9024868 -73.98282  ]\n"
     ]
    }
   ],
   "source": [
    "from tqdm.notebook import tqdm\n",
    "\n",
    "from pbo.networks.learnable_q import LQRQ\n",
    "from pbo.networks.learnable_pbo import CustomLinearPBO\n",
    "\n",
    "q = LQRQ(\n",
    "    state_dim=1,\n",
    "    action_dim=1,\n",
    "    n_actions_on_max=dummy_n_actions_on_max,\n",
    "    action_range_on_max=dummy_action_range_on_max,\n",
    "    network_key=dummy_q_network_key,\n",
    "    random_weights_range=None,\n",
    "    random_weights_key=None,\n",
    "    learning_rate=None,\n",
    "    zero_initializer=True,\n",
    ")\n",
    "pbo_optimal = CustomLinearPBO(q, max_bellman_iterations, False, dummy_pbo_network_key, dummy_learning_rate)\n",
    "pbo_optimal.params[\"CustomLinearPBONet\"][\"slope\"] = env.optimal_slope.reshape((1, 3))\n",
    "pbo_optimal.params[\"CustomLinearPBONet\"][\"bias\"] = env.optimal_bias.reshape((1, 3))\n",
    "\n",
    "validation_initial_weight = q.to_weights(q.params)\n",
    "\n",
    "weights = np.zeros((max_bellman_iterations_validation + 1, q.weights_dimension))\n",
    "\n",
    "batch_iterated_weights = validation_initial_weight.reshape((1, -1))\n",
    "for bellman_iteration in range(max_bellman_iterations_validation + 1):\n",
    "    weights[bellman_iteration] = batch_iterated_weights[0]\n",
    "    print(weights[bellman_iteration])\n",
    "\n",
    "    batch_iterated_weights = pbo_optimal(pbo_optimal.params, batch_iterated_weights)\n",
    "    \n",
    "print(\"Optimal weights\")\n",
    "print(env.optimal_weights)"
   ]
  },
  {
   "cell_type": "markdown",
   "metadata": {},
   "source": [
    "## Save data"
   ]
  },
  {
   "cell_type": "code",
   "execution_count": 8,
   "metadata": {
    "execution": {
     "iopub.execute_input": "2022-08-11T13:12:12.205417Z",
     "iopub.status.busy": "2022-08-11T13:12:12.205287Z",
     "iopub.status.idle": "2022-08-11T13:12:12.214442Z",
     "shell.execute_reply": "2022-08-11T13:12:12.213999Z"
    }
   },
   "outputs": [],
   "source": [
    "np.save(f\"figures/data/PBO_optimal/{max_bellman_iterations}_W.npy\", weights)"
   ]
  }
 ],
 "metadata": {
  "kernelspec": {
   "display_name": "Python 3.8.10 ('env_cpu': venv)",
   "language": "python",
   "name": "python3"
  },
  "language_info": {
   "codemirror_mode": {
    "name": "ipython",
    "version": 3
   },
   "file_extension": ".py",
   "mimetype": "text/x-python",
   "name": "python",
   "nbconvert_exporter": "python",
   "pygments_lexer": "ipython3",
   "version": "3.8.10"
  },
  "vscode": {
   "interpreter": {
    "hash": "af5525a3273d35d601ae265c5d3634806dd61a1c4d085ae098611a6832982bdb"
   }
  }
 },
 "nbformat": 4,
 "nbformat_minor": 2
}
