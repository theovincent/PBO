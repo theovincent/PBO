{
 "cells": [
  {
   "cell_type": "markdown",
   "metadata": {},
   "source": [
    "# FQI on LQR\n",
    "\n",
    "## Define paramters"
   ]
  },
  {
   "cell_type": "code",
   "execution_count": 18,
   "metadata": {
    "execution": {
     "iopub.execute_input": "2022-08-11T13:09:37.164434Z",
     "iopub.status.busy": "2022-08-11T13:09:37.164276Z",
     "iopub.status.idle": "2022-08-11T13:09:37.780438Z",
     "shell.execute_reply": "2022-08-11T13:09:37.779987Z"
    }
   },
   "outputs": [
    {
     "name": "stdout",
     "output_type": "stream",
     "text": [
      "The autoreload extension is already loaded. To reload it, use:\n",
      "  %reload_ext autoreload\n"
     ]
    }
   ],
   "source": [
    "%load_ext autoreload\n",
    "%autoreload 2\n",
    "\n",
    "import warnings\n",
    "warnings.simplefilter(action='ignore', category=FutureWarning)\n",
    "import jax\n",
    "import os\n",
    "import json\n",
    "\n",
    "parameters = json.load(open(\"parameters.json\"))\n",
    "env_seed = parameters[\"env_seed\"]\n",
    "\n",
    "# Sample collection\n",
    "max_discrete_state = parameters[\"max_discrete_state\"]\n",
    "n_discrete_states = parameters[\"n_discrete_states\"]\n",
    "max_discrete_action = parameters[\"max_discrete_action\"]\n",
    "n_discrete_actions = parameters[\"n_discrete_actions\"]\n",
    "n_samples = n_discrete_states * n_discrete_actions\n",
    "\n",
    "# Q function\n",
    "action_range_on_max = parameters[\"action_range_on_max\"]\n",
    "n_actions_on_max = parameters[\"n_actions_on_max\"]\n",
    "\n",
    "# Trainings\n",
    "fitting_steps = 200 * 4\n",
    "max_bellman_iterations = parameters[\"max_bellman_iterations\"]\n",
    "batch_size_samples = n_samples\n",
    "learning_rate = {\"first\": 0.01, \"last\": 0.00001, \"duration\": fitting_steps * n_samples // batch_size_samples}\n",
    "\n",
    "# Search for an unused seed\n",
    "max_used_seed = 0\n",
    "for file in os.listdir(\"figures/data/FQI/\"):\n",
    "    if int(file.split(\"_\")[0]) == max_bellman_iterations and int(file.split(\"_\")[2][:-4]) > max_used_seed:\n",
    "        max_used_seed = int(file.split(\"_\")[2][:-4])\n",
    "max_used_seed\n",
    "\n",
    "# keys\n",
    "env_key = jax.random.PRNGKey(env_seed)\n",
    "seed = max_used_seed + 1\n",
    "key = jax.random.PRNGKey(seed)\n",
    "shuffle_key, dummy_q_network_key, _, _ = jax.random.split(key, 4) # 4 keys are generated to be coherent with the other trainings"
   ]
  },
  {
   "cell_type": "markdown",
   "metadata": {},
   "source": [
    "## Define environment"
   ]
  },
  {
   "cell_type": "code",
   "execution_count": 19,
   "metadata": {
    "execution": {
     "iopub.execute_input": "2022-08-11T13:09:37.782623Z",
     "iopub.status.busy": "2022-08-11T13:09:37.782434Z",
     "iopub.status.idle": "2022-08-11T13:09:38.171319Z",
     "shell.execute_reply": "2022-08-11T13:09:38.170865Z"
    }
   },
   "outputs": [
    {
     "name": "stdout",
     "output_type": "stream",
     "text": [
      "Transition: s' = As + Ba\n",
      "Transition: s' = -0.44256162643432617s + 0.37337517738342285a\n",
      "Reward: Qs² + Ra² + 2 Ssa\n",
      "Reward: -0.41404926776885986s² + -73.91294860839844a² + 1.6393332481384277sa\n"
     ]
    }
   ],
   "source": [
    "import numpy as np\n",
    "\n",
    "from pbo.environment.linear_quadratic import LinearQuadraticEnv\n",
    "\n",
    "\n",
    "discrete_states = np.linspace(-max_discrete_state, max_discrete_state, n_discrete_states)\n",
    "state_box_half_size = max_discrete_state / n_discrete_states\n",
    "discrete_states_boxes = np.linspace(\n",
    "    -max_discrete_state - state_box_half_size, max_discrete_state + state_box_half_size, n_discrete_states + 1\n",
    ")\n",
    "\n",
    "discrete_actions = np.linspace(-max_discrete_action, max_discrete_action, n_discrete_actions)\n",
    "action_box_half_size = max_discrete_action / n_discrete_actions\n",
    "discrete_actions_boxes = np.linspace(\n",
    "    -max_discrete_action - action_box_half_size, max_discrete_action + action_box_half_size, n_discrete_actions + 1\n",
    ")\n",
    "\n",
    "env = LinearQuadraticEnv(env_key, max_init_state=max_discrete_state)"
   ]
  },
  {
   "cell_type": "markdown",
   "metadata": {},
   "source": [
    "## Collect samples"
   ]
  },
  {
   "cell_type": "markdown",
   "metadata": {},
   "source": [
    "### Samples on the mesh"
   ]
  },
  {
   "cell_type": "code",
   "execution_count": 20,
   "metadata": {
    "execution": {
     "iopub.execute_input": "2022-08-11T13:09:38.174301Z",
     "iopub.status.busy": "2022-08-11T13:09:38.174163Z",
     "iopub.status.idle": "2022-08-11T13:09:38.342797Z",
     "shell.execute_reply": "2022-08-11T13:09:38.342325Z"
    }
   },
   "outputs": [],
   "source": [
    "import jax.numpy as jnp\n",
    "\n",
    "from pbo.sample_collection.replay_buffer import ReplayBuffer\n",
    "\n",
    "\n",
    "n_samples = n_discrete_states * n_discrete_actions\n",
    "replay_buffer = ReplayBuffer()\n",
    "\n",
    "for state in discrete_states:\n",
    "    for action in discrete_actions:\n",
    "        env.reset(jnp.array([state]))\n",
    "        next_state, reward, absorbing, _ = env.step(jnp.array([action]))\n",
    "\n",
    "        replay_buffer.add(jnp.array([state]), jnp.array([action]), reward, next_state, absorbing)\n",
    "\n",
    "replay_buffer.cast_to_jax_array()"
   ]
  },
  {
   "cell_type": "markdown",
   "metadata": {},
   "source": [
    "### Visualize samples"
   ]
  },
  {
   "cell_type": "code",
   "execution_count": 21,
   "metadata": {
    "execution": {
     "iopub.execute_input": "2022-08-11T13:09:38.344761Z",
     "iopub.status.busy": "2022-08-11T13:09:38.344630Z",
     "iopub.status.idle": "2022-08-11T13:09:38.931505Z",
     "shell.execute_reply": "2022-08-11T13:09:38.931056Z"
    }
   },
   "outputs": [
    {
     "data": {
      "image/png": "[encoded data removed]",
      "text/plain": [
       "<Figure size 432x288 with 2 Axes>"
      ]
     },
     "metadata": {
      "needs_background": "light"
     },
     "output_type": "display_data"
    }
   ],
   "source": [
    "from pbo.sample_collection.count_samples import count_samples\n",
    "from pbo.utils.two_dimesions_mesh import TwoDimesionsMesh\n",
    "\n",
    "\n",
    "samples_count, n_outside_boxes, _ = count_samples(replay_buffer.states, replay_buffer.actions, discrete_states_boxes, discrete_actions_boxes, replay_buffer.rewards)\n",
    "samples_visu_mesh = TwoDimesionsMesh(discrete_states, discrete_actions, sleeping_time=0)\n",
    "\n",
    "samples_visu_mesh.set_values(samples_count, zeros_to_nan=True)\n",
    "samples_visu_mesh.show(\n",
    "    f\"Samples repartition, \\n{int(100 * n_outside_boxes / n_samples)}% are outside the box.\"\n",
    ")\n"
   ]
  },
  {
   "cell_type": "markdown",
   "metadata": {},
   "source": [
    "## Train FQI"
   ]
  },
  {
   "cell_type": "code",
   "execution_count": 22,
   "metadata": {
    "execution": {
     "iopub.execute_input": "2022-08-11T13:09:38.933383Z",
     "iopub.status.busy": "2022-08-11T13:09:38.933191Z",
     "iopub.status.idle": "2022-08-11T13:09:41.251358Z",
     "shell.execute_reply": "2022-08-11T13:09:41.250855Z"
    }
   },
   "outputs": [
    {
     "name": "stdout",
     "output_type": "stream",
     "text": [
      "[0. 0. 0.]\n"
     ]
    },
    {
     "data": {
      "application/vnd.jupyter.widget-view+json": {
       "model_id": "7b99e80717684e29a2813b39b74c1de9",
       "version_major": 2,
       "version_minor": 0
      },
      "text/plain": [
       "  0%|          | 0/6 [00:00<?, ?it/s]"
      ]
     },
     "metadata": {},
     "output_type": "display_data"
    },
    {
     "name": "stdout",
     "output_type": "stream",
     "text": [
      "[-3.8897872   0.81966627 -3.94223738]\n",
      "[-7.76577711  1.29109132 -7.8803215 ]\n",
      "[-11.62521744   1.83302772 -11.81389999]\n",
      "[-15.46326637   2.3574903  -15.74234581]\n",
      "[-19.27299118   2.88207078 -19.6649704 ]\n",
      "[-23.04340935   3.40194559 -23.58096313]\n",
      "Optimal weights\n",
      "[ -0.5122161   0.9024868 -73.98282  ]\n"
     ]
    },
    {
     "data": {
      "image/png": "[encoded data removed]",
      "text/plain": [
       "<Figure size 432x288 with 1 Axes>"
      ]
     },
     "metadata": {
      "needs_background": "light"
     },
     "output_type": "display_data"
    }
   ],
   "source": [
    "from tqdm.notebook import tqdm\n",
    "import matplotlib.pyplot as plt\n",
    "\n",
    "from pbo.sample_collection.dataloader import SampleDataLoader\n",
    "from pbo.networks.learnable_q import LQRQ\n",
    "\n",
    "data_loader_samples = SampleDataLoader(replay_buffer, batch_size_samples, shuffle_key)\n",
    "q = LQRQ(\n",
    "    state_dim=1,\n",
    "    action_dim=1,\n",
    "    n_actions_on_max=n_actions_on_max,\n",
    "    action_range_on_max=action_range_on_max,\n",
    "    network_key=dummy_q_network_key,\n",
    "    random_weights_range=None,\n",
    "    random_weights_key=None,\n",
    "    learning_rate=learning_rate,\n",
    "    zero_initializer=True,\n",
    ")\n",
    "\n",
    "weights = np.zeros((max_bellman_iterations + 1, q.weights_dimension))\n",
    "\n",
    "params_target = q.params\n",
    "weights[0] = q.to_weights(q.params)\n",
    "\n",
    "print(weights[0])\n",
    "cumulative_l2_loss = np.zeros((max_bellman_iterations, fitting_steps)) * np.nan\n",
    "\n",
    "for bellman_iteration in tqdm(range(1, max_bellman_iterations)):\n",
    "    q.reset_optimizer()\n",
    "    \n",
    "    for fitting_step in range(fitting_steps):\n",
    "        data_loader_samples.shuffle()\n",
    "        l2_loss = 0\n",
    "        for batch_samples in data_loader_samples:\n",
    "            q.params, q.optimizer_state, loss = q.learn_on_batch(q.params, params_target, q.optimizer_state, batch_samples)\n",
    "            l2_loss += loss\n",
    "        cumulative_l2_loss[bellman_iteration - 1, fitting_step] = l2_loss\n",
    "\n",
    "    weights[bellman_iteration] = q.to_weights(q.params)\n",
    "    print(weights[bellman_iteration])\n",
    "\n",
    "    params_target = q.params\n",
    "\n",
    "print(\"Optimal weights\")\n",
    "print(env.optimal_weights)\n",
    "\n",
    "for bellman_iteration in range(max_bellman_iterations - 1):\n",
    "    plt.plot(cumulative_l2_loss[bellman_iteration], label=f\"Iteration {bellman_iteration}\")\n",
    "plt.legend()\n",
    "plt.show()"
   ]
  },
  {
   "cell_type": "markdown",
   "metadata": {},
   "source": [
    "## Save data"
   ]
  },
  {
   "cell_type": "code",
   "execution_count": 24,
   "metadata": {
    "execution": {
     "iopub.execute_input": "2022-08-11T13:09:41.253666Z",
     "iopub.status.busy": "2022-08-11T13:09:41.253447Z",
     "iopub.status.idle": "2022-08-11T13:09:41.268971Z",
     "shell.execute_reply": "2022-08-11T13:09:41.268425Z"
    }
   },
   "outputs": [],
   "source": [
    "np.save(f\"figures/data/FQI/{max_bellman_iterations}_W_{seed}.npy\", weights)"
   ]
  }
 ],
 "metadata": {
  "kernelspec": {
   "display_name": "Python 3.8.10 ('env_cpu': venv)",
   "language": "python",
   "name": "python3"
  },
  "language_info": {
   "codemirror_mode": {
    "name": "ipython",
    "version": 3
   },
   "file_extension": ".py",
   "mimetype": "text/x-python",
   "name": "python",
   "nbconvert_exporter": "python",
   "pygments_lexer": "ipython3",
   "version": "3.8.10"
  },
  "vscode": {
   "interpreter": {
    "hash": "af5525a3273d35d601ae265c5d3634806dd61a1c4d085ae098611a6832982bdb"
   }
  },
  "widgets": {
   "application/vnd.jupyter.widget-state+json": {
    "state": {
     "0bc7dab15f704049a1c1e5f0e035bf1c": {
      "model_module": "@jupyter-widgets/base",
      "model_module_version": "1.2.0",
      "model_name": "LayoutModel",
      "state": {
       "_model_module": "@jupyter-widgets/base",
       "_model_module_version": "1.2.0",
       "_model_name": "LayoutModel",
       "_view_count": null,
       "_view_module": "@jupyter-widgets/base",
       "_view_module_version": "1.2.0",
       "_view_name": "LayoutView",
       "align_content": null,
       "align_items": null,
       "align_self": null,
       "border": null,
       "bottom": null,
       "display": null,
       "flex": null,
       "flex_flow": null,
       "grid_area": null,
       "grid_auto_columns": null,
       "grid_auto_flow": null,
       "grid_auto_rows": null,
       "grid_column": null,
       "grid_gap": null,
       "grid_row": null,
       "grid_template_areas": null,
       "grid_template_columns": null,
       "grid_template_rows": null,
       "height": null,
       "justify_content": null,
       "justify_items": null,
       "left": null,
       "margin": null,
       "max_height": null,
       "max_width": null,
       "min_height": null,
       "min_width": null,
       "object_fit": null,
       "object_position": null,
       "order": null,
       "overflow": null,
       "overflow_x": null,
       "overflow_y": null,
       "padding": null,
       "right": null,
       "top": null,
       "visibility": null,
       "width": null
      }
     },
     "0f1c1a2c78c74f9180fbb40ec6a5c2fe": {
      "model_module": "@jupyter-widgets/controls",
      "model_module_version": "1.5.0",
      "model_name": "DescriptionStyleModel",
      "state": {
       "_model_module": "@jupyter-widgets/controls",
       "_model_module_version": "1.5.0",
       "_model_name": "DescriptionStyleModel",
       "_view_count": null,
       "_view_module": "@jupyter-widgets/base",
       "_view_module_version": "1.2.0",
       "_view_name": "StyleView",
       "description_width": ""
      }
     },
     "20db9f1b8c90496cab94b7aaadaf52c3": {
      "model_module": "@jupyter-widgets/controls",
      "model_module_version": "1.5.0",
      "model_name": "HTMLModel",
      "state": {
       "_dom_classes": [],
       "_model_module": "@jupyter-widgets/controls",
       "_model_module_version": "1.5.0",
       "_model_name": "HTMLModel",
       "_view_count": null,
       "_view_module": "@jupyter-widgets/controls",
       "_view_module_version": "1.5.0",
       "_view_name": "HTMLView",
       "description": "",
       "description_tooltip": null,
       "layout": "IPY_MODEL_21edc3c752b746579c0c3bccd0eb7d1d",
       "placeholder": "​",
       "style": "IPY_MODEL_5d2dc0444cfb41aeab1c97005fbc1dd7",
       "value": " 2/2 [00:02&lt;00:00,  1.01it/s]"
      }
     },
     "21edc3c752b746579c0c3bccd0eb7d1d": {
      "model_module": "@jupyter-widgets/base",
      "model_module_version": "1.2.0",
      "model_name": "LayoutModel",
      "state": {
       "_model_module": "@jupyter-widgets/base",
       "_model_module_version": "1.2.0",
       "_model_name": "LayoutModel",
       "_view_count": null,
       "_view_module": "@jupyter-widgets/base",
       "_view_module_version": "1.2.0",
       "_view_name": "LayoutView",
       "align_content": null,
       "align_items": null,
       "align_self": null,
       "border": null,
       "bottom": null,
       "display": null,
       "flex": null,
       "flex_flow": null,
       "grid_area": null,
       "grid_auto_columns": null,
       "grid_auto_flow": null,
       "grid_auto_rows": null,
       "grid_column": null,
       "grid_gap": null,
       "grid_row": null,
       "grid_template_areas": null,
       "grid_template_columns": null,
       "grid_template_rows": null,
       "height": null,
       "justify_content": null,
       "justify_items": null,
       "left": null,
       "margin": null,
       "max_height": null,
       "max_width": null,
       "min_height": null,
       "min_width": null,
       "object_fit": null,
       "object_position": null,
       "order": null,
       "overflow": null,
       "overflow_x": null,
       "overflow_y": null,
       "padding": null,
       "right": null,
       "top": null,
       "visibility": null,
       "width": null
      }
     },
     "2b12daa7b7134d668a23898e4cb5dd7b": {
      "model_module": "@jupyter-widgets/controls",
      "model_module_version": "1.5.0",
      "model_name": "HTMLModel",
      "state": {
       "_dom_classes": [],
       "_model_module": "@jupyter-widgets/controls",
       "_model_module_version": "1.5.0",
       "_model_name": "HTMLModel",
       "_view_count": null,
       "_view_module": "@jupyter-widgets/controls",
       "_view_module_version": "1.5.0",
       "_view_name": "HTMLView",
       "description": "",
       "description_tooltip": null,
       "layout": "IPY_MODEL_0bc7dab15f704049a1c1e5f0e035bf1c",
       "placeholder": "​",
       "style": "IPY_MODEL_0f1c1a2c78c74f9180fbb40ec6a5c2fe",
       "value": "100%"
      }
     },
     "35475f0148d4428a94574e08fc6668b0": {
      "model_module": "@jupyter-widgets/controls",
      "model_module_version": "1.5.0",
      "model_name": "FloatProgressModel",
      "state": {
       "_dom_classes": [],
       "_model_module": "@jupyter-widgets/controls",
       "_model_module_version": "1.5.0",
       "_model_name": "FloatProgressModel",
       "_view_count": null,
       "_view_module": "@jupyter-widgets/controls",
       "_view_module_version": "1.5.0",
       "_view_name": "ProgressView",
       "bar_style": "success",
       "description": "",
       "description_tooltip": null,
       "layout": "IPY_MODEL_ceb86788ae6e48cca6ce5201a8ac6bf5",
       "max": 2,
       "min": 0,
       "orientation": "horizontal",
       "style": "IPY_MODEL_e1218671b2194a08bd8ec734f21584ea",
       "value": 2
      }
     },
     "5d2dc0444cfb41aeab1c97005fbc1dd7": {
      "model_module": "@jupyter-widgets/controls",
      "model_module_version": "1.5.0",
      "model_name": "DescriptionStyleModel",
      "state": {
       "_model_module": "@jupyter-widgets/controls",
       "_model_module_version": "1.5.0",
       "_model_name": "DescriptionStyleModel",
       "_view_count": null,
       "_view_module": "@jupyter-widgets/base",
       "_view_module_version": "1.2.0",
       "_view_name": "StyleView",
       "description_width": ""
      }
     },
     "736cd927b549433fb81db7896d503930": {
      "model_module": "@jupyter-widgets/base",
      "model_module_version": "1.2.0",
      "model_name": "LayoutModel",
      "state": {
       "_model_module": "@jupyter-widgets/base",
       "_model_module_version": "1.2.0",
       "_model_name": "LayoutModel",
       "_view_count": null,
       "_view_module": "@jupyter-widgets/base",
       "_view_module_version": "1.2.0",
       "_view_name": "LayoutView",
       "align_content": null,
       "align_items": null,
       "align_self": null,
       "border": null,
       "bottom": null,
       "display": null,
       "flex": null,
       "flex_flow": null,
       "grid_area": null,
       "grid_auto_columns": null,
       "grid_auto_flow": null,
       "grid_auto_rows": null,
       "grid_column": null,
       "grid_gap": null,
       "grid_row": null,
       "grid_template_areas": null,
       "grid_template_columns": null,
       "grid_template_rows": null,
       "height": null,
       "justify_content": null,
       "justify_items": null,
       "left": null,
       "margin": null,
       "max_height": null,
       "max_width": null,
       "min_height": null,
       "min_width": null,
       "object_fit": null,
       "object_position": null,
       "order": null,
       "overflow": null,
       "overflow_x": null,
       "overflow_y": null,
       "padding": null,
       "right": null,
       "top": null,
       "visibility": null,
       "width": null
      }
     },
     "971ea49134a247f4ad56a353bc8eb1a4": {
      "model_module": "@jupyter-widgets/controls",
      "model_module_version": "1.5.0",
      "model_name": "HBoxModel",
      "state": {
       "_dom_classes": [],
       "_model_module": "@jupyter-widgets/controls",
       "_model_module_version": "1.5.0",
       "_model_name": "HBoxModel",
       "_view_count": null,
       "_view_module": "@jupyter-widgets/controls",
       "_view_module_version": "1.5.0",
       "_view_name": "HBoxView",
       "box_style": "",
       "children": [
        "IPY_MODEL_2b12daa7b7134d668a23898e4cb5dd7b",
        "IPY_MODEL_35475f0148d4428a94574e08fc6668b0",
        "IPY_MODEL_20db9f1b8c90496cab94b7aaadaf52c3"
       ],
       "layout": "IPY_MODEL_736cd927b549433fb81db7896d503930"
      }
     },
     "ceb86788ae6e48cca6ce5201a8ac6bf5": {
      "model_module": "@jupyter-widgets/base",
      "model_module_version": "1.2.0",
      "model_name": "LayoutModel",
      "state": {
       "_model_module": "@jupyter-widgets/base",
       "_model_module_version": "1.2.0",
       "_model_name": "LayoutModel",
       "_view_count": null,
       "_view_module": "@jupyter-widgets/base",
       "_view_module_version": "1.2.0",
       "_view_name": "LayoutView",
       "align_content": null,
       "align_items": null,
       "align_self": null,
       "border": null,
       "bottom": null,
       "display": null,
       "flex": null,
       "flex_flow": null,
       "grid_area": null,
       "grid_auto_columns": null,
       "grid_auto_flow": null,
       "grid_auto_rows": null,
       "grid_column": null,
       "grid_gap": null,
       "grid_row": null,
       "grid_template_areas": null,
       "grid_template_columns": null,
       "grid_template_rows": null,
       "height": null,
       "justify_content": null,
       "justify_items": null,
       "left": null,
       "margin": null,
       "max_height": null,
       "max_width": null,
       "min_height": null,
       "min_width": null,
       "object_fit": null,
       "object_position": null,
       "order": null,
       "overflow": null,
       "overflow_x": null,
       "overflow_y": null,
       "padding": null,
       "right": null,
       "top": null,
       "visibility": null,
       "width": null
      }
     },
     "e1218671b2194a08bd8ec734f21584ea": {
      "model_module": "@jupyter-widgets/controls",
      "model_module_version": "1.5.0",
      "model_name": "ProgressStyleModel",
      "state": {
       "_model_module": "@jupyter-widgets/controls",
       "_model_module_version": "1.5.0",
       "_model_name": "ProgressStyleModel",
       "_view_count": null,
       "_view_module": "@jupyter-widgets/base",
       "_view_module_version": "1.2.0",
       "_view_name": "StyleView",
       "bar_color": null,
       "description_width": ""
      }
     }
    },
    "version_major": 2,
    "version_minor": 0
   }
  }
 },
 "nbformat": 4,
 "nbformat_minor": 2
}
