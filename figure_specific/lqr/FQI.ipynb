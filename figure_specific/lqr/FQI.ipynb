{
 "cells": [
  {
   "cell_type": "markdown",
   "metadata": {},
   "source": [
    "# FQI on LQR\n",
    "\n",
    "## Define paramters"
   ]
  },
  {
   "cell_type": "code",
   "execution_count": 1,
   "metadata": {
    "execution": {
     "iopub.execute_input": "2022-07-29T16:26:27.321054Z",
     "iopub.status.busy": "2022-07-29T16:26:27.320837Z",
     "iopub.status.idle": "2022-07-29T16:26:27.888263Z",
     "shell.execute_reply": "2022-07-29T16:26:27.887816Z"
    }
   },
   "outputs": [
    {
     "name": "stderr",
     "output_type": "stream",
     "text": [
      "WARNING:absl:No GPU/TPU found, falling back to CPU. (Set TF_CPP_MIN_LOG_LEVEL=0 and rerun for more info.)\n"
     ]
    }
   ],
   "source": [
    "%load_ext autoreload\n",
    "%autoreload 2\n",
    "\n",
    "import warnings\n",
    "warnings.simplefilter(action='ignore', category=FutureWarning)\n",
    "import jax\n",
    "import os\n",
    "import json\n",
    "\n",
    "parameters = json.load(open(\"parameters.json\"))\n",
    "env_seed = parameters[\"env_seed\"]\n",
    "\n",
    "# Sample collection\n",
    "max_discrete_state = parameters[\"max_discrete_state\"]\n",
    "n_discrete_states = parameters[\"n_discrete_states\"]\n",
    "max_discrete_action = parameters[\"max_discrete_action\"]\n",
    "n_discrete_actions = parameters[\"n_discrete_actions\"]\n",
    "n_samples = n_discrete_states * n_discrete_actions\n",
    "\n",
    "# Q function\n",
    "action_range_on_max = parameters[\"action_range_on_max\"]\n",
    "n_actions_on_max = parameters[\"n_actions_on_max\"]\n",
    "\n",
    "# Trainings\n",
    "fitting_steps = 50 * 4\n",
    "max_bellman_iterations = parameters[\"max_bellman_iterations\"]\n",
    "batch_size_samples = n_discrete_states\n",
    "learning_rate = {\"first\": 0.01, \"last\": 0.00001, \"duration\": fitting_steps * n_samples // batch_size_samples}\n",
    "\n",
    "# Search for an unused seed\n",
    "max_used_seed = 0\n",
    "for file in os.listdir(\"figures/data/FQI/\"):\n",
    "    if int(file.split(\"_\")[0]) == max_bellman_iterations and int(file.split(\"_\")[2][:-4]) > max_used_seed:\n",
    "        max_used_seed = int(file.split(\"_\")[2][:-4])\n",
    "max_used_seed\n",
    "\n",
    "env_key = jax.random.PRNGKey(env_seed)\n",
    "seed = max_used_seed + 1\n",
    "key = jax.random.PRNGKey(seed)\n",
    "shuffle_key, dummy_q_network_key, _, _ = jax.random.split(key, 4) # 4 keys are generated to be coherent with the other trainings"
   ]
  },
  {
   "cell_type": "markdown",
   "metadata": {},
   "source": [
    "## Define environment"
   ]
  },
  {
   "cell_type": "code",
   "execution_count": 2,
   "metadata": {
    "execution": {
     "iopub.execute_input": "2022-07-29T16:26:27.890424Z",
     "iopub.status.busy": "2022-07-29T16:26:27.890237Z",
     "iopub.status.idle": "2022-07-29T16:26:28.257276Z",
     "shell.execute_reply": "2022-07-29T16:26:28.256832Z"
    }
   },
   "outputs": [
    {
     "name": "stdout",
     "output_type": "stream",
     "text": [
      "Transition: s' = As + Ba\n",
      "Transition: s' = -0.44256162643432617s + 0.37337517738342285a\n",
      "Reward: Qs² + Ra² + 2 Ssa\n",
      "Reward: -0.41404926776885986s² + -0.48342466354370117a² + 0.8196666240692139sa\n"
     ]
    }
   ],
   "source": [
    "import numpy as np\n",
    "\n",
    "from pbo.environment.linear_quadratic import LinearQuadraticEnv\n",
    "\n",
    "\n",
    "discrete_states = np.linspace(-max_discrete_state, max_discrete_state, n_discrete_states)\n",
    "state_box_half_size = max_discrete_state / n_discrete_states\n",
    "discrete_states_boxes = np.linspace(\n",
    "    -max_discrete_state - state_box_half_size, max_discrete_state + state_box_half_size, n_discrete_states + 1\n",
    ")\n",
    "\n",
    "discrete_actions = np.linspace(-max_discrete_action, max_discrete_action, n_discrete_actions)\n",
    "action_box_half_size = max_discrete_action / n_discrete_actions\n",
    "discrete_actions_boxes = np.linspace(\n",
    "    -max_discrete_action - action_box_half_size, max_discrete_action + action_box_half_size, n_discrete_actions + 1\n",
    ")\n",
    "\n",
    "env = LinearQuadraticEnv(env_key, max_init_state=max_discrete_state)"
   ]
  },
  {
   "cell_type": "markdown",
   "metadata": {},
   "source": [
    "## Collect samples"
   ]
  },
  {
   "cell_type": "markdown",
   "metadata": {},
   "source": [
    "### Samples on the mesh"
   ]
  },
  {
   "cell_type": "code",
   "execution_count": 3,
   "metadata": {
    "execution": {
     "iopub.execute_input": "2022-07-29T16:26:28.259116Z",
     "iopub.status.busy": "2022-07-29T16:26:28.258975Z",
     "iopub.status.idle": "2022-07-29T16:26:28.440459Z",
     "shell.execute_reply": "2022-07-29T16:26:28.440015Z"
    }
   },
   "outputs": [],
   "source": [
    "import jax.numpy as jnp\n",
    "\n",
    "from pbo.sample_collection.replay_buffer import ReplayBuffer\n",
    "\n",
    "\n",
    "n_samples = n_discrete_states * n_discrete_actions\n",
    "replay_buffer = ReplayBuffer()\n",
    "\n",
    "for state in discrete_states:\n",
    "    for action in discrete_actions:\n",
    "        env.reset(jnp.array([state]))\n",
    "        next_state, reward, absorbing, _ = env.step(jnp.array([action]))\n",
    "\n",
    "        replay_buffer.add(jnp.array([state]), jnp.array([action]), reward, next_state, absorbing)\n",
    "\n",
    "replay_buffer.cast_to_jax_array()"
   ]
  },
  {
   "cell_type": "markdown",
   "metadata": {},
   "source": [
    "### Visualize samples"
   ]
  },
  {
   "cell_type": "code",
   "execution_count": 4,
   "metadata": {
    "execution": {
     "iopub.execute_input": "2022-07-29T16:26:28.442422Z",
     "iopub.status.busy": "2022-07-29T16:26:28.442282Z",
     "iopub.status.idle": "2022-07-29T16:26:29.002647Z",
     "shell.execute_reply": "2022-07-29T16:26:29.002235Z"
    }
   },
   "outputs": [
    {
     "data": {
      "image/png": "[encoded data removed]",
      "text/plain": [
       "<Figure size 432x288 with 2 Axes>"
      ]
     },
     "metadata": {
      "needs_background": "light"
     },
     "output_type": "display_data"
    }
   ],
   "source": [
    "from pbo.sample_collection.count_samples import count_samples\n",
    "from pbo.utils.two_dimesions_mesh import TwoDimesionsMesh\n",
    "\n",
    "\n",
    "samples_count, n_outside_boxes, _ = count_samples(replay_buffer.states, replay_buffer.actions, discrete_states_boxes, discrete_actions_boxes, replay_buffer.rewards)\n",
    "samples_visu_mesh = TwoDimesionsMesh(discrete_states, discrete_actions, sleeping_time=0)\n",
    "\n",
    "samples_visu_mesh.set_values(samples_count, zeros_to_nan=True)\n",
    "samples_visu_mesh.show(\n",
    "    f\"Samples repartition, \\n{int(100 * n_outside_boxes / n_samples)}% are outside the box.\"\n",
    ")\n"
   ]
  },
  {
   "cell_type": "markdown",
   "metadata": {},
   "source": [
    "## Train FQI"
   ]
  },
  {
   "cell_type": "code",
   "execution_count": 6,
   "metadata": {
    "execution": {
     "iopub.execute_input": "2022-07-29T16:26:29.813453Z",
     "iopub.status.busy": "2022-07-29T16:26:29.813317Z",
     "iopub.status.idle": "2022-07-29T16:26:31.894451Z",
     "shell.execute_reply": "2022-07-29T16:26:31.893993Z"
    }
   },
   "outputs": [
    {
     "name": "stdout",
     "output_type": "stream",
     "text": [
      "[0. 0. 0.]\n"
     ]
    },
    {
     "data": {
      "application/vnd.jupyter.widget-view+json": {
       "model_id": "c7e4d719c4fa43d0b50f46f2e9ea82c9",
       "version_major": 2,
       "version_minor": 0
      },
      "text/plain": [
       "  0%|          | 0/7 [00:00<?, ?it/s]"
      ]
     },
     "metadata": {},
     "output_type": "display_data"
    },
    {
     "name": "stdout",
     "output_type": "stream",
     "text": [
      "[-0.41404974  0.40983325 -0.48342416]\n",
      "[-0.42715436  0.4208501  -0.49276447]\n",
      "[-0.42736131  0.42103574 -0.49294373]\n",
      "[-0.42736661  0.42104113 -0.49294487]\n",
      "[-0.42736784  0.42104071 -0.49294746]\n",
      "[-0.42736807  0.42104182 -0.49294662]\n",
      "[-0.42736921  0.42104292 -0.49294624]\n"
     ]
    },
    {
     "data": {
      "image/png": "[encoded data removed]",
      "text/plain": [
       "<Figure size 432x288 with 1 Axes>"
      ]
     },
     "metadata": {
      "needs_background": "light"
     },
     "output_type": "display_data"
    }
   ],
   "source": [
    "from tqdm.notebook import tqdm\n",
    "import matplotlib.pyplot as plt\n",
    "\n",
    "from pbo.sample_collection.dataloader import SampleDataLoader\n",
    "from pbo.networks.learnable_q import LQRQ\n",
    "\n",
    "data_loader_samples = SampleDataLoader(replay_buffer, batch_size_samples, shuffle_key)\n",
    "q = LQRQ(\n",
    "    state_dim=1,\n",
    "    action_dim=1,\n",
    "    n_actions_on_max=n_actions_on_max,\n",
    "    action_range_on_max=action_range_on_max,\n",
    "    network_key=dummy_q_network_key,\n",
    "    random_weights_range=None,\n",
    "    random_weights_key=None,\n",
    "    learning_rate=learning_rate,\n",
    "    zero_initializer=True,\n",
    ")\n",
    "\n",
    "weights = np.zeros((max_bellman_iterations + 1, q.weights_dimension))\n",
    "\n",
    "params_target = q.params\n",
    "weights[0] = q.to_weights(q.params)\n",
    "\n",
    "print(weights[0])\n",
    "cumulative_l2_loss = np.zeros((max_bellman_iterations, fitting_steps)) * np.nan\n",
    "\n",
    "for bellman_iteration in tqdm(range(1, max_bellman_iterations + 1)):\n",
    "    q.reset_optimizer()\n",
    "    \n",
    "    for step in range(fitting_steps):\n",
    "        data_loader_samples.shuffle()\n",
    "        for batch_samples in data_loader_samples:\n",
    "            q.params, q.optimizer_state, l2_loss = q.learn_on_batch(q.params, params_target, q.optimizer_state, batch_samples)\n",
    "        cumulative_l2_loss[bellman_iteration - 1, step] = l2_loss\n",
    "\n",
    "    weights[bellman_iteration] = q.to_weights(q.params)\n",
    "    print(weights[bellman_iteration])\n",
    "\n",
    "    params_target = q.params\n",
    "\n",
    "for bellman_iteration in range(max_bellman_iterations):\n",
    "    plt.plot(cumulative_l2_loss[bellman_iteration], label=f\"Iteration {bellman_iteration}\")\n",
    "plt.legend()\n",
    "plt.show()"
   ]
  },
  {
   "cell_type": "markdown",
   "metadata": {},
   "source": [
    "## Save data"
   ]
  },
  {
   "cell_type": "code",
   "execution_count": null,
   "metadata": {},
   "outputs": [],
   "source": [
    "np.save(f\"figures/data/FQI/{max_bellman_iterations}_W_{seed}.npy\", weights)"
   ]
  }
 ],
 "metadata": {
  "kernelspec": {
   "display_name": "Python 3.8.10 ('env_cpu': venv)",
   "language": "python",
   "name": "python3"
  },
  "language_info": {
   "codemirror_mode": {
    "name": "ipython",
    "version": 3
   },
   "file_extension": ".py",
   "mimetype": "text/x-python",
   "name": "python",
   "nbconvert_exporter": "python",
   "pygments_lexer": "ipython3",
   "version": "3.8.10"
  },
  "vscode": {
   "interpreter": {
    "hash": "af5525a3273d35d601ae265c5d3634806dd61a1c4d085ae098611a6832982bdb"
   }
  }
 },
 "nbformat": 4,
 "nbformat_minor": 2
}
