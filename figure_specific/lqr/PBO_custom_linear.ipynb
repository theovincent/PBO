{
 "cells": [
  {
   "cell_type": "markdown",
   "metadata": {},
   "source": [
    "# PBO on LQR\n",
    "\n",
    "## Define paramters"
   ]
  },
  {
   "cell_type": "code",
   "execution_count": 1,
   "metadata": {
    "execution": {
     "iopub.execute_input": "2022-08-15T16:20:51.516157Z",
     "iopub.status.busy": "2022-08-15T16:20:51.516005Z",
     "iopub.status.idle": "2022-08-15T16:20:52.123644Z",
     "shell.execute_reply": "2022-08-15T16:20:52.123155Z"
    }
   },
   "outputs": [
    {
     "name": "stderr",
     "output_type": "stream",
     "text": [
      "WARNING:absl:No GPU/TPU found, falling back to CPU. (Set TF_CPP_MIN_LOG_LEVEL=0 and rerun for more info.)\n"
     ]
    }
   ],
   "source": [
    "%load_ext autoreload\n",
    "%autoreload 2\n",
    "\n",
    "import warnings\n",
    "warnings.simplefilter(action='ignore', category=FutureWarning)\n",
    "import jax\n",
    "import os\n",
    "import json\n",
    "\n",
    "parameters = json.load(open(\"parameters.json\"))\n",
    "env_seed = parameters[\"env_seed\"]\n",
    "\n",
    "# Sample collection\n",
    "max_discrete_state = parameters[\"max_discrete_state\"]\n",
    "n_discrete_states = parameters[\"n_discrete_states\"]\n",
    "max_discrete_action = parameters[\"max_discrete_action\"]\n",
    "n_discrete_actions = parameters[\"n_discrete_actions\"]\n",
    "n_samples = n_discrete_states * n_discrete_actions\n",
    "\n",
    "# Weights collection\n",
    "n_weights = parameters[\"n_weights\"]\n",
    "weights_filtering = True\n",
    "\n",
    "# Q function\n",
    "action_range_on_max = parameters[\"action_range_on_max\"]\n",
    "n_actions_on_max = parameters[\"n_actions_on_max\"]\n",
    "\n",
    "# Trainings\n",
    "max_bellman_iterations = parameters[\"max_bellman_iterations\"]\n",
    "training_steps = 3200\n",
    "fitting_steps = 1\n",
    "batch_size_samples = n_samples\n",
    "batch_size_weights = n_weights\n",
    "learning_rate = {\"first\": 0.01, \"last\": 0.00001, \"duration\": training_steps * fitting_steps * n_samples // batch_size_samples}\n",
    "\n",
    "# Visualisation of errors and performances\n",
    "max_bellman_iterations_validation = max_bellman_iterations + 5\n",
    "\n",
    "# Search for an unused seed\n",
    "max_used_seed = 0\n",
    "for file in os.listdir(\"figures/data/PBO_custom_linear/\"):\n",
    "    if int(file.split(\"_\")[0]) == max_bellman_iterations and int(file.split(\"_\")[2]) == n_samples and int(file.split(\"_\")[3]) == n_weights and int(file.split(\"_\")[4][:-4]) > max_used_seed:\n",
    "        max_used_seed = int(file.split(\"_\")[4][:-4])\n",
    "max_used_seed\n",
    "\n",
    "# keys\n",
    "env_key = jax.random.PRNGKey(env_seed)\n",
    "seed = max_used_seed + 1\n",
    "key = jax.random.PRNGKey(seed)\n",
    "shuffle_key, q_network_key, random_weights_key, pbo_network_key = jax.random.split(key, 4)"
   ]
  },
  {
   "cell_type": "markdown",
   "metadata": {},
   "source": [
    "## Define environment"
   ]
  },
  {
   "cell_type": "code",
   "execution_count": 2,
   "metadata": {
    "execution": {
     "iopub.execute_input": "2022-08-15T16:20:52.125772Z",
     "iopub.status.busy": "2022-08-15T16:20:52.125600Z",
     "iopub.status.idle": "2022-08-15T16:20:52.473097Z",
     "shell.execute_reply": "2022-08-15T16:20:52.472623Z"
    }
   },
   "outputs": [
    {
     "name": "stdout",
     "output_type": "stream",
     "text": [
      "Transition: s' = As + Ba\n",
      "Transition: s' = 0.7204725742340088s + -0.5264108180999756a\n",
      "Reward: Qs² + Ra² + 2 Ssa\n",
      "Reward: -0.13297832012176514s² + -0.8039400577545166a² + 0.2581009864807129sa\n"
     ]
    }
   ],
   "source": [
    "import numpy as np\n",
    "\n",
    "from pbo.environment.linear_quadratic import LinearQuadraticEnv\n",
    "\n",
    "\n",
    "discrete_states = np.linspace(-max_discrete_state, max_discrete_state, n_discrete_states)\n",
    "state_box_half_size = max_discrete_state / n_discrete_states\n",
    "discrete_states_boxes = np.linspace(\n",
    "    -max_discrete_state - state_box_half_size, max_discrete_state + state_box_half_size, n_discrete_states + 1\n",
    ")\n",
    "\n",
    "discrete_actions = np.linspace(-max_discrete_action, max_discrete_action, n_discrete_actions)\n",
    "action_box_half_size = max_discrete_action / n_discrete_actions\n",
    "discrete_actions_boxes = np.linspace(\n",
    "    -max_discrete_action - action_box_half_size, max_discrete_action + action_box_half_size, n_discrete_actions + 1\n",
    ")\n",
    "\n",
    "env = LinearQuadraticEnv(env_key, max_init_state=max_discrete_state)"
   ]
  },
  {
   "cell_type": "markdown",
   "metadata": {},
   "source": [
    "## Collect samples"
   ]
  },
  {
   "cell_type": "markdown",
   "metadata": {},
   "source": [
    "### Samples on the mesh"
   ]
  },
  {
   "cell_type": "code",
   "execution_count": 3,
   "metadata": {
    "execution": {
     "iopub.execute_input": "2022-08-15T16:20:52.476354Z",
     "iopub.status.busy": "2022-08-15T16:20:52.476214Z",
     "iopub.status.idle": "2022-08-15T16:20:52.724517Z",
     "shell.execute_reply": "2022-08-15T16:20:52.724031Z"
    }
   },
   "outputs": [],
   "source": [
    "import jax.numpy as jnp\n",
    "\n",
    "from pbo.sample_collection.replay_buffer import ReplayBuffer\n",
    "\n",
    "\n",
    "n_samples = n_discrete_states * n_discrete_actions\n",
    "replay_buffer = ReplayBuffer()\n",
    "\n",
    "for state in discrete_states:\n",
    "    for action in discrete_actions:\n",
    "        env.reset(jnp.array([state]))\n",
    "        next_state, reward, absorbing, _ = env.step(jnp.array([action]))\n",
    "\n",
    "        replay_buffer.add(jnp.array([state]), jnp.array([action]), reward, next_state, absorbing)\n",
    "\n",
    "replay_buffer.cast_to_jax_array()"
   ]
  },
  {
   "cell_type": "markdown",
   "metadata": {},
   "source": [
    "### Visualize samples"
   ]
  },
  {
   "cell_type": "code",
   "execution_count": 4,
   "metadata": {
    "execution": {
     "iopub.execute_input": "2022-08-15T16:20:52.726565Z",
     "iopub.status.busy": "2022-08-15T16:20:52.726430Z",
     "iopub.status.idle": "2022-08-15T16:20:53.389508Z",
     "shell.execute_reply": "2022-08-15T16:20:53.389064Z"
    }
   },
   "outputs": [
    {
     "data": {
      "image/png": "[encoded data removed]",
      "text/plain": [
       "<Figure size 432x288 with 2 Axes>"
      ]
     },
     "metadata": {
      "needs_background": "light"
     },
     "output_type": "display_data"
    }
   ],
   "source": [
    "from pbo.sample_collection.count_samples import count_samples\n",
    "from pbo.utils.two_dimesions_mesh import TwoDimesionsMesh\n",
    "\n",
    "\n",
    "samples_count, n_outside_boxes, _ = count_samples(replay_buffer.states, replay_buffer.actions, discrete_states_boxes, discrete_actions_boxes, replay_buffer.rewards)\n",
    "samples_visu_mesh = TwoDimesionsMesh(discrete_states, discrete_actions, sleeping_time=0)\n",
    "\n",
    "samples_visu_mesh.set_values(samples_count, zeros_to_nan=True)\n",
    "samples_visu_mesh.show(\n",
    "    f\"Samples repartition, \\n{int(100 * n_outside_boxes / n_samples)}% are outside the box.\"\n",
    ")\n"
   ]
  },
  {
   "cell_type": "markdown",
   "metadata": {},
   "source": [
    "## Collect weights"
   ]
  },
  {
   "cell_type": "code",
   "execution_count": 5,
   "metadata": {
    "execution": {
     "iopub.execute_input": "2022-08-15T16:20:53.391463Z",
     "iopub.status.busy": "2022-08-15T16:20:53.391278Z",
     "iopub.status.idle": "2022-08-15T16:20:53.636806Z",
     "shell.execute_reply": "2022-08-15T16:20:53.636288Z"
    }
   },
   "outputs": [],
   "source": [
    "from pbo.sample_collection.dataloader import SampleDataLoader\n",
    "from pbo.networks.learnable_q import LQRQ\n",
    "from pbo.weights_collection.weights_buffer import WeightsBuffer\n",
    "\n",
    "\n",
    "data_loader_samples = SampleDataLoader(replay_buffer, batch_size_samples, shuffle_key)\n",
    "q = LQRQ(\n",
    "    state_dim=1,\n",
    "    action_dim=1,\n",
    "    n_actions_on_max=n_actions_on_max,\n",
    "    action_range_on_max=action_range_on_max,\n",
    "    network_key=q_network_key,\n",
    "    random_weights_range=None,\n",
    "    random_weights_key=None,\n",
    "    learning_rate=None,\n",
    "    zero_initializer=True,\n",
    ")\n",
    "validation_initial_weight = q.to_weights(q.params)\n",
    "\n",
    "weights_buffer = WeightsBuffer()\n",
    "weights_buffer.add(validation_initial_weight)\n",
    "\n",
    "q_random = LQRQ(\n",
    "    state_dim=1,\n",
    "    action_dim=1,\n",
    "    n_actions_on_max=n_actions_on_max,\n",
    "    action_range_on_max=action_range_on_max,\n",
    "    network_key=q_network_key,\n",
    "    random_weights_range=None,\n",
    "    random_weights_key=random_weights_key,\n",
    "    learning_rate=None,\n",
    "    zero_initializer=False,\n",
    ")\n",
    "\n",
    "while len(weights_buffer) < n_weights:\n",
    "    weights = q_random.random_init_weights()\n",
    "    if not weights_filtering or q_random.to_params(weights)[\"LQRQNet\"][\"m\"] < 0:\n",
    "        weights_buffer.add(weights)\n",
    "\n",
    "weights_buffer.cast_to_jax_array()"
   ]
  },
  {
   "cell_type": "markdown",
   "metadata": {},
   "source": [
    "## Train linear PBO"
   ]
  },
  {
   "cell_type": "code",
   "execution_count": 6,
   "metadata": {
    "execution": {
     "iopub.execute_input": "2022-08-15T16:20:53.638895Z",
     "iopub.status.busy": "2022-08-15T16:20:53.638752Z",
     "iopub.status.idle": "2022-08-15T16:20:58.490000Z",
     "shell.execute_reply": "2022-08-15T16:20:58.489614Z"
    }
   },
   "outputs": [
    {
     "data": {
      "application/vnd.jupyter.widget-view+json": {
       "model_id": "066386e98255400081d50745c9b7b679",
       "version_major": 2,
       "version_minor": 0
      },
      "text/plain": [
       "  0%|          | 0/3200 [00:00<?, ?it/s]"
      ]
     },
     "metadata": {},
     "output_type": "display_data"
    },
    {
     "name": "stdout",
     "output_type": "stream",
     "text": [
      "[0. 0. 0.]\n",
      "[-0.13319667  0.12905227 -0.80365163]\n",
      "[-0.19117458  0.17171045 -0.83540231]\n",
      "[-0.21355048  0.18817388 -0.84765613]\n",
      "[-0.22174475  0.19420293 -0.85214359]\n",
      "[-0.22468758  0.19636816 -0.85375518]\n",
      "[-0.22573702  0.19714031 -0.85432988]\n",
      "[-0.22611031  0.19741496 -0.85453433]\n",
      "Optimal weights\n",
      "[-0.22707027  0.19779846 -0.8541705 ]\n"
     ]
    },
    {
     "data": {
      "image/png": "[encoded data removed]",
      "text/plain": [
       "<Figure size 432x288 with 1 Axes>"
      ]
     },
     "metadata": {
      "needs_background": "light"
     },
     "output_type": "display_data"
    }
   ],
   "source": [
    "from tqdm.notebook import tqdm\n",
    "import matplotlib.pyplot as plt\n",
    "\n",
    "from pbo.sample_collection.dataloader import SampleDataLoader\n",
    "from pbo.weights_collection.dataloader import WeightsDataLoader\n",
    "from pbo.networks.learnable_pbo import CustomLinearPBO\n",
    "\n",
    "\n",
    "data_loader_samples = SampleDataLoader(replay_buffer, batch_size_samples, shuffle_key)\n",
    "data_loader_weights = WeightsDataLoader(weights_buffer, batch_size_weights, shuffle_key)\n",
    "pbo_custom_linear = CustomLinearPBO(q, max_bellman_iterations, False, pbo_network_key, learning_rate)\n",
    "importance_iteration = jnp.ones(max_bellman_iterations + 1)\n",
    "\n",
    "cumulative_l2_loss = np.zeros((training_steps, fitting_steps)) * np.nan\n",
    "\n",
    "for training_step in tqdm(range(training_steps)):\n",
    "    params_target = pbo_custom_linear.params\n",
    "    for fitting_step in range(fitting_steps):\n",
    "        data_loader_weights.shuffle()\n",
    "        for batch_weights in data_loader_weights:\n",
    "            data_loader_samples.shuffle()\n",
    "            for batch_samples in data_loader_samples:\n",
    "                pbo_custom_linear.params, pbo_custom_linear.optimizer_state, l2_loss = pbo_custom_linear.learn_on_batch(\n",
    "                    pbo_custom_linear.params, params_target, pbo_custom_linear.optimizer_state, batch_weights, batch_samples, importance_iteration\n",
    "                )\n",
    "        cumulative_l2_loss[training_step, fitting_step] = l2_loss\n",
    "\n",
    "weights = np.zeros((max_bellman_iterations_validation + 1, q.weights_dimension))\n",
    "\n",
    "\n",
    "batch_iterated_weights = validation_initial_weight.reshape((1, -1))\n",
    "for bellman_iteration in range(max_bellman_iterations_validation + 1):\n",
    "    weights[bellman_iteration] = batch_iterated_weights[0]\n",
    "    print(weights[bellman_iteration])\n",
    "\n",
    "    batch_iterated_weights = pbo_custom_linear(pbo_custom_linear.params, batch_iterated_weights)\n",
    "\n",
    "print(\"Optimal weights\")\n",
    "print(env.optimal_weights)\n",
    "\n",
    "for training_step in range(0, training_steps, max(training_steps // 10, 1)):\n",
    "    plt.plot(cumulative_l2_loss[training_step], label=f\"Training step {training_step}\")\n",
    "plt.legend()\n",
    "plt.show()"
   ]
  },
  {
   "cell_type": "markdown",
   "metadata": {},
   "source": [
    "## Save data"
   ]
  },
  {
   "cell_type": "code",
   "execution_count": 7,
   "metadata": {
    "execution": {
     "iopub.execute_input": "2022-08-15T16:20:58.492251Z",
     "iopub.status.busy": "2022-08-15T16:20:58.492110Z",
     "iopub.status.idle": "2022-08-15T16:20:58.565003Z",
     "shell.execute_reply": "2022-08-15T16:20:58.564517Z"
    }
   },
   "outputs": [],
   "source": [
    "np.save(f\"figures/data/PBO_custom_linear/{max_bellman_iterations}_W_{n_samples}_{n_weights}_{seed}.npy\", weights)\n",
    "np.save(f\"figures/data/PBO_custom_linear/{max_bellman_iterations}_Pi_{n_samples}_{n_weights}_{seed}.npy\", env.greedy_V(weights))"
   ]
  },
  {
   "cell_type": "markdown",
   "metadata": {},
   "source": [
    "## Visualise"
   ]
  },
  {
   "cell_type": "code",
   "execution_count": 8,
   "metadata": {
    "execution": {
     "iopub.execute_input": "2022-08-15T16:20:58.567006Z",
     "iopub.status.busy": "2022-08-15T16:20:58.566869Z",
     "iopub.status.idle": "2022-08-15T16:20:58.863615Z",
     "shell.execute_reply": "2022-08-15T16:20:58.863157Z"
    }
   },
   "outputs": [
    {
     "data": {
      "image/png": "[encoded data removed]",
      "text/plain": [
       "<Figure size 504x504 with 1 Axes>"
      ]
     },
     "metadata": {
      "needs_background": "light"
     },
     "output_type": "display_data"
    }
   ],
   "source": [
    "from pbo.utils.lqr_weights_viewer import visualize\n",
    "\n",
    "weights[np.abs(weights) > 20] = np.nan\n",
    "\n",
    "visualize(weights, env.optimal_weights)"
   ]
  },
  {
   "cell_type": "markdown",
   "metadata": {},
   "source": [
    "## Understand"
   ]
  },
  {
   "cell_type": "code",
   "execution_count": 9,
   "metadata": {
    "execution": {
     "iopub.execute_input": "2022-08-15T16:20:58.865516Z",
     "iopub.status.busy": "2022-08-15T16:20:58.865347Z",
     "iopub.status.idle": "2022-08-15T16:20:58.885145Z",
     "shell.execute_reply": "2022-08-15T16:20:58.884696Z"
    }
   },
   "outputs": [
    {
     "name": "stdout",
     "output_type": "stream",
     "text": [
      "Current loss: 2.8267466e-06\n",
      "Loss with optimal params: 1.3636626e-06\n"
     ]
    }
   ],
   "source": [
    "ideal_params = {\"CustomLinearPBONet\": {\"bias\": None, \"slope\": None}}\n",
    "ideal_params[\"CustomLinearPBONet\"][\"bias\"] = jnp.array([env.Q[0, 0], env.S[0, 0], env.R[0, 0]]).reshape((1, 3))\n",
    "ideal_params[\"CustomLinearPBONet\"][\"slope\"] = jnp.array([env.A[0, 0] ** 2, env.A[0, 0] * env.B[0, 0],env.B[0, 0] ** 2]).reshape((1, 3))\n",
    "\n",
    "print(\"Current loss:\", pbo_custom_linear.learn_on_batch(\n",
    "    pbo_custom_linear.params, params_target, pbo_custom_linear.optimizer_state, batch_weights, batch_samples, importance_iteration\n",
    ")[-1])\n",
    "print(\"Loss with optimal params:\", pbo_custom_linear.learn_on_batch(\n",
    "    ideal_params, params_target, pbo_custom_linear.optimizer_state, batch_weights, batch_samples, importance_iteration\n",
    ")[-1])"
   ]
  },
  {
   "cell_type": "code",
   "execution_count": 10,
   "metadata": {
    "execution": {
     "iopub.execute_input": "2022-08-15T16:20:58.886859Z",
     "iopub.status.busy": "2022-08-15T16:20:58.886726Z",
     "iopub.status.idle": "2022-08-15T16:20:58.898208Z",
     "shell.execute_reply": "2022-08-15T16:20:58.897781Z"
    }
   },
   "outputs": [
    {
     "name": "stdout",
     "output_type": "stream",
     "text": [
      "Current bias: [-0.13319667  0.12905227 -0.80365163]\n"
     ]
    }
   ],
   "source": [
    "print(\"Current bias:\", pbo_custom_linear.params[\"CustomLinearPBONet\"][\"bias\"][0])"
   ]
  },
  {
   "cell_type": "code",
   "execution_count": 11,
   "metadata": {
    "execution": {
     "iopub.execute_input": "2022-08-15T16:20:58.899945Z",
     "iopub.status.busy": "2022-08-15T16:20:58.899784Z",
     "iopub.status.idle": "2022-08-15T16:20:58.913408Z",
     "shell.execute_reply": "2022-08-15T16:20:58.913072Z"
    }
   },
   "outputs": [
    {
     "name": "stdout",
     "output_type": "stream",
     "text": [
      "Optimal bias: [-0.13297832  0.1290505  -0.80394006]\n"
     ]
    }
   ],
   "source": [
    "print(\"Optimal bias:\", jnp.array([env.Q[0, 0], env.S[0, 0], env.R[0, 0]]))"
   ]
  },
  {
   "cell_type": "code",
   "execution_count": 12,
   "metadata": {
    "execution": {
     "iopub.execute_input": "2022-08-15T16:20:58.915140Z",
     "iopub.status.busy": "2022-08-15T16:20:58.914983Z",
     "iopub.status.idle": "2022-08-15T16:20:58.926091Z",
     "shell.execute_reply": "2022-08-15T16:20:58.925677Z"
    }
   },
   "outputs": [
    {
     "name": "stdout",
     "output_type": "stream",
     "text": [
      "Current slope: [ 0.5154823  -0.37927434  0.28229573]\n"
     ]
    }
   ],
   "source": [
    "print(\"Current slope:\", pbo_custom_linear.params[\"CustomLinearPBONet\"][\"slope\"][0])"
   ]
  },
  {
   "cell_type": "code",
   "execution_count": 13,
   "metadata": {
    "execution": {
     "iopub.execute_input": "2022-08-15T16:20:58.927878Z",
     "iopub.status.busy": "2022-08-15T16:20:58.927715Z",
     "iopub.status.idle": "2022-08-15T16:20:58.942619Z",
     "shell.execute_reply": "2022-08-15T16:20:58.942173Z"
    }
   },
   "outputs": [
    {
     "name": "stdout",
     "output_type": "stream",
     "text": [
      "Optimal slope: [ 0.51908076 -0.37926456  0.27710834]\n"
     ]
    }
   ],
   "source": [
    "print(\"Optimal slope:\", jnp.array([env.A[0, 0] ** 2, env.A[0, 0] * env.B[0, 0],env.B[0, 0] ** 2]))"
   ]
  }
 ],
 "metadata": {
  "kernelspec": {
   "display_name": "Python 3.8.10 ('env_cpu': venv)",
   "language": "python",
   "name": "python3"
  },
  "language_info": {
   "codemirror_mode": {
    "name": "ipython",
    "version": 3
   },
   "file_extension": ".py",
   "mimetype": "text/x-python",
   "name": "python",
   "nbconvert_exporter": "python",
   "pygments_lexer": "ipython3",
   "version": "3.8.10"
  },
  "vscode": {
   "interpreter": {
    "hash": "af5525a3273d35d601ae265c5d3634806dd61a1c4d085ae098611a6832982bdb"
   }
  },
  "widgets": {
   "application/vnd.jupyter.widget-state+json": {
    "state": {
     "066386e98255400081d50745c9b7b679": {
      "model_module": "@jupyter-widgets/controls",
      "model_module_version": "1.5.0",
      "model_name": "HBoxModel",
      "state": {
       "_dom_classes": [],
       "_model_module": "@jupyter-widgets/controls",
       "_model_module_version": "1.5.0",
       "_model_name": "HBoxModel",
       "_view_count": null,
       "_view_module": "@jupyter-widgets/controls",
       "_view_module_version": "1.5.0",
       "_view_name": "HBoxView",
       "box_style": "",
       "children": [
        "IPY_MODEL_30aa09d396954c42a0afc1266f108b61",
        "IPY_MODEL_415b0999b34c429b8e0f1c5f8a50767e",
        "IPY_MODEL_9d6843321306499bb5aa3573eaf06236"
       ],
       "layout": "IPY_MODEL_091684d8169b41cd9a84250f2dc5a4e4"
      }
     },
     "091684d8169b41cd9a84250f2dc5a4e4": {
      "model_module": "@jupyter-widgets/base",
      "model_module_version": "1.2.0",
      "model_name": "LayoutModel",
      "state": {
       "_model_module": "@jupyter-widgets/base",
       "_model_module_version": "1.2.0",
       "_model_name": "LayoutModel",
       "_view_count": null,
       "_view_module": "@jupyter-widgets/base",
       "_view_module_version": "1.2.0",
       "_view_name": "LayoutView",
       "align_content": null,
       "align_items": null,
       "align_self": null,
       "border": null,
       "bottom": null,
       "display": null,
       "flex": null,
       "flex_flow": null,
       "grid_area": null,
       "grid_auto_columns": null,
       "grid_auto_flow": null,
       "grid_auto_rows": null,
       "grid_column": null,
       "grid_gap": null,
       "grid_row": null,
       "grid_template_areas": null,
       "grid_template_columns": null,
       "grid_template_rows": null,
       "height": null,
       "justify_content": null,
       "justify_items": null,
       "left": null,
       "margin": null,
       "max_height": null,
       "max_width": null,
       "min_height": null,
       "min_width": null,
       "object_fit": null,
       "object_position": null,
       "order": null,
       "overflow": null,
       "overflow_x": null,
       "overflow_y": null,
       "padding": null,
       "right": null,
       "top": null,
       "visibility": null,
       "width": null
      }
     },
     "30aa09d396954c42a0afc1266f108b61": {
      "model_module": "@jupyter-widgets/controls",
      "model_module_version": "1.5.0",
      "model_name": "HTMLModel",
      "state": {
       "_dom_classes": [],
       "_model_module": "@jupyter-widgets/controls",
       "_model_module_version": "1.5.0",
       "_model_name": "HTMLModel",
       "_view_count": null,
       "_view_module": "@jupyter-widgets/controls",
       "_view_module_version": "1.5.0",
       "_view_name": "HTMLView",
       "description": "",
       "description_tooltip": null,
       "layout": "IPY_MODEL_4d4c79f1e66a4283a90ae58a4d0921df",
       "placeholder": "​",
       "style": "IPY_MODEL_a1a319ef36914f5ba92eddf1f369743f",
       "value": "100%"
      }
     },
     "36e22401afa248baa7243e47464e07c8": {
      "model_module": "@jupyter-widgets/base",
      "model_module_version": "1.2.0",
      "model_name": "LayoutModel",
      "state": {
       "_model_module": "@jupyter-widgets/base",
       "_model_module_version": "1.2.0",
       "_model_name": "LayoutModel",
       "_view_count": null,
       "_view_module": "@jupyter-widgets/base",
       "_view_module_version": "1.2.0",
       "_view_name": "LayoutView",
       "align_content": null,
       "align_items": null,
       "align_self": null,
       "border": null,
       "bottom": null,
       "display": null,
       "flex": null,
       "flex_flow": null,
       "grid_area": null,
       "grid_auto_columns": null,
       "grid_auto_flow": null,
       "grid_auto_rows": null,
       "grid_column": null,
       "grid_gap": null,
       "grid_row": null,
       "grid_template_areas": null,
       "grid_template_columns": null,
       "grid_template_rows": null,
       "height": null,
       "justify_content": null,
       "justify_items": null,
       "left": null,
       "margin": null,
       "max_height": null,
       "max_width": null,
       "min_height": null,
       "min_width": null,
       "object_fit": null,
       "object_position": null,
       "order": null,
       "overflow": null,
       "overflow_x": null,
       "overflow_y": null,
       "padding": null,
       "right": null,
       "top": null,
       "visibility": null,
       "width": null
      }
     },
     "415b0999b34c429b8e0f1c5f8a50767e": {
      "model_module": "@jupyter-widgets/controls",
      "model_module_version": "1.5.0",
      "model_name": "FloatProgressModel",
      "state": {
       "_dom_classes": [],
       "_model_module": "@jupyter-widgets/controls",
       "_model_module_version": "1.5.0",
       "_model_name": "FloatProgressModel",
       "_view_count": null,
       "_view_module": "@jupyter-widgets/controls",
       "_view_module_version": "1.5.0",
       "_view_name": "ProgressView",
       "bar_style": "success",
       "description": "",
       "description_tooltip": null,
       "layout": "IPY_MODEL_36e22401afa248baa7243e47464e07c8",
       "max": 3200.0,
       "min": 0.0,
       "orientation": "horizontal",
       "style": "IPY_MODEL_44122f4cecb04cb295e968f115144960",
       "value": 3200.0
      }
     },
     "44122f4cecb04cb295e968f115144960": {
      "model_module": "@jupyter-widgets/controls",
      "model_module_version": "1.5.0",
      "model_name": "ProgressStyleModel",
      "state": {
       "_model_module": "@jupyter-widgets/controls",
       "_model_module_version": "1.5.0",
       "_model_name": "ProgressStyleModel",
       "_view_count": null,
       "_view_module": "@jupyter-widgets/base",
       "_view_module_version": "1.2.0",
       "_view_name": "StyleView",
       "bar_color": null,
       "description_width": ""
      }
     },
     "4d4c79f1e66a4283a90ae58a4d0921df": {
      "model_module": "@jupyter-widgets/base",
      "model_module_version": "1.2.0",
      "model_name": "LayoutModel",
      "state": {
       "_model_module": "@jupyter-widgets/base",
       "_model_module_version": "1.2.0",
       "_model_name": "LayoutModel",
       "_view_count": null,
       "_view_module": "@jupyter-widgets/base",
       "_view_module_version": "1.2.0",
       "_view_name": "LayoutView",
       "align_content": null,
       "align_items": null,
       "align_self": null,
       "border": null,
       "bottom": null,
       "display": null,
       "flex": null,
       "flex_flow": null,
       "grid_area": null,
       "grid_auto_columns": null,
       "grid_auto_flow": null,
       "grid_auto_rows": null,
       "grid_column": null,
       "grid_gap": null,
       "grid_row": null,
       "grid_template_areas": null,
       "grid_template_columns": null,
       "grid_template_rows": null,
       "height": null,
       "justify_content": null,
       "justify_items": null,
       "left": null,
       "margin": null,
       "max_height": null,
       "max_width": null,
       "min_height": null,
       "min_width": null,
       "object_fit": null,
       "object_position": null,
       "order": null,
       "overflow": null,
       "overflow_x": null,
       "overflow_y": null,
       "padding": null,
       "right": null,
       "top": null,
       "visibility": null,
       "width": null
      }
     },
     "64513bb6888045aaa617c7115947e184": {
      "model_module": "@jupyter-widgets/controls",
      "model_module_version": "1.5.0",
      "model_name": "DescriptionStyleModel",
      "state": {
       "_model_module": "@jupyter-widgets/controls",
       "_model_module_version": "1.5.0",
       "_model_name": "DescriptionStyleModel",
       "_view_count": null,
       "_view_module": "@jupyter-widgets/base",
       "_view_module_version": "1.2.0",
       "_view_name": "StyleView",
       "description_width": ""
      }
     },
     "9d6843321306499bb5aa3573eaf06236": {
      "model_module": "@jupyter-widgets/controls",
      "model_module_version": "1.5.0",
      "model_name": "HTMLModel",
      "state": {
       "_dom_classes": [],
       "_model_module": "@jupyter-widgets/controls",
       "_model_module_version": "1.5.0",
       "_model_name": "HTMLModel",
       "_view_count": null,
       "_view_module": "@jupyter-widgets/controls",
       "_view_module_version": "1.5.0",
       "_view_name": "HTMLView",
       "description": "",
       "description_tooltip": null,
       "layout": "IPY_MODEL_aa53fea6c348403ca52ee92f7057f762",
       "placeholder": "​",
       "style": "IPY_MODEL_64513bb6888045aaa617c7115947e184",
       "value": " 3200/3200 [00:04&lt;00:00, 847.18it/s]"
      }
     },
     "a1a319ef36914f5ba92eddf1f369743f": {
      "model_module": "@jupyter-widgets/controls",
      "model_module_version": "1.5.0",
      "model_name": "DescriptionStyleModel",
      "state": {
       "_model_module": "@jupyter-widgets/controls",
       "_model_module_version": "1.5.0",
       "_model_name": "DescriptionStyleModel",
       "_view_count": null,
       "_view_module": "@jupyter-widgets/base",
       "_view_module_version": "1.2.0",
       "_view_name": "StyleView",
       "description_width": ""
      }
     },
     "aa53fea6c348403ca52ee92f7057f762": {
      "model_module": "@jupyter-widgets/base",
      "model_module_version": "1.2.0",
      "model_name": "LayoutModel",
      "state": {
       "_model_module": "@jupyter-widgets/base",
       "_model_module_version": "1.2.0",
       "_model_name": "LayoutModel",
       "_view_count": null,
       "_view_module": "@jupyter-widgets/base",
       "_view_module_version": "1.2.0",
       "_view_name": "LayoutView",
       "align_content": null,
       "align_items": null,
       "align_self": null,
       "border": null,
       "bottom": null,
       "display": null,
       "flex": null,
       "flex_flow": null,
       "grid_area": null,
       "grid_auto_columns": null,
       "grid_auto_flow": null,
       "grid_auto_rows": null,
       "grid_column": null,
       "grid_gap": null,
       "grid_row": null,
       "grid_template_areas": null,
       "grid_template_columns": null,
       "grid_template_rows": null,
       "height": null,
       "justify_content": null,
       "justify_items": null,
       "left": null,
       "margin": null,
       "max_height": null,
       "max_width": null,
       "min_height": null,
       "min_width": null,
       "object_fit": null,
       "object_position": null,
       "order": null,
       "overflow": null,
       "overflow_x": null,
       "overflow_y": null,
       "padding": null,
       "right": null,
       "top": null,
       "visibility": null,
       "width": null
      }
     }
    },
    "version_major": 2,
    "version_minor": 0
   }
  }
 },
 "nbformat": 4,
 "nbformat_minor": 2
}
