{
 "cells": [
  {
   "cell_type": "markdown",
   "metadata": {},
   "source": [
    "# PBO on LQR\n",
    "\n",
    "## Define paramters"
   ]
  },
  {
   "cell_type": "code",
   "execution_count": 1,
   "metadata": {
    "execution": {
     "iopub.execute_input": "2022-09-09T12:27:07.248226Z",
     "iopub.status.busy": "2022-09-09T12:27:07.248065Z",
     "iopub.status.idle": "2022-09-09T12:27:07.876316Z",
     "shell.execute_reply": "2022-09-09T12:27:07.875822Z"
    }
   },
   "outputs": [
    {
     "name": "stderr",
     "output_type": "stream",
     "text": [
      "WARNING:absl:No GPU/TPU found, falling back to CPU. (Set TF_CPP_MIN_LOG_LEVEL=0 and rerun for more info.)\n"
     ]
    }
   ],
   "source": [
    "%load_ext autoreload\n",
    "%autoreload 2\n",
    "\n",
    "import warnings\n",
    "warnings.simplefilter(action='ignore', category=FutureWarning)\n",
    "import jax\n",
    "import os\n",
    "import json\n",
    "\n",
    "parameters = json.load(open(\"parameters.json\"))\n",
    "env_seed = parameters[\"env_seed\"]\n",
    "\n",
    "# Sample collection\n",
    "max_discrete_state = parameters[\"max_discrete_state\"]\n",
    "n_discrete_states = parameters[\"n_discrete_states\"]\n",
    "max_discrete_action = parameters[\"max_discrete_action\"]\n",
    "n_discrete_actions = parameters[\"n_discrete_actions\"]\n",
    "n_samples = n_discrete_states * n_discrete_actions\n",
    "\n",
    "# Weights collection\n",
    "n_weights = parameters[\"n_weights\"]\n",
    "weights_filtering = True\n",
    "\n",
    "# Q function\n",
    "action_range_on_max = parameters[\"action_range_on_max\"]\n",
    "n_actions_on_max = parameters[\"n_actions_on_max\"]\n",
    "\n",
    "# Trainings\n",
    "max_bellman_iterations = parameters[\"max_bellman_iterations\"]\n",
    "training_steps = parameters[\"training_steps\"]\n",
    "fitting_steps = parameters[\"fitting_steps_pbo\"]\n",
    "batch_size_samples = parameters[\"batch_size_samples\"]\n",
    "batch_size_weights = parameters[\"batch_size_weights\"]\n",
    "initial_weight_std = parameters[\"initial_weight_std\"]\n",
    "initial_bias_std = parameters[\"initial_weight_std\"]\n",
    "learning_rate = {\"first\": parameters[\"starting_lr_pbo\"], \"last\": parameters[\"ending_lr_pbo\"], \"duration\": training_steps * fitting_steps * n_samples // batch_size_samples}\n",
    "\n",
    "# Visualisation of errors and performances\n",
    "max_bellman_iterations_validation = max_bellman_iterations + 5\n",
    "\n",
    "# Search for an unused seed\n",
    "max_used_seed = 0\n",
    "if not os.path.exists(\"figures/data/PBO_custom_linear/\"):\n",
    "    os.makedirs(\"figures/data/PBO_custom_linear/\")\n",
    "for file in os.listdir(\"figures/data/PBO_custom_linear/\"):\n",
    "    if int(file.split(\"_\")[0]) == max_bellman_iterations and int(file.split(\"_\")[2]) == n_samples and int(file.split(\"_\")[3][:-4]) > max_used_seed:\n",
    "        max_used_seed = int(file.split(\"_\")[3][:-4])\n",
    "max_used_seed\n",
    "\n",
    "# keys\n",
    "env_key = jax.random.PRNGKey(env_seed)\n",
    "seed = max_used_seed + 1\n",
    "key = jax.random.PRNGKey(seed)\n",
    "shuffle_key, q_network_key, random_weights_key, pbo_network_key = jax.random.split(key, 4)"
   ]
  },
  {
   "cell_type": "markdown",
   "metadata": {},
   "source": [
    "## Define environment"
   ]
  },
  {
   "cell_type": "code",
   "execution_count": 2,
   "metadata": {
    "execution": {
     "iopub.execute_input": "2022-09-09T12:27:07.878468Z",
     "iopub.status.busy": "2022-09-09T12:27:07.878292Z",
     "iopub.status.idle": "2022-09-09T12:27:08.230780Z",
     "shell.execute_reply": "2022-09-09T12:27:08.230311Z"
    }
   },
   "outputs": [
    {
     "name": "stdout",
     "output_type": "stream",
     "text": [
      "Transition: s' = As + Ba\n",
      "Transition: s' = 0.7204725742340088s + -0.5264108180999756a\n",
      "Reward: Qs² + Ra² + 2 Ssa\n",
      "Reward: -0.13297832012176514s² + -0.8039400577545166a² + 0.2581009864807129sa\n"
     ]
    }
   ],
   "source": [
    "import numpy as np\n",
    "\n",
    "from pbo.environment.linear_quadratic import LinearQuadraticEnv\n",
    "\n",
    "\n",
    "discrete_states = np.linspace(-max_discrete_state, max_discrete_state, n_discrete_states)\n",
    "state_box_half_size = max_discrete_state / n_discrete_states\n",
    "discrete_states_boxes = np.linspace(\n",
    "    -max_discrete_state - state_box_half_size, max_discrete_state + state_box_half_size, n_discrete_states + 1\n",
    ")\n",
    "\n",
    "discrete_actions = np.linspace(-max_discrete_action, max_discrete_action, n_discrete_actions)\n",
    "action_box_half_size = max_discrete_action / n_discrete_actions\n",
    "discrete_actions_boxes = np.linspace(\n",
    "    -max_discrete_action - action_box_half_size, max_discrete_action + action_box_half_size, n_discrete_actions + 1\n",
    ")\n",
    "\n",
    "env = LinearQuadraticEnv(env_key, max_init_state=max_discrete_state)"
   ]
  },
  {
   "cell_type": "markdown",
   "metadata": {},
   "source": [
    "## Collect samples"
   ]
  },
  {
   "cell_type": "markdown",
   "metadata": {},
   "source": [
    "### Samples on the mesh"
   ]
  },
  {
   "cell_type": "code",
   "execution_count": 3,
   "metadata": {
    "execution": {
     "iopub.execute_input": "2022-09-09T12:27:08.233953Z",
     "iopub.status.busy": "2022-09-09T12:27:08.233811Z",
     "iopub.status.idle": "2022-09-09T12:27:08.482386Z",
     "shell.execute_reply": "2022-09-09T12:27:08.481891Z"
    }
   },
   "outputs": [],
   "source": [
    "import jax.numpy as jnp\n",
    "\n",
    "from pbo.sample_collection.replay_buffer import ReplayBuffer\n",
    "\n",
    "\n",
    "n_samples = n_discrete_states * n_discrete_actions\n",
    "replay_buffer = ReplayBuffer()\n",
    "\n",
    "for state in discrete_states:\n",
    "    for action in discrete_actions:\n",
    "        env.reset(jnp.array([state]))\n",
    "        next_state, reward, absorbing, _ = env.step(jnp.array([action]))\n",
    "\n",
    "        replay_buffer.add(jnp.array([state]), jnp.array([action]), reward, next_state, absorbing)\n",
    "\n",
    "replay_buffer.cast_to_jax_array()"
   ]
  },
  {
   "cell_type": "markdown",
   "metadata": {},
   "source": [
    "### Visualize samples"
   ]
  },
  {
   "cell_type": "code",
   "execution_count": 4,
   "metadata": {
    "execution": {
     "iopub.execute_input": "2022-09-09T12:27:08.484476Z",
     "iopub.status.busy": "2022-09-09T12:27:08.484334Z",
     "iopub.status.idle": "2022-09-09T12:27:09.172712Z",
     "shell.execute_reply": "2022-09-09T12:27:09.172225Z"
    }
   },
   "outputs": [
    {
     "data": {
      "image/png": "[encoded data removed]",
      "text/plain": [
       "<Figure size 432x288 with 2 Axes>"
      ]
     },
     "metadata": {
      "needs_background": "light"
     },
     "output_type": "display_data"
    }
   ],
   "source": [
    "from pbo.sample_collection.count_samples import count_samples\n",
    "from pbo.utils.two_dimesions_mesh import TwoDimesionsMesh\n",
    "\n",
    "\n",
    "samples_count, n_outside_boxes, _ = count_samples(replay_buffer.states, replay_buffer.actions, discrete_states_boxes, discrete_actions_boxes, replay_buffer.rewards)\n",
    "samples_visu_mesh = TwoDimesionsMesh(discrete_states, discrete_actions, sleeping_time=0)\n",
    "\n",
    "samples_visu_mesh.set_values(samples_count, zeros_to_nan=True)\n",
    "samples_visu_mesh.show(\n",
    "    f\"Samples repartition, \\n{int(100 * n_outside_boxes / n_samples)}% are outside the box.\"\n",
    ")\n"
   ]
  },
  {
   "cell_type": "markdown",
   "metadata": {},
   "source": [
    "## Collect weights"
   ]
  },
  {
   "cell_type": "code",
   "execution_count": 5,
   "metadata": {
    "execution": {
     "iopub.execute_input": "2022-09-09T12:27:09.174663Z",
     "iopub.status.busy": "2022-09-09T12:27:09.174475Z",
     "iopub.status.idle": "2022-09-09T12:27:09.425995Z",
     "shell.execute_reply": "2022-09-09T12:27:09.425474Z"
    }
   },
   "outputs": [],
   "source": [
    "from pbo.sample_collection.dataloader import SampleDataLoader\n",
    "from pbo.networks.learnable_q import LQRQ\n",
    "from pbo.weights_collection.weights_buffer import WeightsBuffer\n",
    "\n",
    "\n",
    "data_loader_samples = SampleDataLoader(replay_buffer, batch_size_samples, shuffle_key)\n",
    "q = LQRQ(\n",
    "    n_actions_on_max=n_actions_on_max,\n",
    "    action_range_on_max=action_range_on_max,\n",
    "    network_key=q_network_key,\n",
    "    random_weights_range=None,\n",
    "    random_weights_key=None,\n",
    "    learning_rate=None,\n",
    "    zero_initializer=True,\n",
    ")\n",
    "validation_initial_weight = q.to_weights(q.params)\n",
    "\n",
    "weights_buffer = WeightsBuffer()\n",
    "weights_buffer.add(validation_initial_weight)\n",
    "\n",
    "q_random = LQRQ(\n",
    "    n_actions_on_max=n_actions_on_max,\n",
    "    action_range_on_max=action_range_on_max,\n",
    "    network_key=q_network_key,\n",
    "    random_weights_range=None,\n",
    "    random_weights_key=random_weights_key,\n",
    "    learning_rate=None,\n",
    "    zero_initializer=False,\n",
    ")\n",
    "\n",
    "while len(weights_buffer) < n_weights:\n",
    "    weights = q_random.random_init_weights()\n",
    "    if not weights_filtering or q_random.to_params(weights)[\"LQRQNet\"][\"m\"] < 0:\n",
    "        weights_buffer.add(weights)\n",
    "\n",
    "weights_buffer.cast_to_jax_array()"
   ]
  },
  {
   "cell_type": "markdown",
   "metadata": {},
   "source": [
    "## Train linear PBO"
   ]
  },
  {
   "cell_type": "code",
   "execution_count": 6,
   "metadata": {
    "execution": {
     "iopub.execute_input": "2022-09-09T12:27:09.428550Z",
     "iopub.status.busy": "2022-09-09T12:27:09.428364Z",
     "iopub.status.idle": "2022-09-09T12:27:14.373547Z",
     "shell.execute_reply": "2022-09-09T12:27:14.373127Z"
    }
   },
   "outputs": [
    {
     "data": {
      "application/vnd.jupyter.widget-view+json": {
       "model_id": "a67f775eb1164832984402922131b2d8",
       "version_major": 2,
       "version_minor": 0
      },
      "text/plain": [
       "  0%|          | 0/3200 [00:00<?, ?it/s]"
      ]
     },
     "metadata": {},
     "output_type": "display_data"
    },
    {
     "name": "stdout",
     "output_type": "stream",
     "text": [
      "[0. 0. 0.]\n",
      "[-0.13316494  0.12905243 -0.80368537]\n",
      "[-0.19118601  0.17169872 -0.83536357]\n",
      "[-0.21360819  0.18817933 -0.84760559]\n",
      "[-0.22183053  0.19422287 -0.85209477]\n",
      "[-0.22478737  0.19639619 -0.85370916]\n",
      "[-0.22584319  0.19717222 -0.8542856 ]\n",
      "[-0.22621925  0.19744864 -0.85449094]\n",
      "Optimal weights\n",
      "[-0.22707027  0.19779846 -0.8541705 ]\n"
     ]
    },
    {
     "data": {
      "image/png": "[encoded data removed]",
      "text/plain": [
       "<Figure size 432x288 with 1 Axes>"
      ]
     },
     "metadata": {
      "needs_background": "light"
     },
     "output_type": "display_data"
    }
   ],
   "source": [
    "from tqdm.notebook import tqdm\n",
    "import matplotlib.pyplot as plt\n",
    "\n",
    "from pbo.sample_collection.dataloader import SampleDataLoader\n",
    "from pbo.weights_collection.dataloader import WeightsDataLoader\n",
    "from pbo.networks.learnable_pbo import CustomLinearPBO\n",
    "\n",
    "\n",
    "data_loader_samples = SampleDataLoader(replay_buffer, batch_size_samples, shuffle_key)\n",
    "data_loader_weights = WeightsDataLoader(weights_buffer, batch_size_weights, shuffle_key)\n",
    "pbo_custom_linear = CustomLinearPBO(q, max_bellman_iterations, pbo_network_key, learning_rate, initial_weight_std, initial_bias_std)\n",
    "importance_iteration = jnp.ones(max_bellman_iterations + 1)\n",
    "\n",
    "cumulative_l2_loss = np.zeros((training_steps, fitting_steps)) * np.nan\n",
    "\n",
    "for training_step in tqdm(range(training_steps)):\n",
    "    params_target = pbo_custom_linear.params\n",
    "    for fitting_step in range(fitting_steps):\n",
    "        data_loader_weights.shuffle()\n",
    "        for batch_weights in data_loader_weights:\n",
    "            data_loader_samples.shuffle()\n",
    "            for batch_samples in data_loader_samples:\n",
    "                pbo_custom_linear.params, pbo_custom_linear.optimizer_state, l2_loss = pbo_custom_linear.learn_on_batch(\n",
    "                    pbo_custom_linear.params, params_target, pbo_custom_linear.optimizer_state, batch_weights, batch_samples, importance_iteration\n",
    "                )\n",
    "        cumulative_l2_loss[training_step, fitting_step] = l2_loss\n",
    "\n",
    "weights = np.zeros((max_bellman_iterations_validation + 1, q.weights_dimension))\n",
    "\n",
    "\n",
    "batch_iterated_weights = validation_initial_weight.reshape((1, -1))\n",
    "for bellman_iteration in range(max_bellman_iterations_validation + 1):\n",
    "    weights[bellman_iteration] = batch_iterated_weights[0]\n",
    "    print(weights[bellman_iteration])\n",
    "\n",
    "    batch_iterated_weights = pbo_custom_linear(pbo_custom_linear.params, batch_iterated_weights)\n",
    "\n",
    "print(\"Optimal weights\")\n",
    "print(env.optimal_weights)\n",
    "\n",
    "for training_step in range(0, training_steps, max(training_steps // 10, 1)):\n",
    "    plt.plot(cumulative_l2_loss[training_step], label=f\"Training step {training_step}\")\n",
    "plt.legend()\n",
    "plt.show()"
   ]
  },
  {
   "cell_type": "markdown",
   "metadata": {},
   "source": [
    "## Save data"
   ]
  },
  {
   "cell_type": "code",
   "execution_count": 7,
   "metadata": {
    "execution": {
     "iopub.execute_input": "2022-09-09T12:27:14.375344Z",
     "iopub.status.busy": "2022-09-09T12:27:14.375202Z",
     "iopub.status.idle": "2022-09-09T12:27:14.448122Z",
     "shell.execute_reply": "2022-09-09T12:27:14.447617Z"
    }
   },
   "outputs": [],
   "source": [
    "if not os.path.exists(\"figures/data/PBO_custom_linear/\"):\n",
    "    os.mkdir(\"figures/data/PBO_custom_linear/\")\n",
    "np.save(f\"figures/data/PBO_custom_linear/{max_bellman_iterations}_W_{n_samples}_{seed}.npy\", weights)\n",
    "np.save(f\"figures/data/PBO_custom_linear/{max_bellman_iterations}_Pi_{n_samples}_{seed}.npy\", env.greedy_V(weights))"
   ]
  },
  {
   "cell_type": "markdown",
   "metadata": {},
   "source": [
    "## Visualise"
   ]
  },
  {
   "cell_type": "code",
   "execution_count": 8,
   "metadata": {
    "execution": {
     "iopub.execute_input": "2022-09-09T12:27:14.450135Z",
     "iopub.status.busy": "2022-09-09T12:27:14.449997Z",
     "iopub.status.idle": "2022-09-09T12:27:14.747119Z",
     "shell.execute_reply": "2022-09-09T12:27:14.746657Z"
    }
   },
   "outputs": [
    {
     "data": {
      "image/png": "[encoded data removed]",
      "text/plain": [
       "<Figure size 504x504 with 1 Axes>"
      ]
     },
     "metadata": {
      "needs_background": "light"
     },
     "output_type": "display_data"
    }
   ],
   "source": [
    "from pbo.utils.lqr_weights_viewer import visualize\n",
    "\n",
    "weights[np.abs(weights) > 20] = np.nan\n",
    "\n",
    "visualize(weights, env.optimal_weights)"
   ]
  },
  {
   "cell_type": "markdown",
   "metadata": {},
   "source": [
    "## Understand"
   ]
  },
  {
   "cell_type": "code",
   "execution_count": 9,
   "metadata": {
    "execution": {
     "iopub.execute_input": "2022-09-09T12:27:14.749003Z",
     "iopub.status.busy": "2022-09-09T12:27:14.748860Z",
     "iopub.status.idle": "2022-09-09T12:27:14.768752Z",
     "shell.execute_reply": "2022-09-09T12:27:14.768292Z"
    }
   },
   "outputs": [
    {
     "name": "stdout",
     "output_type": "stream",
     "text": [
      "Current loss: 2.20714e-06\n",
      "Loss with optimal params: 1.0683017e-06\n"
     ]
    }
   ],
   "source": [
    "ideal_params = {\"CustomLinearPBONet\": {\"bias\": None, \"slope\": None}}\n",
    "ideal_params[\"CustomLinearPBONet\"][\"bias\"] = jnp.array([env.Q[0, 0], env.S[0, 0], env.R[0, 0]]).reshape((1, 3))\n",
    "ideal_params[\"CustomLinearPBONet\"][\"slope\"] = jnp.array([env.A[0, 0] ** 2, env.A[0, 0] * env.B[0, 0],env.B[0, 0] ** 2]).reshape((1, 3))\n",
    "\n",
    "print(\"Current loss:\", pbo_custom_linear.learn_on_batch(\n",
    "    pbo_custom_linear.params, params_target, pbo_custom_linear.optimizer_state, batch_weights, batch_samples, importance_iteration\n",
    ")[-1])\n",
    "print(\"Loss with optimal params:\", pbo_custom_linear.learn_on_batch(\n",
    "    ideal_params, params_target, pbo_custom_linear.optimizer_state, batch_weights, batch_samples, importance_iteration\n",
    ")[-1])"
   ]
  },
  {
   "cell_type": "code",
   "execution_count": 10,
   "metadata": {
    "execution": {
     "iopub.execute_input": "2022-09-09T12:27:14.770440Z",
     "iopub.status.busy": "2022-09-09T12:27:14.770305Z",
     "iopub.status.idle": "2022-09-09T12:27:14.781650Z",
     "shell.execute_reply": "2022-09-09T12:27:14.781202Z"
    }
   },
   "outputs": [
    {
     "name": "stdout",
     "output_type": "stream",
     "text": [
      "Current bias: [-0.13316494  0.12905243 -0.80368537]\n"
     ]
    }
   ],
   "source": [
    "print(\"Current bias:\", pbo_custom_linear.params[\"CustomLinearPBONet\"][\"bias\"][0])"
   ]
  },
  {
   "cell_type": "code",
   "execution_count": 11,
   "metadata": {
    "execution": {
     "iopub.execute_input": "2022-09-09T12:27:14.783297Z",
     "iopub.status.busy": "2022-09-09T12:27:14.783164Z",
     "iopub.status.idle": "2022-09-09T12:27:14.796656Z",
     "shell.execute_reply": "2022-09-09T12:27:14.796229Z"
    }
   },
   "outputs": [
    {
     "name": "stdout",
     "output_type": "stream",
     "text": [
      "Optimal bias: [-0.13297832  0.1290505  -0.80394006]\n"
     ]
    }
   ],
   "source": [
    "print(\"Optimal bias:\", jnp.array([env.Q[0, 0], env.S[0, 0], env.R[0, 0]]))"
   ]
  },
  {
   "cell_type": "code",
   "execution_count": 12,
   "metadata": {
    "execution": {
     "iopub.execute_input": "2022-09-09T12:27:14.798297Z",
     "iopub.status.busy": "2022-09-09T12:27:14.798163Z",
     "iopub.status.idle": "2022-09-09T12:27:14.808932Z",
     "shell.execute_reply": "2022-09-09T12:27:14.808479Z"
    }
   },
   "outputs": [
    {
     "name": "stdout",
     "output_type": "stream",
     "text": [
      "Current slope: [ 0.5160077  -0.37927282  0.28172854]\n"
     ]
    }
   ],
   "source": [
    "print(\"Current slope:\", pbo_custom_linear.params[\"CustomLinearPBONet\"][\"slope\"][0])"
   ]
  },
  {
   "cell_type": "code",
   "execution_count": 13,
   "metadata": {
    "execution": {
     "iopub.execute_input": "2022-09-09T12:27:14.810577Z",
     "iopub.status.busy": "2022-09-09T12:27:14.810445Z",
     "iopub.status.idle": "2022-09-09T12:27:14.825487Z",
     "shell.execute_reply": "2022-09-09T12:27:14.825033Z"
    }
   },
   "outputs": [
    {
     "name": "stdout",
     "output_type": "stream",
     "text": [
      "Optimal slope: [ 0.51908076 -0.37926456  0.27710834]\n"
     ]
    }
   ],
   "source": [
    "print(\"Optimal slope:\", jnp.array([env.A[0, 0] ** 2, env.A[0, 0] * env.B[0, 0],env.B[0, 0] ** 2]))"
   ]
  }
 ],
 "metadata": {
  "kernelspec": {
   "display_name": "Python 3.8.10 ('env_cpu': venv)",
   "language": "python",
   "name": "python3"
  },
  "language_info": {
   "codemirror_mode": {
    "name": "ipython",
    "version": 3
   },
   "file_extension": ".py",
   "mimetype": "text/x-python",
   "name": "python",
   "nbconvert_exporter": "python",
   "pygments_lexer": "ipython3",
   "version": "3.8.10"
  },
  "vscode": {
   "interpreter": {
    "hash": "af5525a3273d35d601ae265c5d3634806dd61a1c4d085ae098611a6832982bdb"
   }
  },
  "widgets": {
   "application/vnd.jupyter.widget-state+json": {
    "state": {
     "101d474c23b94df1baade6984fae4084": {
      "model_module": "@jupyter-widgets/base",
      "model_module_version": "1.2.0",
      "model_name": "LayoutModel",
      "state": {
       "_model_module": "@jupyter-widgets/base",
       "_model_module_version": "1.2.0",
       "_model_name": "LayoutModel",
       "_view_count": null,
       "_view_module": "@jupyter-widgets/base",
       "_view_module_version": "1.2.0",
       "_view_name": "LayoutView",
       "align_content": null,
       "align_items": null,
       "align_self": null,
       "border": null,
       "bottom": null,
       "display": null,
       "flex": null,
       "flex_flow": null,
       "grid_area": null,
       "grid_auto_columns": null,
       "grid_auto_flow": null,
       "grid_auto_rows": null,
       "grid_column": null,
       "grid_gap": null,
       "grid_row": null,
       "grid_template_areas": null,
       "grid_template_columns": null,
       "grid_template_rows": null,
       "height": null,
       "justify_content": null,
       "justify_items": null,
       "left": null,
       "margin": null,
       "max_height": null,
       "max_width": null,
       "min_height": null,
       "min_width": null,
       "object_fit": null,
       "object_position": null,
       "order": null,
       "overflow": null,
       "overflow_x": null,
       "overflow_y": null,
       "padding": null,
       "right": null,
       "top": null,
       "visibility": null,
       "width": null
      }
     },
     "16236b62feaa43ee933e852dd1d88895": {
      "model_module": "@jupyter-widgets/controls",
      "model_module_version": "1.5.0",
      "model_name": "ProgressStyleModel",
      "state": {
       "_model_module": "@jupyter-widgets/controls",
       "_model_module_version": "1.5.0",
       "_model_name": "ProgressStyleModel",
       "_view_count": null,
       "_view_module": "@jupyter-widgets/base",
       "_view_module_version": "1.2.0",
       "_view_name": "StyleView",
       "bar_color": null,
       "description_width": ""
      }
     },
     "81e698ce475a4fc5b5cfca23d2133b3b": {
      "model_module": "@jupyter-widgets/controls",
      "model_module_version": "1.5.0",
      "model_name": "FloatProgressModel",
      "state": {
       "_dom_classes": [],
       "_model_module": "@jupyter-widgets/controls",
       "_model_module_version": "1.5.0",
       "_model_name": "FloatProgressModel",
       "_view_count": null,
       "_view_module": "@jupyter-widgets/controls",
       "_view_module_version": "1.5.0",
       "_view_name": "ProgressView",
       "bar_style": "success",
       "description": "",
       "description_tooltip": null,
       "layout": "IPY_MODEL_8c493b839f644e70ad3fcef21ad2adb7",
       "max": 3200.0,
       "min": 0.0,
       "orientation": "horizontal",
       "style": "IPY_MODEL_16236b62feaa43ee933e852dd1d88895",
       "value": 3200.0
      }
     },
     "8c493b839f644e70ad3fcef21ad2adb7": {
      "model_module": "@jupyter-widgets/base",
      "model_module_version": "1.2.0",
      "model_name": "LayoutModel",
      "state": {
       "_model_module": "@jupyter-widgets/base",
       "_model_module_version": "1.2.0",
       "_model_name": "LayoutModel",
       "_view_count": null,
       "_view_module": "@jupyter-widgets/base",
       "_view_module_version": "1.2.0",
       "_view_name": "LayoutView",
       "align_content": null,
       "align_items": null,
       "align_self": null,
       "border": null,
       "bottom": null,
       "display": null,
       "flex": null,
       "flex_flow": null,
       "grid_area": null,
       "grid_auto_columns": null,
       "grid_auto_flow": null,
       "grid_auto_rows": null,
       "grid_column": null,
       "grid_gap": null,
       "grid_row": null,
       "grid_template_areas": null,
       "grid_template_columns": null,
       "grid_template_rows": null,
       "height": null,
       "justify_content": null,
       "justify_items": null,
       "left": null,
       "margin": null,
       "max_height": null,
       "max_width": null,
       "min_height": null,
       "min_width": null,
       "object_fit": null,
       "object_position": null,
       "order": null,
       "overflow": null,
       "overflow_x": null,
       "overflow_y": null,
       "padding": null,
       "right": null,
       "top": null,
       "visibility": null,
       "width": null
      }
     },
     "a67f775eb1164832984402922131b2d8": {
      "model_module": "@jupyter-widgets/controls",
      "model_module_version": "1.5.0",
      "model_name": "HBoxModel",
      "state": {
       "_dom_classes": [],
       "_model_module": "@jupyter-widgets/controls",
       "_model_module_version": "1.5.0",
       "_model_name": "HBoxModel",
       "_view_count": null,
       "_view_module": "@jupyter-widgets/controls",
       "_view_module_version": "1.5.0",
       "_view_name": "HBoxView",
       "box_style": "",
       "children": [
        "IPY_MODEL_fd221e4d4f4040dd86f9fa8e8fa2c3ae",
        "IPY_MODEL_81e698ce475a4fc5b5cfca23d2133b3b",
        "IPY_MODEL_ea77f5eb166d438f950ee6cd8264d7ce"
       ],
       "layout": "IPY_MODEL_101d474c23b94df1baade6984fae4084"
      }
     },
     "caaec34feb7d45ac9c43ad81277f0cd1": {
      "model_module": "@jupyter-widgets/controls",
      "model_module_version": "1.5.0",
      "model_name": "DescriptionStyleModel",
      "state": {
       "_model_module": "@jupyter-widgets/controls",
       "_model_module_version": "1.5.0",
       "_model_name": "DescriptionStyleModel",
       "_view_count": null,
       "_view_module": "@jupyter-widgets/base",
       "_view_module_version": "1.2.0",
       "_view_name": "StyleView",
       "description_width": ""
      }
     },
     "cd7e42ebfd8d4480aab58dc8d51eb3f1": {
      "model_module": "@jupyter-widgets/base",
      "model_module_version": "1.2.0",
      "model_name": "LayoutModel",
      "state": {
       "_model_module": "@jupyter-widgets/base",
       "_model_module_version": "1.2.0",
       "_model_name": "LayoutModel",
       "_view_count": null,
       "_view_module": "@jupyter-widgets/base",
       "_view_module_version": "1.2.0",
       "_view_name": "LayoutView",
       "align_content": null,
       "align_items": null,
       "align_self": null,
       "border": null,
       "bottom": null,
       "display": null,
       "flex": null,
       "flex_flow": null,
       "grid_area": null,
       "grid_auto_columns": null,
       "grid_auto_flow": null,
       "grid_auto_rows": null,
       "grid_column": null,
       "grid_gap": null,
       "grid_row": null,
       "grid_template_areas": null,
       "grid_template_columns": null,
       "grid_template_rows": null,
       "height": null,
       "justify_content": null,
       "justify_items": null,
       "left": null,
       "margin": null,
       "max_height": null,
       "max_width": null,
       "min_height": null,
       "min_width": null,
       "object_fit": null,
       "object_position": null,
       "order": null,
       "overflow": null,
       "overflow_x": null,
       "overflow_y": null,
       "padding": null,
       "right": null,
       "top": null,
       "visibility": null,
       "width": null
      }
     },
     "cfe98977c0bb4d0b97cb832c2d8aec18": {
      "model_module": "@jupyter-widgets/base",
      "model_module_version": "1.2.0",
      "model_name": "LayoutModel",
      "state": {
       "_model_module": "@jupyter-widgets/base",
       "_model_module_version": "1.2.0",
       "_model_name": "LayoutModel",
       "_view_count": null,
       "_view_module": "@jupyter-widgets/base",
       "_view_module_version": "1.2.0",
       "_view_name": "LayoutView",
       "align_content": null,
       "align_items": null,
       "align_self": null,
       "border": null,
       "bottom": null,
       "display": null,
       "flex": null,
       "flex_flow": null,
       "grid_area": null,
       "grid_auto_columns": null,
       "grid_auto_flow": null,
       "grid_auto_rows": null,
       "grid_column": null,
       "grid_gap": null,
       "grid_row": null,
       "grid_template_areas": null,
       "grid_template_columns": null,
       "grid_template_rows": null,
       "height": null,
       "justify_content": null,
       "justify_items": null,
       "left": null,
       "margin": null,
       "max_height": null,
       "max_width": null,
       "min_height": null,
       "min_width": null,
       "object_fit": null,
       "object_position": null,
       "order": null,
       "overflow": null,
       "overflow_x": null,
       "overflow_y": null,
       "padding": null,
       "right": null,
       "top": null,
       "visibility": null,
       "width": null
      }
     },
     "e7e854dd4b354ce8b4d504736152080d": {
      "model_module": "@jupyter-widgets/controls",
      "model_module_version": "1.5.0",
      "model_name": "DescriptionStyleModel",
      "state": {
       "_model_module": "@jupyter-widgets/controls",
       "_model_module_version": "1.5.0",
       "_model_name": "DescriptionStyleModel",
       "_view_count": null,
       "_view_module": "@jupyter-widgets/base",
       "_view_module_version": "1.2.0",
       "_view_name": "StyleView",
       "description_width": ""
      }
     },
     "ea77f5eb166d438f950ee6cd8264d7ce": {
      "model_module": "@jupyter-widgets/controls",
      "model_module_version": "1.5.0",
      "model_name": "HTMLModel",
      "state": {
       "_dom_classes": [],
       "_model_module": "@jupyter-widgets/controls",
       "_model_module_version": "1.5.0",
       "_model_name": "HTMLModel",
       "_view_count": null,
       "_view_module": "@jupyter-widgets/controls",
       "_view_module_version": "1.5.0",
       "_view_name": "HTMLView",
       "description": "",
       "description_tooltip": null,
       "layout": "IPY_MODEL_cfe98977c0bb4d0b97cb832c2d8aec18",
       "placeholder": "​",
       "style": "IPY_MODEL_caaec34feb7d45ac9c43ad81277f0cd1",
       "value": " 3200/3200 [00:04&lt;00:00, 831.64it/s]"
      }
     },
     "fd221e4d4f4040dd86f9fa8e8fa2c3ae": {
      "model_module": "@jupyter-widgets/controls",
      "model_module_version": "1.5.0",
      "model_name": "HTMLModel",
      "state": {
       "_dom_classes": [],
       "_model_module": "@jupyter-widgets/controls",
       "_model_module_version": "1.5.0",
       "_model_name": "HTMLModel",
       "_view_count": null,
       "_view_module": "@jupyter-widgets/controls",
       "_view_module_version": "1.5.0",
       "_view_name": "HTMLView",
       "description": "",
       "description_tooltip": null,
       "layout": "IPY_MODEL_cd7e42ebfd8d4480aab58dc8d51eb3f1",
       "placeholder": "​",
       "style": "IPY_MODEL_e7e854dd4b354ce8b4d504736152080d",
       "value": "100%"
      }
     }
    },
    "version_major": 2,
    "version_minor": 0
   }
  }
 },
 "nbformat": 4,
 "nbformat_minor": 2
}
