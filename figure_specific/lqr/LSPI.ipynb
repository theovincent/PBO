{
 "cells": [
  {
   "cell_type": "markdown",
   "metadata": {},
   "source": [
    "# LSPI on LQR\n",
    "\n",
    "## Define paramters"
   ]
  },
  {
   "cell_type": "code",
   "execution_count": 1,
   "metadata": {
    "execution": {
     "iopub.execute_input": "2022-08-15T16:16:40.251391Z",
     "iopub.status.busy": "2022-08-15T16:16:40.249685Z",
     "iopub.status.idle": "2022-08-15T16:16:40.815453Z",
     "shell.execute_reply": "2022-08-15T16:16:40.814954Z"
    }
   },
   "outputs": [
    {
     "name": "stderr",
     "output_type": "stream",
     "text": [
      "WARNING:absl:No GPU/TPU found, falling back to CPU. (Set TF_CPP_MIN_LOG_LEVEL=0 and rerun for more info.)\n"
     ]
    }
   ],
   "source": [
    "%load_ext autoreload\n",
    "%autoreload 2\n",
    "\n",
    "import warnings\n",
    "warnings.simplefilter(action='ignore', category=FutureWarning)\n",
    "import jax\n",
    "import os\n",
    "import json\n",
    "\n",
    "parameters = json.load(open(\"parameters.json\"))\n",
    "env_seed = parameters[\"env_seed\"]\n",
    "\n",
    "# Sample collection\n",
    "max_discrete_state = parameters[\"max_discrete_state\"]\n",
    "n_discrete_states = parameters[\"n_discrete_states\"]\n",
    "max_discrete_action = parameters[\"max_discrete_action\"]\n",
    "n_discrete_actions = parameters[\"n_discrete_actions\"]\n",
    "n_samples = n_discrete_states * n_discrete_actions\n",
    "\n",
    "# Q function\n",
    "action_range_on_max = parameters[\"action_range_on_max\"]\n",
    "n_actions_on_max = parameters[\"n_actions_on_max\"]\n",
    "\n",
    "# Trainings\n",
    "max_bellman_iterations = parameters[\"max_bellman_iterations\"]\n",
    "\n",
    "# keys\n",
    "env_key = jax.random.PRNGKey(env_seed)\n",
    "dummy_q_network_key = env_key.copy()"
   ]
  },
  {
   "cell_type": "markdown",
   "metadata": {},
   "source": [
    "## Define environment"
   ]
  },
  {
   "cell_type": "code",
   "execution_count": 2,
   "metadata": {
    "execution": {
     "iopub.execute_input": "2022-08-15T16:16:40.817671Z",
     "iopub.status.busy": "2022-08-15T16:16:40.817495Z",
     "iopub.status.idle": "2022-08-15T16:16:41.179290Z",
     "shell.execute_reply": "2022-08-15T16:16:41.178820Z"
    }
   },
   "outputs": [
    {
     "name": "stdout",
     "output_type": "stream",
     "text": [
      "Transition: s' = As + Ba\n",
      "Transition: s' = 0.7204725742340088s + -0.5264108180999756a\n",
      "Reward: Qs² + Ra² + 2 Ssa\n",
      "Reward: -0.13297832012176514s² + -0.8039400577545166a² + 0.2581009864807129sa\n"
     ]
    }
   ],
   "source": [
    "import numpy as np\n",
    "\n",
    "from pbo.environment.linear_quadratic import LinearQuadraticEnv\n",
    "\n",
    "\n",
    "discrete_states = np.linspace(-max_discrete_state, max_discrete_state, n_discrete_states)\n",
    "state_box_half_size = max_discrete_state / n_discrete_states\n",
    "discrete_states_boxes = np.linspace(\n",
    "    -max_discrete_state - state_box_half_size, max_discrete_state + state_box_half_size, n_discrete_states + 1\n",
    ")\n",
    "\n",
    "discrete_actions = np.linspace(-max_discrete_action, max_discrete_action, n_discrete_actions)\n",
    "action_box_half_size = max_discrete_action / n_discrete_actions\n",
    "discrete_actions_boxes = np.linspace(\n",
    "    -max_discrete_action - action_box_half_size, max_discrete_action + action_box_half_size, n_discrete_actions + 1\n",
    ")\n",
    "\n",
    "env = LinearQuadraticEnv(env_key, max_init_state=max_discrete_state)"
   ]
  },
  {
   "cell_type": "markdown",
   "metadata": {},
   "source": [
    "## Collect samples"
   ]
  },
  {
   "cell_type": "markdown",
   "metadata": {},
   "source": [
    "### Samples on the mesh"
   ]
  },
  {
   "cell_type": "code",
   "execution_count": 3,
   "metadata": {
    "execution": {
     "iopub.execute_input": "2022-08-15T16:16:41.182496Z",
     "iopub.status.busy": "2022-08-15T16:16:41.182346Z",
     "iopub.status.idle": "2022-08-15T16:16:41.438545Z",
     "shell.execute_reply": "2022-08-15T16:16:41.438032Z"
    }
   },
   "outputs": [],
   "source": [
    "import jax.numpy as jnp\n",
    "\n",
    "from pbo.sample_collection.replay_buffer import ReplayBuffer\n",
    "\n",
    "\n",
    "n_samples = n_discrete_states * n_discrete_actions\n",
    "replay_buffer = ReplayBuffer()\n",
    "\n",
    "for state in discrete_states:\n",
    "    for action in discrete_actions:\n",
    "        env.reset(jnp.array([state]))\n",
    "        next_state, reward, absorbing, _ = env.step(jnp.array([action]))\n",
    "\n",
    "        replay_buffer.add(jnp.array([state]), jnp.array([action]), reward, next_state, absorbing)\n",
    "\n",
    "replay_buffer.cast_to_jax_array()"
   ]
  },
  {
   "cell_type": "markdown",
   "metadata": {},
   "source": [
    "### Visualize samples"
   ]
  },
  {
   "cell_type": "code",
   "execution_count": 4,
   "metadata": {
    "execution": {
     "iopub.execute_input": "2022-08-15T16:16:41.440900Z",
     "iopub.status.busy": "2022-08-15T16:16:41.440689Z",
     "iopub.status.idle": "2022-08-15T16:16:42.119383Z",
     "shell.execute_reply": "2022-08-15T16:16:42.118907Z"
    }
   },
   "outputs": [
    {
     "data": {
      "image/png": "[encoded data removed]",
      "text/plain": [
       "<Figure size 432x288 with 2 Axes>"
      ]
     },
     "metadata": {
      "needs_background": "light"
     },
     "output_type": "display_data"
    }
   ],
   "source": [
    "from pbo.sample_collection.count_samples import count_samples\n",
    "from pbo.utils.two_dimesions_mesh import TwoDimesionsMesh\n",
    "\n",
    "\n",
    "samples_count, n_outside_boxes, _ = count_samples(replay_buffer.states, replay_buffer.actions, discrete_states_boxes, discrete_actions_boxes, replay_buffer.rewards)\n",
    "samples_visu_mesh = TwoDimesionsMesh(discrete_states, discrete_actions, sleeping_time=0)\n",
    "\n",
    "samples_visu_mesh.set_values(samples_count, zeros_to_nan=True)\n",
    "samples_visu_mesh.show(\n",
    "    f\"Samples repartition, \\n{int(100 * n_outside_boxes / n_samples)}% are outside the box.\"\n",
    ")\n"
   ]
  },
  {
   "cell_type": "markdown",
   "metadata": {},
   "source": [
    "## Train LSPI"
   ]
  },
  {
   "cell_type": "code",
   "execution_count": 5,
   "metadata": {
    "execution": {
     "iopub.execute_input": "2022-08-15T16:16:42.121474Z",
     "iopub.status.busy": "2022-08-15T16:16:42.121219Z",
     "iopub.status.idle": "2022-08-15T16:16:44.067360Z",
     "shell.execute_reply": "2022-08-15T16:16:44.066898Z"
    }
   },
   "outputs": [
    {
     "name": "stdout",
     "output_type": "stream",
     "text": [
      "[0. 0. 0.]\n"
     ]
    },
    {
     "data": {
      "application/vnd.jupyter.widget-view+json": {
       "model_id": "1a59a394c67140ec96f8eb469a418d72",
       "version_major": 2,
       "version_minor": 0
      },
      "text/plain": [
       "  0%|          | 0/2 [00:00<?, ?it/s]"
      ]
     },
     "metadata": {},
     "output_type": "display_data"
    },
    {
     "name": "stdout",
     "output_type": "stream",
     "text": [
      "[ 2.29703605 -0.74511632  0.79988428]\n",
      "[0.80967368 0.60968212 0.57451562]\n",
      "Optimal weights\n",
      "[-0.22707027  0.19779846 -0.8541705 ]\n"
     ]
    }
   ],
   "source": [
    "from tqdm.notebook import tqdm\n",
    "import matplotlib.pyplot as plt\n",
    "\n",
    "from pbo.sample_collection.dataloader import SampleDataLoader\n",
    "from pbo.networks.learnable_q import LQRQ\n",
    "\n",
    "data_loader_samples = SampleDataLoader(replay_buffer, 1, None)\n",
    "q = LQRQ(\n",
    "    state_dim=1,\n",
    "    action_dim=1,\n",
    "    n_actions_on_max=n_actions_on_max,\n",
    "    action_range_on_max=action_range_on_max,\n",
    "    network_key=dummy_q_network_key,\n",
    "    random_weights_range=None,\n",
    "    random_weights_key=None,\n",
    "    learning_rate=None,\n",
    "    zero_initializer=True,\n",
    ")\n",
    "\n",
    "weights = np.zeros((max_bellman_iterations + 1, q.weights_dimension))\n",
    "\n",
    "weights[0] = q.to_weights(q.params)\n",
    "print(weights[0])\n",
    "\n",
    "for bellman_iteration in tqdm(range(1, max_bellman_iterations + 1)):\n",
    "    A = np.zeros((q.weights_dimension, q.weights_dimension))\n",
    "    b = np.zeros(q.weights_dimension)\n",
    "\n",
    "    for batch_samples in data_loader_samples:\n",
    "        state = batch_samples[\"state\"][0, 0]; action = batch_samples[\"action\"][0, 0]\n",
    "        reward = batch_samples[\"reward\"][0, 0]; next_state = batch_samples[\"next_state\"][0, 0]\n",
    "        next_action = q.discrete_actions_on_max[q(q.params, next_state, q.discrete_actions_on_max).argmax()][0]\n",
    "\n",
    "        if len(np.unique(q(q.params, next_state, q.discrete_actions_on_max))) == 1:\n",
    "            dummy_q_network_key, key = jax.random.split(dummy_q_network_key)\n",
    "            next_action = jax.random.choice(key, q.discrete_actions_on_max.flatten())\n",
    "\n",
    "        phi = np.zeros((q.weights_dimension, 1))\n",
    "        phi[0, 0] = state ** 2; phi[1, 0] = 2 * state * action; phi[2, 0] = action ** 2\n",
    "        next_phi = np.zeros((q.weights_dimension, 1))\n",
    "        next_phi[0, 0] = next_state ** 2; next_phi[1, 0] = 2 * next_state * next_action; next_phi[2, 0] = next_action ** 2\n",
    "\n",
    "        A += phi @ (phi - next_phi).T\n",
    "        b += reward * phi.reshape(q.weights_dimension)\n",
    "\n",
    "    q_weigth_i = np.linalg.solve(A, b)\n",
    "    q.params = q.to_params(q_weigth_i)\n",
    "    \n",
    "    weights[bellman_iteration] = q_weigth_i\n",
    "    \n",
    "    print(q_weigth_i)\n",
    "\n",
    "print(\"Optimal weights\")\n",
    "print(env.optimal_weights)"
   ]
  },
  {
   "cell_type": "markdown",
   "metadata": {},
   "source": [
    "## Save data"
   ]
  },
  {
   "cell_type": "code",
   "execution_count": 6,
   "metadata": {
    "execution": {
     "iopub.execute_input": "2022-08-15T16:16:44.069239Z",
     "iopub.status.busy": "2022-08-15T16:16:44.069062Z",
     "iopub.status.idle": "2022-08-15T16:16:44.126993Z",
     "shell.execute_reply": "2022-08-15T16:16:44.126450Z"
    }
   },
   "outputs": [],
   "source": [
    "np.save(f\"figures/data/LSPI/{max_bellman_iterations}_W.npy\", weights)\n",
    "np.save(f\"figures/data/LSPI/{max_bellman_iterations}_Pi.npy\", env.greedy_V(weights))"
   ]
  },
  {
   "cell_type": "markdown",
   "metadata": {},
   "source": [
    "## Visualize"
   ]
  },
  {
   "cell_type": "code",
   "execution_count": 7,
   "metadata": {
    "execution": {
     "iopub.execute_input": "2022-08-15T16:16:44.129247Z",
     "iopub.status.busy": "2022-08-15T16:16:44.129041Z",
     "iopub.status.idle": "2022-08-15T16:16:44.368317Z",
     "shell.execute_reply": "2022-08-15T16:16:44.367861Z"
    }
   },
   "outputs": [
    {
     "data": {
      "image/png": "[encoded data removed]",
      "text/plain": [
       "<Figure size 504x504 with 1 Axes>"
      ]
     },
     "metadata": {
      "needs_background": "light"
     },
     "output_type": "display_data"
    }
   ],
   "source": [
    "from pbo.utils.lqr_weights_viewer import visualize\n",
    "\n",
    "\n",
    "visualize(weights, env.optimal_weights)"
   ]
  }
 ],
 "metadata": {
  "kernelspec": {
   "display_name": "Python 3.8.10 ('env_cpu': venv)",
   "language": "python",
   "name": "python3"
  },
  "language_info": {
   "codemirror_mode": {
    "name": "ipython",
    "version": 3
   },
   "file_extension": ".py",
   "mimetype": "text/x-python",
   "name": "python",
   "nbconvert_exporter": "python",
   "pygments_lexer": "ipython3",
   "version": "3.8.10"
  },
  "vscode": {
   "interpreter": {
    "hash": "af5525a3273d35d601ae265c5d3634806dd61a1c4d085ae098611a6832982bdb"
   }
  },
  "widgets": {
   "application/vnd.jupyter.widget-state+json": {
    "state": {
     "05bff2e4c5e24e44a46c304013f439a7": {
      "model_module": "@jupyter-widgets/controls",
      "model_module_version": "1.5.0",
      "model_name": "FloatProgressModel",
      "state": {
       "_dom_classes": [],
       "_model_module": "@jupyter-widgets/controls",
       "_model_module_version": "1.5.0",
       "_model_name": "FloatProgressModel",
       "_view_count": null,
       "_view_module": "@jupyter-widgets/controls",
       "_view_module_version": "1.5.0",
       "_view_name": "ProgressView",
       "bar_style": "success",
       "description": "",
       "description_tooltip": null,
       "layout": "IPY_MODEL_7923c8568c6448279caa10e4115e6eab",
       "max": 2.0,
       "min": 0.0,
       "orientation": "horizontal",
       "style": "IPY_MODEL_7f724a4f7db44225978774ddad5bb440",
       "value": 2.0
      }
     },
     "0c39ac65d1a74b62a563f1d65b5f2829": {
      "model_module": "@jupyter-widgets/base",
      "model_module_version": "1.2.0",
      "model_name": "LayoutModel",
      "state": {
       "_model_module": "@jupyter-widgets/base",
       "_model_module_version": "1.2.0",
       "_model_name": "LayoutModel",
       "_view_count": null,
       "_view_module": "@jupyter-widgets/base",
       "_view_module_version": "1.2.0",
       "_view_name": "LayoutView",
       "align_content": null,
       "align_items": null,
       "align_self": null,
       "border": null,
       "bottom": null,
       "display": null,
       "flex": null,
       "flex_flow": null,
       "grid_area": null,
       "grid_auto_columns": null,
       "grid_auto_flow": null,
       "grid_auto_rows": null,
       "grid_column": null,
       "grid_gap": null,
       "grid_row": null,
       "grid_template_areas": null,
       "grid_template_columns": null,
       "grid_template_rows": null,
       "height": null,
       "justify_content": null,
       "justify_items": null,
       "left": null,
       "margin": null,
       "max_height": null,
       "max_width": null,
       "min_height": null,
       "min_width": null,
       "object_fit": null,
       "object_position": null,
       "order": null,
       "overflow": null,
       "overflow_x": null,
       "overflow_y": null,
       "padding": null,
       "right": null,
       "top": null,
       "visibility": null,
       "width": null
      }
     },
     "14dab679996d4fa7a89e3a05d7719199": {
      "model_module": "@jupyter-widgets/controls",
      "model_module_version": "1.5.0",
      "model_name": "DescriptionStyleModel",
      "state": {
       "_model_module": "@jupyter-widgets/controls",
       "_model_module_version": "1.5.0",
       "_model_name": "DescriptionStyleModel",
       "_view_count": null,
       "_view_module": "@jupyter-widgets/base",
       "_view_module_version": "1.2.0",
       "_view_name": "StyleView",
       "description_width": ""
      }
     },
     "1a59a394c67140ec96f8eb469a418d72": {
      "model_module": "@jupyter-widgets/controls",
      "model_module_version": "1.5.0",
      "model_name": "HBoxModel",
      "state": {
       "_dom_classes": [],
       "_model_module": "@jupyter-widgets/controls",
       "_model_module_version": "1.5.0",
       "_model_name": "HBoxModel",
       "_view_count": null,
       "_view_module": "@jupyter-widgets/controls",
       "_view_module_version": "1.5.0",
       "_view_name": "HBoxView",
       "box_style": "",
       "children": [
        "IPY_MODEL_95aef82a1ec842e28719b4b79fcec1bd",
        "IPY_MODEL_05bff2e4c5e24e44a46c304013f439a7",
        "IPY_MODEL_ad0b4d82d73a412b9e5e56323ba3b389"
       ],
       "layout": "IPY_MODEL_1e5811b8c7324b478bb678365bd4ae84"
      }
     },
     "1e5811b8c7324b478bb678365bd4ae84": {
      "model_module": "@jupyter-widgets/base",
      "model_module_version": "1.2.0",
      "model_name": "LayoutModel",
      "state": {
       "_model_module": "@jupyter-widgets/base",
       "_model_module_version": "1.2.0",
       "_model_name": "LayoutModel",
       "_view_count": null,
       "_view_module": "@jupyter-widgets/base",
       "_view_module_version": "1.2.0",
       "_view_name": "LayoutView",
       "align_content": null,
       "align_items": null,
       "align_self": null,
       "border": null,
       "bottom": null,
       "display": null,
       "flex": null,
       "flex_flow": null,
       "grid_area": null,
       "grid_auto_columns": null,
       "grid_auto_flow": null,
       "grid_auto_rows": null,
       "grid_column": null,
       "grid_gap": null,
       "grid_row": null,
       "grid_template_areas": null,
       "grid_template_columns": null,
       "grid_template_rows": null,
       "height": null,
       "justify_content": null,
       "justify_items": null,
       "left": null,
       "margin": null,
       "max_height": null,
       "max_width": null,
       "min_height": null,
       "min_width": null,
       "object_fit": null,
       "object_position": null,
       "order": null,
       "overflow": null,
       "overflow_x": null,
       "overflow_y": null,
       "padding": null,
       "right": null,
       "top": null,
       "visibility": null,
       "width": null
      }
     },
     "2b0bf85b452b4fc8a909b087a043065b": {
      "model_module": "@jupyter-widgets/controls",
      "model_module_version": "1.5.0",
      "model_name": "DescriptionStyleModel",
      "state": {
       "_model_module": "@jupyter-widgets/controls",
       "_model_module_version": "1.5.0",
       "_model_name": "DescriptionStyleModel",
       "_view_count": null,
       "_view_module": "@jupyter-widgets/base",
       "_view_module_version": "1.2.0",
       "_view_name": "StyleView",
       "description_width": ""
      }
     },
     "7923c8568c6448279caa10e4115e6eab": {
      "model_module": "@jupyter-widgets/base",
      "model_module_version": "1.2.0",
      "model_name": "LayoutModel",
      "state": {
       "_model_module": "@jupyter-widgets/base",
       "_model_module_version": "1.2.0",
       "_model_name": "LayoutModel",
       "_view_count": null,
       "_view_module": "@jupyter-widgets/base",
       "_view_module_version": "1.2.0",
       "_view_name": "LayoutView",
       "align_content": null,
       "align_items": null,
       "align_self": null,
       "border": null,
       "bottom": null,
       "display": null,
       "flex": null,
       "flex_flow": null,
       "grid_area": null,
       "grid_auto_columns": null,
       "grid_auto_flow": null,
       "grid_auto_rows": null,
       "grid_column": null,
       "grid_gap": null,
       "grid_row": null,
       "grid_template_areas": null,
       "grid_template_columns": null,
       "grid_template_rows": null,
       "height": null,
       "justify_content": null,
       "justify_items": null,
       "left": null,
       "margin": null,
       "max_height": null,
       "max_width": null,
       "min_height": null,
       "min_width": null,
       "object_fit": null,
       "object_position": null,
       "order": null,
       "overflow": null,
       "overflow_x": null,
       "overflow_y": null,
       "padding": null,
       "right": null,
       "top": null,
       "visibility": null,
       "width": null
      }
     },
     "7f724a4f7db44225978774ddad5bb440": {
      "model_module": "@jupyter-widgets/controls",
      "model_module_version": "1.5.0",
      "model_name": "ProgressStyleModel",
      "state": {
       "_model_module": "@jupyter-widgets/controls",
       "_model_module_version": "1.5.0",
       "_model_name": "ProgressStyleModel",
       "_view_count": null,
       "_view_module": "@jupyter-widgets/base",
       "_view_module_version": "1.2.0",
       "_view_name": "StyleView",
       "bar_color": null,
       "description_width": ""
      }
     },
     "95aef82a1ec842e28719b4b79fcec1bd": {
      "model_module": "@jupyter-widgets/controls",
      "model_module_version": "1.5.0",
      "model_name": "HTMLModel",
      "state": {
       "_dom_classes": [],
       "_model_module": "@jupyter-widgets/controls",
       "_model_module_version": "1.5.0",
       "_model_name": "HTMLModel",
       "_view_count": null,
       "_view_module": "@jupyter-widgets/controls",
       "_view_module_version": "1.5.0",
       "_view_name": "HTMLView",
       "description": "",
       "description_tooltip": null,
       "layout": "IPY_MODEL_0c39ac65d1a74b62a563f1d65b5f2829",
       "placeholder": "​",
       "style": "IPY_MODEL_2b0bf85b452b4fc8a909b087a043065b",
       "value": "100%"
      }
     },
     "a5d42c126cf440df9b353d0237aeffd2": {
      "model_module": "@jupyter-widgets/base",
      "model_module_version": "1.2.0",
      "model_name": "LayoutModel",
      "state": {
       "_model_module": "@jupyter-widgets/base",
       "_model_module_version": "1.2.0",
       "_model_name": "LayoutModel",
       "_view_count": null,
       "_view_module": "@jupyter-widgets/base",
       "_view_module_version": "1.2.0",
       "_view_name": "LayoutView",
       "align_content": null,
       "align_items": null,
       "align_self": null,
       "border": null,
       "bottom": null,
       "display": null,
       "flex": null,
       "flex_flow": null,
       "grid_area": null,
       "grid_auto_columns": null,
       "grid_auto_flow": null,
       "grid_auto_rows": null,
       "grid_column": null,
       "grid_gap": null,
       "grid_row": null,
       "grid_template_areas": null,
       "grid_template_columns": null,
       "grid_template_rows": null,
       "height": null,
       "justify_content": null,
       "justify_items": null,
       "left": null,
       "margin": null,
       "max_height": null,
       "max_width": null,
       "min_height": null,
       "min_width": null,
       "object_fit": null,
       "object_position": null,
       "order": null,
       "overflow": null,
       "overflow_x": null,
       "overflow_y": null,
       "padding": null,
       "right": null,
       "top": null,
       "visibility": null,
       "width": null
      }
     },
     "ad0b4d82d73a412b9e5e56323ba3b389": {
      "model_module": "@jupyter-widgets/controls",
      "model_module_version": "1.5.0",
      "model_name": "HTMLModel",
      "state": {
       "_dom_classes": [],
       "_model_module": "@jupyter-widgets/controls",
       "_model_module_version": "1.5.0",
       "_model_name": "HTMLModel",
       "_view_count": null,
       "_view_module": "@jupyter-widgets/controls",
       "_view_module_version": "1.5.0",
       "_view_name": "HTMLView",
       "description": "",
       "description_tooltip": null,
       "layout": "IPY_MODEL_a5d42c126cf440df9b353d0237aeffd2",
       "placeholder": "​",
       "style": "IPY_MODEL_14dab679996d4fa7a89e3a05d7719199",
       "value": " 2/2 [00:01&lt;00:00,  1.18it/s]"
      }
     }
    },
    "version_major": 2,
    "version_minor": 0
   }
  }
 },
 "nbformat": 4,
 "nbformat_minor": 2
}
