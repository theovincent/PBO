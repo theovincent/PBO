{
 "cells": [
  {
   "cell_type": "markdown",
   "metadata": {},
   "source": [
    "# LSPI on LQR\n",
    "\n",
    "## Define paramters"
   ]
  },
  {
   "cell_type": "code",
   "execution_count": 7,
   "metadata": {
    "execution": {
     "iopub.execute_input": "2022-08-11T13:09:46.079241Z",
     "iopub.status.busy": "2022-08-11T13:09:46.078676Z",
     "iopub.status.idle": "2022-08-11T13:09:46.631781Z",
     "shell.execute_reply": "2022-08-11T13:09:46.631241Z"
    }
   },
   "outputs": [
    {
     "name": "stdout",
     "output_type": "stream",
     "text": [
      "The autoreload extension is already loaded. To reload it, use:\n",
      "  %reload_ext autoreload\n"
     ]
    }
   ],
   "source": [
    "%load_ext autoreload\n",
    "%autoreload 2\n",
    "\n",
    "import warnings\n",
    "warnings.simplefilter(action='ignore', category=FutureWarning)\n",
    "import jax\n",
    "import os\n",
    "import json\n",
    "\n",
    "parameters = json.load(open(\"parameters.json\"))\n",
    "env_seed = parameters[\"env_seed\"]\n",
    "\n",
    "# Sample collection\n",
    "max_discrete_state = parameters[\"max_discrete_state\"]\n",
    "n_discrete_states = parameters[\"n_discrete_states\"]\n",
    "max_discrete_action = parameters[\"max_discrete_action\"]\n",
    "n_discrete_actions = parameters[\"n_discrete_actions\"]\n",
    "n_samples = n_discrete_states * n_discrete_actions\n",
    "\n",
    "# Q function\n",
    "action_range_on_max = parameters[\"action_range_on_max\"]\n",
    "n_actions_on_max = parameters[\"n_actions_on_max\"]\n",
    "\n",
    "# Trainings\n",
    "max_bellman_iterations = parameters[\"max_bellman_iterations\"]\n",
    "\n",
    "# keys\n",
    "env_key = jax.random.PRNGKey(env_seed)\n",
    "dummy_q_network_key = env_key.copy()"
   ]
  },
  {
   "cell_type": "markdown",
   "metadata": {},
   "source": [
    "## Define environment"
   ]
  },
  {
   "cell_type": "code",
   "execution_count": 8,
   "metadata": {
    "execution": {
     "iopub.execute_input": "2022-08-11T13:09:46.633931Z",
     "iopub.status.busy": "2022-08-11T13:09:46.633756Z",
     "iopub.status.idle": "2022-08-11T13:09:47.028678Z",
     "shell.execute_reply": "2022-08-11T13:09:47.028180Z"
    }
   },
   "outputs": [
    {
     "name": "stdout",
     "output_type": "stream",
     "text": [
      "Transition: s' = As + Ba\n",
      "Transition: s' = 0.9639096260070801s + 0.8842892646789551a\n",
      "Reward: Qs² + Ra² + 2 Ssa\n",
      "Reward: -0.3898085355758667s² + -0.0979316234588623a² + 1.7638983726501465sa\n"
     ]
    }
   ],
   "source": [
    "import numpy as np\n",
    "\n",
    "from pbo.environment.linear_quadratic import LinearQuadraticEnv\n",
    "\n",
    "\n",
    "discrete_states = np.linspace(-max_discrete_state, max_discrete_state, n_discrete_states)\n",
    "state_box_half_size = max_discrete_state / n_discrete_states\n",
    "discrete_states_boxes = np.linspace(\n",
    "    -max_discrete_state - state_box_half_size, max_discrete_state + state_box_half_size, n_discrete_states + 1\n",
    ")\n",
    "\n",
    "discrete_actions = np.linspace(-max_discrete_action, max_discrete_action, n_discrete_actions)\n",
    "action_box_half_size = max_discrete_action / n_discrete_actions\n",
    "discrete_actions_boxes = np.linspace(\n",
    "    -max_discrete_action - action_box_half_size, max_discrete_action + action_box_half_size, n_discrete_actions + 1\n",
    ")\n",
    "\n",
    "env = LinearQuadraticEnv(env_key, max_init_state=max_discrete_state)"
   ]
  },
  {
   "cell_type": "markdown",
   "metadata": {},
   "source": [
    "## Collect samples"
   ]
  },
  {
   "cell_type": "markdown",
   "metadata": {},
   "source": [
    "### Samples on the mesh"
   ]
  },
  {
   "cell_type": "code",
   "execution_count": 9,
   "metadata": {
    "execution": {
     "iopub.execute_input": "2022-08-11T13:09:47.030603Z",
     "iopub.status.busy": "2022-08-11T13:09:47.030466Z",
     "iopub.status.idle": "2022-08-11T13:09:47.201579Z",
     "shell.execute_reply": "2022-08-11T13:09:47.201097Z"
    }
   },
   "outputs": [],
   "source": [
    "import jax.numpy as jnp\n",
    "\n",
    "from pbo.sample_collection.replay_buffer import ReplayBuffer\n",
    "\n",
    "\n",
    "n_samples = n_discrete_states * n_discrete_actions\n",
    "replay_buffer = ReplayBuffer()\n",
    "\n",
    "for state in discrete_states:\n",
    "    for action in discrete_actions:\n",
    "        env.reset(jnp.array([state]))\n",
    "        next_state, reward, absorbing, _ = env.step(jnp.array([action]))\n",
    "\n",
    "        replay_buffer.add(jnp.array([state]), jnp.array([action]), reward, next_state, absorbing)\n",
    "\n",
    "replay_buffer.cast_to_jax_array()"
   ]
  },
  {
   "cell_type": "markdown",
   "metadata": {},
   "source": [
    "### Visualize samples"
   ]
  },
  {
   "cell_type": "code",
   "execution_count": 10,
   "metadata": {
    "execution": {
     "iopub.execute_input": "2022-08-11T13:09:47.204711Z",
     "iopub.status.busy": "2022-08-11T13:09:47.204563Z",
     "iopub.status.idle": "2022-08-11T13:09:47.796463Z",
     "shell.execute_reply": "2022-08-11T13:09:47.796008Z"
    }
   },
   "outputs": [
    {
     "data": {
      "image/png": "[encoded data removed]",
      "text/plain": [
       "<Figure size 432x288 with 2 Axes>"
      ]
     },
     "metadata": {
      "needs_background": "light"
     },
     "output_type": "display_data"
    }
   ],
   "source": [
    "from pbo.sample_collection.count_samples import count_samples\n",
    "from pbo.utils.two_dimesions_mesh import TwoDimesionsMesh\n",
    "\n",
    "\n",
    "samples_count, n_outside_boxes, _ = count_samples(replay_buffer.states, replay_buffer.actions, discrete_states_boxes, discrete_actions_boxes, replay_buffer.rewards)\n",
    "samples_visu_mesh = TwoDimesionsMesh(discrete_states, discrete_actions, sleeping_time=0)\n",
    "\n",
    "samples_visu_mesh.set_values(samples_count, zeros_to_nan=True)\n",
    "samples_visu_mesh.show(\n",
    "    f\"Samples repartition, \\n{int(100 * n_outside_boxes / n_samples)}% are outside the box.\"\n",
    ")\n"
   ]
  },
  {
   "cell_type": "markdown",
   "metadata": {},
   "source": [
    "## Train LSPI"
   ]
  },
  {
   "cell_type": "code",
   "execution_count": 11,
   "metadata": {
    "execution": {
     "iopub.execute_input": "2022-08-11T13:09:47.798320Z",
     "iopub.status.busy": "2022-08-11T13:09:47.798140Z",
     "iopub.status.idle": "2022-08-11T13:09:48.684035Z",
     "shell.execute_reply": "2022-08-11T13:09:48.683595Z"
    }
   },
   "outputs": [
    {
     "name": "stdout",
     "output_type": "stream",
     "text": [
      "[0. 0. 0.]\n"
     ]
    },
    {
     "data": {
      "application/vnd.jupyter.widget-view+json": {
       "model_id": "7b77985a74bf494f8484381ad007c4b6",
       "version_major": 2,
       "version_minor": 0
      },
      "text/plain": [
       "  0%|          | 0/7 [00:00<?, ?it/s]"
      ]
     },
     "metadata": {},
     "output_type": "display_data"
    },
    {
     "name": "stdout",
     "output_type": "stream",
     "text": [
      "[-3.42186410e-01  5.90277915e-01  4.46789419e-05]\n",
      "[-4.63963981e-01 -5.07715337e-03  1.35865543e-04]\n",
      "[-4.61904520e-01  4.99129027e-03  1.34323426e-04]\n",
      "[-4.63963981e-01 -5.07715337e-03  1.35865543e-04]\n",
      "[-4.61904520e-01  4.99129027e-03  1.34323426e-04]\n",
      "[-4.63963981e-01 -5.07715337e-03  1.35865543e-04]\n",
      "[-4.61904520e-01  4.99129027e-03  1.34323426e-04]\n",
      "Optimal weights\n",
      "[-2.0333493  -0.62583256 -1.4811684 ]\n"
     ]
    }
   ],
   "source": [
    "from tqdm.notebook import tqdm\n",
    "import matplotlib.pyplot as plt\n",
    "\n",
    "from pbo.sample_collection.dataloader import SampleDataLoader\n",
    "from pbo.networks.learnable_q import LQRQ\n",
    "\n",
    "data_loader_samples = SampleDataLoader(replay_buffer, 1, None)\n",
    "q = LQRQ(\n",
    "    state_dim=1,\n",
    "    action_dim=1,\n",
    "    n_actions_on_max=n_actions_on_max,\n",
    "    action_range_on_max=action_range_on_max,\n",
    "    network_key=dummy_q_network_key,\n",
    "    random_weights_range=None,\n",
    "    random_weights_key=None,\n",
    "    learning_rate=None,\n",
    "    zero_initializer=True,\n",
    ")\n",
    "\n",
    "weights = np.zeros((max_bellman_iterations + 1, q.weights_dimension))\n",
    "\n",
    "weights[0] = q.to_weights(q.params)\n",
    "print(weights[0])\n",
    "\n",
    "for bellman_iteration in tqdm(range(1, max_bellman_iterations + 1)):\n",
    "    A = np.zeros((q.weights_dimension, q.weights_dimension))\n",
    "    b = np.zeros(q.weights_dimension)\n",
    "\n",
    "    for batch_samples in data_loader_samples:\n",
    "        state = batch_samples[\"state\"][0, 0]; action = batch_samples[\"action\"][0, 0]\n",
    "        reward = batch_samples[\"reward\"][0, 0]; next_state = batch_samples[\"next_state\"][0, 0]\n",
    "\n",
    "        q(q.params, next_state, q.discrete_actions_on_max)\n",
    "        next_action = q.discrete_actions_on_max[q(q.params, next_state, q.discrete_actions_on_max).argmax()][0]\n",
    "\n",
    "        phi = np.zeros((q.weights_dimension, 1))\n",
    "        phi[0, 0] = state ** 2; phi[1, 0] = 2 * state * action; phi[2, 0] = action ** 2\n",
    "        next_phi = np.zeros((q.weights_dimension, 1))\n",
    "        next_phi[0, 0] = next_state ** 2; next_phi[1, 0] = 2 * next_state * next_action; next_phi[2, 0] = next_action ** 2\n",
    "\n",
    "        A += phi @ (phi - next_phi).T\n",
    "        b += reward * phi.reshape(q.weights_dimension)\n",
    "\n",
    "    q_weigth_i = np.linalg.solve(A, b)\n",
    "    q.params = q.to_params(q_weigth_i)\n",
    "    \n",
    "    weights[bellman_iteration] = q_weigth_i\n",
    "    \n",
    "    print(q_weigth_i)\n",
    "\n",
    "print(\"Optimal weights\")\n",
    "print(env.optimal_weights)"
   ]
  },
  {
   "cell_type": "markdown",
   "metadata": {},
   "source": [
    "## Save data"
   ]
  },
  {
   "cell_type": "code",
   "execution_count": 12,
   "metadata": {
    "execution": {
     "iopub.execute_input": "2022-08-11T13:09:48.685835Z",
     "iopub.status.busy": "2022-08-11T13:09:48.685698Z",
     "iopub.status.idle": "2022-08-11T13:09:48.695640Z",
     "shell.execute_reply": "2022-08-11T13:09:48.695203Z"
    }
   },
   "outputs": [],
   "source": [
    "np.save(f\"figures/data/LSPI/{max_bellman_iterations}_W.npy\", weights)"
   ]
  }
 ],
 "metadata": {
  "kernelspec": {
   "display_name": "Python 3.8.10 ('env_cpu': venv)",
   "language": "python",
   "name": "python3"
  },
  "language_info": {
   "codemirror_mode": {
    "name": "ipython",
    "version": 3
   },
   "file_extension": ".py",
   "mimetype": "text/x-python",
   "name": "python",
   "nbconvert_exporter": "python",
   "pygments_lexer": "ipython3",
   "version": "3.8.10"
  },
  "vscode": {
   "interpreter": {
    "hash": "af5525a3273d35d601ae265c5d3634806dd61a1c4d085ae098611a6832982bdb"
   }
  },
  "widgets": {
   "application/vnd.jupyter.widget-state+json": {
    "state": {
     "2c60bdbcd90b40c69a9aaa058194b18c": {
      "model_module": "@jupyter-widgets/base",
      "model_module_version": "1.2.0",
      "model_name": "LayoutModel",
      "state": {
       "_model_module": "@jupyter-widgets/base",
       "_model_module_version": "1.2.0",
       "_model_name": "LayoutModel",
       "_view_count": null,
       "_view_module": "@jupyter-widgets/base",
       "_view_module_version": "1.2.0",
       "_view_name": "LayoutView",
       "align_content": null,
       "align_items": null,
       "align_self": null,
       "border": null,
       "bottom": null,
       "display": null,
       "flex": null,
       "flex_flow": null,
       "grid_area": null,
       "grid_auto_columns": null,
       "grid_auto_flow": null,
       "grid_auto_rows": null,
       "grid_column": null,
       "grid_gap": null,
       "grid_row": null,
       "grid_template_areas": null,
       "grid_template_columns": null,
       "grid_template_rows": null,
       "height": null,
       "justify_content": null,
       "justify_items": null,
       "left": null,
       "margin": null,
       "max_height": null,
       "max_width": null,
       "min_height": null,
       "min_width": null,
       "object_fit": null,
       "object_position": null,
       "order": null,
       "overflow": null,
       "overflow_x": null,
       "overflow_y": null,
       "padding": null,
       "right": null,
       "top": null,
       "visibility": null,
       "width": null
      }
     },
     "36607a535eef46908393bd49a7640e6c": {
      "model_module": "@jupyter-widgets/controls",
      "model_module_version": "1.5.0",
      "model_name": "HBoxModel",
      "state": {
       "_dom_classes": [],
       "_model_module": "@jupyter-widgets/controls",
       "_model_module_version": "1.5.0",
       "_model_name": "HBoxModel",
       "_view_count": null,
       "_view_module": "@jupyter-widgets/controls",
       "_view_module_version": "1.5.0",
       "_view_name": "HBoxView",
       "box_style": "",
       "children": [
        "IPY_MODEL_c81f29aa63d34bed9327515ae5f0745c",
        "IPY_MODEL_d4da45bde5e245aa9536b22cb78a28e3",
        "IPY_MODEL_f6866fd1da9a42bdae5b873c0bc430ce"
       ],
       "layout": "IPY_MODEL_e131831a848446d6a6126c7188b1f1d1"
      }
     },
     "690dbfab35dc49e4b7429188f7711b3a": {
      "model_module": "@jupyter-widgets/controls",
      "model_module_version": "1.5.0",
      "model_name": "ProgressStyleModel",
      "state": {
       "_model_module": "@jupyter-widgets/controls",
       "_model_module_version": "1.5.0",
       "_model_name": "ProgressStyleModel",
       "_view_count": null,
       "_view_module": "@jupyter-widgets/base",
       "_view_module_version": "1.2.0",
       "_view_name": "StyleView",
       "bar_color": null,
       "description_width": ""
      }
     },
     "9d1ff943a38f4b3d81493f20516355b8": {
      "model_module": "@jupyter-widgets/controls",
      "model_module_version": "1.5.0",
      "model_name": "DescriptionStyleModel",
      "state": {
       "_model_module": "@jupyter-widgets/controls",
       "_model_module_version": "1.5.0",
       "_model_name": "DescriptionStyleModel",
       "_view_count": null,
       "_view_module": "@jupyter-widgets/base",
       "_view_module_version": "1.2.0",
       "_view_name": "StyleView",
       "description_width": ""
      }
     },
     "b3ae8cd1db004f6488e687a96b7ec8cc": {
      "model_module": "@jupyter-widgets/base",
      "model_module_version": "1.2.0",
      "model_name": "LayoutModel",
      "state": {
       "_model_module": "@jupyter-widgets/base",
       "_model_module_version": "1.2.0",
       "_model_name": "LayoutModel",
       "_view_count": null,
       "_view_module": "@jupyter-widgets/base",
       "_view_module_version": "1.2.0",
       "_view_name": "LayoutView",
       "align_content": null,
       "align_items": null,
       "align_self": null,
       "border": null,
       "bottom": null,
       "display": null,
       "flex": null,
       "flex_flow": null,
       "grid_area": null,
       "grid_auto_columns": null,
       "grid_auto_flow": null,
       "grid_auto_rows": null,
       "grid_column": null,
       "grid_gap": null,
       "grid_row": null,
       "grid_template_areas": null,
       "grid_template_columns": null,
       "grid_template_rows": null,
       "height": null,
       "justify_content": null,
       "justify_items": null,
       "left": null,
       "margin": null,
       "max_height": null,
       "max_width": null,
       "min_height": null,
       "min_width": null,
       "object_fit": null,
       "object_position": null,
       "order": null,
       "overflow": null,
       "overflow_x": null,
       "overflow_y": null,
       "padding": null,
       "right": null,
       "top": null,
       "visibility": null,
       "width": null
      }
     },
     "b7298e262b294325868a0b4a6c2b4cf9": {
      "model_module": "@jupyter-widgets/base",
      "model_module_version": "1.2.0",
      "model_name": "LayoutModel",
      "state": {
       "_model_module": "@jupyter-widgets/base",
       "_model_module_version": "1.2.0",
       "_model_name": "LayoutModel",
       "_view_count": null,
       "_view_module": "@jupyter-widgets/base",
       "_view_module_version": "1.2.0",
       "_view_name": "LayoutView",
       "align_content": null,
       "align_items": null,
       "align_self": null,
       "border": null,
       "bottom": null,
       "display": null,
       "flex": null,
       "flex_flow": null,
       "grid_area": null,
       "grid_auto_columns": null,
       "grid_auto_flow": null,
       "grid_auto_rows": null,
       "grid_column": null,
       "grid_gap": null,
       "grid_row": null,
       "grid_template_areas": null,
       "grid_template_columns": null,
       "grid_template_rows": null,
       "height": null,
       "justify_content": null,
       "justify_items": null,
       "left": null,
       "margin": null,
       "max_height": null,
       "max_width": null,
       "min_height": null,
       "min_width": null,
       "object_fit": null,
       "object_position": null,
       "order": null,
       "overflow": null,
       "overflow_x": null,
       "overflow_y": null,
       "padding": null,
       "right": null,
       "top": null,
       "visibility": null,
       "width": null
      }
     },
     "c1106de1c2b042efaebc57d5246b8fff": {
      "model_module": "@jupyter-widgets/controls",
      "model_module_version": "1.5.0",
      "model_name": "DescriptionStyleModel",
      "state": {
       "_model_module": "@jupyter-widgets/controls",
       "_model_module_version": "1.5.0",
       "_model_name": "DescriptionStyleModel",
       "_view_count": null,
       "_view_module": "@jupyter-widgets/base",
       "_view_module_version": "1.2.0",
       "_view_name": "StyleView",
       "description_width": ""
      }
     },
     "c81f29aa63d34bed9327515ae5f0745c": {
      "model_module": "@jupyter-widgets/controls",
      "model_module_version": "1.5.0",
      "model_name": "HTMLModel",
      "state": {
       "_dom_classes": [],
       "_model_module": "@jupyter-widgets/controls",
       "_model_module_version": "1.5.0",
       "_model_name": "HTMLModel",
       "_view_count": null,
       "_view_module": "@jupyter-widgets/controls",
       "_view_module_version": "1.5.0",
       "_view_name": "HTMLView",
       "description": "",
       "description_tooltip": null,
       "layout": "IPY_MODEL_2c60bdbcd90b40c69a9aaa058194b18c",
       "placeholder": "​",
       "style": "IPY_MODEL_c1106de1c2b042efaebc57d5246b8fff",
       "value": "100%"
      }
     },
     "d4da45bde5e245aa9536b22cb78a28e3": {
      "model_module": "@jupyter-widgets/controls",
      "model_module_version": "1.5.0",
      "model_name": "FloatProgressModel",
      "state": {
       "_dom_classes": [],
       "_model_module": "@jupyter-widgets/controls",
       "_model_module_version": "1.5.0",
       "_model_name": "FloatProgressModel",
       "_view_count": null,
       "_view_module": "@jupyter-widgets/controls",
       "_view_module_version": "1.5.0",
       "_view_name": "ProgressView",
       "bar_style": "success",
       "description": "",
       "description_tooltip": null,
       "layout": "IPY_MODEL_b3ae8cd1db004f6488e687a96b7ec8cc",
       "max": 2,
       "min": 0,
       "orientation": "horizontal",
       "style": "IPY_MODEL_690dbfab35dc49e4b7429188f7711b3a",
       "value": 2
      }
     },
     "e131831a848446d6a6126c7188b1f1d1": {
      "model_module": "@jupyter-widgets/base",
      "model_module_version": "1.2.0",
      "model_name": "LayoutModel",
      "state": {
       "_model_module": "@jupyter-widgets/base",
       "_model_module_version": "1.2.0",
       "_model_name": "LayoutModel",
       "_view_count": null,
       "_view_module": "@jupyter-widgets/base",
       "_view_module_version": "1.2.0",
       "_view_name": "LayoutView",
       "align_content": null,
       "align_items": null,
       "align_self": null,
       "border": null,
       "bottom": null,
       "display": null,
       "flex": null,
       "flex_flow": null,
       "grid_area": null,
       "grid_auto_columns": null,
       "grid_auto_flow": null,
       "grid_auto_rows": null,
       "grid_column": null,
       "grid_gap": null,
       "grid_row": null,
       "grid_template_areas": null,
       "grid_template_columns": null,
       "grid_template_rows": null,
       "height": null,
       "justify_content": null,
       "justify_items": null,
       "left": null,
       "margin": null,
       "max_height": null,
       "max_width": null,
       "min_height": null,
       "min_width": null,
       "object_fit": null,
       "object_position": null,
       "order": null,
       "overflow": null,
       "overflow_x": null,
       "overflow_y": null,
       "padding": null,
       "right": null,
       "top": null,
       "visibility": null,
       "width": null
      }
     },
     "f6866fd1da9a42bdae5b873c0bc430ce": {
      "model_module": "@jupyter-widgets/controls",
      "model_module_version": "1.5.0",
      "model_name": "HTMLModel",
      "state": {
       "_dom_classes": [],
       "_model_module": "@jupyter-widgets/controls",
       "_model_module_version": "1.5.0",
       "_model_name": "HTMLModel",
       "_view_count": null,
       "_view_module": "@jupyter-widgets/controls",
       "_view_module_version": "1.5.0",
       "_view_name": "HTMLView",
       "description": "",
       "description_tooltip": null,
       "layout": "IPY_MODEL_b7298e262b294325868a0b4a6c2b4cf9",
       "placeholder": "​",
       "style": "IPY_MODEL_9d1ff943a38f4b3d81493f20516355b8",
       "value": " 2/2 [00:00&lt;00:00,  2.94it/s]"
      }
     }
    },
    "version_major": 2,
    "version_minor": 0
   }
  }
 },
 "nbformat": 4,
 "nbformat_minor": 2
}
