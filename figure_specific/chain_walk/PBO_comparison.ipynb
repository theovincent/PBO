{
 "cells": [
  {
   "cell_type": "markdown",
   "metadata": {},
   "source": [
    "# PBO on the chain walk environment\n",
    "\n",
    "## Define parameters"
   ]
  },
  {
   "cell_type": "code",
   "execution_count": 1,
   "metadata": {
    "execution": {
     "iopub.execute_input": "2022-07-28T11:47:33.722688Z",
     "iopub.status.busy": "2022-07-28T11:47:33.722374Z",
     "iopub.status.idle": "2022-07-28T11:47:34.660395Z",
     "shell.execute_reply": "2022-07-28T11:47:34.659736Z"
    }
   },
   "outputs": [
    {
     "name": "stderr",
     "output_type": "stream",
     "text": [
      "WARNING:absl:No GPU/TPU found, falling back to CPU. (Set TF_CPP_MIN_LOG_LEVEL=0 and rerun for more info.)\n"
     ]
    }
   ],
   "source": [
    "%load_ext autoreload\n",
    "%autoreload 2\n",
    "\n",
    "\n",
    "import jax\n",
    "import os\n",
    "\n",
    "\n",
    "# Search for an unused seed\n",
    "max_used_seed = 0\n",
    "for file in os.listdir(\"figures/data/PBO_comparison/\"):\n",
    "    if int(file.split(\"_\")[2]) > max_used_seed:\n",
    "        max_used_seed = int(file.split(\"_\")[2])\n",
    "max_used_seed\n",
    "\n",
    "# keys\n",
    "seed = max_used_seed + 1\n",
    "key = jax.random.PRNGKey(seed)\n",
    "env_key, key = jax.random.split(key)\n",
    "shuffle_key, q_network_key, random_weights_key, pbo_network_key = jax.random.split(key, 4)\n",
    "\n",
    "# Sample collection\n",
    "n_states = 20\n",
    "n_actions = 2\n",
    "n_repetitions = 10\n",
    "n_samples = n_states * n_actions * n_repetitions\n",
    "sucess_probability = 0.9\n",
    "gamma = 0.9\n",
    "\n",
    "# Weights collection\n",
    "n_weights = 100\n",
    "\n",
    "# Trainings\n",
    "max_bellman_iterations = 2\n",
    "training_steps = 300\n",
    "fitting_steps = 4\n",
    "batch_size_samples = n_states\n",
    "batch_size_weights = n_weights\n",
    "learning_rate = {\"first\": 0.01, \"last\": 0.00001, \"duration\": training_steps * fitting_steps * n_samples // batch_size_samples}\n",
    "add_infinity_linear = True\n",
    "add_infinity_non_linear = False\n",
    "\n",
    "# Visualisation of errors and performances\n",
    "max_bellman_iterations_validation = max_bellman_iterations + 20"
   ]
  },
  {
   "cell_type": "markdown",
   "metadata": {},
   "source": [
    "## Define environment"
   ]
  },
  {
   "cell_type": "code",
   "execution_count": 2,
   "metadata": {
    "execution": {
     "iopub.execute_input": "2022-07-28T11:47:34.663618Z",
     "iopub.status.busy": "2022-07-28T11:47:34.663240Z",
     "iopub.status.idle": "2022-07-28T11:47:35.058473Z",
     "shell.execute_reply": "2022-07-28T11:47:35.057805Z"
    }
   },
   "outputs": [],
   "source": [
    "import numpy as np\n",
    "from pbo.environment.chain_walk import ChainWalkEnv\n",
    "\n",
    "\n",
    "states = np.arange(n_states)\n",
    "actions = np.arange(n_actions)\n",
    "states_boxes = np.arange(n_states + 1) - 0.5\n",
    "actions_boxes = np.arange(n_actions + 1) - 0.5\n",
    "\n",
    "env = ChainWalkEnv(env_key, n_states, sucess_probability, gamma)"
   ]
  },
  {
   "cell_type": "markdown",
   "metadata": {},
   "source": [
    "## Collect samples"
   ]
  },
  {
   "cell_type": "markdown",
   "metadata": {},
   "source": [
    "### Samples on the mesh"
   ]
  },
  {
   "cell_type": "code",
   "execution_count": 3,
   "metadata": {
    "execution": {
     "iopub.execute_input": "2022-07-28T11:47:35.061722Z",
     "iopub.status.busy": "2022-07-28T11:47:35.061419Z",
     "iopub.status.idle": "2022-07-28T11:47:36.349727Z",
     "shell.execute_reply": "2022-07-28T11:47:36.349215Z"
    }
   },
   "outputs": [],
   "source": [
    "import jax.numpy as jnp\n",
    "from pbo.sample_collection.replay_buffer import ReplayBuffer\n",
    "\n",
    "\n",
    "replay_buffer = ReplayBuffer()\n",
    "\n",
    "for state in states:\n",
    "    for action in actions:\n",
    "        # Need to repeat the samples to capture the randomness\n",
    "        for _ in range(n_repetitions):\n",
    "            env.reset(jnp.array([state]))\n",
    "            next_state, reward, absorbing, _ = env.step(jnp.array([action]))\n",
    "\n",
    "            replay_buffer.add(jnp.array([state]), jnp.array([action]), reward, next_state, absorbing)\n",
    "\n",
    "replay_buffer.cast_to_jax_array()"
   ]
  },
  {
   "cell_type": "markdown",
   "metadata": {},
   "source": [
    "### Visualize samples"
   ]
  },
  {
   "cell_type": "code",
   "execution_count": 4,
   "metadata": {
    "execution": {
     "iopub.execute_input": "2022-07-28T11:47:36.352103Z",
     "iopub.status.busy": "2022-07-28T11:47:36.351612Z",
     "iopub.status.idle": "2022-07-28T11:47:37.119442Z",
     "shell.execute_reply": "2022-07-28T11:47:37.118993Z"
    }
   },
   "outputs": [
    {
     "data": {
      "image/png": "[encoded data removed]",
      "text/plain": [
       "<Figure size 432x288 with 2 Axes>"
      ]
     },
     "metadata": {
      "needs_background": "light"
     },
     "output_type": "display_data"
    }
   ],
   "source": [
    "from pbo.sample_collection.count_samples import count_samples\n",
    "from pbo.utils.two_dimesions_mesh import TwoDimesionsMesh\n",
    "\n",
    "\n",
    "samples_count, n_outside_boxes, _ = count_samples(replay_buffer.states, replay_buffer.actions, states_boxes, actions_boxes, replay_buffer.rewards)\n",
    "samples_visu_mesh = TwoDimesionsMesh(states, actions, sleeping_time=0)\n",
    "\n",
    "samples_visu_mesh.set_values(samples_count, zeros_to_nan=True)\n",
    "samples_visu_mesh.show(\n",
    "    f\"Samples repartition, \\n{int(100 * n_outside_boxes / n_samples)}% are outside the box.\"\n",
    ")"
   ]
  },
  {
   "cell_type": "markdown",
   "metadata": {},
   "source": [
    "## Optimal Q function"
   ]
  },
  {
   "cell_type": "code",
   "execution_count": 5,
   "metadata": {
    "execution": {
     "iopub.execute_input": "2022-07-28T11:47:37.121301Z",
     "iopub.status.busy": "2022-07-28T11:47:37.121130Z",
     "iopub.status.idle": "2022-07-28T11:47:37.416502Z",
     "shell.execute_reply": "2022-07-28T11:47:37.416053Z"
    }
   },
   "outputs": [
    {
     "data": {
      "image/png": "[encoded data removed]",
      "text/plain": [
       "<Figure size 432x288 with 2 Axes>"
      ]
     },
     "metadata": {
      "needs_background": "light"
     },
     "output_type": "display_data"
    }
   ],
   "source": [
    "optimal_q = env.optimal_Q_mesh()\n",
    "optimal_v = optimal_q.max(axis=1)\n",
    "\n",
    "q_visu_mesh = TwoDimesionsMesh(states, actions, 0)\n",
    "\n",
    "q_visu_mesh.set_values(optimal_q)\n",
    "q_visu_mesh.show(\"Optimal q function\")"
   ]
  },
  {
   "cell_type": "markdown",
   "metadata": {},
   "source": [
    "## Optimal PBO"
   ]
  },
  {
   "cell_type": "code",
   "execution_count": 6,
   "metadata": {
    "execution": {
     "iopub.execute_input": "2022-07-28T11:47:37.418204Z",
     "iopub.status.busy": "2022-07-28T11:47:37.418074Z",
     "iopub.status.idle": "2022-07-28T11:47:52.953711Z",
     "shell.execute_reply": "2022-07-28T11:47:52.953238Z"
    }
   },
   "outputs": [
    {
     "name": "stdout",
     "output_type": "stream",
     "text": [
      "[0 0 0 0 0 0 0 0 0 0 0 0 0 0 0 0 0 0 0 0]\n",
      "[0 0 0 0 0 0 0 0 0 0 0 0 0 0 0 0 0 0 1 0]\n",
      "[0 0 0 0 0 0 0 0 0 0 0 0 0 0 0 0 0 1 1 0]\n",
      "[0 0 0 0 0 0 0 0 0 0 0 0 0 0 0 0 1 1 1 0]\n",
      "[0 0 0 0 0 0 0 0 0 0 0 0 0 0 0 1 1 1 1 0]\n",
      "[0 0 0 0 0 0 0 0 0 0 0 0 0 0 1 1 1 1 1 0]\n",
      "[0 0 0 0 0 0 0 0 0 0 0 0 0 1 1 1 1 1 1 0]\n",
      "[0 0 0 0 0 0 0 0 0 0 0 0 1 1 1 1 1 1 1 0]\n",
      "[0 0 0 0 0 0 0 0 0 0 0 1 1 1 1 1 1 1 1 0]\n",
      "[0 0 0 0 0 0 0 0 0 0 1 1 1 1 1 1 1 1 1 0]\n",
      "[0 0 0 0 0 0 0 0 0 0 1 1 1 1 1 1 1 1 1 0]\n",
      "[0 0 0 0 0 0 0 0 0 0 1 1 1 1 1 1 1 1 1 0]\n",
      "[0 0 0 0 0 0 0 0 0 0 1 1 1 1 1 1 1 1 1 0]\n",
      "[0 0 0 0 0 0 0 0 0 0 1 1 1 1 1 1 1 1 1 0]\n",
      "[0 0 0 0 0 0 0 0 0 0 1 1 1 1 1 1 1 1 1 0]\n",
      "[0 0 0 0 0 0 0 0 0 0 1 1 1 1 1 1 1 1 1 0]\n",
      "[0 0 0 0 0 0 0 0 0 0 1 1 1 1 1 1 1 1 1 0]\n",
      "[0 0 0 0 0 0 0 0 0 0 1 1 1 1 1 1 1 1 1 0]\n",
      "[0 0 0 0 0 0 0 0 0 0 1 1 1 1 1 1 1 1 1 0]\n",
      "[0 0 0 0 0 0 0 0 0 0 1 1 1 1 1 1 1 1 1 0]\n",
      "[0 0 0 0 0 0 0 0 0 0 1 1 1 1 1 1 1 1 1 0]\n",
      "[0 0 0 0 0 0 0 0 0 0 1 1 1 1 1 1 1 1 1 0]\n"
     ]
    }
   ],
   "source": [
    "from tqdm.notebook import tqdm\n",
    "\n",
    "from pbo.sample_collection.dataloader import SampleDataLoader\n",
    "from pbo.networks.learnable_q import TableQ\n",
    "from pbo.networks.learnable_pbo import TabularPBO\n",
    "\n",
    "\n",
    "q = TableQ(\n",
    "    1,\n",
    "    n_states,\n",
    "    1,\n",
    "    n_actions,\n",
    "    gamma,\n",
    "    q_network_key,\n",
    "    None,\n",
    "    random_weights_key,\n",
    "    None,\n",
    "    zero_initializer=True,\n",
    ")\n",
    "validation_initial_weight = q.to_weights(q.params)\n",
    "\n",
    "pbo_optimal = TabularPBO(q, max_bellman_iterations, False, pbo_network_key, learning_rate, n_actions)\n",
    "pbo_optimal.params[\"TabularPBONet/linear\"][\"w\"] = gamma * env.transition_proba.T\n",
    "pbo_optimal.params[\"TabularPBONet/linear\"][\"b\"] = env.R.T\n",
    "\n",
    "training_losses_optimal = np.zeros(max_bellman_iterations_validation)\n",
    "validation_losses_optimal = np.zeros(max_bellman_iterations_validation)\n",
    "value_functions_optimal = np.zeros((max_bellman_iterations_validation, n_states))\n",
    "\n",
    "\n",
    "batch_iterated_weights = validation_initial_weight.reshape((1, -1))\n",
    "for bellman_iteration in range(max_bellman_iterations_validation):\n",
    "    q_i = q.discretize(batch_iterated_weights, states, actions)[0]\n",
    "    batch_iterated_weights = pbo_optimal(pbo_optimal.params, batch_iterated_weights)\n",
    "    q_i_plus_1 = q.discretize(batch_iterated_weights, states, actions)[0]\n",
    "    policy_q = q_i_plus_1.argmax(axis=1)\n",
    "\n",
    "    training_losses_optimal[bellman_iteration] = jnp.abs(env.apply_bellman_operator(q_i) - q_i_plus_1).mean()\n",
    "    validation_losses_optimal[bellman_iteration] = jnp.abs(optimal_q - q_i_plus_1).mean()\n",
    "    value_functions_optimal[bellman_iteration] = env.value_function(policy_q)\n",
    "    print(policy_q)"
   ]
  },
  {
   "cell_type": "markdown",
   "metadata": {},
   "source": [
    "## Collect weights"
   ]
  },
  {
   "cell_type": "code",
   "execution_count": 7,
   "metadata": {
    "execution": {
     "iopub.execute_input": "2022-07-28T11:47:52.955483Z",
     "iopub.status.busy": "2022-07-28T11:47:52.955346Z",
     "iopub.status.idle": "2022-07-28T11:47:53.481992Z",
     "shell.execute_reply": "2022-07-28T11:47:53.481475Z"
    }
   },
   "outputs": [],
   "source": [
    "from pbo.weights_collection.weights_buffer import WeightsBuffer\n",
    "\n",
    "\n",
    "weights_buffer = WeightsBuffer()\n",
    "\n",
    "# Add initial validation weights\n",
    "weights_buffer.add(validation_initial_weight)\n",
    "\n",
    "# Add randow weights\n",
    "q_random = TableQ(\n",
    "    1,\n",
    "    n_states,\n",
    "    1,\n",
    "    n_actions,\n",
    "    gamma,\n",
    "    q_network_key,\n",
    "    None,\n",
    "    random_weights_key,\n",
    "    learning_rate=None,\n",
    "    zero_initializer=False,\n",
    ")\n",
    "\n",
    "while len(weights_buffer) < n_weights:\n",
    "    weights = q_random.random_init_weights()\n",
    "    weights_buffer.add(weights)\n",
    "\n",
    "weights_buffer.cast_to_jax_array()"
   ]
  },
  {
   "cell_type": "markdown",
   "metadata": {},
   "source": [
    "## Train non linear PBO"
   ]
  },
  {
   "cell_type": "code",
   "execution_count": 8,
   "metadata": {
    "execution": {
     "iopub.execute_input": "2022-07-28T11:47:53.483859Z",
     "iopub.status.busy": "2022-07-28T11:47:53.483727Z",
     "iopub.status.idle": "2022-07-28T11:48:10.508661Z",
     "shell.execute_reply": "2022-07-28T11:48:10.508272Z"
    }
   },
   "outputs": [
    {
     "data": {
      "application/vnd.jupyter.widget-view+json": {
       "model_id": "2856154d8f9d474abb9418e8b29850d8",
       "version_major": 2,
       "version_minor": 0
      },
      "text/plain": [
       "  0%|          | 0/300 [00:00<?, ?it/s]"
      ]
     },
     "metadata": {},
     "output_type": "display_data"
    },
    {
     "name": "stdout",
     "output_type": "stream",
     "text": [
      "[0 1 0 1 1 1 1 0 0 0 1 1 0 0 0 0 0 1 0 1]\n",
      "[0 0 0 1 1 1 0 0 0 0 1 1 0 0 0 0 1 1 1 1]\n",
      "[0 0 0 1 1 1 0 0 0 0 1 1 0 0 0 0 1 1 1 1]\n",
      "[0 0 0 0 1 1 0 0 1 0 0 1 0 0 0 0 1 1 1 1]\n",
      "[0 0 0 0 0 1 0 0 1 0 0 1 0 1 0 1 1 1 1 0]\n",
      "[0 0 0 0 0 0 0 1 1 0 0 0 0 1 1 1 1 1 1 0]\n",
      "[0 0 0 0 0 0 0 1 1 0 0 0 0 1 1 1 1 1 1 0]\n",
      "[0 0 0 0 0 0 0 0 1 0 0 0 1 1 1 1 1 1 1 0]\n",
      "[0 0 0 0 0 0 0 0 0 0 0 1 1 1 1 1 1 1 1 0]\n",
      "[0 0 0 0 0 0 0 0 0 0 1 1 1 1 1 1 1 1 1 0]\n",
      "[0 0 0 0 0 0 0 0 0 0 1 1 1 1 1 1 1 1 1 0]\n",
      "[0 0 0 0 0 0 0 0 0 0 1 1 1 1 1 1 1 1 1 0]\n",
      "[0 0 0 0 0 0 0 0 0 0 1 1 1 1 1 1 1 1 1 0]\n",
      "[0 0 0 0 0 0 0 0 0 0 1 1 1 1 1 1 1 1 1 0]\n",
      "[0 0 0 0 0 0 0 0 0 0 1 1 1 1 1 1 1 1 1 0]\n",
      "[0 0 0 0 0 0 0 0 0 0 1 1 1 1 1 1 1 1 1 0]\n",
      "[0 0 0 0 0 0 0 0 0 0 1 1 1 1 1 1 1 1 1 0]\n",
      "[0 0 0 0 0 0 0 0 0 0 1 1 1 1 1 1 1 1 1 0]\n",
      "[0 0 0 0 0 0 0 0 0 0 1 1 1 1 1 1 1 1 1 0]\n",
      "[0 0 0 0 0 0 0 0 0 0 1 1 1 1 1 1 1 1 1 0]\n",
      "[0 0 0 0 0 0 0 0 0 0 1 1 1 1 1 1 1 1 1 0]\n",
      "[0 0 0 0 0 0 0 0 0 0 1 1 1 1 1 1 1 1 1 0]\n"
     ]
    }
   ],
   "source": [
    "from tqdm.notebook import tqdm\n",
    "\n",
    "from pbo.sample_collection.dataloader import SampleDataLoader\n",
    "from pbo.weights_collection.dataloader import WeightsDataLoader\n",
    "from pbo.networks.learnable_pbo import TabularPBO\n",
    "\n",
    "\n",
    "data_loader_samples = SampleDataLoader(replay_buffer, batch_size_samples, shuffle_key)\n",
    "data_loader_weights = WeightsDataLoader(weights_buffer, batch_size_weights, shuffle_key)\n",
    "pbo_non_linear = TabularPBO(q_random, max_bellman_iterations, add_infinity_non_linear, pbo_network_key, learning_rate, n_actions)\n",
    "importance_iteration = jnp.ones(max_bellman_iterations + 1)\n",
    "importance_iteration = importance_iteration.at[-1].set(0)\n",
    "\n",
    "for _ in tqdm(range(training_steps)):\n",
    "    params_target = pbo_non_linear.params\n",
    "\n",
    "    for _ in range(fitting_steps):\n",
    "        data_loader_weights.shuffle()\n",
    "        for batch_weights in data_loader_weights:\n",
    "            data_loader_samples.shuffle()\n",
    "            for batch_samples in data_loader_samples:\n",
    "                pbo_non_linear.params, pbo_non_linear.optimizer_state, _ = pbo_non_linear.learn_on_batch(\n",
    "                    pbo_non_linear.params, params_target, pbo_non_linear.optimizer_state, batch_weights, batch_samples, importance_iteration\n",
    "                )\n",
    "\n",
    "training_losses_non_linear = np.zeros(max_bellman_iterations_validation)\n",
    "validation_losses_non_linear = np.zeros(max_bellman_iterations_validation)\n",
    "value_functions_non_linear = np.zeros((max_bellman_iterations_validation, n_states))\n",
    "\n",
    "batch_iterated_weights = validation_initial_weight.reshape((1, -1))\n",
    "for bellman_iteration in range(max_bellman_iterations_validation):\n",
    "    q_i = q.discretize(batch_iterated_weights, states, actions)[0]\n",
    "    batch_iterated_weights = pbo_non_linear(pbo_non_linear.params, batch_iterated_weights)\n",
    "    q_i_plus_1 = q.discretize(batch_iterated_weights, states, actions)[0]\n",
    "    policy_q = q_i_plus_1.argmax(axis=1)\n",
    "\n",
    "    training_losses_non_linear[bellman_iteration] = jnp.abs(env.apply_bellman_operator(q_i) - q_i_plus_1).mean()\n",
    "    validation_losses_non_linear[bellman_iteration] = jnp.abs(optimal_q - q_i_plus_1).mean()\n",
    "    value_functions_non_linear[bellman_iteration] = env.value_function(policy_q)\n",
    "    print(policy_q)"
   ]
  },
  {
   "cell_type": "markdown",
   "metadata": {},
   "source": [
    "## Train linear PBO"
   ]
  },
  {
   "cell_type": "code",
   "execution_count": 9,
   "metadata": {
    "execution": {
     "iopub.execute_input": "2022-07-28T11:48:10.510407Z",
     "iopub.status.busy": "2022-07-28T11:48:10.510265Z",
     "iopub.status.idle": "2022-07-28T11:48:28.256173Z",
     "shell.execute_reply": "2022-07-28T11:48:28.255708Z"
    }
   },
   "outputs": [
    {
     "data": {
      "application/vnd.jupyter.widget-view+json": {
       "model_id": "e7416718ee2b445191c9f2f946166bc7",
       "version_major": 2,
       "version_minor": 0
      },
      "text/plain": [
       "  0%|          | 0/300 [00:00<?, ?it/s]"
      ]
     },
     "metadata": {},
     "output_type": "display_data"
    },
    {
     "name": "stdout",
     "output_type": "stream",
     "text": [
      "[0 1 1 0 1 1 1 1 1 1 1 1 0 0 1 0 0 0 0 1]\n",
      "[1 0 1 0 0 0 0 1 1 1 0 0 0 0 0 1 1 1 1 1]\n",
      "[1 0 0 0 0 0 1 1 0 1 0 1 0 0 0 1 1 1 1 1]\n",
      "[1 0 0 0 0 0 1 1 0 0 0 1 0 1 0 1 1 1 1 1]\n",
      "[1 0 0 0 0 0 0 1 0 0 0 1 1 1 1 1 1 1 1 1]\n",
      "[1 0 0 0 0 0 0 1 0 0 0 1 1 1 1 1 1 1 1 1]\n",
      "[1 0 0 0 0 0 0 1 0 0 0 1 1 1 1 1 1 1 1 1]\n",
      "[1 0 0 0 0 0 0 0 0 0 0 1 1 1 1 1 1 1 1 1]\n",
      "[1 0 0 0 0 0 0 0 0 0 0 1 1 1 1 1 1 1 1 1]\n",
      "[1 0 0 0 0 0 0 0 0 0 0 1 1 1 1 1 1 1 1 1]\n",
      "[1 0 0 0 0 0 0 0 0 0 0 1 1 1 1 1 1 1 1 1]\n",
      "[1 0 0 0 0 0 0 0 0 0 0 1 1 1 1 1 1 1 1 1]\n",
      "[1 0 0 0 0 0 0 0 0 0 1 1 1 1 1 1 1 1 1 1]\n",
      "[1 0 0 0 0 0 0 0 0 0 1 1 1 1 1 1 1 1 1 1]\n",
      "[1 0 0 0 0 0 0 0 0 0 1 1 1 1 1 1 1 1 1 1]\n",
      "[1 0 0 0 0 0 0 0 0 0 1 1 1 1 1 1 1 1 1 1]\n",
      "[1 0 0 0 0 0 0 0 0 0 1 1 1 1 1 1 1 1 1 1]\n",
      "[1 0 0 0 0 0 0 0 0 0 1 1 1 1 1 1 1 1 1 1]\n",
      "[1 0 0 0 0 0 0 0 0 0 1 1 1 1 1 1 1 1 1 1]\n",
      "[1 0 0 0 0 0 0 0 0 0 1 1 1 1 1 1 1 1 1 1]\n",
      "[1 0 0 0 0 0 0 0 0 0 1 1 1 1 1 1 1 1 1 1]\n",
      "[1 0 0 0 0 0 0 0 0 0 1 1 1 1 1 1 1 1 1 1]\n"
     ]
    }
   ],
   "source": [
    "from tqdm.notebook import tqdm\n",
    "\n",
    "from pbo.sample_collection.dataloader import SampleDataLoader\n",
    "from pbo.weights_collection.dataloader import WeightsDataLoader\n",
    "from pbo.networks.learnable_pbo import LinearPBO\n",
    "\n",
    "\n",
    "data_loader_samples = SampleDataLoader(replay_buffer, batch_size_samples, shuffle_key)\n",
    "data_loader_weights = WeightsDataLoader(weights_buffer, batch_size_weights, shuffle_key)\n",
    "pbo = LinearPBO(q, max_bellman_iterations, add_infinity_linear, pbo_network_key, learning_rate)\n",
    "importance_iteration = jnp.ones(max_bellman_iterations + 1)\n",
    "\n",
    "\n",
    "for _ in tqdm(range(training_steps)):\n",
    "    params_target = pbo.params\n",
    "    for _ in range(fitting_steps):\n",
    "        data_loader_weights.shuffle()\n",
    "        for batch_weights in data_loader_weights:\n",
    "            data_loader_samples.shuffle()\n",
    "            for batch_samples in data_loader_samples:\n",
    "                pbo.params, pbo.optimizer_state, _ = pbo.learn_on_batch(\n",
    "                    pbo.params, params_target, pbo.optimizer_state, batch_weights, batch_samples, importance_iteration\n",
    "                )\n",
    "\n",
    "training_losses = np.zeros(max_bellman_iterations_validation)\n",
    "validation_losses = np.zeros(max_bellman_iterations_validation)\n",
    "value_functions = np.zeros((max_bellman_iterations_validation, n_states))\n",
    "\n",
    "batch_iterated_weights = validation_initial_weight.reshape((1, -1))\n",
    "for bellman_iteration in range(max_bellman_iterations_validation):\n",
    "    q_i = q.discretize(batch_iterated_weights, states, actions)[0]\n",
    "    batch_iterated_weights = pbo(pbo.params, batch_iterated_weights)\n",
    "    q_i_plus_1 = q.discretize(batch_iterated_weights, states, actions)[0]\n",
    "    policy_q = q_i_plus_1.argmax(axis=1)\n",
    "\n",
    "    training_losses[bellman_iteration] = jnp.abs(env.apply_bellman_operator(q_i) - q_i_plus_1).mean()\n",
    "    validation_losses[bellman_iteration] = jnp.abs(optimal_q - q_i_plus_1).mean()\n",
    "    value_functions[bellman_iteration] = env.value_function(policy_q)\n",
    "    print(policy_q)\n",
    "\n",
    "q_pbo_fixed_point = q.discretize(pbo.fixed_point(pbo.params).reshape(1, -1), states, actions)[0]\n",
    "policy_fixed_point = q_pbo_fixed_point.argmax(axis=1)\n",
    "training_loss_pbo_fixed_point = jnp.abs(env.apply_bellman_operator(q_pbo_fixed_point) - q_pbo_fixed_point).mean()\n",
    "validation_loss_pbo_fixed_point = jnp.abs(optimal_q - q_pbo_fixed_point).mean()\n",
    "value_function_pbo_fixed_point = env.value_function(policy_fixed_point)"
   ]
  },
  {
   "cell_type": "markdown",
   "metadata": {},
   "source": [
    "## Save data"
   ]
  },
  {
   "cell_type": "code",
   "execution_count": 10,
   "metadata": {
    "execution": {
     "iopub.execute_input": "2022-07-28T11:48:28.257921Z",
     "iopub.status.busy": "2022-07-28T11:48:28.257788Z",
     "iopub.status.idle": "2022-07-28T11:48:28.292531Z",
     "shell.execute_reply": "2022-07-28T11:48:28.292048Z"
    }
   },
   "outputs": [],
   "source": [
    "np.save(f\"figures/data/PBO_comparison/{max_bellman_iterations}_Q_{seed}_linear.npy\", validation_losses)\n",
    "np.save(f\"figures/data/PBO_comparison/{max_bellman_iterations}_Q_{seed}_max_linear.npy\", validation_losses_non_linear)\n",
    "np.save(f\"figures/data/PBO_comparison/{max_bellman_iterations}_Q_{seed}_optimal.npy\", validation_losses_optimal)\n",
    "np.save(f\"figures/data/PBO_comparison/{max_bellman_iterations}_Q_{seed}_linear_fixed_point.npy\", validation_loss_pbo_fixed_point)\n",
    "\n",
    "np.save(f\"figures/data/PBO_comparison/{max_bellman_iterations}_BE_{seed}_linear.npy\", training_losses)\n",
    "np.save(f\"figures/data/PBO_comparison/{max_bellman_iterations}_BE_{seed}_max_linear.npy\", training_losses_non_linear)\n",
    "np.save(f\"figures/data/PBO_comparison/{max_bellman_iterations}_BE_{seed}_optimal.npy\", training_losses_optimal)\n",
    "np.save(f\"figures/data/PBO_comparison/{max_bellman_iterations}_BE_{seed}_linear_fixed_point.npy\", training_loss_pbo_fixed_point)\n",
    "\n",
    "np.save(f\"figures/data/PBO_comparison/{max_bellman_iterations}_V_{seed}_linear.npy\", np.abs(value_functions - optimal_v).mean(axis=1))\n",
    "np.save(f\"figures/data/PBO_comparison/{max_bellman_iterations}_V_{seed}_max_linear.npy\", np.abs(value_functions_non_linear - optimal_v).mean(axis=1))\n",
    "np.save(f\"figures/data/PBO_comparison/{max_bellman_iterations}_V_{seed}_optimal.npy\", np.abs(value_functions_optimal - optimal_v).mean(axis=1))\n",
    "np.save(f\"figures/data/PBO_comparison/{max_bellman_iterations}_V_{seed}_linear_fixed_point.npy\", np.abs(value_function_pbo_fixed_point - optimal_v).mean())"
   ]
  },
  {
   "cell_type": "markdown",
   "metadata": {},
   "source": [
    "## Visualize errors in Q functions"
   ]
  },
  {
   "cell_type": "code",
   "execution_count": 11,
   "metadata": {
    "execution": {
     "iopub.execute_input": "2022-07-28T11:48:28.294426Z",
     "iopub.status.busy": "2022-07-28T11:48:28.294293Z",
     "iopub.status.idle": "2022-07-28T11:48:28.481523Z",
     "shell.execute_reply": "2022-07-28T11:48:28.481094Z"
    }
   },
   "outputs": [
    {
     "data": {
      "image/png": "[encoded data removed]",
      "text/plain": [
       "<Figure size 432x288 with 1 Axes>"
      ]
     },
     "metadata": {
      "needs_background": "light"
     },
     "output_type": "display_data"
    }
   ],
   "source": [
    "import matplotlib.pyplot as plt \n",
    "\n",
    "iterations = range(1, max_bellman_iterations_validation + 1)\n",
    "\n",
    "plt.plot(iterations, validation_losses, label=\"pbo linear\", color=\"green\")\n",
    "plt.plot(iterations, validation_losses_non_linear, label=\"pbo max-linear\", color=\"grey\")\n",
    "plt.plot(iterations, validation_losses_optimal, label=\"pbo optimal\", color=\"black\")\n",
    "plt.vlines(max_bellman_iterations, 0, np.max(validation_losses_non_linear), color=\"black\", linestyle=\"--\")\n",
    "plt.hlines(validation_loss_pbo_fixed_point, 0, max_bellman_iterations_validation, color=\"green\", linestyle=\"--\", label=\"pbo linear fixed point\")\n",
    "\n",
    "plt.xticks(iterations)\n",
    "plt.xlabel(\"iterations\")\n",
    "\n",
    "plt.title(r\"$|| Q^* - Q_i ||_1$\")\n",
    "_ = plt.legend()"
   ]
  },
  {
   "cell_type": "code",
   "execution_count": 12,
   "metadata": {
    "execution": {
     "iopub.execute_input": "2022-07-28T11:48:28.483193Z",
     "iopub.status.busy": "2022-07-28T11:48:28.483057Z",
     "iopub.status.idle": "2022-07-28T11:48:28.650951Z",
     "shell.execute_reply": "2022-07-28T11:48:28.650527Z"
    }
   },
   "outputs": [
    {
     "data": {
      "image/png": "[encoded data removed]",
      "text/plain": [
       "<Figure size 432x288 with 1 Axes>"
      ]
     },
     "metadata": {
      "needs_background": "light"
     },
     "output_type": "display_data"
    }
   ],
   "source": [
    "plt.plot(iterations, training_losses, label=\"pbo linear\", color=\"green\")\n",
    "plt.plot(iterations, training_losses_non_linear, label=\"pbo max-linear\", color=\"grey\")\n",
    "plt.plot(iterations, training_losses_optimal, label=\"pbo optimal\", color=\"black\")\n",
    "plt.vlines(max_bellman_iterations, 0, np.maximum(np.max(training_losses), np.max(training_losses_non_linear)), color=\"black\", linestyle=\"--\")\n",
    "plt.hlines(training_loss_pbo_fixed_point, 0, max_bellman_iterations_validation, color=\"green\", linestyle=\"--\", label=\"pbo linear fixed point\")\n",
    "\n",
    "plt.xticks(iterations)\n",
    "plt.xlabel(\"iterations\")\n",
    "\n",
    "plt.title(r\"$|| \\Gamma^*Q_{i-1} - Q_i ||_1$\")\n",
    "_ = plt.legend()"
   ]
  },
  {
   "cell_type": "markdown",
   "metadata": {},
   "source": [
    "## Understanding the learning process"
   ]
  },
  {
   "cell_type": "code",
   "execution_count": 13,
   "metadata": {
    "execution": {
     "iopub.execute_input": "2022-07-28T11:48:28.652682Z",
     "iopub.status.busy": "2022-07-28T11:48:28.652547Z",
     "iopub.status.idle": "2022-07-28T11:48:30.083645Z",
     "shell.execute_reply": "2022-07-28T11:48:30.083180Z"
    }
   },
   "outputs": [
    {
     "name": "stdout",
     "output_type": "stream",
     "text": [
      "Probability transition:\n",
      "Empirical vs Theoretical -  0.7348469\n",
      "Empirical vs Learnt -  0.0035161152\n",
      "Theoretical vs Learnt -  0.73473364\n",
      "\n",
      "Reward:\n",
      "Empirical vs Theoretical -  0.0\n",
      "Empirical vs Learnt -  0.0014118942\n",
      "Theoretical vs Learnt -  0.0014118942\n"
     ]
    }
   ],
   "source": [
    "empirical_transition_proba = np.zeros((n_states, n_states * n_actions))\n",
    "empirical_reward = np.zeros(n_states * n_actions)\n",
    "\n",
    "for idx_sample in range(len(replay_buffer.states)):\n",
    "    state = replay_buffer.states[idx_sample, 0]\n",
    "    action = replay_buffer.actions[idx_sample, 0]\n",
    "    reward = replay_buffer.rewards[idx_sample, 0]\n",
    "    next_state = replay_buffer.next_states[idx_sample, 0]\n",
    "\n",
    "    empirical_transition_proba[next_state, state * n_actions + action] += 1\n",
    "    empirical_reward[state * n_actions + action] += reward\n",
    "\n",
    "empirical_transition_proba /= n_repetitions\n",
    "empirical_reward /= n_repetitions\n",
    "\n",
    "print(f\"Probability transition:\")\n",
    "print(\"Empirical vs Theoretical - \", np.linalg.norm(empirical_transition_proba - env.transition_proba.T))\n",
    "print(\"Empirical vs Learnt - \", np.linalg.norm(empirical_transition_proba - pbo_non_linear.params[\"TabularPBONet/linear\"][\"w\"] / gamma))\n",
    "print(\"Theoretical vs Learnt - \", np.linalg.norm(env.transition_proba.T - pbo_non_linear.params[\"TabularPBONet/linear\"][\"w\"] / gamma))\n",
    "print(\"\\nReward:\")\n",
    "print(\"Empirical vs Theoretical - \", np.linalg.norm(empirical_reward - env.R.T))\n",
    "print(\"Empirical vs Learnt - \", np.linalg.norm(empirical_reward - pbo_non_linear.params[\"TabularPBONet/linear\"][\"b\"]))\n",
    "print(\"Theoretical vs Learnt - \", np.linalg.norm(env.R.T - pbo_non_linear.params[\"TabularPBONet/linear\"][\"b\"]))\n"
   ]
  },
  {
   "cell_type": "code",
   "execution_count": 14,
   "metadata": {
    "execution": {
     "iopub.execute_input": "2022-07-28T11:48:30.085332Z",
     "iopub.status.busy": "2022-07-28T11:48:30.085198Z",
     "iopub.status.idle": "2022-07-28T11:48:30.143667Z",
     "shell.execute_reply": "2022-07-28T11:48:30.143196Z"
    }
   },
   "outputs": [
    {
     "name": "stdout",
     "output_type": "stream",
     "text": [
      "Probability transition:\n",
      "Empirical vs Theoretical -  0.7348469\n",
      "Empirical vs Learnt -  6.153495\n",
      "Theoretical vs Learnt -  6.1063733\n",
      "\n",
      "Reward:\n",
      "Empirical vs Theoretical -  0.0\n",
      "Empirical vs Learnt -  2.284005\n",
      "Theoretical vs Learnt -  2.284005\n",
      "\n",
      "Contracting factor: 3.0831437\n"
     ]
    }
   ],
   "source": [
    "optimal_transition_proba = np.zeros((n_states, n_states * n_actions))\n",
    "\n",
    "for state in range(n_states):\n",
    "    optimal_transition_proba[state, state * n_actions + 0] = 1 if state < n_states / 2 else 0\n",
    "    optimal_transition_proba[state, state * n_actions + 1] = 0 if state < n_states / 2 else 1\n",
    "\n",
    "print(f\"Probability transition:\")\n",
    "print(\"Empirical vs Theoretical - \", np.linalg.norm(empirical_transition_proba.T @ optimal_transition_proba - env.transition_proba @ optimal_transition_proba))\n",
    "print(\"Empirical vs Learnt - \", np.linalg.norm(empirical_transition_proba.T @ optimal_transition_proba - pbo.params[\"LinearPBONet/linear\"][\"w\"] / gamma))\n",
    "print(\"Theoretical vs Learnt - \", np.linalg.norm(env.transition_proba @ optimal_transition_proba - pbo.params[\"LinearPBONet/linear\"][\"w\"] / gamma))\n",
    "print(\"\\nReward:\")\n",
    "print(\"Empirical vs Theoretical - \", np.linalg.norm(empirical_reward - env.R.T))\n",
    "print(\"Empirical vs Learnt - \", np.linalg.norm(empirical_reward - pbo.params[\"LinearPBONet/linear\"][\"b\"]))\n",
    "print(\"Theoretical vs Learnt - \", np.linalg.norm(env.R.T - pbo.params[\"LinearPBONet/linear\"][\"b\"]))\n",
    "print(\"\\nContracting factor:\", pbo.contracting_factor())\n"
   ]
  },
  {
   "cell_type": "markdown",
   "metadata": {},
   "source": [
    "## Visualize errors in preformances"
   ]
  },
  {
   "cell_type": "code",
   "execution_count": 15,
   "metadata": {
    "execution": {
     "iopub.execute_input": "2022-07-28T11:48:30.145405Z",
     "iopub.status.busy": "2022-07-28T11:48:30.145268Z",
     "iopub.status.idle": "2022-07-28T11:48:30.268725Z",
     "shell.execute_reply": "2022-07-28T11:48:30.268271Z"
    }
   },
   "outputs": [
    {
     "data": {
      "image/png": "[encoded data removed]",
      "text/plain": [
       "<Figure size 432x288 with 1 Axes>"
      ]
     },
     "metadata": {
      "needs_background": "light"
     },
     "output_type": "display_data"
    }
   ],
   "source": [
    "plt.plot(iterations, np.abs(value_functions - optimal_v).mean(axis=1), label=\"pbo linear\", color=\"green\")\n",
    "plt.plot(iterations, np.abs(value_functions_non_linear - optimal_v).mean(axis=1), label=\"pbo max-linear\", color=\"grey\")\n",
    "plt.plot(iterations, np.abs(value_functions_optimal - optimal_v).mean(axis=1), label=\"pbo optimal\", color=\"black\")\n",
    "plt.vlines(max_bellman_iterations, 0, np.abs(value_functions - optimal_v).mean(axis=1).max(), color=\"black\", linestyle=\"--\")\n",
    "plt.hlines(np.abs(value_function_pbo_fixed_point - optimal_v).mean(), 0, max_bellman_iterations_validation, color=\"green\", linestyle=\"--\", label=\"pbo linear fixed point\")\n",
    "\n",
    "plt.xticks(iterations)\n",
    "plt.ylim(0)\n",
    "plt.xlabel(\"iterations\")\n",
    "\n",
    "plt.title(r\"$E[| V^*(s) - V^{\\pi}(s) |]$\")\n",
    "_ = plt.legend()"
   ]
  }
 ],
 "metadata": {
  "interpreter": {
   "hash": "1432d270abb514d077d760a4c8d2edd41cc0752b595b0513fca29951003961c1"
  },
  "kernelspec": {
   "display_name": "Python 3.8.10 ('env': venv)",
   "language": "python",
   "name": "python3"
  },
  "language_info": {
   "codemirror_mode": {
    "name": "ipython",
    "version": 3
   },
   "file_extension": ".py",
   "mimetype": "text/x-python",
   "name": "python",
   "nbconvert_exporter": "python",
   "pygments_lexer": "ipython3",
   "version": "3.8.10"
  },
  "widgets": {
   "application/vnd.jupyter.widget-state+json": {
    "state": {
     "0c841c58d0604132b98c1687eddc13d9": {
      "model_module": "@jupyter-widgets/controls",
      "model_module_version": "1.5.0",
      "model_name": "DescriptionStyleModel",
      "state": {
       "_model_module": "@jupyter-widgets/controls",
       "_model_module_version": "1.5.0",
       "_model_name": "DescriptionStyleModel",
       "_view_count": null,
       "_view_module": "@jupyter-widgets/base",
       "_view_module_version": "1.2.0",
       "_view_name": "StyleView",
       "description_width": ""
      }
     },
     "1f63af08f51c4ce6b947b1b07c10f019": {
      "model_module": "@jupyter-widgets/controls",
      "model_module_version": "1.5.0",
      "model_name": "HTMLModel",
      "state": {
       "_dom_classes": [],
       "_model_module": "@jupyter-widgets/controls",
       "_model_module_version": "1.5.0",
       "_model_name": "HTMLModel",
       "_view_count": null,
       "_view_module": "@jupyter-widgets/controls",
       "_view_module_version": "1.5.0",
       "_view_name": "HTMLView",
       "description": "",
       "description_tooltip": null,
       "layout": "IPY_MODEL_6ba509c492084559ba74ce99392d457b",
       "placeholder": "​",
       "style": "IPY_MODEL_4b95fc4cf64d4a7a978f0e30fc7d3045",
       "value": "100%"
      }
     },
     "2856154d8f9d474abb9418e8b29850d8": {
      "model_module": "@jupyter-widgets/controls",
      "model_module_version": "1.5.0",
      "model_name": "HBoxModel",
      "state": {
       "_dom_classes": [],
       "_model_module": "@jupyter-widgets/controls",
       "_model_module_version": "1.5.0",
       "_model_name": "HBoxModel",
       "_view_count": null,
       "_view_module": "@jupyter-widgets/controls",
       "_view_module_version": "1.5.0",
       "_view_name": "HBoxView",
       "box_style": "",
       "children": [
        "IPY_MODEL_1f63af08f51c4ce6b947b1b07c10f019",
        "IPY_MODEL_361b8d898cfa46f58be28a894676728f",
        "IPY_MODEL_9185aaf0a10f4cb99c58c8692d37643b"
       ],
       "layout": "IPY_MODEL_5dbde234138743c5bca76dc385427477"
      }
     },
     "361b8d898cfa46f58be28a894676728f": {
      "model_module": "@jupyter-widgets/controls",
      "model_module_version": "1.5.0",
      "model_name": "FloatProgressModel",
      "state": {
       "_dom_classes": [],
       "_model_module": "@jupyter-widgets/controls",
       "_model_module_version": "1.5.0",
       "_model_name": "FloatProgressModel",
       "_view_count": null,
       "_view_module": "@jupyter-widgets/controls",
       "_view_module_version": "1.5.0",
       "_view_name": "ProgressView",
       "bar_style": "success",
       "description": "",
       "description_tooltip": null,
       "layout": "IPY_MODEL_9d78339f35bb4335b68a6bed9c3d68b2",
       "max": 300.0,
       "min": 0.0,
       "orientation": "horizontal",
       "style": "IPY_MODEL_9ba16445433b4429b23218e47a50030f",
       "value": 300.0
      }
     },
     "4b95fc4cf64d4a7a978f0e30fc7d3045": {
      "model_module": "@jupyter-widgets/controls",
      "model_module_version": "1.5.0",
      "model_name": "DescriptionStyleModel",
      "state": {
       "_model_module": "@jupyter-widgets/controls",
       "_model_module_version": "1.5.0",
       "_model_name": "DescriptionStyleModel",
       "_view_count": null,
       "_view_module": "@jupyter-widgets/base",
       "_view_module_version": "1.2.0",
       "_view_name": "StyleView",
       "description_width": ""
      }
     },
     "527f7388891c442d9e7aa85ec03e28c6": {
      "model_module": "@jupyter-widgets/controls",
      "model_module_version": "1.5.0",
      "model_name": "DescriptionStyleModel",
      "state": {
       "_model_module": "@jupyter-widgets/controls",
       "_model_module_version": "1.5.0",
       "_model_name": "DescriptionStyleModel",
       "_view_count": null,
       "_view_module": "@jupyter-widgets/base",
       "_view_module_version": "1.2.0",
       "_view_name": "StyleView",
       "description_width": ""
      }
     },
     "5dbde234138743c5bca76dc385427477": {
      "model_module": "@jupyter-widgets/base",
      "model_module_version": "1.2.0",
      "model_name": "LayoutModel",
      "state": {
       "_model_module": "@jupyter-widgets/base",
       "_model_module_version": "1.2.0",
       "_model_name": "LayoutModel",
       "_view_count": null,
       "_view_module": "@jupyter-widgets/base",
       "_view_module_version": "1.2.0",
       "_view_name": "LayoutView",
       "align_content": null,
       "align_items": null,
       "align_self": null,
       "border": null,
       "bottom": null,
       "display": null,
       "flex": null,
       "flex_flow": null,
       "grid_area": null,
       "grid_auto_columns": null,
       "grid_auto_flow": null,
       "grid_auto_rows": null,
       "grid_column": null,
       "grid_gap": null,
       "grid_row": null,
       "grid_template_areas": null,
       "grid_template_columns": null,
       "grid_template_rows": null,
       "height": null,
       "justify_content": null,
       "justify_items": null,
       "left": null,
       "margin": null,
       "max_height": null,
       "max_width": null,
       "min_height": null,
       "min_width": null,
       "object_fit": null,
       "object_position": null,
       "order": null,
       "overflow": null,
       "overflow_x": null,
       "overflow_y": null,
       "padding": null,
       "right": null,
       "top": null,
       "visibility": null,
       "width": null
      }
     },
     "6ba509c492084559ba74ce99392d457b": {
      "model_module": "@jupyter-widgets/base",
      "model_module_version": "1.2.0",
      "model_name": "LayoutModel",
      "state": {
       "_model_module": "@jupyter-widgets/base",
       "_model_module_version": "1.2.0",
       "_model_name": "LayoutModel",
       "_view_count": null,
       "_view_module": "@jupyter-widgets/base",
       "_view_module_version": "1.2.0",
       "_view_name": "LayoutView",
       "align_content": null,
       "align_items": null,
       "align_self": null,
       "border": null,
       "bottom": null,
       "display": null,
       "flex": null,
       "flex_flow": null,
       "grid_area": null,
       "grid_auto_columns": null,
       "grid_auto_flow": null,
       "grid_auto_rows": null,
       "grid_column": null,
       "grid_gap": null,
       "grid_row": null,
       "grid_template_areas": null,
       "grid_template_columns": null,
       "grid_template_rows": null,
       "height": null,
       "justify_content": null,
       "justify_items": null,
       "left": null,
       "margin": null,
       "max_height": null,
       "max_width": null,
       "min_height": null,
       "min_width": null,
       "object_fit": null,
       "object_position": null,
       "order": null,
       "overflow": null,
       "overflow_x": null,
       "overflow_y": null,
       "padding": null,
       "right": null,
       "top": null,
       "visibility": null,
       "width": null
      }
     },
     "816eff56f7e64d4680bf8c2176ff1f85": {
      "model_module": "@jupyter-widgets/base",
      "model_module_version": "1.2.0",
      "model_name": "LayoutModel",
      "state": {
       "_model_module": "@jupyter-widgets/base",
       "_model_module_version": "1.2.0",
       "_model_name": "LayoutModel",
       "_view_count": null,
       "_view_module": "@jupyter-widgets/base",
       "_view_module_version": "1.2.0",
       "_view_name": "LayoutView",
       "align_content": null,
       "align_items": null,
       "align_self": null,
       "border": null,
       "bottom": null,
       "display": null,
       "flex": null,
       "flex_flow": null,
       "grid_area": null,
       "grid_auto_columns": null,
       "grid_auto_flow": null,
       "grid_auto_rows": null,
       "grid_column": null,
       "grid_gap": null,
       "grid_row": null,
       "grid_template_areas": null,
       "grid_template_columns": null,
       "grid_template_rows": null,
       "height": null,
       "justify_content": null,
       "justify_items": null,
       "left": null,
       "margin": null,
       "max_height": null,
       "max_width": null,
       "min_height": null,
       "min_width": null,
       "object_fit": null,
       "object_position": null,
       "order": null,
       "overflow": null,
       "overflow_x": null,
       "overflow_y": null,
       "padding": null,
       "right": null,
       "top": null,
       "visibility": null,
       "width": null
      }
     },
     "9185aaf0a10f4cb99c58c8692d37643b": {
      "model_module": "@jupyter-widgets/controls",
      "model_module_version": "1.5.0",
      "model_name": "HTMLModel",
      "state": {
       "_dom_classes": [],
       "_model_module": "@jupyter-widgets/controls",
       "_model_module_version": "1.5.0",
       "_model_name": "HTMLModel",
       "_view_count": null,
       "_view_module": "@jupyter-widgets/controls",
       "_view_module_version": "1.5.0",
       "_view_name": "HTMLView",
       "description": "",
       "description_tooltip": null,
       "layout": "IPY_MODEL_bead41b9510d46db966c168ad734e7eb",
       "placeholder": "​",
       "style": "IPY_MODEL_cf3457d24ae54f849c8f0c7cffeca754",
       "value": " 300/300 [00:16&lt;00:00, 18.00it/s]"
      }
     },
     "9a02e2a69e444fabbf312f0043ba45ee": {
      "model_module": "@jupyter-widgets/controls",
      "model_module_version": "1.5.0",
      "model_name": "HTMLModel",
      "state": {
       "_dom_classes": [],
       "_model_module": "@jupyter-widgets/controls",
       "_model_module_version": "1.5.0",
       "_model_name": "HTMLModel",
       "_view_count": null,
       "_view_module": "@jupyter-widgets/controls",
       "_view_module_version": "1.5.0",
       "_view_name": "HTMLView",
       "description": "",
       "description_tooltip": null,
       "layout": "IPY_MODEL_e0d8b78c1c184b12bb8c2a91524af4e5",
       "placeholder": "​",
       "style": "IPY_MODEL_527f7388891c442d9e7aa85ec03e28c6",
       "value": " 300/300 [00:17&lt;00:00, 17.96it/s]"
      }
     },
     "9ba16445433b4429b23218e47a50030f": {
      "model_module": "@jupyter-widgets/controls",
      "model_module_version": "1.5.0",
      "model_name": "ProgressStyleModel",
      "state": {
       "_model_module": "@jupyter-widgets/controls",
       "_model_module_version": "1.5.0",
       "_model_name": "ProgressStyleModel",
       "_view_count": null,
       "_view_module": "@jupyter-widgets/base",
       "_view_module_version": "1.2.0",
       "_view_name": "StyleView",
       "bar_color": null,
       "description_width": ""
      }
     },
     "9d78339f35bb4335b68a6bed9c3d68b2": {
      "model_module": "@jupyter-widgets/base",
      "model_module_version": "1.2.0",
      "model_name": "LayoutModel",
      "state": {
       "_model_module": "@jupyter-widgets/base",
       "_model_module_version": "1.2.0",
       "_model_name": "LayoutModel",
       "_view_count": null,
       "_view_module": "@jupyter-widgets/base",
       "_view_module_version": "1.2.0",
       "_view_name": "LayoutView",
       "align_content": null,
       "align_items": null,
       "align_self": null,
       "border": null,
       "bottom": null,
       "display": null,
       "flex": null,
       "flex_flow": null,
       "grid_area": null,
       "grid_auto_columns": null,
       "grid_auto_flow": null,
       "grid_auto_rows": null,
       "grid_column": null,
       "grid_gap": null,
       "grid_row": null,
       "grid_template_areas": null,
       "grid_template_columns": null,
       "grid_template_rows": null,
       "height": null,
       "justify_content": null,
       "justify_items": null,
       "left": null,
       "margin": null,
       "max_height": null,
       "max_width": null,
       "min_height": null,
       "min_width": null,
       "object_fit": null,
       "object_position": null,
       "order": null,
       "overflow": null,
       "overflow_x": null,
       "overflow_y": null,
       "padding": null,
       "right": null,
       "top": null,
       "visibility": null,
       "width": null
      }
     },
     "b039d96c76334bcba0f7dba2935adc89": {
      "model_module": "@jupyter-widgets/controls",
      "model_module_version": "1.5.0",
      "model_name": "FloatProgressModel",
      "state": {
       "_dom_classes": [],
       "_model_module": "@jupyter-widgets/controls",
       "_model_module_version": "1.5.0",
       "_model_name": "FloatProgressModel",
       "_view_count": null,
       "_view_module": "@jupyter-widgets/controls",
       "_view_module_version": "1.5.0",
       "_view_name": "ProgressView",
       "bar_style": "success",
       "description": "",
       "description_tooltip": null,
       "layout": "IPY_MODEL_dbdde822d54640f594f05b16bfd5eeac",
       "max": 300.0,
       "min": 0.0,
       "orientation": "horizontal",
       "style": "IPY_MODEL_fb40ce0729c34798b2e9d36c79da7f03",
       "value": 300.0
      }
     },
     "b7a4552792bd4a2e9c4952a2bb7841b8": {
      "model_module": "@jupyter-widgets/base",
      "model_module_version": "1.2.0",
      "model_name": "LayoutModel",
      "state": {
       "_model_module": "@jupyter-widgets/base",
       "_model_module_version": "1.2.0",
       "_model_name": "LayoutModel",
       "_view_count": null,
       "_view_module": "@jupyter-widgets/base",
       "_view_module_version": "1.2.0",
       "_view_name": "LayoutView",
       "align_content": null,
       "align_items": null,
       "align_self": null,
       "border": null,
       "bottom": null,
       "display": null,
       "flex": null,
       "flex_flow": null,
       "grid_area": null,
       "grid_auto_columns": null,
       "grid_auto_flow": null,
       "grid_auto_rows": null,
       "grid_column": null,
       "grid_gap": null,
       "grid_row": null,
       "grid_template_areas": null,
       "grid_template_columns": null,
       "grid_template_rows": null,
       "height": null,
       "justify_content": null,
       "justify_items": null,
       "left": null,
       "margin": null,
       "max_height": null,
       "max_width": null,
       "min_height": null,
       "min_width": null,
       "object_fit": null,
       "object_position": null,
       "order": null,
       "overflow": null,
       "overflow_x": null,
       "overflow_y": null,
       "padding": null,
       "right": null,
       "top": null,
       "visibility": null,
       "width": null
      }
     },
     "bead41b9510d46db966c168ad734e7eb": {
      "model_module": "@jupyter-widgets/base",
      "model_module_version": "1.2.0",
      "model_name": "LayoutModel",
      "state": {
       "_model_module": "@jupyter-widgets/base",
       "_model_module_version": "1.2.0",
       "_model_name": "LayoutModel",
       "_view_count": null,
       "_view_module": "@jupyter-widgets/base",
       "_view_module_version": "1.2.0",
       "_view_name": "LayoutView",
       "align_content": null,
       "align_items": null,
       "align_self": null,
       "border": null,
       "bottom": null,
       "display": null,
       "flex": null,
       "flex_flow": null,
       "grid_area": null,
       "grid_auto_columns": null,
       "grid_auto_flow": null,
       "grid_auto_rows": null,
       "grid_column": null,
       "grid_gap": null,
       "grid_row": null,
       "grid_template_areas": null,
       "grid_template_columns": null,
       "grid_template_rows": null,
       "height": null,
       "justify_content": null,
       "justify_items": null,
       "left": null,
       "margin": null,
       "max_height": null,
       "max_width": null,
       "min_height": null,
       "min_width": null,
       "object_fit": null,
       "object_position": null,
       "order": null,
       "overflow": null,
       "overflow_x": null,
       "overflow_y": null,
       "padding": null,
       "right": null,
       "top": null,
       "visibility": null,
       "width": null
      }
     },
     "cf3457d24ae54f849c8f0c7cffeca754": {
      "model_module": "@jupyter-widgets/controls",
      "model_module_version": "1.5.0",
      "model_name": "DescriptionStyleModel",
      "state": {
       "_model_module": "@jupyter-widgets/controls",
       "_model_module_version": "1.5.0",
       "_model_name": "DescriptionStyleModel",
       "_view_count": null,
       "_view_module": "@jupyter-widgets/base",
       "_view_module_version": "1.2.0",
       "_view_name": "StyleView",
       "description_width": ""
      }
     },
     "dbdde822d54640f594f05b16bfd5eeac": {
      "model_module": "@jupyter-widgets/base",
      "model_module_version": "1.2.0",
      "model_name": "LayoutModel",
      "state": {
       "_model_module": "@jupyter-widgets/base",
       "_model_module_version": "1.2.0",
       "_model_name": "LayoutModel",
       "_view_count": null,
       "_view_module": "@jupyter-widgets/base",
       "_view_module_version": "1.2.0",
       "_view_name": "LayoutView",
       "align_content": null,
       "align_items": null,
       "align_self": null,
       "border": null,
       "bottom": null,
       "display": null,
       "flex": null,
       "flex_flow": null,
       "grid_area": null,
       "grid_auto_columns": null,
       "grid_auto_flow": null,
       "grid_auto_rows": null,
       "grid_column": null,
       "grid_gap": null,
       "grid_row": null,
       "grid_template_areas": null,
       "grid_template_columns": null,
       "grid_template_rows": null,
       "height": null,
       "justify_content": null,
       "justify_items": null,
       "left": null,
       "margin": null,
       "max_height": null,
       "max_width": null,
       "min_height": null,
       "min_width": null,
       "object_fit": null,
       "object_position": null,
       "order": null,
       "overflow": null,
       "overflow_x": null,
       "overflow_y": null,
       "padding": null,
       "right": null,
       "top": null,
       "visibility": null,
       "width": null
      }
     },
     "e0c39ed5247a404ca8ec817f9de1c883": {
      "model_module": "@jupyter-widgets/controls",
      "model_module_version": "1.5.0",
      "model_name": "HTMLModel",
      "state": {
       "_dom_classes": [],
       "_model_module": "@jupyter-widgets/controls",
       "_model_module_version": "1.5.0",
       "_model_name": "HTMLModel",
       "_view_count": null,
       "_view_module": "@jupyter-widgets/controls",
       "_view_module_version": "1.5.0",
       "_view_name": "HTMLView",
       "description": "",
       "description_tooltip": null,
       "layout": "IPY_MODEL_816eff56f7e64d4680bf8c2176ff1f85",
       "placeholder": "​",
       "style": "IPY_MODEL_0c841c58d0604132b98c1687eddc13d9",
       "value": "100%"
      }
     },
     "e0d8b78c1c184b12bb8c2a91524af4e5": {
      "model_module": "@jupyter-widgets/base",
      "model_module_version": "1.2.0",
      "model_name": "LayoutModel",
      "state": {
       "_model_module": "@jupyter-widgets/base",
       "_model_module_version": "1.2.0",
       "_model_name": "LayoutModel",
       "_view_count": null,
       "_view_module": "@jupyter-widgets/base",
       "_view_module_version": "1.2.0",
       "_view_name": "LayoutView",
       "align_content": null,
       "align_items": null,
       "align_self": null,
       "border": null,
       "bottom": null,
       "display": null,
       "flex": null,
       "flex_flow": null,
       "grid_area": null,
       "grid_auto_columns": null,
       "grid_auto_flow": null,
       "grid_auto_rows": null,
       "grid_column": null,
       "grid_gap": null,
       "grid_row": null,
       "grid_template_areas": null,
       "grid_template_columns": null,
       "grid_template_rows": null,
       "height": null,
       "justify_content": null,
       "justify_items": null,
       "left": null,
       "margin": null,
       "max_height": null,
       "max_width": null,
       "min_height": null,
       "min_width": null,
       "object_fit": null,
       "object_position": null,
       "order": null,
       "overflow": null,
       "overflow_x": null,
       "overflow_y": null,
       "padding": null,
       "right": null,
       "top": null,
       "visibility": null,
       "width": null
      }
     },
     "e7416718ee2b445191c9f2f946166bc7": {
      "model_module": "@jupyter-widgets/controls",
      "model_module_version": "1.5.0",
      "model_name": "HBoxModel",
      "state": {
       "_dom_classes": [],
       "_model_module": "@jupyter-widgets/controls",
       "_model_module_version": "1.5.0",
       "_model_name": "HBoxModel",
       "_view_count": null,
       "_view_module": "@jupyter-widgets/controls",
       "_view_module_version": "1.5.0",
       "_view_name": "HBoxView",
       "box_style": "",
       "children": [
        "IPY_MODEL_e0c39ed5247a404ca8ec817f9de1c883",
        "IPY_MODEL_b039d96c76334bcba0f7dba2935adc89",
        "IPY_MODEL_9a02e2a69e444fabbf312f0043ba45ee"
       ],
       "layout": "IPY_MODEL_b7a4552792bd4a2e9c4952a2bb7841b8"
      }
     },
     "fb40ce0729c34798b2e9d36c79da7f03": {
      "model_module": "@jupyter-widgets/controls",
      "model_module_version": "1.5.0",
      "model_name": "ProgressStyleModel",
      "state": {
       "_model_module": "@jupyter-widgets/controls",
       "_model_module_version": "1.5.0",
       "_model_name": "ProgressStyleModel",
       "_view_count": null,
       "_view_module": "@jupyter-widgets/base",
       "_view_module_version": "1.2.0",
       "_view_name": "StyleView",
       "bar_color": null,
       "description_width": ""
      }
     }
    },
    "version_major": 2,
    "version_minor": 0
   }
  }
 },
 "nbformat": 4,
 "nbformat_minor": 2
}
