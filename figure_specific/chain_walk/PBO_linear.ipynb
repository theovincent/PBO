{
 "cells": [
  {
   "cell_type": "markdown",
   "metadata": {},
   "source": [
    "# PBO linear on the chain walk environment\n",
    "\n",
    "## Define parameters"
   ]
  },
  {
   "cell_type": "code",
   "execution_count": 1,
   "metadata": {
    "execution": {
     "iopub.execute_input": "2022-09-15T13:02:54.470580Z",
     "iopub.status.busy": "2022-09-15T13:02:54.470420Z",
     "iopub.status.idle": "2022-09-15T13:02:55.072907Z",
     "shell.execute_reply": "2022-09-15T13:02:55.072412Z"
    }
   },
   "outputs": [
    {
     "name": "stderr",
     "output_type": "stream",
     "text": [
      "WARNING:absl:No GPU/TPU found, falling back to CPU. (Set TF_CPP_MIN_LOG_LEVEL=0 and rerun for more info.)\n"
     ]
    }
   ],
   "source": [
    "%load_ext autoreload\n",
    "%autoreload 2\n",
    "\n",
    "import warnings\n",
    "warnings.simplefilter(action='ignore', category=FutureWarning)\n",
    "import jax\n",
    "import os\n",
    "import json\n",
    "\n",
    "parameters = json.load(open(\"parameters.json\"))\n",
    "n_states = parameters[\"n_states\"]\n",
    "n_actions = 2\n",
    "sucess_probability = parameters[\"sucess_probability\"]\n",
    "gamma = parameters[\"gamma\"]\n",
    "env_seed = parameters[\"env_seed\"]\n",
    "\n",
    "# Sample collection\n",
    "n_repetitions = parameters[\"n_repetitions\"]\n",
    "n_samples = n_states * n_actions * n_repetitions\n",
    "\n",
    "# Weights collection\n",
    "n_weights = parameters[\"n_weights\"]\n",
    "\n",
    "# Trainings\n",
    "max_bellman_iterations = parameters[\"max_bellman_iterations\"]\n",
    "training_steps = parameters[\"training_steps\"]\n",
    "fitting_steps = parameters[\"fitting_steps_pbo\"]\n",
    "batch_size_samples = parameters[\"batch_size_samples\"]\n",
    "batch_size_weights = parameters[\"batch_size_weights\"]\n",
    "initial_weight_std = parameters[\"initial_weight_std\"]\n",
    "learning_rate = {\"first\": parameters[\"starting_lr_pbo\"], \"last\": parameters[\"ending_lr_pbo\"], \"duration\": training_steps * fitting_steps * n_samples // batch_size_samples}\n",
    "add_infinity = True\n",
    "\n",
    "# Visualisation of errors and performances\n",
    "max_bellman_iterations_validation = max_bellman_iterations + 20\n",
    "\n",
    "# Search for an unused seed\n",
    "max_used_seed = 0\n",
    "if not os.path.exists(\"figures/data/PBO_linear/\"):\n",
    "    os.makedirs(\"figures/data/PBO_linear/\")\n",
    "for file in os.listdir(\"figures/data/PBO_linear/\"):\n",
    "    if int(file.split(\"_\")[0]) == max_bellman_iterations and int(file.split(\"_\")[2]) == n_weights and int(file.split(\"_\")[3][:-4]) > max_used_seed:\n",
    "        max_used_seed = int(file.split(\"_\")[3][:-4])\n",
    "\n",
    "# keys\n",
    "env_key = jax.random.PRNGKey(env_seed)\n",
    "seed = max_used_seed + 1\n",
    "key = jax.random.PRNGKey(seed)\n",
    "shuffle_key, q_network_key, pbo_network_key = jax.random.split(key, 3)"
   ]
  },
  {
   "cell_type": "markdown",
   "metadata": {},
   "source": [
    "## Define environment"
   ]
  },
  {
   "cell_type": "code",
   "execution_count": 2,
   "metadata": {
    "execution": {
     "iopub.execute_input": "2022-09-15T13:02:55.075118Z",
     "iopub.status.busy": "2022-09-15T13:02:55.074925Z",
     "iopub.status.idle": "2022-09-15T13:02:55.443760Z",
     "shell.execute_reply": "2022-09-15T13:02:55.443205Z"
    }
   },
   "outputs": [],
   "source": [
    "import numpy as np\n",
    "from pbo.environments.chain_walk import ChainWalkEnv\n",
    "\n",
    "\n",
    "states = np.arange(n_states)\n",
    "actions = np.arange(n_actions)\n",
    "states_boxes = np.arange(n_states + 1) - 0.5\n",
    "actions_boxes = np.arange(n_actions + 1) - 0.5\n",
    "\n",
    "env = ChainWalkEnv(env_key, n_states, sucess_probability, gamma)"
   ]
  },
  {
   "cell_type": "markdown",
   "metadata": {},
   "source": [
    "## Collect samples"
   ]
  },
  {
   "cell_type": "markdown",
   "metadata": {},
   "source": [
    "### Samples on the mesh"
   ]
  },
  {
   "cell_type": "code",
   "execution_count": 3,
   "metadata": {
    "execution": {
     "iopub.execute_input": "2022-09-15T13:02:55.447335Z",
     "iopub.status.busy": "2022-09-15T13:02:55.447160Z",
     "iopub.status.idle": "2022-09-15T13:02:56.655207Z",
     "shell.execute_reply": "2022-09-15T13:02:56.654597Z"
    }
   },
   "outputs": [],
   "source": [
    "import jax.numpy as jnp\n",
    "from pbo.sample_collection.replay_buffer import ReplayBuffer\n",
    "\n",
    "\n",
    "replay_buffer = ReplayBuffer()\n",
    "\n",
    "for state in states:\n",
    "    for action in actions:\n",
    "        # Need to repeat the samples to capture the randomness\n",
    "        for _ in range(n_repetitions):\n",
    "            env.reset(jnp.array([state]))\n",
    "            next_state, reward, absorbing, _ = env.step(jnp.array([action]))\n",
    "\n",
    "            replay_buffer.add(jnp.array([state]), jnp.array([action]), reward, next_state, absorbing)\n",
    "\n",
    "replay_buffer.cast_to_jax_array()"
   ]
  },
  {
   "cell_type": "markdown",
   "metadata": {},
   "source": [
    "### Visualize samples"
   ]
  },
  {
   "cell_type": "code",
   "execution_count": 4,
   "metadata": {
    "execution": {
     "iopub.execute_input": "2022-09-15T13:02:56.658093Z",
     "iopub.status.busy": "2022-09-15T13:02:56.657881Z",
     "iopub.status.idle": "2022-09-15T13:02:57.511903Z",
     "shell.execute_reply": "2022-09-15T13:02:57.511386Z"
    }
   },
   "outputs": [
    {
     "data": {
      "image/png": "[encoded data removed]",
      "text/plain": [
       "<Figure size 432x288 with 2 Axes>"
      ]
     },
     "metadata": {
      "needs_background": "light"
     },
     "output_type": "display_data"
    }
   ],
   "source": [
    "from pbo.sample_collection.count_samples import count_samples\n",
    "from pbo.utils.two_dimesions_mesh import TwoDimesionsMesh\n",
    "\n",
    "\n",
    "samples_count, n_outside_boxes, _ = count_samples(replay_buffer.states, replay_buffer.actions, states_boxes, actions_boxes, replay_buffer.rewards)\n",
    "samples_visu_mesh = TwoDimesionsMesh(states, actions, sleeping_time=0)\n",
    "\n",
    "samples_visu_mesh.set_values(samples_count, zeros_to_nan=True)\n",
    "samples_visu_mesh.show(\n",
    "    f\"Samples repartition, \\n{int(100 * n_outside_boxes / n_samples)}% are outside the box.\"\n",
    ")"
   ]
  },
  {
   "cell_type": "markdown",
   "metadata": {},
   "source": [
    "## Collect weights"
   ]
  },
  {
   "cell_type": "code",
   "execution_count": 5,
   "metadata": {
    "execution": {
     "iopub.execute_input": "2022-09-15T13:02:57.513846Z",
     "iopub.status.busy": "2022-09-15T13:02:57.513619Z",
     "iopub.status.idle": "2022-09-15T13:02:58.142304Z",
     "shell.execute_reply": "2022-09-15T13:02:58.141796Z"
    }
   },
   "outputs": [],
   "source": [
    "from pbo.weights_collection.weights_buffer import WeightsBuffer\n",
    "from pbo.networks.learnable_q import TableQ\n",
    "\n",
    "\n",
    "weights_buffer = WeightsBuffer()\n",
    "\n",
    "# Add initial validation weights\n",
    "q_random = q = TableQ(\n",
    "    n_states=n_states,\n",
    "    n_actions=n_actions,\n",
    "    gamma=gamma,\n",
    "    network_key=q_network_key,\n",
    "    zero_initializer=True\n",
    ")\n",
    "validation_initial_weight = q.to_weights(q.params)\n",
    "\n",
    "weights_buffer.add(validation_initial_weight)\n",
    "\n",
    "# Add randow weights\n",
    "q_random = q = TableQ(\n",
    "    n_states=n_states,\n",
    "    n_actions=n_actions,\n",
    "    gamma=gamma,\n",
    "    network_key=q_network_key,\n",
    "    zero_initializer=False\n",
    ")\n",
    "\n",
    "while len(weights_buffer) < n_weights:\n",
    "    weights = q_random.random_init_weights()\n",
    "    weights_buffer.add(weights)\n",
    "\n",
    "weights_buffer.cast_to_jax_array()"
   ]
  },
  {
   "cell_type": "markdown",
   "metadata": {},
   "source": [
    "## Train linear PBO"
   ]
  },
  {
   "cell_type": "code",
   "execution_count": 6,
   "metadata": {
    "execution": {
     "iopub.execute_input": "2022-09-15T13:02:58.144502Z",
     "iopub.status.busy": "2022-09-15T13:02:58.144309Z",
     "iopub.status.idle": "2022-09-15T13:03:24.516198Z",
     "shell.execute_reply": "2022-09-15T13:03:24.515706Z"
    }
   },
   "outputs": [
    {
     "data": {
      "application/vnd.jupyter.widget-view+json": {
       "model_id": "188d89477dfe4e4a8eb46e0f3371b638",
       "version_major": 2,
       "version_minor": 0
      },
      "text/plain": [
       "  0%|          | 0/200 [00:00<?, ?it/s]"
      ]
     },
     "metadata": {},
     "output_type": "display_data"
    },
    {
     "name": "stdout",
     "output_type": "stream",
     "text": [
      "[0 0 0 0 0 0 0 0 0 0 0 0 0 0 0 0 0 0 0 0]\n",
      "[1 1 1 1 1 0 0 0 1 0 0 0 0 1 0 0 1 0 0 0]\n",
      "[0 0 1 1 0 0 0 0 1 0 0 0 0 1 1 1 1 0 1 1]\n",
      "[0 0 0 1 0 0 0 0 0 0 0 0 1 1 1 1 0 1 1 1]\n",
      "[0 0 0 0 0 0 0 0 0 0 0 0 1 1 1 1 1 1 1 1]\n",
      "[0 0 0 0 0 0 0 0 0 0 0 1 1 1 1 1 1 1 1 1]\n",
      "[0 0 0 0 0 0 0 0 0 0 1 1 1 1 1 1 1 1 1 1]\n",
      "[0 0 0 0 0 0 0 0 0 0 1 1 1 1 1 1 1 1 1 1]\n",
      "[0 0 0 0 0 0 0 0 0 0 1 1 1 1 1 1 1 1 1 1]\n",
      "[0 0 0 0 0 0 0 0 0 0 1 1 1 1 1 1 1 1 1 1]\n",
      "[0 0 0 0 0 0 0 0 0 0 1 1 1 1 1 1 1 1 1 1]\n",
      "[0 0 0 0 0 0 0 0 0 0 1 1 1 1 1 1 1 1 1 1]\n",
      "[0 0 0 0 0 0 0 0 0 0 1 1 1 1 1 1 1 1 1 1]\n",
      "[0 0 0 0 0 0 0 0 0 0 1 1 1 1 1 1 1 1 1 1]\n",
      "[0 0 0 0 0 0 0 0 0 0 1 1 1 1 1 1 1 1 1 1]\n",
      "[0 0 0 0 0 0 0 0 0 0 1 1 1 1 1 1 1 1 1 1]\n",
      "[0 0 0 0 0 0 0 0 0 0 1 1 1 1 1 1 1 1 1 1]\n",
      "[0 0 0 0 0 0 0 0 0 0 1 1 1 1 1 1 1 1 1 1]\n",
      "[0 0 0 0 0 0 0 0 0 0 1 1 1 1 1 1 1 1 1 1]\n",
      "[0 0 0 0 0 0 0 0 0 0 1 1 1 1 1 1 1 1 1 1]\n",
      "[0 0 0 0 0 0 0 0 0 0 1 1 1 1 1 1 1 1 1 1]\n",
      "[0 0 0 0 0 0 0 0 0 0 1 1 1 1 1 1 1 1 1 1]\n",
      "[0 0 0 0 0 0 0 0 0 0 1 1 1 1 1 1 1 1 1 1]\n"
     ]
    },
    {
     "data": {
      "image/png": "[encoded data removed]",
      "text/plain": [
       "<Figure size 432x288 with 1 Axes>"
      ]
     },
     "metadata": {
      "needs_background": "light"
     },
     "output_type": "display_data"
    }
   ],
   "source": [
    "import matplotlib.pyplot as plt\n",
    "from tqdm.notebook import tqdm\n",
    "\n",
    "from pbo.sample_collection.dataloader import SampleDataLoader\n",
    "from pbo.weights_collection.dataloader import WeightsDataLoader\n",
    "from pbo.networks.learnable_pbo import LinearPBO\n",
    "\n",
    "\n",
    "data_loader_samples = SampleDataLoader(replay_buffer, batch_size_samples, shuffle_key)\n",
    "data_loader_weights = WeightsDataLoader(weights_buffer, batch_size_weights, shuffle_key)\n",
    "pbo_linear = LinearPBO(\n",
    "    q=q,\n",
    "    max_bellman_iterations=max_bellman_iterations,\n",
    "    add_infinity=add_infinity,\n",
    "    network_key=pbo_network_key,\n",
    "    learning_rate=learning_rate,\n",
    "    initial_weight_std=initial_weight_std\n",
    ")\n",
    "importance_iteration = jnp.ones(max_bellman_iterations + 1)\n",
    "\n",
    "l2_losses = np.ones((training_steps, fitting_steps)) * np.nan\n",
    "\n",
    "for training_step in tqdm(range(training_steps)):\n",
    "    params_target = pbo_linear.params\n",
    "\n",
    "    for fitting_step in range(fitting_steps):\n",
    "        cumulative_l2_loss = 0\n",
    "\n",
    "        data_loader_weights.shuffle()\n",
    "        for batch_weights in data_loader_weights:\n",
    "            data_loader_samples.shuffle()\n",
    "            for batch_samples in data_loader_samples:\n",
    "                pbo_linear.params, pbo_linear.optimizer_state, l2_loss = pbo_linear.learn_on_batch(\n",
    "                    pbo_linear.params, params_target, pbo_linear.optimizer_state, batch_weights, batch_samples, importance_iteration\n",
    "                )\n",
    "                cumulative_l2_loss += l2_loss\n",
    "\n",
    "        l2_losses[training_step, fitting_step] = cumulative_l2_loss\n",
    "\n",
    "q_functions = np.zeros((max_bellman_iterations_validation + 2, n_states, n_actions))\n",
    "bellman_iteration_functions = np.zeros((max_bellman_iterations_validation + 2, n_states, n_actions))\n",
    "v_functions = np.zeros((max_bellman_iterations_validation + 2, n_states))\n",
    "\n",
    "batch_iterated_weights = validation_initial_weight.reshape((1, -1))\n",
    "for bellman_iteration in range(max_bellman_iterations_validation + 1):\n",
    "    q_i = env.discretize(q, batch_iterated_weights[0], states, actions)\n",
    "    policy_q = q_i.argmax(axis=1)\n",
    "\n",
    "    q_functions[bellman_iteration] = q_i\n",
    "    bellman_iteration_functions[bellman_iteration] = env.apply_bellman_operator(q_i)\n",
    "    v_functions[bellman_iteration] = env.value_function(policy_q)\n",
    "    print(policy_q)\n",
    "\n",
    "    batch_iterated_weights = pbo_linear(pbo_linear.params, batch_iterated_weights)\n",
    "\n",
    "q_pbo_fixed_point = env.discretize(q, pbo_linear.fixed_point(pbo_linear.params), states, actions)\n",
    "policy_fixed_point = q_pbo_fixed_point.argmax(axis=1)\n",
    "\n",
    "q_functions[max_bellman_iterations_validation + 1] = q_pbo_fixed_point\n",
    "bellman_iteration_functions[max_bellman_iterations_validation + 1] = env.apply_bellman_operator(q_pbo_fixed_point)\n",
    "v_functions[max_bellman_iterations_validation + 1] = env.value_function(policy_fixed_point)\n",
    "\n",
    "for training_step in range(0, training_steps, max(training_steps // 10, 1)):\n",
    "    plt.plot(l2_losses[training_step], label=f\"Training step {training_step + 1}\")\n",
    "\n",
    "plt.legend()\n",
    "plt.xlabel(\"fitting step\")\n",
    "plt.ylabel(r\"$\\sum_{k} \\left(\\Gamma^*Q_{\\Gamma_{\\phi_i}^k(w)} - Q_{\\Gamma_{\\phi_{i + 1}}^{k + 1}(w)} \\right)^2$\")\n",
    "plt.title(\"Training losses\")\n",
    "plt.show()"
   ]
  },
  {
   "cell_type": "markdown",
   "metadata": {},
   "source": [
    "## Save data"
   ]
  },
  {
   "cell_type": "code",
   "execution_count": 7,
   "metadata": {
    "execution": {
     "iopub.execute_input": "2022-09-15T13:03:24.518061Z",
     "iopub.status.busy": "2022-09-15T13:03:24.517917Z",
     "iopub.status.idle": "2022-09-15T13:03:24.528844Z",
     "shell.execute_reply": "2022-09-15T13:03:24.528397Z"
    }
   },
   "outputs": [],
   "source": [
    "np.save(f\"figures/data/PBO_linear/{max_bellman_iterations}_Q_{n_weights}_{seed}.npy\", q_functions)\n",
    "np.save(f\"figures/data/PBO_linear/{max_bellman_iterations}_BI_{n_weights}_{seed}.npy\", bellman_iteration_functions)\n",
    "np.save(f\"figures/data/PBO_linear/{max_bellman_iterations}_V_{n_weights}_{seed}.npy\", v_functions)"
   ]
  }
 ],
 "metadata": {
  "kernelspec": {
   "display_name": "Python 3.8.10 ('env_cpu': venv)",
   "language": "python",
   "name": "python3"
  },
  "language_info": {
   "codemirror_mode": {
    "name": "ipython",
    "version": 3
   },
   "file_extension": ".py",
   "mimetype": "text/x-python",
   "name": "python",
   "nbconvert_exporter": "python",
   "pygments_lexer": "ipython3",
   "version": "3.8.10"
  },
  "vscode": {
   "interpreter": {
    "hash": "af5525a3273d35d601ae265c5d3634806dd61a1c4d085ae098611a6832982bdb"
   }
  },
  "widgets": {
   "application/vnd.jupyter.widget-state+json": {
    "state": {
     "14ab7ffaa68945ea855bbd508e67b393": {
      "model_module": "@jupyter-widgets/base",
      "model_module_version": "1.2.0",
      "model_name": "LayoutModel",
      "state": {
       "_model_module": "@jupyter-widgets/base",
       "_model_module_version": "1.2.0",
       "_model_name": "LayoutModel",
       "_view_count": null,
       "_view_module": "@jupyter-widgets/base",
       "_view_module_version": "1.2.0",
       "_view_name": "LayoutView",
       "align_content": null,
       "align_items": null,
       "align_self": null,
       "border": null,
       "bottom": null,
       "display": null,
       "flex": null,
       "flex_flow": null,
       "grid_area": null,
       "grid_auto_columns": null,
       "grid_auto_flow": null,
       "grid_auto_rows": null,
       "grid_column": null,
       "grid_gap": null,
       "grid_row": null,
       "grid_template_areas": null,
       "grid_template_columns": null,
       "grid_template_rows": null,
       "height": null,
       "justify_content": null,
       "justify_items": null,
       "left": null,
       "margin": null,
       "max_height": null,
       "max_width": null,
       "min_height": null,
       "min_width": null,
       "object_fit": null,
       "object_position": null,
       "order": null,
       "overflow": null,
       "overflow_x": null,
       "overflow_y": null,
       "padding": null,
       "right": null,
       "top": null,
       "visibility": null,
       "width": null
      }
     },
     "188d89477dfe4e4a8eb46e0f3371b638": {
      "model_module": "@jupyter-widgets/controls",
      "model_module_version": "1.5.0",
      "model_name": "HBoxModel",
      "state": {
       "_dom_classes": [],
       "_model_module": "@jupyter-widgets/controls",
       "_model_module_version": "1.5.0",
       "_model_name": "HBoxModel",
       "_view_count": null,
       "_view_module": "@jupyter-widgets/controls",
       "_view_module_version": "1.5.0",
       "_view_name": "HBoxView",
       "box_style": "",
       "children": [
        "IPY_MODEL_a0c617cde6094c0c9d2e4f3519c38c3d",
        "IPY_MODEL_dac1166d76134380a0246dfffa7abb2f",
        "IPY_MODEL_4932ca24cc774d8397be7029253bea6b"
       ],
       "layout": "IPY_MODEL_99367997e8ad443da3f96031ac397b37"
      }
     },
     "4932ca24cc774d8397be7029253bea6b": {
      "model_module": "@jupyter-widgets/controls",
      "model_module_version": "1.5.0",
      "model_name": "HTMLModel",
      "state": {
       "_dom_classes": [],
       "_model_module": "@jupyter-widgets/controls",
       "_model_module_version": "1.5.0",
       "_model_name": "HTMLModel",
       "_view_count": null,
       "_view_module": "@jupyter-widgets/controls",
       "_view_module_version": "1.5.0",
       "_view_name": "HTMLView",
       "description": "",
       "description_tooltip": null,
       "layout": "IPY_MODEL_bc432901559c4a39b762ac8089092ea0",
       "placeholder": "​",
       "style": "IPY_MODEL_f186fe0de2834119905b6e0442cadf7b",
       "value": " 200/200 [00:13&lt;00:00, 18.39it/s]"
      }
     },
     "824565993bf9473ab06c4aaa0ebe878c": {
      "model_module": "@jupyter-widgets/base",
      "model_module_version": "1.2.0",
      "model_name": "LayoutModel",
      "state": {
       "_model_module": "@jupyter-widgets/base",
       "_model_module_version": "1.2.0",
       "_model_name": "LayoutModel",
       "_view_count": null,
       "_view_module": "@jupyter-widgets/base",
       "_view_module_version": "1.2.0",
       "_view_name": "LayoutView",
       "align_content": null,
       "align_items": null,
       "align_self": null,
       "border": null,
       "bottom": null,
       "display": null,
       "flex": null,
       "flex_flow": null,
       "grid_area": null,
       "grid_auto_columns": null,
       "grid_auto_flow": null,
       "grid_auto_rows": null,
       "grid_column": null,
       "grid_gap": null,
       "grid_row": null,
       "grid_template_areas": null,
       "grid_template_columns": null,
       "grid_template_rows": null,
       "height": null,
       "justify_content": null,
       "justify_items": null,
       "left": null,
       "margin": null,
       "max_height": null,
       "max_width": null,
       "min_height": null,
       "min_width": null,
       "object_fit": null,
       "object_position": null,
       "order": null,
       "overflow": null,
       "overflow_x": null,
       "overflow_y": null,
       "padding": null,
       "right": null,
       "top": null,
       "visibility": null,
       "width": null
      }
     },
     "99367997e8ad443da3f96031ac397b37": {
      "model_module": "@jupyter-widgets/base",
      "model_module_version": "1.2.0",
      "model_name": "LayoutModel",
      "state": {
       "_model_module": "@jupyter-widgets/base",
       "_model_module_version": "1.2.0",
       "_model_name": "LayoutModel",
       "_view_count": null,
       "_view_module": "@jupyter-widgets/base",
       "_view_module_version": "1.2.0",
       "_view_name": "LayoutView",
       "align_content": null,
       "align_items": null,
       "align_self": null,
       "border": null,
       "bottom": null,
       "display": null,
       "flex": null,
       "flex_flow": null,
       "grid_area": null,
       "grid_auto_columns": null,
       "grid_auto_flow": null,
       "grid_auto_rows": null,
       "grid_column": null,
       "grid_gap": null,
       "grid_row": null,
       "grid_template_areas": null,
       "grid_template_columns": null,
       "grid_template_rows": null,
       "height": null,
       "justify_content": null,
       "justify_items": null,
       "left": null,
       "margin": null,
       "max_height": null,
       "max_width": null,
       "min_height": null,
       "min_width": null,
       "object_fit": null,
       "object_position": null,
       "order": null,
       "overflow": null,
       "overflow_x": null,
       "overflow_y": null,
       "padding": null,
       "right": null,
       "top": null,
       "visibility": null,
       "width": null
      }
     },
     "a0c617cde6094c0c9d2e4f3519c38c3d": {
      "model_module": "@jupyter-widgets/controls",
      "model_module_version": "1.5.0",
      "model_name": "HTMLModel",
      "state": {
       "_dom_classes": [],
       "_model_module": "@jupyter-widgets/controls",
       "_model_module_version": "1.5.0",
       "_model_name": "HTMLModel",
       "_view_count": null,
       "_view_module": "@jupyter-widgets/controls",
       "_view_module_version": "1.5.0",
       "_view_name": "HTMLView",
       "description": "",
       "description_tooltip": null,
       "layout": "IPY_MODEL_824565993bf9473ab06c4aaa0ebe878c",
       "placeholder": "​",
       "style": "IPY_MODEL_ea487aa2c5a447feb89a6ace741a6c3e",
       "value": "100%"
      }
     },
     "bc432901559c4a39b762ac8089092ea0": {
      "model_module": "@jupyter-widgets/base",
      "model_module_version": "1.2.0",
      "model_name": "LayoutModel",
      "state": {
       "_model_module": "@jupyter-widgets/base",
       "_model_module_version": "1.2.0",
       "_model_name": "LayoutModel",
       "_view_count": null,
       "_view_module": "@jupyter-widgets/base",
       "_view_module_version": "1.2.0",
       "_view_name": "LayoutView",
       "align_content": null,
       "align_items": null,
       "align_self": null,
       "border": null,
       "bottom": null,
       "display": null,
       "flex": null,
       "flex_flow": null,
       "grid_area": null,
       "grid_auto_columns": null,
       "grid_auto_flow": null,
       "grid_auto_rows": null,
       "grid_column": null,
       "grid_gap": null,
       "grid_row": null,
       "grid_template_areas": null,
       "grid_template_columns": null,
       "grid_template_rows": null,
       "height": null,
       "justify_content": null,
       "justify_items": null,
       "left": null,
       "margin": null,
       "max_height": null,
       "max_width": null,
       "min_height": null,
       "min_width": null,
       "object_fit": null,
       "object_position": null,
       "order": null,
       "overflow": null,
       "overflow_x": null,
       "overflow_y": null,
       "padding": null,
       "right": null,
       "top": null,
       "visibility": null,
       "width": null
      }
     },
     "d669072ce8824fadb528ee223f8f8be7": {
      "model_module": "@jupyter-widgets/controls",
      "model_module_version": "1.5.0",
      "model_name": "ProgressStyleModel",
      "state": {
       "_model_module": "@jupyter-widgets/controls",
       "_model_module_version": "1.5.0",
       "_model_name": "ProgressStyleModel",
       "_view_count": null,
       "_view_module": "@jupyter-widgets/base",
       "_view_module_version": "1.2.0",
       "_view_name": "StyleView",
       "bar_color": null,
       "description_width": ""
      }
     },
     "dac1166d76134380a0246dfffa7abb2f": {
      "model_module": "@jupyter-widgets/controls",
      "model_module_version": "1.5.0",
      "model_name": "FloatProgressModel",
      "state": {
       "_dom_classes": [],
       "_model_module": "@jupyter-widgets/controls",
       "_model_module_version": "1.5.0",
       "_model_name": "FloatProgressModel",
       "_view_count": null,
       "_view_module": "@jupyter-widgets/controls",
       "_view_module_version": "1.5.0",
       "_view_name": "ProgressView",
       "bar_style": "success",
       "description": "",
       "description_tooltip": null,
       "layout": "IPY_MODEL_14ab7ffaa68945ea855bbd508e67b393",
       "max": 200.0,
       "min": 0.0,
       "orientation": "horizontal",
       "style": "IPY_MODEL_d669072ce8824fadb528ee223f8f8be7",
       "value": 200.0
      }
     },
     "ea487aa2c5a447feb89a6ace741a6c3e": {
      "model_module": "@jupyter-widgets/controls",
      "model_module_version": "1.5.0",
      "model_name": "DescriptionStyleModel",
      "state": {
       "_model_module": "@jupyter-widgets/controls",
       "_model_module_version": "1.5.0",
       "_model_name": "DescriptionStyleModel",
       "_view_count": null,
       "_view_module": "@jupyter-widgets/base",
       "_view_module_version": "1.2.0",
       "_view_name": "StyleView",
       "description_width": ""
      }
     },
     "f186fe0de2834119905b6e0442cadf7b": {
      "model_module": "@jupyter-widgets/controls",
      "model_module_version": "1.5.0",
      "model_name": "DescriptionStyleModel",
      "state": {
       "_model_module": "@jupyter-widgets/controls",
       "_model_module_version": "1.5.0",
       "_model_name": "DescriptionStyleModel",
       "_view_count": null,
       "_view_module": "@jupyter-widgets/base",
       "_view_module_version": "1.2.0",
       "_view_name": "StyleView",
       "description_width": ""
      }
     }
    },
    "version_major": 2,
    "version_minor": 0
   }
  }
 },
 "nbformat": 4,
 "nbformat_minor": 2
}
