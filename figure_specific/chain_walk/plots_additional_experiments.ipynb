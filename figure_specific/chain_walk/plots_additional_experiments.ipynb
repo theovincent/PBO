{
 "cells": [
  {
   "cell_type": "markdown",
   "metadata": {},
   "source": [
    "# Plots with confidence interval"
   ]
  },
  {
   "cell_type": "code",
   "execution_count": 1,
   "metadata": {},
   "outputs": [],
   "source": [
    "%load_ext autoreload\n",
    "%autoreload 2\n",
    "\n",
    "import warnings\n",
    "warnings.simplefilter(action='ignore', category=FutureWarning)\n",
    "import os\n",
    "import json\n",
    "import numpy as np\n",
    "from pbo.utils.confidence_interval import confidence_interval\n",
    "\n",
    "\n",
    "parameters = json.load(open(\"parameters.json\"))\n",
    "\n",
    "max_bellman_iterations = 5\n",
    "max_bellman_iterations_validation = max_bellman_iterations + 20\n",
    "seeds = range(1, 21)\n",
    "n_states = parameters[\"n_states\"]\n",
    "n_actions = 2\n",
    "n_weights = parameters[\"n_weights\"]\n",
    "n_repetitions = parameters[\"n_repetitions\"]\n",
    "ticks_freqs = {\"2\": 2, \"5\": 5, \"15\":5}\n",
    "ticks_freq = ticks_freqs[str(max_bellman_iterations)]"
   ]
  },
  {
   "cell_type": "markdown",
   "metadata": {},
   "source": [
    "## Extract optimal"
   ]
  },
  {
   "cell_type": "code",
   "execution_count": 4,
   "metadata": {},
   "outputs": [],
   "source": [
    "optimal_q = np.load(f\"figures/data/optimal/Q.npy\")\n",
    "optimal_v = np.load(f\"figures/data/optimal/V.npy\")\n",
    "\n",
    "pbo_optimal_q = np.load(f\"figures/data/PBO_optimal/{max_bellman_iterations}_Q.npy\")\n",
    "pbo_optimal_bi = np.load(f\"figures/data/PBO_optimal/{max_bellman_iterations}_BI.npy\")\n",
    "pbo_optimal_v = np.load(f\"figures/data/PBO_optimal/{max_bellman_iterations}_V.npy\")\n",
    "\n",
    "pbo_optimal_q_mean = np.sqrt(np.mean(np.square(pbo_optimal_q - optimal_q), axis=(1, 2)))\n",
    "pbo_optimal_v_mean = np.sqrt(np.mean(np.square(pbo_optimal_v - optimal_v), axis=1))\n",
    "pbo_optimal_bi_mean = np.sqrt(np.mean(np.square(pbo_optimal_bi[:-1] - pbo_optimal_q[1:]), axis=(1, 2)))"
   ]
  },
  {
   "cell_type": "markdown",
   "metadata": {},
   "source": [
    "## Investigation on the number of weights"
   ]
  },
  {
   "cell_type": "code",
   "execution_count": 2,
   "metadata": {},
   "outputs": [],
   "source": [
    "n_weights_list = [20, 50, 100]\n",
    "n_weights_colors = [\"orange\", \"blue\", \"green\"]"
   ]
  },
  {
   "cell_type": "markdown",
   "metadata": {},
   "source": [
    "### Extract data"
   ]
  },
  {
   "cell_type": "code",
   "execution_count": 3,
   "metadata": {},
   "outputs": [
    {
     "ename": "FileNotFoundError",
     "evalue": "[Errno 2] No such file or directory: 'figures/data/PBO_linear/5_Q_20_1.npy'",
     "output_type": "error",
     "traceback": [
      "\u001b[0;31m---------------------------------------------------------------------------\u001b[0m",
      "\u001b[0;31mFileNotFoundError\u001b[0m                         Traceback (most recent call last)",
      "\u001b[1;32m/home/vincent/Darmstadt/PBO/figure_specific/chain_walk/plots_additional_experiments.ipynb Cell 18\u001b[0m in \u001b[0;36m<cell line: 5>\u001b[0;34m()\u001b[0m\n\u001b[1;32m      <a href='vscode-notebook-cell:/home/vincent/Darmstadt/PBO/figure_specific/chain_walk/plots_additional_experiments.ipynb#X23sZmlsZQ%3D%3D?line=4'>5</a>\u001b[0m \u001b[39mfor\u001b[39;00m idx_n_weights, n_weights_ \u001b[39min\u001b[39;00m \u001b[39menumerate\u001b[39m(n_weights_list):\n\u001b[1;32m      <a href='vscode-notebook-cell:/home/vincent/Darmstadt/PBO/figure_specific/chain_walk/plots_additional_experiments.ipynb#X23sZmlsZQ%3D%3D?line=5'>6</a>\u001b[0m     \u001b[39mfor\u001b[39;00m idx_seed, seed \u001b[39min\u001b[39;00m \u001b[39menumerate\u001b[39m(seeds):\n\u001b[0;32m----> <a href='vscode-notebook-cell:/home/vincent/Darmstadt/PBO/figure_specific/chain_walk/plots_additional_experiments.ipynb#X23sZmlsZQ%3D%3D?line=6'>7</a>\u001b[0m         pbo_linear_q_n_weights[idx_n_weights, idx_seed] \u001b[39m=\u001b[39m np\u001b[39m.\u001b[39;49mload(\u001b[39mf\u001b[39;49m\u001b[39m\"\u001b[39;49m\u001b[39mfigures/data/PBO_linear/\u001b[39;49m\u001b[39m{\u001b[39;49;00mmax_bellman_iterations\u001b[39m}\u001b[39;49;00m\u001b[39m_Q_\u001b[39;49m\u001b[39m{\u001b[39;49;00mn_weights_\u001b[39m}\u001b[39;49;00m\u001b[39m_\u001b[39;49m\u001b[39m{\u001b[39;49;00mseed\u001b[39m}\u001b[39;49;00m\u001b[39m.npy\u001b[39;49m\u001b[39m\"\u001b[39;49m)\n\u001b[1;32m      <a href='vscode-notebook-cell:/home/vincent/Darmstadt/PBO/figure_specific/chain_walk/plots_additional_experiments.ipynb#X23sZmlsZQ%3D%3D?line=7'>8</a>\u001b[0m         pbo_linear_bi_n_weights[idx_n_weights, idx_seed] \u001b[39m=\u001b[39m np\u001b[39m.\u001b[39mload(\u001b[39mf\u001b[39m\u001b[39m\"\u001b[39m\u001b[39mfigures/data/PBO_linear/\u001b[39m\u001b[39m{\u001b[39;00mmax_bellman_iterations\u001b[39m}\u001b[39;00m\u001b[39m_BI_\u001b[39m\u001b[39m{\u001b[39;00mn_weights_\u001b[39m}\u001b[39;00m\u001b[39m_\u001b[39m\u001b[39m{\u001b[39;00mseed\u001b[39m}\u001b[39;00m\u001b[39m.npy\u001b[39m\u001b[39m\"\u001b[39m)\n\u001b[1;32m      <a href='vscode-notebook-cell:/home/vincent/Darmstadt/PBO/figure_specific/chain_walk/plots_additional_experiments.ipynb#X23sZmlsZQ%3D%3D?line=8'>9</a>\u001b[0m         pbo_linear_v_n_weights[idx_n_weights, idx_seed] \u001b[39m=\u001b[39m np\u001b[39m.\u001b[39mload(\u001b[39mf\u001b[39m\u001b[39m\"\u001b[39m\u001b[39mfigures/data/PBO_linear/\u001b[39m\u001b[39m{\u001b[39;00mmax_bellman_iterations\u001b[39m}\u001b[39;00m\u001b[39m_V_\u001b[39m\u001b[39m{\u001b[39;00mn_weights_\u001b[39m}\u001b[39;00m\u001b[39m_\u001b[39m\u001b[39m{\u001b[39;00mseed\u001b[39m}\u001b[39;00m\u001b[39m.npy\u001b[39m\u001b[39m\"\u001b[39m)\n",
      "File \u001b[0;32m~/Darmstadt/PBO/env_cpu/lib/python3.8/site-packages/numpy/lib/npyio.py:390\u001b[0m, in \u001b[0;36mload\u001b[0;34m(file, mmap_mode, allow_pickle, fix_imports, encoding)\u001b[0m\n\u001b[1;32m    388\u001b[0m     own_fid \u001b[39m=\u001b[39m \u001b[39mFalse\u001b[39;00m\n\u001b[1;32m    389\u001b[0m \u001b[39melse\u001b[39;00m:\n\u001b[0;32m--> 390\u001b[0m     fid \u001b[39m=\u001b[39m stack\u001b[39m.\u001b[39menter_context(\u001b[39mopen\u001b[39;49m(os_fspath(file), \u001b[39m\"\u001b[39;49m\u001b[39mrb\u001b[39;49m\u001b[39m\"\u001b[39;49m))\n\u001b[1;32m    391\u001b[0m     own_fid \u001b[39m=\u001b[39m \u001b[39mTrue\u001b[39;00m\n\u001b[1;32m    393\u001b[0m \u001b[39m# Code to distinguish from NumPy binary files and pickles.\u001b[39;00m\n",
      "\u001b[0;31mFileNotFoundError\u001b[0m: [Errno 2] No such file or directory: 'figures/data/PBO_linear/5_Q_20_1.npy'"
     ]
    }
   ],
   "source": [
    "pbo_linear_q_n_weights = np.zeros((len(n_weights_list), len(seeds), max_bellman_iterations_validation + 2, n_states, n_actions))\n",
    "pbo_linear_bi_n_weights = np.zeros((len(n_weights_list), len(seeds), max_bellman_iterations_validation + 2, n_states, n_actions))\n",
    "pbo_linear_v_n_weights = np.zeros((len(n_weights_list), len(seeds), max_bellman_iterations_validation + 2, n_states))\n",
    "\n",
    "for idx_n_weights, n_weights_ in enumerate(n_weights_list):\n",
    "    for idx_seed, seed in enumerate(seeds):\n",
    "        pbo_linear_q_n_weights[idx_n_weights, idx_seed] = np.load(f\"figures/data/PBO_linear/{max_bellman_iterations}_Q_{n_weights_}_{seed}.npy\")\n",
    "        pbo_linear_bi_n_weights[idx_n_weights, idx_seed] = np.load(f\"figures/data/PBO_linear/{max_bellman_iterations}_BI_{n_weights_}_{seed}.npy\")\n",
    "        pbo_linear_v_n_weights[idx_n_weights, idx_seed] = np.load(f\"figures/data/PBO_linear/{max_bellman_iterations}_V_{n_weights_}_{seed}.npy\")"
   ]
  },
  {
   "cell_type": "markdown",
   "metadata": {},
   "source": [
    "### Distance to the optimal Q functions"
   ]
  },
  {
   "cell_type": "code",
   "execution_count": null,
   "metadata": {},
   "outputs": [],
   "source": [
    "pbo_linear_q_mean_n_weights = np.zeros((len(n_weights_list), max_bellman_iterations_validation + 2))\n",
    "pbo_linear_q_confidence_interval_n_weights = np.zeros((len(n_weights_list), 2, max_bellman_iterations_validation + 2))\n",
    "\n",
    "for idx_n_weights in range(len(n_weights_list)):\n",
    "    pbo_linear_q_mean_n_weights[idx_n_weights] = np.sqrt(np.mean(np.square(pbo_linear_q_n_weights[idx_n_weights] - optimal_q), axis=(2, 3))).mean(axis=0)\n",
    "    pbo_linear_q_std_n_weights = np.sqrt(np.mean(np.square(pbo_linear_q_n_weights[idx_n_weights] - optimal_q), axis=(2, 3))).std(axis=0)\n",
    "    pbo_linear_q_confidence_interval_n_weights[idx_n_weights] = confidence_interval(pbo_linear_q_mean_n_weights[idx_n_weights], pbo_linear_q_std_n_weights, len(seeds))"
   ]
  },
  {
   "cell_type": "code",
   "execution_count": null,
   "metadata": {},
   "outputs": [],
   "source": [
    "import matplotlib.pyplot as plt \n",
    "\n",
    "plt.rc(\"font\", size=15)\n",
    "plt.rc(\"lines\", linewidth=3)\n",
    "\n",
    "iterations = range(max_bellman_iterations + 1)\n",
    "iterations_validation = range(max_bellman_iterations_validation + 1)\n",
    "\n",
    "plt.plot(iterations_validation, pbo_optimal_q_mean, label=\"PBO optimal\", color=\"black\")\n",
    "\n",
    "for idx_n_weights, n_weights_ in enumerate(n_weights_list):\n",
    "    plt.plot(iterations_validation, pbo_linear_q_mean_n_weights[idx_n_weights, :-1], label=f\"PBO linear with {n_weights_} weights\", color=n_weights_colors[idx_n_weights])\n",
    "    plt.fill_between(iterations_validation, pbo_linear_q_confidence_interval_n_weights[idx_n_weights, 0, :-1], pbo_linear_q_confidence_interval_n_weights[idx_n_weights, 1, :-1], color=n_weights_colors[idx_n_weights], alpha=0.3)\n",
    "\n",
    "    plt.hlines(pbo_linear_q_mean_n_weights[idx_n_weights, -1], 0, max_bellman_iterations_validation, color=n_weights_colors[idx_n_weights], linestyle=\"--\", label=f\"PBO linear fixed point with {n_weights_} weights\")\n",
    "    plt.fill_between(iterations_validation, pbo_linear_q_confidence_interval_n_weights[idx_n_weights, 0, -1], pbo_linear_q_confidence_interval_n_weights[idx_n_weights, 1, -1], color=n_weights_colors[idx_n_weights], alpha=0.3)\n",
    "\n",
    "plt.axvline(max_bellman_iterations, color=\"black\", linestyle=\"--\")\n",
    "plt.xticks(range(0, max_bellman_iterations_validation + 1, ticks_freq))\n",
    "plt.xlabel(\"#Iterations\")\n",
    "\n",
    "plt.title(r\"$|| Q^* - Q_i ||_2$\")\n",
    "plt.legend()\n",
    "plt.grid(zorder=0)\n",
    "_ = plt.savefig(f\"figures/n_weights_distance_to_optimal_Q_{max_bellman_iterations}.pdf\", bbox_inches='tight')"
   ]
  },
  {
   "cell_type": "markdown",
   "metadata": {},
   "source": [
    "### Distances with the optimal V function"
   ]
  },
  {
   "cell_type": "code",
   "execution_count": null,
   "metadata": {},
   "outputs": [],
   "source": [
    "pbo_linear_v_mean_n_weights = np.zeros((len(n_weights_list), max_bellman_iterations_validation + 2))\n",
    "pbo_linear_v_confidence_interval_n_weights = np.zeros((len(n_weights_list), 2, max_bellman_iterations_validation + 2))\n",
    "\n",
    "for idx_n_weights in range(len(n_weights_list)):\n",
    "    pbo_linear_v_mean_n_weights[idx_n_weights] = np.sqrt(np.mean(np.square(pbo_linear_v_n_weights[idx_n_weights] - optimal_v), axis=2)).mean(axis=0)\n",
    "    pbo_linear_v_std_n_weights = np.sqrt(np.mean(np.square(pbo_linear_v_n_weights[idx_n_weights] - optimal_v), axis=2)).std(axis=0)\n",
    "    pbo_linear_v_confidence_interval_n_weights[idx_n_weights] = confidence_interval(pbo_linear_v_mean_n_weights[idx_n_weights], pbo_linear_v_std_n_weights, len(seeds))"
   ]
  },
  {
   "cell_type": "code",
   "execution_count": null,
   "metadata": {},
   "outputs": [],
   "source": [
    "import matplotlib.pyplot as plt\n",
    "\n",
    "plt.rc(\"font\", size=15)\n",
    "plt.rc(\"lines\", linewidth=3)\n",
    "\n",
    "iterations = range(max_bellman_iterations + 1)\n",
    "iterations_validation = range(max_bellman_iterations_validation + 1)\n",
    "\n",
    "for idx_n_weights, n_weights_ in enumerate(n_weights_list):\n",
    "    plt.plot(iterations_validation, pbo_linear_v_mean_n_weights[idx_n_weights, :-1], label=f\"PBO linear; {n_weights_} weights\", color=n_weights_colors[idx_n_weights], zorder=7)\n",
    "    plt.fill_between(iterations_validation, pbo_linear_v_confidence_interval_n_weights[idx_n_weights, 0, :-1], pbo_linear_v_confidence_interval_n_weights[idx_n_weights, 1, :-1], color=n_weights_colors[idx_n_weights], alpha=0.3)\n",
    "\n",
    "    plt.hlines(pbo_linear_v_mean_n_weights[idx_n_weights, -1], 0, max_bellman_iterations_validation, color=n_weights_colors[idx_n_weights], linestyle=\"--\", zorder=3)\n",
    "    plt.fill_between(iterations_validation, pbo_linear_v_confidence_interval_n_weights[idx_n_weights, 0, -1], pbo_linear_v_confidence_interval_n_weights[idx_n_weights, 1, -1], color=n_weights_colors[idx_n_weights], alpha=0.3)\n",
    "\n",
    "plt.plot(iterations_validation, pbo_optimal_v_mean, label=\"PBO optimal\", color=\"black\", zorder=4)\n",
    "\n",
    "plt.axvline(max_bellman_iterations, color=\"black\", linestyle=\"--\", zorder=2)\n",
    "plt.xticks(range(0, max_bellman_iterations_validation + 1, ticks_freq))\n",
    "plt.xlabel(\"#Iterations\")\n",
    "\n",
    "plt.title(r\"$ || V^* - V^{\\pi_i} ||_2 $\")\n",
    "plt.legend()\n",
    "plt.grid(zorder=0)\n",
    "_ = plt.savefig(f\"figures/n_weights_distance_to_optimal_V_{max_bellman_iterations}.pdf\", bbox_inches='tight')"
   ]
  },
  {
   "cell_type": "markdown",
   "metadata": {},
   "source": [
    "### Distance to the optimal Bellman iteration"
   ]
  },
  {
   "cell_type": "code",
   "execution_count": null,
   "metadata": {},
   "outputs": [],
   "source": [
    "pbo_linear_bi_mean_n_weights = np.zeros((len(n_weights_list), max_bellman_iterations_validation))\n",
    "pbo_linear_bi_confidence_interval_n_weights = np.zeros((len(n_weights_list), 2, max_bellman_iterations_validation))\n",
    "\n",
    "pbo_linear_bi_fixed_point_mean_n_weights = np.zeros(len(n_weights_list))\n",
    "pbo_linear_bi_fixed_point_confidence_interval_n_weights = np.zeros((len(n_weights_list), 2, 1))\n",
    "\n",
    "for idx_n_weights in range(len(n_weights_list)):\n",
    "    pbo_linear_bi_mean_n_weights[idx_n_weights] = np.sqrt(np.mean(np.square(pbo_linear_bi_n_weights[idx_n_weights, :, :-2] - pbo_linear_q_n_weights[idx_n_weights, :, 1:-1]), axis=(2, 3))).mean(axis=0)\n",
    "    pbo_linear_bi_std_n_weights = np.sqrt(np.mean(np.square(pbo_linear_bi_n_weights[idx_n_weights, :, :-2] - pbo_linear_q_n_weights[idx_n_weights, :, 1:-1]), axis=(2, 3))).std(axis=0)\n",
    "    pbo_linear_bi_confidence_interval_n_weights[idx_n_weights] = confidence_interval(pbo_linear_bi_mean_n_weights[idx_n_weights], pbo_linear_bi_std_n_weights, len(seeds))\n",
    "\n",
    "    pbo_linear_bi_fixed_point_mean_n_weights[idx_n_weights] = np.sqrt(np.mean(np.square(pbo_linear_bi_n_weights[idx_n_weights, :, -1] - pbo_linear_q_n_weights[idx_n_weights, :, -1]), axis=(1, 2))).mean(axis=0)\n",
    "    pbo_linear_bi_fixed_point_std_n_weights = np.sqrt(np.mean(np.square(pbo_linear_bi_n_weights[idx_n_weights, :, -1] - pbo_linear_q_n_weights[idx_n_weights, :, -1]), axis=(1, 2))).std(axis=0)\n",
    "    pbo_linear_bi_fixed_point_confidence_interval_n_weights[idx_n_weights] = confidence_interval([pbo_linear_bi_fixed_point_mean_n_weights[idx_n_weights]], [pbo_linear_bi_fixed_point_std_n_weights], len(seeds))"
   ]
  },
  {
   "cell_type": "code",
   "execution_count": null,
   "metadata": {},
   "outputs": [],
   "source": [
    "import matplotlib.pyplot as plt \n",
    "\n",
    "plt.rc(\"font\", size=15)\n",
    "plt.rc(\"lines\", linewidth=3)\n",
    "\n",
    "iterations = range(1, max_bellman_iterations + 1)\n",
    "iterations_validation = range(1, max_bellman_iterations_validation + 1)\n",
    "\n",
    "plt.plot(iterations_validation, pbo_optimal_bi_mean, label=\"PBO optimal\", color=\"black\")\n",
    "\n",
    "for idx_n_weights, n_weights_ in enumerate(n_weights_list):\n",
    "    plt.plot(iterations_validation, pbo_linear_bi_mean_n_weights[idx_n_weights], label=f\"PBO linear with {n_weights_} weights\", color=n_weights_colors[idx_n_weights])\n",
    "    plt.fill_between(iterations_validation, pbo_linear_bi_confidence_interval_n_weights[idx_n_weights, 0], pbo_linear_bi_confidence_interval_n_weights[idx_n_weights, 1], color=n_weights_colors[idx_n_weights], alpha=0.3)\n",
    "\n",
    "    plt.hlines(pbo_linear_bi_fixed_point_mean_n_weights[idx_n_weights], 1, max_bellman_iterations_validation, color=n_weights_colors[idx_n_weights], linestyle=\"--\", label=f\"PBO linear fixed point with {n_weights_} weights\")\n",
    "    plt.fill_between(iterations_validation, pbo_linear_bi_confidence_interval_n_weights[idx_n_weights, 0], pbo_linear_bi_confidence_interval_n_weights[idx_n_weights, 1], color=n_weights_colors[idx_n_weights], alpha=0.3)\n",
    "\n",
    "plt.axvline(max_bellman_iterations, color=\"black\", linestyle=\"--\")\n",
    "plt.xticks(range(0, max_bellman_iterations_validation + 1, ticks_freq))\n",
    "plt.xlabel(\"#Iterations\")\n",
    "\n",
    "plt.title(r\"$|| \\Gamma^*Q_{i-1} - Q_i ||_2$\")\n",
    "plt.legend()\n",
    "plt.grid(zorder=0)\n",
    "_ = plt.savefig(f\"figures/n_weights_distance_to_optimal_BI_{max_bellman_iterations}.pdf\", bbox_inches='tight')"
   ]
  },
  {
   "cell_type": "markdown",
   "metadata": {},
   "source": [
    "## Investigation on the number of repetitions"
   ]
  },
  {
   "cell_type": "code",
   "execution_count": null,
   "metadata": {},
   "outputs": [],
   "source": [
    "n_repetitions_list = [2, 5, 10]\n",
    "n_repetitions_colors = [\"orange\", \"blue\", \"green\"]"
   ]
  },
  {
   "cell_type": "markdown",
   "metadata": {},
   "source": [
    "### Extract data"
   ]
  },
  {
   "cell_type": "code",
   "execution_count": null,
   "metadata": {},
   "outputs": [],
   "source": [
    "pbo_max_linear_q_n_repetitions = np.zeros((len(n_repetitions_list), len(seeds), max_bellman_iterations_validation + 1, n_states, n_actions))\n",
    "pbo_max_linear_bi_n_repetitions = np.zeros((len(n_repetitions_list), len(seeds), max_bellman_iterations_validation + 1, n_states, n_actions))\n",
    "pbo_max_linear_v_n_repetitions = np.zeros((len(n_repetitions_list), len(seeds), max_bellman_iterations_validation + 1, n_states))\n",
    "\n",
    "for idx_n_repetitions, n_repetitions_ in enumerate(n_repetitions_list):\n",
    "    for idx_seed, seed in enumerate(seeds):\n",
    "        pbo_max_linear_q_n_repetitions[idx_n_repetitions, idx_seed] = np.load(f\"figures/data/PBO_max_linear/{max_bellman_iterations}_Q_{n_repetitions_}_{seed}.npy\")\n",
    "        pbo_max_linear_bi_n_repetitions[idx_n_repetitions, idx_seed] = np.load(f\"figures/data/PBO_max_linear/{max_bellman_iterations}_BI_{n_repetitions_}_{seed}.npy\")\n",
    "        pbo_max_linear_v_n_repetitions[idx_n_repetitions, idx_seed] = np.load(f\"figures/data/PBO_max_linear/{max_bellman_iterations}_V_{n_repetitions}_{seed}.npy\")"
   ]
  },
  {
   "cell_type": "markdown",
   "metadata": {},
   "source": [
    "### Distance to the optimal Q functions"
   ]
  },
  {
   "cell_type": "code",
   "execution_count": null,
   "metadata": {},
   "outputs": [],
   "source": [
    "pbo_max_linear_q_mean_n_repetitions = np.zeros((len(n_repetitions_list), max_bellman_iterations_validation + 1))\n",
    "pbo_max_linear_q_confidence_interval_n_repetitions = np.zeros((len(n_repetitions_list), 2, max_bellman_iterations_validation + 1))\n",
    "\n",
    "for idx_n_repetitions in range(len(n_repetitions_list)):\n",
    "    pbo_max_linear_q_mean_n_repetitions[idx_n_repetitions] = np.sqrt(np.mean(np.square(pbo_max_linear_q_n_repetitions[idx_n_repetitions] - optimal_q), axis=(2, 3))).mean(axis=0)\n",
    "    pbo_max_linear_q_std_n_repetitions = np.sqrt(np.mean(np.square(pbo_max_linear_q_n_repetitions[idx_n_repetitions] - optimal_q), axis=(2, 3))).std(axis=0)\n",
    "    pbo_max_linear_q_confidence_interval_n_repetitions[idx_n_repetitions] = confidence_interval(pbo_max_linear_q_mean_n_repetitions[idx_n_repetitions], pbo_max_linear_q_std_n_repetitions, len(seeds))"
   ]
  },
  {
   "cell_type": "code",
   "execution_count": null,
   "metadata": {},
   "outputs": [],
   "source": [
    "import matplotlib.pyplot as plt \n",
    "\n",
    "plt.rc(\"font\", size=15)\n",
    "plt.rc(\"lines\", linewidth=3)\n",
    "\n",
    "iterations = range(max_bellman_iterations + 1)\n",
    "iterations_validation = range(max_bellman_iterations_validation + 1)\n",
    "\n",
    "plt.plot(iterations_validation, pbo_optimal_q_mean, label=\"PBO optimal\", color=\"black\")\n",
    "\n",
    "for idx_n_repetitions, n_repetitions_ in enumerate(n_repetitions_list):\n",
    "    plt.plot(iterations_validation, pbo_max_linear_q_mean_n_repetitions[idx_n_repetitions], label=f\"PBO max-linear with {n_repetitions_} repetitions\", color=n_repetitions_colors[idx_n_repetitions])\n",
    "    plt.fill_between(iterations_validation, pbo_max_linear_q_confidence_interval_n_repetitions[idx_n_repetitions, 0], pbo_max_linear_q_confidence_interval_n_repetitions[idx_n_repetitions, 1], color=n_repetitions_colors[idx_n_repetitions], alpha=0.3)\n",
    "\n",
    "plt.axvline(max_bellman_iterations, color=\"black\", linestyle=\"--\")\n",
    "plt.xticks(range(0, max_bellman_iterations_validation + 1, ticks_freq))\n",
    "plt.xlabel(\"#Iterations\")\n",
    "\n",
    "plt.title(r\"$|| Q^* - Q_i ||_2$\")\n",
    "plt.legend()\n",
    "plt.grid(zorder=0)\n",
    "_ = plt.savefig(f\"figures/n_repetitions_distance_to_optimal_Q_{max_bellman_iterations}.pdf\", bbox_inches='tight')"
   ]
  },
  {
   "cell_type": "markdown",
   "metadata": {},
   "source": [
    "### Distances with the optimal V function"
   ]
  },
  {
   "cell_type": "code",
   "execution_count": null,
   "metadata": {},
   "outputs": [],
   "source": [
    "pbo_max_linear_v_mean_n_repetitions = np.zeros((len(n_repetitions_list), max_bellman_iterations_validation + 1))\n",
    "pbo_max_linear_v_confidence_interval_n_repetitions = np.zeros((len(n_repetitions_list), 2, max_bellman_iterations_validation + 1))\n",
    "\n",
    "for idx_n_repetitions in range(len(n_repetitions_list)):\n",
    "    pbo_max_linear_v_mean_n_repetitions[idx_n_repetitions] = np.sqrt(np.mean(np.square(pbo_max_linear_v_n_repetitions[idx_n_repetitions] - optimal_v), axis=2)).mean(axis=0)\n",
    "    pbo_max_linear_v_std_n_repetitions = np.sqrt(np.mean(np.square(pbo_max_linear_v_n_repetitions[idx_n_repetitions] - optimal_v), axis=2)).std(axis=0)\n",
    "    pbo_max_linear_v_confidence_interval_n_repetitions[idx_n_repetitions] = confidence_interval(pbo_max_linear_v_mean_n_repetitions[idx_n_repetitions], pbo_max_linear_v_std_n_repetitions, len(seeds))"
   ]
  },
  {
   "cell_type": "code",
   "execution_count": null,
   "metadata": {},
   "outputs": [],
   "source": [
    "import matplotlib.pyplot as plt \n",
    "\n",
    "plt.rc(\"font\", size=15)\n",
    "plt.rc(\"lines\", linewidth=3)\n",
    "\n",
    "iterations = range(max_bellman_iterations + 1)\n",
    "iterations_validation = range(max_bellman_iterations_validation + 1)\n",
    "\n",
    "for idx_n_repetitions, n_repetitions_ in enumerate(n_repetitions_list):\n",
    "    plt.plot(iterations_validation, pbo_max_linear_v_mean_n_repetitions[idx_n_repetitions], label=f\"PBO max-linear; {n_repetitions_} repetitions\", color=n_repetitions_colors[idx_n_repetitions], zorder=8)\n",
    "    plt.fill_between(iterations_validation, pbo_max_linear_v_confidence_interval_n_repetitions[idx_n_repetitions, 0], pbo_max_linear_v_confidence_interval_n_repetitions[idx_n_repetitions, 1], color=n_repetitions_colors[idx_n_repetitions], alpha=0.3)\n",
    "\n",
    "plt.plot(iterations_validation, pbo_optimal_v_mean, label=\"PBO optimal\", color=\"black\", zorder=4)\n",
    "\n",
    "plt.axvline(max_bellman_iterations, color=\"black\", linestyle=\"--\", zorder=2)\n",
    "plt.xticks(range(0, max_bellman_iterations_validation + 1, ticks_freq))\n",
    "plt.xlabel(\"#Iterations\")\n",
    "\n",
    "plt.title(r\"$ || V^* - V^{\\pi_i} ||_2 $\")\n",
    "plt.legend()\n",
    "plt.grid(zorder=0)\n",
    "_ = plt.savefig(f\"figures/n_repetitions_distance_to_optimal_V_{max_bellman_iterations}.pdf\", bbox_inches='tight')"
   ]
  },
  {
   "cell_type": "markdown",
   "metadata": {},
   "source": [
    "### Distance to the optimal Bellman iteration"
   ]
  },
  {
   "cell_type": "code",
   "execution_count": null,
   "metadata": {},
   "outputs": [],
   "source": [
    "pbo_max_linear_bi_mean_n_repetitions = np.zeros((len(n_repetitions_list), max_bellman_iterations_validation))\n",
    "pbo_max_linear_bi_confidence_interval_n_repetitions = np.zeros((len(n_repetitions_list), 2, max_bellman_iterations_validation))\n",
    "\n",
    "for idx_n_repetitions in range(len(n_repetitions_list)):\n",
    "    pbo_max_linear_bi_mean_n_repetitions[idx_n_repetitions] = np.sqrt(np.mean(np.square(pbo_max_linear_bi_n_repetitions[idx_n_weights, :, :-1] - pbo_max_linear_q_n_repetitions[idx_n_repetitions, :, 1:]), axis=(2, 3))).mean(axis=0)\n",
    "    pbo_max_linear_bi_std_n_repetitions = np.sqrt(np.mean(np.square(pbo_max_linear_bi_n_repetitions[idx_n_repetitions, :, :-1] - pbo_max_linear_q_n_repetitions[idx_n_repetitions, :, 1:]), axis=(2, 3))).std(axis=0)\n",
    "    pbo_max_linear_bi_confidence_interval_n_repetitions[idx_n_repetitions] = confidence_interval(pbo_max_linear_bi_mean_n_repetitions[idx_n_repetitions], pbo_max_linear_bi_std_n_repetitions, len(seeds))"
   ]
  },
  {
   "cell_type": "code",
   "execution_count": null,
   "metadata": {},
   "outputs": [],
   "source": [
    "import matplotlib.pyplot as plt \n",
    "\n",
    "plt.rc(\"font\", size=15)\n",
    "plt.rc(\"lines\", linewidth=3)\n",
    "\n",
    "iterations = range(1, max_bellman_iterations + 1)\n",
    "iterations_validation = range(1, max_bellman_iterations_validation + 1)\n",
    "\n",
    "plt.plot(iterations_validation, pbo_optimal_bi_mean, label=\"PBO optimal\", color=\"black\")\n",
    "\n",
    "for idx_n_repetitions, n_repetitions_ in enumerate(n_repetitions_list):\n",
    "    plt.plot(iterations_validation, pbo_max_linear_bi_mean_n_repetitions[idx_n_repetitions], label=f\"PBO max-linear with {n_repetitions_} repetitions\", color=n_repetitions_colors[idx_n_repetitions])\n",
    "    plt.fill_between(iterations_validation, pbo_max_linear_bi_confidence_interval_n_repetitions[idx_n_repetitions, 0], pbo_max_linear_bi_confidence_interval_n_repetitions[idx_n_repetitions, 1], color=n_repetitions_colors[idx_n_repetitions], alpha=0.3)\n",
    "\n",
    "plt.axvline(max_bellman_iterations, color=\"black\", linestyle=\"--\")\n",
    "plt.xticks(range(0, max_bellman_iterations_validation + 1, ticks_freq))\n",
    "plt.xlabel(\"#Iterations\")\n",
    "\n",
    "plt.title(r\"$|| \\Gamma^*Q_{i-1} - Q_i ||_2$\")\n",
    "plt.legend()\n",
    "plt.grid(zorder=0)\n",
    "_ = plt.savefig(f\"figures/n_repetitions_distance_to_optimal_BI_{max_bellman_iterations}.pdf\", bbox_inches='tight')"
   ]
  }
 ],
 "metadata": {
  "kernelspec": {
   "display_name": "Python 3.8.10 ('env_cpu': venv)",
   "language": "python",
   "name": "python3"
  },
  "language_info": {
   "codemirror_mode": {
    "name": "ipython",
    "version": 3
   },
   "file_extension": ".py",
   "mimetype": "text/x-python",
   "name": "python",
   "nbconvert_exporter": "python",
   "pygments_lexer": "ipython3",
   "version": "3.8.10"
  },
  "orig_nbformat": 4,
  "vscode": {
   "interpreter": {
    "hash": "af5525a3273d35d601ae265c5d3634806dd61a1c4d085ae098611a6832982bdb"
   }
  }
 },
 "nbformat": 4,
 "nbformat_minor": 2
}
