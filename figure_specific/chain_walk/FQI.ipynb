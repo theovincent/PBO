{
 "cells": [
  {
   "cell_type": "markdown",
   "metadata": {},
   "source": [
    "# FQI on the chain walk environment\n",
    "\n",
    "## Define parameters"
   ]
  },
  {
   "cell_type": "code",
   "execution_count": 1,
   "metadata": {
    "execution": {
     "iopub.execute_input": "2022-09-19T11:20:30.061112Z",
     "iopub.status.busy": "2022-09-19T11:20:30.060951Z",
     "iopub.status.idle": "2022-09-19T11:20:30.701625Z",
     "shell.execute_reply": "2022-09-19T11:20:30.701128Z"
    }
   },
   "outputs": [
    {
     "name": "stderr",
     "output_type": "stream",
     "text": [
      "WARNING:absl:No GPU/TPU found, falling back to CPU. (Set TF_CPP_MIN_LOG_LEVEL=0 and rerun for more info.)\n"
     ]
    }
   ],
   "source": [
    "%load_ext autoreload\n",
    "%autoreload 2\n",
    "\n",
    "import warnings\n",
    "warnings.simplefilter(action='ignore', category=FutureWarning)\n",
    "import jax\n",
    "import os\n",
    "import json\n",
    "\n",
    "parameters = json.load(open(\"parameters.json\"))\n",
    "n_states = parameters[\"n_states\"]\n",
    "n_actions = 2\n",
    "sucess_probability = parameters[\"sucess_probability\"]\n",
    "gamma = parameters[\"gamma\"]\n",
    "env_seed = parameters[\"env_seed\"]\n",
    "\n",
    "# Sample collection\n",
    "n_repetitions = parameters[\"n_repetitions\"]\n",
    "n_samples = n_states * n_actions * n_repetitions\n",
    "\n",
    "# Trainings\n",
    "max_bellman_iterations = parameters[\"max_bellman_iterations\"]\n",
    "fitting_steps = parameters[\"fitting_steps_fqi\"]\n",
    "batch_size_samples = parameters[\"batch_size_samples\"]\n",
    "learning_rate = {\"first\": parameters[\"starting_lr_fqi\"], \"last\": parameters[\"ending_lr_fqi\"], \"duration\": fitting_steps * n_samples // batch_size_samples}\n",
    "\n",
    "# Search for an unused seed\n",
    "max_used_seed = 0\n",
    "if not os.path.exists(\"figures/data/FQI/\"):\n",
    "    os.makedirs(\"figures/data/FQI/\")\n",
    "for file in os.listdir(\"figures/data/FQI/\"):\n",
    "    if int(file.split(\"_\")[0]) == max_bellman_iterations and int(file.split(\"_\")[2][:-4]) > max_used_seed:\n",
    "        max_used_seed = int(file.split(\"_\")[2][:-4])\n",
    "\n",
    "# keys\n",
    "env_key = jax.random.PRNGKey(env_seed)\n",
    "seed = max_used_seed + 1\n",
    "key = jax.random.PRNGKey(seed)\n",
    "shuffle_key, dummy_q_network_key, _ = jax.random.split(key, 3) # 3 keys are generated to be coherent with the other trainings"
   ]
  },
  {
   "cell_type": "markdown",
   "metadata": {},
   "source": [
    "## Define environment"
   ]
  },
  {
   "cell_type": "code",
   "execution_count": 2,
   "metadata": {
    "execution": {
     "iopub.execute_input": "2022-09-19T11:20:30.704179Z",
     "iopub.status.busy": "2022-09-19T11:20:30.703994Z",
     "iopub.status.idle": "2022-09-19T11:20:31.061868Z",
     "shell.execute_reply": "2022-09-19T11:20:31.061352Z"
    }
   },
   "outputs": [],
   "source": [
    "import numpy as np\n",
    "from pbo.environments.chain_walk import ChainWalkEnv\n",
    "\n",
    "\n",
    "states = np.arange(n_states)\n",
    "actions = np.arange(n_actions)\n",
    "states_boxes = np.arange(n_states + 1) - 0.5\n",
    "actions_boxes = np.arange(n_actions + 1) - 0.5\n",
    "\n",
    "env = ChainWalkEnv(env_key, n_states, sucess_probability, gamma)"
   ]
  },
  {
   "cell_type": "markdown",
   "metadata": {},
   "source": [
    "## Collect samples"
   ]
  },
  {
   "cell_type": "markdown",
   "metadata": {},
   "source": [
    "### Samples on the mesh"
   ]
  },
  {
   "cell_type": "code",
   "execution_count": 3,
   "metadata": {
    "execution": {
     "iopub.execute_input": "2022-09-19T11:20:31.065428Z",
     "iopub.status.busy": "2022-09-19T11:20:31.065268Z",
     "iopub.status.idle": "2022-09-19T11:20:32.236395Z",
     "shell.execute_reply": "2022-09-19T11:20:32.235818Z"
    }
   },
   "outputs": [],
   "source": [
    "import jax.numpy as jnp\n",
    "from pbo.sample_collection.replay_buffer import ReplayBuffer\n",
    "\n",
    "\n",
    "replay_buffer = ReplayBuffer()\n",
    "\n",
    "for state in states:\n",
    "    for action in actions:\n",
    "        # Need to repeat the samples to capture the randomness\n",
    "        for _ in range(n_repetitions):\n",
    "            env.reset(jnp.array([state]))\n",
    "            next_state, reward, absorbing, _ = env.step(jnp.array([action]))\n",
    "\n",
    "            replay_buffer.add(jnp.array([state]), jnp.array([action]), reward, next_state, absorbing)\n",
    "\n",
    "replay_buffer.cast_to_jax_array()"
   ]
  },
  {
   "cell_type": "markdown",
   "metadata": {},
   "source": [
    "### Visualize samples"
   ]
  },
  {
   "cell_type": "code",
   "execution_count": 4,
   "metadata": {
    "execution": {
     "iopub.execute_input": "2022-09-19T11:20:32.239083Z",
     "iopub.status.busy": "2022-09-19T11:20:32.238883Z",
     "iopub.status.idle": "2022-09-19T11:20:33.106419Z",
     "shell.execute_reply": "2022-09-19T11:20:33.105914Z"
    }
   },
   "outputs": [
    {
     "data": {
      "image/png": "[encoded data removed]",
      "text/plain": [
       "<Figure size 432x288 with 2 Axes>"
      ]
     },
     "metadata": {
      "needs_background": "light"
     },
     "output_type": "display_data"
    }
   ],
   "source": [
    "from pbo.sample_collection.count_samples import count_samples\n",
    "from pbo.utils.two_dimesions_mesh import TwoDimesionsMesh\n",
    "\n",
    "\n",
    "samples_count, n_outside_boxes, _ = count_samples(replay_buffer.states, replay_buffer.actions, states_boxes, actions_boxes, replay_buffer.rewards)\n",
    "samples_visu_mesh = TwoDimesionsMesh(states, actions, sleeping_time=0)\n",
    "\n",
    "samples_visu_mesh.set_values(samples_count, zeros_to_nan=True)\n",
    "samples_visu_mesh.show(\n",
    "    f\"Samples repartition, \\n{int(100 * n_outside_boxes / n_samples)}% are outside the box.\"\n",
    ")"
   ]
  },
  {
   "cell_type": "markdown",
   "metadata": {},
   "source": [
    "## Train FQI"
   ]
  },
  {
   "cell_type": "code",
   "execution_count": 5,
   "metadata": {
    "execution": {
     "iopub.execute_input": "2022-09-19T11:20:33.108744Z",
     "iopub.status.busy": "2022-09-19T11:20:33.108448Z",
     "iopub.status.idle": "2022-09-19T11:20:55.494512Z",
     "shell.execute_reply": "2022-09-19T11:20:55.493991Z"
    }
   },
   "outputs": [
    {
     "name": "stdout",
     "output_type": "stream",
     "text": [
      "[0 0 0 0 0 0 0 0 0 0 0 0 0 0 0 0 0 0 0 0]\n"
     ]
    },
    {
     "data": {
      "application/vnd.jupyter.widget-view+json": {
       "model_id": "622fb3e1c5954bc4a13acca0acd2fc07",
       "version_major": 2,
       "version_minor": 0
      },
      "text/plain": [
       "  0%|          | 0/2 [00:00<?, ?it/s]"
      ]
     },
     "metadata": {},
     "output_type": "display_data"
    },
    {
     "name": "stdout",
     "output_type": "stream",
     "text": [
      "[0 0 0 0 0 0 0 0 0 0 0 0 0 0 0 0 0 0 0 0]\n",
      "[1 0 0 0 0 0 0 0 0 0 0 0 0 0 0 0 0 0 1 0]\n"
     ]
    },
    {
     "data": {
      "image/png": "[encoded data removed]",
      "text/plain": [
       "<Figure size 432x288 with 1 Axes>"
      ]
     },
     "metadata": {
      "needs_background": "light"
     },
     "output_type": "display_data"
    }
   ],
   "source": [
    "from tqdm.notebook import tqdm\n",
    "import matplotlib.pyplot as plt\n",
    "\n",
    "from pbo.sample_collection.dataloader import SampleDataLoader\n",
    "from pbo.networks.learnable_q import TableQ\n",
    "\n",
    "\n",
    "data_loader_samples = SampleDataLoader(replay_buffer, batch_size_samples, shuffle_key)\n",
    "q = TableQ(\n",
    "    n_states=n_states,\n",
    "    n_actions=n_actions,\n",
    "    gamma=gamma,\n",
    "    network_key=dummy_q_network_key,\n",
    "    zero_initializer=True,\n",
    "    learning_rate=learning_rate\n",
    ")\n",
    "\n",
    "q_functions = np.zeros((max_bellman_iterations + 1, n_states, n_actions))\n",
    "bellman_iteration_functions = np.zeros((max_bellman_iterations + 1, n_states, n_actions))\n",
    "v_functions = np.zeros((max_bellman_iterations + 1, n_states))\n",
    "\n",
    "params_target = q.params\n",
    "q_i = env.discretize(q, q.to_weights(q.params), states, actions)\n",
    "policy_q = q_i.argmax(axis=1)\n",
    "\n",
    "q_functions[0] = q_i\n",
    "v_functions[0] = env.value_function(policy_q)\n",
    "print(policy_q)\n",
    "cumulative_l2_loss = np.zeros((max_bellman_iterations, fitting_steps)) * np.nan\n",
    "\n",
    "for bellman_iteration in tqdm(range(1, max_bellman_iterations + 1)):\n",
    "    q.reset_optimizer()\n",
    "    \n",
    "    for step in range(fitting_steps):\n",
    "        data_loader_samples.shuffle()\n",
    "        for batch_samples in data_loader_samples:\n",
    "            q.params, q.optimizer_state, l2_loss = q.learn_on_batch(q.params, params_target, q.optimizer_state, batch_samples)\n",
    "        cumulative_l2_loss[bellman_iteration - 1, step] = l2_loss\n",
    "    q_i = env.discretize(q, q.to_weights(q.params), states, actions)\n",
    "    policy_q = q_i.argmax(axis=1)\n",
    "\n",
    "    q_functions[bellman_iteration] = q_i\n",
    "    bellman_iteration_functions[bellman_iteration] = env.apply_bellman_operator(q_i)\n",
    "    v_functions[bellman_iteration] = env.value_function(policy_q)\n",
    "    print(policy_q)\n",
    "\n",
    "    params_target = q.params\n",
    "\n",
    "for bellman_iteration in range(max_bellman_iterations):\n",
    "    plt.plot(cumulative_l2_loss[bellman_iteration], label=f\"Iteration {bellman_iteration}\")\n",
    "plt.legend()\n",
    "plt.show()"
   ]
  },
  {
   "cell_type": "markdown",
   "metadata": {},
   "source": [
    "## Save data"
   ]
  },
  {
   "cell_type": "code",
   "execution_count": 6,
   "metadata": {
    "execution": {
     "iopub.execute_input": "2022-09-19T11:20:55.496951Z",
     "iopub.status.busy": "2022-09-19T11:20:55.496804Z",
     "iopub.status.idle": "2022-09-19T11:20:55.507754Z",
     "shell.execute_reply": "2022-09-19T11:20:55.507376Z"
    }
   },
   "outputs": [],
   "source": [
    "np.save(f\"figures/data/FQI/{max_bellman_iterations}_Q_{seed}.npy\", q_functions)\n",
    "np.save(f\"figures/data/FQI/{max_bellman_iterations}_BI_{seed}.npy\", bellman_iteration_functions)\n",
    "np.save(f\"figures/data/FQI/{max_bellman_iterations}_V_{seed}.npy\", v_functions)"
   ]
  }
 ],
 "metadata": {
  "kernelspec": {
   "display_name": "Python 3.8.10 ('env_cpu': venv)",
   "language": "python",
   "name": "python3"
  },
  "language_info": {
   "codemirror_mode": {
    "name": "ipython",
    "version": 3
   },
   "file_extension": ".py",
   "mimetype": "text/x-python",
   "name": "python",
   "nbconvert_exporter": "python",
   "pygments_lexer": "ipython3",
   "version": "3.8.10"
  },
  "vscode": {
   "interpreter": {
    "hash": "af5525a3273d35d601ae265c5d3634806dd61a1c4d085ae098611a6832982bdb"
   }
  },
  "widgets": {
   "application/vnd.jupyter.widget-state+json": {
    "state": {
     "128b8067d1b2400ea17b08abe70f92e5": {
      "model_module": "@jupyter-widgets/controls",
      "model_module_version": "1.5.0",
      "model_name": "ProgressStyleModel",
      "state": {
       "_model_module": "@jupyter-widgets/controls",
       "_model_module_version": "1.5.0",
       "_model_name": "ProgressStyleModel",
       "_view_count": null,
       "_view_module": "@jupyter-widgets/base",
       "_view_module_version": "1.2.0",
       "_view_name": "StyleView",
       "bar_color": null,
       "description_width": ""
      }
     },
     "2605a2ce1bb241898ee10567292b05f5": {
      "model_module": "@jupyter-widgets/controls",
      "model_module_version": "1.5.0",
      "model_name": "FloatProgressModel",
      "state": {
       "_dom_classes": [],
       "_model_module": "@jupyter-widgets/controls",
       "_model_module_version": "1.5.0",
       "_model_name": "FloatProgressModel",
       "_view_count": null,
       "_view_module": "@jupyter-widgets/controls",
       "_view_module_version": "1.5.0",
       "_view_name": "ProgressView",
       "bar_style": "success",
       "description": "",
       "description_tooltip": null,
       "layout": "IPY_MODEL_da5e05a229264afebc917251997a49c8",
       "max": 2.0,
       "min": 0.0,
       "orientation": "horizontal",
       "style": "IPY_MODEL_128b8067d1b2400ea17b08abe70f92e5",
       "value": 2.0
      }
     },
     "35f09f1cfb8544bcb4f422a80a6d4ad2": {
      "model_module": "@jupyter-widgets/controls",
      "model_module_version": "1.5.0",
      "model_name": "HTMLModel",
      "state": {
       "_dom_classes": [],
       "_model_module": "@jupyter-widgets/controls",
       "_model_module_version": "1.5.0",
       "_model_name": "HTMLModel",
       "_view_count": null,
       "_view_module": "@jupyter-widgets/controls",
       "_view_module_version": "1.5.0",
       "_view_name": "HTMLView",
       "description": "",
       "description_tooltip": null,
       "layout": "IPY_MODEL_8e194c2ed0ad40c0914135dae1e8bb13",
       "placeholder": "​",
       "style": "IPY_MODEL_d72f6b4aca1a4446a61b6ddf58f60cdf",
       "value": " 2/2 [00:09&lt;00:00,  4.56s/it]"
      }
     },
     "622fb3e1c5954bc4a13acca0acd2fc07": {
      "model_module": "@jupyter-widgets/controls",
      "model_module_version": "1.5.0",
      "model_name": "HBoxModel",
      "state": {
       "_dom_classes": [],
       "_model_module": "@jupyter-widgets/controls",
       "_model_module_version": "1.5.0",
       "_model_name": "HBoxModel",
       "_view_count": null,
       "_view_module": "@jupyter-widgets/controls",
       "_view_module_version": "1.5.0",
       "_view_name": "HBoxView",
       "box_style": "",
       "children": [
        "IPY_MODEL_66cada98ab704eaa944479fa219c9f5a",
        "IPY_MODEL_2605a2ce1bb241898ee10567292b05f5",
        "IPY_MODEL_35f09f1cfb8544bcb4f422a80a6d4ad2"
       ],
       "layout": "IPY_MODEL_6e818cfabf764d138024fe711414dab2"
      }
     },
     "66cada98ab704eaa944479fa219c9f5a": {
      "model_module": "@jupyter-widgets/controls",
      "model_module_version": "1.5.0",
      "model_name": "HTMLModel",
      "state": {
       "_dom_classes": [],
       "_model_module": "@jupyter-widgets/controls",
       "_model_module_version": "1.5.0",
       "_model_name": "HTMLModel",
       "_view_count": null,
       "_view_module": "@jupyter-widgets/controls",
       "_view_module_version": "1.5.0",
       "_view_name": "HTMLView",
       "description": "",
       "description_tooltip": null,
       "layout": "IPY_MODEL_fc01e35c771941afad27b0abf1a558a4",
       "placeholder": "​",
       "style": "IPY_MODEL_bed6a41d60ef4d95ba14b056d937731d",
       "value": "100%"
      }
     },
     "6e818cfabf764d138024fe711414dab2": {
      "model_module": "@jupyter-widgets/base",
      "model_module_version": "1.2.0",
      "model_name": "LayoutModel",
      "state": {
       "_model_module": "@jupyter-widgets/base",
       "_model_module_version": "1.2.0",
       "_model_name": "LayoutModel",
       "_view_count": null,
       "_view_module": "@jupyter-widgets/base",
       "_view_module_version": "1.2.0",
       "_view_name": "LayoutView",
       "align_content": null,
       "align_items": null,
       "align_self": null,
       "border": null,
       "bottom": null,
       "display": null,
       "flex": null,
       "flex_flow": null,
       "grid_area": null,
       "grid_auto_columns": null,
       "grid_auto_flow": null,
       "grid_auto_rows": null,
       "grid_column": null,
       "grid_gap": null,
       "grid_row": null,
       "grid_template_areas": null,
       "grid_template_columns": null,
       "grid_template_rows": null,
       "height": null,
       "justify_content": null,
       "justify_items": null,
       "left": null,
       "margin": null,
       "max_height": null,
       "max_width": null,
       "min_height": null,
       "min_width": null,
       "object_fit": null,
       "object_position": null,
       "order": null,
       "overflow": null,
       "overflow_x": null,
       "overflow_y": null,
       "padding": null,
       "right": null,
       "top": null,
       "visibility": null,
       "width": null
      }
     },
     "8e194c2ed0ad40c0914135dae1e8bb13": {
      "model_module": "@jupyter-widgets/base",
      "model_module_version": "1.2.0",
      "model_name": "LayoutModel",
      "state": {
       "_model_module": "@jupyter-widgets/base",
       "_model_module_version": "1.2.0",
       "_model_name": "LayoutModel",
       "_view_count": null,
       "_view_module": "@jupyter-widgets/base",
       "_view_module_version": "1.2.0",
       "_view_name": "LayoutView",
       "align_content": null,
       "align_items": null,
       "align_self": null,
       "border": null,
       "bottom": null,
       "display": null,
       "flex": null,
       "flex_flow": null,
       "grid_area": null,
       "grid_auto_columns": null,
       "grid_auto_flow": null,
       "grid_auto_rows": null,
       "grid_column": null,
       "grid_gap": null,
       "grid_row": null,
       "grid_template_areas": null,
       "grid_template_columns": null,
       "grid_template_rows": null,
       "height": null,
       "justify_content": null,
       "justify_items": null,
       "left": null,
       "margin": null,
       "max_height": null,
       "max_width": null,
       "min_height": null,
       "min_width": null,
       "object_fit": null,
       "object_position": null,
       "order": null,
       "overflow": null,
       "overflow_x": null,
       "overflow_y": null,
       "padding": null,
       "right": null,
       "top": null,
       "visibility": null,
       "width": null
      }
     },
     "bed6a41d60ef4d95ba14b056d937731d": {
      "model_module": "@jupyter-widgets/controls",
      "model_module_version": "1.5.0",
      "model_name": "DescriptionStyleModel",
      "state": {
       "_model_module": "@jupyter-widgets/controls",
       "_model_module_version": "1.5.0",
       "_model_name": "DescriptionStyleModel",
       "_view_count": null,
       "_view_module": "@jupyter-widgets/base",
       "_view_module_version": "1.2.0",
       "_view_name": "StyleView",
       "description_width": ""
      }
     },
     "d72f6b4aca1a4446a61b6ddf58f60cdf": {
      "model_module": "@jupyter-widgets/controls",
      "model_module_version": "1.5.0",
      "model_name": "DescriptionStyleModel",
      "state": {
       "_model_module": "@jupyter-widgets/controls",
       "_model_module_version": "1.5.0",
       "_model_name": "DescriptionStyleModel",
       "_view_count": null,
       "_view_module": "@jupyter-widgets/base",
       "_view_module_version": "1.2.0",
       "_view_name": "StyleView",
       "description_width": ""
      }
     },
     "da5e05a229264afebc917251997a49c8": {
      "model_module": "@jupyter-widgets/base",
      "model_module_version": "1.2.0",
      "model_name": "LayoutModel",
      "state": {
       "_model_module": "@jupyter-widgets/base",
       "_model_module_version": "1.2.0",
       "_model_name": "LayoutModel",
       "_view_count": null,
       "_view_module": "@jupyter-widgets/base",
       "_view_module_version": "1.2.0",
       "_view_name": "LayoutView",
       "align_content": null,
       "align_items": null,
       "align_self": null,
       "border": null,
       "bottom": null,
       "display": null,
       "flex": null,
       "flex_flow": null,
       "grid_area": null,
       "grid_auto_columns": null,
       "grid_auto_flow": null,
       "grid_auto_rows": null,
       "grid_column": null,
       "grid_gap": null,
       "grid_row": null,
       "grid_template_areas": null,
       "grid_template_columns": null,
       "grid_template_rows": null,
       "height": null,
       "justify_content": null,
       "justify_items": null,
       "left": null,
       "margin": null,
       "max_height": null,
       "max_width": null,
       "min_height": null,
       "min_width": null,
       "object_fit": null,
       "object_position": null,
       "order": null,
       "overflow": null,
       "overflow_x": null,
       "overflow_y": null,
       "padding": null,
       "right": null,
       "top": null,
       "visibility": null,
       "width": null
      }
     },
     "fc01e35c771941afad27b0abf1a558a4": {
      "model_module": "@jupyter-widgets/base",
      "model_module_version": "1.2.0",
      "model_name": "LayoutModel",
      "state": {
       "_model_module": "@jupyter-widgets/base",
       "_model_module_version": "1.2.0",
       "_model_name": "LayoutModel",
       "_view_count": null,
       "_view_module": "@jupyter-widgets/base",
       "_view_module_version": "1.2.0",
       "_view_name": "LayoutView",
       "align_content": null,
       "align_items": null,
       "align_self": null,
       "border": null,
       "bottom": null,
       "display": null,
       "flex": null,
       "flex_flow": null,
       "grid_area": null,
       "grid_auto_columns": null,
       "grid_auto_flow": null,
       "grid_auto_rows": null,
       "grid_column": null,
       "grid_gap": null,
       "grid_row": null,
       "grid_template_areas": null,
       "grid_template_columns": null,
       "grid_template_rows": null,
       "height": null,
       "justify_content": null,
       "justify_items": null,
       "left": null,
       "margin": null,
       "max_height": null,
       "max_width": null,
       "min_height": null,
       "min_width": null,
       "object_fit": null,
       "object_position": null,
       "order": null,
       "overflow": null,
       "overflow_x": null,
       "overflow_y": null,
       "padding": null,
       "right": null,
       "top": null,
       "visibility": null,
       "width": null
      }
     }
    },
    "version_major": 2,
    "version_minor": 0
   }
  }
 },
 "nbformat": 4,
 "nbformat_minor": 2
}
