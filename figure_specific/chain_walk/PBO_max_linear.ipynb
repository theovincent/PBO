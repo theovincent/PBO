{
 "cells": [
  {
   "cell_type": "markdown",
   "metadata": {},
   "source": [
    "# PBO on the chain walk environment\n",
    "\n",
    "## Define parameters"
   ]
  },
  {
   "cell_type": "code",
   "execution_count": 1,
   "metadata": {
    "execution": {
     "iopub.execute_input": "2022-07-28T15:27:18.759207Z",
     "iopub.status.busy": "2022-07-28T15:27:18.758799Z",
     "iopub.status.idle": "2022-07-28T15:27:19.755065Z",
     "shell.execute_reply": "2022-07-28T15:27:19.754516Z"
    }
   },
   "outputs": [
    {
     "name": "stderr",
     "output_type": "stream",
     "text": [
      "WARNING:absl:No GPU/TPU found, falling back to CPU. (Set TF_CPP_MIN_LOG_LEVEL=0 and rerun for more info.)\n"
     ]
    }
   ],
   "source": [
    "%load_ext autoreload\n",
    "%autoreload 2\n",
    "\n",
    "import os\n",
    "import jax\n",
    "import jax.numpy as jnp\n",
    "\n",
    "\n",
    "# Sample collection\n",
    "n_states = 20\n",
    "n_actions = 2\n",
    "n_repetitions_list = jnp.array([2, 5, 20])\n",
    "n_samples_list = n_states * n_actions * n_repetitions_list\n",
    "sucess_probability = 0.9\n",
    "gamma = 0.9\n",
    "\n",
    "# Weights collection\n",
    "n_weights = 100\n",
    "\n",
    "# Trainings\n",
    "max_bellman_iterations = 2\n",
    "training_steps = 300\n",
    "fitting_steps = 4\n",
    "batch_size_samples = n_states\n",
    "batch_size_weights = n_weights\n",
    "learning_rates = [{\"first\": 0.01, \"last\": 0.00001, \"duration\": training_steps * fitting_steps * n_samples // batch_size_samples} for n_samples in n_samples_list]\n",
    "add_infinity_non_linear = False\n",
    "\n",
    "# Visualisation of errors and performances\n",
    "max_bellman_iterations_validation = max_bellman_iterations + 20\n",
    "\n",
    "# Search for an unused seed\n",
    "max_used_seed = 0\n",
    "for file in os.listdir(\"figures/data/PBO_max_linear/\"):\n",
    "    if int(file.split(\"_\")[0]) == max_bellman_iterations and int(file.split(\"_\")[2]) > max_used_seed:\n",
    "        max_used_seed = int(file.split(\"_\")[2])\n",
    "max_used_seed\n",
    "\n",
    "# keys\n",
    "seed = max_used_seed + 1\n",
    "key = jax.random.PRNGKey(seed)\n",
    "env_key, key = jax.random.split(key)\n",
    "shuffle_key, q_network_key, random_weights_key, pbo_network_key = jax.random.split(key, 4)"
   ]
  },
  {
   "cell_type": "markdown",
   "metadata": {},
   "source": [
    "## Define environment"
   ]
  },
  {
   "cell_type": "code",
   "execution_count": 2,
   "metadata": {
    "execution": {
     "iopub.execute_input": "2022-07-28T15:27:19.757977Z",
     "iopub.status.busy": "2022-07-28T15:27:19.757657Z",
     "iopub.status.idle": "2022-07-28T15:27:20.134827Z",
     "shell.execute_reply": "2022-07-28T15:27:20.134107Z"
    }
   },
   "outputs": [],
   "source": [
    "import numpy as np\n",
    "from pbo.environment.chain_walk import ChainWalkEnv\n",
    "\n",
    "\n",
    "states = np.arange(n_states)\n",
    "actions = np.arange(n_actions)\n",
    "states_boxes = np.arange(n_states + 1) - 0.5\n",
    "actions_boxes = np.arange(n_actions + 1) - 0.5\n",
    "\n",
    "env = ChainWalkEnv(env_key, n_states, sucess_probability, gamma)"
   ]
  },
  {
   "cell_type": "markdown",
   "metadata": {},
   "source": [
    "## Collect samples"
   ]
  },
  {
   "cell_type": "markdown",
   "metadata": {},
   "source": [
    "### Samples on the mesh"
   ]
  },
  {
   "cell_type": "code",
   "execution_count": 3,
   "metadata": {
    "execution": {
     "iopub.execute_input": "2022-07-28T15:27:20.137965Z",
     "iopub.status.busy": "2022-07-28T15:27:20.137609Z",
     "iopub.status.idle": "2022-07-28T15:27:23.630281Z",
     "shell.execute_reply": "2022-07-28T15:27:23.629781Z"
    }
   },
   "outputs": [],
   "source": [
    "import jax.numpy as jnp\n",
    "from pbo.sample_collection.replay_buffer import ReplayBuffer\n",
    "\n",
    "\n",
    "replay_buffers = [ReplayBuffer() for _ in range(len(n_repetitions_list))]\n",
    "\n",
    "for state in states:\n",
    "    for action in actions:\n",
    "        # Need to repeat the samples to capture the randomness\n",
    "        for n_current_repetition in range(n_repetitions_list[-1]):\n",
    "            env.reset(jnp.array([state]))\n",
    "            next_state, reward, absorbing, _ = env.step(jnp.array([action]))\n",
    "\n",
    "            for idx_replay_buffer, n_repetitions in enumerate(n_repetitions_list):\n",
    "                if n_current_repetition < n_repetitions:\n",
    "                    replay_buffers[idx_replay_buffer].add(jnp.array([state]), jnp.array([action]), reward, next_state, absorbing)\n",
    "\n",
    "_ = [replay_buffer.cast_to_jax_array() for replay_buffer in replay_buffers]"
   ]
  },
  {
   "cell_type": "markdown",
   "metadata": {},
   "source": [
    "### Visualize samples"
   ]
  },
  {
   "cell_type": "code",
   "execution_count": 4,
   "metadata": {
    "execution": {
     "iopub.execute_input": "2022-07-28T15:27:23.632097Z",
     "iopub.status.busy": "2022-07-28T15:27:23.631947Z",
     "iopub.status.idle": "2022-07-28T15:27:24.294659Z",
     "shell.execute_reply": "2022-07-28T15:27:24.294188Z"
    }
   },
   "outputs": [
    {
     "data": {
      "image/png": "[encoded data removed]",
      "text/plain": [
       "<Figure size 432x288 with 2 Axes>"
      ]
     },
     "metadata": {
      "needs_background": "light"
     },
     "output_type": "display_data"
    }
   ],
   "source": [
    "from pbo.sample_collection.count_samples import count_samples\n",
    "from pbo.utils.two_dimesions_mesh import TwoDimesionsMesh\n",
    "\n",
    "idx_replay_buffer_to_view = 0\n",
    "\n",
    "samples_count, n_outside_boxes, _ = count_samples(replay_buffers[idx_replay_buffer_to_view].states, replay_buffers[idx_replay_buffer_to_view].actions, states_boxes, actions_boxes, replay_buffers[idx_replay_buffer_to_view].rewards)\n",
    "samples_visu_mesh = TwoDimesionsMesh(states, actions, sleeping_time=0)\n",
    "\n",
    "samples_visu_mesh.set_values(samples_count, zeros_to_nan=True)\n",
    "samples_visu_mesh.show(\n",
    "    f\"Samples repartition, \\n{int(100 * n_outside_boxes / n_samples_list[idx_replay_buffer_to_view])}% are outside the box.\"\n",
    ")"
   ]
  },
  {
   "cell_type": "markdown",
   "metadata": {},
   "source": [
    "## Optimal Q function"
   ]
  },
  {
   "cell_type": "code",
   "execution_count": 5,
   "metadata": {
    "execution": {
     "iopub.execute_input": "2022-07-28T15:27:24.296601Z",
     "iopub.status.busy": "2022-07-28T15:27:24.296338Z",
     "iopub.status.idle": "2022-07-28T15:27:24.574704Z",
     "shell.execute_reply": "2022-07-28T15:27:24.574348Z"
    }
   },
   "outputs": [
    {
     "data": {
      "image/png": "[encoded data removed]",
      "text/plain": [
       "<Figure size 432x288 with 2 Axes>"
      ]
     },
     "metadata": {
      "needs_background": "light"
     },
     "output_type": "display_data"
    }
   ],
   "source": [
    "optimal_q = env.optimal_Q_mesh()\n",
    "optimal_v = optimal_q.max(axis=1)\n",
    "\n",
    "q_visu_mesh = TwoDimesionsMesh(states, actions, 0)\n",
    "\n",
    "q_visu_mesh.set_values(optimal_q)\n",
    "q_visu_mesh.show(\"Optimal q function\")"
   ]
  },
  {
   "cell_type": "markdown",
   "metadata": {},
   "source": [
    "## Optimal PBO"
   ]
  },
  {
   "cell_type": "code",
   "execution_count": 6,
   "metadata": {
    "execution": {
     "iopub.execute_input": "2022-07-28T15:27:24.576412Z",
     "iopub.status.busy": "2022-07-28T15:27:24.576244Z",
     "iopub.status.idle": "2022-07-28T15:27:40.419134Z",
     "shell.execute_reply": "2022-07-28T15:27:40.418699Z"
    }
   },
   "outputs": [
    {
     "name": "stdout",
     "output_type": "stream",
     "text": [
      "[0 0 0 0 0 0 0 0 0 0 0 0 0 0 0 0 0 0 0 0]\n",
      "[0 0 0 0 0 0 0 0 0 0 0 0 0 0 0 0 0 0 1 0]\n",
      "[0 0 0 0 0 0 0 0 0 0 0 0 0 0 0 0 0 1 1 0]\n",
      "[0 0 0 0 0 0 0 0 0 0 0 0 0 0 0 0 1 1 1 0]\n",
      "[0 0 0 0 0 0 0 0 0 0 0 0 0 0 0 1 1 1 1 0]\n",
      "[0 0 0 0 0 0 0 0 0 0 0 0 0 0 1 1 1 1 1 0]\n",
      "[0 0 0 0 0 0 0 0 0 0 0 0 0 1 1 1 1 1 1 0]\n",
      "[0 0 0 0 0 0 0 0 0 0 0 0 1 1 1 1 1 1 1 0]\n",
      "[0 0 0 0 0 0 0 0 0 0 0 1 1 1 1 1 1 1 1 0]\n",
      "[0 0 0 0 0 0 0 0 0 0 1 1 1 1 1 1 1 1 1 0]\n",
      "[0 0 0 0 0 0 0 0 0 0 1 1 1 1 1 1 1 1 1 0]\n",
      "[0 0 0 0 0 0 0 0 0 0 1 1 1 1 1 1 1 1 1 0]\n",
      "[0 0 0 0 0 0 0 0 0 0 1 1 1 1 1 1 1 1 1 0]\n",
      "[0 0 0 0 0 0 0 0 0 0 1 1 1 1 1 1 1 1 1 0]\n",
      "[0 0 0 0 0 0 0 0 0 0 1 1 1 1 1 1 1 1 1 0]\n",
      "[0 0 0 0 0 0 0 0 0 0 1 1 1 1 1 1 1 1 1 0]\n",
      "[0 0 0 0 0 0 0 0 0 0 1 1 1 1 1 1 1 1 1 0]\n",
      "[0 0 0 0 0 0 0 0 0 0 1 1 1 1 1 1 1 1 1 0]\n",
      "[0 0 0 0 0 0 0 0 0 0 1 1 1 1 1 1 1 1 1 0]\n",
      "[0 0 0 0 0 0 0 0 0 0 1 1 1 1 1 1 1 1 1 0]\n",
      "[0 0 0 0 0 0 0 0 0 0 1 1 1 1 1 1 1 1 1 0]\n",
      "[0 0 0 0 0 0 0 0 0 0 1 1 1 1 1 1 1 1 1 0]\n"
     ]
    }
   ],
   "source": [
    "from tqdm.notebook import tqdm\n",
    "\n",
    "from pbo.sample_collection.dataloader import SampleDataLoader\n",
    "from pbo.networks.learnable_q import TableQ\n",
    "from pbo.networks.learnable_pbo import TabularPBO\n",
    "\n",
    "\n",
    "q = TableQ(\n",
    "    1,\n",
    "    n_states,\n",
    "    1,\n",
    "    n_actions,\n",
    "    gamma,\n",
    "    q_network_key,\n",
    "    None,\n",
    "    random_weights_key,\n",
    "    None,\n",
    "    zero_initializer=True,\n",
    ")\n",
    "validation_initial_weight = q.to_weights(q.params)\n",
    "\n",
    "\n",
    "pbo_optimal = TabularPBO(q, max_bellman_iterations, False, pbo_network_key, learning_rates[0], n_actions)\n",
    "pbo_optimal.params[\"TabularPBONet/linear\"][\"w\"] = gamma * env.transition_proba.T\n",
    "pbo_optimal.params[\"TabularPBONet/linear\"][\"b\"] = env.R.T\n",
    "\n",
    "training_losses_optimal = np.zeros(max_bellman_iterations_validation)\n",
    "validation_losses_optimal = np.zeros(max_bellman_iterations_validation)\n",
    "value_functions_optimal = np.zeros((max_bellman_iterations_validation, n_states))\n",
    "\n",
    "\n",
    "batch_iterated_weights = validation_initial_weight.reshape((1, -1))\n",
    "for bellman_iteration in range(max_bellman_iterations_validation):\n",
    "    q_i = q.discretize(batch_iterated_weights, states, actions)[0]\n",
    "    batch_iterated_weights = pbo_optimal(pbo_optimal.params, batch_iterated_weights)\n",
    "    q_i_plus_1 = q.discretize(batch_iterated_weights, states, actions)[0]\n",
    "    policy_q = q_i_plus_1.argmax(axis=1)\n",
    "\n",
    "    training_losses_optimal[bellman_iteration] = jnp.abs(env.apply_bellman_operator(q_i) - q_i_plus_1).mean()\n",
    "    validation_losses_optimal[bellman_iteration] = jnp.abs(optimal_q - q_i_plus_1).mean()\n",
    "    value_functions_optimal[bellman_iteration] = env.value_function(policy_q)\n",
    "    print(policy_q)"
   ]
  },
  {
   "cell_type": "markdown",
   "metadata": {},
   "source": [
    "## Collect weights"
   ]
  },
  {
   "cell_type": "code",
   "execution_count": 7,
   "metadata": {
    "execution": {
     "iopub.execute_input": "2022-07-28T15:27:40.420829Z",
     "iopub.status.busy": "2022-07-28T15:27:40.420689Z",
     "iopub.status.idle": "2022-07-28T15:27:40.923824Z",
     "shell.execute_reply": "2022-07-28T15:27:40.923344Z"
    }
   },
   "outputs": [],
   "source": [
    "from pbo.weights_collection.weights_buffer import WeightsBuffer\n",
    "\n",
    "\n",
    "weights_buffer = WeightsBuffer()\n",
    "\n",
    "# Add initial validation weights\n",
    "weights_buffer.add(validation_initial_weight)\n",
    "\n",
    "# Add randow weights\n",
    "q_random = TableQ(\n",
    "    1,\n",
    "    n_states,\n",
    "    1,\n",
    "    n_actions,\n",
    "    gamma,\n",
    "    q_network_key,\n",
    "    None,\n",
    "    random_weights_key,\n",
    "    learning_rate=None,\n",
    "    zero_initializer=False,\n",
    ")\n",
    "\n",
    "while len(weights_buffer) < n_weights:\n",
    "    weights = q_random.random_init_weights()\n",
    "    weights_buffer.add(weights)\n",
    "\n",
    "weights_buffer.cast_to_jax_array()"
   ]
  },
  {
   "cell_type": "markdown",
   "metadata": {},
   "source": [
    "## Train non linear PBO"
   ]
  },
  {
   "cell_type": "code",
   "execution_count": 8,
   "metadata": {
    "execution": {
     "iopub.execute_input": "2022-07-28T15:27:40.925762Z",
     "iopub.status.busy": "2022-07-28T15:27:40.925624Z",
     "iopub.status.idle": "2022-07-28T15:28:26.700303Z",
     "shell.execute_reply": "2022-07-28T15:28:26.699882Z"
    }
   },
   "outputs": [
    {
     "data": {
      "application/vnd.jupyter.widget-view+json": {
       "model_id": "bbc0635f9e974753adfc606cf546cdc3",
       "version_major": 2,
       "version_minor": 0
      },
      "text/plain": [
       "  0%|          | 0/300 [00:00<?, ?it/s]"
      ]
     },
     "metadata": {},
     "output_type": "display_data"
    },
    {
     "name": "stdout",
     "output_type": "stream",
     "text": [
      "Samples with  2  repetions.\n",
      "[0 1 0 1 1 1 1 1 1 1 1 1 1 1 1 1 0 0 0 1]\n",
      "[0 0 0 0 1 1 1 1 0 1 1 1 1 1 1 1 1 0 1 1]\n",
      "[0 0 0 0 1 0 1 1 0 0 1 1 1 1 1 1 1 1 1 1]\n",
      "[0 0 0 0 0 0 0 0 0 1 1 1 1 1 1 0 1 1 1 1]\n",
      "[0 0 0 0 0 0 0 0 0 1 1 1 1 1 1 1 1 1 1 1]\n",
      "[0 0 0 0 0 0 0 0 0 1 1 1 1 1 1 1 1 1 1 0]\n",
      "[0 0 0 0 0 0 0 0 0 1 1 1 1 1 1 1 1 1 1 0]\n",
      "[0 0 0 0 0 0 0 0 0 1 1 1 1 1 1 1 1 1 1 0]\n",
      "[0 0 0 0 0 0 0 0 0 1 1 1 1 1 1 1 1 1 1 0]\n",
      "[0 0 0 0 0 0 0 0 0 0 1 1 1 1 1 1 1 1 1 0]\n",
      "[1 0 0 0 0 0 0 0 0 0 1 1 1 1 1 1 1 1 1 0]\n",
      "[1 0 0 0 0 0 0 0 0 0 1 1 1 1 1 1 1 1 1 0]\n",
      "[1 0 0 0 0 0 0 0 0 0 1 1 1 1 1 1 1 1 1 0]\n",
      "[1 0 0 0 0 0 0 0 0 0 1 1 1 1 1 1 1 1 1 0]\n",
      "[1 0 0 0 0 0 0 0 0 0 1 1 1 1 1 1 1 1 1 0]\n",
      "[1 0 0 0 0 0 0 0 0 0 1 1 1 1 1 1 1 1 1 0]\n",
      "[1 0 0 0 0 0 0 0 0 0 1 1 1 1 1 1 1 1 1 0]\n",
      "[1 0 0 0 0 0 0 0 0 0 1 1 1 1 1 1 1 1 1 0]\n",
      "[1 0 0 0 0 0 0 0 0 0 1 1 1 1 1 1 1 1 1 0]\n",
      "[1 0 0 0 0 0 0 0 0 0 1 1 1 1 1 1 1 1 1 0]\n",
      "[1 0 0 0 0 0 0 0 0 0 1 1 1 1 1 1 1 1 1 0]\n",
      "[1 0 0 0 0 0 0 0 0 0 1 1 1 1 1 1 1 1 1 0]\n"
     ]
    },
    {
     "data": {
      "application/vnd.jupyter.widget-view+json": {
       "model_id": "0f4de19b55934432b70961c35e4d1b97",
       "version_major": 2,
       "version_minor": 0
      },
      "text/plain": [
       "  0%|          | 0/300 [00:00<?, ?it/s]"
      ]
     },
     "metadata": {},
     "output_type": "display_data"
    },
    {
     "name": "stdout",
     "output_type": "stream",
     "text": [
      "Samples with  5  repetions.\n",
      "[1 0 0 1 0 0 1 0 1 0 1 0 0 1 0 0 0 0 1 1]\n",
      "[1 0 0 1 1 1 1 0 1 0 0 1 1 1 0 0 1 0 1 1]\n",
      "[1 0 0 0 1 0 1 0 1 0 0 0 1 1 0 0 1 1 1 1]\n",
      "[1 0 0 0 0 0 1 0 0 0 0 0 1 1 0 1 1 1 1 1]\n",
      "[1 0 0 0 0 0 0 1 0 0 1 1 0 0 1 1 1 1 1 0]\n",
      "[1 0 0 0 0 0 0 1 0 0 1 1 0 0 1 1 1 1 1 0]\n",
      "[1 0 0 0 0 0 0 1 0 0 1 1 1 1 1 1 1 1 1 0]\n",
      "[1 0 0 0 0 0 0 0 0 0 0 1 1 1 1 1 1 1 1 0]\n",
      "[1 0 0 0 0 0 0 0 0 0 0 1 1 1 1 1 1 1 1 0]\n",
      "[1 0 0 0 0 0 0 0 0 0 1 1 1 1 1 1 1 1 1 0]\n",
      "[1 0 0 0 0 0 0 0 0 0 1 1 1 1 1 1 1 1 1 0]\n",
      "[1 0 0 0 0 0 0 0 0 0 1 1 1 1 1 1 1 1 1 0]\n",
      "[1 0 0 0 0 0 0 0 0 0 1 1 1 1 1 1 1 1 1 0]\n",
      "[1 0 0 0 0 0 0 0 0 0 1 1 1 1 1 1 1 1 1 0]\n",
      "[1 0 0 0 0 0 0 0 0 0 1 1 1 1 1 1 1 1 1 0]\n",
      "[1 0 0 0 0 0 0 0 0 0 1 1 1 1 1 1 1 1 1 0]\n",
      "[0 0 0 0 0 0 0 0 0 0 1 1 1 1 1 1 1 1 1 0]\n",
      "[0 0 0 0 0 0 0 0 0 0 1 1 1 1 1 1 1 1 1 0]\n",
      "[0 0 0 0 0 0 0 0 0 0 1 1 1 1 1 1 1 1 1 0]\n",
      "[0 0 0 0 0 0 0 0 0 0 1 1 1 1 1 1 1 1 1 0]\n",
      "[0 0 0 0 0 0 0 0 0 0 1 1 1 1 1 1 1 1 1 0]\n",
      "[0 0 0 0 0 0 0 0 0 0 1 1 1 1 1 1 1 1 1 0]\n"
     ]
    },
    {
     "data": {
      "application/vnd.jupyter.widget-view+json": {
       "model_id": "27d4bcf895a64d9eb9343ea70c6900da",
       "version_major": 2,
       "version_minor": 0
      },
      "text/plain": [
       "  0%|          | 0/300 [00:00<?, ?it/s]"
      ]
     },
     "metadata": {},
     "output_type": "display_data"
    },
    {
     "name": "stdout",
     "output_type": "stream",
     "text": [
      "Samples with  20  repetions.\n",
      "[1 0 0 0 0 1 0 1 0 0 0 1 1 1 0 0 0 0 0 0]\n",
      "[1 0 0 0 0 1 1 1 0 0 0 1 1 0 1 0 0 0 1 0]\n",
      "[1 0 0 0 0 1 1 1 0 1 0 1 1 0 1 0 0 1 1 0]\n",
      "[1 0 0 0 0 0 1 1 0 1 1 1 1 0 1 0 1 1 1 0]\n",
      "[1 0 0 0 0 0 0 1 1 1 1 0 1 0 1 1 1 1 1 0]\n",
      "[1 0 0 0 0 0 0 1 1 1 1 0 1 0 1 1 1 1 1 1]\n",
      "[0 0 0 0 0 0 0 1 1 1 1 0 1 1 1 1 1 1 1 1]\n",
      "[0 0 0 0 0 0 0 0 1 1 1 0 1 1 1 1 1 1 1 1]\n",
      "[0 0 0 0 0 0 0 0 0 1 1 1 1 1 1 1 1 1 1 1]\n",
      "[0 0 0 0 0 0 0 0 0 0 1 1 1 1 1 1 1 1 1 1]\n",
      "[0 0 0 0 0 0 0 0 0 0 1 1 1 1 1 1 1 1 1 1]\n",
      "[0 0 0 0 0 0 0 0 0 0 1 1 1 1 1 1 1 1 1 1]\n",
      "[0 0 0 0 0 0 0 0 0 0 1 1 1 1 1 1 1 1 1 1]\n",
      "[0 0 0 0 0 0 0 0 0 0 1 1 1 1 1 1 1 1 1 1]\n",
      "[0 0 0 0 0 0 0 0 0 0 1 1 1 1 1 1 1 1 1 1]\n",
      "[0 0 0 0 0 0 0 0 0 0 1 1 1 1 1 1 1 1 1 1]\n",
      "[0 0 0 0 0 0 0 0 0 0 1 1 1 1 1 1 1 1 1 1]\n",
      "[0 0 0 0 0 0 0 0 0 0 1 1 1 1 1 1 1 1 1 1]\n",
      "[0 0 0 0 0 0 0 0 0 0 1 1 1 1 1 1 1 1 1 1]\n",
      "[0 0 0 0 0 0 0 0 0 0 1 1 1 1 1 1 1 1 1 1]\n",
      "[0 0 0 0 0 0 0 0 0 0 1 1 1 1 1 1 1 1 1 1]\n",
      "[0 0 0 0 0 0 0 0 0 0 1 1 1 1 1 1 1 1 1 1]\n"
     ]
    }
   ],
   "source": [
    "from tqdm.notebook import tqdm\n",
    "\n",
    "from pbo.sample_collection.dataloader import SampleDataLoader\n",
    "from pbo.weights_collection.dataloader import WeightsDataLoader\n",
    "from pbo.networks.learnable_pbo import TabularPBO\n",
    "\n",
    "\n",
    "training_losses_non_linear = np.zeros((len(n_repetitions_list), max_bellman_iterations_validation))\n",
    "validation_losses_non_linear = np.zeros((len(n_repetitions_list), max_bellman_iterations_validation))\n",
    "value_functions_non_linear = np.zeros((len(n_repetitions_list), max_bellman_iterations_validation, n_states))\n",
    "pbos_params = []\n",
    "\n",
    "for idx_repetition in range(len(n_repetitions_list)):\n",
    "    data_loader_samples = SampleDataLoader(replay_buffers[idx_repetition], batch_size_samples, shuffle_key)\n",
    "    data_loader_weights = WeightsDataLoader(weights_buffer, batch_size_weights, shuffle_key)\n",
    "    pbo_non_linear = TabularPBO(q_random, max_bellman_iterations, add_infinity_non_linear, pbo_network_key, learning_rates[idx_repetition], n_actions)\n",
    "    importance_iteration = jnp.ones(max_bellman_iterations + 1)\n",
    "    importance_iteration = importance_iteration.at[-1].set(0)\n",
    "\n",
    "    for _ in tqdm(range(training_steps)):\n",
    "        params_target = pbo_non_linear.params\n",
    "\n",
    "        for _ in range(fitting_steps):\n",
    "            data_loader_weights.shuffle()\n",
    "            for batch_weights in data_loader_weights:\n",
    "                data_loader_samples.shuffle()\n",
    "                for batch_samples in data_loader_samples:\n",
    "                    pbo_non_linear.params, pbo_non_linear.optimizer_state, _ = pbo_non_linear.learn_on_batch(\n",
    "                        pbo_non_linear.params, params_target, pbo_non_linear.optimizer_state, batch_weights, batch_samples, importance_iteration\n",
    "                    )\n",
    "\n",
    "    pbos_params.append(pbo_non_linear.params)\n",
    "    print(\"Samples with \", n_repetitions_list[idx_repetition], \" repetions.\")\n",
    "    \n",
    "    batch_iterated_weights = validation_initial_weight.reshape((1, -1))\n",
    "    for bellman_iteration in range(max_bellman_iterations_validation):\n",
    "        q_i = q.discretize(batch_iterated_weights, states, actions)[0]\n",
    "        batch_iterated_weights = pbo_non_linear(pbo_non_linear.params, batch_iterated_weights)\n",
    "        q_i_plus_1 = q.discretize(batch_iterated_weights, states, actions)[0]\n",
    "        policy_q = q_i_plus_1.argmax(axis=1)\n",
    "\n",
    "        training_losses_non_linear[idx_repetition, bellman_iteration] = jnp.abs(env.apply_bellman_operator(q_i) - q_i_plus_1).mean()\n",
    "        validation_losses_non_linear[idx_repetition, bellman_iteration] = jnp.abs(optimal_q - q_i_plus_1).mean()\n",
    "        value_functions_non_linear[idx_repetition, bellman_iteration] = env.value_function(policy_q)\n",
    "        print(policy_q)"
   ]
  },
  {
   "cell_type": "markdown",
   "metadata": {},
   "source": [
    "## Save data"
   ]
  },
  {
   "cell_type": "code",
   "execution_count": 9,
   "metadata": {
    "execution": {
     "iopub.execute_input": "2022-07-28T15:28:26.702027Z",
     "iopub.status.busy": "2022-07-28T15:28:26.701890Z",
     "iopub.status.idle": "2022-07-28T15:28:26.726767Z",
     "shell.execute_reply": "2022-07-28T15:28:26.726280Z"
    }
   },
   "outputs": [],
   "source": [
    "str_repetitions = \"\"\n",
    "\n",
    "for n_repetitions in n_repetitions_list:\n",
    "    str_repetitions += \"_\" + str(n_repetitions)\n",
    "\n",
    "for idx_repetition, n_repetitions in enumerate(n_repetitions_list):\n",
    "    np.save(f\"figures/data/PBO_max_linear/{max_bellman_iterations}_Q_{seed}_max_linear_{n_repetitions}{str_repetitions}.npy\", validation_losses_non_linear[idx_repetition])\n",
    "np.save(f\"figures/data/PBO_max_linear/{max_bellman_iterations}_Q_{seed}_optimal{str_repetitions}.npy\", validation_losses_optimal)\n",
    "\n",
    "for idx_repetition, n_repetitions in enumerate(n_repetitions_list):\n",
    "    np.save(f\"figures/data/PBO_max_linear/{max_bellman_iterations}_BE_{seed}_max_linear_{n_repetitions}{str_repetitions}.npy\", training_losses_non_linear[idx_repetition])\n",
    "np.save(f\"figures/data/PBO_max_linear/{max_bellman_iterations}_BE_{seed}_optimal{str_repetitions}.npy\", training_losses_optimal)\n",
    "\n",
    "for idx_repetition, n_repetitions in enumerate(n_repetitions_list):\n",
    "    np.save(f\"figures/data/PBO_max_linear/{max_bellman_iterations}_V_{seed}_max_linear_{n_repetitions}{str_repetitions}.npy\", np.abs(value_functions_non_linear[idx_repetition] - optimal_v).mean(axis=1))\n",
    "np.save(f\"figures/data/PBO_max_linear/{max_bellman_iterations}_V_{seed}_optimal{str_repetitions}.npy\", np.abs(value_functions_optimal - optimal_v).mean(axis=1))"
   ]
  },
  {
   "cell_type": "markdown",
   "metadata": {},
   "source": [
    "## Visualize errors in Q functions"
   ]
  },
  {
   "cell_type": "code",
   "execution_count": 10,
   "metadata": {
    "execution": {
     "iopub.execute_input": "2022-07-28T15:28:26.728700Z",
     "iopub.status.busy": "2022-07-28T15:28:26.728564Z",
     "iopub.status.idle": "2022-07-28T15:28:26.922737Z",
     "shell.execute_reply": "2022-07-28T15:28:26.922294Z"
    }
   },
   "outputs": [
    {
     "data": {
      "image/png": "[encoded data removed]",
      "text/plain": [
       "<Figure size 432x288 with 1 Axes>"
      ]
     },
     "metadata": {
      "needs_background": "light"
     },
     "output_type": "display_data"
    }
   ],
   "source": [
    "import matplotlib.pyplot as plt \n",
    "\n",
    "iterations = range(1, max_bellman_iterations_validation + 1)\n",
    "\n",
    "for idx_repetition in range(len(n_repetitions_list)):\n",
    "    plt.plot(iterations, validation_losses_non_linear[idx_repetition], label=f\"pbo max-linear with {n_repetitions_list[idx_repetition]} repetitions\", linestyle=\"--\")\n",
    "plt.plot(iterations, validation_losses_optimal, label=\"pbo optimal\", color=\"black\")\n",
    "plt.vlines(max_bellman_iterations, 0, np.max(validation_losses_non_linear), color=\"black\", linestyle=\"--\")\n",
    "\n",
    "plt.xticks(iterations)\n",
    "plt.xlabel(\"iterations\")\n",
    "\n",
    "plt.title(r\"$|| Q^* - Q_i ||_1$\")\n",
    "_ = plt.legend()"
   ]
  },
  {
   "cell_type": "code",
   "execution_count": 11,
   "metadata": {
    "execution": {
     "iopub.execute_input": "2022-07-28T15:28:26.924450Z",
     "iopub.status.busy": "2022-07-28T15:28:26.924310Z",
     "iopub.status.idle": "2022-07-28T15:28:27.061298Z",
     "shell.execute_reply": "2022-07-28T15:28:27.060842Z"
    }
   },
   "outputs": [
    {
     "data": {
      "image/png": "[encoded data removed]",
      "text/plain": [
       "<Figure size 432x288 with 1 Axes>"
      ]
     },
     "metadata": {
      "needs_background": "light"
     },
     "output_type": "display_data"
    }
   ],
   "source": [
    "for idx_repetition in range(len(n_repetitions_list)):\n",
    "    plt.plot(iterations, training_losses_non_linear[idx_repetition], label=f\"pbo max-linear with {n_repetitions_list[idx_repetition]} repetitions\")\n",
    "plt.plot(iterations, training_losses_optimal, label=\"pbo optimal\", color=\"black\")\n",
    "plt.vlines(max_bellman_iterations, 0, np.max(training_losses_non_linear), color=\"black\", linestyle=\"--\")\n",
    "\n",
    "plt.xticks(iterations)\n",
    "plt.xlabel(\"iterations\")\n",
    "\n",
    "plt.title(r\"$|| \\Gamma^*Q_{i-1} - Q_i ||_1$\")\n",
    "_ = plt.legend()"
   ]
  },
  {
   "cell_type": "markdown",
   "metadata": {},
   "source": [
    "## Distance between empirical and theoretical probabilities"
   ]
  },
  {
   "cell_type": "code",
   "execution_count": 12,
   "metadata": {
    "execution": {
     "iopub.execute_input": "2022-07-28T15:28:27.063050Z",
     "iopub.status.busy": "2022-07-28T15:28:27.062912Z",
     "iopub.status.idle": "2022-07-28T15:28:30.907358Z",
     "shell.execute_reply": "2022-07-28T15:28:30.906894Z"
    }
   },
   "outputs": [
    {
     "name": "stdout",
     "output_type": "stream",
     "text": [
      "-- For 2 repetitions --\n",
      "Probability transition:\n",
      "Empirical vs Theoretical -  2.1023796\n",
      "Empirical vs Learnt -  0.0023666185\n",
      "Theoretical vs Learnt -  2.1023521\n",
      "\n",
      "Reward:\n",
      "Empirical vs Theoretical -  0.0\n",
      "Empirical vs Learnt -  0.001659874\n",
      "Theoretical vs Learnt -  0.001659874\n",
      "\n",
      "-- For 5 repetitions --\n",
      "Probability transition:\n",
      "Empirical vs Theoretical -  1.3564659\n",
      "Empirical vs Learnt -  0.0037934477\n",
      "Theoretical vs Learnt -  1.3565077\n",
      "\n",
      "Reward:\n",
      "Empirical vs Theoretical -  0.0\n",
      "Empirical vs Learnt -  0.00204056\n",
      "Theoretical vs Learnt -  0.00204056\n",
      "\n",
      "-- For 20 repetitions --\n",
      "Probability transition:\n",
      "Empirical vs Theoretical -  0.4636809\n",
      "Empirical vs Learnt -  0.0042331656\n",
      "Theoretical vs Learnt -  0.4636011\n",
      "\n",
      "Reward:\n",
      "Empirical vs Theoretical -  0.0\n",
      "Empirical vs Learnt -  0.0023917737\n",
      "Theoretical vs Learnt -  0.0023917737\n",
      "\n"
     ]
    }
   ],
   "source": [
    "for idx_repetition in range(len(n_repetitions_list)):\n",
    "    empirical_transition_proba = np.zeros((n_states, n_states * n_actions))\n",
    "    empirical_reward = np.zeros(n_states * n_actions)\n",
    "\n",
    "    for idx_sample in range(len(replay_buffers[idx_repetition].states)):\n",
    "        state = replay_buffers[idx_repetition].states[idx_sample, 0]\n",
    "        action = replay_buffers[idx_repetition].actions[idx_sample, 0]\n",
    "        reward = replay_buffers[idx_repetition].rewards[idx_sample, 0]\n",
    "        next_state = replay_buffers[idx_repetition].next_states[idx_sample, 0]\n",
    "\n",
    "        empirical_transition_proba[next_state, state * n_actions + action] += 1 \n",
    "        empirical_reward[state * n_actions + action] += reward\n",
    "\n",
    "    empirical_transition_proba /= n_repetitions_list[idx_repetition]\n",
    "    empirical_reward /= n_repetitions_list[idx_repetition]\n",
    "\n",
    "    print(f\"-- For {n_repetitions_list[idx_repetition]} repetitions --\")\n",
    "    print(f\"Probability transition:\")\n",
    "    print(\"Empirical vs Theoretical - \", np.linalg.norm(empirical_transition_proba - env.transition_proba.T))\n",
    "    print(\"Empirical vs Learnt - \", np.linalg.norm(empirical_transition_proba - pbos_params[idx_repetition][\"TabularPBONet/linear\"][\"w\"] / gamma))\n",
    "    print(\"Theoretical vs Learnt - \", np.linalg.norm(env.transition_proba.T - pbos_params[idx_repetition][\"TabularPBONet/linear\"][\"w\"] / gamma))\n",
    "    print(\"\\nReward:\")\n",
    "    print(\"Empirical vs Theoretical - \", np.linalg.norm(empirical_reward - env.R.T))\n",
    "    print(\"Empirical vs Learnt - \", np.linalg.norm(empirical_reward - pbos_params[idx_repetition][\"TabularPBONet/linear\"][\"b\"]))\n",
    "    print(\"Theoretical vs Learnt - \", np.linalg.norm(env.R.T - pbos_params[idx_repetition][\"TabularPBONet/linear\"][\"b\"]))\n",
    "    print()\n"
   ]
  },
  {
   "cell_type": "markdown",
   "metadata": {},
   "source": [
    "## Visualize errors in preformances"
   ]
  },
  {
   "cell_type": "code",
   "execution_count": 13,
   "metadata": {
    "execution": {
     "iopub.execute_input": "2022-07-28T15:28:30.909115Z",
     "iopub.status.busy": "2022-07-28T15:28:30.908977Z",
     "iopub.status.idle": "2022-07-28T15:28:31.032892Z",
     "shell.execute_reply": "2022-07-28T15:28:31.032432Z"
    }
   },
   "outputs": [
    {
     "data": {
      "image/png": "[encoded data removed]",
      "text/plain": [
       "<Figure size 432x288 with 1 Axes>"
      ]
     },
     "metadata": {
      "needs_background": "light"
     },
     "output_type": "display_data"
    }
   ],
   "source": [
    "for idx_repetition in range(len(n_repetitions_list)):\n",
    "    plt.plot(iterations, np.abs(value_functions_non_linear[idx_repetition] - optimal_v).mean(axis=1), label=f\"pbo max-linear with {n_repetitions_list[idx_repetition]} repetitions\", linestyle=\"--\")\n",
    "plt.plot(iterations, np.abs(value_functions_optimal - optimal_v).mean(axis=1), label=\"pbo optimal\", color=\"black\")\n",
    "plt.vlines(max_bellman_iterations, 0, np.abs(value_functions_non_linear[0] - optimal_v).mean(axis=1).max(), color=\"black\", linestyle=\"--\")\n",
    "\n",
    "plt.xticks(iterations)\n",
    "plt.ylim(0)\n",
    "plt.xlabel(\"iterations\")\n",
    "\n",
    "plt.title(r\"$E[| V^*(s) - V^{\\pi}(s) |]$\")\n",
    "_ = plt.legend()"
   ]
  }
 ],
 "metadata": {
  "interpreter": {
   "hash": "1432d270abb514d077d760a4c8d2edd41cc0752b595b0513fca29951003961c1"
  },
  "kernelspec": {
   "display_name": "Python 3.8.10 ('env': venv)",
   "language": "python",
   "name": "python3"
  },
  "language_info": {
   "codemirror_mode": {
    "name": "ipython",
    "version": 3
   },
   "file_extension": ".py",
   "mimetype": "text/x-python",
   "name": "python",
   "nbconvert_exporter": "python",
   "pygments_lexer": "ipython3",
   "version": "3.8.10"
  },
  "widgets": {
   "application/vnd.jupyter.widget-state+json": {
    "state": {
     "0c8f749592034e09b89615b5c091adda": {
      "model_module": "@jupyter-widgets/base",
      "model_module_version": "1.2.0",
      "model_name": "LayoutModel",
      "state": {
       "_model_module": "@jupyter-widgets/base",
       "_model_module_version": "1.2.0",
       "_model_name": "LayoutModel",
       "_view_count": null,
       "_view_module": "@jupyter-widgets/base",
       "_view_module_version": "1.2.0",
       "_view_name": "LayoutView",
       "align_content": null,
       "align_items": null,
       "align_self": null,
       "border": null,
       "bottom": null,
       "display": null,
       "flex": null,
       "flex_flow": null,
       "grid_area": null,
       "grid_auto_columns": null,
       "grid_auto_flow": null,
       "grid_auto_rows": null,
       "grid_column": null,
       "grid_gap": null,
       "grid_row": null,
       "grid_template_areas": null,
       "grid_template_columns": null,
       "grid_template_rows": null,
       "height": null,
       "justify_content": null,
       "justify_items": null,
       "left": null,
       "margin": null,
       "max_height": null,
       "max_width": null,
       "min_height": null,
       "min_width": null,
       "object_fit": null,
       "object_position": null,
       "order": null,
       "overflow": null,
       "overflow_x": null,
       "overflow_y": null,
       "padding": null,
       "right": null,
       "top": null,
       "visibility": null,
       "width": null
      }
     },
     "0dc357cecacc4f9fbdd8bf82d63a1d99": {
      "model_module": "@jupyter-widgets/controls",
      "model_module_version": "1.5.0",
      "model_name": "HTMLModel",
      "state": {
       "_dom_classes": [],
       "_model_module": "@jupyter-widgets/controls",
       "_model_module_version": "1.5.0",
       "_model_name": "HTMLModel",
       "_view_count": null,
       "_view_module": "@jupyter-widgets/controls",
       "_view_module_version": "1.5.0",
       "_view_name": "HTMLView",
       "description": "",
       "description_tooltip": null,
       "layout": "IPY_MODEL_620c170e234040728e039788d3256d81",
       "placeholder": "​",
       "style": "IPY_MODEL_d1f77a9e448d43cdaa8d9bd79650264d",
       "value": " 300/300 [00:04&lt;00:00, 79.63it/s]"
      }
     },
     "0f4de19b55934432b70961c35e4d1b97": {
      "model_module": "@jupyter-widgets/controls",
      "model_module_version": "1.5.0",
      "model_name": "HBoxModel",
      "state": {
       "_dom_classes": [],
       "_model_module": "@jupyter-widgets/controls",
       "_model_module_version": "1.5.0",
       "_model_name": "HBoxModel",
       "_view_count": null,
       "_view_module": "@jupyter-widgets/controls",
       "_view_module_version": "1.5.0",
       "_view_name": "HBoxView",
       "box_style": "",
       "children": [
        "IPY_MODEL_ed386f7e707f4259a6f7625942d5b628",
        "IPY_MODEL_288b7cae015f4c9694a84401b071e357",
        "IPY_MODEL_fca6d540388f4b74864e25a93aaf6a7b"
       ],
       "layout": "IPY_MODEL_bac6c0a2aecd49abb994e64a92fde114"
      }
     },
     "13ebd9a7eec840bdbf29457dd29532f1": {
      "model_module": "@jupyter-widgets/controls",
      "model_module_version": "1.5.0",
      "model_name": "HTMLModel",
      "state": {
       "_dom_classes": [],
       "_model_module": "@jupyter-widgets/controls",
       "_model_module_version": "1.5.0",
       "_model_name": "HTMLModel",
       "_view_count": null,
       "_view_module": "@jupyter-widgets/controls",
       "_view_module_version": "1.5.0",
       "_view_name": "HTMLView",
       "description": "",
       "description_tooltip": null,
       "layout": "IPY_MODEL_0c8f749592034e09b89615b5c091adda",
       "placeholder": "​",
       "style": "IPY_MODEL_86025174931840d19b3b2d62511f4b44",
       "value": " 300/300 [00:32&lt;00:00,  9.55it/s]"
      }
     },
     "16cbf7c2b898491cb4d136b49c0ab860": {
      "model_module": "@jupyter-widgets/controls",
      "model_module_version": "1.5.0",
      "model_name": "FloatProgressModel",
      "state": {
       "_dom_classes": [],
       "_model_module": "@jupyter-widgets/controls",
       "_model_module_version": "1.5.0",
       "_model_name": "FloatProgressModel",
       "_view_count": null,
       "_view_module": "@jupyter-widgets/controls",
       "_view_module_version": "1.5.0",
       "_view_name": "ProgressView",
       "bar_style": "success",
       "description": "",
       "description_tooltip": null,
       "layout": "IPY_MODEL_e238e912fb7148009820d120c73eec9c",
       "max": 300.0,
       "min": 0.0,
       "orientation": "horizontal",
       "style": "IPY_MODEL_e9c3d7cecf6549ffb68134f4bb1a923e",
       "value": 300.0
      }
     },
     "1c887a2b909f404299a57b3015031023": {
      "model_module": "@jupyter-widgets/base",
      "model_module_version": "1.2.0",
      "model_name": "LayoutModel",
      "state": {
       "_model_module": "@jupyter-widgets/base",
       "_model_module_version": "1.2.0",
       "_model_name": "LayoutModel",
       "_view_count": null,
       "_view_module": "@jupyter-widgets/base",
       "_view_module_version": "1.2.0",
       "_view_name": "LayoutView",
       "align_content": null,
       "align_items": null,
       "align_self": null,
       "border": null,
       "bottom": null,
       "display": null,
       "flex": null,
       "flex_flow": null,
       "grid_area": null,
       "grid_auto_columns": null,
       "grid_auto_flow": null,
       "grid_auto_rows": null,
       "grid_column": null,
       "grid_gap": null,
       "grid_row": null,
       "grid_template_areas": null,
       "grid_template_columns": null,
       "grid_template_rows": null,
       "height": null,
       "justify_content": null,
       "justify_items": null,
       "left": null,
       "margin": null,
       "max_height": null,
       "max_width": null,
       "min_height": null,
       "min_width": null,
       "object_fit": null,
       "object_position": null,
       "order": null,
       "overflow": null,
       "overflow_x": null,
       "overflow_y": null,
       "padding": null,
       "right": null,
       "top": null,
       "visibility": null,
       "width": null
      }
     },
     "27d4bcf895a64d9eb9343ea70c6900da": {
      "model_module": "@jupyter-widgets/controls",
      "model_module_version": "1.5.0",
      "model_name": "HBoxModel",
      "state": {
       "_dom_classes": [],
       "_model_module": "@jupyter-widgets/controls",
       "_model_module_version": "1.5.0",
       "_model_name": "HBoxModel",
       "_view_count": null,
       "_view_module": "@jupyter-widgets/controls",
       "_view_module_version": "1.5.0",
       "_view_name": "HBoxView",
       "box_style": "",
       "children": [
        "IPY_MODEL_eecc1a595a6b4f1c8cc3bb4638fe705f",
        "IPY_MODEL_16cbf7c2b898491cb4d136b49c0ab860",
        "IPY_MODEL_13ebd9a7eec840bdbf29457dd29532f1"
       ],
       "layout": "IPY_MODEL_2f00f0224e23454ab7ff5d73ce511f24"
      }
     },
     "288b7cae015f4c9694a84401b071e357": {
      "model_module": "@jupyter-widgets/controls",
      "model_module_version": "1.5.0",
      "model_name": "FloatProgressModel",
      "state": {
       "_dom_classes": [],
       "_model_module": "@jupyter-widgets/controls",
       "_model_module_version": "1.5.0",
       "_model_name": "FloatProgressModel",
       "_view_count": null,
       "_view_module": "@jupyter-widgets/controls",
       "_view_module_version": "1.5.0",
       "_view_name": "ProgressView",
       "bar_style": "success",
       "description": "",
       "description_tooltip": null,
       "layout": "IPY_MODEL_595719de0292486ca4488e9f1e270d14",
       "max": 300.0,
       "min": 0.0,
       "orientation": "horizontal",
       "style": "IPY_MODEL_b538e82428904c0abfe61e52ad6c2a9f",
       "value": 300.0
      }
     },
     "2f00f0224e23454ab7ff5d73ce511f24": {
      "model_module": "@jupyter-widgets/base",
      "model_module_version": "1.2.0",
      "model_name": "LayoutModel",
      "state": {
       "_model_module": "@jupyter-widgets/base",
       "_model_module_version": "1.2.0",
       "_model_name": "LayoutModel",
       "_view_count": null,
       "_view_module": "@jupyter-widgets/base",
       "_view_module_version": "1.2.0",
       "_view_name": "LayoutView",
       "align_content": null,
       "align_items": null,
       "align_self": null,
       "border": null,
       "bottom": null,
       "display": null,
       "flex": null,
       "flex_flow": null,
       "grid_area": null,
       "grid_auto_columns": null,
       "grid_auto_flow": null,
       "grid_auto_rows": null,
       "grid_column": null,
       "grid_gap": null,
       "grid_row": null,
       "grid_template_areas": null,
       "grid_template_columns": null,
       "grid_template_rows": null,
       "height": null,
       "justify_content": null,
       "justify_items": null,
       "left": null,
       "margin": null,
       "max_height": null,
       "max_width": null,
       "min_height": null,
       "min_width": null,
       "object_fit": null,
       "object_position": null,
       "order": null,
       "overflow": null,
       "overflow_x": null,
       "overflow_y": null,
       "padding": null,
       "right": null,
       "top": null,
       "visibility": null,
       "width": null
      }
     },
     "3974ca22bd094e5d96350b0ade03a881": {
      "model_module": "@jupyter-widgets/base",
      "model_module_version": "1.2.0",
      "model_name": "LayoutModel",
      "state": {
       "_model_module": "@jupyter-widgets/base",
       "_model_module_version": "1.2.0",
       "_model_name": "LayoutModel",
       "_view_count": null,
       "_view_module": "@jupyter-widgets/base",
       "_view_module_version": "1.2.0",
       "_view_name": "LayoutView",
       "align_content": null,
       "align_items": null,
       "align_self": null,
       "border": null,
       "bottom": null,
       "display": null,
       "flex": null,
       "flex_flow": null,
       "grid_area": null,
       "grid_auto_columns": null,
       "grid_auto_flow": null,
       "grid_auto_rows": null,
       "grid_column": null,
       "grid_gap": null,
       "grid_row": null,
       "grid_template_areas": null,
       "grid_template_columns": null,
       "grid_template_rows": null,
       "height": null,
       "justify_content": null,
       "justify_items": null,
       "left": null,
       "margin": null,
       "max_height": null,
       "max_width": null,
       "min_height": null,
       "min_width": null,
       "object_fit": null,
       "object_position": null,
       "order": null,
       "overflow": null,
       "overflow_x": null,
       "overflow_y": null,
       "padding": null,
       "right": null,
       "top": null,
       "visibility": null,
       "width": null
      }
     },
     "595719de0292486ca4488e9f1e270d14": {
      "model_module": "@jupyter-widgets/base",
      "model_module_version": "1.2.0",
      "model_name": "LayoutModel",
      "state": {
       "_model_module": "@jupyter-widgets/base",
       "_model_module_version": "1.2.0",
       "_model_name": "LayoutModel",
       "_view_count": null,
       "_view_module": "@jupyter-widgets/base",
       "_view_module_version": "1.2.0",
       "_view_name": "LayoutView",
       "align_content": null,
       "align_items": null,
       "align_self": null,
       "border": null,
       "bottom": null,
       "display": null,
       "flex": null,
       "flex_flow": null,
       "grid_area": null,
       "grid_auto_columns": null,
       "grid_auto_flow": null,
       "grid_auto_rows": null,
       "grid_column": null,
       "grid_gap": null,
       "grid_row": null,
       "grid_template_areas": null,
       "grid_template_columns": null,
       "grid_template_rows": null,
       "height": null,
       "justify_content": null,
       "justify_items": null,
       "left": null,
       "margin": null,
       "max_height": null,
       "max_width": null,
       "min_height": null,
       "min_width": null,
       "object_fit": null,
       "object_position": null,
       "order": null,
       "overflow": null,
       "overflow_x": null,
       "overflow_y": null,
       "padding": null,
       "right": null,
       "top": null,
       "visibility": null,
       "width": null
      }
     },
     "61c499b816b04be1913125adae2f6881": {
      "model_module": "@jupyter-widgets/controls",
      "model_module_version": "1.5.0",
      "model_name": "DescriptionStyleModel",
      "state": {
       "_model_module": "@jupyter-widgets/controls",
       "_model_module_version": "1.5.0",
       "_model_name": "DescriptionStyleModel",
       "_view_count": null,
       "_view_module": "@jupyter-widgets/base",
       "_view_module_version": "1.2.0",
       "_view_name": "StyleView",
       "description_width": ""
      }
     },
     "620c170e234040728e039788d3256d81": {
      "model_module": "@jupyter-widgets/base",
      "model_module_version": "1.2.0",
      "model_name": "LayoutModel",
      "state": {
       "_model_module": "@jupyter-widgets/base",
       "_model_module_version": "1.2.0",
       "_model_name": "LayoutModel",
       "_view_count": null,
       "_view_module": "@jupyter-widgets/base",
       "_view_module_version": "1.2.0",
       "_view_name": "LayoutView",
       "align_content": null,
       "align_items": null,
       "align_self": null,
       "border": null,
       "bottom": null,
       "display": null,
       "flex": null,
       "flex_flow": null,
       "grid_area": null,
       "grid_auto_columns": null,
       "grid_auto_flow": null,
       "grid_auto_rows": null,
       "grid_column": null,
       "grid_gap": null,
       "grid_row": null,
       "grid_template_areas": null,
       "grid_template_columns": null,
       "grid_template_rows": null,
       "height": null,
       "justify_content": null,
       "justify_items": null,
       "left": null,
       "margin": null,
       "max_height": null,
       "max_width": null,
       "min_height": null,
       "min_width": null,
       "object_fit": null,
       "object_position": null,
       "order": null,
       "overflow": null,
       "overflow_x": null,
       "overflow_y": null,
       "padding": null,
       "right": null,
       "top": null,
       "visibility": null,
       "width": null
      }
     },
     "6a687edb056b462b8922a2356f074b50": {
      "model_module": "@jupyter-widgets/base",
      "model_module_version": "1.2.0",
      "model_name": "LayoutModel",
      "state": {
       "_model_module": "@jupyter-widgets/base",
       "_model_module_version": "1.2.0",
       "_model_name": "LayoutModel",
       "_view_count": null,
       "_view_module": "@jupyter-widgets/base",
       "_view_module_version": "1.2.0",
       "_view_name": "LayoutView",
       "align_content": null,
       "align_items": null,
       "align_self": null,
       "border": null,
       "bottom": null,
       "display": null,
       "flex": null,
       "flex_flow": null,
       "grid_area": null,
       "grid_auto_columns": null,
       "grid_auto_flow": null,
       "grid_auto_rows": null,
       "grid_column": null,
       "grid_gap": null,
       "grid_row": null,
       "grid_template_areas": null,
       "grid_template_columns": null,
       "grid_template_rows": null,
       "height": null,
       "justify_content": null,
       "justify_items": null,
       "left": null,
       "margin": null,
       "max_height": null,
       "max_width": null,
       "min_height": null,
       "min_width": null,
       "object_fit": null,
       "object_position": null,
       "order": null,
       "overflow": null,
       "overflow_x": null,
       "overflow_y": null,
       "padding": null,
       "right": null,
       "top": null,
       "visibility": null,
       "width": null
      }
     },
     "855b8eba6d3044a8ac4d4ba2c25fdd1c": {
      "model_module": "@jupyter-widgets/controls",
      "model_module_version": "1.5.0",
      "model_name": "DescriptionStyleModel",
      "state": {
       "_model_module": "@jupyter-widgets/controls",
       "_model_module_version": "1.5.0",
       "_model_name": "DescriptionStyleModel",
       "_view_count": null,
       "_view_module": "@jupyter-widgets/base",
       "_view_module_version": "1.2.0",
       "_view_name": "StyleView",
       "description_width": ""
      }
     },
     "86025174931840d19b3b2d62511f4b44": {
      "model_module": "@jupyter-widgets/controls",
      "model_module_version": "1.5.0",
      "model_name": "DescriptionStyleModel",
      "state": {
       "_model_module": "@jupyter-widgets/controls",
       "_model_module_version": "1.5.0",
       "_model_name": "DescriptionStyleModel",
       "_view_count": null,
       "_view_module": "@jupyter-widgets/base",
       "_view_module_version": "1.2.0",
       "_view_name": "StyleView",
       "description_width": ""
      }
     },
     "92418c5404ba4d80863f471bfa968d8e": {
      "model_module": "@jupyter-widgets/base",
      "model_module_version": "1.2.0",
      "model_name": "LayoutModel",
      "state": {
       "_model_module": "@jupyter-widgets/base",
       "_model_module_version": "1.2.0",
       "_model_name": "LayoutModel",
       "_view_count": null,
       "_view_module": "@jupyter-widgets/base",
       "_view_module_version": "1.2.0",
       "_view_name": "LayoutView",
       "align_content": null,
       "align_items": null,
       "align_self": null,
       "border": null,
       "bottom": null,
       "display": null,
       "flex": null,
       "flex_flow": null,
       "grid_area": null,
       "grid_auto_columns": null,
       "grid_auto_flow": null,
       "grid_auto_rows": null,
       "grid_column": null,
       "grid_gap": null,
       "grid_row": null,
       "grid_template_areas": null,
       "grid_template_columns": null,
       "grid_template_rows": null,
       "height": null,
       "justify_content": null,
       "justify_items": null,
       "left": null,
       "margin": null,
       "max_height": null,
       "max_width": null,
       "min_height": null,
       "min_width": null,
       "object_fit": null,
       "object_position": null,
       "order": null,
       "overflow": null,
       "overflow_x": null,
       "overflow_y": null,
       "padding": null,
       "right": null,
       "top": null,
       "visibility": null,
       "width": null
      }
     },
     "9568783d40924a1ab288515f293228d4": {
      "model_module": "@jupyter-widgets/base",
      "model_module_version": "1.2.0",
      "model_name": "LayoutModel",
      "state": {
       "_model_module": "@jupyter-widgets/base",
       "_model_module_version": "1.2.0",
       "_model_name": "LayoutModel",
       "_view_count": null,
       "_view_module": "@jupyter-widgets/base",
       "_view_module_version": "1.2.0",
       "_view_name": "LayoutView",
       "align_content": null,
       "align_items": null,
       "align_self": null,
       "border": null,
       "bottom": null,
       "display": null,
       "flex": null,
       "flex_flow": null,
       "grid_area": null,
       "grid_auto_columns": null,
       "grid_auto_flow": null,
       "grid_auto_rows": null,
       "grid_column": null,
       "grid_gap": null,
       "grid_row": null,
       "grid_template_areas": null,
       "grid_template_columns": null,
       "grid_template_rows": null,
       "height": null,
       "justify_content": null,
       "justify_items": null,
       "left": null,
       "margin": null,
       "max_height": null,
       "max_width": null,
       "min_height": null,
       "min_width": null,
       "object_fit": null,
       "object_position": null,
       "order": null,
       "overflow": null,
       "overflow_x": null,
       "overflow_y": null,
       "padding": null,
       "right": null,
       "top": null,
       "visibility": null,
       "width": null
      }
     },
     "a1abe541bf4847289b1f016ce7ddc294": {
      "model_module": "@jupyter-widgets/controls",
      "model_module_version": "1.5.0",
      "model_name": "DescriptionStyleModel",
      "state": {
       "_model_module": "@jupyter-widgets/controls",
       "_model_module_version": "1.5.0",
       "_model_name": "DescriptionStyleModel",
       "_view_count": null,
       "_view_module": "@jupyter-widgets/base",
       "_view_module_version": "1.2.0",
       "_view_name": "StyleView",
       "description_width": ""
      }
     },
     "b538e82428904c0abfe61e52ad6c2a9f": {
      "model_module": "@jupyter-widgets/controls",
      "model_module_version": "1.5.0",
      "model_name": "ProgressStyleModel",
      "state": {
       "_model_module": "@jupyter-widgets/controls",
       "_model_module_version": "1.5.0",
       "_model_name": "ProgressStyleModel",
       "_view_count": null,
       "_view_module": "@jupyter-widgets/base",
       "_view_module_version": "1.2.0",
       "_view_name": "StyleView",
       "bar_color": null,
       "description_width": ""
      }
     },
     "bac6c0a2aecd49abb994e64a92fde114": {
      "model_module": "@jupyter-widgets/base",
      "model_module_version": "1.2.0",
      "model_name": "LayoutModel",
      "state": {
       "_model_module": "@jupyter-widgets/base",
       "_model_module_version": "1.2.0",
       "_model_name": "LayoutModel",
       "_view_count": null,
       "_view_module": "@jupyter-widgets/base",
       "_view_module_version": "1.2.0",
       "_view_name": "LayoutView",
       "align_content": null,
       "align_items": null,
       "align_self": null,
       "border": null,
       "bottom": null,
       "display": null,
       "flex": null,
       "flex_flow": null,
       "grid_area": null,
       "grid_auto_columns": null,
       "grid_auto_flow": null,
       "grid_auto_rows": null,
       "grid_column": null,
       "grid_gap": null,
       "grid_row": null,
       "grid_template_areas": null,
       "grid_template_columns": null,
       "grid_template_rows": null,
       "height": null,
       "justify_content": null,
       "justify_items": null,
       "left": null,
       "margin": null,
       "max_height": null,
       "max_width": null,
       "min_height": null,
       "min_width": null,
       "object_fit": null,
       "object_position": null,
       "order": null,
       "overflow": null,
       "overflow_x": null,
       "overflow_y": null,
       "padding": null,
       "right": null,
       "top": null,
       "visibility": null,
       "width": null
      }
     },
     "bbc0635f9e974753adfc606cf546cdc3": {
      "model_module": "@jupyter-widgets/controls",
      "model_module_version": "1.5.0",
      "model_name": "HBoxModel",
      "state": {
       "_dom_classes": [],
       "_model_module": "@jupyter-widgets/controls",
       "_model_module_version": "1.5.0",
       "_model_name": "HBoxModel",
       "_view_count": null,
       "_view_module": "@jupyter-widgets/controls",
       "_view_module_version": "1.5.0",
       "_view_name": "HBoxView",
       "box_style": "",
       "children": [
        "IPY_MODEL_c3688f4b840a4d98a00b6944022fc0fd",
        "IPY_MODEL_caf46309333c4b60ba81f0dda52cfe1e",
        "IPY_MODEL_0dc357cecacc4f9fbdd8bf82d63a1d99"
       ],
       "layout": "IPY_MODEL_3974ca22bd094e5d96350b0ade03a881"
      }
     },
     "c3688f4b840a4d98a00b6944022fc0fd": {
      "model_module": "@jupyter-widgets/controls",
      "model_module_version": "1.5.0",
      "model_name": "HTMLModel",
      "state": {
       "_dom_classes": [],
       "_model_module": "@jupyter-widgets/controls",
       "_model_module_version": "1.5.0",
       "_model_name": "HTMLModel",
       "_view_count": null,
       "_view_module": "@jupyter-widgets/controls",
       "_view_module_version": "1.5.0",
       "_view_name": "HTMLView",
       "description": "",
       "description_tooltip": null,
       "layout": "IPY_MODEL_d96f3581b997497683b4698b0f911186",
       "placeholder": "​",
       "style": "IPY_MODEL_e92676da3e594408badb8eaa6c68340c",
       "value": "100%"
      }
     },
     "caf46309333c4b60ba81f0dda52cfe1e": {
      "model_module": "@jupyter-widgets/controls",
      "model_module_version": "1.5.0",
      "model_name": "FloatProgressModel",
      "state": {
       "_dom_classes": [],
       "_model_module": "@jupyter-widgets/controls",
       "_model_module_version": "1.5.0",
       "_model_name": "FloatProgressModel",
       "_view_count": null,
       "_view_module": "@jupyter-widgets/controls",
       "_view_module_version": "1.5.0",
       "_view_name": "ProgressView",
       "bar_style": "success",
       "description": "",
       "description_tooltip": null,
       "layout": "IPY_MODEL_1c887a2b909f404299a57b3015031023",
       "max": 300.0,
       "min": 0.0,
       "orientation": "horizontal",
       "style": "IPY_MODEL_d01e3990e6534ada91e452358851310c",
       "value": 300.0
      }
     },
     "d01e3990e6534ada91e452358851310c": {
      "model_module": "@jupyter-widgets/controls",
      "model_module_version": "1.5.0",
      "model_name": "ProgressStyleModel",
      "state": {
       "_model_module": "@jupyter-widgets/controls",
       "_model_module_version": "1.5.0",
       "_model_name": "ProgressStyleModel",
       "_view_count": null,
       "_view_module": "@jupyter-widgets/base",
       "_view_module_version": "1.2.0",
       "_view_name": "StyleView",
       "bar_color": null,
       "description_width": ""
      }
     },
     "d1f77a9e448d43cdaa8d9bd79650264d": {
      "model_module": "@jupyter-widgets/controls",
      "model_module_version": "1.5.0",
      "model_name": "DescriptionStyleModel",
      "state": {
       "_model_module": "@jupyter-widgets/controls",
       "_model_module_version": "1.5.0",
       "_model_name": "DescriptionStyleModel",
       "_view_count": null,
       "_view_module": "@jupyter-widgets/base",
       "_view_module_version": "1.2.0",
       "_view_name": "StyleView",
       "description_width": ""
      }
     },
     "d96f3581b997497683b4698b0f911186": {
      "model_module": "@jupyter-widgets/base",
      "model_module_version": "1.2.0",
      "model_name": "LayoutModel",
      "state": {
       "_model_module": "@jupyter-widgets/base",
       "_model_module_version": "1.2.0",
       "_model_name": "LayoutModel",
       "_view_count": null,
       "_view_module": "@jupyter-widgets/base",
       "_view_module_version": "1.2.0",
       "_view_name": "LayoutView",
       "align_content": null,
       "align_items": null,
       "align_self": null,
       "border": null,
       "bottom": null,
       "display": null,
       "flex": null,
       "flex_flow": null,
       "grid_area": null,
       "grid_auto_columns": null,
       "grid_auto_flow": null,
       "grid_auto_rows": null,
       "grid_column": null,
       "grid_gap": null,
       "grid_row": null,
       "grid_template_areas": null,
       "grid_template_columns": null,
       "grid_template_rows": null,
       "height": null,
       "justify_content": null,
       "justify_items": null,
       "left": null,
       "margin": null,
       "max_height": null,
       "max_width": null,
       "min_height": null,
       "min_width": null,
       "object_fit": null,
       "object_position": null,
       "order": null,
       "overflow": null,
       "overflow_x": null,
       "overflow_y": null,
       "padding": null,
       "right": null,
       "top": null,
       "visibility": null,
       "width": null
      }
     },
     "e238e912fb7148009820d120c73eec9c": {
      "model_module": "@jupyter-widgets/base",
      "model_module_version": "1.2.0",
      "model_name": "LayoutModel",
      "state": {
       "_model_module": "@jupyter-widgets/base",
       "_model_module_version": "1.2.0",
       "_model_name": "LayoutModel",
       "_view_count": null,
       "_view_module": "@jupyter-widgets/base",
       "_view_module_version": "1.2.0",
       "_view_name": "LayoutView",
       "align_content": null,
       "align_items": null,
       "align_self": null,
       "border": null,
       "bottom": null,
       "display": null,
       "flex": null,
       "flex_flow": null,
       "grid_area": null,
       "grid_auto_columns": null,
       "grid_auto_flow": null,
       "grid_auto_rows": null,
       "grid_column": null,
       "grid_gap": null,
       "grid_row": null,
       "grid_template_areas": null,
       "grid_template_columns": null,
       "grid_template_rows": null,
       "height": null,
       "justify_content": null,
       "justify_items": null,
       "left": null,
       "margin": null,
       "max_height": null,
       "max_width": null,
       "min_height": null,
       "min_width": null,
       "object_fit": null,
       "object_position": null,
       "order": null,
       "overflow": null,
       "overflow_x": null,
       "overflow_y": null,
       "padding": null,
       "right": null,
       "top": null,
       "visibility": null,
       "width": null
      }
     },
     "e92676da3e594408badb8eaa6c68340c": {
      "model_module": "@jupyter-widgets/controls",
      "model_module_version": "1.5.0",
      "model_name": "DescriptionStyleModel",
      "state": {
       "_model_module": "@jupyter-widgets/controls",
       "_model_module_version": "1.5.0",
       "_model_name": "DescriptionStyleModel",
       "_view_count": null,
       "_view_module": "@jupyter-widgets/base",
       "_view_module_version": "1.2.0",
       "_view_name": "StyleView",
       "description_width": ""
      }
     },
     "e9c3d7cecf6549ffb68134f4bb1a923e": {
      "model_module": "@jupyter-widgets/controls",
      "model_module_version": "1.5.0",
      "model_name": "ProgressStyleModel",
      "state": {
       "_model_module": "@jupyter-widgets/controls",
       "_model_module_version": "1.5.0",
       "_model_name": "ProgressStyleModel",
       "_view_count": null,
       "_view_module": "@jupyter-widgets/base",
       "_view_module_version": "1.2.0",
       "_view_name": "StyleView",
       "bar_color": null,
       "description_width": ""
      }
     },
     "ed386f7e707f4259a6f7625942d5b628": {
      "model_module": "@jupyter-widgets/controls",
      "model_module_version": "1.5.0",
      "model_name": "HTMLModel",
      "state": {
       "_dom_classes": [],
       "_model_module": "@jupyter-widgets/controls",
       "_model_module_version": "1.5.0",
       "_model_name": "HTMLModel",
       "_view_count": null,
       "_view_module": "@jupyter-widgets/controls",
       "_view_module_version": "1.5.0",
       "_view_name": "HTMLView",
       "description": "",
       "description_tooltip": null,
       "layout": "IPY_MODEL_6a687edb056b462b8922a2356f074b50",
       "placeholder": "​",
       "style": "IPY_MODEL_855b8eba6d3044a8ac4d4ba2c25fdd1c",
       "value": "100%"
      }
     },
     "eecc1a595a6b4f1c8cc3bb4638fe705f": {
      "model_module": "@jupyter-widgets/controls",
      "model_module_version": "1.5.0",
      "model_name": "HTMLModel",
      "state": {
       "_dom_classes": [],
       "_model_module": "@jupyter-widgets/controls",
       "_model_module_version": "1.5.0",
       "_model_name": "HTMLModel",
       "_view_count": null,
       "_view_module": "@jupyter-widgets/controls",
       "_view_module_version": "1.5.0",
       "_view_name": "HTMLView",
       "description": "",
       "description_tooltip": null,
       "layout": "IPY_MODEL_92418c5404ba4d80863f471bfa968d8e",
       "placeholder": "​",
       "style": "IPY_MODEL_61c499b816b04be1913125adae2f6881",
       "value": "100%"
      }
     },
     "fca6d540388f4b74864e25a93aaf6a7b": {
      "model_module": "@jupyter-widgets/controls",
      "model_module_version": "1.5.0",
      "model_name": "HTMLModel",
      "state": {
       "_dom_classes": [],
       "_model_module": "@jupyter-widgets/controls",
       "_model_module_version": "1.5.0",
       "_model_name": "HTMLModel",
       "_view_count": null,
       "_view_module": "@jupyter-widgets/controls",
       "_view_module_version": "1.5.0",
       "_view_name": "HTMLView",
       "description": "",
       "description_tooltip": null,
       "layout": "IPY_MODEL_9568783d40924a1ab288515f293228d4",
       "placeholder": "​",
       "style": "IPY_MODEL_a1abe541bf4847289b1f016ce7ddc294",
       "value": " 300/300 [00:08&lt;00:00, 36.26it/s]"
      }
     }
    },
    "version_major": 2,
    "version_minor": 0
   }
  }
 },
 "nbformat": 4,
 "nbformat_minor": 2
}
