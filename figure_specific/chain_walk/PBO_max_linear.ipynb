{
 "cells": [
  {
   "cell_type": "markdown",
   "metadata": {},
   "source": [
    "# PBO on the chain walk environment\n",
    "\n",
    "## Define parameters"
   ]
  },
  {
   "cell_type": "code",
   "execution_count": 1,
   "metadata": {
    "execution": {
     "iopub.execute_input": "2022-07-29T11:12:14.697335Z",
     "iopub.status.busy": "2022-07-29T11:12:14.696581Z",
     "iopub.status.idle": "2022-07-29T11:12:15.352648Z",
     "shell.execute_reply": "2022-07-29T11:12:15.352192Z"
    }
   },
   "outputs": [
    {
     "name": "stderr",
     "output_type": "stream",
     "text": [
      "WARNING:absl:No GPU/TPU found, falling back to CPU. (Set TF_CPP_MIN_LOG_LEVEL=0 and rerun for more info.)\n"
     ]
    }
   ],
   "source": [
    "%load_ext autoreload\n",
    "%autoreload 2\n",
    "\n",
    "import os\n",
    "import jax\n",
    "import jax.numpy as jnp\n",
    "\n",
    "\n",
    "# Sample collection\n",
    "n_states = 20\n",
    "n_actions = 2\n",
    "n_repetitions_list = jnp.array([2, 5, 20])\n",
    "n_samples_list = n_states * n_actions * n_repetitions_list\n",
    "sucess_probability = 0.9\n",
    "gamma = 0.9\n",
    "\n",
    "# Weights collection\n",
    "n_weights = 100\n",
    "\n",
    "# Trainings\n",
    "max_bellman_iterations = 5\n",
    "training_steps = 200\n",
    "fitting_steps = 4\n",
    "batch_size_samples = n_states\n",
    "batch_size_weights = n_weights\n",
    "learning_rates = [{\"first\": 0.01, \"last\": 0.00001, \"duration\": training_steps * fitting_steps * n_samples // batch_size_samples} for n_samples in n_samples_list]\n",
    "add_infinity_non_linear = False\n",
    "\n",
    "# Visualisation of errors and performances\n",
    "max_bellman_iterations_validation = max_bellman_iterations + 20\n",
    "\n",
    "# Search for an unused seed\n",
    "max_used_seed = 0\n",
    "for file in os.listdir(\"figures/data/PBO_max_linear/\"):\n",
    "    if int(file.split(\"_\")[0]) == max_bellman_iterations and int(file.split(\"_\")[2]) > max_used_seed:\n",
    "        max_used_seed = int(file.split(\"_\")[2])\n",
    "max_used_seed\n",
    "\n",
    "# keys\n",
    "seed = max_used_seed + 1\n",
    "key = jax.random.PRNGKey(seed)\n",
    "env_key, key = jax.random.split(key)\n",
    "shuffle_key, q_network_key, random_weights_key, pbo_network_key = jax.random.split(key, 4)"
   ]
  },
  {
   "cell_type": "markdown",
   "metadata": {},
   "source": [
    "## Define environment"
   ]
  },
  {
   "cell_type": "code",
   "execution_count": 2,
   "metadata": {
    "execution": {
     "iopub.execute_input": "2022-07-29T11:12:15.354663Z",
     "iopub.status.busy": "2022-07-29T11:12:15.354493Z",
     "iopub.status.idle": "2022-07-29T11:12:15.581871Z",
     "shell.execute_reply": "2022-07-29T11:12:15.581417Z"
    }
   },
   "outputs": [],
   "source": [
    "import numpy as np\n",
    "from pbo.environment.chain_walk import ChainWalkEnv\n",
    "\n",
    "\n",
    "states = np.arange(n_states)\n",
    "actions = np.arange(n_actions)\n",
    "states_boxes = np.arange(n_states + 1) - 0.5\n",
    "actions_boxes = np.arange(n_actions + 1) - 0.5\n",
    "\n",
    "env = ChainWalkEnv(env_key, n_states, sucess_probability, gamma)"
   ]
  },
  {
   "cell_type": "markdown",
   "metadata": {},
   "source": [
    "## Collect samples"
   ]
  },
  {
   "cell_type": "markdown",
   "metadata": {},
   "source": [
    "### Samples on the mesh"
   ]
  },
  {
   "cell_type": "code",
   "execution_count": 3,
   "metadata": {
    "execution": {
     "iopub.execute_input": "2022-07-29T11:12:15.583858Z",
     "iopub.status.busy": "2022-07-29T11:12:15.583725Z",
     "iopub.status.idle": "2022-07-29T11:12:18.158838Z",
     "shell.execute_reply": "2022-07-29T11:12:18.158350Z"
    }
   },
   "outputs": [],
   "source": [
    "import jax.numpy as jnp\n",
    "from pbo.sample_collection.replay_buffer import ReplayBuffer\n",
    "\n",
    "\n",
    "replay_buffers = [ReplayBuffer() for _ in range(len(n_repetitions_list))]\n",
    "\n",
    "for state in states:\n",
    "    for action in actions:\n",
    "        # Need to repeat the samples to capture the randomness\n",
    "        for n_current_repetition in range(n_repetitions_list[-1]):\n",
    "            env.reset(jnp.array([state]))\n",
    "            next_state, reward, absorbing, _ = env.step(jnp.array([action]))\n",
    "\n",
    "            for idx_replay_buffer, n_repetitions in enumerate(n_repetitions_list):\n",
    "                if n_current_repetition < n_repetitions:\n",
    "                    replay_buffers[idx_replay_buffer].add(jnp.array([state]), jnp.array([action]), reward, next_state, absorbing)\n",
    "\n",
    "_ = [replay_buffer.cast_to_jax_array() for replay_buffer in replay_buffers]"
   ]
  },
  {
   "cell_type": "markdown",
   "metadata": {},
   "source": [
    "### Visualize samples"
   ]
  },
  {
   "cell_type": "code",
   "execution_count": 4,
   "metadata": {
    "execution": {
     "iopub.execute_input": "2022-07-29T11:12:18.160751Z",
     "iopub.status.busy": "2022-07-29T11:12:18.160619Z",
     "iopub.status.idle": "2022-07-29T11:12:18.893577Z",
     "shell.execute_reply": "2022-07-29T11:12:18.893024Z"
    }
   },
   "outputs": [
    {
     "data": {
      "image/png": "[encoded data removed]",
      "text/plain": [
       "<Figure size 432x288 with 2 Axes>"
      ]
     },
     "metadata": {
      "needs_background": "light"
     },
     "output_type": "display_data"
    }
   ],
   "source": [
    "from pbo.sample_collection.count_samples import count_samples\n",
    "from pbo.utils.two_dimesions_mesh import TwoDimesionsMesh\n",
    "\n",
    "idx_replay_buffer_to_view = 0\n",
    "\n",
    "samples_count, n_outside_boxes, _ = count_samples(replay_buffers[idx_replay_buffer_to_view].states, replay_buffers[idx_replay_buffer_to_view].actions, states_boxes, actions_boxes, replay_buffers[idx_replay_buffer_to_view].rewards)\n",
    "samples_visu_mesh = TwoDimesionsMesh(states, actions, sleeping_time=0)\n",
    "\n",
    "samples_visu_mesh.set_values(samples_count, zeros_to_nan=True)\n",
    "samples_visu_mesh.show(\n",
    "    f\"Samples repartition, \\n{int(100 * n_outside_boxes / n_samples_list[idx_replay_buffer_to_view])}% are outside the box.\"\n",
    ")"
   ]
  },
  {
   "cell_type": "markdown",
   "metadata": {},
   "source": [
    "## Optimal Q function"
   ]
  },
  {
   "cell_type": "code",
   "execution_count": 5,
   "metadata": {
    "execution": {
     "iopub.execute_input": "2022-07-29T11:12:18.896603Z",
     "iopub.status.busy": "2022-07-29T11:12:18.896213Z",
     "iopub.status.idle": "2022-07-29T11:12:19.269403Z",
     "shell.execute_reply": "2022-07-29T11:12:19.268858Z"
    }
   },
   "outputs": [
    {
     "data": {
      "image/png": "[encoded data removed]",
      "text/plain": [
       "<Figure size 432x288 with 2 Axes>"
      ]
     },
     "metadata": {
      "needs_background": "light"
     },
     "output_type": "display_data"
    }
   ],
   "source": [
    "optimal_q = env.optimal_Q_mesh()\n",
    "optimal_v = optimal_q.max(axis=1)\n",
    "\n",
    "q_visu_mesh = TwoDimesionsMesh(states, actions, 0)\n",
    "\n",
    "q_visu_mesh.set_values(optimal_q)\n",
    "q_visu_mesh.show(\"Optimal q function\")"
   ]
  },
  {
   "cell_type": "markdown",
   "metadata": {},
   "source": [
    "## Optimal PBO"
   ]
  },
  {
   "cell_type": "code",
   "execution_count": 6,
   "metadata": {
    "execution": {
     "iopub.execute_input": "2022-07-29T11:12:19.272132Z",
     "iopub.status.busy": "2022-07-29T11:12:19.271856Z",
     "iopub.status.idle": "2022-07-29T11:12:35.572374Z",
     "shell.execute_reply": "2022-07-29T11:12:35.571874Z"
    }
   },
   "outputs": [
    {
     "name": "stdout",
     "output_type": "stream",
     "text": [
      "[0 0 0 0 0 0 0 0 0 0 0 0 0 0 0 0 0 0 0 0]\n",
      "[0 0 0 0 0 0 0 0 0 0 0 0 0 0 0 0 0 0 1 0]\n",
      "[0 0 0 0 0 0 0 0 0 0 0 0 0 0 0 0 0 1 1 0]\n",
      "[0 0 0 0 0 0 0 0 0 0 0 0 0 0 0 0 1 1 1 0]\n",
      "[0 0 0 0 0 0 0 0 0 0 0 0 0 0 0 1 1 1 1 0]\n",
      "[0 0 0 0 0 0 0 0 0 0 0 0 0 0 1 1 1 1 1 0]\n",
      "[0 0 0 0 0 0 0 0 0 0 0 0 0 1 1 1 1 1 1 0]\n",
      "[0 0 0 0 0 0 0 0 0 0 0 0 1 1 1 1 1 1 1 0]\n",
      "[0 0 0 0 0 0 0 0 0 0 0 1 1 1 1 1 1 1 1 0]\n",
      "[0 0 0 0 0 0 0 0 0 0 1 1 1 1 1 1 1 1 1 0]\n",
      "[0 0 0 0 0 0 0 0 0 0 1 1 1 1 1 1 1 1 1 0]\n",
      "[0 0 0 0 0 0 0 0 0 0 1 1 1 1 1 1 1 1 1 0]\n",
      "[0 0 0 0 0 0 0 0 0 0 1 1 1 1 1 1 1 1 1 0]\n",
      "[0 0 0 0 0 0 0 0 0 0 1 1 1 1 1 1 1 1 1 0]\n",
      "[0 0 0 0 0 0 0 0 0 0 1 1 1 1 1 1 1 1 1 0]\n",
      "[0 0 0 0 0 0 0 0 0 0 1 1 1 1 1 1 1 1 1 0]\n",
      "[0 0 0 0 0 0 0 0 0 0 1 1 1 1 1 1 1 1 1 0]\n",
      "[0 0 0 0 0 0 0 0 0 0 1 1 1 1 1 1 1 1 1 0]\n",
      "[0 0 0 0 0 0 0 0 0 0 1 1 1 1 1 1 1 1 1 0]\n",
      "[0 0 0 0 0 0 0 0 0 0 1 1 1 1 1 1 1 1 1 0]\n",
      "[0 0 0 0 0 0 0 0 0 0 1 1 1 1 1 1 1 1 1 0]\n",
      "[0 0 0 0 0 0 0 0 0 0 1 1 1 1 1 1 1 1 1 0]\n",
      "[0 0 0 0 0 0 0 0 0 0 1 1 1 1 1 1 1 1 1 0]\n",
      "[0 0 0 0 0 0 0 0 0 0 1 1 1 1 1 1 1 1 1 0]\n",
      "[0 0 0 0 0 0 0 0 0 0 1 1 1 1 1 1 1 1 1 0]\n"
     ]
    }
   ],
   "source": [
    "from tqdm.notebook import tqdm\n",
    "\n",
    "from pbo.sample_collection.dataloader import SampleDataLoader\n",
    "from pbo.networks.learnable_q import TableQ\n",
    "from pbo.networks.learnable_pbo import TabularPBO\n",
    "\n",
    "\n",
    "q = TableQ(\n",
    "    1,\n",
    "    n_states,\n",
    "    1,\n",
    "    n_actions,\n",
    "    gamma,\n",
    "    q_network_key,\n",
    "    None,\n",
    "    random_weights_key,\n",
    "    None,\n",
    "    zero_initializer=True,\n",
    ")\n",
    "validation_initial_weight = q.to_weights(q.params)\n",
    "\n",
    "\n",
    "pbo_optimal = TabularPBO(q, max_bellman_iterations, False, pbo_network_key, learning_rates[0], n_actions)\n",
    "pbo_optimal.params[\"TabularPBONet/linear\"][\"w\"] = gamma * env.transition_proba.T\n",
    "pbo_optimal.params[\"TabularPBONet/linear\"][\"b\"] = env.R.T\n",
    "\n",
    "training_losses_optimal = np.zeros(max_bellman_iterations_validation)\n",
    "validation_losses_optimal = np.zeros(max_bellman_iterations_validation)\n",
    "value_functions_optimal = np.zeros((max_bellman_iterations_validation, n_states))\n",
    "\n",
    "\n",
    "batch_iterated_weights = validation_initial_weight.reshape((1, -1))\n",
    "for bellman_iteration in range(max_bellman_iterations_validation):\n",
    "    q_i = q.discretize(batch_iterated_weights, states, actions)[0]\n",
    "    batch_iterated_weights = pbo_optimal(pbo_optimal.params, batch_iterated_weights)\n",
    "    q_i_plus_1 = q.discretize(batch_iterated_weights, states, actions)[0]\n",
    "    policy_q = q_i_plus_1.argmax(axis=1)\n",
    "\n",
    "    training_losses_optimal[bellman_iteration] = jnp.abs(env.apply_bellman_operator(q_i) - q_i_plus_1).mean()\n",
    "    validation_losses_optimal[bellman_iteration] = jnp.abs(optimal_q - q_i_plus_1).mean()\n",
    "    value_functions_optimal[bellman_iteration] = env.value_function(policy_q)\n",
    "    print(policy_q)"
   ]
  },
  {
   "cell_type": "markdown",
   "metadata": {},
   "source": [
    "## Collect weights"
   ]
  },
  {
   "cell_type": "code",
   "execution_count": 7,
   "metadata": {
    "execution": {
     "iopub.execute_input": "2022-07-29T11:12:35.574201Z",
     "iopub.status.busy": "2022-07-29T11:12:35.574057Z",
     "iopub.status.idle": "2022-07-29T11:12:36.074750Z",
     "shell.execute_reply": "2022-07-29T11:12:36.074221Z"
    }
   },
   "outputs": [],
   "source": [
    "from pbo.weights_collection.weights_buffer import WeightsBuffer\n",
    "\n",
    "\n",
    "weights_buffer = WeightsBuffer()\n",
    "\n",
    "# Add initial validation weights\n",
    "weights_buffer.add(validation_initial_weight)\n",
    "\n",
    "# Add randow weights\n",
    "q_random = TableQ(\n",
    "    1,\n",
    "    n_states,\n",
    "    1,\n",
    "    n_actions,\n",
    "    gamma,\n",
    "    q_network_key,\n",
    "    None,\n",
    "    random_weights_key,\n",
    "    learning_rate=None,\n",
    "    zero_initializer=False,\n",
    ")\n",
    "\n",
    "while len(weights_buffer) < n_weights:\n",
    "    weights = q_random.random_init_weights()\n",
    "    weights_buffer.add(weights)\n",
    "\n",
    "weights_buffer.cast_to_jax_array()"
   ]
  },
  {
   "cell_type": "markdown",
   "metadata": {},
   "source": [
    "## Train non linear PBO"
   ]
  },
  {
   "cell_type": "code",
   "execution_count": 8,
   "metadata": {
    "execution": {
     "iopub.execute_input": "2022-07-29T11:12:36.076733Z",
     "iopub.status.busy": "2022-07-29T11:12:36.076597Z",
     "iopub.status.idle": "2022-07-29T11:13:14.255504Z",
     "shell.execute_reply": "2022-07-29T11:13:14.255011Z"
    }
   },
   "outputs": [
    {
     "data": {
      "application/vnd.jupyter.widget-view+json": {
       "model_id": "7ccf2dd618824cb4974ff4ad3aabc577",
       "version_major": 2,
       "version_minor": 0
      },
      "text/plain": [
       "  0%|          | 0/200 [00:00<?, ?it/s]"
      ]
     },
     "metadata": {},
     "output_type": "display_data"
    },
    {
     "name": "stdout",
     "output_type": "stream",
     "text": [
      "Samples with  2  repetions.\n",
      "[1 0 0 0 0 0 0 0 1 0 1 1 0 1 0 1 1 1 0 0]\n",
      "[1 0 0 1 0 1 1 0 0 1 1 0 0 0 1 1 1 1 1 0]\n",
      "[1 0 0 0 0 1 1 0 0 0 1 0 0 0 1 1 1 1 1 0]\n",
      "[1 0 0 0 0 1 1 0 0 0 1 0 0 0 1 1 1 1 1 0]\n",
      "[1 0 0 0 0 0 1 0 0 1 1 0 0 0 1 1 1 1 1 0]\n",
      "[1 0 0 0 0 0 1 0 0 1 1 0 0 0 1 1 1 1 1 0]\n",
      "[1 0 0 0 0 0 0 0 0 1 1 0 0 1 1 1 1 1 1 0]\n",
      "[1 0 0 0 0 0 0 0 0 1 1 0 1 1 1 1 1 1 1 0]\n",
      "[1 0 0 0 0 0 0 0 0 1 1 1 1 1 1 1 1 1 1 0]\n",
      "[1 0 0 0 0 0 0 0 0 0 1 1 1 1 1 1 1 1 1 1]\n",
      "[1 0 0 0 0 0 0 0 0 0 1 1 1 1 1 1 1 1 1 1]\n",
      "[0 0 0 0 0 0 0 0 0 0 1 1 1 1 1 1 1 1 1 1]\n",
      "[0 0 0 0 0 0 0 0 0 0 1 1 1 1 1 1 1 1 1 1]\n",
      "[0 0 0 0 0 0 0 0 0 0 1 1 1 1 1 1 1 1 1 1]\n",
      "[0 0 0 0 0 0 0 0 0 0 1 1 1 1 1 1 1 1 1 1]\n",
      "[0 0 0 0 0 0 0 0 0 0 1 1 1 1 1 1 1 1 1 1]\n",
      "[0 0 0 0 0 0 0 0 0 0 1 1 1 1 1 1 1 1 1 1]\n",
      "[0 0 0 0 0 0 0 0 0 0 1 1 1 1 1 1 1 1 1 1]\n",
      "[0 0 0 0 0 0 0 0 0 0 1 1 1 1 1 1 1 1 1 1]\n",
      "[0 0 0 0 0 0 0 0 0 0 1 1 1 1 1 1 1 1 1 1]\n",
      "[0 0 0 0 0 0 0 0 0 0 1 1 1 1 1 1 1 1 1 1]\n",
      "[0 0 0 0 0 0 0 0 0 0 1 1 1 1 1 1 1 1 1 1]\n",
      "[0 0 0 0 0 0 0 0 0 0 1 1 1 1 1 1 1 1 1 1]\n",
      "[0 0 0 0 0 0 0 0 0 0 1 1 1 1 1 1 1 1 1 1]\n",
      "[0 0 0 0 0 0 0 0 0 0 1 1 1 1 1 1 1 1 1 1]\n"
     ]
    },
    {
     "data": {
      "application/vnd.jupyter.widget-view+json": {
       "model_id": "7c2c99242c6a48ea808186137234de28",
       "version_major": 2,
       "version_minor": 0
      },
      "text/plain": [
       "  0%|          | 0/200 [00:00<?, ?it/s]"
      ]
     },
     "metadata": {},
     "output_type": "display_data"
    },
    {
     "name": "stdout",
     "output_type": "stream",
     "text": [
      "Samples with  5  repetions.\n",
      "[1 1 0 0 1 0 0 1 1 1 1 1 1 0 1 1 1 1 0 0]\n",
      "[1 0 1 1 1 0 0 1 1 1 1 0 1 0 1 1 1 1 1 0]\n",
      "[1 0 0 1 1 0 0 1 1 1 1 0 0 1 1 1 1 1 1 0]\n",
      "[1 0 0 0 1 0 0 1 1 1 1 0 0 1 1 1 1 1 1 0]\n",
      "[1 0 0 0 0 0 0 0 1 1 1 0 1 1 1 1 1 1 1 0]\n",
      "[1 0 0 0 0 0 0 0 1 1 1 0 1 1 1 1 1 1 1 0]\n",
      "[1 0 0 0 0 0 0 0 1 1 1 1 1 1 1 1 1 1 1 0]\n",
      "[0 0 0 0 0 0 0 0 0 1 1 1 1 1 1 1 1 1 1 0]\n",
      "[0 0 0 0 0 0 0 0 0 1 1 1 1 1 1 1 1 1 1 1]\n",
      "[0 0 0 0 0 0 0 0 0 0 1 1 1 1 1 1 1 1 1 1]\n",
      "[0 0 0 0 0 0 0 0 0 0 1 1 1 1 1 1 1 1 1 1]\n",
      "[0 0 0 0 0 0 0 0 0 0 1 1 1 1 1 1 1 1 1 1]\n",
      "[0 0 0 0 0 0 0 0 0 0 1 1 1 1 1 1 1 1 1 1]\n",
      "[0 0 0 0 0 0 0 0 0 0 1 1 1 1 1 1 1 1 1 1]\n",
      "[0 0 0 0 0 0 0 0 0 0 1 1 1 1 1 1 1 1 1 1]\n",
      "[0 0 0 0 0 0 0 0 0 0 1 1 1 1 1 1 1 1 1 1]\n",
      "[0 0 0 0 0 0 0 0 0 0 1 1 1 1 1 1 1 1 1 1]\n",
      "[0 0 0 0 0 0 0 0 0 0 1 1 1 1 1 1 1 1 1 1]\n",
      "[0 0 0 0 0 0 0 0 0 0 1 1 1 1 1 1 1 1 1 1]\n",
      "[0 0 0 0 0 0 0 0 0 0 1 1 1 1 1 1 1 1 1 1]\n",
      "[0 0 0 0 0 0 0 0 0 0 1 1 1 1 1 1 1 1 1 1]\n",
      "[0 0 0 0 0 0 0 0 0 0 1 1 1 1 1 1 1 1 1 1]\n",
      "[0 0 0 0 0 0 0 0 0 0 1 1 1 1 1 1 1 1 1 1]\n",
      "[0 0 0 0 0 0 0 0 0 0 1 1 1 1 1 1 1 1 1 1]\n",
      "[0 0 0 0 0 0 0 0 0 0 1 1 1 1 1 1 1 1 1 1]\n"
     ]
    },
    {
     "data": {
      "application/vnd.jupyter.widget-view+json": {
       "model_id": "e1aa0e91e57a4fb5b0ee84e31045301b",
       "version_major": 2,
       "version_minor": 0
      },
      "text/plain": [
       "  0%|          | 0/200 [00:00<?, ?it/s]"
      ]
     },
     "metadata": {},
     "output_type": "display_data"
    },
    {
     "name": "stdout",
     "output_type": "stream",
     "text": [
      "Samples with  20  repetions.\n",
      "[0 0 1 0 1 0 1 1 0 1 0 0 0 1 0 1 1 1 0 1]\n",
      "[0 0 1 1 1 0 0 1 1 1 0 0 0 0 0 1 1 1 1 1]\n",
      "[1 0 0 0 1 0 1 1 1 1 0 0 0 0 0 1 1 1 1 1]\n",
      "[0 0 0 0 1 1 1 1 1 1 0 0 0 1 1 1 1 1 1 1]\n",
      "[1 0 0 0 0 1 1 0 0 1 0 0 0 1 1 1 1 1 1 1]\n",
      "[1 0 0 0 0 0 0 0 0 1 0 0 1 1 1 1 1 1 1 1]\n",
      "[1 0 0 0 0 0 0 0 0 1 0 1 1 1 1 1 1 1 1 1]\n",
      "[1 0 0 0 0 0 0 0 0 1 0 1 1 1 1 1 1 1 1 1]\n",
      "[0 0 0 0 0 0 0 0 0 0 1 1 1 1 1 1 1 1 1 0]\n",
      "[0 0 0 0 0 0 0 0 0 0 1 1 1 1 1 1 1 1 1 0]\n",
      "[0 0 0 0 0 0 0 0 0 0 1 1 1 1 1 1 1 1 1 0]\n",
      "[1 0 0 0 0 0 0 0 0 0 1 1 1 1 1 1 1 1 1 0]\n",
      "[1 0 0 0 0 0 0 0 0 0 1 1 1 1 1 1 1 1 1 0]\n",
      "[1 0 0 0 0 0 0 0 0 0 1 1 1 1 1 1 1 1 1 0]\n",
      "[1 0 0 0 0 0 0 0 0 0 1 1 1 1 1 1 1 1 1 0]\n",
      "[1 0 0 0 0 0 0 0 0 0 1 1 1 1 1 1 1 1 1 0]\n",
      "[1 0 0 0 0 0 0 0 0 0 1 1 1 1 1 1 1 1 1 0]\n",
      "[1 0 0 0 0 0 0 0 0 0 1 1 1 1 1 1 1 1 1 0]\n",
      "[1 0 0 0 0 0 0 0 0 0 1 1 1 1 1 1 1 1 1 0]\n",
      "[1 0 0 0 0 0 0 0 0 0 1 1 1 1 1 1 1 1 1 0]\n",
      "[1 0 0 0 0 0 0 0 0 0 1 1 1 1 1 1 1 1 1 0]\n",
      "[1 0 0 0 0 0 0 0 0 0 1 1 1 1 1 1 1 1 1 0]\n",
      "[1 0 0 0 0 0 0 0 0 0 1 1 1 1 1 1 1 1 1 0]\n",
      "[1 0 0 0 0 0 0 0 0 0 1 1 1 1 1 1 1 1 1 0]\n",
      "[1 0 0 0 0 0 0 0 0 0 1 1 1 1 1 1 1 1 1 0]\n"
     ]
    }
   ],
   "source": [
    "from tqdm.notebook import tqdm\n",
    "\n",
    "from pbo.sample_collection.dataloader import SampleDataLoader\n",
    "from pbo.weights_collection.dataloader import WeightsDataLoader\n",
    "from pbo.networks.learnable_pbo import TabularPBO\n",
    "\n",
    "\n",
    "training_losses_non_linear = np.zeros((len(n_repetitions_list), max_bellman_iterations_validation))\n",
    "validation_losses_non_linear = np.zeros((len(n_repetitions_list), max_bellman_iterations_validation))\n",
    "value_functions_non_linear = np.zeros((len(n_repetitions_list), max_bellman_iterations_validation, n_states))\n",
    "pbos_params = []\n",
    "\n",
    "for idx_repetition in range(len(n_repetitions_list)):\n",
    "    data_loader_samples = SampleDataLoader(replay_buffers[idx_repetition], batch_size_samples, shuffle_key)\n",
    "    data_loader_weights = WeightsDataLoader(weights_buffer, batch_size_weights, shuffle_key)\n",
    "    pbo_non_linear = TabularPBO(q_random, max_bellman_iterations, add_infinity_non_linear, pbo_network_key, learning_rates[idx_repetition], n_actions)\n",
    "    importance_iteration = jnp.ones(max_bellman_iterations + 1)\n",
    "    importance_iteration = importance_iteration.at[-1].set(0)\n",
    "\n",
    "    for _ in tqdm(range(training_steps)):\n",
    "        params_target = pbo_non_linear.params\n",
    "\n",
    "        for _ in range(fitting_steps):\n",
    "            data_loader_weights.shuffle()\n",
    "            for batch_weights in data_loader_weights:\n",
    "                data_loader_samples.shuffle()\n",
    "                for batch_samples in data_loader_samples:\n",
    "                    pbo_non_linear.params, pbo_non_linear.optimizer_state, _ = pbo_non_linear.learn_on_batch(\n",
    "                        pbo_non_linear.params, params_target, pbo_non_linear.optimizer_state, batch_weights, batch_samples, importance_iteration\n",
    "                    )\n",
    "\n",
    "    pbos_params.append(pbo_non_linear.params)\n",
    "    print(\"Samples with \", n_repetitions_list[idx_repetition], \" repetions.\")\n",
    "    \n",
    "    batch_iterated_weights = validation_initial_weight.reshape((1, -1))\n",
    "    for bellman_iteration in range(max_bellman_iterations_validation):\n",
    "        q_i = q.discretize(batch_iterated_weights, states, actions)[0]\n",
    "        batch_iterated_weights = pbo_non_linear(pbo_non_linear.params, batch_iterated_weights)\n",
    "        q_i_plus_1 = q.discretize(batch_iterated_weights, states, actions)[0]\n",
    "        policy_q = q_i_plus_1.argmax(axis=1)\n",
    "\n",
    "        training_losses_non_linear[idx_repetition, bellman_iteration] = jnp.abs(env.apply_bellman_operator(q_i) - q_i_plus_1).mean()\n",
    "        validation_losses_non_linear[idx_repetition, bellman_iteration] = jnp.abs(optimal_q - q_i_plus_1).mean()\n",
    "        value_functions_non_linear[idx_repetition, bellman_iteration] = env.value_function(policy_q)\n",
    "        print(policy_q)"
   ]
  },
  {
   "cell_type": "markdown",
   "metadata": {},
   "source": [
    "## Save data"
   ]
  },
  {
   "cell_type": "code",
   "execution_count": 9,
   "metadata": {
    "execution": {
     "iopub.execute_input": "2022-07-29T11:13:14.257309Z",
     "iopub.status.busy": "2022-07-29T11:13:14.257175Z",
     "iopub.status.idle": "2022-07-29T11:13:14.282614Z",
     "shell.execute_reply": "2022-07-29T11:13:14.282245Z"
    }
   },
   "outputs": [],
   "source": [
    "str_repetitions = \"\"\n",
    "\n",
    "for n_repetitions in n_repetitions_list:\n",
    "    str_repetitions += \"_\" + str(n_repetitions)\n",
    "\n",
    "for idx_repetition, n_repetitions in enumerate(n_repetitions_list):\n",
    "    np.save(f\"figures/data/PBO_max_linear/{max_bellman_iterations}_Q_{seed}_max_linear_{n_repetitions}{str_repetitions}.npy\", validation_losses_non_linear[idx_repetition])\n",
    "np.save(f\"figures/data/PBO_max_linear/{max_bellman_iterations}_Q_{seed}_optimal{str_repetitions}.npy\", validation_losses_optimal)\n",
    "\n",
    "for idx_repetition, n_repetitions in enumerate(n_repetitions_list):\n",
    "    np.save(f\"figures/data/PBO_max_linear/{max_bellman_iterations}_BE_{seed}_max_linear_{n_repetitions}{str_repetitions}.npy\", training_losses_non_linear[idx_repetition])\n",
    "np.save(f\"figures/data/PBO_max_linear/{max_bellman_iterations}_BE_{seed}_optimal{str_repetitions}.npy\", training_losses_optimal)\n",
    "\n",
    "for idx_repetition, n_repetitions in enumerate(n_repetitions_list):\n",
    "    np.save(f\"figures/data/PBO_max_linear/{max_bellman_iterations}_V_{seed}_max_linear_{n_repetitions}{str_repetitions}.npy\", np.abs(value_functions_non_linear[idx_repetition] - optimal_v).mean(axis=1))\n",
    "np.save(f\"figures/data/PBO_max_linear/{max_bellman_iterations}_V_{seed}_optimal{str_repetitions}.npy\", np.abs(value_functions_optimal - optimal_v).mean(axis=1))"
   ]
  },
  {
   "cell_type": "markdown",
   "metadata": {},
   "source": [
    "## Visualize errors in Q functions"
   ]
  },
  {
   "cell_type": "code",
   "execution_count": 10,
   "metadata": {
    "execution": {
     "iopub.execute_input": "2022-07-29T11:13:14.284584Z",
     "iopub.status.busy": "2022-07-29T11:13:14.284420Z",
     "iopub.status.idle": "2022-07-29T11:13:14.529871Z",
     "shell.execute_reply": "2022-07-29T11:13:14.529360Z"
    }
   },
   "outputs": [
    {
     "data": {
      "image/png": "[encoded data removed]",
      "text/plain": [
       "<Figure size 432x288 with 1 Axes>"
      ]
     },
     "metadata": {
      "needs_background": "light"
     },
     "output_type": "display_data"
    }
   ],
   "source": [
    "import matplotlib.pyplot as plt \n",
    "\n",
    "iterations = range(1, max_bellman_iterations_validation + 1)\n",
    "\n",
    "for idx_repetition in range(len(n_repetitions_list)):\n",
    "    plt.plot(iterations, validation_losses_non_linear[idx_repetition], label=f\"pbo max-linear with {n_repetitions_list[idx_repetition]} repetitions\", linestyle=\"--\")\n",
    "plt.plot(iterations, validation_losses_optimal, label=\"pbo optimal\", color=\"black\")\n",
    "plt.vlines(max_bellman_iterations, 0, np.max(validation_losses_non_linear), color=\"black\", linestyle=\"--\")\n",
    "\n",
    "plt.xticks(iterations)\n",
    "plt.xlabel(\"iterations\")\n",
    "\n",
    "plt.title(r\"$|| Q^* - Q_i ||_1$\")\n",
    "_ = plt.legend()"
   ]
  },
  {
   "cell_type": "code",
   "execution_count": 11,
   "metadata": {
    "execution": {
     "iopub.execute_input": "2022-07-29T11:13:14.531634Z",
     "iopub.status.busy": "2022-07-29T11:13:14.531501Z",
     "iopub.status.idle": "2022-07-29T11:13:14.704050Z",
     "shell.execute_reply": "2022-07-29T11:13:14.703597Z"
    }
   },
   "outputs": [
    {
     "data": {
      "image/png": "[encoded data removed]",
      "text/plain": [
       "<Figure size 432x288 with 1 Axes>"
      ]
     },
     "metadata": {
      "needs_background": "light"
     },
     "output_type": "display_data"
    }
   ],
   "source": [
    "for idx_repetition in range(len(n_repetitions_list)):\n",
    "    plt.plot(iterations, training_losses_non_linear[idx_repetition], label=f\"pbo max-linear with {n_repetitions_list[idx_repetition]} repetitions\")\n",
    "plt.plot(iterations, training_losses_optimal, label=\"pbo optimal\", color=\"black\")\n",
    "plt.vlines(max_bellman_iterations, 0, np.max(training_losses_non_linear), color=\"black\", linestyle=\"--\")\n",
    "\n",
    "plt.xticks(iterations)\n",
    "plt.xlabel(\"iterations\")\n",
    "\n",
    "plt.title(r\"$|| \\Gamma^*Q_{i-1} - Q_i ||_1$\")\n",
    "_ = plt.legend()"
   ]
  },
  {
   "cell_type": "markdown",
   "metadata": {},
   "source": [
    "## Distance between empirical and theoretical probabilities"
   ]
  },
  {
   "cell_type": "code",
   "execution_count": 12,
   "metadata": {
    "execution": {
     "iopub.execute_input": "2022-07-29T11:13:14.705862Z",
     "iopub.status.busy": "2022-07-29T11:13:14.705721Z",
     "iopub.status.idle": "2022-07-29T11:13:18.644812Z",
     "shell.execute_reply": "2022-07-29T11:13:18.644322Z"
    }
   },
   "outputs": [
    {
     "name": "stdout",
     "output_type": "stream",
     "text": [
      "-- For 2 repetitions --\n",
      "Probability transition:\n",
      "Empirical vs Theoretical -  2.1023796\n",
      "Empirical vs Learnt -  0.35080364\n",
      "Theoretical vs Learnt -  2.1305454\n",
      "\n",
      "Reward:\n",
      "Empirical vs Theoretical -  0.0\n",
      "Empirical vs Learnt -  0.37907845\n",
      "Theoretical vs Learnt -  0.37907845\n",
      "\n",
      "-- For 5 repetitions --\n",
      "Probability transition:\n",
      "Empirical vs Theoretical -  1.3564659\n",
      "Empirical vs Learnt -  0.10452248\n",
      "Theoretical vs Learnt -  1.3584504\n",
      "\n",
      "Reward:\n",
      "Empirical vs Theoretical -  0.0\n",
      "Empirical vs Learnt -  0.06449495\n",
      "Theoretical vs Learnt -  0.06449495\n",
      "\n",
      "-- For 20 repetitions --\n",
      "Probability transition:\n",
      "Empirical vs Theoretical -  0.4636809\n",
      "Empirical vs Learnt -  0.051654857\n",
      "Theoretical vs Learnt -  0.4640785\n",
      "\n",
      "Reward:\n",
      "Empirical vs Theoretical -  0.0\n",
      "Empirical vs Learnt -  0.013287735\n",
      "Theoretical vs Learnt -  0.013287735\n",
      "\n"
     ]
    }
   ],
   "source": [
    "for idx_repetition in range(len(n_repetitions_list)):\n",
    "    empirical_transition_proba = np.zeros((n_states, n_states * n_actions))\n",
    "    empirical_reward = np.zeros(n_states * n_actions)\n",
    "\n",
    "    for idx_sample in range(len(replay_buffers[idx_repetition].states)):\n",
    "        state = replay_buffers[idx_repetition].states[idx_sample, 0]\n",
    "        action = replay_buffers[idx_repetition].actions[idx_sample, 0]\n",
    "        reward = replay_buffers[idx_repetition].rewards[idx_sample, 0]\n",
    "        next_state = replay_buffers[idx_repetition].next_states[idx_sample, 0]\n",
    "\n",
    "        empirical_transition_proba[next_state, state * n_actions + action] += 1 \n",
    "        empirical_reward[state * n_actions + action] += reward\n",
    "\n",
    "    empirical_transition_proba /= n_repetitions_list[idx_repetition]\n",
    "    empirical_reward /= n_repetitions_list[idx_repetition]\n",
    "\n",
    "    print(f\"-- For {n_repetitions_list[idx_repetition]} repetitions --\")\n",
    "    print(f\"Probability transition:\")\n",
    "    print(\"Empirical vs Theoretical - \", np.linalg.norm(empirical_transition_proba - env.transition_proba.T))\n",
    "    print(\"Empirical vs Learnt - \", np.linalg.norm(empirical_transition_proba - pbos_params[idx_repetition][\"TabularPBONet/linear\"][\"w\"] / gamma))\n",
    "    print(\"Theoretical vs Learnt - \", np.linalg.norm(env.transition_proba.T - pbos_params[idx_repetition][\"TabularPBONet/linear\"][\"w\"] / gamma))\n",
    "    print(\"\\nReward:\")\n",
    "    print(\"Empirical vs Theoretical - \", np.linalg.norm(empirical_reward - env.R.T))\n",
    "    print(\"Empirical vs Learnt - \", np.linalg.norm(empirical_reward - pbos_params[idx_repetition][\"TabularPBONet/linear\"][\"b\"]))\n",
    "    print(\"Theoretical vs Learnt - \", np.linalg.norm(env.R.T - pbos_params[idx_repetition][\"TabularPBONet/linear\"][\"b\"]))\n",
    "    print()\n"
   ]
  },
  {
   "cell_type": "markdown",
   "metadata": {},
   "source": [
    "## Visualize errors in preformances"
   ]
  },
  {
   "cell_type": "code",
   "execution_count": 13,
   "metadata": {
    "execution": {
     "iopub.execute_input": "2022-07-29T11:13:18.646615Z",
     "iopub.status.busy": "2022-07-29T11:13:18.646443Z",
     "iopub.status.idle": "2022-07-29T11:13:18.775910Z",
     "shell.execute_reply": "2022-07-29T11:13:18.775382Z"
    }
   },
   "outputs": [
    {
     "data": {
      "image/png": "[encoded data removed]",
      "text/plain": [
       "<Figure size 432x288 with 1 Axes>"
      ]
     },
     "metadata": {
      "needs_background": "light"
     },
     "output_type": "display_data"
    }
   ],
   "source": [
    "for idx_repetition in range(len(n_repetitions_list)):\n",
    "    plt.plot(iterations, np.abs(value_functions_non_linear[idx_repetition] - optimal_v).mean(axis=1), label=f\"pbo max-linear with {n_repetitions_list[idx_repetition]} repetitions\", linestyle=\"--\")\n",
    "plt.plot(iterations, np.abs(value_functions_optimal - optimal_v).mean(axis=1), label=\"pbo optimal\", color=\"black\")\n",
    "plt.vlines(max_bellman_iterations, 0, np.abs(value_functions_non_linear[0] - optimal_v).mean(axis=1).max(), color=\"black\", linestyle=\"--\")\n",
    "\n",
    "plt.xticks(iterations)\n",
    "plt.ylim(0)\n",
    "plt.xlabel(\"iterations\")\n",
    "\n",
    "plt.title(r\"$E[| V^*(s) - V^{\\pi}(s) |]$\")\n",
    "_ = plt.legend()"
   ]
  }
 ],
 "metadata": {
  "interpreter": {
   "hash": "1432d270abb514d077d760a4c8d2edd41cc0752b595b0513fca29951003961c1"
  },
  "kernelspec": {
   "display_name": "Python 3.8.10 ('env': venv)",
   "language": "python",
   "name": "python3"
  },
  "language_info": {
   "codemirror_mode": {
    "name": "ipython",
    "version": 3
   },
   "file_extension": ".py",
   "mimetype": "text/x-python",
   "name": "python",
   "nbconvert_exporter": "python",
   "pygments_lexer": "ipython3",
   "version": "3.8.10"
  },
  "widgets": {
   "application/vnd.jupyter.widget-state+json": {
    "state": {
     "04f3845e06c24aa681502c91f1d6d332": {
      "model_module": "@jupyter-widgets/base",
      "model_module_version": "1.2.0",
      "model_name": "LayoutModel",
      "state": {
       "_model_module": "@jupyter-widgets/base",
       "_model_module_version": "1.2.0",
       "_model_name": "LayoutModel",
       "_view_count": null,
       "_view_module": "@jupyter-widgets/base",
       "_view_module_version": "1.2.0",
       "_view_name": "LayoutView",
       "align_content": null,
       "align_items": null,
       "align_self": null,
       "border": null,
       "bottom": null,
       "display": null,
       "flex": null,
       "flex_flow": null,
       "grid_area": null,
       "grid_auto_columns": null,
       "grid_auto_flow": null,
       "grid_auto_rows": null,
       "grid_column": null,
       "grid_gap": null,
       "grid_row": null,
       "grid_template_areas": null,
       "grid_template_columns": null,
       "grid_template_rows": null,
       "height": null,
       "justify_content": null,
       "justify_items": null,
       "left": null,
       "margin": null,
       "max_height": null,
       "max_width": null,
       "min_height": null,
       "min_width": null,
       "object_fit": null,
       "object_position": null,
       "order": null,
       "overflow": null,
       "overflow_x": null,
       "overflow_y": null,
       "padding": null,
       "right": null,
       "top": null,
       "visibility": null,
       "width": null
      }
     },
     "093c807e15ee4be8b32103bedbbc353c": {
      "model_module": "@jupyter-widgets/controls",
      "model_module_version": "1.5.0",
      "model_name": "ProgressStyleModel",
      "state": {
       "_model_module": "@jupyter-widgets/controls",
       "_model_module_version": "1.5.0",
       "_model_name": "ProgressStyleModel",
       "_view_count": null,
       "_view_module": "@jupyter-widgets/base",
       "_view_module_version": "1.2.0",
       "_view_name": "StyleView",
       "bar_color": null,
       "description_width": ""
      }
     },
     "0d3fdd2d10df4d0a8414e2a0c1ca8130": {
      "model_module": "@jupyter-widgets/controls",
      "model_module_version": "1.5.0",
      "model_name": "FloatProgressModel",
      "state": {
       "_dom_classes": [],
       "_model_module": "@jupyter-widgets/controls",
       "_model_module_version": "1.5.0",
       "_model_name": "FloatProgressModel",
       "_view_count": null,
       "_view_module": "@jupyter-widgets/controls",
       "_view_module_version": "1.5.0",
       "_view_name": "ProgressView",
       "bar_style": "success",
       "description": "",
       "description_tooltip": null,
       "layout": "IPY_MODEL_81730708ccdd4b1cb3deaf9d9302eff1",
       "max": 200.0,
       "min": 0.0,
       "orientation": "horizontal",
       "style": "IPY_MODEL_093c807e15ee4be8b32103bedbbc353c",
       "value": 200.0
      }
     },
     "13ad86d66cba44c9b91ef6ebe39f2e02": {
      "model_module": "@jupyter-widgets/controls",
      "model_module_version": "1.5.0",
      "model_name": "DescriptionStyleModel",
      "state": {
       "_model_module": "@jupyter-widgets/controls",
       "_model_module_version": "1.5.0",
       "_model_name": "DescriptionStyleModel",
       "_view_count": null,
       "_view_module": "@jupyter-widgets/base",
       "_view_module_version": "1.2.0",
       "_view_name": "StyleView",
       "description_width": ""
      }
     },
     "1ae822cc0c274ef08104e560162b375f": {
      "model_module": "@jupyter-widgets/controls",
      "model_module_version": "1.5.0",
      "model_name": "HTMLModel",
      "state": {
       "_dom_classes": [],
       "_model_module": "@jupyter-widgets/controls",
       "_model_module_version": "1.5.0",
       "_model_name": "HTMLModel",
       "_view_count": null,
       "_view_module": "@jupyter-widgets/controls",
       "_view_module_version": "1.5.0",
       "_view_name": "HTMLView",
       "description": "",
       "description_tooltip": null,
       "layout": "IPY_MODEL_5c00a40062bd4599abf74cc563306b0e",
       "placeholder": "​",
       "style": "IPY_MODEL_e6022bca646947a9b40b107de01d56b8",
       "value": "100%"
      }
     },
     "1c9ba2cda9cb45ce83c07355f4da07cc": {
      "model_module": "@jupyter-widgets/base",
      "model_module_version": "1.2.0",
      "model_name": "LayoutModel",
      "state": {
       "_model_module": "@jupyter-widgets/base",
       "_model_module_version": "1.2.0",
       "_model_name": "LayoutModel",
       "_view_count": null,
       "_view_module": "@jupyter-widgets/base",
       "_view_module_version": "1.2.0",
       "_view_name": "LayoutView",
       "align_content": null,
       "align_items": null,
       "align_self": null,
       "border": null,
       "bottom": null,
       "display": null,
       "flex": null,
       "flex_flow": null,
       "grid_area": null,
       "grid_auto_columns": null,
       "grid_auto_flow": null,
       "grid_auto_rows": null,
       "grid_column": null,
       "grid_gap": null,
       "grid_row": null,
       "grid_template_areas": null,
       "grid_template_columns": null,
       "grid_template_rows": null,
       "height": null,
       "justify_content": null,
       "justify_items": null,
       "left": null,
       "margin": null,
       "max_height": null,
       "max_width": null,
       "min_height": null,
       "min_width": null,
       "object_fit": null,
       "object_position": null,
       "order": null,
       "overflow": null,
       "overflow_x": null,
       "overflow_y": null,
       "padding": null,
       "right": null,
       "top": null,
       "visibility": null,
       "width": null
      }
     },
     "1d37f0171860441680345a5a3cd5b5dd": {
      "model_module": "@jupyter-widgets/controls",
      "model_module_version": "1.5.0",
      "model_name": "FloatProgressModel",
      "state": {
       "_dom_classes": [],
       "_model_module": "@jupyter-widgets/controls",
       "_model_module_version": "1.5.0",
       "_model_name": "FloatProgressModel",
       "_view_count": null,
       "_view_module": "@jupyter-widgets/controls",
       "_view_module_version": "1.5.0",
       "_view_name": "ProgressView",
       "bar_style": "success",
       "description": "",
       "description_tooltip": null,
       "layout": "IPY_MODEL_eac96959d14346249d5dc14d37863b10",
       "max": 200.0,
       "min": 0.0,
       "orientation": "horizontal",
       "style": "IPY_MODEL_ef87108c3b2e4320938c489608f2dfdf",
       "value": 200.0
      }
     },
     "1d6b896a78574b7787b2040fc1e2f745": {
      "model_module": "@jupyter-widgets/base",
      "model_module_version": "1.2.0",
      "model_name": "LayoutModel",
      "state": {
       "_model_module": "@jupyter-widgets/base",
       "_model_module_version": "1.2.0",
       "_model_name": "LayoutModel",
       "_view_count": null,
       "_view_module": "@jupyter-widgets/base",
       "_view_module_version": "1.2.0",
       "_view_name": "LayoutView",
       "align_content": null,
       "align_items": null,
       "align_self": null,
       "border": null,
       "bottom": null,
       "display": null,
       "flex": null,
       "flex_flow": null,
       "grid_area": null,
       "grid_auto_columns": null,
       "grid_auto_flow": null,
       "grid_auto_rows": null,
       "grid_column": null,
       "grid_gap": null,
       "grid_row": null,
       "grid_template_areas": null,
       "grid_template_columns": null,
       "grid_template_rows": null,
       "height": null,
       "justify_content": null,
       "justify_items": null,
       "left": null,
       "margin": null,
       "max_height": null,
       "max_width": null,
       "min_height": null,
       "min_width": null,
       "object_fit": null,
       "object_position": null,
       "order": null,
       "overflow": null,
       "overflow_x": null,
       "overflow_y": null,
       "padding": null,
       "right": null,
       "top": null,
       "visibility": null,
       "width": null
      }
     },
     "1f4cb503fbd44dea8fdf28bb74ba9449": {
      "model_module": "@jupyter-widgets/base",
      "model_module_version": "1.2.0",
      "model_name": "LayoutModel",
      "state": {
       "_model_module": "@jupyter-widgets/base",
       "_model_module_version": "1.2.0",
       "_model_name": "LayoutModel",
       "_view_count": null,
       "_view_module": "@jupyter-widgets/base",
       "_view_module_version": "1.2.0",
       "_view_name": "LayoutView",
       "align_content": null,
       "align_items": null,
       "align_self": null,
       "border": null,
       "bottom": null,
       "display": null,
       "flex": null,
       "flex_flow": null,
       "grid_area": null,
       "grid_auto_columns": null,
       "grid_auto_flow": null,
       "grid_auto_rows": null,
       "grid_column": null,
       "grid_gap": null,
       "grid_row": null,
       "grid_template_areas": null,
       "grid_template_columns": null,
       "grid_template_rows": null,
       "height": null,
       "justify_content": null,
       "justify_items": null,
       "left": null,
       "margin": null,
       "max_height": null,
       "max_width": null,
       "min_height": null,
       "min_width": null,
       "object_fit": null,
       "object_position": null,
       "order": null,
       "overflow": null,
       "overflow_x": null,
       "overflow_y": null,
       "padding": null,
       "right": null,
       "top": null,
       "visibility": null,
       "width": null
      }
     },
     "40c0a7aa4e0e48c687cf1373faf9ce6a": {
      "model_module": "@jupyter-widgets/base",
      "model_module_version": "1.2.0",
      "model_name": "LayoutModel",
      "state": {
       "_model_module": "@jupyter-widgets/base",
       "_model_module_version": "1.2.0",
       "_model_name": "LayoutModel",
       "_view_count": null,
       "_view_module": "@jupyter-widgets/base",
       "_view_module_version": "1.2.0",
       "_view_name": "LayoutView",
       "align_content": null,
       "align_items": null,
       "align_self": null,
       "border": null,
       "bottom": null,
       "display": null,
       "flex": null,
       "flex_flow": null,
       "grid_area": null,
       "grid_auto_columns": null,
       "grid_auto_flow": null,
       "grid_auto_rows": null,
       "grid_column": null,
       "grid_gap": null,
       "grid_row": null,
       "grid_template_areas": null,
       "grid_template_columns": null,
       "grid_template_rows": null,
       "height": null,
       "justify_content": null,
       "justify_items": null,
       "left": null,
       "margin": null,
       "max_height": null,
       "max_width": null,
       "min_height": null,
       "min_width": null,
       "object_fit": null,
       "object_position": null,
       "order": null,
       "overflow": null,
       "overflow_x": null,
       "overflow_y": null,
       "padding": null,
       "right": null,
       "top": null,
       "visibility": null,
       "width": null
      }
     },
     "44ed9455589645a8b9e1d5a579175b32": {
      "model_module": "@jupyter-widgets/controls",
      "model_module_version": "1.5.0",
      "model_name": "HTMLModel",
      "state": {
       "_dom_classes": [],
       "_model_module": "@jupyter-widgets/controls",
       "_model_module_version": "1.5.0",
       "_model_name": "HTMLModel",
       "_view_count": null,
       "_view_module": "@jupyter-widgets/controls",
       "_view_module_version": "1.5.0",
       "_view_name": "HTMLView",
       "description": "",
       "description_tooltip": null,
       "layout": "IPY_MODEL_1d6b896a78574b7787b2040fc1e2f745",
       "placeholder": "​",
       "style": "IPY_MODEL_f301918cf36844aba9f8474678c5910f",
       "value": " 200/200 [00:04&lt;00:00, 68.28it/s]"
      }
     },
     "4b576f6322894289ab8aeacb6ee8142b": {
      "model_module": "@jupyter-widgets/controls",
      "model_module_version": "1.5.0",
      "model_name": "HTMLModel",
      "state": {
       "_dom_classes": [],
       "_model_module": "@jupyter-widgets/controls",
       "_model_module_version": "1.5.0",
       "_model_name": "HTMLModel",
       "_view_count": null,
       "_view_module": "@jupyter-widgets/controls",
       "_view_module_version": "1.5.0",
       "_view_name": "HTMLView",
       "description": "",
       "description_tooltip": null,
       "layout": "IPY_MODEL_50514dbc622f445e881a9319b91c1989",
       "placeholder": "​",
       "style": "IPY_MODEL_a83f5c3f3a2e4895b97f26f8fee69e19",
       "value": " 200/200 [00:26&lt;00:00,  8.10it/s]"
      }
     },
     "50514dbc622f445e881a9319b91c1989": {
      "model_module": "@jupyter-widgets/base",
      "model_module_version": "1.2.0",
      "model_name": "LayoutModel",
      "state": {
       "_model_module": "@jupyter-widgets/base",
       "_model_module_version": "1.2.0",
       "_model_name": "LayoutModel",
       "_view_count": null,
       "_view_module": "@jupyter-widgets/base",
       "_view_module_version": "1.2.0",
       "_view_name": "LayoutView",
       "align_content": null,
       "align_items": null,
       "align_self": null,
       "border": null,
       "bottom": null,
       "display": null,
       "flex": null,
       "flex_flow": null,
       "grid_area": null,
       "grid_auto_columns": null,
       "grid_auto_flow": null,
       "grid_auto_rows": null,
       "grid_column": null,
       "grid_gap": null,
       "grid_row": null,
       "grid_template_areas": null,
       "grid_template_columns": null,
       "grid_template_rows": null,
       "height": null,
       "justify_content": null,
       "justify_items": null,
       "left": null,
       "margin": null,
       "max_height": null,
       "max_width": null,
       "min_height": null,
       "min_width": null,
       "object_fit": null,
       "object_position": null,
       "order": null,
       "overflow": null,
       "overflow_x": null,
       "overflow_y": null,
       "padding": null,
       "right": null,
       "top": null,
       "visibility": null,
       "width": null
      }
     },
     "5c00a40062bd4599abf74cc563306b0e": {
      "model_module": "@jupyter-widgets/base",
      "model_module_version": "1.2.0",
      "model_name": "LayoutModel",
      "state": {
       "_model_module": "@jupyter-widgets/base",
       "_model_module_version": "1.2.0",
       "_model_name": "LayoutModel",
       "_view_count": null,
       "_view_module": "@jupyter-widgets/base",
       "_view_module_version": "1.2.0",
       "_view_name": "LayoutView",
       "align_content": null,
       "align_items": null,
       "align_self": null,
       "border": null,
       "bottom": null,
       "display": null,
       "flex": null,
       "flex_flow": null,
       "grid_area": null,
       "grid_auto_columns": null,
       "grid_auto_flow": null,
       "grid_auto_rows": null,
       "grid_column": null,
       "grid_gap": null,
       "grid_row": null,
       "grid_template_areas": null,
       "grid_template_columns": null,
       "grid_template_rows": null,
       "height": null,
       "justify_content": null,
       "justify_items": null,
       "left": null,
       "margin": null,
       "max_height": null,
       "max_width": null,
       "min_height": null,
       "min_width": null,
       "object_fit": null,
       "object_position": null,
       "order": null,
       "overflow": null,
       "overflow_x": null,
       "overflow_y": null,
       "padding": null,
       "right": null,
       "top": null,
       "visibility": null,
       "width": null
      }
     },
     "694c31fc14534624bcfd16446e5637f3": {
      "model_module": "@jupyter-widgets/base",
      "model_module_version": "1.2.0",
      "model_name": "LayoutModel",
      "state": {
       "_model_module": "@jupyter-widgets/base",
       "_model_module_version": "1.2.0",
       "_model_name": "LayoutModel",
       "_view_count": null,
       "_view_module": "@jupyter-widgets/base",
       "_view_module_version": "1.2.0",
       "_view_name": "LayoutView",
       "align_content": null,
       "align_items": null,
       "align_self": null,
       "border": null,
       "bottom": null,
       "display": null,
       "flex": null,
       "flex_flow": null,
       "grid_area": null,
       "grid_auto_columns": null,
       "grid_auto_flow": null,
       "grid_auto_rows": null,
       "grid_column": null,
       "grid_gap": null,
       "grid_row": null,
       "grid_template_areas": null,
       "grid_template_columns": null,
       "grid_template_rows": null,
       "height": null,
       "justify_content": null,
       "justify_items": null,
       "left": null,
       "margin": null,
       "max_height": null,
       "max_width": null,
       "min_height": null,
       "min_width": null,
       "object_fit": null,
       "object_position": null,
       "order": null,
       "overflow": null,
       "overflow_x": null,
       "overflow_y": null,
       "padding": null,
       "right": null,
       "top": null,
       "visibility": null,
       "width": null
      }
     },
     "72b2c7f919e9458ab57f225916240699": {
      "model_module": "@jupyter-widgets/controls",
      "model_module_version": "1.5.0",
      "model_name": "HTMLModel",
      "state": {
       "_dom_classes": [],
       "_model_module": "@jupyter-widgets/controls",
       "_model_module_version": "1.5.0",
       "_model_name": "HTMLModel",
       "_view_count": null,
       "_view_module": "@jupyter-widgets/controls",
       "_view_module_version": "1.5.0",
       "_view_name": "HTMLView",
       "description": "",
       "description_tooltip": null,
       "layout": "IPY_MODEL_1c9ba2cda9cb45ce83c07355f4da07cc",
       "placeholder": "​",
       "style": "IPY_MODEL_13ad86d66cba44c9b91ef6ebe39f2e02",
       "value": "100%"
      }
     },
     "7c2c99242c6a48ea808186137234de28": {
      "model_module": "@jupyter-widgets/controls",
      "model_module_version": "1.5.0",
      "model_name": "HBoxModel",
      "state": {
       "_dom_classes": [],
       "_model_module": "@jupyter-widgets/controls",
       "_model_module_version": "1.5.0",
       "_model_name": "HBoxModel",
       "_view_count": null,
       "_view_module": "@jupyter-widgets/controls",
       "_view_module_version": "1.5.0",
       "_view_name": "HBoxView",
       "box_style": "",
       "children": [
        "IPY_MODEL_a1cdf5835fef4ad2a7388a47c27a9e6d",
        "IPY_MODEL_0d3fdd2d10df4d0a8414e2a0c1ca8130",
        "IPY_MODEL_df111a97367d49658101734b1133dd20"
       ],
       "layout": "IPY_MODEL_40c0a7aa4e0e48c687cf1373faf9ce6a"
      }
     },
     "7ccf2dd618824cb4974ff4ad3aabc577": {
      "model_module": "@jupyter-widgets/controls",
      "model_module_version": "1.5.0",
      "model_name": "HBoxModel",
      "state": {
       "_dom_classes": [],
       "_model_module": "@jupyter-widgets/controls",
       "_model_module_version": "1.5.0",
       "_model_name": "HBoxModel",
       "_view_count": null,
       "_view_module": "@jupyter-widgets/controls",
       "_view_module_version": "1.5.0",
       "_view_name": "HBoxView",
       "box_style": "",
       "children": [
        "IPY_MODEL_1ae822cc0c274ef08104e560162b375f",
        "IPY_MODEL_1d37f0171860441680345a5a3cd5b5dd",
        "IPY_MODEL_44ed9455589645a8b9e1d5a579175b32"
       ],
       "layout": "IPY_MODEL_c099eacd85064d63b13b3b24e0e5b494"
      }
     },
     "81730708ccdd4b1cb3deaf9d9302eff1": {
      "model_module": "@jupyter-widgets/base",
      "model_module_version": "1.2.0",
      "model_name": "LayoutModel",
      "state": {
       "_model_module": "@jupyter-widgets/base",
       "_model_module_version": "1.2.0",
       "_model_name": "LayoutModel",
       "_view_count": null,
       "_view_module": "@jupyter-widgets/base",
       "_view_module_version": "1.2.0",
       "_view_name": "LayoutView",
       "align_content": null,
       "align_items": null,
       "align_self": null,
       "border": null,
       "bottom": null,
       "display": null,
       "flex": null,
       "flex_flow": null,
       "grid_area": null,
       "grid_auto_columns": null,
       "grid_auto_flow": null,
       "grid_auto_rows": null,
       "grid_column": null,
       "grid_gap": null,
       "grid_row": null,
       "grid_template_areas": null,
       "grid_template_columns": null,
       "grid_template_rows": null,
       "height": null,
       "justify_content": null,
       "justify_items": null,
       "left": null,
       "margin": null,
       "max_height": null,
       "max_width": null,
       "min_height": null,
       "min_width": null,
       "object_fit": null,
       "object_position": null,
       "order": null,
       "overflow": null,
       "overflow_x": null,
       "overflow_y": null,
       "padding": null,
       "right": null,
       "top": null,
       "visibility": null,
       "width": null
      }
     },
     "84c299b3e8c84c30a21f842a6f5ba25c": {
      "model_module": "@jupyter-widgets/controls",
      "model_module_version": "1.5.0",
      "model_name": "ProgressStyleModel",
      "state": {
       "_model_module": "@jupyter-widgets/controls",
       "_model_module_version": "1.5.0",
       "_model_name": "ProgressStyleModel",
       "_view_count": null,
       "_view_module": "@jupyter-widgets/base",
       "_view_module_version": "1.2.0",
       "_view_name": "StyleView",
       "bar_color": null,
       "description_width": ""
      }
     },
     "8514652a56be4c28a8834197cd02a585": {
      "model_module": "@jupyter-widgets/controls",
      "model_module_version": "1.5.0",
      "model_name": "DescriptionStyleModel",
      "state": {
       "_model_module": "@jupyter-widgets/controls",
       "_model_module_version": "1.5.0",
       "_model_name": "DescriptionStyleModel",
       "_view_count": null,
       "_view_module": "@jupyter-widgets/base",
       "_view_module_version": "1.2.0",
       "_view_name": "StyleView",
       "description_width": ""
      }
     },
     "8684d4866cee4cf78ea09fa263a46ddb": {
      "model_module": "@jupyter-widgets/base",
      "model_module_version": "1.2.0",
      "model_name": "LayoutModel",
      "state": {
       "_model_module": "@jupyter-widgets/base",
       "_model_module_version": "1.2.0",
       "_model_name": "LayoutModel",
       "_view_count": null,
       "_view_module": "@jupyter-widgets/base",
       "_view_module_version": "1.2.0",
       "_view_name": "LayoutView",
       "align_content": null,
       "align_items": null,
       "align_self": null,
       "border": null,
       "bottom": null,
       "display": null,
       "flex": null,
       "flex_flow": null,
       "grid_area": null,
       "grid_auto_columns": null,
       "grid_auto_flow": null,
       "grid_auto_rows": null,
       "grid_column": null,
       "grid_gap": null,
       "grid_row": null,
       "grid_template_areas": null,
       "grid_template_columns": null,
       "grid_template_rows": null,
       "height": null,
       "justify_content": null,
       "justify_items": null,
       "left": null,
       "margin": null,
       "max_height": null,
       "max_width": null,
       "min_height": null,
       "min_width": null,
       "object_fit": null,
       "object_position": null,
       "order": null,
       "overflow": null,
       "overflow_x": null,
       "overflow_y": null,
       "padding": null,
       "right": null,
       "top": null,
       "visibility": null,
       "width": null
      }
     },
     "a1cdf5835fef4ad2a7388a47c27a9e6d": {
      "model_module": "@jupyter-widgets/controls",
      "model_module_version": "1.5.0",
      "model_name": "HTMLModel",
      "state": {
       "_dom_classes": [],
       "_model_module": "@jupyter-widgets/controls",
       "_model_module_version": "1.5.0",
       "_model_name": "HTMLModel",
       "_view_count": null,
       "_view_module": "@jupyter-widgets/controls",
       "_view_module_version": "1.5.0",
       "_view_name": "HTMLView",
       "description": "",
       "description_tooltip": null,
       "layout": "IPY_MODEL_1f4cb503fbd44dea8fdf28bb74ba9449",
       "placeholder": "​",
       "style": "IPY_MODEL_b28ad55762334d73ae6a7aeb4bdb6c4f",
       "value": "100%"
      }
     },
     "a83f5c3f3a2e4895b97f26f8fee69e19": {
      "model_module": "@jupyter-widgets/controls",
      "model_module_version": "1.5.0",
      "model_name": "DescriptionStyleModel",
      "state": {
       "_model_module": "@jupyter-widgets/controls",
       "_model_module_version": "1.5.0",
       "_model_name": "DescriptionStyleModel",
       "_view_count": null,
       "_view_module": "@jupyter-widgets/base",
       "_view_module_version": "1.2.0",
       "_view_name": "StyleView",
       "description_width": ""
      }
     },
     "b28ad55762334d73ae6a7aeb4bdb6c4f": {
      "model_module": "@jupyter-widgets/controls",
      "model_module_version": "1.5.0",
      "model_name": "DescriptionStyleModel",
      "state": {
       "_model_module": "@jupyter-widgets/controls",
       "_model_module_version": "1.5.0",
       "_model_name": "DescriptionStyleModel",
       "_view_count": null,
       "_view_module": "@jupyter-widgets/base",
       "_view_module_version": "1.2.0",
       "_view_name": "StyleView",
       "description_width": ""
      }
     },
     "c099eacd85064d63b13b3b24e0e5b494": {
      "model_module": "@jupyter-widgets/base",
      "model_module_version": "1.2.0",
      "model_name": "LayoutModel",
      "state": {
       "_model_module": "@jupyter-widgets/base",
       "_model_module_version": "1.2.0",
       "_model_name": "LayoutModel",
       "_view_count": null,
       "_view_module": "@jupyter-widgets/base",
       "_view_module_version": "1.2.0",
       "_view_name": "LayoutView",
       "align_content": null,
       "align_items": null,
       "align_self": null,
       "border": null,
       "bottom": null,
       "display": null,
       "flex": null,
       "flex_flow": null,
       "grid_area": null,
       "grid_auto_columns": null,
       "grid_auto_flow": null,
       "grid_auto_rows": null,
       "grid_column": null,
       "grid_gap": null,
       "grid_row": null,
       "grid_template_areas": null,
       "grid_template_columns": null,
       "grid_template_rows": null,
       "height": null,
       "justify_content": null,
       "justify_items": null,
       "left": null,
       "margin": null,
       "max_height": null,
       "max_width": null,
       "min_height": null,
       "min_width": null,
       "object_fit": null,
       "object_position": null,
       "order": null,
       "overflow": null,
       "overflow_x": null,
       "overflow_y": null,
       "padding": null,
       "right": null,
       "top": null,
       "visibility": null,
       "width": null
      }
     },
     "d742470b7c284a5e951cc341067ea34f": {
      "model_module": "@jupyter-widgets/controls",
      "model_module_version": "1.5.0",
      "model_name": "FloatProgressModel",
      "state": {
       "_dom_classes": [],
       "_model_module": "@jupyter-widgets/controls",
       "_model_module_version": "1.5.0",
       "_model_name": "FloatProgressModel",
       "_view_count": null,
       "_view_module": "@jupyter-widgets/controls",
       "_view_module_version": "1.5.0",
       "_view_name": "ProgressView",
       "bar_style": "success",
       "description": "",
       "description_tooltip": null,
       "layout": "IPY_MODEL_8684d4866cee4cf78ea09fa263a46ddb",
       "max": 200.0,
       "min": 0.0,
       "orientation": "horizontal",
       "style": "IPY_MODEL_84c299b3e8c84c30a21f842a6f5ba25c",
       "value": 200.0
      }
     },
     "df111a97367d49658101734b1133dd20": {
      "model_module": "@jupyter-widgets/controls",
      "model_module_version": "1.5.0",
      "model_name": "HTMLModel",
      "state": {
       "_dom_classes": [],
       "_model_module": "@jupyter-widgets/controls",
       "_model_module_version": "1.5.0",
       "_model_name": "HTMLModel",
       "_view_count": null,
       "_view_module": "@jupyter-widgets/controls",
       "_view_module_version": "1.5.0",
       "_view_name": "HTMLView",
       "description": "",
       "description_tooltip": null,
       "layout": "IPY_MODEL_04f3845e06c24aa681502c91f1d6d332",
       "placeholder": "​",
       "style": "IPY_MODEL_8514652a56be4c28a8834197cd02a585",
       "value": " 200/200 [00:07&lt;00:00, 30.79it/s]"
      }
     },
     "e1aa0e91e57a4fb5b0ee84e31045301b": {
      "model_module": "@jupyter-widgets/controls",
      "model_module_version": "1.5.0",
      "model_name": "HBoxModel",
      "state": {
       "_dom_classes": [],
       "_model_module": "@jupyter-widgets/controls",
       "_model_module_version": "1.5.0",
       "_model_name": "HBoxModel",
       "_view_count": null,
       "_view_module": "@jupyter-widgets/controls",
       "_view_module_version": "1.5.0",
       "_view_name": "HBoxView",
       "box_style": "",
       "children": [
        "IPY_MODEL_72b2c7f919e9458ab57f225916240699",
        "IPY_MODEL_d742470b7c284a5e951cc341067ea34f",
        "IPY_MODEL_4b576f6322894289ab8aeacb6ee8142b"
       ],
       "layout": "IPY_MODEL_694c31fc14534624bcfd16446e5637f3"
      }
     },
     "e6022bca646947a9b40b107de01d56b8": {
      "model_module": "@jupyter-widgets/controls",
      "model_module_version": "1.5.0",
      "model_name": "DescriptionStyleModel",
      "state": {
       "_model_module": "@jupyter-widgets/controls",
       "_model_module_version": "1.5.0",
       "_model_name": "DescriptionStyleModel",
       "_view_count": null,
       "_view_module": "@jupyter-widgets/base",
       "_view_module_version": "1.2.0",
       "_view_name": "StyleView",
       "description_width": ""
      }
     },
     "eac96959d14346249d5dc14d37863b10": {
      "model_module": "@jupyter-widgets/base",
      "model_module_version": "1.2.0",
      "model_name": "LayoutModel",
      "state": {
       "_model_module": "@jupyter-widgets/base",
       "_model_module_version": "1.2.0",
       "_model_name": "LayoutModel",
       "_view_count": null,
       "_view_module": "@jupyter-widgets/base",
       "_view_module_version": "1.2.0",
       "_view_name": "LayoutView",
       "align_content": null,
       "align_items": null,
       "align_self": null,
       "border": null,
       "bottom": null,
       "display": null,
       "flex": null,
       "flex_flow": null,
       "grid_area": null,
       "grid_auto_columns": null,
       "grid_auto_flow": null,
       "grid_auto_rows": null,
       "grid_column": null,
       "grid_gap": null,
       "grid_row": null,
       "grid_template_areas": null,
       "grid_template_columns": null,
       "grid_template_rows": null,
       "height": null,
       "justify_content": null,
       "justify_items": null,
       "left": null,
       "margin": null,
       "max_height": null,
       "max_width": null,
       "min_height": null,
       "min_width": null,
       "object_fit": null,
       "object_position": null,
       "order": null,
       "overflow": null,
       "overflow_x": null,
       "overflow_y": null,
       "padding": null,
       "right": null,
       "top": null,
       "visibility": null,
       "width": null
      }
     },
     "ef87108c3b2e4320938c489608f2dfdf": {
      "model_module": "@jupyter-widgets/controls",
      "model_module_version": "1.5.0",
      "model_name": "ProgressStyleModel",
      "state": {
       "_model_module": "@jupyter-widgets/controls",
       "_model_module_version": "1.5.0",
       "_model_name": "ProgressStyleModel",
       "_view_count": null,
       "_view_module": "@jupyter-widgets/base",
       "_view_module_version": "1.2.0",
       "_view_name": "StyleView",
       "bar_color": null,
       "description_width": ""
      }
     },
     "f301918cf36844aba9f8474678c5910f": {
      "model_module": "@jupyter-widgets/controls",
      "model_module_version": "1.5.0",
      "model_name": "DescriptionStyleModel",
      "state": {
       "_model_module": "@jupyter-widgets/controls",
       "_model_module_version": "1.5.0",
       "_model_name": "DescriptionStyleModel",
       "_view_count": null,
       "_view_module": "@jupyter-widgets/base",
       "_view_module_version": "1.2.0",
       "_view_name": "StyleView",
       "description_width": ""
      }
     }
    },
    "version_major": 2,
    "version_minor": 0
   }
  }
 },
 "nbformat": 4,
 "nbformat_minor": 2
}
