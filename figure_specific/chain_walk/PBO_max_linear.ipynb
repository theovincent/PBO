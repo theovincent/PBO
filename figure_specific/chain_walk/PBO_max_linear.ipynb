{
    "cells": [
        {
            "cell_type": "markdown",
            "metadata": {},
            "source": [
                "# PBO on the chain walk environment\n",
                "\n",
                "## Define parameters"
            ]
        },
        {
            "cell_type": "code",
            "execution_count": 1,
            "metadata": {},
            "outputs": [
                {
                    "name": "stderr",
                    "output_type": "stream",
                    "text": [
                        "WARNING:absl:No GPU/TPU found, falling back to CPU. (Set TF_CPP_MIN_LOG_LEVEL=0 and rerun for more info.)\n"
                    ]
                }
            ],
            "source": [
                "%load_ext autoreload\n",
                "%autoreload 2\n",
                "\n",
                "\n",
                "import jax\n",
                "import jax.numpy as jnp\n",
                "\n",
                "\n",
                "# keys\n",
                "seed = 5\n",
                "key = jax.random.PRNGKey(seed)\n",
                "env_key, key = jax.random.split(key)\n",
                "shuffle_key, q_network_key, random_weights_key, pbo_network_key = jax.random.split(key, 4)\n",
                "\n",
                "# Sample collection\n",
                "n_states = 20\n",
                "n_actions = 2\n",
                "n_repetitions_list = jnp.array([2, 5, 20])\n",
                "n_samples_list = n_states * n_actions * n_repetitions_list\n",
                "sucess_probability = 0.9\n",
                "gamma = 0.9\n",
                "\n",
                "# Weights collection\n",
                "n_weights = 100\n",
                "\n",
                "# Trainings\n",
                "max_bellman_iterations = 15\n",
                "training_steps = 300\n",
                "fitting_steps = 4\n",
                "batch_size_samples = n_states\n",
                "batch_size_weights = n_weights\n",
                "learning_rates = [{\"first\": 0.01, \"last\": 0.00001, \"duration\": training_steps * fitting_steps * n_samples // batch_size_samples} for n_samples in n_samples_list]\n",
                "add_infinity_non_linear = False\n",
                "\n",
                "\n",
                "# Visualisation of errors and performances\n",
                "max_bellman_iterations_validation = max_bellman_iterations + 20"
            ]
        },
        {
            "cell_type": "markdown",
            "metadata": {},
            "source": [
                "## Define environment"
            ]
        },
        {
            "cell_type": "code",
            "execution_count": 2,
            "metadata": {},
            "outputs": [],
            "source": [
                "import numpy as np\n",
                "from pbo.environment.chain_walk import ChainWalkEnv\n",
                "\n",
                "\n",
                "states = np.arange(n_states)\n",
                "actions = np.arange(n_actions)\n",
                "states_boxes = np.arange(n_states + 1) - 0.5\n",
                "actions_boxes = np.arange(n_actions + 1) - 0.5\n",
                "\n",
                "env = ChainWalkEnv(env_key, n_states, sucess_probability, gamma)"
            ]
        },
        {
            "cell_type": "markdown",
            "metadata": {},
            "source": [
                "## Collect samples"
            ]
        },
        {
            "cell_type": "markdown",
            "metadata": {},
            "source": [
                "### Samples on the mesh"
            ]
        },
        {
            "cell_type": "code",
            "execution_count": 3,
            "metadata": {},
            "outputs": [],
            "source": [
                "import jax.numpy as jnp\n",
                "from pbo.sample_collection.replay_buffer import ReplayBuffer\n",
                "\n",
                "\n",
                "replay_buffers = [ReplayBuffer() for _ in range(len(n_repetitions_list))]\n",
                "\n",
                "for state in states:\n",
                "    for action in actions:\n",
                "        # Need to repeat the samples to capture the randomness\n",
                "        for n_current_repetition in range(n_repetitions_list[-1]):\n",
                "            env.reset(jnp.array([state]))\n",
                "            next_state, reward, absorbing, _ = env.step(jnp.array([action]))\n",
                "\n",
                "            for idx_replay_buffer, n_repetitions in enumerate(n_repetitions_list):\n",
                "                if n_current_repetition < n_repetitions:\n",
                "                    replay_buffers[idx_replay_buffer].add(jnp.array([state]), jnp.array([action]), reward, next_state, absorbing)\n",
                "\n",
                "_ = [replay_buffer.cast_to_jax_array() for replay_buffer in replay_buffers]"
            ]
        },
        {
            "cell_type": "markdown",
            "metadata": {},
            "source": [
                "### Visualize samples"
            ]
        },
        {
            "cell_type": "code",
            "execution_count": 4,
            "metadata": {},
            "outputs": [
                {
                    "data": {
                        "image/png": "[encoded data removed]",
                        "text/plain": [
                            "<Figure size 432x288 with 2 Axes>"
                        ]
                    },
                    "metadata": {
                        "needs_background": "light"
                    },
                    "output_type": "display_data"
                }
            ],
            "source": [
                "from pbo.sample_collection.count_samples import count_samples\n",
                "from pbo.utils.two_dimesions_mesh import TwoDimesionsMesh\n",
                "\n",
                "idx_replay_buffer_to_view = 0\n",
                "\n",
                "samples_count, n_outside_boxes, _ = count_samples(replay_buffers[idx_replay_buffer_to_view].states, replay_buffers[idx_replay_buffer_to_view].actions, states_boxes, actions_boxes, replay_buffers[idx_replay_buffer_to_view].rewards)\n",
                "samples_visu_mesh = TwoDimesionsMesh(states, actions, sleeping_time=0)\n",
                "\n",
                "samples_visu_mesh.set_values(samples_count, zeros_to_nan=True)\n",
                "samples_visu_mesh.show(\n",
                "    f\"Samples repartition, \\n{int(100 * n_outside_boxes / n_samples_list[idx_replay_buffer_to_view])}% are outside the box.\"\n",
                ")"
            ]
        },
        {
            "cell_type": "markdown",
            "metadata": {},
            "source": [
                "## Optimal Q function"
            ]
        },
        {
            "cell_type": "code",
            "execution_count": 5,
            "metadata": {},
            "outputs": [
                {
                    "data": {
                        "image/png": "[encoded data removed]",
                        "text/plain": [
                            "<Figure size 432x288 with 2 Axes>"
                        ]
                    },
                    "metadata": {
                        "needs_background": "light"
                    },
                    "output_type": "display_data"
                }
            ],
            "source": [
                "optimal_q = env.optimal_Q_mesh()\n",
                "optimal_v = optimal_q.max(axis=1)\n",
                "\n",
                "q_visu_mesh = TwoDimesionsMesh(states, actions, 0)\n",
                "\n",
                "q_visu_mesh.set_values(optimal_q)\n",
                "q_visu_mesh.show(\"Optimal q function\")"
            ]
        },
        {
            "cell_type": "markdown",
            "metadata": {},
            "source": [
                "## Optimal PBO"
            ]
        },
        {
            "cell_type": "code",
            "execution_count": 6,
            "metadata": {},
            "outputs": [
                {
                    "name": "stdout",
                    "output_type": "stream",
                    "text": [
                        "[0 0 0 0 0 0 0 0 0 0 0 0 0 0 0 0 0 0 0 0]\n",
                        "[0 0 0 0 0 0 0 0 0 0 0 0 0 0 0 0 0 0 1 0]\n",
                        "[0 0 0 0 0 0 0 0 0 0 0 0 0 0 0 0 0 1 1 0]\n",
                        "[0 0 0 0 0 0 0 0 0 0 0 0 0 0 0 0 1 1 1 0]\n",
                        "[0 0 0 0 0 0 0 0 0 0 0 0 0 0 0 1 1 1 1 0]\n",
                        "[0 0 0 0 0 0 0 0 0 0 0 0 0 0 1 1 1 1 1 0]\n",
                        "[0 0 0 0 0 0 0 0 0 0 0 0 0 1 1 1 1 1 1 0]\n",
                        "[0 0 0 0 0 0 0 0 0 0 0 0 1 1 1 1 1 1 1 0]\n",
                        "[0 0 0 0 0 0 0 0 0 0 0 1 1 1 1 1 1 1 1 0]\n",
                        "[0 0 0 0 0 0 0 0 0 0 1 1 1 1 1 1 1 1 1 0]\n",
                        "[0 0 0 0 0 0 0 0 0 0 1 1 1 1 1 1 1 1 1 0]\n",
                        "[0 0 0 0 0 0 0 0 0 0 1 1 1 1 1 1 1 1 1 0]\n",
                        "[0 0 0 0 0 0 0 0 0 0 1 1 1 1 1 1 1 1 1 0]\n",
                        "[0 0 0 0 0 0 0 0 0 0 1 1 1 1 1 1 1 1 1 0]\n",
                        "[0 0 0 0 0 0 0 0 0 0 1 1 1 1 1 1 1 1 1 0]\n",
                        "[0 0 0 0 0 0 0 0 0 0 1 1 1 1 1 1 1 1 1 0]\n",
                        "[0 0 0 0 0 0 0 0 0 0 1 1 1 1 1 1 1 1 1 0]\n",
                        "[0 0 0 0 0 0 0 0 0 0 1 1 1 1 1 1 1 1 1 0]\n",
                        "[0 0 0 0 0 0 0 0 0 0 1 1 1 1 1 1 1 1 1 0]\n",
                        "[0 0 0 0 0 0 0 0 0 0 1 1 1 1 1 1 1 1 1 0]\n",
                        "[0 0 0 0 0 0 0 0 0 0 1 1 1 1 1 1 1 1 1 0]\n",
                        "[0 0 0 0 0 0 0 0 0 0 1 1 1 1 1 1 1 1 1 0]\n",
                        "[0 0 0 0 0 0 0 0 0 0 1 1 1 1 1 1 1 1 1 0]\n",
                        "[0 0 0 0 0 0 0 0 0 0 1 1 1 1 1 1 1 1 1 0]\n",
                        "[0 0 0 0 0 0 0 0 0 0 1 1 1 1 1 1 1 1 1 0]\n",
                        "[0 0 0 0 0 0 0 0 0 0 1 1 1 1 1 1 1 1 1 0]\n",
                        "[0 0 0 0 0 0 0 0 0 0 1 1 1 1 1 1 1 1 1 0]\n",
                        "[0 0 0 0 0 0 0 0 0 0 1 1 1 1 1 1 1 1 1 0]\n",
                        "[0 0 0 0 0 0 0 0 0 0 1 1 1 1 1 1 1 1 1 0]\n",
                        "[0 0 0 0 0 0 0 0 0 0 1 1 1 1 1 1 1 1 1 0]\n",
                        "[0 0 0 0 0 0 0 0 0 0 1 1 1 1 1 1 1 1 1 0]\n",
                        "[0 0 0 0 0 0 0 0 0 0 1 1 1 1 1 1 1 1 1 0]\n",
                        "[0 0 0 0 0 0 0 0 0 0 1 1 1 1 1 1 1 1 1 0]\n",
                        "[0 0 0 0 0 0 0 0 0 0 1 1 1 1 1 1 1 1 1 0]\n",
                        "[0 0 0 0 0 0 0 0 0 0 1 1 1 1 1 1 1 1 1 0]\n"
                    ]
                }
            ],
            "source": [
                "from tqdm.notebook import tqdm\n",
                "\n",
                "from pbo.sample_collection.dataloader import SampleDataLoader\n",
                "from pbo.networks.learnable_q import TableQ\n",
                "from pbo.networks.learnable_pbo import TabularPBO\n",
                "\n",
                "\n",
                "q = TableQ(\n",
                "    1,\n",
                "    n_states,\n",
                "    1,\n",
                "    n_actions,\n",
                "    gamma,\n",
                "    q_network_key,\n",
                "    None,\n",
                "    random_weights_key,\n",
                "    None,\n",
                "    zero_initializer=True,\n",
                ")\n",
                "validation_initial_weight = q.to_weights(q.params)\n",
                "\n",
                "\n",
                "pbo_optimal = TabularPBO(q, max_bellman_iterations, False, pbo_network_key, learning_rates[0], n_actions)\n",
                "pbo_optimal.params[\"TabularPBONet/linear\"][\"w\"] = gamma * env.transition_proba.T\n",
                "pbo_optimal.params[\"TabularPBONet/linear\"][\"b\"] = env.R.T\n",
                "\n",
                "training_losses_optimal = np.zeros(max_bellman_iterations_validation)\n",
                "validation_losses_optimal = np.zeros(max_bellman_iterations_validation)\n",
                "value_functions_optimal = np.zeros((max_bellman_iterations_validation, n_states))\n",
                "\n",
                "\n",
                "batch_iterated_weights = validation_initial_weight.reshape((1, -1))\n",
                "for bellman_iteration in range(max_bellman_iterations_validation):\n",
                "    q_i = q.discretize(batch_iterated_weights, states, actions)[0]\n",
                "    batch_iterated_weights = pbo_optimal(pbo_optimal.params, batch_iterated_weights)\n",
                "    q_i_plus_1 = q.discretize(batch_iterated_weights, states, actions)[0]\n",
                "    policy_q = q_i_plus_1.argmax(axis=1)\n",
                "\n",
                "    training_losses_optimal[bellman_iteration] = jnp.abs(env.apply_bellman_operator(q_i) - q_i_plus_1).mean()\n",
                "    validation_losses_optimal[bellman_iteration] = jnp.abs(optimal_q - q_i_plus_1).mean()\n",
                "    value_functions_optimal[bellman_iteration] = env.value_function(policy_q)\n",
                "    print(policy_q)"
            ]
        },
        {
            "cell_type": "markdown",
            "metadata": {},
            "source": [
                "## Collect weights"
            ]
        },
        {
            "cell_type": "code",
            "execution_count": 7,
            "metadata": {},
            "outputs": [],
            "source": [
                "from pbo.weights_collection.weights_buffer import WeightsBuffer\n",
                "\n",
                "\n",
                "weights_buffer = WeightsBuffer()\n",
                "\n",
                "# Add initial validation weights\n",
                "weights_buffer.add(validation_initial_weight)\n",
                "\n",
                "# Add randow weights\n",
                "q_random = TableQ(\n",
                "    1,\n",
                "    n_states,\n",
                "    1,\n",
                "    n_actions,\n",
                "    gamma,\n",
                "    q_network_key,\n",
                "    None,\n",
                "    random_weights_key,\n",
                "    learning_rate=None,\n",
                "    zero_initializer=False,\n",
                ")\n",
                "\n",
                "while len(weights_buffer) < n_weights:\n",
                "    weights = q_random.random_init_weights()\n",
                "    weights_buffer.add(weights)\n",
                "\n",
                "weights_buffer.cast_to_jax_array()"
            ]
        },
        {
            "cell_type": "markdown",
            "metadata": {},
            "source": [
                "## Train non linear PBO"
            ]
        },
        {
            "cell_type": "code",
            "execution_count": 8,
            "metadata": {},
            "outputs": [
                {
                    "data": {
                        "application/vnd.jupyter.widget-view+json": {
                            "model_id": "09d38ac5ce9941f39fbbd40c197ec025",
                            "version_major": 2,
                            "version_minor": 0
                        },
                        "text/plain": [
                            "  0%|          | 0/300 [00:00<?, ?it/s]"
                        ]
                    },
                    "metadata": {},
                    "output_type": "display_data"
                },
                {
                    "name": "stdout",
                    "output_type": "stream",
                    "text": [
                        "Samples with  2  repetions.\n",
                        "[0 0 0 1 1 0 0 0 1 0 0 0 0 0 1 1 1 1 1 0]\n",
                        "[1 0 0 0 1 1 1 0 0 1 0 0 0 0 0 1 1 1 1 0]\n",
                        "[0 0 0 0 1 1 1 1 1 0 0 0 1 0 0 1 1 1 1 0]\n",
                        "[0 0 0 0 1 1 1 1 1 1 0 0 0 0 0 1 1 1 1 0]\n",
                        "[0 0 0 0 0 1 1 1 1 1 0 0 0 0 1 1 1 1 1 0]\n",
                        "[0 0 0 0 0 0 1 1 1 1 0 0 0 1 1 1 1 1 1 0]\n",
                        "[0 0 0 0 0 0 1 1 1 0 0 0 1 1 1 1 1 1 1 0]\n",
                        "[0 0 0 0 0 0 0 1 1 0 0 0 1 1 1 1 1 1 1 0]\n",
                        "[0 0 0 0 0 0 0 0 1 0 0 0 1 1 1 1 1 1 1 0]\n",
                        "[1 0 0 0 0 0 0 0 0 0 0 0 1 1 1 1 1 1 1 0]\n",
                        "[1 0 0 0 0 0 0 0 0 0 0 1 1 1 1 1 1 1 1 0]\n",
                        "[1 0 0 0 0 0 0 0 0 0 0 1 1 1 1 1 1 1 1 0]\n",
                        "[1 0 0 0 0 0 0 0 0 0 1 1 1 1 1 1 1 1 1 0]\n",
                        "[1 0 0 0 0 0 0 0 0 0 1 1 1 1 1 1 1 1 1 1]\n",
                        "[1 0 0 0 0 0 0 0 0 0 1 1 1 1 1 1 1 1 1 1]\n",
                        "[1 0 0 0 0 0 0 0 0 0 1 1 1 1 1 1 1 1 1 1]\n",
                        "[1 0 0 0 0 0 0 0 0 0 1 1 1 1 1 1 1 1 1 1]\n",
                        "[0 0 0 0 0 0 0 0 0 0 1 1 1 1 1 1 1 1 1 1]\n",
                        "[0 0 0 0 0 0 0 0 0 0 1 1 1 1 1 1 1 1 1 1]\n",
                        "[0 0 0 0 0 0 0 0 0 1 1 1 1 1 1 1 1 1 1 1]\n",
                        "[0 0 0 0 0 0 0 0 0 1 1 1 1 1 1 1 1 1 1 1]\n",
                        "[0 0 0 0 0 0 0 0 0 1 1 1 1 1 1 1 1 1 1 1]\n",
                        "[0 0 0 0 0 0 0 0 0 1 1 1 1 1 1 1 1 1 1 1]\n",
                        "[0 0 0 0 0 0 0 0 0 1 1 1 1 1 1 1 1 1 1 1]\n",
                        "[0 0 0 0 0 0 0 0 0 1 1 1 1 1 1 1 1 1 1 1]\n",
                        "[0 0 0 0 0 0 0 0 0 1 1 1 1 1 1 1 1 1 1 1]\n",
                        "[0 0 0 0 0 0 0 0 0 1 1 1 1 1 1 1 1 1 1 1]\n",
                        "[0 0 0 0 0 0 0 0 0 1 1 1 1 1 1 1 1 1 1 1]\n",
                        "[0 0 0 0 0 0 0 0 0 1 1 1 1 1 1 1 1 1 1 1]\n",
                        "[0 0 0 0 0 0 0 0 0 1 1 1 1 1 1 1 1 1 1 1]\n",
                        "[0 0 0 0 0 0 0 0 0 1 1 1 1 1 1 1 1 1 1 1]\n",
                        "[0 0 0 0 0 0 0 0 0 1 1 1 1 1 1 1 1 1 1 1]\n",
                        "[0 0 0 0 0 0 0 0 0 1 1 1 1 1 1 1 1 1 1 1]\n",
                        "[0 0 0 0 0 0 0 0 0 1 1 1 1 1 1 1 1 1 1 1]\n",
                        "[0 0 0 0 0 0 0 0 0 1 1 1 1 1 1 1 1 1 1 1]\n"
                    ]
                },
                {
                    "data": {
                        "application/vnd.jupyter.widget-view+json": {
                            "model_id": "66474af066c448df8cb30a6e4a89d79d",
                            "version_major": 2,
                            "version_minor": 0
                        },
                        "text/plain": [
                            "  0%|          | 0/300 [00:00<?, ?it/s]"
                        ]
                    },
                    "metadata": {},
                    "output_type": "display_data"
                },
                {
                    "name": "stdout",
                    "output_type": "stream",
                    "text": [
                        "Samples with  5  repetions.\n",
                        "[1 0 0 1 1 0 0 0 0 0 0 0 0 0 0 0 0 0 1 0]\n",
                        "[0 0 0 0 1 1 1 0 0 1 0 0 0 0 0 0 0 1 1 0]\n",
                        "[0 0 0 0 1 1 1 1 0 0 0 0 0 0 0 0 1 1 1 0]\n",
                        "[0 0 0 0 0 1 1 1 1 1 0 0 0 0 0 1 1 1 1 0]\n",
                        "[0 0 0 0 0 0 1 1 1 1 0 0 0 0 0 1 1 1 1 1]\n",
                        "[0 0 0 0 0 0 0 1 1 1 1 0 0 0 1 1 1 1 1 1]\n",
                        "[0 0 0 0 0 0 0 1 1 1 1 0 0 1 1 1 1 1 1 1]\n",
                        "[0 0 0 0 0 0 0 0 1 1 1 0 0 1 1 1 1 1 1 0]\n",
                        "[0 0 0 0 0 0 0 0 0 1 0 0 1 1 1 1 1 1 1 0]\n",
                        "[1 0 0 0 0 0 0 0 0 0 0 1 1 1 1 1 1 1 1 0]\n",
                        "[1 0 0 0 0 0 0 0 0 0 0 1 1 1 1 1 1 1 1 0]\n",
                        "[1 0 0 0 0 0 0 0 0 0 0 1 1 1 1 1 1 1 1 0]\n",
                        "[1 0 0 0 0 0 0 0 0 0 0 1 1 1 1 1 1 1 1 0]\n",
                        "[1 0 0 0 0 0 0 0 0 0 0 1 1 1 1 1 1 1 1 0]\n",
                        "[1 0 0 0 0 0 0 0 0 0 0 1 1 1 1 1 1 1 1 1]\n",
                        "[1 0 0 0 0 0 0 0 0 0 0 1 1 1 1 1 1 1 1 1]\n",
                        "[1 0 0 0 0 0 0 0 0 0 0 1 1 1 1 1 1 1 1 1]\n",
                        "[1 0 0 0 0 0 0 0 0 0 0 1 1 1 1 1 1 1 1 1]\n",
                        "[1 0 0 0 0 0 0 0 0 0 0 1 1 1 1 1 1 1 1 1]\n",
                        "[1 0 0 0 0 0 0 0 0 0 0 1 1 1 1 1 1 1 1 1]\n",
                        "[1 0 0 0 0 0 0 0 0 0 0 1 1 1 1 1 1 1 1 1]\n",
                        "[1 0 0 0 0 0 0 0 0 0 1 1 1 1 1 1 1 1 1 1]\n",
                        "[1 0 0 0 0 0 0 0 0 0 1 1 1 1 1 1 1 1 1 1]\n",
                        "[1 0 0 0 0 0 0 0 0 0 1 1 1 1 1 1 1 1 1 1]\n",
                        "[1 0 0 0 0 0 0 0 0 0 1 1 1 1 1 1 1 1 1 1]\n",
                        "[1 0 0 0 0 0 0 0 0 0 1 1 1 1 1 1 1 1 1 1]\n",
                        "[1 0 0 0 0 0 0 0 0 0 1 1 1 1 1 1 1 1 1 1]\n",
                        "[1 0 0 0 0 0 0 0 0 0 1 1 1 1 1 1 1 1 1 1]\n",
                        "[1 0 0 0 0 0 0 0 0 0 1 1 1 1 1 1 1 1 1 1]\n",
                        "[1 0 0 0 0 0 0 0 0 0 1 1 1 1 1 1 1 1 1 1]\n",
                        "[1 0 0 0 0 0 0 0 0 0 1 1 1 1 1 1 1 1 1 1]\n",
                        "[1 0 0 0 0 0 0 0 0 0 1 1 1 1 1 1 1 1 1 1]\n",
                        "[1 0 0 0 0 0 0 0 0 0 1 1 1 1 1 1 1 1 1 1]\n",
                        "[1 0 0 0 0 0 0 0 0 0 1 1 1 1 1 1 1 1 1 1]\n",
                        "[1 0 0 0 0 0 0 0 0 0 1 1 1 1 1 1 1 1 1 1]\n"
                    ]
                },
                {
                    "data": {
                        "application/vnd.jupyter.widget-view+json": {
                            "model_id": "8c574c3e461a4dcaa987e2804b6d7c49",
                            "version_major": 2,
                            "version_minor": 0
                        },
                        "text/plain": [
                            "  0%|          | 0/300 [00:00<?, ?it/s]"
                        ]
                    },
                    "metadata": {},
                    "output_type": "display_data"
                },
                {
                    "name": "stdout",
                    "output_type": "stream",
                    "text": [
                        "Samples with  20  repetions.\n",
                        "[1 0 1 0 0 0 1 1 0 0 1 1 0 0 0 1 0 0 0 1]\n",
                        "[1 0 0 0 0 0 0 1 0 1 1 1 0 0 1 1 0 0 1 1]\n",
                        "[1 0 0 0 0 0 0 0 0 1 1 0 0 0 0 0 0 1 1 1]\n",
                        "[1 0 0 0 1 0 0 0 0 1 1 0 0 0 0 0 1 1 1 1]\n",
                        "[1 0 0 0 0 1 1 0 0 0 1 0 0 0 0 1 1 1 1 1]\n",
                        "[1 0 0 0 0 0 1 1 0 0 1 0 0 0 1 1 1 1 1 1]\n",
                        "[1 0 0 0 0 0 0 1 1 0 0 0 0 1 1 1 1 1 1 1]\n",
                        "[1 0 0 0 0 0 0 0 1 1 0 0 1 1 1 1 1 1 1 1]\n",
                        "[1 0 0 0 0 0 0 0 0 1 1 1 1 1 1 1 1 1 1 1]\n",
                        "[1 0 0 0 0 0 0 0 0 0 1 1 1 1 1 1 1 1 1 1]\n",
                        "[1 0 0 0 0 0 0 0 0 0 1 1 1 1 1 1 1 1 1 1]\n",
                        "[0 0 0 0 0 0 0 0 0 0 1 1 1 1 1 1 1 1 1 0]\n",
                        "[0 0 0 0 0 0 0 0 0 0 1 1 1 1 1 1 1 1 1 0]\n",
                        "[0 0 0 0 0 0 0 0 0 0 1 1 1 1 1 1 1 1 1 0]\n",
                        "[0 0 0 0 0 0 0 0 0 0 1 1 1 1 1 1 1 1 1 0]\n",
                        "[0 0 0 0 0 0 0 0 0 0 1 1 1 1 1 1 1 1 1 0]\n",
                        "[0 0 0 0 0 0 0 0 0 0 1 1 1 1 1 1 1 1 1 0]\n",
                        "[0 0 0 0 0 0 0 0 0 0 1 1 1 1 1 1 1 1 1 0]\n",
                        "[0 0 0 0 0 0 0 0 0 0 1 1 1 1 1 1 1 1 1 0]\n",
                        "[0 0 0 0 0 0 0 0 0 0 1 1 1 1 1 1 1 1 1 0]\n",
                        "[0 0 0 0 0 0 0 0 0 0 1 1 1 1 1 1 1 1 1 0]\n",
                        "[0 0 0 0 0 0 0 0 0 0 1 1 1 1 1 1 1 1 1 0]\n",
                        "[0 0 0 0 0 0 0 0 0 0 1 1 1 1 1 1 1 1 1 0]\n",
                        "[0 0 0 0 0 0 0 0 0 0 1 1 1 1 1 1 1 1 1 0]\n",
                        "[0 0 0 0 0 0 0 0 0 0 1 1 1 1 1 1 1 1 1 0]\n",
                        "[0 0 0 0 0 0 0 0 0 0 1 1 1 1 1 1 1 1 1 0]\n",
                        "[0 0 0 0 0 0 0 0 0 0 1 1 1 1 1 1 1 1 1 0]\n",
                        "[0 0 0 0 0 0 0 0 0 0 1 1 1 1 1 1 1 1 1 0]\n",
                        "[0 0 0 0 0 0 0 0 0 0 1 1 1 1 1 1 1 1 1 0]\n",
                        "[0 0 0 0 0 0 0 0 0 0 1 1 1 1 1 1 1 1 1 0]\n",
                        "[0 0 0 0 0 0 0 0 0 0 1 1 1 1 1 1 1 1 1 0]\n",
                        "[0 0 0 0 0 0 0 0 0 0 1 1 1 1 1 1 1 1 1 0]\n",
                        "[0 0 0 0 0 0 0 0 0 0 1 1 1 1 1 1 1 1 1 0]\n",
                        "[0 0 0 0 0 0 0 0 0 0 1 1 1 1 1 1 1 1 1 0]\n",
                        "[0 0 0 0 0 0 0 0 0 0 1 1 1 1 1 1 1 1 1 0]\n"
                    ]
                }
            ],
            "source": [
                "from tqdm.notebook import tqdm\n",
                "\n",
                "from pbo.sample_collection.dataloader import SampleDataLoader\n",
                "from pbo.weights_collection.dataloader import WeightsDataLoader\n",
                "from pbo.networks.learnable_pbo import TabularPBO\n",
                "\n",
                "\n",
                "training_losses_non_linear = np.zeros((len(n_repetitions_list), max_bellman_iterations_validation))\n",
                "validation_losses_non_linear = np.zeros((len(n_repetitions_list), max_bellman_iterations_validation))\n",
                "value_functions_non_linear = np.zeros((len(n_repetitions_list), max_bellman_iterations_validation, n_states))\n",
                "pbos_params = []\n",
                "\n",
                "for idx_repetition in range(len(n_repetitions_list)):\n",
                "    data_loader_samples = SampleDataLoader(replay_buffers[idx_repetition], batch_size_samples, shuffle_key)\n",
                "    data_loader_weights = WeightsDataLoader(weights_buffer, batch_size_weights, shuffle_key)\n",
                "    pbo_non_linear = TabularPBO(q_random, max_bellman_iterations, add_infinity_non_linear, pbo_network_key, learning_rates[idx_repetition], n_actions)\n",
                "    importance_iteration = jnp.ones(max_bellman_iterations + 1)\n",
                "    importance_iteration = importance_iteration.at[-1].set(0)\n",
                "\n",
                "    for _ in tqdm(range(training_steps)):\n",
                "        params_target = pbo_non_linear.params\n",
                "\n",
                "        for _ in range(fitting_steps):\n",
                "            data_loader_weights.shuffle()\n",
                "            for batch_weights in data_loader_weights:\n",
                "                data_loader_samples.shuffle()\n",
                "                for batch_samples in data_loader_samples:\n",
                "                    pbo_non_linear.params, pbo_non_linear.optimizer_state, _ = pbo_non_linear.learn_on_batch(\n",
                "                        pbo_non_linear.params, params_target, pbo_non_linear.optimizer_state, batch_weights, batch_samples, importance_iteration\n",
                "                    )\n",
                "\n",
                "    pbos_params.append(pbo_non_linear.params)\n",
                "    print(\"Samples with \", n_repetitions_list[idx_repetition], \" repetions.\")\n",
                "    \n",
                "    batch_iterated_weights = validation_initial_weight.reshape((1, -1))\n",
                "    for bellman_iteration in range(max_bellman_iterations_validation):\n",
                "        q_i = q.discretize(batch_iterated_weights, states, actions)[0]\n",
                "        batch_iterated_weights = pbo_non_linear(pbo_non_linear.params, batch_iterated_weights)\n",
                "        q_i_plus_1 = q.discretize(batch_iterated_weights, states, actions)[0]\n",
                "        policy_q = q_i_plus_1.argmax(axis=1)\n",
                "\n",
                "        training_losses_non_linear[idx_repetition, bellman_iteration] = jnp.abs(env.apply_bellman_operator(q_i) - q_i_plus_1).mean()\n",
                "        validation_losses_non_linear[idx_repetition, bellman_iteration] = jnp.abs(optimal_q - q_i_plus_1).mean()\n",
                "        value_functions_non_linear[idx_repetition, bellman_iteration] = env.value_function(policy_q)\n",
                "        print(policy_q)"
            ]
        },
        {
            "cell_type": "markdown",
            "metadata": {},
            "source": [
                "## Visualize errors in Q functions"
            ]
        },
        {
            "cell_type": "code",
            "execution_count": 9,
            "metadata": {},
            "outputs": [
                {
                    "data": {
                        "image/png": "[encoded data removed]",
                        "text/plain": [
                            "<Figure size 432x288 with 1 Axes>"
                        ]
                    },
                    "metadata": {
                        "needs_background": "light"
                    },
                    "output_type": "display_data"
                }
            ],
            "source": [
                "import matplotlib.pyplot as plt \n",
                "\n",
                "iterations = range(1, max_bellman_iterations_validation + 1)\n",
                "\n",
                "for idx_repetition in range(len(n_repetitions_list)):\n",
                "    plt.plot(iterations, validation_losses_non_linear[idx_repetition], label=f\"pbo max-linear with {n_repetitions_list[idx_repetition]} repetitions\", linestyle=\"--\")\n",
                "plt.plot(iterations, validation_losses_optimal, label=\"pbo optimal\", color=\"black\")\n",
                "plt.vlines(max_bellman_iterations, 0, np.max(validation_losses_non_linear), color=\"black\", linestyle=\"--\")\n",
                "\n",
                "plt.xticks(iterations)\n",
                "plt.xlabel(\"iterations\")\n",
                "\n",
                "plt.title(r\"$|| Q^* - Q_i ||_1$\")\n",
                "_ = plt.legend()"
            ]
        },
        {
            "cell_type": "code",
            "execution_count": 10,
            "metadata": {},
            "outputs": [
                {
                    "data": {
                        "image/png": "[encoded data removed]",
                        "text/plain": [
                            "<Figure size 432x288 with 1 Axes>"
                        ]
                    },
                    "metadata": {
                        "needs_background": "light"
                    },
                    "output_type": "display_data"
                }
            ],
            "source": [
                "for idx_repetition in range(len(n_repetitions_list)):\n",
                "    plt.plot(iterations, training_losses_non_linear[idx_repetition], label=f\"pbo max-linear with {n_repetitions_list[idx_repetition]} repetitions\")\n",
                "plt.plot(iterations, training_losses_optimal, label=\"pbo optimal\", color=\"black\")\n",
                "plt.vlines(max_bellman_iterations, 0, np.max(training_losses_non_linear), color=\"black\", linestyle=\"--\")\n",
                "\n",
                "plt.xticks(iterations)\n",
                "plt.xlabel(\"iterations\")\n",
                "\n",
                "plt.title(r\"$|| \\Gamma^*Q_{i-1} - Q_i ||_1$\")\n",
                "_ = plt.legend()"
            ]
        },
        {
            "cell_type": "markdown",
            "metadata": {},
            "source": [
                "## Distance between empirical and theoretical probabilities"
            ]
        },
        {
            "cell_type": "code",
            "execution_count": 11,
            "metadata": {},
            "outputs": [
                {
                    "name": "stdout",
                    "output_type": "stream",
                    "text": [
                        "-- For 2 repetitions --\n",
                        "Probability transition:\n",
                        "Empirical vs Theoretical -  2.0297782\n",
                        "Empirical vs Learnt -  4.0774107\n",
                        "Theoretical vs Learnt -  4.314335\n",
                        "\n",
                        "Reward:\n",
                        "Empirical vs Theoretical -  0.0\n",
                        "Empirical vs Learnt -  1.3715454\n",
                        "Theoretical vs Learnt -  1.3715454\n",
                        "\n",
                        "-- For 5 repetitions --\n",
                        "Probability transition:\n",
                        "Empirical vs Theoretical -  1.2328827\n",
                        "Empirical vs Learnt -  2.9206367\n",
                        "Theoretical vs Learnt -  3.0949497\n",
                        "\n",
                        "Reward:\n",
                        "Empirical vs Theoretical -  0.0\n",
                        "Empirical vs Learnt -  0.84773463\n",
                        "Theoretical vs Learnt -  0.84773463\n",
                        "\n",
                        "-- For 20 repetitions --\n",
                        "Probability transition:\n",
                        "Empirical vs Theoretical -  0.6284902\n",
                        "Empirical vs Learnt -  1.4766539\n",
                        "Theoretical vs Learnt -  1.5559386\n",
                        "\n",
                        "Reward:\n",
                        "Empirical vs Theoretical -  0.0\n",
                        "Empirical vs Learnt -  0.2550987\n",
                        "Theoretical vs Learnt -  0.2550987\n",
                        "\n"
                    ]
                }
            ],
            "source": [
                "for idx_repetition in range(len(n_repetitions_list)):\n",
                "    empirical_transition_proba = np.zeros((n_states, n_states * n_actions))\n",
                "    empirical_reward = np.zeros(n_states * n_actions)\n",
                "\n",
                "    for idx_sample in range(len(replay_buffers[idx_repetition].states)):\n",
                "        state = replay_buffers[idx_repetition].states[idx_sample, 0]\n",
                "        action = replay_buffers[idx_repetition].actions[idx_sample, 0]\n",
                "        reward = replay_buffers[idx_repetition].rewards[idx_sample, 0]\n",
                "        next_state = replay_buffers[idx_repetition].next_states[idx_sample, 0]\n",
                "\n",
                "        empirical_transition_proba[next_state, state * n_actions + action] += 1 \n",
                "        empirical_reward[state * n_actions + action] += reward\n",
                "\n",
                "    empirical_transition_proba /= n_repetitions_list[idx_repetition]\n",
                "    empirical_reward /= n_repetitions_list[idx_repetition]\n",
                "\n",
                "    print(f\"-- For {n_repetitions_list[idx_repetition]} repetitions --\")\n",
                "    print(f\"Probability transition:\")\n",
                "    print(\"Empirical vs Theoretical - \", np.linalg.norm(empirical_transition_proba - env.transition_proba.T))\n",
                "    print(\"Empirical vs Learnt - \", np.linalg.norm(empirical_transition_proba - pbos_params[idx_repetition][\"TabularPBONet/linear\"][\"w\"] / gamma))\n",
                "    print(\"Theoretical vs Learnt - \", np.linalg.norm(env.transition_proba.T - pbos_params[idx_repetition][\"TabularPBONet/linear\"][\"w\"] / gamma))\n",
                "    print(\"\\nReward:\")\n",
                "    print(\"Empirical vs Theoretical - \", np.linalg.norm(empirical_reward - env.R.T))\n",
                "    print(\"Empirical vs Learnt - \", np.linalg.norm(empirical_reward - pbos_params[idx_repetition][\"TabularPBONet/linear\"][\"b\"]))\n",
                "    print(\"Theoretical vs Learnt - \", np.linalg.norm(env.R.T - pbos_params[idx_repetition][\"TabularPBONet/linear\"][\"b\"]))\n",
                "    print()\n"
            ]
        },
        {
            "cell_type": "markdown",
            "metadata": {},
            "source": [
                "## Visualize errors in preformances"
            ]
        },
        {
            "cell_type": "code",
            "execution_count": 12,
            "metadata": {},
            "outputs": [
                {
                    "data": {
                        "image/png": "[encoded data removed]",
                        "text/plain": [
                            "<Figure size 432x288 with 1 Axes>"
                        ]
                    },
                    "metadata": {
                        "needs_background": "light"
                    },
                    "output_type": "display_data"
                }
            ],
            "source": [
                "for idx_repetition in range(len(n_repetitions_list)):\n",
                "    plt.plot(iterations, np.abs(value_functions_non_linear[idx_repetition] - optimal_v).mean(axis=1), label=f\"pbo max-linear with {n_repetitions_list[idx_repetition]} repetitions\", linestyle=\"--\")\n",
                "plt.plot(iterations, np.abs(value_functions_optimal - optimal_v).mean(axis=1), label=\"pbo optimal\", color=\"black\")\n",
                "plt.vlines(max_bellman_iterations, 0, np.abs(value_functions_non_linear[0] - optimal_v).mean(axis=1).max(), color=\"black\", linestyle=\"--\")\n",
                "\n",
                "plt.xticks(iterations)\n",
                "plt.ylim(0)\n",
                "plt.xlabel(\"iterations\")\n",
                "\n",
                "plt.title(r\"$E[| V^*(s) - V^{\\pi}(s) |]$\")\n",
                "_ = plt.legend()"
            ]
        }
    ],
    "metadata": {
        "interpreter": {
            "hash": "1432d270abb514d077d760a4c8d2edd41cc0752b595b0513fca29951003961c1"
        },
        "kernelspec": {
            "display_name": "Python 3.8.10 ('env': venv)",
            "language": "python",
            "name": "python3"
        },
        "language_info": {
            "codemirror_mode": {
                "name": "ipython",
                "version": 3
            },
            "file_extension": ".py",
            "mimetype": "text/x-python",
            "name": "python",
            "nbconvert_exporter": "python",
            "pygments_lexer": "ipython3",
            "version": "3.8.10"
        },
        "orig_nbformat": 4
    },
    "nbformat": 4,
    "nbformat_minor": 2
}
