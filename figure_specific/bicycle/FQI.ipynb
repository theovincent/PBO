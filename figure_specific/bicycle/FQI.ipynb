{
    "cells": [
        {
            "cell_type": "markdown",
            "metadata": {},
            "source": [
                "# FQI on Bicycle\n",
                "\n",
                "## Define parameters"
            ]
        },
        {
            "cell_type": "code",
            "execution_count": 1,
            "metadata": {
                "execution": {
                    "iopub.execute_input": "2022-09-09T17:47:01.044515Z",
                    "iopub.status.busy": "2022-09-09T17:47:01.043728Z",
                    "iopub.status.idle": "2022-09-09T17:47:01.685665Z",
                    "shell.execute_reply": "2022-09-09T17:47:01.685182Z"
                }
            },
            "outputs": [
                {
                    "name": "stderr",
                    "output_type": "stream",
                    "text": [
                        "WARNING:absl:No GPU/TPU found, falling back to CPU. (Set TF_CPP_MIN_LOG_LEVEL=0 and rerun for more info.)\n"
                    ]
                }
            ],
            "source": [
                "%load_ext autoreload\n",
                "%autoreload 2\n",
                "\n",
                "import warnings\n",
                "warnings.simplefilter(action='ignore', category=FutureWarning)\n",
                "import jax\n",
                "import jax.numpy as jnp\n",
                "import os\n",
                "import json\n",
                "\n",
                "parameters = json.load(open(\"parameters.json\"))\n",
                "env_seed = parameters[\"env_seed\"]\n",
                "gamma = parameters[\"gamma\"]\n",
                "# Sample collection\n",
                "n_samples = parameters[\"n_samples\"]\n",
                "\n",
                "# Trainings\n",
                "layers_dimension = parameters[\"layers_dimension\"]\n",
                "max_bellman_iterations = parameters[\"max_bellman_iterations\"]\n",
                "batch_size_samples = n_samples\n",
                "fitting_steps = parameters[\"fitting_steps_fqi\"]\n",
                "learning_rate = {\"first\": parameters[\"starting_lr_fqi\"], \"last\": parameters[\"ending_lr_fqi\"], \"duration\": fitting_steps * n_samples // batch_size_samples}\n",
                "max_patience = parameters[\"patience\"]\n",
                "\n",
                "# Visualisation of errors and performances\n",
                "n_omegas = parameters[\"n_omegas\"]\n",
                "n_thetas = parameters[\"n_thetas\"]\n",
                "horizon = parameters[\"horizon\"]\n",
                "\n",
                "# Search for an unused seed\n",
                "max_used_seed = 0\n",
                "if not os.path.exists(\"figures/data/FQI/\"):\n",
                "    os.makedirs(\"figures/data/FQI/\")\n",
                "for file in os.listdir(\"figures/data/FQI/\"):\n",
                "    if int(file.split(\"_\")[0]) == max_bellman_iterations and int(file.split(\"_\")[2][:-4]) > max_used_seed:\n",
                "        max_used_seed = int(file.split(\"_\")[2][:-4])\n",
                "max_used_seed\n",
                "\n",
                "# keys\n",
                "seed = 0 # max_used_seed + 1\n",
                "env_key = jax.random.PRNGKey(env_seed)\n",
                "env_key, sample_key = jax.random.split(env_key)\n",
                "key = jax.random.PRNGKey(seed)\n",
                "shuffle_key, q_network_key, _ = jax.random.split(key, 3) # 3 keys are generated to be coherent with the other trainings"
            ]
        },
        {
            "cell_type": "markdown",
            "metadata": {},
            "source": [
                "## Define environment"
            ]
        },
        {
            "cell_type": "code",
            "execution_count": 2,
            "metadata": {
                "execution": {
                    "iopub.execute_input": "2022-09-09T17:47:01.688227Z",
                    "iopub.status.busy": "2022-09-09T17:47:01.688020Z",
                    "iopub.status.idle": "2022-09-09T17:47:01.749254Z",
                    "shell.execute_reply": "2022-09-09T17:47:01.748770Z"
                }
            },
            "outputs": [],
            "source": [
                "import numpy as np\n",
                "\n",
                "from pbo.environments.bicycle import BicycleEnv\n",
                "\n",
                "\n",
                "env = BicycleEnv(env_key)"
            ]
        },
        {
            "cell_type": "markdown",
            "metadata": {},
            "source": [
                "## Collect samples"
            ]
        },
        {
            "cell_type": "markdown",
            "metadata": {},
            "source": [
                "### Samples on the mesh and with a uniform policy"
            ]
        },
        {
            "cell_type": "code",
            "execution_count": 3,
            "metadata": {
                "execution": {
                    "iopub.execute_input": "2022-09-09T17:47:01.752962Z",
                    "iopub.status.busy": "2022-09-09T17:47:01.752823Z",
                    "iopub.status.idle": "2022-09-09T17:47:06.231206Z",
                    "shell.execute_reply": "2022-09-09T17:47:06.230686Z"
                }
            },
            "outputs": [
                {
                    "name": "stdout",
                    "output_type": "stream",
                    "text": [
                        "Number of episodes: 1000\n"
                    ]
                }
            ],
            "source": [
                "from pbo.sample_collection.replay_buffer import ReplayBuffer\n",
                "\n",
                "\n",
                "replay_buffer = ReplayBuffer()\n",
                "\n",
                "env.reset()\n",
                "n_episodes = 0\n",
                "n_steps = 0\n",
                "positions = [[env.position]]\n",
                "\n",
                "for idx_sample in range(n_samples):\n",
                "    state = env.state\n",
                "    \n",
                "    sample_key, key = jax.random.split(sample_key)\n",
                "    action = jax.random.choice(key, env.actions_on_max)\n",
                "    \n",
                "    next_state, reward, absorbing, _ = env.step(action)\n",
                "    n_steps += 1\n",
                "    positions[n_episodes].append(env.position)\n",
                "\n",
                "    replay_buffer.add(state, action, reward, next_state, absorbing)\n",
                "\n",
                "    if absorbing[0] or n_steps >= 20:\n",
                "        env.reset()\n",
                "        positions[n_episodes] = np.array(positions[n_episodes])\n",
                "        positions.append([])\n",
                "        n_episodes += 1\n",
                "        n_steps = 0\n",
                "\n",
                "replay_buffer.cast_to_jax_array()\n",
                "# assert sum(replay_buffer.rewards == -1) > 0, \"No negative reward has been sampled, please do something!\"\n",
                "print(f\"Number of episodes: {n_episodes}\")"
            ]
        },
        {
            "cell_type": "markdown",
            "metadata": {},
            "source": [
                "### Visualize samples"
            ]
        },
        {
            "cell_type": "code",
            "execution_count": 4,
            "metadata": {},
            "outputs": [
                {
                    "data": {
                        "image/png": "[encoded data removed]",
                        "text/plain": [
                            "<Figure size 432x288 with 2 Axes>"
                        ]
                    },
                    "metadata": {
                        "needs_background": "light"
                    },
                    "output_type": "display_data"
                }
            ],
            "source": [
                "import matplotlib.pyplot as plt\n",
                "\n",
                "fig, (ax1, ax2) = plt.subplots(2, 1, sharex=True)\n",
                "\n",
                "for episode in range(n_episodes):\n",
                "    ax1.plot(positions[episode][:, 0], positions[episode][:, 1], color=\"black\")\n",
                "\n",
                "    for step in range(len(positions[episode])):\n",
                "        ax2.plot(positions[episode][step, [0, 2]], positions[episode][step, [1, 3]], color=\"black\")\n",
                "\n",
                "\n",
                "ax1.get_xaxis().set_visible(False)\n",
                "ax1.spines[\"bottom\"].set_visible(False)\n",
                "ax1.set_ylabel(\"y\")\n",
                "ax1.set_title(f\"Back tire\")\n",
                "ax2.set_xlabel(\"x\")\n",
                "ax2.set_ylabel(\"y\")\n",
                "ax2.set_title(f\"Bicycle\", y=0, pad=-30, verticalalignment=\"top\")\n",
                "\n",
                "plt.subplots_adjust(hspace=0)"
            ]
        },
        {
            "cell_type": "code",
            "execution_count": 5,
            "metadata": {},
            "outputs": [
                {
                    "data": {
                        "image/png": "[encoded data removed]",
                        "text/plain": [
                            "<Figure size 432x288 with 1 Axes>"
                        ]
                    },
                    "metadata": {
                        "needs_background": "light"
                    },
                    "output_type": "display_data"
                }
            ],
            "source": [
                "omegas = jnp.linspace(replay_buffer.states[:, 0].min(), replay_buffer.states[:, 0].max(), n_omegas)\n",
                "omega_dots = jnp.linspace(replay_buffer.states[:, 1].min(), replay_buffer.states[:, 1].max(), n_omegas)\n",
                "\n",
                "sample_key, key = jax.random.split(sample_key)\n",
                "sample_omegas_omega_dots = jax.random.choice(key, replay_buffer.states[:, :2], shape=(n_samples // 100,), replace=False)\n",
                "\n",
                "thetas = jnp.linspace(replay_buffer.states[:, 2].min(), replay_buffer.states[:, 2].max(), n_thetas)\n",
                "theta_dots = jnp.linspace(replay_buffer.states[:, 3].min(), replay_buffer.states[:, 3].max(), n_thetas)\n",
                "\n",
                "sample_key, key = jax.random.split(sample_key)\n",
                "sample_thetas_theta_dots = jax.random.choice(key, replay_buffer.states[:, 2:5], shape=(n_samples // 100,), replace=False)\n",
                "\n",
                "sample_key, key = jax.random.split(sample_key)\n",
                "sample_psis = jax.random.choice(key, replay_buffer.states[:, 4], shape=(n_samples // 100,), replace=False)\n",
                "\n",
                "_ = plt.hist(np.array(replay_buffer.rewards.flatten()), 100)"
            ]
        },
        {
            "cell_type": "markdown",
            "metadata": {},
            "source": [
                "## Train FQI"
            ]
        },
        {
            "cell_type": "code",
            "execution_count": 1,
            "metadata": {
                "execution": {
                    "iopub.execute_input": "2022-09-09T17:47:09.381707Z",
                    "iopub.status.busy": "2022-09-09T17:47:09.381574Z",
                    "iopub.status.idle": "2022-09-09T17:49:11.314879Z",
                    "shell.execute_reply": "2022-09-09T17:49:11.314352Z"
                }
            },
            "outputs": [
                {
                    "name": "stderr",
                    "output_type": "stream",
                    "text": [
                        "/home/vincent/Darmstadt/PBO/env_cpu/lib/python3.8/site-packages/haiku/_src/data_structures.py:37: FutureWarning: jax.tree_structure is deprecated, and will be removed in a future release. Use jax.tree_util.tree_structure instead.\n",
                        "  PyTreeDef = type(jax.tree_structure(None))\n",
                        "/home/vincent/Darmstadt/PBO/env_cpu/lib/python3.8/site-packages/chex/_src/pytypes.py:37: FutureWarning: jax.tree_structure is deprecated, and will be removed in a future release. Use jax.tree_util.tree_structure instead.\n",
                        "  PyTreeDef = type(jax.tree_structure(None))\n"
                    ]
                },
                {
                    "ename": "NameError",
                    "evalue": "name 'replay_buffer' is not defined",
                    "output_type": "error",
                    "traceback": [
                        "\u001b[0;31m---------------------------------------------------------------------------\u001b[0m",
                        "\u001b[0;31mNameError\u001b[0m                                 Traceback (most recent call last)",
                        "\u001b[1;32m/home/vincent/Darmstadt/PBO/figure_specific/bicycle/FQI.ipynb Cell 12\u001b[0m in \u001b[0;36m<cell line: 8>\u001b[0;34m()\u001b[0m\n\u001b[1;32m      <a href='vscode-notebook-cell:/home/vincent/Darmstadt/PBO/figure_specific/bicycle/FQI.ipynb#X14sZmlsZQ%3D%3D?line=3'>4</a>\u001b[0m \u001b[39mfrom\u001b[39;00m \u001b[39mpbo\u001b[39;00m\u001b[39m.\u001b[39;00m\u001b[39msample_collection\u001b[39;00m\u001b[39m.\u001b[39;00m\u001b[39mdataloader\u001b[39;00m \u001b[39mimport\u001b[39;00m SampleDataLoader\n\u001b[1;32m      <a href='vscode-notebook-cell:/home/vincent/Darmstadt/PBO/figure_specific/bicycle/FQI.ipynb#X14sZmlsZQ%3D%3D?line=4'>5</a>\u001b[0m \u001b[39mfrom\u001b[39;00m \u001b[39mpbo\u001b[39;00m\u001b[39m.\u001b[39;00m\u001b[39mnetworks\u001b[39;00m\u001b[39m.\u001b[39;00m\u001b[39mlearnable_q\u001b[39;00m \u001b[39mimport\u001b[39;00m FullyConnectedQ\n\u001b[0;32m----> <a href='vscode-notebook-cell:/home/vincent/Darmstadt/PBO/figure_specific/bicycle/FQI.ipynb#X14sZmlsZQ%3D%3D?line=7'>8</a>\u001b[0m data_loader_samples \u001b[39m=\u001b[39m SampleDataLoader(replay_buffer, batch_size_samples, shuffle_key)\n\u001b[1;32m      <a href='vscode-notebook-cell:/home/vincent/Darmstadt/PBO/figure_specific/bicycle/FQI.ipynb#X14sZmlsZQ%3D%3D?line=8'>9</a>\u001b[0m q \u001b[39m=\u001b[39m FullyConnectedQ(\n\u001b[1;32m     <a href='vscode-notebook-cell:/home/vincent/Darmstadt/PBO/figure_specific/bicycle/FQI.ipynb#X14sZmlsZQ%3D%3D?line=9'>10</a>\u001b[0m     state_dim\u001b[39m=\u001b[39m\u001b[39m5\u001b[39m,\n\u001b[1;32m     <a href='vscode-notebook-cell:/home/vincent/Darmstadt/PBO/figure_specific/bicycle/FQI.ipynb#X14sZmlsZQ%3D%3D?line=10'>11</a>\u001b[0m     action_dim\u001b[39m=\u001b[39m\u001b[39m2\u001b[39m,\n\u001b[0;32m   (...)\u001b[0m\n\u001b[1;32m     <a href='vscode-notebook-cell:/home/vincent/Darmstadt/PBO/figure_specific/bicycle/FQI.ipynb#X14sZmlsZQ%3D%3D?line=16'>17</a>\u001b[0m     learning_rate\u001b[39m=\u001b[39mlearning_rate\n\u001b[1;32m     <a href='vscode-notebook-cell:/home/vincent/Darmstadt/PBO/figure_specific/bicycle/FQI.ipynb#X14sZmlsZQ%3D%3D?line=17'>18</a>\u001b[0m )\n\u001b[1;32m     <a href='vscode-notebook-cell:/home/vincent/Darmstadt/PBO/figure_specific/bicycle/FQI.ipynb#X14sZmlsZQ%3D%3D?line=19'>20</a>\u001b[0m omega_visu_mesh \u001b[39m=\u001b[39m TwoDimesionsMesh(omegas, omega_dots, sleeping_time\u001b[39m=\u001b[39m\u001b[39m0\u001b[39m, axis_equal\u001b[39m=\u001b[39m\u001b[39mFalse\u001b[39;00m, zero_centered\u001b[39m=\u001b[39m\u001b[39mTrue\u001b[39;00m)\n",
                        "\u001b[0;31mNameError\u001b[0m: name 'replay_buffer' is not defined"
                    ]
                }
            ],
            "source": [
                "import matplotlib.pyplot as plt\n",
                "\n",
                "from pbo.utils.two_dimesions_mesh import TwoDimesionsMesh\n",
                "from pbo.sample_collection.dataloader import SampleDataLoader\n",
                "from pbo.networks.learnable_q import FullyConnectedQ\n",
                "\n",
                "\n",
                "data_loader_samples = SampleDataLoader(replay_buffer, batch_size_samples, shuffle_key)\n",
                "q = FullyConnectedQ(\n",
                "    state_dim=5,\n",
                "    action_dim=2,\n",
                "    actions_on_max=env.actions_on_max,\n",
                "    gamma=gamma,\n",
                "    network_key=q_network_key,\n",
                "    layers_dimension=layers_dimension,\n",
                "    zero_initializer=True,\n",
                "    learning_rate=learning_rate\n",
                ")\n",
                "\n",
                "omega_visu_mesh = TwoDimesionsMesh(omegas, omega_dots, sleeping_time=0, axis_equal=False, zero_centered=True)\n",
                "theta_visu_mesh = TwoDimesionsMesh(thetas, theta_dots, sleeping_time=0, axis_equal=False, zero_centered=True)\n",
                "l2_losses = np.ones((max_bellman_iterations, fitting_steps)) * np.nan\n",
                "metrics = np.ones((max_bellman_iterations, 2)) * np.nan\n",
                "\n",
                "for bellman_iteration in range(1, max_bellman_iterations + 1):\n",
                "    q.reset_optimizer()\n",
                "    params_target = q.params\n",
                "    best_loss = float('inf')\n",
                "    patience = 0\n",
                "\n",
                "    for step in range(fitting_steps):\n",
                "        cumulative_l2_loss = 0\n",
                "        \n",
                "        data_loader_samples.shuffle()\n",
                "        for batch_samples in data_loader_samples:\n",
                "            q.params, q.optimizer_state, l2_loss = q.learn_on_batch(q.params, params_target, q.optimizer_state, batch_samples)\n",
                "            cumulative_l2_loss += l2_loss\n",
                "\n",
                "        l2_losses[bellman_iteration - 1, step] = cumulative_l2_loss\n",
                "        if cumulative_l2_loss < best_loss:\n",
                "            patience = 0\n",
                "            best_loss = cumulative_l2_loss\n",
                "        else:\n",
                "            patience += 1\n",
                "\n",
                "        if patience > max_patience:\n",
                "            break\n",
                "\n",
                "    metric = env.simulate(q, q.params, horizon)\n",
                "    metrics[bellman_iteration - 1] = metric\n",
                "\n",
                "    d_on_omegas = env.q_values_on_omegas(q, q.params, omegas, omega_dots, sample_thetas_theta_dots, sample_psis)\n",
                "    T_on_thetas = env.q_values_on_thetas(q, q.params, sample_omegas_omega_dots, thetas, theta_dots, sample_psis)\n",
                "\n",
                "    omega_visu_mesh.set_values(d_on_omegas)\n",
                "    omega_visu_mesh.show(r\"Q(d = 1) - Q(d = -1) on some sampled $\\theta$ and $\\dot{\\theta}$,\" + f\"\\nl2 loss: {str(jnp.round(cumulative_l2_loss, 5))}, iteration {bellman_iteration}, step {step + 1}.\", xlabel=r\"$\\omega$\", ylabel=r\"$\\dot{\\omega}$\")\n",
                "    theta_visu_mesh.set_values(T_on_thetas)\n",
                "    theta_visu_mesh.show(r\"Q(T = 1) - Q(T = -1) on some sampled $\\omega$ and $\\dot{\\omega}$\" + f\"\\n{metric[0]} steps, avg \" + r\"$\\psi$: \" + f\"{str(jnp.round(metric[1], 1))}.\", xlabel=r\"$\\theta$\", ylabel=r\"$\\dot{\\theta}$\", clear=False)\n",
                "\n",
                "\n",
                "for bellman_iteration in range(0, max_bellman_iterations, max(max_bellman_iterations // 10, 1)):\n",
                "    plt.plot(l2_losses[bellman_iteration], label=f\"Iteration {bellman_iteration + 1}\")\n",
                "\n",
                "plt.legend()\n",
                "plt.xlabel(\"fitting step\")\n",
                "plt.ylabel(r\"$(\\Gamma^*Q_i - Q_{i +  1})^2$\")\n",
                "plt.title(\"Training losses\")\n",
                "plt.show()"
            ]
        },
        {
            "cell_type": "code",
            "execution_count": null,
            "metadata": {},
            "outputs": [],
            "source": [
                "plt.plot(range(1, max_bellman_iterations + 1), [np.argmin(l) for l in l2_losses])"
            ]
        },
        {
            "cell_type": "code",
            "execution_count": null,
            "metadata": {},
            "outputs": [],
            "source": [
                "fig, (ax1, ax2) = plt.subplots(1, 2)\n",
                "\n",
                "ax1.plot(range(1, max_bellman_iterations + 1), metrics[:, 0])\n",
                "ax2.plot(range(1, max_bellman_iterations + 1), metrics[:, 1])"
            ]
        },
        {
            "cell_type": "code",
            "execution_count": null,
            "metadata": {},
            "outputs": [],
            "source": [
                "positions = env.collect_positions(q, q.params, horizon)\n",
                "\n",
                "plt.plot(positions[:, 0], positions[:, 1], color=\"black\")\n",
                "plt.axis(\"equal\")\n",
                "_ = plt.title(f\"{positions.shape[0]} steps\")"
            ]
        },
        {
            "cell_type": "code",
            "execution_count": null,
            "metadata": {},
            "outputs": [],
            "source": [
                "env.simulate(q, q.params, horizon)"
            ]
        },
        {
            "cell_type": "markdown",
            "metadata": {},
            "source": [
                "## Save the data"
            ]
        },
        {
            "cell_type": "code",
            "execution_count": null,
            "metadata": {
                "execution": {
                    "iopub.execute_input": "2022-09-09T17:49:21.236670Z",
                    "iopub.status.busy": "2022-09-09T17:49:21.236537Z",
                    "iopub.status.idle": "2022-09-09T17:49:21.248253Z",
                    "shell.execute_reply": "2022-09-09T17:49:21.247806Z"
                }
            },
            "outputs": [],
            "source": [
                "np.save(f\"figures/data/FQI/{max_bellman_iterations}_metrics_{seed}.npy\", metrics)"
            ]
        }
    ],
    "metadata": {
        "kernelspec": {
            "display_name": "Python 3.8.10 ('env_cpu': venv)",
            "language": "python",
            "name": "python3"
        },
        "language_info": {
            "codemirror_mode": {
                "name": "ipython",
                "version": 3
            },
            "file_extension": ".py",
            "mimetype": "text/x-python",
            "name": "python",
            "nbconvert_exporter": "python",
            "pygments_lexer": "ipython3",
            "version": "3.8.10"
        },
        "vscode": {
            "interpreter": {
                "hash": "af5525a3273d35d601ae265c5d3634806dd61a1c4d085ae098611a6832982bdb"
            }
        }
    },
    "nbformat": 4,
    "nbformat_minor": 2
}
