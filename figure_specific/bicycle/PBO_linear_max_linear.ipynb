{
 "cells": [
  {
   "cell_type": "markdown",
   "metadata": {},
   "source": [
    "# PBO deep on Bicycle\n",
    "\n",
    "## Define parameters"
   ]
  },
  {
   "cell_type": "code",
   "execution_count": null,
   "metadata": {
    "execution": {
     "iopub.execute_input": "2022-09-25T11:17:55.833392Z",
     "iopub.status.busy": "2022-09-25T11:17:55.832619Z",
     "iopub.status.idle": "2022-09-25T11:17:56.545126Z",
     "shell.execute_reply": "2022-09-25T11:17:56.544674Z"
    }
   },
   "outputs": [],
   "source": [
    "%load_ext autoreload\n",
    "%autoreload 2\n",
    "\n",
    "import warnings\n",
    "warnings.simplefilter(action='ignore', category=FutureWarning)\n",
    "import jax\n",
    "import jax.numpy as jnp\n",
    "import os\n",
    "import json\n",
    "\n",
    "parameters = json.load(open(\"parameters.json\"))\n",
    "env_seed = parameters[\"env_seed\"]\n",
    "gamma = parameters[\"gamma\"]\n",
    "# Sample collection\n",
    "n_samples = parameters[\"n_samples\"]\n",
    "n_weights = parameters[\"n_weights\"]\n",
    "\n",
    "# Trainings\n",
    "layers_dimension = parameters[\"layers_dimension\"]\n",
    "max_bellman_iterations = parameters[\"max_bellman_iterations\"]\n",
    "training_steps = parameters[\"training_steps\"]\n",
    "fitting_steps = parameters[\"fitting_steps_pbo\"]\n",
    "batch_size_samples = parameters[\"batch_size_samples\"]\n",
    "batch_size_weights = parameters[\"batch_size_weights\"]\n",
    "initial_weight_std = parameters[\"initial_weight_std\"]\n",
    "learning_rate = {\"first\": parameters[\"starting_lr_fqi\"], \"last\": parameters[\"ending_lr_fqi\"], \"duration\": training_steps * fitting_steps * n_samples // batch_size_samples}\n",
    "\n",
    "# Visualisation of errors and performances\n",
    "n_omegas = parameters[\"n_omegas\"]\n",
    "n_thetas = parameters[\"n_thetas\"]\n",
    "n_simulations = parameters[\"n_simulations\"]\n",
    "horizon = parameters[\"horizon\"]\n",
    "max_bellman_iterations_validation = max_bellman_iterations + 10\n",
    "plot_freq = 500\n",
    "\n",
    "# Search for an unused seed\n",
    "max_used_seed = 0\n",
    "if not os.path.exists(\"figures/data/PBO_linear_max_linear/\"):\n",
    "    os.makedirs(\"figures/data/PBO_linear_max_linear/\")\n",
    "for file in os.listdir(\"figures/data/PBO_linear_max_linear/\"):\n",
    "    if int(file.split(\"_\")[0]) == max_bellman_iterations and int(file.split(\"_\")[2][:-4]) > max_used_seed:\n",
    "        max_used_seed = int(file.split(\"_\")[2][:-4])\n",
    "max_used_seed\n",
    "\n",
    "# keys\n",
    "seed = 0 # max_used_seed + 1\n",
    "env_key = jax.random.PRNGKey(env_seed)\n",
    "env_key, sample_key = jax.random.split(env_key)\n",
    "key = jax.random.PRNGKey(seed)\n",
    "shuffle_key, q_network_key, pbo_network_key = jax.random.split(key, 3)"
   ]
  },
  {
   "cell_type": "markdown",
   "metadata": {},
   "source": [
    "## Define environment"
   ]
  },
  {
   "cell_type": "code",
   "execution_count": null,
   "metadata": {
    "execution": {
     "iopub.execute_input": "2022-09-25T11:17:56.547293Z",
     "iopub.status.busy": "2022-09-25T11:17:56.547116Z",
     "iopub.status.idle": "2022-09-25T11:17:56.839849Z",
     "shell.execute_reply": "2022-09-25T11:17:56.839351Z"
    }
   },
   "outputs": [],
   "source": [
    "import numpy as np\n",
    "\n",
    "from pbo.environments.bicycle import BicycleEnv\n",
    "\n",
    "\n",
    "env = BicycleEnv(env_key, gamma)"
   ]
  },
  {
   "cell_type": "markdown",
   "metadata": {},
   "source": [
    "## Collect samples"
   ]
  },
  {
   "cell_type": "markdown",
   "metadata": {},
   "source": [
    "### Samples on the mesh and with a uniform policy"
   ]
  },
  {
   "cell_type": "code",
   "execution_count": null,
   "metadata": {
    "execution": {
     "iopub.execute_input": "2022-09-25T11:17:56.843206Z",
     "iopub.status.busy": "2022-09-25T11:17:56.843065Z",
     "iopub.status.idle": "2022-09-25T11:18:06.926328Z",
     "shell.execute_reply": "2022-09-25T11:18:06.925848Z"
    }
   },
   "outputs": [],
   "source": [
    "from pbo.sample_collection.replay_buffer import ReplayBuffer\n",
    "\n",
    "\n",
    "replay_buffer = ReplayBuffer()\n",
    "\n",
    "env.reset()\n",
    "n_episodes = 0\n",
    "n_steps = 0\n",
    "positions = [[env.position]]\n",
    "\n",
    "for idx_sample in range(n_samples):\n",
    "    state = env.state\n",
    "    \n",
    "    sample_key, key = jax.random.split(sample_key)\n",
    "    action = jax.random.choice(key, env.actions_on_max)\n",
    "    \n",
    "    next_state, reward, absorbing, _ = env.step(action)\n",
    "    n_steps += 1\n",
    "    positions[n_episodes].append(env.position)\n",
    "\n",
    "    replay_buffer.add(state, action, reward, next_state, absorbing)\n",
    "\n",
    "    if absorbing[0] or n_steps >= 20:\n",
    "        env.reset()        \n",
    "        positions[n_episodes] = np.array(positions[n_episodes])\n",
    "        positions.append([])\n",
    "        n_episodes += 1\n",
    "        n_steps = 0\n",
    "\n",
    "replay_buffer.cast_to_jax_array()\n",
    "# assert sum(replay_buffer.rewards == -1) > 0, \"No negative reward has been sampled, please do something!\"\n",
    "print(f\"Number of episodes: {n_episodes}\")"
   ]
  },
  {
   "cell_type": "markdown",
   "metadata": {},
   "source": [
    "### Visualize samples"
   ]
  },
  {
   "cell_type": "code",
   "execution_count": null,
   "metadata": {
    "execution": {
     "iopub.execute_input": "2022-09-25T11:18:06.928173Z",
     "iopub.status.busy": "2022-09-25T11:18:06.928042Z",
     "iopub.status.idle": "2022-09-25T11:18:12.177404Z",
     "shell.execute_reply": "2022-09-25T11:18:12.176945Z"
    }
   },
   "outputs": [],
   "source": [
    "import matplotlib.pyplot as plt\n",
    "\n",
    "fig, (ax1, ax2) = plt.subplots(2, 1, sharex=True)\n",
    "\n",
    "for episode in range(n_episodes):\n",
    "    ax1.plot(positions[episode][:, 0], positions[episode][:, 1], color=\"black\")\n",
    "\n",
    "    for step in range(len(positions[episode])):\n",
    "        ax2.plot(positions[episode][step, [0, 2]], positions[episode][step, [1, 3]], color=\"black\")\n",
    "\n",
    "\n",
    "ax1.get_xaxis().set_visible(False)\n",
    "ax1.spines[\"bottom\"].set_visible(False)\n",
    "ax1.set_ylabel(\"y\")\n",
    "ax1.set_title(f\"Back tire\")\n",
    "ax2.set_xlabel(\"x\")\n",
    "ax2.set_ylabel(\"y\")\n",
    "ax2.set_title(f\"Bicycle\", y=0, pad=-30, verticalalignment=\"top\")\n",
    "\n",
    "plt.subplots_adjust(hspace=0)"
   ]
  },
  {
   "cell_type": "code",
   "execution_count": null,
   "metadata": {
    "execution": {
     "iopub.execute_input": "2022-09-25T11:18:12.179225Z",
     "iopub.status.busy": "2022-09-25T11:18:12.179040Z",
     "iopub.status.idle": "2022-09-25T11:18:12.697563Z",
     "shell.execute_reply": "2022-09-25T11:18:12.697110Z"
    }
   },
   "outputs": [],
   "source": [
    "omegas = jnp.linspace(replay_buffer.states[:, 0].min(), replay_buffer.states[:, 0].max(), n_omegas)\n",
    "omega_dots = jnp.linspace(replay_buffer.states[:, 1].min(), replay_buffer.states[:, 1].max(), n_omegas)\n",
    "\n",
    "sample_key, key = jax.random.split(sample_key)\n",
    "sample_omegas_omega_dots = jax.random.choice(key, replay_buffer.states[:, :2], shape=(min(n_samples // 100, 50),), replace=False)\n",
    "\n",
    "thetas = jnp.linspace(replay_buffer.states[:, 2].min(), replay_buffer.states[:, 2].max(), n_thetas)\n",
    "theta_dots = jnp.linspace(replay_buffer.states[:, 3].min(), replay_buffer.states[:, 3].max(), n_thetas)\n",
    "\n",
    "sample_key, key = jax.random.split(sample_key)\n",
    "sample_thetas_theta_dots = jax.random.choice(key, replay_buffer.states[:, 2:5], shape=(min(n_samples // 100, 50),), replace=False)\n",
    "\n",
    "_ = plt.hist(np.array(replay_buffer.rewards.flatten()), 100)"
   ]
  },
  {
   "cell_type": "markdown",
   "metadata": {},
   "source": [
    "## Collect weights"
   ]
  },
  {
   "cell_type": "code",
   "execution_count": null,
   "metadata": {
    "execution": {
     "iopub.execute_input": "2022-09-25T11:18:12.699412Z",
     "iopub.status.busy": "2022-09-25T11:18:12.699277Z",
     "iopub.status.idle": "2022-09-25T11:18:13.179532Z",
     "shell.execute_reply": "2022-09-25T11:18:13.179055Z"
    }
   },
   "outputs": [],
   "source": [
    "from pbo.weights_collection.weights_buffer import WeightsBuffer\n",
    "from pbo.networks.learnable_q import FullyConnectedQ\n",
    "\n",
    "\n",
    "weights_buffer = WeightsBuffer()\n",
    "\n",
    "# Add the validation weights\n",
    "q = FullyConnectedQ(\n",
    "    state_dim=4,\n",
    "    action_dim=2,\n",
    "    actions_on_max=env.actions_on_max,\n",
    "    gamma=gamma,\n",
    "    network_key=q_network_key,\n",
    "    layers_dimension=layers_dimension,\n",
    "    zero_initializer=True,\n",
    "    learning_rate=learning_rate\n",
    ")\n",
    "validation_weights = q.to_weights(q.params)\n",
    "weights_buffer.add(validation_weights)\n",
    "\n",
    "# Add random weights\n",
    "while len(weights_buffer) < n_weights:\n",
    "    weights = q.random_init_weights()\n",
    "    weights_buffer.add(weights)\n",
    "\n",
    "weights_buffer.cast_to_jax_array()"
   ]
  },
  {
   "cell_type": "markdown",
   "metadata": {},
   "source": [
    "## Train deep PBO"
   ]
  },
  {
   "cell_type": "code",
   "execution_count": null,
   "metadata": {
    "execution": {
     "iopub.execute_input": "2022-09-25T11:18:13.181586Z",
     "iopub.status.busy": "2022-09-25T11:18:13.181446Z",
     "iopub.status.idle": "2022-09-25T11:19:44.866678Z",
     "shell.execute_reply": "2022-09-25T11:19:44.866190Z"
    }
   },
   "outputs": [],
   "source": [
    "import matplotlib.pyplot as plt\n",
    "\n",
    "from pbo.utils.two_dimesions_mesh import TwoDimesionsMesh\n",
    "from pbo.sample_collection.dataloader import SampleDataLoader\n",
    "from pbo.weights_collection.dataloader import WeightsDataLoader\n",
    "from pbo.networks.learnable_pbo import LinearMaxLinearPBO\n",
    "\n",
    "\n",
    "omega_visu_mesh = TwoDimesionsMesh(omegas, omega_dots, sleeping_time=0, axis_equal=False, zero_centered=True)\n",
    "theta_visu_mesh = TwoDimesionsMesh(thetas, theta_dots, sleeping_time=0, axis_equal=False, zero_centered=True)\n",
    "data_loader_samples = SampleDataLoader(replay_buffer, batch_size_samples, shuffle_key)\n",
    "data_loader_weights = WeightsDataLoader(weights_buffer, batch_size_weights, shuffle_key)\n",
    "pbo = LinearMaxLinearPBO(\n",
    "    q=q,\n",
    "    max_bellman_iterations=max_bellman_iterations,\n",
    "    network_key=pbo_network_key,\n",
    "    learning_rate=learning_rate,\n",
    "    initial_weight_std=initial_weight_std\n",
    ")\n",
    "importance_iteration = jnp.ones(max_bellman_iterations + 1)\n",
    "\n",
    "l2_losses = np.ones((training_steps, fitting_steps)) * np.nan\n",
    "\n",
    "for training_step in range(training_steps):\n",
    "    params_target = pbo.params\n",
    "\n",
    "    for fitting_step in range(fitting_steps):\n",
    "        cumulative_l2_loss = 0\n",
    "\n",
    "        data_loader_weights.shuffle()\n",
    "        for batch_weights in data_loader_weights:\n",
    "            data_loader_samples.shuffle()\n",
    "            for batch_samples in data_loader_samples:\n",
    "                pbo.params, pbo.optimizer_state, l2_loss = pbo.learn_on_batch(\n",
    "                    pbo.params, params_target, pbo.optimizer_state, batch_weights, batch_samples, importance_iteration\n",
    "                )\n",
    "                cumulative_l2_loss += l2_loss\n",
    "        \n",
    "        l2_losses[training_step, fitting_step] = cumulative_l2_loss\n",
    "\n",
    "    if (training_step + 1) % plot_freq == 0 or training_step + 1 == training_steps:\n",
    "        q_weight = validation_weights\n",
    "        for _ in range(max_bellman_iterations):\n",
    "            q_weight = pbo(pbo.params, q_weight.reshape((1, -1)))[0]\n",
    "\n",
    "        metric = env.evaluate(q, q.to_params(q_weight), horizon, n_simulations=1)\n",
    "\n",
    "        d_on_omegas = env.best_action_on_omegas(q, q.to_params(q_weight), omegas, omega_dots, sample_thetas_theta_dots)\n",
    "        T_on_thetas = env.best_action_on_thetas(q, q.to_params(q_weight), sample_omegas_omega_dots, thetas, theta_dots)\n",
    "\n",
    "        omega_visu_mesh.set_values(d_on_omegas)\n",
    "        omega_visu_mesh.show(r\"d on some sampled $\\theta$ and $\\dot{\\theta}$,\" + f\"\\nl2 loss: {str(jnp.round(cumulative_l2_loss, 5))}, iteration {training_step + 1}.\", xlabel=r\"$\\omega$\", ylabel=r\"$\\dot{\\omega}$\")\n",
    "        theta_visu_mesh.set_values(T_on_thetas)\n",
    "        theta_visu_mesh.show(r\"T on some sampled $\\omega$ and $\\dot{\\omega}$\" + f\"\\n{metric[:, 0].mean()} steps, V = {str(jnp.round(metric[:, 1].mean(), 1))}.\", xlabel=r\"$\\theta$\", ylabel=r\"$\\dot{\\theta}$\", clear=False)\n",
    "\n",
    "plt.plot(l2_losses.flatten())\n",
    "\n",
    "plt.xlabel(\"training step x fitting step\")\n",
    "plt.ylabel(r\"$\\sum_{k} \\left(\\Gamma^*Q_{\\Gamma_{\\phi_i}^k(w)} - Q_{\\Gamma_{\\phi_{i + 1}}^{k + 1}(w)} \\right)^2$\")\n",
    "plt.title(\"Training losses\")\n",
    "plt.show()"
   ]
  },
  {
   "cell_type": "code",
   "execution_count": null,
   "metadata": {
    "execution": {
     "iopub.execute_input": "2022-09-25T11:19:44.868546Z",
     "iopub.status.busy": "2022-09-25T11:19:44.868376Z",
     "iopub.status.idle": "2022-09-25T11:19:45.247816Z",
     "shell.execute_reply": "2022-09-25T11:19:45.247413Z"
    }
   },
   "outputs": [],
   "source": [
    "test_bellman_iterations = max_bellman_iterations\n",
    "\n",
    "q_weight = validation_weights\n",
    "for _ in range(test_bellman_iterations):\n",
    "    q_weight = pbo(pbo.params, q_weight.reshape((1, -1)))[0]\n",
    "\n",
    "metric = env.evaluate(q, q.to_params(q_weight), horizon, n_simulations=1)\n",
    "\n",
    "d_on_omegas = env.best_action_on_omegas(q, q.to_params(q_weight), omegas, omega_dots, sample_thetas_theta_dots)\n",
    "T_on_thetas = env.best_action_on_thetas(q, q.to_params(q_weight), sample_omegas_omega_dots, thetas, theta_dots)\n",
    "\n",
    "omega_visu_mesh.set_values(d_on_omegas)\n",
    "omega_visu_mesh.show(r\"d on some sampled $\\theta$ and $\\dot{\\theta}$,\" + f\"\\nBellman iteration {test_bellman_iterations}\", xlabel=r\"$\\omega$\", ylabel=r\"$\\dot{\\omega}$\")\n",
    "theta_visu_mesh.set_values(T_on_thetas)\n",
    "theta_visu_mesh.show(r\"T on some sampled $\\omega$ and $\\dot{\\omega}$\" + f\"\\n{metric[:, 0].mean()} steps, V = {str(jnp.round(metric[:, 1].mean(), 1))}.\", xlabel=r\"$\\theta$\", ylabel=r\"$\\dot{\\theta}$\", clear=False)"
   ]
  },
  {
   "cell_type": "code",
   "execution_count": null,
   "metadata": {
    "execution": {
     "iopub.execute_input": "2022-09-25T11:19:45.249655Z",
     "iopub.status.busy": "2022-09-25T11:19:45.249485Z",
     "iopub.status.idle": "2022-09-25T11:19:45.562252Z",
     "shell.execute_reply": "2022-09-25T11:19:45.561797Z"
    }
   },
   "outputs": [],
   "source": [
    "positions = env.collect_positions(q, q.to_params(q_weight), horizon)\n",
    "\n",
    "plt.plot(positions[:, 0], positions[:, 1], color=\"black\")\n",
    "plt.axis(\"equal\")\n",
    "_ = plt.title(f\"{positions.shape[0]} steps\")"
   ]
  },
  {
   "cell_type": "code",
   "execution_count": null,
   "metadata": {
    "execution": {
     "iopub.execute_input": "2022-09-25T11:19:45.563981Z",
     "iopub.status.busy": "2022-09-25T11:19:45.563812Z",
     "iopub.status.idle": "2022-09-25T11:19:45.575317Z",
     "shell.execute_reply": "2022-09-25T11:19:45.574887Z"
    }
   },
   "outputs": [],
   "source": [
    "# env.simulate(q, q.params, horizon, 0)"
   ]
  },
  {
   "cell_type": "markdown",
   "metadata": {},
   "source": [
    "## Save the data"
   ]
  },
  {
   "cell_type": "code",
   "execution_count": null,
   "metadata": {
    "execution": {
     "iopub.execute_input": "2022-09-25T11:19:45.577021Z",
     "iopub.status.busy": "2022-09-25T11:19:45.576860Z",
     "iopub.status.idle": "2022-09-25T11:19:47.350134Z",
     "shell.execute_reply": "2022-09-25T11:19:47.349786Z"
    }
   },
   "outputs": [],
   "source": [
    "from tqdm.notebook import tqdm\n",
    "\n",
    "\n",
    "metrics = np.ones((max_bellman_iterations_validation + 1, n_simulations, 2)) * np.nan\n",
    "q_weights = validation_weights\n",
    "\n",
    "metrics[0] = env.evaluate(q, q.to_params(q_weights), horizon, n_simulations)\n",
    "\n",
    "for bellman_iteration in tqdm(range(1, max_bellman_iterations_validation + 1)):\n",
    "    q_weights = pbo(pbo.params, q_weights.reshape((1, -1)))[0]\n",
    "\n",
    "    metrics[bellman_iteration] = env.evaluate(q, q.to_params(q_weights), horizon, n_simulations)"
   ]
  },
  {
   "cell_type": "code",
   "execution_count": null,
   "metadata": {
    "execution": {
     "iopub.execute_input": "2022-09-25T11:19:47.351872Z",
     "iopub.status.busy": "2022-09-25T11:19:47.351733Z",
     "iopub.status.idle": "2022-09-25T11:19:47.475470Z",
     "shell.execute_reply": "2022-09-25T11:19:47.475010Z"
    }
   },
   "outputs": [],
   "source": [
    "fig, (ax1, ax2) = plt.subplots(1, 2)\n",
    "\n",
    "ax1.plot(range(max_bellman_iterations_validation + 1), metrics[:, :, 0].mean(axis=1))\n",
    "ax1.set_xticks(range(max_bellman_iterations_validation + 1))\n",
    "ax2.plot(range(max_bellman_iterations_validation + 1), metrics[:, :, 1].mean(axis=1))"
   ]
  },
  {
   "cell_type": "code",
   "execution_count": null,
   "metadata": {
    "execution": {
     "iopub.execute_input": "2022-09-25T11:19:47.477239Z",
     "iopub.status.busy": "2022-09-25T11:19:47.477101Z",
     "iopub.status.idle": "2022-09-25T11:19:47.487753Z",
     "shell.execute_reply": "2022-09-25T11:19:47.487313Z"
    }
   },
   "outputs": [],
   "source": [
    "np.save(f\"figures/data/PBO_linear_max_linear/{max_bellman_iterations}_metrics_{seed}.npy\", metrics)"
   ]
  }
 ],
 "metadata": {
  "kernelspec": {
   "display_name": "Python 3.8.10 ('env_cpu': venv)",
   "language": "python",
   "name": "python3"
  },
  "language_info": {
   "codemirror_mode": {
    "name": "ipython",
    "version": 3
   },
   "file_extension": ".py",
   "mimetype": "text/x-python",
   "name": "python",
   "nbconvert_exporter": "python",
   "pygments_lexer": "ipython3",
   "version": "3.8.10"
  },
  "vscode": {
   "interpreter": {
    "hash": "af5525a3273d35d601ae265c5d3634806dd61a1c4d085ae098611a6832982bdb"
   }
  },
  "widgets": {
   "application/vnd.jupyter.widget-state+json": {
    "state": {
     "21a3f58b75e44d46943a72a5f2b9f7d1": {
      "model_module": "@jupyter-widgets/controls",
      "model_module_version": "1.5.0",
      "model_name": "HBoxModel",
      "state": {
       "_dom_classes": [],
       "_model_module": "@jupyter-widgets/controls",
       "_model_module_version": "1.5.0",
       "_model_name": "HBoxModel",
       "_view_count": null,
       "_view_module": "@jupyter-widgets/controls",
       "_view_module_version": "1.5.0",
       "_view_name": "HBoxView",
       "box_style": "",
       "children": [
        "IPY_MODEL_c730b827749547ee88166ea6fd7cc49d",
        "IPY_MODEL_c9b33ffc575e4a14b0a583f0f7ee6f47",
        "IPY_MODEL_3451b8f5272f482d843096564c89710d"
       ],
       "layout": "IPY_MODEL_eb756bcac20449bcaafe67779d60fffe"
      }
     },
     "3451b8f5272f482d843096564c89710d": {
      "model_module": "@jupyter-widgets/controls",
      "model_module_version": "1.5.0",
      "model_name": "HTMLModel",
      "state": {
       "_dom_classes": [],
       "_model_module": "@jupyter-widgets/controls",
       "_model_module_version": "1.5.0",
       "_model_name": "HTMLModel",
       "_view_count": null,
       "_view_module": "@jupyter-widgets/controls",
       "_view_module_version": "1.5.0",
       "_view_name": "HTMLView",
       "description": "",
       "description_tooltip": null,
       "layout": "IPY_MODEL_f159743818464396ae667bbd07dd522a",
       "placeholder": "​",
       "style": "IPY_MODEL_cf2adb4cc2754dd58259dd3cbfd9edc4",
       "value": " 18/18 [00:01&lt;00:00,  9.96it/s]"
      }
     },
     "49f83dc9ba1548529bad9b2e58ee0f58": {
      "model_module": "@jupyter-widgets/base",
      "model_module_version": "1.2.0",
      "model_name": "LayoutModel",
      "state": {
       "_model_module": "@jupyter-widgets/base",
       "_model_module_version": "1.2.0",
       "_model_name": "LayoutModel",
       "_view_count": null,
       "_view_module": "@jupyter-widgets/base",
       "_view_module_version": "1.2.0",
       "_view_name": "LayoutView",
       "align_content": null,
       "align_items": null,
       "align_self": null,
       "border": null,
       "bottom": null,
       "display": null,
       "flex": null,
       "flex_flow": null,
       "grid_area": null,
       "grid_auto_columns": null,
       "grid_auto_flow": null,
       "grid_auto_rows": null,
       "grid_column": null,
       "grid_gap": null,
       "grid_row": null,
       "grid_template_areas": null,
       "grid_template_columns": null,
       "grid_template_rows": null,
       "height": null,
       "justify_content": null,
       "justify_items": null,
       "left": null,
       "margin": null,
       "max_height": null,
       "max_width": null,
       "min_height": null,
       "min_width": null,
       "object_fit": null,
       "object_position": null,
       "order": null,
       "overflow": null,
       "overflow_x": null,
       "overflow_y": null,
       "padding": null,
       "right": null,
       "top": null,
       "visibility": null,
       "width": null
      }
     },
     "5a3a39d90fa34751b772120767bfc437": {
      "model_module": "@jupyter-widgets/controls",
      "model_module_version": "1.5.0",
      "model_name": "ProgressStyleModel",
      "state": {
       "_model_module": "@jupyter-widgets/controls",
       "_model_module_version": "1.5.0",
       "_model_name": "ProgressStyleModel",
       "_view_count": null,
       "_view_module": "@jupyter-widgets/base",
       "_view_module_version": "1.2.0",
       "_view_name": "StyleView",
       "bar_color": null,
       "description_width": ""
      }
     },
     "5cd025a291954dd5bd7dee43266561dd": {
      "model_module": "@jupyter-widgets/controls",
      "model_module_version": "1.5.0",
      "model_name": "DescriptionStyleModel",
      "state": {
       "_model_module": "@jupyter-widgets/controls",
       "_model_module_version": "1.5.0",
       "_model_name": "DescriptionStyleModel",
       "_view_count": null,
       "_view_module": "@jupyter-widgets/base",
       "_view_module_version": "1.2.0",
       "_view_name": "StyleView",
       "description_width": ""
      }
     },
     "8d6428e0ef484a6bb36d7db4526afd6e": {
      "model_module": "@jupyter-widgets/base",
      "model_module_version": "1.2.0",
      "model_name": "LayoutModel",
      "state": {
       "_model_module": "@jupyter-widgets/base",
       "_model_module_version": "1.2.0",
       "_model_name": "LayoutModel",
       "_view_count": null,
       "_view_module": "@jupyter-widgets/base",
       "_view_module_version": "1.2.0",
       "_view_name": "LayoutView",
       "align_content": null,
       "align_items": null,
       "align_self": null,
       "border": null,
       "bottom": null,
       "display": null,
       "flex": null,
       "flex_flow": null,
       "grid_area": null,
       "grid_auto_columns": null,
       "grid_auto_flow": null,
       "grid_auto_rows": null,
       "grid_column": null,
       "grid_gap": null,
       "grid_row": null,
       "grid_template_areas": null,
       "grid_template_columns": null,
       "grid_template_rows": null,
       "height": null,
       "justify_content": null,
       "justify_items": null,
       "left": null,
       "margin": null,
       "max_height": null,
       "max_width": null,
       "min_height": null,
       "min_width": null,
       "object_fit": null,
       "object_position": null,
       "order": null,
       "overflow": null,
       "overflow_x": null,
       "overflow_y": null,
       "padding": null,
       "right": null,
       "top": null,
       "visibility": null,
       "width": null
      }
     },
     "c730b827749547ee88166ea6fd7cc49d": {
      "model_module": "@jupyter-widgets/controls",
      "model_module_version": "1.5.0",
      "model_name": "HTMLModel",
      "state": {
       "_dom_classes": [],
       "_model_module": "@jupyter-widgets/controls",
       "_model_module_version": "1.5.0",
       "_model_name": "HTMLModel",
       "_view_count": null,
       "_view_module": "@jupyter-widgets/controls",
       "_view_module_version": "1.5.0",
       "_view_name": "HTMLView",
       "description": "",
       "description_tooltip": null,
       "layout": "IPY_MODEL_49f83dc9ba1548529bad9b2e58ee0f58",
       "placeholder": "​",
       "style": "IPY_MODEL_5cd025a291954dd5bd7dee43266561dd",
       "value": "100%"
      }
     },
     "c9b33ffc575e4a14b0a583f0f7ee6f47": {
      "model_module": "@jupyter-widgets/controls",
      "model_module_version": "1.5.0",
      "model_name": "FloatProgressModel",
      "state": {
       "_dom_classes": [],
       "_model_module": "@jupyter-widgets/controls",
       "_model_module_version": "1.5.0",
       "_model_name": "FloatProgressModel",
       "_view_count": null,
       "_view_module": "@jupyter-widgets/controls",
       "_view_module_version": "1.5.0",
       "_view_name": "ProgressView",
       "bar_style": "success",
       "description": "",
       "description_tooltip": null,
       "layout": "IPY_MODEL_8d6428e0ef484a6bb36d7db4526afd6e",
       "max": 18,
       "min": 0,
       "orientation": "horizontal",
       "style": "IPY_MODEL_5a3a39d90fa34751b772120767bfc437",
       "value": 18
      }
     },
     "cf2adb4cc2754dd58259dd3cbfd9edc4": {
      "model_module": "@jupyter-widgets/controls",
      "model_module_version": "1.5.0",
      "model_name": "DescriptionStyleModel",
      "state": {
       "_model_module": "@jupyter-widgets/controls",
       "_model_module_version": "1.5.0",
       "_model_name": "DescriptionStyleModel",
       "_view_count": null,
       "_view_module": "@jupyter-widgets/base",
       "_view_module_version": "1.2.0",
       "_view_name": "StyleView",
       "description_width": ""
      }
     },
     "eb756bcac20449bcaafe67779d60fffe": {
      "model_module": "@jupyter-widgets/base",
      "model_module_version": "1.2.0",
      "model_name": "LayoutModel",
      "state": {
       "_model_module": "@jupyter-widgets/base",
       "_model_module_version": "1.2.0",
       "_model_name": "LayoutModel",
       "_view_count": null,
       "_view_module": "@jupyter-widgets/base",
       "_view_module_version": "1.2.0",
       "_view_name": "LayoutView",
       "align_content": null,
       "align_items": null,
       "align_self": null,
       "border": null,
       "bottom": null,
       "display": null,
       "flex": null,
       "flex_flow": null,
       "grid_area": null,
       "grid_auto_columns": null,
       "grid_auto_flow": null,
       "grid_auto_rows": null,
       "grid_column": null,
       "grid_gap": null,
       "grid_row": null,
       "grid_template_areas": null,
       "grid_template_columns": null,
       "grid_template_rows": null,
       "height": null,
       "justify_content": null,
       "justify_items": null,
       "left": null,
       "margin": null,
       "max_height": null,
       "max_width": null,
       "min_height": null,
       "min_width": null,
       "object_fit": null,
       "object_position": null,
       "order": null,
       "overflow": null,
       "overflow_x": null,
       "overflow_y": null,
       "padding": null,
       "right": null,
       "top": null,
       "visibility": null,
       "width": null
      }
     },
     "f159743818464396ae667bbd07dd522a": {
      "model_module": "@jupyter-widgets/base",
      "model_module_version": "1.2.0",
      "model_name": "LayoutModel",
      "state": {
       "_model_module": "@jupyter-widgets/base",
       "_model_module_version": "1.2.0",
       "_model_name": "LayoutModel",
       "_view_count": null,
       "_view_module": "@jupyter-widgets/base",
       "_view_module_version": "1.2.0",
       "_view_name": "LayoutView",
       "align_content": null,
       "align_items": null,
       "align_self": null,
       "border": null,
       "bottom": null,
       "display": null,
       "flex": null,
       "flex_flow": null,
       "grid_area": null,
       "grid_auto_columns": null,
       "grid_auto_flow": null,
       "grid_auto_rows": null,
       "grid_column": null,
       "grid_gap": null,
       "grid_row": null,
       "grid_template_areas": null,
       "grid_template_columns": null,
       "grid_template_rows": null,
       "height": null,
       "justify_content": null,
       "justify_items": null,
       "left": null,
       "margin": null,
       "max_height": null,
       "max_width": null,
       "min_height": null,
       "min_width": null,
       "object_fit": null,
       "object_position": null,
       "order": null,
       "overflow": null,
       "overflow_x": null,
       "overflow_y": null,
       "padding": null,
       "right": null,
       "top": null,
       "visibility": null,
       "width": null
      }
     }
    },
    "version_major": 2,
    "version_minor": 0
   }
  }
 },
 "nbformat": 4,
 "nbformat_minor": 2
}
