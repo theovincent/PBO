{
 "cells": [
  {
   "cell_type": "markdown",
   "metadata": {},
   "source": [
    "# PBO deep on Bicycle\n",
    "\n",
    "## Define parameters"
   ]
  },
  {
   "cell_type": "code",
   "execution_count": 1,
   "metadata": {
    "execution": {
     "iopub.execute_input": "2022-09-20T20:27:25.981312Z",
     "iopub.status.busy": "2022-09-20T20:27:25.981134Z",
     "iopub.status.idle": "2022-09-20T20:27:26.602858Z",
     "shell.execute_reply": "2022-09-20T20:27:26.600807Z"
    }
   },
   "outputs": [
    {
     "name": "stderr",
     "output_type": "stream",
     "text": [
      "WARNING:absl:No GPU/TPU found, falling back to CPU. (Set TF_CPP_MIN_LOG_LEVEL=0 and rerun for more info.)\n"
     ]
    }
   ],
   "source": [
    "%load_ext autoreload\n",
    "%autoreload 2\n",
    "\n",
    "import warnings\n",
    "warnings.simplefilter(action='ignore', category=FutureWarning)\n",
    "import jax\n",
    "import jax.numpy as jnp\n",
    "import os\n",
    "import json\n",
    "\n",
    "parameters = json.load(open(\"parameters.json\"))\n",
    "env_seed = parameters[\"env_seed\"]\n",
    "gamma = parameters[\"gamma\"]\n",
    "# Sample collection\n",
    "n_samples = parameters[\"n_samples\"]\n",
    "n_weights = parameters[\"n_weights\"]\n",
    "\n",
    "# Trainings\n",
    "layers_dimension = parameters[\"layers_dimension\"]\n",
    "max_bellman_iterations = parameters[\"max_bellman_iterations\"]\n",
    "training_steps = parameters[\"training_steps\"]\n",
    "fitting_steps = parameters[\"fitting_steps_pbo\"]\n",
    "batch_size_samples = parameters[\"batch_size_samples\"]\n",
    "batch_size_weights = parameters[\"batch_size_weights\"]\n",
    "initial_weight_std = parameters[\"initial_weight_std\"]\n",
    "learning_rate = {\"first\": parameters[\"starting_lr_fqi\"], \"last\": parameters[\"ending_lr_fqi\"], \"duration\": training_steps * fitting_steps * n_samples // batch_size_samples}\n",
    "\n",
    "# Visualisation of errors and performances\n",
    "n_omegas = parameters[\"n_omegas\"]\n",
    "n_thetas = parameters[\"n_thetas\"]\n",
    "n_simulations = parameters[\"n_simulations\"]\n",
    "horizon = parameters[\"horizon\"]\n",
    "max_bellman_iterations_validation = max_bellman_iterations + 10\n",
    "plot_freq = 500\n",
    "\n",
    "# Search for an unused seed\n",
    "max_used_seed = 0\n",
    "if not os.path.exists(\"figures/data/PBO_linear_max_linear/\"):\n",
    "    os.makedirs(\"figures/data/PBO_linear_max_linear/\")\n",
    "for file in os.listdir(\"figures/data/PBO_linear_max_linear/\"):\n",
    "    if int(file.split(\"_\")[0]) == max_bellman_iterations and int(file.split(\"_\")[2][:-4]) > max_used_seed:\n",
    "        max_used_seed = int(file.split(\"_\")[2][:-4])\n",
    "max_used_seed\n",
    "\n",
    "# keys\n",
    "seed = max_used_seed + 1\n",
    "env_key = jax.random.PRNGKey(env_seed)\n",
    "env_key, sample_key = jax.random.split(env_key)\n",
    "key = jax.random.PRNGKey(seed)\n",
    "shuffle_key, q_network_key, pbo_network_key = jax.random.split(key, 3)"
   ]
  },
  {
   "cell_type": "markdown",
   "metadata": {},
   "source": [
    "## Define environment"
   ]
  },
  {
   "cell_type": "code",
   "execution_count": 2,
   "metadata": {
    "execution": {
     "iopub.execute_input": "2022-09-20T20:27:26.612722Z",
     "iopub.status.busy": "2022-09-20T20:27:26.612301Z",
     "iopub.status.idle": "2022-09-20T20:27:26.699175Z",
     "shell.execute_reply": "2022-09-20T20:27:26.698678Z"
    }
   },
   "outputs": [],
   "source": [
    "import numpy as np\n",
    "\n",
    "from pbo.environments.bicycle import BicycleEnv\n",
    "\n",
    "\n",
    "env = BicycleEnv(env_key, gamma)"
   ]
  },
  {
   "cell_type": "markdown",
   "metadata": {},
   "source": [
    "## Collect samples"
   ]
  },
  {
   "cell_type": "markdown",
   "metadata": {},
   "source": [
    "### Samples on the mesh and with a uniform policy"
   ]
  },
  {
   "cell_type": "code",
   "execution_count": 3,
   "metadata": {
    "execution": {
     "iopub.execute_input": "2022-09-20T20:27:26.701390Z",
     "iopub.status.busy": "2022-09-20T20:27:26.701221Z",
     "iopub.status.idle": "2022-09-20T20:27:32.054530Z",
     "shell.execute_reply": "2022-09-20T20:27:32.054047Z"
    }
   },
   "outputs": [
    {
     "name": "stdout",
     "output_type": "stream",
     "text": [
      "Number of episodes: 375\n"
     ]
    }
   ],
   "source": [
    "from pbo.sample_collection.replay_buffer import ReplayBuffer\n",
    "\n",
    "\n",
    "replay_buffer = ReplayBuffer()\n",
    "\n",
    "env.reset()\n",
    "n_episodes = 0\n",
    "n_steps = 0\n",
    "positions = [[env.position]]\n",
    "\n",
    "for idx_sample in range(n_samples):\n",
    "    state = env.state\n",
    "    \n",
    "    sample_key, key = jax.random.split(sample_key)\n",
    "    action = jax.random.choice(key, env.actions_on_max)\n",
    "    \n",
    "    next_state, reward, absorbing, _ = env.step(action)\n",
    "    n_steps += 1\n",
    "    positions[n_episodes].append(env.position)\n",
    "\n",
    "    replay_buffer.add(state, action, reward, next_state, absorbing)\n",
    "\n",
    "    if absorbing[0] or n_steps >= 20:\n",
    "        env.reset()\n",
    "        positions[n_episodes] = np.array(positions[n_episodes])\n",
    "        positions.append([])\n",
    "        n_episodes += 1\n",
    "        n_steps = 0\n",
    "\n",
    "replay_buffer.cast_to_jax_array()\n",
    "# assert sum(replay_buffer.rewards == -1) > 0, \"No negative reward has been sampled, please do something!\"\n",
    "print(f\"Number of episodes: {n_episodes}\")"
   ]
  },
  {
   "cell_type": "markdown",
   "metadata": {},
   "source": [
    "### Visualize samples"
   ]
  },
  {
   "cell_type": "code",
   "execution_count": 4,
   "metadata": {
    "execution": {
     "iopub.execute_input": "2022-09-20T20:27:32.133797Z",
     "iopub.status.busy": "2022-09-20T20:27:32.133629Z",
     "iopub.status.idle": "2022-09-20T20:27:35.714576Z",
     "shell.execute_reply": "2022-09-20T20:27:35.714108Z"
    }
   },
   "outputs": [
    {
     "data": {
      "image/png": "[encoded data removed]",
      "text/plain": [
       "<Figure size 432x288 with 2 Axes>"
      ]
     },
     "metadata": {
      "needs_background": "light"
     },
     "output_type": "display_data"
    }
   ],
   "source": [
    "import matplotlib.pyplot as plt\n",
    "\n",
    "fig, (ax1, ax2) = plt.subplots(2, 1, sharex=True)\n",
    "\n",
    "for episode in range(n_episodes):\n",
    "    ax1.plot(positions[episode][:, 0], positions[episode][:, 1], color=\"black\")\n",
    "\n",
    "    for step in range(len(positions[episode])):\n",
    "        ax2.plot(positions[episode][step, [0, 2]], positions[episode][step, [1, 3]], color=\"black\")\n",
    "\n",
    "\n",
    "ax1.get_xaxis().set_visible(False)\n",
    "ax1.spines[\"bottom\"].set_visible(False)\n",
    "ax1.set_ylabel(\"y\")\n",
    "ax1.set_title(f\"Back tire\")\n",
    "ax2.set_xlabel(\"x\")\n",
    "ax2.set_ylabel(\"y\")\n",
    "ax2.set_title(f\"Bicycle\", y=0, pad=-30, verticalalignment=\"top\")\n",
    "\n",
    "plt.subplots_adjust(hspace=0)"
   ]
  },
  {
   "cell_type": "code",
   "execution_count": 5,
   "metadata": {
    "execution": {
     "iopub.execute_input": "2022-09-20T20:27:35.716413Z",
     "iopub.status.busy": "2022-09-20T20:27:35.716195Z",
     "iopub.status.idle": "2022-09-20T20:27:35.893752Z",
     "shell.execute_reply": "2022-09-20T20:27:35.893293Z"
    }
   },
   "outputs": [
    {
     "data": {
      "image/png": "[encoded data removed]",
      "text/plain": [
       "<Figure size 432x288 with 1 Axes>"
      ]
     },
     "metadata": {
      "needs_background": "light"
     },
     "output_type": "display_data"
    }
   ],
   "source": [
    "omegas = jnp.linspace(replay_buffer.states[:, 0].min(), replay_buffer.states[:, 0].max(), n_omegas)\n",
    "omega_dots = jnp.linspace(replay_buffer.states[:, 1].min(), replay_buffer.states[:, 1].max(), n_omegas)\n",
    "\n",
    "sample_key, key = jax.random.split(sample_key)\n",
    "sample_omegas_omega_dots = jax.random.choice(key, replay_buffer.states[:, :2], shape=(min(n_samples // 100, 50),), replace=False)\n",
    "\n",
    "thetas = jnp.linspace(replay_buffer.states[:, 2].min(), replay_buffer.states[:, 2].max(), n_thetas)\n",
    "theta_dots = jnp.linspace(replay_buffer.states[:, 3].min(), replay_buffer.states[:, 3].max(), n_thetas)\n",
    "\n",
    "sample_key, key = jax.random.split(sample_key)\n",
    "sample_thetas_theta_dots = jax.random.choice(key, replay_buffer.states[:, 2:5], shape=(min(n_samples // 100, 50),), replace=False)\n",
    "\n",
    "_ = plt.hist(np.array(replay_buffer.rewards.flatten()), 100)"
   ]
  },
  {
   "cell_type": "markdown",
   "metadata": {},
   "source": [
    "## Collect weights"
   ]
  },
  {
   "cell_type": "code",
   "execution_count": 6,
   "metadata": {
    "execution": {
     "iopub.execute_input": "2022-09-20T20:27:35.895628Z",
     "iopub.status.busy": "2022-09-20T20:27:35.895464Z",
     "iopub.status.idle": "2022-09-20T20:27:36.219993Z",
     "shell.execute_reply": "2022-09-20T20:27:36.219495Z"
    }
   },
   "outputs": [],
   "source": [
    "from pbo.weights_collection.weights_buffer import WeightsBuffer\n",
    "from pbo.networks.learnable_q import FullyConnectedQ\n",
    "\n",
    "\n",
    "weights_buffer = WeightsBuffer()\n",
    "\n",
    "# Add the validation weights\n",
    "q = FullyConnectedQ(\n",
    "    state_dim=4,\n",
    "    action_dim=2,\n",
    "    actions_on_max=env.actions_on_max,\n",
    "    gamma=gamma,\n",
    "    network_key=q_network_key,\n",
    "    layers_dimension=layers_dimension,\n",
    "    zero_initializer=True,\n",
    "    learning_rate=learning_rate\n",
    ")\n",
    "validation_weights = q.to_weights(q.params)\n",
    "weights_buffer.add(validation_weights)\n",
    "\n",
    "# Add random weights\n",
    "while len(weights_buffer) < n_weights:\n",
    "    weights = q.random_init_weights()\n",
    "    weights_buffer.add(weights)\n",
    "\n",
    "weights_buffer.cast_to_jax_array()"
   ]
  },
  {
   "cell_type": "markdown",
   "metadata": {},
   "source": [
    "## Train deep PBO"
   ]
  },
  {
   "cell_type": "code",
   "execution_count": 7,
   "metadata": {
    "execution": {
     "iopub.execute_input": "2022-09-20T20:27:36.222069Z",
     "iopub.status.busy": "2022-09-20T20:27:36.221934Z",
     "iopub.status.idle": "2022-09-20T20:30:19.775833Z",
     "shell.execute_reply": "2022-09-20T20:30:19.775422Z"
    }
   },
   "outputs": [
    {
     "data": {
      "image/png": "[encoded data removed]",
      "text/plain": [
       "<Figure size 432x288 with 2 Axes>"
      ]
     },
     "metadata": {
      "needs_background": "light"
     },
     "output_type": "display_data"
    },
    {
     "data": {
      "image/png": "[encoded data removed]",
      "text/plain": [
       "<Figure size 432x288 with 2 Axes>"
      ]
     },
     "metadata": {
      "needs_background": "light"
     },
     "output_type": "display_data"
    },
    {
     "data": {
      "image/png": "[encoded data removed]",
      "text/plain": [
       "<Figure size 432x288 with 1 Axes>"
      ]
     },
     "metadata": {
      "needs_background": "light"
     },
     "output_type": "display_data"
    }
   ],
   "source": [
    "import matplotlib.pyplot as plt\n",
    "\n",
    "from pbo.utils.two_dimesions_mesh import TwoDimesionsMesh\n",
    "from pbo.sample_collection.dataloader import SampleDataLoader\n",
    "from pbo.weights_collection.dataloader import WeightsDataLoader\n",
    "from pbo.networks.learnable_pbo import LinearMaxLinearPBO\n",
    "\n",
    "\n",
    "omega_visu_mesh = TwoDimesionsMesh(omegas, omega_dots, sleeping_time=0, axis_equal=False, zero_centered=True)\n",
    "theta_visu_mesh = TwoDimesionsMesh(thetas, theta_dots, sleeping_time=0, axis_equal=False, zero_centered=True)\n",
    "data_loader_samples = SampleDataLoader(replay_buffer, batch_size_samples, shuffle_key)\n",
    "data_loader_weights = WeightsDataLoader(weights_buffer, batch_size_weights, shuffle_key)\n",
    "pbo = LinearMaxLinearPBO(\n",
    "    q=q,\n",
    "    max_bellman_iterations=max_bellman_iterations,\n",
    "    network_key=pbo_network_key,\n",
    "    learning_rate=learning_rate,\n",
    "    initial_weight_std=initial_weight_std\n",
    ")\n",
    "importance_iteration = jnp.ones(max_bellman_iterations + 1)\n",
    "\n",
    "l2_losses = np.ones((training_steps, fitting_steps)) * np.nan\n",
    "\n",
    "for training_step in range(training_steps):\n",
    "    params_target = pbo.params\n",
    "\n",
    "    for fitting_step in range(fitting_steps):\n",
    "        cumulative_l2_loss = 0\n",
    "\n",
    "        data_loader_weights.shuffle()\n",
    "        for batch_weights in data_loader_weights:\n",
    "            data_loader_samples.shuffle()\n",
    "            for batch_samples in data_loader_samples:\n",
    "                pbo.params, pbo.optimizer_state, l2_loss = pbo.learn_on_batch(\n",
    "                    pbo.params, params_target, pbo.optimizer_state, batch_weights, batch_samples, importance_iteration\n",
    "                )\n",
    "                cumulative_l2_loss += l2_loss\n",
    "        \n",
    "        l2_losses[training_step, fitting_step] = cumulative_l2_loss\n",
    "\n",
    "    if (training_step + 1) % plot_freq == 0 or training_step + 1 == training_steps:\n",
    "        q_weight = validation_weights\n",
    "        for _ in range(max_bellman_iterations):\n",
    "            q_weight = pbo(pbo.params, q_weight.reshape((1, -1)))[0]\n",
    "\n",
    "        metric = env.evaluate(q, q.to_params(q_weight), horizon, n_simulations=1)\n",
    "\n",
    "        d_on_omegas = env.q_values_on_omegas(q, q.to_params(q_weight), omegas, omega_dots, sample_thetas_theta_dots)\n",
    "        T_on_thetas = env.q_values_on_thetas(q, q.to_params(q_weight), sample_omegas_omega_dots, thetas, theta_dots)\n",
    "\n",
    "        omega_visu_mesh.set_values(d_on_omegas)\n",
    "        omega_visu_mesh.show(r\"Q(d = 1) - Q(d = -1) on some sampled $\\theta$ and $\\dot{\\theta}$,\" + f\"\\nl2 loss: {str(jnp.round(cumulative_l2_loss, 5))}, iteration {training_step + 1}.\", xlabel=r\"$\\omega$\", ylabel=r\"$\\dot{\\omega}$\")\n",
    "        theta_visu_mesh.set_values(T_on_thetas)\n",
    "        theta_visu_mesh.show(r\"Q(T = 1) - Q(T = -1) on some sampled $\\omega$ and $\\dot{\\omega}$\" + f\"\\n{metric[:, 0].mean()} steps, V = {str(jnp.round(metric[:, 1].mean(), 1))}.\", xlabel=r\"$\\theta$\", ylabel=r\"$\\dot{\\theta}$\", clear=False)\n",
    "\n",
    "plt.plot(l2_losses.flatten())\n",
    "\n",
    "plt.xlabel(\"training step x fitting step\")\n",
    "plt.ylabel(r\"$\\sum_{k} \\left(\\Gamma^*Q_{\\Gamma_{\\phi_i}^k(w)} - Q_{\\Gamma_{\\phi_{i + 1}}^{k + 1}(w)} \\right)^2$\")\n",
    "plt.title(\"Training losses\")\n",
    "plt.show()"
   ]
  },
  {
   "cell_type": "code",
   "execution_count": 8,
   "metadata": {
    "execution": {
     "iopub.execute_input": "2022-09-20T20:30:19.777631Z",
     "iopub.status.busy": "2022-09-20T20:30:19.777456Z",
     "iopub.status.idle": "2022-09-20T20:30:19.970998Z",
     "shell.execute_reply": "2022-09-20T20:30:19.970535Z"
    }
   },
   "outputs": [
    {
     "data": {
      "image/png": "[encoded data removed]",
      "text/plain": [
       "<Figure size 432x288 with 2 Axes>"
      ]
     },
     "metadata": {
      "needs_background": "light"
     },
     "output_type": "display_data"
    },
    {
     "data": {
      "image/png": "[encoded data removed]",
      "text/plain": [
       "<Figure size 432x288 with 2 Axes>"
      ]
     },
     "metadata": {
      "needs_background": "light"
     },
     "output_type": "display_data"
    }
   ],
   "source": [
    "test_bellman_iterations = max_bellman_iterations\n",
    "\n",
    "q_weight = validation_weights\n",
    "for _ in range(test_bellman_iterations):\n",
    "    q_weight = pbo(pbo.params, q_weight.reshape((1, -1)))[0]\n",
    "\n",
    "metric = env.evaluate(q, q.to_params(q_weight), horizon, n_simulations=1)\n",
    "\n",
    "d_on_omegas = env.q_values_on_omegas(q, q.to_params(q_weight), omegas, omega_dots, sample_thetas_theta_dots)\n",
    "T_on_thetas = env.q_values_on_thetas(q, q.to_params(q_weight), sample_omegas_omega_dots, thetas, theta_dots)\n",
    "\n",
    "omega_visu_mesh.set_values(d_on_omegas)\n",
    "omega_visu_mesh.show(r\"Q(d = 1) - Q(d = -1) on some sampled $\\theta$ and $\\dot{\\theta}$,\" + f\"\\nBellman iteration {test_bellman_iterations}\", xlabel=r\"$\\omega$\", ylabel=r\"$\\dot{\\omega}$\")\n",
    "theta_visu_mesh.set_values(T_on_thetas)\n",
    "theta_visu_mesh.show(r\"Q(T = 1) - Q(T = -1) on some sampled $\\omega$ and $\\dot{\\omega}$\" + f\"\\n{metric[:, 0].mean()} steps, V = {str(jnp.round(metric[:, 1].mean(), 1))}.\", xlabel=r\"$\\theta$\", ylabel=r\"$\\dot{\\theta}$\", clear=False)"
   ]
  },
  {
   "cell_type": "code",
   "execution_count": 9,
   "metadata": {},
   "outputs": [
    {
     "data": {
      "image/png": "[encoded data removed]",
      "text/plain": [
       "<Figure size 432x288 with 1 Axes>"
      ]
     },
     "metadata": {
      "needs_background": "light"
     },
     "output_type": "display_data"
    }
   ],
   "source": [
    "positions = env.collect_positions(q, q.to_params(q_weight), horizon)\n",
    "\n",
    "plt.plot(positions[:, 0], positions[:, 1], color=\"black\")\n",
    "plt.axis(\"equal\")\n",
    "_ = plt.title(f\"{positions.shape[0]} steps\")"
   ]
  },
  {
   "cell_type": "code",
   "execution_count": 10,
   "metadata": {
    "execution": {
     "iopub.execute_input": "2022-09-20T20:30:19.972826Z",
     "iopub.status.busy": "2022-09-20T20:30:19.972651Z",
     "iopub.status.idle": "2022-09-20T20:30:19.983655Z",
     "shell.execute_reply": "2022-09-20T20:30:19.983153Z"
    }
   },
   "outputs": [],
   "source": [
    "# env.simulate(q, horizon, jnp.array([-0.5, 0]))"
   ]
  },
  {
   "cell_type": "markdown",
   "metadata": {},
   "source": [
    "## Save the data"
   ]
  },
  {
   "cell_type": "code",
   "execution_count": 11,
   "metadata": {
    "execution": {
     "iopub.execute_input": "2022-09-20T20:30:25.592788Z",
     "iopub.status.busy": "2022-09-20T20:30:25.592614Z",
     "iopub.status.idle": "2022-09-20T20:34:44.427437Z",
     "shell.execute_reply": "2022-09-20T20:34:44.427078Z"
    }
   },
   "outputs": [
    {
     "data": {
      "application/vnd.jupyter.widget-view+json": {
       "model_id": "9d506f600de1453ab71e945a2d1473de",
       "version_major": 2,
       "version_minor": 0
      },
      "text/plain": [
       "  0%|          | 0/18 [00:00<?, ?it/s]"
      ]
     },
     "metadata": {},
     "output_type": "display_data"
    }
   ],
   "source": [
    "from tqdm.notebook import tqdm\n",
    "\n",
    "\n",
    "metrics = np.ones((max_bellman_iterations_validation + 1, n_simulations, 2)) * np.nan\n",
    "q_weights = validation_weights\n",
    "\n",
    "metrics[0] = env.evaluate(q, q.to_params(q_weights), horizon, n_simulations)\n",
    "\n",
    "for bellman_iteration in tqdm(range(1, max_bellman_iterations_validation + 1)):\n",
    "    q_weights = pbo(pbo.params, q_weights.reshape((1, -1)))[0]\n",
    "\n",
    "    metrics[bellman_iteration] = env.evaluate(q, q.to_params(q_weights), horizon, n_simulations)"
   ]
  },
  {
   "cell_type": "code",
   "execution_count": 12,
   "metadata": {},
   "outputs": [
    {
     "data": {
      "text/plain": [
       "[<matplotlib.lines.Line2D at 0x7f86b4d5d700>]"
      ]
     },
     "execution_count": 12,
     "metadata": {},
     "output_type": "execute_result"
    },
    {
     "data": {
      "image/png": "[encoded data removed]",
      "text/plain": [
       "<Figure size 432x288 with 2 Axes>"
      ]
     },
     "metadata": {
      "needs_background": "light"
     },
     "output_type": "display_data"
    }
   ],
   "source": [
    "fig, (ax1, ax2) = plt.subplots(1, 2)\n",
    "\n",
    "ax1.plot(range(max_bellman_iterations_validation + 1), metrics[:, :, 0].mean(axis=1))\n",
    "ax1.set_xticks(range(max_bellman_iterations_validation + 1))\n",
    "ax2.plot(range(max_bellman_iterations_validation + 1), metrics[:, :, 1].mean(axis=1))"
   ]
  },
  {
   "cell_type": "code",
   "execution_count": 13,
   "metadata": {
    "execution": {
     "iopub.execute_input": "2022-09-20T20:34:44.429235Z",
     "iopub.status.busy": "2022-09-20T20:34:44.429054Z",
     "iopub.status.idle": "2022-09-20T20:34:44.439777Z",
     "shell.execute_reply": "2022-09-20T20:34:44.439312Z"
    }
   },
   "outputs": [],
   "source": [
    "np.save(f\"figures/data/PBO_linear_max_linear/{max_bellman_iterations}_metrics_{seed}.npy\", metrics)"
   ]
  }
 ],
 "metadata": {
  "kernelspec": {
   "display_name": "Python 3.8.10 ('env_cpu': venv)",
   "language": "python",
   "name": "python3"
  },
  "language_info": {
   "codemirror_mode": {
    "name": "ipython",
    "version": 3
   },
   "file_extension": ".py",
   "mimetype": "text/x-python",
   "name": "python",
   "nbconvert_exporter": "python",
   "pygments_lexer": "ipython3",
   "version": "3.8.10"
  },
  "vscode": {
   "interpreter": {
    "hash": "af5525a3273d35d601ae265c5d3634806dd61a1c4d085ae098611a6832982bdb"
   }
  },
  "widgets": {
   "application/vnd.jupyter.widget-state+json": {
    "state": {
     "0563c969cb8f44f188d6d0f08b84d9ee": {
      "model_module": "@jupyter-widgets/base",
      "model_module_version": "1.2.0",
      "model_name": "LayoutModel",
      "state": {
       "_model_module": "@jupyter-widgets/base",
       "_model_module_version": "1.2.0",
       "_model_name": "LayoutModel",
       "_view_count": null,
       "_view_module": "@jupyter-widgets/base",
       "_view_module_version": "1.2.0",
       "_view_name": "LayoutView",
       "align_content": null,
       "align_items": null,
       "align_self": null,
       "border": null,
       "bottom": null,
       "display": null,
       "flex": null,
       "flex_flow": null,
       "grid_area": null,
       "grid_auto_columns": null,
       "grid_auto_flow": null,
       "grid_auto_rows": null,
       "grid_column": null,
       "grid_gap": null,
       "grid_row": null,
       "grid_template_areas": null,
       "grid_template_columns": null,
       "grid_template_rows": null,
       "height": null,
       "justify_content": null,
       "justify_items": null,
       "left": null,
       "margin": null,
       "max_height": null,
       "max_width": null,
       "min_height": null,
       "min_width": null,
       "object_fit": null,
       "object_position": null,
       "order": null,
       "overflow": null,
       "overflow_x": null,
       "overflow_y": null,
       "padding": null,
       "right": null,
       "top": null,
       "visibility": null,
       "width": null
      }
     },
     "294f7c13121a44ff9a50c1315692942f": {
      "model_module": "@jupyter-widgets/controls",
      "model_module_version": "1.5.0",
      "model_name": "HTMLModel",
      "state": {
       "_dom_classes": [],
       "_model_module": "@jupyter-widgets/controls",
       "_model_module_version": "1.5.0",
       "_model_name": "HTMLModel",
       "_view_count": null,
       "_view_module": "@jupyter-widgets/controls",
       "_view_module_version": "1.5.0",
       "_view_name": "HTMLView",
       "description": "",
       "description_tooltip": null,
       "layout": "IPY_MODEL_0563c969cb8f44f188d6d0f08b84d9ee",
       "placeholder": "​",
       "style": "IPY_MODEL_faf4b99d0f394d699e7c039356782218",
       "value": "100%"
      }
     },
     "3b646ba793314231963714b481b28f8d": {
      "model_module": "@jupyter-widgets/base",
      "model_module_version": "1.2.0",
      "model_name": "LayoutModel",
      "state": {
       "_model_module": "@jupyter-widgets/base",
       "_model_module_version": "1.2.0",
       "_model_name": "LayoutModel",
       "_view_count": null,
       "_view_module": "@jupyter-widgets/base",
       "_view_module_version": "1.2.0",
       "_view_name": "LayoutView",
       "align_content": null,
       "align_items": null,
       "align_self": null,
       "border": null,
       "bottom": null,
       "display": null,
       "flex": null,
       "flex_flow": null,
       "grid_area": null,
       "grid_auto_columns": null,
       "grid_auto_flow": null,
       "grid_auto_rows": null,
       "grid_column": null,
       "grid_gap": null,
       "grid_row": null,
       "grid_template_areas": null,
       "grid_template_columns": null,
       "grid_template_rows": null,
       "height": null,
       "justify_content": null,
       "justify_items": null,
       "left": null,
       "margin": null,
       "max_height": null,
       "max_width": null,
       "min_height": null,
       "min_width": null,
       "object_fit": null,
       "object_position": null,
       "order": null,
       "overflow": null,
       "overflow_x": null,
       "overflow_y": null,
       "padding": null,
       "right": null,
       "top": null,
       "visibility": null,
       "width": null
      }
     },
     "42b9225db1c94ef0bf9a17aa7830af38": {
      "model_module": "@jupyter-widgets/base",
      "model_module_version": "1.2.0",
      "model_name": "LayoutModel",
      "state": {
       "_model_module": "@jupyter-widgets/base",
       "_model_module_version": "1.2.0",
       "_model_name": "LayoutModel",
       "_view_count": null,
       "_view_module": "@jupyter-widgets/base",
       "_view_module_version": "1.2.0",
       "_view_name": "LayoutView",
       "align_content": null,
       "align_items": null,
       "align_self": null,
       "border": null,
       "bottom": null,
       "display": null,
       "flex": null,
       "flex_flow": null,
       "grid_area": null,
       "grid_auto_columns": null,
       "grid_auto_flow": null,
       "grid_auto_rows": null,
       "grid_column": null,
       "grid_gap": null,
       "grid_row": null,
       "grid_template_areas": null,
       "grid_template_columns": null,
       "grid_template_rows": null,
       "height": null,
       "justify_content": null,
       "justify_items": null,
       "left": null,
       "margin": null,
       "max_height": null,
       "max_width": null,
       "min_height": null,
       "min_width": null,
       "object_fit": null,
       "object_position": null,
       "order": null,
       "overflow": null,
       "overflow_x": null,
       "overflow_y": null,
       "padding": null,
       "right": null,
       "top": null,
       "visibility": null,
       "width": null
      }
     },
     "59ddc25c3321428f8c03683dda44fa66": {
      "model_module": "@jupyter-widgets/controls",
      "model_module_version": "1.5.0",
      "model_name": "HBoxModel",
      "state": {
       "_dom_classes": [],
       "_model_module": "@jupyter-widgets/controls",
       "_model_module_version": "1.5.0",
       "_model_name": "HBoxModel",
       "_view_count": null,
       "_view_module": "@jupyter-widgets/controls",
       "_view_module_version": "1.5.0",
       "_view_name": "HBoxView",
       "box_style": "",
       "children": [
        "IPY_MODEL_294f7c13121a44ff9a50c1315692942f",
        "IPY_MODEL_729723a513324fbe8acdea12625edc6b",
        "IPY_MODEL_ce214779786d491cb0143daa0c97e1a7"
       ],
       "layout": "IPY_MODEL_42b9225db1c94ef0bf9a17aa7830af38"
      }
     },
     "69700b0120414d3bb7bda24e9e0efca7": {
      "model_module": "@jupyter-widgets/base",
      "model_module_version": "1.2.0",
      "model_name": "LayoutModel",
      "state": {
       "_model_module": "@jupyter-widgets/base",
       "_model_module_version": "1.2.0",
       "_model_name": "LayoutModel",
       "_view_count": null,
       "_view_module": "@jupyter-widgets/base",
       "_view_module_version": "1.2.0",
       "_view_name": "LayoutView",
       "align_content": null,
       "align_items": null,
       "align_self": null,
       "border": null,
       "bottom": null,
       "display": null,
       "flex": null,
       "flex_flow": null,
       "grid_area": null,
       "grid_auto_columns": null,
       "grid_auto_flow": null,
       "grid_auto_rows": null,
       "grid_column": null,
       "grid_gap": null,
       "grid_row": null,
       "grid_template_areas": null,
       "grid_template_columns": null,
       "grid_template_rows": null,
       "height": null,
       "justify_content": null,
       "justify_items": null,
       "left": null,
       "margin": null,
       "max_height": null,
       "max_width": null,
       "min_height": null,
       "min_width": null,
       "object_fit": null,
       "object_position": null,
       "order": null,
       "overflow": null,
       "overflow_x": null,
       "overflow_y": null,
       "padding": null,
       "right": null,
       "top": null,
       "visibility": null,
       "width": null
      }
     },
     "729723a513324fbe8acdea12625edc6b": {
      "model_module": "@jupyter-widgets/controls",
      "model_module_version": "1.5.0",
      "model_name": "FloatProgressModel",
      "state": {
       "_dom_classes": [],
       "_model_module": "@jupyter-widgets/controls",
       "_model_module_version": "1.5.0",
       "_model_name": "FloatProgressModel",
       "_view_count": null,
       "_view_module": "@jupyter-widgets/controls",
       "_view_module_version": "1.5.0",
       "_view_name": "ProgressView",
       "bar_style": "success",
       "description": "",
       "description_tooltip": null,
       "layout": "IPY_MODEL_69700b0120414d3bb7bda24e9e0efca7",
       "max": 25,
       "min": 0,
       "orientation": "horizontal",
       "style": "IPY_MODEL_8bf6b052d6904c55a73343f129505271",
       "value": 25
      }
     },
     "8bf6b052d6904c55a73343f129505271": {
      "model_module": "@jupyter-widgets/controls",
      "model_module_version": "1.5.0",
      "model_name": "ProgressStyleModel",
      "state": {
       "_model_module": "@jupyter-widgets/controls",
       "_model_module_version": "1.5.0",
       "_model_name": "ProgressStyleModel",
       "_view_count": null,
       "_view_module": "@jupyter-widgets/base",
       "_view_module_version": "1.2.0",
       "_view_name": "StyleView",
       "bar_color": null,
       "description_width": ""
      }
     },
     "ce214779786d491cb0143daa0c97e1a7": {
      "model_module": "@jupyter-widgets/controls",
      "model_module_version": "1.5.0",
      "model_name": "HTMLModel",
      "state": {
       "_dom_classes": [],
       "_model_module": "@jupyter-widgets/controls",
       "_model_module_version": "1.5.0",
       "_model_name": "HTMLModel",
       "_view_count": null,
       "_view_module": "@jupyter-widgets/controls",
       "_view_module_version": "1.5.0",
       "_view_name": "HTMLView",
       "description": "",
       "description_tooltip": null,
       "layout": "IPY_MODEL_3b646ba793314231963714b481b28f8d",
       "placeholder": "​",
       "style": "IPY_MODEL_e28c2617c4a44c25aa4eaf827538aab9",
       "value": " 25/25 [04:12&lt;00:00,  5.21s/it]"
      }
     },
     "e28c2617c4a44c25aa4eaf827538aab9": {
      "model_module": "@jupyter-widgets/controls",
      "model_module_version": "1.5.0",
      "model_name": "DescriptionStyleModel",
      "state": {
       "_model_module": "@jupyter-widgets/controls",
       "_model_module_version": "1.5.0",
       "_model_name": "DescriptionStyleModel",
       "_view_count": null,
       "_view_module": "@jupyter-widgets/base",
       "_view_module_version": "1.2.0",
       "_view_name": "StyleView",
       "description_width": ""
      }
     },
     "faf4b99d0f394d699e7c039356782218": {
      "model_module": "@jupyter-widgets/controls",
      "model_module_version": "1.5.0",
      "model_name": "DescriptionStyleModel",
      "state": {
       "_model_module": "@jupyter-widgets/controls",
       "_model_module_version": "1.5.0",
       "_model_name": "DescriptionStyleModel",
       "_view_count": null,
       "_view_module": "@jupyter-widgets/base",
       "_view_module_version": "1.2.0",
       "_view_name": "StyleView",
       "description_width": ""
      }
     }
    },
    "version_major": 2,
    "version_minor": 0
   }
  }
 },
 "nbformat": 4,
 "nbformat_minor": 2
}
