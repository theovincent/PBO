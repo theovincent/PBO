{
    "cells": [
        {
            "cell_type": "markdown",
            "metadata": {},
            "source": [
                "# Samples on Bicycle\n",
                "\n",
                "## Define parameters"
            ]
        },
        {
            "cell_type": "code",
            "execution_count": 4,
            "metadata": {
                "execution": {
                    "iopub.execute_input": "2022-09-09T17:47:01.044515Z",
                    "iopub.status.busy": "2022-09-09T17:47:01.043728Z",
                    "iopub.status.idle": "2022-09-09T17:47:01.685665Z",
                    "shell.execute_reply": "2022-09-09T17:47:01.685182Z"
                }
            },
            "outputs": [
                {
                    "name": "stdout",
                    "output_type": "stream",
                    "text": [
                        "The autoreload extension is already loaded. To reload it, use:\n",
                        "  %reload_ext autoreload\n"
                    ]
                }
            ],
            "source": [
                "%load_ext autoreload\n",
                "%autoreload 2\n",
                "\n",
                "import warnings\n",
                "warnings.simplefilter(action='ignore', category=FutureWarning)\n",
                "import jax\n",
                "import jax.numpy as jnp\n",
                "import os\n",
                "import json\n",
                "\n",
                "parameters = json.load(open(\"parameters.json\"))\n",
                "env_seed = parameters[\"env_seed\"]\n",
                "gamma = parameters[\"gamma\"]\n",
                "\n",
                "# Sample collection\n",
                "n_samples = parameters[\"n_samples\"]\n",
                "\n",
                "# Visualisation of errors and performances\n",
                "n_omegas = parameters[\"n_omegas\"]\n",
                "n_thetas = parameters[\"n_thetas\"]\n",
                "\n",
                "# keys\n",
                "env_key = jax.random.PRNGKey(env_seed)\n",
                "env_key, sample_key = jax.random.split(env_key)"
            ]
        },
        {
            "cell_type": "markdown",
            "metadata": {},
            "source": [
                "## Define environment"
            ]
        },
        {
            "cell_type": "code",
            "execution_count": 5,
            "metadata": {
                "execution": {
                    "iopub.execute_input": "2022-09-09T17:47:01.688227Z",
                    "iopub.status.busy": "2022-09-09T17:47:01.688020Z",
                    "iopub.status.idle": "2022-09-09T17:47:01.749254Z",
                    "shell.execute_reply": "2022-09-09T17:47:01.748770Z"
                }
            },
            "outputs": [],
            "source": [
                "import numpy as np\n",
                "\n",
                "from pbo.environments.bicycle import BicycleEnv\n",
                "\n",
                "\n",
                "env = BicycleEnv(env_key)"
            ]
        },
        {
            "cell_type": "markdown",
            "metadata": {},
            "source": [
                "## Collect samples"
            ]
        },
        {
            "cell_type": "markdown",
            "metadata": {},
            "source": [
                "### Samples on the mesh and with a uniform policy"
            ]
        },
        {
            "cell_type": "code",
            "execution_count": 6,
            "metadata": {
                "execution": {
                    "iopub.execute_input": "2022-09-09T17:47:01.752962Z",
                    "iopub.status.busy": "2022-09-09T17:47:01.752823Z",
                    "iopub.status.idle": "2022-09-09T17:47:06.231206Z",
                    "shell.execute_reply": "2022-09-09T17:47:06.230686Z"
                }
            },
            "outputs": [
                {
                    "name": "stdout",
                    "output_type": "stream",
                    "text": [
                        "Number of episodes: 500\n"
                    ]
                }
            ],
            "source": [
                "from pbo.sample_collection.replay_buffer import ReplayBuffer\n",
                "\n",
                "\n",
                "replay_buffer = ReplayBuffer()\n",
                "\n",
                "env.reset()\n",
                "n_episodes = 0\n",
                "n_steps = 0\n",
                "positions = [[env.position]]\n",
                "\n",
                "for idx_sample in range(n_samples):\n",
                "    state = env.state\n",
                "    \n",
                "    sample_key, key = jax.random.split(sample_key)\n",
                "    action = jax.random.choice(key, env.actions_on_max)\n",
                "    \n",
                "    next_state, reward, absorbing, _ = env.step(action)\n",
                "    n_steps += 1\n",
                "    positions[n_episodes].append(env.position)\n",
                "\n",
                "    replay_buffer.add(state, action, reward, next_state, absorbing)\n",
                "\n",
                "    if absorbing[0] or n_steps >= 20:\n",
                "        env.reset()\n",
                "        positions[n_episodes] = np.array(positions[n_episodes])\n",
                "        positions.append([])\n",
                "        n_episodes += 1\n",
                "        n_steps = 0\n",
                "\n",
                "replay_buffer.cast_to_jax_array()\n",
                "# assert sum(replay_buffer.rewards == -1) > 0, \"No negative reward has been sampled, please do something!\"\n",
                "print(f\"Number of episodes: {n_episodes}\")"
            ]
        },
        {
            "cell_type": "markdown",
            "metadata": {},
            "source": [
                "### Visualize samples"
            ]
        },
        {
            "cell_type": "code",
            "execution_count": 7,
            "metadata": {},
            "outputs": [
                {
                    "ename": "KeyboardInterrupt",
                    "evalue": "",
                    "output_type": "error",
                    "traceback": [
                        "\u001b[0;31m---------------------------------------------------------------------------\u001b[0m",
                        "\u001b[0;31mKeyboardInterrupt\u001b[0m                         Traceback (most recent call last)",
                        "\u001b[1;32m/home/vincent/Darmstadt/PBO/figure_specific/bicycle/samples.ipynb Cell 9\u001b[0m in \u001b[0;36m<cell line: 5>\u001b[0;34m()\u001b[0m\n\u001b[1;32m      <a href='vscode-notebook-cell:/home/vincent/Darmstadt/PBO/figure_specific/bicycle/samples.ipynb#X11sZmlsZQ%3D%3D?line=5'>6</a>\u001b[0m     ax1\u001b[39m.\u001b[39mplot(positions[episode][:, \u001b[39m0\u001b[39m], positions[episode][:, \u001b[39m1\u001b[39m], color\u001b[39m=\u001b[39m\u001b[39m\"\u001b[39m\u001b[39mblack\u001b[39m\u001b[39m\"\u001b[39m)\n\u001b[1;32m      <a href='vscode-notebook-cell:/home/vincent/Darmstadt/PBO/figure_specific/bicycle/samples.ipynb#X11sZmlsZQ%3D%3D?line=7'>8</a>\u001b[0m     \u001b[39mfor\u001b[39;00m step \u001b[39min\u001b[39;00m \u001b[39mrange\u001b[39m(\u001b[39mlen\u001b[39m(positions[episode])):\n\u001b[0;32m----> <a href='vscode-notebook-cell:/home/vincent/Darmstadt/PBO/figure_specific/bicycle/samples.ipynb#X11sZmlsZQ%3D%3D?line=8'>9</a>\u001b[0m         ax2\u001b[39m.\u001b[39;49mplot(positions[episode][step, [\u001b[39m0\u001b[39;49m, \u001b[39m2\u001b[39;49m]], positions[episode][step, [\u001b[39m1\u001b[39;49m, \u001b[39m3\u001b[39;49m]], color\u001b[39m=\u001b[39;49m\u001b[39m\"\u001b[39;49m\u001b[39mblack\u001b[39;49m\u001b[39m\"\u001b[39;49m)\n\u001b[1;32m     <a href='vscode-notebook-cell:/home/vincent/Darmstadt/PBO/figure_specific/bicycle/samples.ipynb#X11sZmlsZQ%3D%3D?line=11'>12</a>\u001b[0m ax1\u001b[39m.\u001b[39mget_xaxis()\u001b[39m.\u001b[39mset_visible(\u001b[39mFalse\u001b[39;00m)\n\u001b[1;32m     <a href='vscode-notebook-cell:/home/vincent/Darmstadt/PBO/figure_specific/bicycle/samples.ipynb#X11sZmlsZQ%3D%3D?line=12'>13</a>\u001b[0m ax1\u001b[39m.\u001b[39mspines[\u001b[39m\"\u001b[39m\u001b[39mbottom\u001b[39m\u001b[39m\"\u001b[39m]\u001b[39m.\u001b[39mset_visible(\u001b[39mFalse\u001b[39;00m)\n",
                        "File \u001b[0;32m~/Darmstadt/PBO/env_cpu/lib/python3.8/site-packages/matplotlib/axes/_axes.py:1632\u001b[0m, in \u001b[0;36mAxes.plot\u001b[0;34m(self, scalex, scaley, data, *args, **kwargs)\u001b[0m\n\u001b[1;32m   1390\u001b[0m \u001b[39m\"\"\"\u001b[39;00m\n\u001b[1;32m   1391\u001b[0m \u001b[39mPlot y versus x as lines and/or markers.\u001b[39;00m\n\u001b[1;32m   1392\u001b[0m \n\u001b[0;32m   (...)\u001b[0m\n\u001b[1;32m   1629\u001b[0m \u001b[39m(``'green'``) or hex strings (``'#008000'``).\u001b[39;00m\n\u001b[1;32m   1630\u001b[0m \u001b[39m\"\"\"\u001b[39;00m\n\u001b[1;32m   1631\u001b[0m kwargs \u001b[39m=\u001b[39m cbook\u001b[39m.\u001b[39mnormalize_kwargs(kwargs, mlines\u001b[39m.\u001b[39mLine2D)\n\u001b[0;32m-> 1632\u001b[0m lines \u001b[39m=\u001b[39m [\u001b[39m*\u001b[39m\u001b[39mself\u001b[39m\u001b[39m.\u001b[39m_get_lines(\u001b[39m*\u001b[39margs, data\u001b[39m=\u001b[39mdata, \u001b[39m*\u001b[39m\u001b[39m*\u001b[39mkwargs)]\n\u001b[1;32m   1633\u001b[0m \u001b[39mfor\u001b[39;00m line \u001b[39min\u001b[39;00m lines:\n\u001b[1;32m   1634\u001b[0m     \u001b[39mself\u001b[39m\u001b[39m.\u001b[39madd_line(line)\n",
                        "File \u001b[0;32m~/Darmstadt/PBO/env_cpu/lib/python3.8/site-packages/matplotlib/axes/_base.py:312\u001b[0m, in \u001b[0;36m_process_plot_var_args.__call__\u001b[0;34m(self, data, *args, **kwargs)\u001b[0m\n\u001b[1;32m    310\u001b[0m     this \u001b[39m+\u001b[39m\u001b[39m=\u001b[39m args[\u001b[39m0\u001b[39m],\n\u001b[1;32m    311\u001b[0m     args \u001b[39m=\u001b[39m args[\u001b[39m1\u001b[39m:]\n\u001b[0;32m--> 312\u001b[0m \u001b[39myield from\u001b[39;00m \u001b[39mself\u001b[39;49m\u001b[39m.\u001b[39;49m_plot_args(this, kwargs)\n",
                        "File \u001b[0;32m~/Darmstadt/PBO/env_cpu/lib/python3.8/site-packages/matplotlib/axes/_base.py:538\u001b[0m, in \u001b[0;36m_process_plot_var_args._plot_args\u001b[0;34m(self, tup, kwargs, return_kwargs)\u001b[0m\n\u001b[1;32m    536\u001b[0m     \u001b[39mreturn\u001b[39;00m \u001b[39mlist\u001b[39m(result)\n\u001b[1;32m    537\u001b[0m \u001b[39melse\u001b[39;00m:\n\u001b[0;32m--> 538\u001b[0m     \u001b[39mreturn\u001b[39;00m [l[\u001b[39m0\u001b[39m] \u001b[39mfor\u001b[39;00m l \u001b[39min\u001b[39;00m result]\n",
                        "File \u001b[0;32m~/Darmstadt/PBO/env_cpu/lib/python3.8/site-packages/matplotlib/axes/_base.py:538\u001b[0m, in \u001b[0;36m<listcomp>\u001b[0;34m(.0)\u001b[0m\n\u001b[1;32m    536\u001b[0m     \u001b[39mreturn\u001b[39;00m \u001b[39mlist\u001b[39m(result)\n\u001b[1;32m    537\u001b[0m \u001b[39melse\u001b[39;00m:\n\u001b[0;32m--> 538\u001b[0m     \u001b[39mreturn\u001b[39;00m [l[\u001b[39m0\u001b[39m] \u001b[39mfor\u001b[39;00m l \u001b[39min\u001b[39;00m result]\n",
                        "File \u001b[0;32m~/Darmstadt/PBO/env_cpu/lib/python3.8/site-packages/matplotlib/axes/_base.py:531\u001b[0m, in \u001b[0;36m<genexpr>\u001b[0;34m(.0)\u001b[0m\n\u001b[1;32m    528\u001b[0m \u001b[39melse\u001b[39;00m:\n\u001b[1;32m    529\u001b[0m     labels \u001b[39m=\u001b[39m [label] \u001b[39m*\u001b[39m n_datasets\n\u001b[0;32m--> 531\u001b[0m result \u001b[39m=\u001b[39m (make_artist(x[:, j \u001b[39m%\u001b[39;49m ncx], y[:, j \u001b[39m%\u001b[39;49m ncy], kw,\n\u001b[1;32m    532\u001b[0m                       {\u001b[39m*\u001b[39;49m\u001b[39m*\u001b[39;49mkwargs, \u001b[39m'\u001b[39;49m\u001b[39mlabel\u001b[39;49m\u001b[39m'\u001b[39;49m: label})\n\u001b[1;32m    533\u001b[0m           \u001b[39mfor\u001b[39;00m j, label \u001b[39min\u001b[39;00m \u001b[39menumerate\u001b[39m(labels))\n\u001b[1;32m    535\u001b[0m \u001b[39mif\u001b[39;00m return_kwargs:\n\u001b[1;32m    536\u001b[0m     \u001b[39mreturn\u001b[39;00m \u001b[39mlist\u001b[39m(result)\n",
                        "File \u001b[0;32m~/Darmstadt/PBO/env_cpu/lib/python3.8/site-packages/matplotlib/axes/_base.py:351\u001b[0m, in \u001b[0;36m_process_plot_var_args._makeline\u001b[0;34m(self, x, y, kw, kwargs)\u001b[0m\n\u001b[1;32m    349\u001b[0m default_dict \u001b[39m=\u001b[39m \u001b[39mself\u001b[39m\u001b[39m.\u001b[39m_getdefaults(\u001b[39mset\u001b[39m(), kw)\n\u001b[1;32m    350\u001b[0m \u001b[39mself\u001b[39m\u001b[39m.\u001b[39m_setdefaults(default_dict, kw)\n\u001b[0;32m--> 351\u001b[0m seg \u001b[39m=\u001b[39m mlines\u001b[39m.\u001b[39;49mLine2D(x, y, \u001b[39m*\u001b[39;49m\u001b[39m*\u001b[39;49mkw)\n\u001b[1;32m    352\u001b[0m \u001b[39mreturn\u001b[39;00m seg, kw\n",
                        "File \u001b[0;32m~/Darmstadt/PBO/env_cpu/lib/python3.8/site-packages/matplotlib/lines.py:313\u001b[0m, in \u001b[0;36mLine2D.__init__\u001b[0;34m(self, xdata, ydata, linewidth, linestyle, color, marker, markersize, markeredgewidth, markeredgecolor, markerfacecolor, markerfacecoloralt, fillstyle, antialiased, dash_capstyle, solid_capstyle, dash_joinstyle, solid_joinstyle, pickradius, drawstyle, markevery, **kwargs)\u001b[0m\n\u001b[1;32m    310\u001b[0m \u001b[39msuper\u001b[39m()\u001b[39m.\u001b[39m\u001b[39m__init__\u001b[39m()\n\u001b[1;32m    312\u001b[0m \u001b[39m# Convert sequences to NumPy arrays.\u001b[39;00m\n\u001b[0;32m--> 313\u001b[0m \u001b[39mif\u001b[39;00m \u001b[39mnot\u001b[39;00m np\u001b[39m.\u001b[39;49miterable(xdata):\n\u001b[1;32m    314\u001b[0m     \u001b[39mraise\u001b[39;00m \u001b[39mRuntimeError\u001b[39;00m(\u001b[39m'\u001b[39m\u001b[39mxdata must be a sequence\u001b[39m\u001b[39m'\u001b[39m)\n\u001b[1;32m    315\u001b[0m \u001b[39mif\u001b[39;00m \u001b[39mnot\u001b[39;00m np\u001b[39m.\u001b[39miterable(ydata):\n",
                        "\u001b[0;31mKeyboardInterrupt\u001b[0m: "
                    ]
                },
                {
                    "data": {
                        "image/png": "[encoded data removed]",
                        "text/plain": [
                            "<Figure size 432x288 with 2 Axes>"
                        ]
                    },
                    "metadata": {
                        "needs_background": "light"
                    },
                    "output_type": "display_data"
                }
            ],
            "source": [
                "import matplotlib.pyplot as plt\n",
                "\n",
                "fig, (ax1, ax2) = plt.subplots(2, 1, sharex=True)\n",
                "\n",
                "for episode in range(n_episodes):\n",
                "    ax1.plot(positions[episode][:, 0], positions[episode][:, 1], color=\"black\")\n",
                "\n",
                "    for step in range(len(positions[episode])):\n",
                "        ax2.plot(positions[episode][step, [0, 2]], positions[episode][step, [1, 3]], color=\"black\")\n",
                "\n",
                "\n",
                "ax1.get_xaxis().set_visible(False)\n",
                "ax1.spines[\"bottom\"].set_visible(False)\n",
                "ax1.set_ylabel(\"y\")\n",
                "ax1.set_title(f\"Back tire\")\n",
                "ax2.set_xlabel(\"x\")\n",
                "ax2.set_ylabel(\"y\")\n",
                "ax2.set_title(f\"Bicycle\", y=0, pad=-30, verticalalignment=\"top\")\n",
                "\n",
                "plt.subplots_adjust(hspace=0)"
            ]
        },
        {
            "cell_type": "code",
            "execution_count": null,
            "metadata": {},
            "outputs": [],
            "source": [
                "min_omega = replay_buffer.states[:, 0].min(); max_omega = replay_buffer.states[:, 0].max()\n",
                "omegas = jnp.linspace(min_omega, max_omega, n_omegas)\n",
                "boxes_omega_size = (max_omega - min_omega) / (n_omegas - 1)\n",
                "omega_boxes = (np.linspace(min_omega , max_omega + boxes_omega_size, n_omegas + 1) - boxes_omega_size / 2)\n",
                "\n",
                "min_theta = replay_buffer.states[:, 2].min(); max_theta = replay_buffer.states[:, 2].max()\n",
                "thetas = jnp.linspace(min_theta , max_theta , n_thetas)\n",
                "boxes_theta_size = (max_theta - min_theta) / (n_thetas - 1)\n",
                "theta_boxes = (np.linspace(min_theta , max_theta  + boxes_theta_size, n_thetas + 1) - boxes_theta_size / 2)"
            ]
        },
        {
            "cell_type": "code",
            "execution_count": null,
            "metadata": {
                "execution": {
                    "iopub.execute_input": "2022-09-09T17:47:06.311183Z",
                    "iopub.status.busy": "2022-09-09T17:47:06.311007Z",
                    "iopub.status.idle": "2022-09-09T17:47:09.186465Z",
                    "shell.execute_reply": "2022-09-09T17:47:09.186089Z"
                }
            },
            "outputs": [],
            "source": [
                "from pbo.sample_collection.count_samples import count_samples\n",
                "from pbo.utils.two_dimesions_mesh import TwoDimesionsMesh\n",
                "\n",
                "\n",
                "zero_oder_count, n_outside_boxes, rewards_count = count_samples(replay_buffer.states[:, 0], replay_buffer.states[:, 2], omega_boxes, theta_boxes, replay_buffer.rewards)\n",
                "zero_oder_visu_mesh = TwoDimesionsMesh(omegas, thetas, sleeping_time=0, axis_equal=False)\n",
                "\n",
                "zero_oder_visu_mesh.set_values(zero_oder_count, zeros_to_nan=True)\n",
                "zero_oder_visu_mesh.show(\n",
                "    f\"Samples repartition, \\n{int(100 * n_outside_boxes / n_samples)}% are outside the box.\", xlabel=r\"$\\omega$\", ylabel=r\"$\\theta$\"\n",
                ")"
            ]
        },
        {
            "cell_type": "code",
            "execution_count": null,
            "metadata": {
                "execution": {
                    "iopub.execute_input": "2022-09-09T17:47:09.188664Z",
                    "iopub.status.busy": "2022-09-09T17:47:09.188481Z",
                    "iopub.status.idle": "2022-09-09T17:47:09.379409Z",
                    "shell.execute_reply": "2022-09-09T17:47:09.378983Z"
                }
            },
            "outputs": [],
            "source": [
                "zero_oder_visu_mesh.set_values(rewards_count, zeros_to_nan=True)\n",
                "zero_oder_visu_mesh.show(\n",
                "    f\"Rewards repartition, \\n{int(100 * n_outside_boxes / n_samples)}% are outside the box.\", xlabel=r\"$\\omega$\", ylabel=r\"$\\theta$\"\n",
                ")"
            ]
        },
        {
            "cell_type": "code",
            "execution_count": null,
            "metadata": {},
            "outputs": [],
            "source": [
                "max_omega_dot = replay_buffer.states[:, 1].max(); min_omega_dot = replay_buffer.states[:, 1].min()\n",
                "omega_dots = jnp.linspace(min_omega_dot, max_omega_dot, n_omegas)\n",
                "boxes_omega_dots_size = (max_omega_dot - min_omega_dot) / (n_omegas - 1)\n",
                "omega_dots_boxes = (np.linspace(min_omega_dot, max_omega_dot + boxes_omega_dots_size, n_omegas + 1) - boxes_omega_dots_size / 2)"
            ]
        },
        {
            "cell_type": "code",
            "execution_count": null,
            "metadata": {},
            "outputs": [],
            "source": [
                "omega_count, n_outside_boxes, rewards_omega_count = count_samples(replay_buffer.states[:, 0], replay_buffer.states[:, 1], omega_boxes, omega_dots_boxes, replay_buffer.rewards)\n",
                "omega_visu_mesh = TwoDimesionsMesh(omegas, omega_dots, sleeping_time=0, axis_equal=False)\n",
                "\n",
                "omega_visu_mesh.set_values(omega_count, zeros_to_nan=True)\n",
                "omega_visu_mesh.show(\n",
                "    f\"Samples repartition, \\n{int(100 * n_outside_boxes / n_samples)}% are outside the box.\", xlabel=r\"$\\omega$\", ylabel=r\"$\\dot{\\omega}$\"\n",
                ")"
            ]
        },
        {
            "cell_type": "code",
            "execution_count": null,
            "metadata": {},
            "outputs": [],
            "source": [
                "omega_visu_mesh.set_values(rewards_omega_count, zeros_to_nan=True)\n",
                "omega_visu_mesh.show(\n",
                "    f\"Rewards repartition, \\n{int(100 * n_outside_boxes / n_samples)}% are outside the box.\", xlabel=r\"$\\omega$\", ylabel=r\"$\\dot{\\omega}$\"\n",
                ")"
            ]
        },
        {
            "cell_type": "code",
            "execution_count": null,
            "metadata": {},
            "outputs": [],
            "source": [
                "max_theta_dot = replay_buffer.states[:, 3].max(); min_theta_dot = replay_buffer.states[:, 3].min()\n",
                "theta_dots = jnp.linspace(min_theta_dot, max_theta_dot, n_thetas)\n",
                "boxes_theta_dots_size = (max_theta_dot - min_theta_dot) / (n_thetas - 1)\n",
                "theta_dots_boxes = (np.linspace(min_theta_dot, max_theta_dot + boxes_theta_dots_size, n_thetas + 1) - boxes_theta_dots_size / 2)"
            ]
        },
        {
            "cell_type": "code",
            "execution_count": null,
            "metadata": {},
            "outputs": [],
            "source": [
                "theta_count, n_outside_boxes, rewards_theta_count = count_samples(replay_buffer.states[:, 2], replay_buffer.states[:, 3], theta_boxes, theta_dots_boxes, replay_buffer.rewards)\n",
                "theta_visu_mesh = TwoDimesionsMesh(thetas, theta_dots, sleeping_time=0, axis_equal=False)\n",
                "\n",
                "theta_visu_mesh.set_values(theta_count, zeros_to_nan=True)\n",
                "theta_visu_mesh.show(\n",
                "    f\"Samples repartition, \\n{int(100 * n_outside_boxes / n_samples)}% are outside the box.\", xlabel=r\"$\\theta$\", ylabel=r\"$\\dot{\\theta}$\"\n",
                ")"
            ]
        },
        {
            "cell_type": "code",
            "execution_count": null,
            "metadata": {},
            "outputs": [],
            "source": [
                "theta_visu_mesh.set_values(rewards_theta_count, zeros_to_nan=True)\n",
                "theta_visu_mesh.show(\n",
                "    f\"Rewards repartition, \\n{int(100 * n_outside_boxes / n_samples)}% are outside the box.\", xlabel=r\"$\\theta$\", ylabel=r\"$\\dot{\\theta}$\"\n",
                ")"
            ]
        },
        {
            "cell_type": "markdown",
            "metadata": {},
            "source": [
                "## Analysis on the reward"
            ]
        },
        {
            "cell_type": "code",
            "execution_count": 8,
            "metadata": {},
            "outputs": [
                {
                    "data": {
                        "image/png": "[encoded data removed]",
                        "text/plain": [
                            "<Figure size 432x288 with 1 Axes>"
                        ]
                    },
                    "metadata": {
                        "needs_background": "light"
                    },
                    "output_type": "display_data"
                }
            ],
            "source": [
                "diff_omega = np.array(jnp.abs(replay_buffer.states[:, 0]))\n",
                "\n",
                "reward_balance = -500 * diff_omega\n",
                "_ = plt.hist(reward_balance, 100)"
            ]
        },
        {
            "cell_type": "code",
            "execution_count": 9,
            "metadata": {},
            "outputs": [
                {
                    "data": {
                        "image/png": "[encoded data removed]",
                        "text/plain": [
                            "<Figure size 432x288 with 1 Axes>"
                        ]
                    },
                    "metadata": {
                        "needs_background": "light"
                    },
                    "output_type": "display_data"
                }
            ],
            "source": [
                "diff_psi = np.array(jnp.square(replay_buffer.states[:, 4]))\n",
                "\n",
                "reward_direction = -5e-2 * diff_psi\n",
                "_ = plt.hist(reward_direction, 100)"
            ]
        },
        {
            "cell_type": "code",
            "execution_count": 10,
            "metadata": {},
            "outputs": [
                {
                    "data": {
                        "image/png": "[encoded data removed]",
                        "text/plain": [
                            "<Figure size 432x288 with 1 Axes>"
                        ]
                    },
                    "metadata": {
                        "needs_background": "light"
                    },
                    "output_type": "display_data"
                }
            ],
            "source": [
                "total_reward = reward_balance + reward_direction\n",
                "_ = plt.hist(total_reward, 100)"
            ]
        },
        {
            "cell_type": "code",
            "execution_count": 12,
            "metadata": {},
            "outputs": [
                {
                    "data": {
                        "image/png": "[encoded data removed]",
                        "text/plain": [
                            "<Figure size 432x288 with 1 Axes>"
                        ]
                    },
                    "metadata": {
                        "needs_background": "light"
                    },
                    "output_type": "display_data"
                }
            ],
            "source": [
                "_ = plt.hist(np.array(replay_buffer.rewards.flatten()), 100)"
            ]
        }
    ],
    "metadata": {
        "kernelspec": {
            "display_name": "Python 3.8.10 ('env_cpu': venv)",
            "language": "python",
            "name": "python3"
        },
        "language_info": {
            "codemirror_mode": {
                "name": "ipython",
                "version": 3
            },
            "file_extension": ".py",
            "mimetype": "text/x-python",
            "name": "python",
            "nbconvert_exporter": "python",
            "pygments_lexer": "ipython3",
            "version": "3.8.10"
        },
        "vscode": {
            "interpreter": {
                "hash": "af5525a3273d35d601ae265c5d3634806dd61a1c4d085ae098611a6832982bdb"
            }
        }
    },
    "nbformat": 4,
    "nbformat_minor": 2
}
