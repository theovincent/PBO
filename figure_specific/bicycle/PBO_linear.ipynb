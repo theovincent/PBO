{
 "cells": [
  {
   "cell_type": "markdown",
   "metadata": {},
   "source": [
    "# PBO linear on Bicycle\n",
    "\n",
    "## Define parameters"
   ]
  },
  {
   "cell_type": "code",
   "execution_count": null,
   "metadata": {
    "execution": {
     "iopub.execute_input": "2022-09-25T16:49:12.738239Z",
     "iopub.status.busy": "2022-09-25T16:49:12.737451Z",
     "iopub.status.idle": "2022-09-25T16:49:13.415980Z",
     "shell.execute_reply": "2022-09-25T16:49:13.415483Z"
    }
   },
   "outputs": [
    {
     "name": "stdout",
     "output_type": "stream",
     "text": [
      "The autoreload extension is already loaded. To reload it, use:\n",
      "  %reload_ext autoreload\n"
     ]
    }
   ],
   "source": [
    "%load_ext autoreload\n",
    "%autoreload 2\n",
    "\n",
    "import warnings\n",
    "warnings.simplefilter(action='ignore', category=FutureWarning)\n",
    "import jax\n",
    "import jax.numpy as jnp\n",
    "import os\n",
    "import json\n",
    "\n",
    "parameters = json.load(open(\"parameters.json\"))\n",
    "env_seed = parameters[\"env_seed\"]\n",
    "gamma = parameters[\"gamma\"]\n",
    "# Sample collection\n",
    "n_samples = parameters[\"n_samples\"]\n",
    "n_weights = parameters[\"n_weights\"]\n",
    "\n",
    "# Trainings\n",
    "layers_dimension = parameters[\"layers_dimension\"]\n",
    "max_bellman_iterations = parameters[\"max_bellman_iterations\"]\n",
    "training_steps = parameters[\"training_steps\"]\n",
    "fitting_steps = parameters[\"fitting_steps_pbo\"]\n",
    "batch_size_samples = parameters[\"batch_size_samples\"]\n",
    "batch_size_weights = parameters[\"batch_size_weights\"]\n",
    "initial_weight_std = parameters[\"initial_weight_std\"]\n",
    "learning_rate = {\"first\": parameters[\"starting_lr_fqi\"], \"last\": parameters[\"ending_lr_fqi\"], \"duration\": training_steps * fitting_steps * n_samples // batch_size_samples}\n",
    "add_infinity = False\n",
    "\n",
    "# Visualisation of errors and performances\n",
    "n_omegas = parameters[\"n_omegas\"]\n",
    "n_thetas = parameters[\"n_thetas\"]\n",
    "n_simulations = parameters[\"n_simulations\"]\n",
    "horizon = parameters[\"horizon\"]\n",
    "max_bellman_iterations_validation = max_bellman_iterations + 10\n",
    "plot_freq = 100\n",
    "\n",
    "# Search for an unused seed\n",
    "max_used_seed = 0\n",
    "if not os.path.exists(\"figures/data/PBO_linear/\"):\n",
    "    os.makedirs(\"figures/data/PBO_linear/\")\n",
    "for file in os.listdir(\"figures/data/PBO_linear/\"):\n",
    "    if int(file.split(\"_\")[0]) == max_bellman_iterations and int(file.split(\"_\")[2][:-4]) > max_used_seed:\n",
    "        max_used_seed = int(file.split(\"_\")[2][:-4])\n",
    "max_used_seed\n",
    "\n",
    "# keys\n",
    "seed = 0 # max_used_seed + 1\n",
    "env_key = jax.random.PRNGKey(env_seed)\n",
    "env_key, sample_key = jax.random.split(env_key)\n",
    "key = jax.random.PRNGKey(seed)\n",
    "shuffle_key, q_network_key, pbo_network_key = jax.random.split(key, 3)"
   ]
  },
  {
   "cell_type": "markdown",
   "metadata": {},
   "source": [
    "## Define environment"
   ]
  },
  {
   "cell_type": "code",
   "execution_count": null,
   "metadata": {
    "execution": {
     "iopub.execute_input": "2022-09-25T16:49:13.418189Z",
     "iopub.status.busy": "2022-09-25T16:49:13.418017Z",
     "iopub.status.idle": "2022-09-25T16:49:13.705555Z",
     "shell.execute_reply": "2022-09-25T16:49:13.705071Z"
    }
   },
   "outputs": [],
   "source": [
    "import numpy as np\n",
    "\n",
    "from pbo.environments.bicycle import BicycleEnv\n",
    "\n",
    "\n",
    "env = BicycleEnv(env_key, gamma)"
   ]
  },
  {
   "cell_type": "markdown",
   "metadata": {},
   "source": [
    "## Collect samples"
   ]
  },
  {
   "cell_type": "markdown",
   "metadata": {},
   "source": [
    "### Samples on the mesh and with a uniform policy"
   ]
  },
  {
   "cell_type": "code",
   "execution_count": null,
   "metadata": {
    "execution": {
     "iopub.execute_input": "2022-09-25T16:49:13.708872Z",
     "iopub.status.busy": "2022-09-25T16:49:13.708733Z",
     "iopub.status.idle": "2022-09-25T16:49:26.836372Z",
     "shell.execute_reply": "2022-09-25T16:49:26.835902Z"
    }
   },
   "outputs": [
    {
     "name": "stdout",
     "output_type": "stream",
     "text": [
      "Number of episodes: 500\n"
     ]
    }
   ],
   "source": [
    "from pbo.sample_collection.replay_buffer import ReplayBuffer\n",
    "\n",
    "\n",
    "replay_buffer = ReplayBuffer()\n",
    "\n",
    "env.reset()\n",
    "n_episodes = 0\n",
    "n_steps = 0\n",
    "positions = [[env.position]]\n",
    "\n",
    "for idx_sample in range(n_samples):\n",
    "    state = env.state\n",
    "    \n",
    "    sample_key, key = jax.random.split(sample_key)\n",
    "    action = jax.random.choice(key, env.actions_on_max)\n",
    "    \n",
    "    next_state, reward, absorbing, _ = env.step(action)\n",
    "    n_steps += 1\n",
    "    positions[n_episodes].append(env.position)\n",
    "\n",
    "    replay_buffer.add(state, action, reward, next_state, absorbing)\n",
    "\n",
    "    if absorbing[0] or n_steps >= 20:\n",
    "        sample_key, key = jax.random.split(sample_key)\n",
    "        env.reset(\n",
    "            jax.random.multivariate_normal(\n",
    "                key,\n",
    "                jnp.zeros(4),\n",
    "                jnp.array([[1e-4, -1e-4, 0, 0], [-1e-4, 1e-3, 0, 0], [0, 0, 1e-3, -1e-4], [0, 0, -1e-4, 1e-2]]),\n",
    "            )\n",
    "            / 10\n",
    "        )      \n",
    "        positions[n_episodes] = np.array(positions[n_episodes])\n",
    "        positions.append([])\n",
    "        n_episodes += 1\n",
    "        n_steps = 0\n",
    "\n",
    "replay_buffer.cast_to_jax_array()\n",
    "# assert sum(replay_buffer.rewards == -1) > 0, \"No negative reward has been sampled, please do something!\"\n",
    "print(f\"Number of episodes: {n_episodes}\")"
   ]
  },
  {
   "cell_type": "markdown",
   "metadata": {},
   "source": [
    "### Visualize samples"
   ]
  },
  {
   "cell_type": "code",
   "execution_count": null,
   "metadata": {
    "execution": {
     "iopub.execute_input": "2022-09-25T16:49:26.838288Z",
     "iopub.status.busy": "2022-09-25T16:49:26.838153Z",
     "iopub.status.idle": "2022-09-25T16:49:33.367265Z",
     "shell.execute_reply": "2022-09-25T16:49:33.366805Z"
    }
   },
   "outputs": [
    {
     "data": {
      "image/png": "[encoded data removed]",
      "text/plain": [
       "<Figure size 432x288 with 2 Axes>"
      ]
     },
     "metadata": {
      "needs_background": "light"
     },
     "output_type": "display_data"
    }
   ],
   "source": [
    "import matplotlib.pyplot as plt\n",
    "\n",
    "fig, (ax1, ax2) = plt.subplots(2, 1, sharex=True)\n",
    "\n",
    "for episode in range(n_episodes // 10):\n",
    "    ax1.plot(positions[episode][:, 0], positions[episode][:, 1], color=\"black\")\n",
    "\n",
    "    for step in range(len(positions[episode])):\n",
    "        ax2.plot(positions[episode][step, [0, 2]], positions[episode][step, [1, 3]], color=\"black\")\n",
    "\n",
    "\n",
    "ax1.get_xaxis().set_visible(False)\n",
    "ax1.spines[\"bottom\"].set_visible(False)\n",
    "ax1.set_ylabel(\"y\")\n",
    "ax1.set_title(f\"Back tire\")\n",
    "ax2.set_xlabel(\"x\")\n",
    "ax2.set_ylabel(\"y\")\n",
    "ax2.set_title(f\"Bicycle\", y=0, pad=-30, verticalalignment=\"top\")\n",
    "\n",
    "plt.subplots_adjust(hspace=0)"
   ]
  },
  {
   "cell_type": "code",
   "execution_count": null,
   "metadata": {
    "execution": {
     "iopub.execute_input": "2022-09-25T16:49:33.369124Z",
     "iopub.status.busy": "2022-09-25T16:49:33.368938Z",
     "iopub.status.idle": "2022-09-25T16:49:33.888681Z",
     "shell.execute_reply": "2022-09-25T16:49:33.888232Z"
    }
   },
   "outputs": [
    {
     "data": {
      "image/png": "[encoded data removed]",
      "text/plain": [
       "<Figure size 432x288 with 1 Axes>"
      ]
     },
     "metadata": {
      "needs_background": "light"
     },
     "output_type": "display_data"
    }
   ],
   "source": [
    "omegas = jnp.linspace(-replay_buffer.states[:, 0].max(), replay_buffer.states[:, 0].max(), n_omegas)\n",
    "omega_dots = jnp.linspace(-replay_buffer.states[:, 1].max() / 2, replay_buffer.states[:, 1].max() / 2, n_omegas)\n",
    "\n",
    "sample_key, key = jax.random.split(sample_key)\n",
    "sample_omegas_omega_dots = jax.random.choice(key, replay_buffer.states[:, :2], shape=(min(n_samples // 100, 50),), replace=False) / 10\n",
    "\n",
    "thetas = jnp.linspace(-replay_buffer.states[:, 2].max() / 2, replay_buffer.states[:, 2].max() / 2, n_thetas)\n",
    "theta_dots = jnp.linspace(-replay_buffer.states[:, 3].max() / 2, replay_buffer.states[:, 3].max() / 2, n_thetas)\n",
    "\n",
    "sample_key, key = jax.random.split(sample_key)\n",
    "sample_thetas_theta_dots = jax.random.choice(key, replay_buffer.states[:, 2:5], shape=(min(n_samples // 100, 50),), replace=False) / 10\n",
    "\n",
    "_ = plt.hist(np.array(replay_buffer.rewards.flatten()), 100)"
   ]
  },
  {
   "cell_type": "markdown",
   "metadata": {},
   "source": [
    "## Collect weights"
   ]
  },
  {
   "cell_type": "code",
   "execution_count": null,
   "metadata": {
    "execution": {
     "iopub.execute_input": "2022-09-25T16:49:33.890519Z",
     "iopub.status.busy": "2022-09-25T16:49:33.890378Z",
     "iopub.status.idle": "2022-09-25T16:49:34.230019Z",
     "shell.execute_reply": "2022-09-25T16:49:34.229493Z"
    }
   },
   "outputs": [],
   "source": [
    "from pbo.weights_collection.weights_buffer import WeightsBuffer\n",
    "from pbo.networks.learnable_q import FullyConnectedQ\n",
    "\n",
    "\n",
    "weights_buffer = WeightsBuffer()\n",
    "\n",
    "# Add the validation weights\n",
    "q = FullyConnectedQ(\n",
    "    state_dim=4,\n",
    "    action_dim=2,\n",
    "    actions_on_max=env.actions_on_max,\n",
    "    gamma=gamma,\n",
    "    network_key=q_network_key,\n",
    "    layers_dimension=layers_dimension,\n",
    "    zero_initializer=True,\n",
    "    learning_rate=learning_rate\n",
    ")\n",
    "validation_weights = q.to_weights(q.params)\n",
    "weights_buffer.add(validation_weights)\n",
    "\n",
    "# Add random weights\n",
    "while len(weights_buffer) < n_weights:\n",
    "    weights = q.random_init_weights()\n",
    "    weights_buffer.add(weights)\n",
    "\n",
    "weights_buffer.cast_to_jax_array()"
   ]
  },
  {
   "cell_type": "markdown",
   "metadata": {},
   "source": [
    "## Train linear PBO"
   ]
  },
  {
   "cell_type": "code",
   "execution_count": 14,
   "metadata": {
    "execution": {
     "iopub.execute_input": "2022-09-25T16:49:34.232088Z",
     "iopub.status.busy": "2022-09-25T16:49:34.231950Z",
     "iopub.status.idle": "2022-09-25T16:52:29.300954Z",
     "shell.execute_reply": "2022-09-25T16:52:29.300487Z"
    }
   },
   "outputs": [
    {
     "data": {
      "image/png": "[encoded data removed]",
      "text/plain": [
       "<Figure size 432x288 with 2 Axes>"
      ]
     },
     "metadata": {
      "needs_background": "light"
     },
     "output_type": "display_data"
    },
    {
     "data": {
      "image/png": "[encoded data removed]",
      "text/plain": [
       "<Figure size 432x288 with 2 Axes>"
      ]
     },
     "metadata": {
      "needs_background": "light"
     },
     "output_type": "display_data"
    },
    {
     "ename": "KeyboardInterrupt",
     "evalue": "",
     "output_type": "error",
     "traceback": [
      "\u001b[0;31m---------------------------------------------------------------------------\u001b[0m",
      "\u001b[0;31mKeyboardInterrupt\u001b[0m                         Traceback (most recent call last)",
      "\u001b[1;32m/home/vincent/Darmstadt/PBO/figure_specific/bicycle/PBO_linear.ipynb Cell 14\u001b[0m in \u001b[0;36m<cell line: 27>\u001b[0;34m()\u001b[0m\n\u001b[1;32m     <a href='vscode-notebook-cell:/home/vincent/Darmstadt/PBO/figure_specific/bicycle/PBO_linear.ipynb#X16sZmlsZQ%3D%3D?line=30'>31</a>\u001b[0m cumulative_l2_loss \u001b[39m=\u001b[39m \u001b[39m0\u001b[39m\n\u001b[1;32m     <a href='vscode-notebook-cell:/home/vincent/Darmstadt/PBO/figure_specific/bicycle/PBO_linear.ipynb#X16sZmlsZQ%3D%3D?line=32'>33</a>\u001b[0m data_loader_weights\u001b[39m.\u001b[39mshuffle()\n\u001b[0;32m---> <a href='vscode-notebook-cell:/home/vincent/Darmstadt/PBO/figure_specific/bicycle/PBO_linear.ipynb#X16sZmlsZQ%3D%3D?line=33'>34</a>\u001b[0m \u001b[39mfor\u001b[39;00m batch_weights \u001b[39min\u001b[39;00m data_loader_weights:\n\u001b[1;32m     <a href='vscode-notebook-cell:/home/vincent/Darmstadt/PBO/figure_specific/bicycle/PBO_linear.ipynb#X16sZmlsZQ%3D%3D?line=34'>35</a>\u001b[0m     data_loader_samples\u001b[39m.\u001b[39mshuffle()\n\u001b[1;32m     <a href='vscode-notebook-cell:/home/vincent/Darmstadt/PBO/figure_specific/bicycle/PBO_linear.ipynb#X16sZmlsZQ%3D%3D?line=35'>36</a>\u001b[0m     \u001b[39mfor\u001b[39;00m batch_samples \u001b[39min\u001b[39;00m data_loader_samples:\n",
      "File \u001b[0;32m~/Darmstadt/PBO/pbo/weights_collection/dataloader.py:31\u001b[0m, in \u001b[0;36mWeightsDataLoader.__getitem__\u001b[0;34m(self, idx)\u001b[0m\n\u001b[1;32m     29\u001b[0m start \u001b[39m=\u001b[39m idx \u001b[39m*\u001b[39m \u001b[39mself\u001b[39m\u001b[39m.\u001b[39mbatch_size\n\u001b[1;32m     30\u001b[0m end \u001b[39m=\u001b[39m jnp\u001b[39m.\u001b[39mminimum((idx \u001b[39m+\u001b[39m \u001b[39m1\u001b[39m) \u001b[39m*\u001b[39m \u001b[39mself\u001b[39m\u001b[39m.\u001b[39mbatch_size, \u001b[39mself\u001b[39m\u001b[39m.\u001b[39mn_weights)\n\u001b[0;32m---> 31\u001b[0m idxs \u001b[39m=\u001b[39m \u001b[39mself\u001b[39;49m\u001b[39m.\u001b[39;49mindexes[start:end]\n\u001b[1;32m     33\u001b[0m \u001b[39mreturn\u001b[39;00m \u001b[39mself\u001b[39m\u001b[39m.\u001b[39mjitted_getitem(idxs)\n",
      "File \u001b[0;32m~/Darmstadt/PBO/env_cpu/lib/python3.8/site-packages/jax/_src/numpy/lax_numpy.py:3586\u001b[0m, in \u001b[0;36m_rewriting_take\u001b[0;34m(arr, idx, indices_are_sorted, unique_indices, mode, fill_value)\u001b[0m\n\u001b[1;32m   3581\u001b[0m \u001b[39mdef\u001b[39;00m \u001b[39m_rewriting_take\u001b[39m(arr, idx, indices_are_sorted\u001b[39m=\u001b[39m\u001b[39mFalse\u001b[39;00m, unique_indices\u001b[39m=\u001b[39m\u001b[39mFalse\u001b[39;00m,\n\u001b[1;32m   3582\u001b[0m                     mode\u001b[39m=\u001b[39m\u001b[39mNone\u001b[39;00m, fill_value\u001b[39m=\u001b[39m\u001b[39mNone\u001b[39;00m):\n\u001b[1;32m   3583\u001b[0m   \u001b[39m# Computes arr[idx].\u001b[39;00m\n\u001b[1;32m   3584\u001b[0m   \u001b[39m# All supported cases of indexing can be implemented as an XLA gather,\u001b[39;00m\n\u001b[1;32m   3585\u001b[0m   \u001b[39m# followed by an optional reverse and broadcast_in_dim.\u001b[39;00m\n\u001b[0;32m-> 3586\u001b[0m   arr \u001b[39m=\u001b[39m asarray(arr)\n\u001b[1;32m   3588\u001b[0m   \u001b[39m# TODO(mattjj,dougalm): expand dynamic shape indexing support\u001b[39;00m\n\u001b[1;32m   3589\u001b[0m   \u001b[39mif\u001b[39;00m (jax\u001b[39m.\u001b[39mconfig\u001b[39m.\u001b[39mjax_dynamic_shapes \u001b[39mand\u001b[39;00m \u001b[39mtype\u001b[39m(idx) \u001b[39mis\u001b[39;00m \u001b[39mslice\u001b[39m \u001b[39mand\u001b[39;00m idx\u001b[39m.\u001b[39mstep \u001b[39mis\u001b[39;00m \u001b[39mNone\u001b[39;00m\n\u001b[1;32m   3590\u001b[0m       \u001b[39mand\u001b[39;00m (\u001b[39misinstance\u001b[39m(idx\u001b[39m.\u001b[39mstart, core\u001b[39m.\u001b[39mTracer) \u001b[39mor\u001b[39;00m \u001b[39misinstance\u001b[39m(idx\u001b[39m.\u001b[39mstop, core\u001b[39m.\u001b[39mTracer))\n\u001b[1;32m   3591\u001b[0m       \u001b[39mand\u001b[39;00m arr\u001b[39m.\u001b[39mshape):\n",
      "File \u001b[0;32m~/Darmstadt/PBO/env_cpu/lib/python3.8/site-packages/jax/_src/numpy/lax_numpy.py:1912\u001b[0m, in \u001b[0;36masarray\u001b[0;34m(a, dtype, order)\u001b[0m\n\u001b[1;32m   1910\u001b[0m lax_internal\u001b[39m.\u001b[39m_check_user_dtype_supported(dtype, \u001b[39m\"\u001b[39m\u001b[39masarray\u001b[39m\u001b[39m\"\u001b[39m)\n\u001b[1;32m   1911\u001b[0m dtype \u001b[39m=\u001b[39m dtypes\u001b[39m.\u001b[39mcanonicalize_dtype(dtype) \u001b[39mif\u001b[39;00m dtype \u001b[39mis\u001b[39;00m \u001b[39mnot\u001b[39;00m \u001b[39mNone\u001b[39;00m \u001b[39melse\u001b[39;00m dtype\n\u001b[0;32m-> 1912\u001b[0m \u001b[39mreturn\u001b[39;00m array(a, dtype\u001b[39m=\u001b[39;49mdtype, copy\u001b[39m=\u001b[39;49m\u001b[39mFalse\u001b[39;49;00m, order\u001b[39m=\u001b[39;49morder)\n",
      "File \u001b[0;32m~/Darmstadt/PBO/env_cpu/lib/python3.8/site-packages/jax/_src/numpy/lax_numpy.py:1893\u001b[0m, in \u001b[0;36marray\u001b[0;34m(object, dtype, copy, order, ndmin)\u001b[0m\n\u001b[1;32m   1889\u001b[0m     \u001b[39mreturn\u001b[39;00m array(np\u001b[39m.\u001b[39masarray(view), dtype, copy, ndmin\u001b[39m=\u001b[39mndmin)\n\u001b[1;32m   1891\u001b[0m   \u001b[39mraise\u001b[39;00m \u001b[39mTypeError\u001b[39;00m(\u001b[39mf\u001b[39m\u001b[39m\"\u001b[39m\u001b[39mUnexpected input type for array: \u001b[39m\u001b[39m{\u001b[39;00m\u001b[39mtype\u001b[39m(\u001b[39mobject\u001b[39m)\u001b[39m}\u001b[39;00m\u001b[39m\"\u001b[39m)\n\u001b[0;32m-> 1893\u001b[0m out \u001b[39m=\u001b[39m lax_internal\u001b[39m.\u001b[39;49m_convert_element_type(out, dtype, weak_type\u001b[39m=\u001b[39;49mweak_type)\n\u001b[1;32m   1894\u001b[0m \u001b[39mif\u001b[39;00m ndmin \u001b[39m>\u001b[39m ndim(out):\n\u001b[1;32m   1895\u001b[0m   out \u001b[39m=\u001b[39m lax\u001b[39m.\u001b[39mexpand_dims(out, \u001b[39mrange\u001b[39m(ndmin \u001b[39m-\u001b[39m ndim(out)))\n",
      "File \u001b[0;32m~/Darmstadt/PBO/env_cpu/lib/python3.8/site-packages/jax/_src/lax/lax.py:546\u001b[0m, in \u001b[0;36m_convert_element_type\u001b[0;34m(operand, new_dtype, weak_type)\u001b[0m\n\u001b[1;32m    543\u001b[0m new_dtype \u001b[39m=\u001b[39m dtypes\u001b[39m.\u001b[39mdtype(new_dtype, canonicalize\u001b[39m=\u001b[39m\u001b[39mTrue\u001b[39;00m)\n\u001b[1;32m    544\u001b[0m new_weak_type \u001b[39m=\u001b[39m \u001b[39mbool\u001b[39m(weak_type)\n\u001b[0;32m--> 546\u001b[0m \u001b[39mif\u001b[39;00m (dtypes\u001b[39m.\u001b[39;49missubdtype(old_dtype, np\u001b[39m.\u001b[39;49mcomplexfloating) \u001b[39mand\u001b[39;00m\n\u001b[1;32m    547\u001b[0m     \u001b[39mnot\u001b[39;00m dtypes\u001b[39m.\u001b[39missubdtype(new_dtype, np\u001b[39m.\u001b[39mcomplexfloating)):\n\u001b[1;32m    548\u001b[0m   msg \u001b[39m=\u001b[39m \u001b[39m\"\u001b[39m\u001b[39mCasting complex values to real discards the imaginary part\u001b[39m\u001b[39m\"\u001b[39m\n\u001b[1;32m    549\u001b[0m   warnings\u001b[39m.\u001b[39mwarn(msg, np\u001b[39m.\u001b[39mComplexWarning, stacklevel\u001b[39m=\u001b[39m\u001b[39m2\u001b[39m)\n",
      "File \u001b[0;32m~/Darmstadt/PBO/env_cpu/lib/python3.8/site-packages/jax/_src/dtypes.py:246\u001b[0m, in \u001b[0;36missubdtype\u001b[0;34m(a, b)\u001b[0m\n\u001b[1;32m    240\u001b[0m \u001b[39mif\u001b[39;00m \u001b[39mnot\u001b[39;00m _issubclass(b, np\u001b[39m.\u001b[39mgeneric):\n\u001b[1;32m    241\u001b[0m   \u001b[39m# Workaround for JAX scalar types. NumPy's issubdtype has a backward\u001b[39;00m\n\u001b[1;32m    242\u001b[0m   \u001b[39m# compatibility behavior for the second argument of issubdtype that\u001b[39;00m\n\u001b[1;32m    243\u001b[0m   \u001b[39m# interacts badly with JAX's custom scalar types. As a workaround,\u001b[39;00m\n\u001b[1;32m    244\u001b[0m   \u001b[39m# explicitly cast the second argument to a NumPy type object.\u001b[39;00m\n\u001b[1;32m    245\u001b[0m   b \u001b[39m=\u001b[39m np\u001b[39m.\u001b[39mdtype(b)\u001b[39m.\u001b[39mtype\n\u001b[0;32m--> 246\u001b[0m \u001b[39mreturn\u001b[39;00m np\u001b[39m.\u001b[39;49missubdtype(a, b)\n",
      "File \u001b[0;32m~/Darmstadt/PBO/env_cpu/lib/python3.8/site-packages/numpy/core/numerictypes.py:416\u001b[0m, in \u001b[0;36missubdtype\u001b[0;34m(arg1, arg2)\u001b[0m\n\u001b[1;32m    358\u001b[0m \u001b[39mr\u001b[39m\u001b[39m\"\"\"\u001b[39;00m\n\u001b[1;32m    359\u001b[0m \u001b[39mReturns True if first argument is a typecode lower/equal in type hierarchy.\u001b[39;00m\n\u001b[1;32m    360\u001b[0m \n\u001b[0;32m   (...)\u001b[0m\n\u001b[1;32m    413\u001b[0m \n\u001b[1;32m    414\u001b[0m \u001b[39m\"\"\"\u001b[39;00m\n\u001b[1;32m    415\u001b[0m \u001b[39mif\u001b[39;00m \u001b[39mnot\u001b[39;00m issubclass_(arg1, generic):\n\u001b[0;32m--> 416\u001b[0m     arg1 \u001b[39m=\u001b[39m dtype(arg1)\u001b[39m.\u001b[39;49mtype\n\u001b[1;32m    417\u001b[0m \u001b[39mif\u001b[39;00m \u001b[39mnot\u001b[39;00m issubclass_(arg2, generic):\n\u001b[1;32m    418\u001b[0m     arg2 \u001b[39m=\u001b[39m dtype(arg2)\u001b[39m.\u001b[39mtype\n",
      "\u001b[0;31mKeyboardInterrupt\u001b[0m: "
     ]
    }
   ],
   "source": [
    "import matplotlib.pyplot as plt\n",
    "\n",
    "from pbo.utils.two_dimesions_mesh import TwoDimesionsMesh\n",
    "from pbo.sample_collection.dataloader import SampleDataLoader\n",
    "from pbo.weights_collection.dataloader import WeightsDataLoader\n",
    "from pbo.networks.learnable_pbo import LinearPBO\n",
    "\n",
    "\n",
    "omega_visu_mesh = TwoDimesionsMesh(omegas, omega_dots, sleeping_time=0, axis_equal=False, zero_centered=True)\n",
    "theta_visu_mesh = TwoDimesionsMesh(thetas, theta_dots, sleeping_time=0, axis_equal=False, zero_centered=True)\n",
    "data_loader_samples = SampleDataLoader(replay_buffer, batch_size_samples, shuffle_key)\n",
    "data_loader_weights = WeightsDataLoader(weights_buffer, batch_size_weights, shuffle_key)\n",
    "pbo = LinearPBO(\n",
    "    q=q,\n",
    "    max_bellman_iterations=max_bellman_iterations,\n",
    "    add_infinity=add_infinity,\n",
    "    network_key=pbo_network_key,\n",
    "    learning_rate=learning_rate,\n",
    "    initial_weight_std=initial_weight_std\n",
    ")\n",
    "importance_iteration = jnp.ones(max_bellman_iterations + 1)\n",
    "\n",
    "l2_losses = np.ones((training_steps, fitting_steps)) * np.nan\n",
    "\n",
    "best_cumulative_l2_loss = float(\"inf\")\n",
    "\n",
    "for training_step in range(training_steps):\n",
    "    params_target = pbo.params\n",
    "\n",
    "    for fitting_step in range(fitting_steps):\n",
    "        cumulative_l2_loss = 0\n",
    "\n",
    "        data_loader_weights.shuffle()\n",
    "        for batch_weights in data_loader_weights:\n",
    "            data_loader_samples.shuffle()\n",
    "            for batch_samples in data_loader_samples:\n",
    "                pbo.params, pbo.optimizer_state, l2_loss = pbo.learn_on_batch(\n",
    "                    pbo.params, params_target, pbo.optimizer_state, batch_weights, batch_samples, importance_iteration\n",
    "                )\n",
    "                cumulative_l2_loss += l2_loss\n",
    "        \n",
    "        l2_losses[training_step, fitting_step] = cumulative_l2_loss\n",
    "\n",
    "        if cumulative_l2_loss <= best_cumulative_l2_loss:\n",
    "            best_cumulative_l2_loss = cumulative_l2_loss\n",
    "            break\n",
    "\n",
    "    if (training_step + 1) % plot_freq == 0 or training_step + 1 == training_steps:\n",
    "        if not pbo.add_infinity:\n",
    "            q_weight = validation_weights                \n",
    "            for _ in range(max_bellman_iterations):\n",
    "                q_weight = pbo(pbo.params, q_weight)\n",
    "        else:\n",
    "            q_weight = pbo.fixed_point(pbo.params)\n",
    "\n",
    "        metric = env.evaluate(q, q.to_params(q_weight), horizon, n_simulations=1)\n",
    "\n",
    "        d_on_omegas = env.best_action_on_omegas(q, q.to_params(q_weight), omegas, omega_dots, sample_thetas_theta_dots)\n",
    "        T_on_thetas = env.best_action_on_thetas(q, q.to_params(q_weight), sample_omegas_omega_dots, thetas, theta_dots)\n",
    "\n",
    "        omega_visu_mesh.set_values(d_on_omegas)\n",
    "        omega_visu_mesh.show(r\"d on some sampled $\\theta$ and $\\dot{\\theta}$,\" + f\"\\nl2 loss: {str(jnp.round(cumulative_l2_loss, 5))}, iteration {training_step + 1}.\", xlabel=r\"$\\omega$\", ylabel=r\"$\\dot{\\omega}$\")\n",
    "        theta_visu_mesh.set_values(T_on_thetas)\n",
    "        theta_visu_mesh.show(r\"T on some sampled $\\omega$ and $\\dot{\\omega}$\" + f\"\\n{metric[:, 0].mean()} steps, V = {str(jnp.round(metric[:, 1].mean(), 1))}.\", xlabel=r\"$\\theta$\", ylabel=r\"$\\dot{\\theta}$\", clear=False)\n",
    "\n",
    "plt.plot(l2_losses.flatten(), label=f\"Training step {training_step + 1}\")\n",
    "\n",
    "plt.xlabel(\"training step x fitting step\")\n",
    "plt.ylabel(r\"$\\sum_{k} \\left(\\Gamma^*Q_{\\Gamma_{\\phi_i}^k(w)} - Q_{\\Gamma_{\\phi_{i + 1}}^{k + 1}(w)} \\right)^2$\")\n",
    "plt.title(\"Training losses\")\n",
    "plt.show()"
   ]
  },
  {
   "cell_type": "code",
   "execution_count": null,
   "metadata": {
    "execution": {
     "iopub.execute_input": "2022-09-25T16:52:29.303163Z",
     "iopub.status.busy": "2022-09-25T16:52:29.303027Z",
     "iopub.status.idle": "2022-09-25T16:52:29.748572Z",
     "shell.execute_reply": "2022-09-25T16:52:29.748119Z"
    }
   },
   "outputs": [],
   "source": [
    "test_bellman_iterations = max_bellman_iterations\n",
    "\n",
    "q_weight = validation_weights\n",
    "for _ in range(test_bellman_iterations):\n",
    "    q_weight = pbo(pbo.params, q_weight.reshape((1, -1)))[0]\n",
    "\n",
    "metric = env.evaluate(q, q.to_params(q_weight), horizon, n_simulations=1)\n",
    "\n",
    "d_on_omegas = env.best_action_on_omegas(q, q.to_params(q_weight), omegas, omega_dots, sample_thetas_theta_dots)\n",
    "T_on_thetas = env.best_action_on_thetas(q, q.to_params(q_weight), sample_omegas_omega_dots, thetas, theta_dots)\n",
    "\n",
    "omega_visu_mesh.set_values(d_on_omegas)\n",
    "omega_visu_mesh.show(r\"d on some sampled $\\theta$ and $\\dot{\\theta}$,\" + f\"\\nBellman iteration {test_bellman_iterations}\", xlabel=r\"$\\omega$\", ylabel=r\"$\\dot{\\omega}$\")\n",
    "theta_visu_mesh.set_values(T_on_thetas)\n",
    "theta_visu_mesh.show(r\"T on some sampled $\\omega$ and $\\dot{\\omega}$\" + f\"\\n{metric[:, 0].mean()} steps, V = {str(jnp.round(metric[:, 1].mean(), 1))}.\", xlabel=r\"$\\theta$\", ylabel=r\"$\\dot{\\theta}$\", clear=False)"
   ]
  },
  {
   "cell_type": "code",
   "execution_count": null,
   "metadata": {
    "execution": {
     "iopub.execute_input": "2022-09-25T16:52:29.750747Z",
     "iopub.status.busy": "2022-09-25T16:52:29.750609Z",
     "iopub.status.idle": "2022-09-25T16:52:30.094351Z",
     "shell.execute_reply": "2022-09-25T16:52:30.093889Z"
    }
   },
   "outputs": [],
   "source": [
    "positions = env.collect_positions(q, q.to_params(q_weight), horizon)\n",
    "\n",
    "plt.plot(positions[:, 0], positions[:, 1], color=\"black\")\n",
    "plt.axis(\"equal\")\n",
    "_ = plt.title(f\"{positions.shape[0]} steps\")"
   ]
  },
  {
   "cell_type": "code",
   "execution_count": null,
   "metadata": {
    "execution": {
     "iopub.execute_input": "2022-09-25T16:52:30.097349Z",
     "iopub.status.busy": "2022-09-25T16:52:30.097209Z",
     "iopub.status.idle": "2022-09-25T16:52:30.107648Z",
     "shell.execute_reply": "2022-09-25T16:52:30.107209Z"
    }
   },
   "outputs": [],
   "source": [
    "# env.simulate(q, q.to_params(q_weight), horizon, 0)"
   ]
  },
  {
   "cell_type": "markdown",
   "metadata": {},
   "source": [
    "## Save the data"
   ]
  },
  {
   "cell_type": "code",
   "execution_count": null,
   "metadata": {
    "execution": {
     "iopub.execute_input": "2022-09-25T16:52:30.110555Z",
     "iopub.status.busy": "2022-09-25T16:52:30.110412Z",
     "iopub.status.idle": "2022-09-25T16:52:30.477733Z",
     "shell.execute_reply": "2022-09-25T16:52:30.477250Z"
    }
   },
   "outputs": [],
   "source": [
    "from tqdm.notebook import tqdm\n",
    "\n",
    "\n",
    "metrics = np.ones((max_bellman_iterations_validation + 2, n_simulations, 2)) * np.nan\n",
    "q_weights = validation_weights\n",
    "\n",
    "metrics[0] = env.evaluate(q, q.to_params(q_weights), horizon, n_simulations)\n",
    "\n",
    "for bellman_iteration in tqdm(range(1, max_bellman_iterations_validation + 1)):\n",
    "    q_weights = pbo(pbo.params, q_weights.reshape((1, -1)))[0]\n",
    "\n",
    "    metrics[bellman_iteration] = env.evaluate(q, q.to_params(q_weights), horizon, n_simulations)\n",
    "\n",
    "metrics[max_bellman_iterations_validation + 1] = env.evaluate(q, q.to_params(pbo.fixed_point(pbo.params)), horizon, n_simulations)\n"
   ]
  },
  {
   "cell_type": "code",
   "execution_count": null,
   "metadata": {
    "execution": {
     "iopub.execute_input": "2022-09-25T16:52:30.480063Z",
     "iopub.status.busy": "2022-09-25T16:52:30.479884Z",
     "iopub.status.idle": "2022-09-25T16:52:30.593935Z",
     "shell.execute_reply": "2022-09-25T16:52:30.593480Z"
    }
   },
   "outputs": [],
   "source": [
    "fig, (ax1, ax2) = plt.subplots(1, 2)\n",
    "\n",
    "ax1.plot(range(max_bellman_iterations_validation + 2), metrics[:, :, 0].mean(axis=1))\n",
    "ax2.plot(range(max_bellman_iterations_validation + 2), metrics[:, :, 1].mean(axis=1))"
   ]
  },
  {
   "cell_type": "code",
   "execution_count": null,
   "metadata": {
    "execution": {
     "iopub.execute_input": "2022-09-25T16:52:30.595702Z",
     "iopub.status.busy": "2022-09-25T16:52:30.595562Z",
     "iopub.status.idle": "2022-09-25T16:52:30.606157Z",
     "shell.execute_reply": "2022-09-25T16:52:30.605671Z"
    }
   },
   "outputs": [],
   "source": [
    "np.save(f\"figures/data/PBO_linear/{max_bellman_iterations}_metrics_{seed}.npy\", metrics)"
   ]
  }
 ],
 "metadata": {
  "kernelspec": {
   "display_name": "Python 3.8.10 ('env_cpu': venv)",
   "language": "python",
   "name": "python3"
  },
  "language_info": {
   "codemirror_mode": {
    "name": "ipython",
    "version": 3
   },
   "file_extension": ".py",
   "mimetype": "text/x-python",
   "name": "python",
   "nbconvert_exporter": "python",
   "pygments_lexer": "ipython3",
   "version": "3.8.10"
  },
  "vscode": {
   "interpreter": {
    "hash": "af5525a3273d35d601ae265c5d3634806dd61a1c4d085ae098611a6832982bdb"
   }
  },
  "widgets": {
   "application/vnd.jupyter.widget-state+json": {
    "state": {
     "05cf6bec1bf548e7a0836812a2e5a96b": {
      "model_module": "@jupyter-widgets/base",
      "model_module_version": "1.2.0",
      "model_name": "LayoutModel",
      "state": {
       "_model_module": "@jupyter-widgets/base",
       "_model_module_version": "1.2.0",
       "_model_name": "LayoutModel",
       "_view_count": null,
       "_view_module": "@jupyter-widgets/base",
       "_view_module_version": "1.2.0",
       "_view_name": "LayoutView",
       "align_content": null,
       "align_items": null,
       "align_self": null,
       "border": null,
       "bottom": null,
       "display": null,
       "flex": null,
       "flex_flow": null,
       "grid_area": null,
       "grid_auto_columns": null,
       "grid_auto_flow": null,
       "grid_auto_rows": null,
       "grid_column": null,
       "grid_gap": null,
       "grid_row": null,
       "grid_template_areas": null,
       "grid_template_columns": null,
       "grid_template_rows": null,
       "height": null,
       "justify_content": null,
       "justify_items": null,
       "left": null,
       "margin": null,
       "max_height": null,
       "max_width": null,
       "min_height": null,
       "min_width": null,
       "object_fit": null,
       "object_position": null,
       "order": null,
       "overflow": null,
       "overflow_x": null,
       "overflow_y": null,
       "padding": null,
       "right": null,
       "top": null,
       "visibility": null,
       "width": null
      }
     },
     "0bc48138ba624680a5e9e7eea1eed093": {
      "model_module": "@jupyter-widgets/controls",
      "model_module_version": "1.5.0",
      "model_name": "HTMLModel",
      "state": {
       "_dom_classes": [],
       "_model_module": "@jupyter-widgets/controls",
       "_model_module_version": "1.5.0",
       "_model_name": "HTMLModel",
       "_view_count": null,
       "_view_module": "@jupyter-widgets/controls",
       "_view_module_version": "1.5.0",
       "_view_name": "HTMLView",
       "description": "",
       "description_tooltip": null,
       "layout": "IPY_MODEL_b2f7052d42ca4a65886fdbf00a64f601",
       "placeholder": "​",
       "style": "IPY_MODEL_7f6bceae4c07400bb304b76b96bbfdf1",
       "value": " 20/20 [00:00&lt;00:00, 92.66it/s]"
      }
     },
     "0c2aa76705d844cdb07ae703a875b857": {
      "model_module": "@jupyter-widgets/controls",
      "model_module_version": "1.5.0",
      "model_name": "DescriptionStyleModel",
      "state": {
       "_model_module": "@jupyter-widgets/controls",
       "_model_module_version": "1.5.0",
       "_model_name": "DescriptionStyleModel",
       "_view_count": null,
       "_view_module": "@jupyter-widgets/base",
       "_view_module_version": "1.2.0",
       "_view_name": "StyleView",
       "description_width": ""
      }
     },
     "1d17d82367944c65bc2de347ad0e5f5c": {
      "model_module": "@jupyter-widgets/base",
      "model_module_version": "1.2.0",
      "model_name": "LayoutModel",
      "state": {
       "_model_module": "@jupyter-widgets/base",
       "_model_module_version": "1.2.0",
       "_model_name": "LayoutModel",
       "_view_count": null,
       "_view_module": "@jupyter-widgets/base",
       "_view_module_version": "1.2.0",
       "_view_name": "LayoutView",
       "align_content": null,
       "align_items": null,
       "align_self": null,
       "border": null,
       "bottom": null,
       "display": null,
       "flex": null,
       "flex_flow": null,
       "grid_area": null,
       "grid_auto_columns": null,
       "grid_auto_flow": null,
       "grid_auto_rows": null,
       "grid_column": null,
       "grid_gap": null,
       "grid_row": null,
       "grid_template_areas": null,
       "grid_template_columns": null,
       "grid_template_rows": null,
       "height": null,
       "justify_content": null,
       "justify_items": null,
       "left": null,
       "margin": null,
       "max_height": null,
       "max_width": null,
       "min_height": null,
       "min_width": null,
       "object_fit": null,
       "object_position": null,
       "order": null,
       "overflow": null,
       "overflow_x": null,
       "overflow_y": null,
       "padding": null,
       "right": null,
       "top": null,
       "visibility": null,
       "width": null
      }
     },
     "254145ff0b0a49149c54fee3aaa0a650": {
      "model_module": "@jupyter-widgets/base",
      "model_module_version": "1.2.0",
      "model_name": "LayoutModel",
      "state": {
       "_model_module": "@jupyter-widgets/base",
       "_model_module_version": "1.2.0",
       "_model_name": "LayoutModel",
       "_view_count": null,
       "_view_module": "@jupyter-widgets/base",
       "_view_module_version": "1.2.0",
       "_view_name": "LayoutView",
       "align_content": null,
       "align_items": null,
       "align_self": null,
       "border": null,
       "bottom": null,
       "display": null,
       "flex": null,
       "flex_flow": null,
       "grid_area": null,
       "grid_auto_columns": null,
       "grid_auto_flow": null,
       "grid_auto_rows": null,
       "grid_column": null,
       "grid_gap": null,
       "grid_row": null,
       "grid_template_areas": null,
       "grid_template_columns": null,
       "grid_template_rows": null,
       "height": null,
       "justify_content": null,
       "justify_items": null,
       "left": null,
       "margin": null,
       "max_height": null,
       "max_width": null,
       "min_height": null,
       "min_width": null,
       "object_fit": null,
       "object_position": null,
       "order": null,
       "overflow": null,
       "overflow_x": null,
       "overflow_y": null,
       "padding": null,
       "right": null,
       "top": null,
       "visibility": null,
       "width": null
      }
     },
     "4be769e07c9d4488b6c806672840a8b2": {
      "model_module": "@jupyter-widgets/controls",
      "model_module_version": "1.5.0",
      "model_name": "FloatProgressModel",
      "state": {
       "_dom_classes": [],
       "_model_module": "@jupyter-widgets/controls",
       "_model_module_version": "1.5.0",
       "_model_name": "FloatProgressModel",
       "_view_count": null,
       "_view_module": "@jupyter-widgets/controls",
       "_view_module_version": "1.5.0",
       "_view_name": "ProgressView",
       "bar_style": "success",
       "description": "",
       "description_tooltip": null,
       "layout": "IPY_MODEL_1d17d82367944c65bc2de347ad0e5f5c",
       "max": 20,
       "min": 0,
       "orientation": "horizontal",
       "style": "IPY_MODEL_60caa6b8ea7443ddbfef8dcc6adbe6ae",
       "value": 20
      }
     },
     "60caa6b8ea7443ddbfef8dcc6adbe6ae": {
      "model_module": "@jupyter-widgets/controls",
      "model_module_version": "1.5.0",
      "model_name": "ProgressStyleModel",
      "state": {
       "_model_module": "@jupyter-widgets/controls",
       "_model_module_version": "1.5.0",
       "_model_name": "ProgressStyleModel",
       "_view_count": null,
       "_view_module": "@jupyter-widgets/base",
       "_view_module_version": "1.2.0",
       "_view_name": "StyleView",
       "bar_color": null,
       "description_width": ""
      }
     },
     "7f6bceae4c07400bb304b76b96bbfdf1": {
      "model_module": "@jupyter-widgets/controls",
      "model_module_version": "1.5.0",
      "model_name": "DescriptionStyleModel",
      "state": {
       "_model_module": "@jupyter-widgets/controls",
       "_model_module_version": "1.5.0",
       "_model_name": "DescriptionStyleModel",
       "_view_count": null,
       "_view_module": "@jupyter-widgets/base",
       "_view_module_version": "1.2.0",
       "_view_name": "StyleView",
       "description_width": ""
      }
     },
     "b2f7052d42ca4a65886fdbf00a64f601": {
      "model_module": "@jupyter-widgets/base",
      "model_module_version": "1.2.0",
      "model_name": "LayoutModel",
      "state": {
       "_model_module": "@jupyter-widgets/base",
       "_model_module_version": "1.2.0",
       "_model_name": "LayoutModel",
       "_view_count": null,
       "_view_module": "@jupyter-widgets/base",
       "_view_module_version": "1.2.0",
       "_view_name": "LayoutView",
       "align_content": null,
       "align_items": null,
       "align_self": null,
       "border": null,
       "bottom": null,
       "display": null,
       "flex": null,
       "flex_flow": null,
       "grid_area": null,
       "grid_auto_columns": null,
       "grid_auto_flow": null,
       "grid_auto_rows": null,
       "grid_column": null,
       "grid_gap": null,
       "grid_row": null,
       "grid_template_areas": null,
       "grid_template_columns": null,
       "grid_template_rows": null,
       "height": null,
       "justify_content": null,
       "justify_items": null,
       "left": null,
       "margin": null,
       "max_height": null,
       "max_width": null,
       "min_height": null,
       "min_width": null,
       "object_fit": null,
       "object_position": null,
       "order": null,
       "overflow": null,
       "overflow_x": null,
       "overflow_y": null,
       "padding": null,
       "right": null,
       "top": null,
       "visibility": null,
       "width": null
      }
     },
     "b4e66ff78e2545a3b0db7ffd82f1ef95": {
      "model_module": "@jupyter-widgets/controls",
      "model_module_version": "1.5.0",
      "model_name": "HTMLModel",
      "state": {
       "_dom_classes": [],
       "_model_module": "@jupyter-widgets/controls",
       "_model_module_version": "1.5.0",
       "_model_name": "HTMLModel",
       "_view_count": null,
       "_view_module": "@jupyter-widgets/controls",
       "_view_module_version": "1.5.0",
       "_view_name": "HTMLView",
       "description": "",
       "description_tooltip": null,
       "layout": "IPY_MODEL_254145ff0b0a49149c54fee3aaa0a650",
       "placeholder": "​",
       "style": "IPY_MODEL_0c2aa76705d844cdb07ae703a875b857",
       "value": "100%"
      }
     },
     "badce0b34b3b42e2ac699838be845295": {
      "model_module": "@jupyter-widgets/controls",
      "model_module_version": "1.5.0",
      "model_name": "HBoxModel",
      "state": {
       "_dom_classes": [],
       "_model_module": "@jupyter-widgets/controls",
       "_model_module_version": "1.5.0",
       "_model_name": "HBoxModel",
       "_view_count": null,
       "_view_module": "@jupyter-widgets/controls",
       "_view_module_version": "1.5.0",
       "_view_name": "HBoxView",
       "box_style": "",
       "children": [
        "IPY_MODEL_b4e66ff78e2545a3b0db7ffd82f1ef95",
        "IPY_MODEL_4be769e07c9d4488b6c806672840a8b2",
        "IPY_MODEL_0bc48138ba624680a5e9e7eea1eed093"
       ],
       "layout": "IPY_MODEL_05cf6bec1bf548e7a0836812a2e5a96b"
      }
     }
    },
    "version_major": 2,
    "version_minor": 0
   }
  }
 },
 "nbformat": 4,
 "nbformat_minor": 2
}
