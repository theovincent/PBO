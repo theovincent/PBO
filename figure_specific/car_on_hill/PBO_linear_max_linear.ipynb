{
 "cells": [
  {
   "cell_type": "markdown",
   "metadata": {},
   "source": [
    "# PBO deep on Car On Hill\n",
    "\n",
    "## Define parameters"
   ]
  },
  {
   "cell_type": "code",
   "execution_count": 1,
   "metadata": {
    "execution": {
     "iopub.execute_input": "2022-09-20T10:29:34.984062Z",
     "iopub.status.busy": "2022-09-20T10:29:34.983275Z",
     "iopub.status.idle": "2022-09-20T10:29:35.631706Z",
     "shell.execute_reply": "2022-09-20T10:29:35.631233Z"
    }
   },
   "outputs": [
    {
     "name": "stderr",
     "output_type": "stream",
     "text": [
      "WARNING:absl:No GPU/TPU found, falling back to CPU. (Set TF_CPP_MIN_LOG_LEVEL=0 and rerun for more info.)\n"
     ]
    }
   ],
   "source": [
    "%load_ext autoreload\n",
    "%autoreload 2\n",
    "\n",
    "import warnings\n",
    "warnings.simplefilter(action='ignore', category=FutureWarning)\n",
    "import jax\n",
    "import jax.numpy as jnp\n",
    "import os\n",
    "import json\n",
    "\n",
    "parameters = json.load(open(\"parameters.json\"))\n",
    "env_seed = parameters[\"env_seed\"]\n",
    "gamma = parameters[\"gamma\"]\n",
    "\n",
    "# Sample collection\n",
    "oriented_states = jnp.array(parameters[\"oriented_state\"])\n",
    "n_random_samples = parameters[\"n_random_samples\"]\n",
    "n_oriented_samples = parameters[\"n_oriented_samples\"]\n",
    "n_samples = n_random_samples + n_oriented_samples\n",
    "n_weights = parameters[\"n_weights\"]\n",
    "\n",
    "# Trainings\n",
    "layers_dimension = parameters[\"layers_dimension\"]\n",
    "max_bellman_iterations = parameters[\"max_bellman_iterations\"]\n",
    "training_steps = parameters[\"training_steps\"]\n",
    "fitting_steps = parameters[\"fitting_steps_pbo\"]\n",
    "batch_size_samples = parameters[\"batch_size_samples\"]\n",
    "batch_size_weights = parameters[\"batch_size_weights\"]\n",
    "initial_weight_std = parameters[\"initial_weight_std\"]\n",
    "learning_rate = {\"first\": parameters[\"starting_lr_fqi\"], \"last\": parameters[\"ending_lr_fqi\"], \"duration\": training_steps * fitting_steps * n_samples // batch_size_samples}\n",
    "\n",
    "# Visualisation of errors and performances\n",
    "n_states_x = parameters[\"n_states_x\"]\n",
    "n_states_v = parameters[\"n_states_v\"]\n",
    "horizon = parameters[\"horizon\"]\n",
    "max_bellman_iterations_validation = max_bellman_iterations + 10\n",
    "plot_freq = 100\n",
    "\n",
    "# Search for an unused seed\n",
    "max_used_seed = 0\n",
    "if not os.path.exists(\"figures/data/PBO_linear_max_linear/\"):\n",
    "    os.makedirs(\"figures/data/PBO_linear_max_linear/\")\n",
    "for file in os.listdir(\"figures/data/PBO_linear_max_linear/\"):\n",
    "    if int(file.split(\"_\")[0]) == max_bellman_iterations and int(file.split(\"_\")[2][:-4]) > max_used_seed:\n",
    "        max_used_seed = int(file.split(\"_\")[2][:-4])\n",
    "max_used_seed\n",
    "\n",
    "# keys\n",
    "seed = max_used_seed + 1\n",
    "sample_key = jax.random.PRNGKey(env_seed)\n",
    "key = jax.random.PRNGKey(seed)\n",
    "shuffle_key, q_network_key, pbo_network_key = jax.random.split(key, 3)"
   ]
  },
  {
   "cell_type": "markdown",
   "metadata": {},
   "source": [
    "## Define environment"
   ]
  },
  {
   "cell_type": "code",
   "execution_count": 2,
   "metadata": {
    "execution": {
     "iopub.execute_input": "2022-09-20T10:29:35.633824Z",
     "iopub.status.busy": "2022-09-20T10:29:35.633649Z",
     "iopub.status.idle": "2022-09-20T10:29:35.709182Z",
     "shell.execute_reply": "2022-09-20T10:29:35.708694Z"
    }
   },
   "outputs": [],
   "source": [
    "import numpy as np\n",
    "\n",
    "from pbo.environments.car_on_hill import CarOnHillEnv\n",
    "\n",
    "\n",
    "env = CarOnHillEnv(gamma)\n",
    "\n",
    "states_x = jnp.linspace(-env.max_position, env.max_position, n_states_x)\n",
    "boxes_x_size = (2 * env.max_position) / (n_states_x - 1)\n",
    "states_x_boxes = (np.linspace(-env.max_position, env.max_position + boxes_x_size, n_states_x + 1) - boxes_x_size / 2)\n",
    "states_v = jnp.linspace(-env.max_velocity, env.max_velocity, n_states_v)\n",
    "boxes_v_size = (2 * env.max_velocity) / (n_states_v - 1)\n",
    "states_v_boxes = (np.linspace(-env.max_velocity, env.max_velocity + boxes_v_size, n_states_v + 1) - boxes_v_size / 2)"
   ]
  },
  {
   "cell_type": "markdown",
   "metadata": {},
   "source": [
    "## Collect samples"
   ]
  },
  {
   "cell_type": "markdown",
   "metadata": {},
   "source": [
    "### Samples on the mesh and with a uniform policy"
   ]
  },
  {
   "cell_type": "code",
   "execution_count": 3,
   "metadata": {
    "execution": {
     "iopub.execute_input": "2022-09-20T10:29:35.712656Z",
     "iopub.status.busy": "2022-09-20T10:29:35.712511Z",
     "iopub.status.idle": "2022-09-20T10:29:41.131500Z",
     "shell.execute_reply": "2022-09-20T10:29:41.131030Z"
    }
   },
   "outputs": [
    {
     "name": "stdout",
     "output_type": "stream",
     "text": [
      "Number of episodes: 173\n"
     ]
    }
   ],
   "source": [
    "from pbo.sample_collection.replay_buffer import ReplayBuffer\n",
    "\n",
    "\n",
    "replay_buffer = ReplayBuffer()\n",
    "\n",
    "env.reset()\n",
    "n_episodes = 0\n",
    "n_steps = 0\n",
    "for idx_sample in range(n_random_samples):\n",
    "    state = env.state\n",
    "    \n",
    "    sample_key, key = jax.random.split(sample_key)\n",
    "    action = jax.random.choice(key, env.actions_on_max)\n",
    "    next_state, reward, absorbing, _ = env.step(action)\n",
    "    n_steps += 1\n",
    "\n",
    "    replay_buffer.add(state, action, reward, next_state, absorbing)\n",
    "\n",
    "    if absorbing or n_steps > horizon:\n",
    "        env.reset()\n",
    "        n_episodes += 1\n",
    "        n_steps = 0\n",
    "\n",
    "\n",
    "env.reset(oriented_states[1])\n",
    "n_episodes += 1\n",
    "n_steps = 0\n",
    "for idx_sample in range(n_oriented_samples):\n",
    "    state = env.state\n",
    "    \n",
    "    sample_key, key = jax.random.split(sample_key)\n",
    "    action = jax.random.choice(key, env.actions_on_max)\n",
    "    next_state, reward, absorbing, _ = env.step(action)\n",
    "    n_steps += 1\n",
    "\n",
    "    replay_buffer.add(state, action, reward, next_state, absorbing)\n",
    "\n",
    "    if absorbing or n_steps > horizon:\n",
    "        sample_key, key = jax.random.split(sample_key)\n",
    "        alpha = jax.random.uniform(key)\n",
    "        env.reset(alpha * oriented_states[0] + (1 - alpha) * oriented_states[1])\n",
    "\n",
    "        n_episodes += 1\n",
    "        n_steps = 0\n",
    "\n",
    "replay_buffer.cast_to_jax_array()\n",
    "assert sum(replay_buffer.rewards == 1) > 0, \"No positive reward has been sampled, please do something!\"\n",
    "print(f\"Number of episodes: {n_episodes}\")"
   ]
  },
  {
   "cell_type": "code",
   "execution_count": 4,
   "metadata": {
    "execution": {
     "iopub.execute_input": "2022-09-20T10:29:41.133521Z",
     "iopub.status.busy": "2022-09-20T10:29:41.133389Z",
     "iopub.status.idle": "2022-09-20T10:29:41.206868Z",
     "shell.execute_reply": "2022-09-20T10:29:41.206310Z"
    }
   },
   "outputs": [
    {
     "data": {
      "text/plain": [
       "DeviceArray([[-1],\n",
       "             [ 1],\n",
       "             [ 1],\n",
       "             [ 1],\n",
       "             [ 1],\n",
       "             [-1],\n",
       "             [ 1],\n",
       "             [-1],\n",
       "             [ 1],\n",
       "             [-1],\n",
       "             [ 1],\n",
       "             [-1],\n",
       "             [-1],\n",
       "             [ 1],\n",
       "             [ 1],\n",
       "             [ 1],\n",
       "             [ 1],\n",
       "             [-1],\n",
       "             [-1]], dtype=int32)"
      ]
     },
     "execution_count": 4,
     "metadata": {},
     "output_type": "execute_result"
    }
   ],
   "source": [
    "replay_buffer.actions[(replay_buffer.rewards == 1).flatten()]"
   ]
  },
  {
   "cell_type": "markdown",
   "metadata": {},
   "source": [
    "### Visualize samples"
   ]
  },
  {
   "cell_type": "code",
   "execution_count": 5,
   "metadata": {
    "execution": {
     "iopub.execute_input": "2022-09-20T10:29:41.208850Z",
     "iopub.status.busy": "2022-09-20T10:29:41.208713Z",
     "iopub.status.idle": "2022-09-20T10:29:44.832735Z",
     "shell.execute_reply": "2022-09-20T10:29:44.832319Z"
    }
   },
   "outputs": [
    {
     "data": {
      "image/png": "[encoded data removed]",
      "text/plain": [
       "<Figure size 432x288 with 2 Axes>"
      ]
     },
     "metadata": {
      "needs_background": "light"
     },
     "output_type": "display_data"
    }
   ],
   "source": [
    "from pbo.sample_collection.count_samples import count_samples\n",
    "from pbo.utils.two_dimesions_mesh import TwoDimesionsMesh\n",
    "\n",
    "\n",
    "samples_count, n_outside_boxes, rewards_count = count_samples(replay_buffer.states[:, 0], replay_buffer.states[:, 1], states_x_boxes, states_v_boxes, replay_buffer.rewards)\n",
    "samples_visu_mesh = TwoDimesionsMesh(states_x, states_v, sleeping_time=0, axis_equal=False)\n",
    "\n",
    "samples_visu_mesh.set_values(samples_count, zeros_to_nan=True)\n",
    "samples_visu_mesh.show(\n",
    "    f\"Samples repartition, \\n{int(100 * n_outside_boxes / n_samples)}% are outside the box.\", xlabel=\"x\", ylabel=\"v\"\n",
    ")"
   ]
  },
  {
   "cell_type": "code",
   "execution_count": 6,
   "metadata": {
    "execution": {
     "iopub.execute_input": "2022-09-20T10:29:44.835059Z",
     "iopub.status.busy": "2022-09-20T10:29:44.834855Z",
     "iopub.status.idle": "2022-09-20T10:29:45.017824Z",
     "shell.execute_reply": "2022-09-20T10:29:45.017307Z"
    }
   },
   "outputs": [
    {
     "data": {
      "image/png": "[encoded data removed]",
      "text/plain": [
       "<Figure size 432x288 with 2 Axes>"
      ]
     },
     "metadata": {
      "needs_background": "light"
     },
     "output_type": "display_data"
    }
   ],
   "source": [
    "samples_visu_mesh.set_values(rewards_count, zeros_to_nan=True)\n",
    "samples_visu_mesh.show(\n",
    "    f\"Rewards repartition, \\n{int(100 * n_outside_boxes / n_samples)}% are outside the box.\", xlabel=\"x\", ylabel=\"v\"\n",
    ")"
   ]
  },
  {
   "cell_type": "markdown",
   "metadata": {},
   "source": [
    "## Collect weights"
   ]
  },
  {
   "cell_type": "code",
   "execution_count": 7,
   "metadata": {
    "execution": {
     "iopub.execute_input": "2022-09-20T10:29:45.020212Z",
     "iopub.status.busy": "2022-09-20T10:29:45.020071Z",
     "iopub.status.idle": "2022-09-20T10:29:45.350346Z",
     "shell.execute_reply": "2022-09-20T10:29:45.349891Z"
    }
   },
   "outputs": [],
   "source": [
    "from pbo.weights_collection.weights_buffer import WeightsBuffer\n",
    "from pbo.networks.learnable_q import FullyConnectedQ\n",
    "\n",
    "\n",
    "weights_buffer = WeightsBuffer()\n",
    "\n",
    "# Add the validation weights\n",
    "q = FullyConnectedQ(\n",
    "    state_dim=2,\n",
    "    action_dim=1,\n",
    "    actions_on_max=env.actions_on_max,\n",
    "    gamma=gamma,\n",
    "    network_key=q_network_key,\n",
    "    layers_dimension=layers_dimension,\n",
    "    zero_initializer=True,\n",
    ")\n",
    "validation_weights = q.to_weights(q.params)\n",
    "weights_buffer.add(validation_weights)\n",
    "\n",
    "# Add random weights\n",
    "while len(weights_buffer) < n_weights:\n",
    "    weights = q.random_init_weights()\n",
    "    weights_buffer.add(weights)\n",
    "\n",
    "weights_buffer.cast_to_jax_array()"
   ]
  },
  {
   "cell_type": "markdown",
   "metadata": {},
   "source": [
    "## Train linear PBO"
   ]
  },
  {
   "cell_type": "code",
   "execution_count": 8,
   "metadata": {
    "execution": {
     "iopub.execute_input": "2022-09-20T10:29:45.352907Z",
     "iopub.status.busy": "2022-09-20T10:29:45.352769Z",
     "iopub.status.idle": "2022-09-20T10:31:46.593453Z",
     "shell.execute_reply": "2022-09-20T10:31:46.593004Z"
    }
   },
   "outputs": [
    {
     "data": {
      "image/png": "[encoded data removed]",
      "text/plain": [
       "<Figure size 432x288 with 2 Axes>"
      ]
     },
     "metadata": {
      "needs_background": "light"
     },
     "output_type": "display_data"
    },
    {
     "data": {
      "image/png": "[encoded data removed]",
      "text/plain": [
       "<Figure size 432x288 with 1 Axes>"
      ]
     },
     "metadata": {
      "needs_background": "light"
     },
     "output_type": "display_data"
    }
   ],
   "source": [
    "import matplotlib.pyplot as plt\n",
    "\n",
    "from pbo.sample_collection.dataloader import SampleDataLoader\n",
    "from pbo.weights_collection.dataloader import WeightsDataLoader\n",
    "from pbo.networks.learnable_pbo import LinearMaxLinearPBO\n",
    "\n",
    "\n",
    "q_visu_mesh = TwoDimesionsMesh(states_x, states_v, sleeping_time=0, axis_equal=False, zero_centered=True)\n",
    "\n",
    "data_loader_samples = SampleDataLoader(replay_buffer, batch_size_samples, shuffle_key)\n",
    "data_loader_weights = WeightsDataLoader(weights_buffer, batch_size_weights, shuffle_key)\n",
    "pbo = LinearMaxLinearPBO(\n",
    "    q=q,\n",
    "    max_bellman_iterations=max_bellman_iterations,\n",
    "    network_key=pbo_network_key,\n",
    "    learning_rate=learning_rate,\n",
    "    initial_weight_std=initial_weight_std\n",
    ")\n",
    "importance_iteration = jnp.ones(max_bellman_iterations + 1)\n",
    "\n",
    "l2_losses = np.ones((training_steps, fitting_steps)) * np.nan\n",
    "\n",
    "for training_step in range(training_steps):\n",
    "    params_target = pbo.params\n",
    "\n",
    "    for fitting_step in range(fitting_steps):\n",
    "        cumulative_l2_loss = 0\n",
    "\n",
    "        data_loader_weights.shuffle()\n",
    "        for batch_weights in data_loader_weights:\n",
    "            data_loader_samples.shuffle()\n",
    "            for batch_samples in data_loader_samples:\n",
    "                pbo.params, pbo.optimizer_state, l2_loss = pbo.learn_on_batch(\n",
    "                    pbo.params, params_target, pbo.optimizer_state, batch_weights, batch_samples, importance_iteration\n",
    "                )\n",
    "                cumulative_l2_loss += l2_loss\n",
    "        \n",
    "        l2_losses[training_step, fitting_step] = cumulative_l2_loss\n",
    "\n",
    "    if (training_step + 1) % plot_freq == 0 or training_step + 1 == training_steps:\n",
    "        q_weight = validation_weights\n",
    "        for _ in range(max_bellman_iterations + 3):\n",
    "            q_weight = pbo(pbo.params, q_weight.reshape((1, -1)))[0]\n",
    "\n",
    "        diff_q = env.diff_q_mesh(q, q.to_params(q_weight), states_x, states_v)\n",
    "\n",
    "        q_visu_mesh.set_values(diff_q)\n",
    "        q_visu_mesh.show(f\"Q differences, \\nl2 loss: {str(jnp.round(cumulative_l2_loss, 3))}, training step {training_step + 1}, fitting step: {fitting_step + 1}\", xlabel=\"x\", ylabel=\"v\")\n",
    "\n",
    "\n",
    "for training_step in range(0, training_steps, max(training_steps // 10, 1)):\n",
    "    plt.plot(l2_losses[training_step], label=f\"Training step {training_step + 1}\")\n",
    "\n",
    "plt.legend()\n",
    "plt.xlabel(\"fitting step\")\n",
    "plt.ylabel(r\"$\\sum_{k} \\left(\\Gamma^*Q_{\\Gamma_{\\phi_i}^k(w)} - Q_{\\Gamma_{\\phi_{i + 1}}^{k + 1}(w)} \\right)^2$\")\n",
    "plt.title(\"Training losses\")\n",
    "plt.show()"
   ]
  },
  {
   "cell_type": "code",
   "execution_count": 9,
   "metadata": {
    "execution": {
     "iopub.execute_input": "2022-09-20T10:31:46.595250Z",
     "iopub.status.busy": "2022-09-20T10:31:46.595105Z",
     "iopub.status.idle": "2022-09-20T10:31:46.840558Z",
     "shell.execute_reply": "2022-09-20T10:31:46.840063Z"
    }
   },
   "outputs": [
    {
     "data": {
      "image/png": "[encoded data removed]",
      "text/plain": [
       "<Figure size 432x288 with 2 Axes>"
      ]
     },
     "metadata": {
      "needs_background": "light"
     },
     "output_type": "display_data"
    }
   ],
   "source": [
    "test_bellman_iterations = max_bellman_iterations\n",
    "\n",
    "q_weight = validation_weights\n",
    "for _ in range(test_bellman_iterations):\n",
    "    q_weight = pbo(pbo.params, q_weight.reshape((1, -1)))[0]\n",
    "\n",
    "q.params = q.to_params(q_weight)\n",
    "diff_q = env.diff_q_mesh(q, q.params, states_x, states_v)\n",
    "\n",
    "q_visu_mesh.set_values(diff_q)\n",
    "q_visu_mesh.show(f\"Q policy, {test_bellman_iterations} iterations\", xlabel=\"x\", ylabel=\"v\")"
   ]
  },
  {
   "cell_type": "code",
   "execution_count": 10,
   "metadata": {
    "execution": {
     "iopub.execute_input": "2022-09-20T10:31:46.842603Z",
     "iopub.status.busy": "2022-09-20T10:31:46.842413Z",
     "iopub.status.idle": "2022-09-20T10:31:46.856342Z",
     "shell.execute_reply": "2022-09-20T10:31:46.855822Z"
    }
   },
   "outputs": [],
   "source": [
    "# env.simulate(q, horizon, jnp.array([-0.5, 0]))"
   ]
  },
  {
   "cell_type": "code",
   "execution_count": 11,
   "metadata": {
    "execution": {
     "iopub.execute_input": "2022-09-20T10:31:46.858237Z",
     "iopub.status.busy": "2022-09-20T10:31:46.858063Z",
     "iopub.status.idle": "2022-09-20T10:31:47.071466Z",
     "shell.execute_reply": "2022-09-20T10:31:47.071011Z"
    }
   },
   "outputs": [
    {
     "data": {
      "image/png": "[encoded data removed]",
      "text/plain": [
       "<Figure size 432x288 with 2 Axes>"
      ]
     },
     "metadata": {
      "needs_background": "light"
     },
     "output_type": "display_data"
    }
   ],
   "source": [
    "q_visu_mesh.set_values((diff_q > 0).astype(float))\n",
    "q_visu_mesh.show(f\"PBO Q policy, {test_bellman_iterations} iterations\", xlabel=\"x\", ylabel=\"v\")"
   ]
  },
  {
   "cell_type": "code",
   "execution_count": 12,
   "metadata": {
    "execution": {
     "iopub.execute_input": "2022-09-20T10:31:47.073627Z",
     "iopub.status.busy": "2022-09-20T10:31:47.073488Z",
     "iopub.status.idle": "2022-09-20T10:31:53.649339Z",
     "shell.execute_reply": "2022-09-20T10:31:53.648872Z"
    }
   },
   "outputs": [
    {
     "data": {
      "image/png": "[encoded data removed]",
      "text/plain": [
       "<Figure size 432x288 with 2 Axes>"
      ]
     },
     "metadata": {
      "needs_background": "light"
     },
     "output_type": "display_data"
    }
   ],
   "source": [
    "v_mesh_pbo = env.v_mesh(q, horizon, states_x, states_v)\n",
    "\n",
    "v_mesh_weighted_average = v_mesh_pbo * samples_count\n",
    "\n",
    "q_visu_mesh.set_values(v_mesh_weighted_average)\n",
    "q_visu_mesh.show(r\"$V^{\\pi_{pbo\\_deep}}, \\mathbb{E}\\left[ V^{\\pi_{pbo}} \\right] =$\" + str(np.round(np.mean(v_mesh_weighted_average), 2)), xlabel=\"x\", ylabel=\"v\")"
   ]
  },
  {
   "cell_type": "markdown",
   "metadata": {},
   "source": [
    "## Save the data"
   ]
  },
  {
   "cell_type": "code",
   "execution_count": 13,
   "metadata": {
    "execution": {
     "iopub.execute_input": "2022-09-20T10:31:53.651597Z",
     "iopub.status.busy": "2022-09-20T10:31:53.651458Z",
     "iopub.status.idle": "2022-09-20T10:35:57.796415Z",
     "shell.execute_reply": "2022-09-20T10:35:57.795987Z"
    }
   },
   "outputs": [
    {
     "data": {
      "application/vnd.jupyter.widget-view+json": {
       "model_id": "802d366ce00b44c0a60a09105cf9580d",
       "version_major": 2,
       "version_minor": 0
      },
      "text/plain": [
       "  0%|          | 0/19 [00:00<?, ?it/s]"
      ]
     },
     "metadata": {},
     "output_type": "display_data"
    }
   ],
   "source": [
    "from tqdm.notebook import tqdm\n",
    "\n",
    "\n",
    "iterated_q = np.zeros((max_bellman_iterations_validation + 1, n_states_x, n_states_v, 2))\n",
    "iterated_v = np.zeros((max_bellman_iterations_validation + 1, n_states_x, n_states_v))\n",
    "q_weights = validation_weights\n",
    "\n",
    "q.params = q.to_params(q_weights)\n",
    "iterated_q[0] = env.q_mesh(q, q.params, states_x, states_v)\n",
    "iterated_v[0] = env.v_mesh(q, horizon, states_x, states_v)\n",
    "\n",
    "for iteration in tqdm(range(1, max_bellman_iterations_validation + 1)):\n",
    "    q_weights = pbo(pbo.params, q_weights.reshape((1, -1)))[0]\n",
    "\n",
    "    q.params = q.to_params(q_weights)\n",
    "    iterated_q[iteration] = env.q_mesh(q, q.params, states_x, states_v)\n",
    "    iterated_v[iteration] = env.v_mesh(q, horizon, states_x, states_v)"
   ]
  },
  {
   "cell_type": "code",
   "execution_count": 14,
   "metadata": {
    "execution": {
     "iopub.execute_input": "2022-09-20T10:35:57.798070Z",
     "iopub.status.busy": "2022-09-20T10:35:57.797931Z",
     "iopub.status.idle": "2022-09-20T10:35:57.808774Z",
     "shell.execute_reply": "2022-09-20T10:35:57.808318Z"
    }
   },
   "outputs": [],
   "source": [
    "np.save(f\"figures/data/PBO_linear_max_linear/{max_bellman_iterations}_Q_{seed}.npy\", iterated_q)\n",
    "np.save(f\"figures/data/PBO_linear_max_linear/{max_bellman_iterations}_V_{seed}.npy\", iterated_v)"
   ]
  }
 ],
 "metadata": {
  "kernelspec": {
   "display_name": "Python 3.8.10 ('env_cpu': venv)",
   "language": "python",
   "name": "python3"
  },
  "language_info": {
   "codemirror_mode": {
    "name": "ipython",
    "version": 3
   },
   "file_extension": ".py",
   "mimetype": "text/x-python",
   "name": "python",
   "nbconvert_exporter": "python",
   "pygments_lexer": "ipython3",
   "version": "3.8.10"
  },
  "vscode": {
   "interpreter": {
    "hash": "af5525a3273d35d601ae265c5d3634806dd61a1c4d085ae098611a6832982bdb"
   }
  },
  "widgets": {
   "application/vnd.jupyter.widget-state+json": {
    "state": {
     "025c78b3cff5460b8ef0c19b6a0592b9": {
      "model_module": "@jupyter-widgets/base",
      "model_module_version": "1.2.0",
      "model_name": "LayoutModel",
      "state": {
       "_model_module": "@jupyter-widgets/base",
       "_model_module_version": "1.2.0",
       "_model_name": "LayoutModel",
       "_view_count": null,
       "_view_module": "@jupyter-widgets/base",
       "_view_module_version": "1.2.0",
       "_view_name": "LayoutView",
       "align_content": null,
       "align_items": null,
       "align_self": null,
       "border": null,
       "bottom": null,
       "display": null,
       "flex": null,
       "flex_flow": null,
       "grid_area": null,
       "grid_auto_columns": null,
       "grid_auto_flow": null,
       "grid_auto_rows": null,
       "grid_column": null,
       "grid_gap": null,
       "grid_row": null,
       "grid_template_areas": null,
       "grid_template_columns": null,
       "grid_template_rows": null,
       "height": null,
       "justify_content": null,
       "justify_items": null,
       "left": null,
       "margin": null,
       "max_height": null,
       "max_width": null,
       "min_height": null,
       "min_width": null,
       "object_fit": null,
       "object_position": null,
       "order": null,
       "overflow": null,
       "overflow_x": null,
       "overflow_y": null,
       "padding": null,
       "right": null,
       "top": null,
       "visibility": null,
       "width": null
      }
     },
     "0a3fb7bb3e544cb68e28e8fc41595cc1": {
      "model_module": "@jupyter-widgets/controls",
      "model_module_version": "1.5.0",
      "model_name": "HTMLModel",
      "state": {
       "_dom_classes": [],
       "_model_module": "@jupyter-widgets/controls",
       "_model_module_version": "1.5.0",
       "_model_name": "HTMLModel",
       "_view_count": null,
       "_view_module": "@jupyter-widgets/controls",
       "_view_module_version": "1.5.0",
       "_view_name": "HTMLView",
       "description": "",
       "description_tooltip": null,
       "layout": "IPY_MODEL_3974118e0b6d479e8982fa29adf227af",
       "placeholder": "​",
       "style": "IPY_MODEL_10000f71e5bd4c28b34c187fbbb8c245",
       "value": " 19/19 [03:58&lt;00:00,  5.89s/it]"
      }
     },
     "10000f71e5bd4c28b34c187fbbb8c245": {
      "model_module": "@jupyter-widgets/controls",
      "model_module_version": "1.5.0",
      "model_name": "DescriptionStyleModel",
      "state": {
       "_model_module": "@jupyter-widgets/controls",
       "_model_module_version": "1.5.0",
       "_model_name": "DescriptionStyleModel",
       "_view_count": null,
       "_view_module": "@jupyter-widgets/base",
       "_view_module_version": "1.2.0",
       "_view_name": "StyleView",
       "description_width": ""
      }
     },
     "2a7ed6f11d7944049291e46cb7cadc78": {
      "model_module": "@jupyter-widgets/base",
      "model_module_version": "1.2.0",
      "model_name": "LayoutModel",
      "state": {
       "_model_module": "@jupyter-widgets/base",
       "_model_module_version": "1.2.0",
       "_model_name": "LayoutModel",
       "_view_count": null,
       "_view_module": "@jupyter-widgets/base",
       "_view_module_version": "1.2.0",
       "_view_name": "LayoutView",
       "align_content": null,
       "align_items": null,
       "align_self": null,
       "border": null,
       "bottom": null,
       "display": null,
       "flex": null,
       "flex_flow": null,
       "grid_area": null,
       "grid_auto_columns": null,
       "grid_auto_flow": null,
       "grid_auto_rows": null,
       "grid_column": null,
       "grid_gap": null,
       "grid_row": null,
       "grid_template_areas": null,
       "grid_template_columns": null,
       "grid_template_rows": null,
       "height": null,
       "justify_content": null,
       "justify_items": null,
       "left": null,
       "margin": null,
       "max_height": null,
       "max_width": null,
       "min_height": null,
       "min_width": null,
       "object_fit": null,
       "object_position": null,
       "order": null,
       "overflow": null,
       "overflow_x": null,
       "overflow_y": null,
       "padding": null,
       "right": null,
       "top": null,
       "visibility": null,
       "width": null
      }
     },
     "3974118e0b6d479e8982fa29adf227af": {
      "model_module": "@jupyter-widgets/base",
      "model_module_version": "1.2.0",
      "model_name": "LayoutModel",
      "state": {
       "_model_module": "@jupyter-widgets/base",
       "_model_module_version": "1.2.0",
       "_model_name": "LayoutModel",
       "_view_count": null,
       "_view_module": "@jupyter-widgets/base",
       "_view_module_version": "1.2.0",
       "_view_name": "LayoutView",
       "align_content": null,
       "align_items": null,
       "align_self": null,
       "border": null,
       "bottom": null,
       "display": null,
       "flex": null,
       "flex_flow": null,
       "grid_area": null,
       "grid_auto_columns": null,
       "grid_auto_flow": null,
       "grid_auto_rows": null,
       "grid_column": null,
       "grid_gap": null,
       "grid_row": null,
       "grid_template_areas": null,
       "grid_template_columns": null,
       "grid_template_rows": null,
       "height": null,
       "justify_content": null,
       "justify_items": null,
       "left": null,
       "margin": null,
       "max_height": null,
       "max_width": null,
       "min_height": null,
       "min_width": null,
       "object_fit": null,
       "object_position": null,
       "order": null,
       "overflow": null,
       "overflow_x": null,
       "overflow_y": null,
       "padding": null,
       "right": null,
       "top": null,
       "visibility": null,
       "width": null
      }
     },
     "4f021fade0a642d7a171c35985543a84": {
      "model_module": "@jupyter-widgets/base",
      "model_module_version": "1.2.0",
      "model_name": "LayoutModel",
      "state": {
       "_model_module": "@jupyter-widgets/base",
       "_model_module_version": "1.2.0",
       "_model_name": "LayoutModel",
       "_view_count": null,
       "_view_module": "@jupyter-widgets/base",
       "_view_module_version": "1.2.0",
       "_view_name": "LayoutView",
       "align_content": null,
       "align_items": null,
       "align_self": null,
       "border": null,
       "bottom": null,
       "display": null,
       "flex": null,
       "flex_flow": null,
       "grid_area": null,
       "grid_auto_columns": null,
       "grid_auto_flow": null,
       "grid_auto_rows": null,
       "grid_column": null,
       "grid_gap": null,
       "grid_row": null,
       "grid_template_areas": null,
       "grid_template_columns": null,
       "grid_template_rows": null,
       "height": null,
       "justify_content": null,
       "justify_items": null,
       "left": null,
       "margin": null,
       "max_height": null,
       "max_width": null,
       "min_height": null,
       "min_width": null,
       "object_fit": null,
       "object_position": null,
       "order": null,
       "overflow": null,
       "overflow_x": null,
       "overflow_y": null,
       "padding": null,
       "right": null,
       "top": null,
       "visibility": null,
       "width": null
      }
     },
     "54a42cbf232b4eac8491837fa42630de": {
      "model_module": "@jupyter-widgets/controls",
      "model_module_version": "1.5.0",
      "model_name": "HTMLModel",
      "state": {
       "_dom_classes": [],
       "_model_module": "@jupyter-widgets/controls",
       "_model_module_version": "1.5.0",
       "_model_name": "HTMLModel",
       "_view_count": null,
       "_view_module": "@jupyter-widgets/controls",
       "_view_module_version": "1.5.0",
       "_view_name": "HTMLView",
       "description": "",
       "description_tooltip": null,
       "layout": "IPY_MODEL_2a7ed6f11d7944049291e46cb7cadc78",
       "placeholder": "​",
       "style": "IPY_MODEL_f6287c2dab4542d3986570a63269e337",
       "value": "100%"
      }
     },
     "7184e37022cf4b8381ab8483eb1a43c2": {
      "model_module": "@jupyter-widgets/controls",
      "model_module_version": "1.5.0",
      "model_name": "FloatProgressModel",
      "state": {
       "_dom_classes": [],
       "_model_module": "@jupyter-widgets/controls",
       "_model_module_version": "1.5.0",
       "_model_name": "FloatProgressModel",
       "_view_count": null,
       "_view_module": "@jupyter-widgets/controls",
       "_view_module_version": "1.5.0",
       "_view_name": "ProgressView",
       "bar_style": "success",
       "description": "",
       "description_tooltip": null,
       "layout": "IPY_MODEL_025c78b3cff5460b8ef0c19b6a0592b9",
       "max": 19.0,
       "min": 0.0,
       "orientation": "horizontal",
       "style": "IPY_MODEL_bd0d333cbd4d45f59c0e49134a0b1c1f",
       "value": 19.0
      }
     },
     "802d366ce00b44c0a60a09105cf9580d": {
      "model_module": "@jupyter-widgets/controls",
      "model_module_version": "1.5.0",
      "model_name": "HBoxModel",
      "state": {
       "_dom_classes": [],
       "_model_module": "@jupyter-widgets/controls",
       "_model_module_version": "1.5.0",
       "_model_name": "HBoxModel",
       "_view_count": null,
       "_view_module": "@jupyter-widgets/controls",
       "_view_module_version": "1.5.0",
       "_view_name": "HBoxView",
       "box_style": "",
       "children": [
        "IPY_MODEL_54a42cbf232b4eac8491837fa42630de",
        "IPY_MODEL_7184e37022cf4b8381ab8483eb1a43c2",
        "IPY_MODEL_0a3fb7bb3e544cb68e28e8fc41595cc1"
       ],
       "layout": "IPY_MODEL_4f021fade0a642d7a171c35985543a84"
      }
     },
     "bd0d333cbd4d45f59c0e49134a0b1c1f": {
      "model_module": "@jupyter-widgets/controls",
      "model_module_version": "1.5.0",
      "model_name": "ProgressStyleModel",
      "state": {
       "_model_module": "@jupyter-widgets/controls",
       "_model_module_version": "1.5.0",
       "_model_name": "ProgressStyleModel",
       "_view_count": null,
       "_view_module": "@jupyter-widgets/base",
       "_view_module_version": "1.2.0",
       "_view_name": "StyleView",
       "bar_color": null,
       "description_width": ""
      }
     },
     "f6287c2dab4542d3986570a63269e337": {
      "model_module": "@jupyter-widgets/controls",
      "model_module_version": "1.5.0",
      "model_name": "DescriptionStyleModel",
      "state": {
       "_model_module": "@jupyter-widgets/controls",
       "_model_module_version": "1.5.0",
       "_model_name": "DescriptionStyleModel",
       "_view_count": null,
       "_view_module": "@jupyter-widgets/base",
       "_view_module_version": "1.2.0",
       "_view_name": "StyleView",
       "description_width": ""
      }
     }
    },
    "version_major": 2,
    "version_minor": 0
   }
  }
 },
 "nbformat": 4,
 "nbformat_minor": 2
}
