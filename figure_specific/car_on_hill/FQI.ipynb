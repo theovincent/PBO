{
    "cells": [
        {
            "cell_type": "markdown",
            "metadata": {},
            "source": [
                "# FQI on Car On Hill\n",
                "\n",
                "## Define parameters"
            ]
        },
        {
            "cell_type": "code",
            "execution_count": 1,
            "metadata": {
                "execution": {
                    "iopub.execute_input": "2022-09-09T17:47:01.044515Z",
                    "iopub.status.busy": "2022-09-09T17:47:01.043728Z",
                    "iopub.status.idle": "2022-09-09T17:47:01.685665Z",
                    "shell.execute_reply": "2022-09-09T17:47:01.685182Z"
                }
            },
            "outputs": [
                {
                    "name": "stderr",
                    "output_type": "stream",
                    "text": [
                        "WARNING:absl:No GPU/TPU found, falling back to CPU. (Set TF_CPP_MIN_LOG_LEVEL=0 and rerun for more info.)\n"
                    ]
                }
            ],
            "source": [
                "%load_ext autoreload\n",
                "%autoreload 2\n",
                "\n",
                "import warnings\n",
                "warnings.simplefilter(action='ignore', category=FutureWarning)\n",
                "import jax\n",
                "import jax.numpy as jnp\n",
                "import os\n",
                "import json\n",
                "\n",
                "parameters = json.load(open(\"parameters.json\"))\n",
                "env_seed = parameters[\"env_seed\"]\n",
                "gamma = parameters[\"gamma\"]\n",
                "\n",
                "# Sample collection\n",
                "oriented_states = jnp.array(parameters[\"oriented_state\"])\n",
                "n_random_samples = parameters[\"n_random_samples\"]\n",
                "n_oriented_samples = parameters[\"n_oriented_samples\"]\n",
                "n_samples = n_random_samples + n_oriented_samples\n",
                "\n",
                "# Trainings\n",
                "layers_dimension = parameters[\"layers_dimension\"]\n",
                "max_bellman_iterations = parameters[\"max_bellman_iterations\"]\n",
                "batch_size_samples = n_samples\n",
                "fitting_steps = parameters[\"fitting_steps_fqi\"]\n",
                "learning_rate = {\"first\": parameters[\"starting_lr_fqi\"], \"last\": parameters[\"ending_lr_fqi\"], \"duration\": fitting_steps * n_samples // batch_size_samples}\n",
                "max_patience = parameters[\"patience\"]\n",
                "\n",
                "# Visualisation of errors and performances\n",
                "n_states_x = parameters[\"n_states_x\"]\n",
                "n_states_v = parameters[\"n_states_v\"]\n",
                "horizon = parameters[\"horizon\"]\n",
                "\n",
                "# Search for an unused seed\n",
                "max_used_seed = 0\n",
                "if not os.path.exists(\"figures/data/FQI/\"):\n",
                "    os.makedirs(\"figures/data/FQI/\")\n",
                "for file in os.listdir(\"figures/data/FQI/\"):\n",
                "    if int(file.split(\"_\")[0]) == max_bellman_iterations and int(file.split(\"_\")[2][:-4]) > max_used_seed:\n",
                "        max_used_seed = int(file.split(\"_\")[2][:-4])\n",
                "max_used_seed\n",
                "\n",
                "# keys\n",
                "seed = max_used_seed + 1\n",
                "sample_key = jax.random.PRNGKey(env_seed)\n",
                "key = jax.random.PRNGKey(seed)\n",
                "shuffle_key, q_network_key, _ = jax.random.split(key, 3) # 3 keys are generated to be coherent with the other trainings"
            ]
        },
        {
            "cell_type": "markdown",
            "metadata": {},
            "source": [
                "## Define environment"
            ]
        },
        {
            "cell_type": "code",
            "execution_count": 2,
            "metadata": {
                "execution": {
                    "iopub.execute_input": "2022-09-09T17:47:01.688227Z",
                    "iopub.status.busy": "2022-09-09T17:47:01.688020Z",
                    "iopub.status.idle": "2022-09-09T17:47:01.749254Z",
                    "shell.execute_reply": "2022-09-09T17:47:01.748770Z"
                }
            },
            "outputs": [],
            "source": [
                "import numpy as np\n",
                "\n",
                "from pbo.environments.car_on_hill import CarOnHillEnv\n",
                "\n",
                "\n",
                "env = CarOnHillEnv(gamma)\n",
                "\n",
                "states_x = jnp.linspace(-env.max_position, env.max_position, n_states_x)\n",
                "boxes_x_size = (2 * env.max_position) / (n_states_x - 1)\n",
                "states_x_boxes = (np.linspace(-env.max_position, env.max_position + boxes_x_size, n_states_x + 1) - boxes_x_size / 2)\n",
                "states_v = jnp.linspace(-env.max_velocity, env.max_velocity, n_states_v)\n",
                "boxes_v_size = (2 * env.max_velocity) / (n_states_v - 1)\n",
                "states_v_boxes = (np.linspace(-env.max_velocity, env.max_velocity + boxes_v_size, n_states_v + 1) - boxes_v_size / 2)"
            ]
        },
        {
            "cell_type": "markdown",
            "metadata": {},
            "source": [
                "## Collect samples"
            ]
        },
        {
            "cell_type": "markdown",
            "metadata": {},
            "source": [
                "### Samples on the mesh and with a uniform policy"
            ]
        },
        {
            "cell_type": "code",
            "execution_count": 3,
            "metadata": {
                "execution": {
                    "iopub.execute_input": "2022-09-09T17:47:01.752962Z",
                    "iopub.status.busy": "2022-09-09T17:47:01.752823Z",
                    "iopub.status.idle": "2022-09-09T17:47:06.231206Z",
                    "shell.execute_reply": "2022-09-09T17:47:06.230686Z"
                }
            },
            "outputs": [
                {
                    "name": "stdout",
                    "output_type": "stream",
                    "text": [
                        "Number of episodes: 173\n"
                    ]
                }
            ],
            "source": [
                "from pbo.sample_collection.replay_buffer import ReplayBuffer\n",
                "\n",
                "\n",
                "replay_buffer = ReplayBuffer()\n",
                "\n",
                "env.reset()\n",
                "n_episodes = 0\n",
                "n_steps = 0\n",
                "for idx_sample in range(n_random_samples):\n",
                "    state = env.state\n",
                "    \n",
                "    sample_key, key = jax.random.split(sample_key)\n",
                "    action = jax.random.choice(key, env.actions_on_max)\n",
                "    next_state, reward, absorbing, _ = env.step(action)\n",
                "    n_steps += 1\n",
                "\n",
                "    replay_buffer.add(state, action, reward, next_state, absorbing)\n",
                "\n",
                "    if absorbing or n_steps > horizon:\n",
                "        env.reset()\n",
                "        n_episodes += 1\n",
                "        n_steps = 0\n",
                "\n",
                "\n",
                "env.reset(oriented_states[1])\n",
                "n_episodes += 1\n",
                "n_steps = 0\n",
                "for idx_sample in range(n_oriented_samples):\n",
                "    state = env.state\n",
                "    \n",
                "    sample_key, key = jax.random.split(sample_key)\n",
                "    action = jax.random.choice(key, env.actions_on_max)\n",
                "    next_state, reward, absorbing, _ = env.step(action)\n",
                "    n_steps += 1\n",
                "\n",
                "    replay_buffer.add(state, action, reward, next_state, absorbing)\n",
                "\n",
                "    if absorbing or n_steps > horizon:\n",
                "        sample_key, key = jax.random.split(sample_key)\n",
                "        alpha = jax.random.uniform(key)\n",
                "        env.reset(alpha * oriented_states[0] + (1 - alpha) * oriented_states[1])\n",
                "\n",
                "        n_episodes += 1\n",
                "        n_steps = 0\n",
                "\n",
                "replay_buffer.cast_to_jax_array()\n",
                "assert sum(replay_buffer.rewards == 1) > 0, \"No positive reward has been sampled, please do something!\"\n",
                "print(f\"Number of episodes: {n_episodes}\")"
            ]
        },
        {
            "cell_type": "code",
            "execution_count": 4,
            "metadata": {
                "execution": {
                    "iopub.execute_input": "2022-09-09T17:47:06.233270Z",
                    "iopub.status.busy": "2022-09-09T17:47:06.233093Z",
                    "iopub.status.idle": "2022-09-09T17:47:06.309067Z",
                    "shell.execute_reply": "2022-09-09T17:47:06.308475Z"
                }
            },
            "outputs": [
                {
                    "data": {
                        "text/plain": [
                            "DeviceArray([[-1],\n",
                            "             [ 1],\n",
                            "             [ 1],\n",
                            "             [ 1],\n",
                            "             [ 1],\n",
                            "             [-1],\n",
                            "             [ 1],\n",
                            "             [-1],\n",
                            "             [ 1],\n",
                            "             [-1],\n",
                            "             [ 1],\n",
                            "             [-1],\n",
                            "             [-1],\n",
                            "             [ 1],\n",
                            "             [ 1],\n",
                            "             [ 1],\n",
                            "             [ 1],\n",
                            "             [-1],\n",
                            "             [-1]], dtype=int32)"
                        ]
                    },
                    "execution_count": 4,
                    "metadata": {},
                    "output_type": "execute_result"
                }
            ],
            "source": [
                "replay_buffer.actions[(replay_buffer.rewards == 1).flatten()]"
            ]
        },
        {
            "cell_type": "markdown",
            "metadata": {},
            "source": [
                "### Visualize samples"
            ]
        },
        {
            "cell_type": "code",
            "execution_count": 5,
            "metadata": {
                "execution": {
                    "iopub.execute_input": "2022-09-09T17:47:06.311183Z",
                    "iopub.status.busy": "2022-09-09T17:47:06.311007Z",
                    "iopub.status.idle": "2022-09-09T17:47:09.186465Z",
                    "shell.execute_reply": "2022-09-09T17:47:09.186089Z"
                }
            },
            "outputs": [
                {
                    "data": {
                        "image/png": "[encoded data removed]",
                        "text/plain": [
                            "<Figure size 432x288 with 2 Axes>"
                        ]
                    },
                    "metadata": {
                        "needs_background": "light"
                    },
                    "output_type": "display_data"
                }
            ],
            "source": [
                "from pbo.sample_collection.count_samples import count_samples\n",
                "from pbo.utils.two_dimesions_mesh import TwoDimesionsMesh\n",
                "\n",
                "\n",
                "samples_count, n_outside_boxes, rewards_count = count_samples(replay_buffer.states[:, 0], replay_buffer.states[:, 1], states_x_boxes, states_v_boxes, replay_buffer.rewards)\n",
                "samples_visu_mesh = TwoDimesionsMesh(states_x, states_v, sleeping_time=0, axis_equal=False)\n",
                "\n",
                "samples_visu_mesh.set_values(samples_count, zeros_to_nan=True)\n",
                "samples_visu_mesh.show(\n",
                "    f\"Samples repartition, \\n{int(100 * n_outside_boxes / n_samples)}% are outside the box.\", xlabel=\"x\", ylabel=\"v\"\n",
                ")"
            ]
        },
        {
            "cell_type": "code",
            "execution_count": 6,
            "metadata": {
                "execution": {
                    "iopub.execute_input": "2022-09-09T17:47:09.188664Z",
                    "iopub.status.busy": "2022-09-09T17:47:09.188481Z",
                    "iopub.status.idle": "2022-09-09T17:47:09.379409Z",
                    "shell.execute_reply": "2022-09-09T17:47:09.378983Z"
                }
            },
            "outputs": [
                {
                    "data": {
                        "image/png": "[encoded data removed]",
                        "text/plain": [
                            "<Figure size 432x288 with 2 Axes>"
                        ]
                    },
                    "metadata": {
                        "needs_background": "light"
                    },
                    "output_type": "display_data"
                }
            ],
            "source": [
                "samples_visu_mesh.set_values(rewards_count, zeros_to_nan=True)\n",
                "samples_visu_mesh.show(\n",
                "    f\"Rewards repartition, \\n{int(100 * n_outside_boxes / n_samples)}% are outside the box.\", xlabel=\"x\", ylabel=\"v\"\n",
                ")"
            ]
        },
        {
            "cell_type": "markdown",
            "metadata": {},
            "source": [
                "## Train FQI"
            ]
        },
        {
            "cell_type": "code",
            "execution_count": 7,
            "metadata": {
                "execution": {
                    "iopub.execute_input": "2022-09-09T17:47:09.381707Z",
                    "iopub.status.busy": "2022-09-09T17:47:09.381574Z",
                    "iopub.status.idle": "2022-09-09T17:49:11.314879Z",
                    "shell.execute_reply": "2022-09-09T17:49:11.314352Z"
                }
            },
            "outputs": [
                {
                    "ename": "TypeError",
                    "evalue": "v_mesh() takes 5 positional arguments but 6 were given",
                    "output_type": "error",
                    "traceback": [
                        "\u001b[0;31m---------------------------------------------------------------------------\u001b[0m",
                        "\u001b[0;31mTypeError\u001b[0m                                 Traceback (most recent call last)",
                        "\u001b[1;32m/home/vincent/Darmstadt/PBO/figure_specific/car_on_hill/FQI.ipynb Cell 13\u001b[0m in \u001b[0;36m<cell line: 22>\u001b[0;34m()\u001b[0m\n\u001b[1;32m     <a href='vscode-notebook-cell:/home/vincent/Darmstadt/PBO/figure_specific/car_on_hill/FQI.ipynb#X15sZmlsZQ%3D%3D?line=18'>19</a>\u001b[0m iterated_v \u001b[39m=\u001b[39m np\u001b[39m.\u001b[39mzeros((max_bellman_iterations \u001b[39m+\u001b[39m \u001b[39m1\u001b[39m, n_states_x, n_states_v))\n\u001b[1;32m     <a href='vscode-notebook-cell:/home/vincent/Darmstadt/PBO/figure_specific/car_on_hill/FQI.ipynb#X15sZmlsZQ%3D%3D?line=20'>21</a>\u001b[0m iterated_q[\u001b[39m0\u001b[39m] \u001b[39m=\u001b[39m env\u001b[39m.\u001b[39mq_mesh(q, q\u001b[39m.\u001b[39mparams, states_x, states_v)\n\u001b[0;32m---> <a href='vscode-notebook-cell:/home/vincent/Darmstadt/PBO/figure_specific/car_on_hill/FQI.ipynb#X15sZmlsZQ%3D%3D?line=21'>22</a>\u001b[0m iterated_v[\u001b[39m0\u001b[39m] \u001b[39m=\u001b[39m env\u001b[39m.\u001b[39;49mv_mesh(q, q\u001b[39m.\u001b[39;49mparams, horizon, states_x, states_v)\n\u001b[1;32m     <a href='vscode-notebook-cell:/home/vincent/Darmstadt/PBO/figure_specific/car_on_hill/FQI.ipynb#X15sZmlsZQ%3D%3D?line=23'>24</a>\u001b[0m q_visu_mesh \u001b[39m=\u001b[39m TwoDimesionsMesh(states_x, states_v, sleeping_time\u001b[39m=\u001b[39m\u001b[39m0\u001b[39m, axis_equal\u001b[39m=\u001b[39m\u001b[39mFalse\u001b[39;00m, zero_centered\u001b[39m=\u001b[39m\u001b[39mTrue\u001b[39;00m)\n\u001b[1;32m     <a href='vscode-notebook-cell:/home/vincent/Darmstadt/PBO/figure_specific/car_on_hill/FQI.ipynb#X15sZmlsZQ%3D%3D?line=24'>25</a>\u001b[0m l2_losses \u001b[39m=\u001b[39m np\u001b[39m.\u001b[39mones((max_bellman_iterations, fitting_steps)) \u001b[39m*\u001b[39m np\u001b[39m.\u001b[39mnan\n",
                        "\u001b[0;31mTypeError\u001b[0m: v_mesh() takes 5 positional arguments but 6 were given"
                    ]
                }
            ],
            "source": [
                "import matplotlib.pyplot as plt\n",
                "\n",
                "from pbo.sample_collection.dataloader import SampleDataLoader\n",
                "from pbo.networks.learnable_q import FullyConnectedQ\n",
                "\n",
                "\n",
                "data_loader_samples = SampleDataLoader(replay_buffer, batch_size_samples, shuffle_key)\n",
                "q = FullyConnectedQ(\n",
                "    state_dim=2,\n",
                "    action_dim=1,\n",
                "    actions_on_max=env.actions_on_max,\n",
                "    gamma=gamma,\n",
                "    network_key=q_network_key,\n",
                "    layers_dimension=layers_dimension,\n",
                "    zero_initializer=True,\n",
                "    learning_rate=learning_rate\n",
                ")\n",
                "iterated_q = np.zeros((max_bellman_iterations + 1, n_states_x, n_states_v, 2))\n",
                "iterated_v = np.zeros((max_bellman_iterations + 1, n_states_x, n_states_v))\n",
                "\n",
                "iterated_q[0] = env.q_mesh(q, q.params, states_x, states_v)\n",
                "iterated_v[0] = env.v_mesh(q, horizon, states_x, states_v)\n",
                "\n",
                "q_visu_mesh = TwoDimesionsMesh(states_x, states_v, sleeping_time=0, axis_equal=False, zero_centered=True)\n",
                "l2_losses = np.ones((max_bellman_iterations, fitting_steps)) * np.nan\n",
                "\n",
                "for bellman_iteration in range(1, max_bellman_iterations + 1):\n",
                "    q.reset_optimizer()\n",
                "    params_target = q.params\n",
                "    best_loss = float('inf')\n",
                "    patience = 0\n",
                "\n",
                "    for step in range(fitting_steps):\n",
                "        cumulative_l2_loss = 0\n",
                "        \n",
                "        data_loader_samples.shuffle()\n",
                "        for batch_samples in data_loader_samples:\n",
                "            q.params, q.optimizer_state, l2_loss = q.learn_on_batch(q.params, params_target, q.optimizer_state, batch_samples)\n",
                "            cumulative_l2_loss += l2_loss\n",
                "\n",
                "        l2_losses[bellman_iteration - 1, step] = cumulative_l2_loss\n",
                "        if cumulative_l2_loss < best_loss:\n",
                "            patience = 0\n",
                "            best_loss = cumulative_l2_loss\n",
                "        else:\n",
                "            patience += 1\n",
                "\n",
                "        if patience > max_patience:\n",
                "            break\n",
                "\n",
                "    diff_q = env.diff_q_mesh(q, q.params, states_x, states_v)\n",
                "\n",
                "    q_visu_mesh.set_values(diff_q)\n",
                "    q_visu_mesh.show(f\"Q differences, \\nl2 loss: {str(jnp.round(cumulative_l2_loss, 3))}, iteration {bellman_iteration}, step {step + 1}\", xlabel=\"x\", ylabel=\"v\")\n",
                "\n",
                "    iterated_q[bellman_iteration] = env.q_mesh(q, q.params, states_x, states_v)\n",
                "    iterated_v[bellman_iteration] = env.v_mesh(q, horizon, states_x, states_v)\n",
                "\n",
                "for bellman_iteration in range(0, max_bellman_iterations, max(max_bellman_iterations // 10, 1)):\n",
                "    plt.plot(l2_losses[bellman_iteration], label=f\"Iteration {bellman_iteration + 1}\")\n",
                "    params_target = q.params\n",
                "\n",
                "plt.legend()\n",
                "plt.xlabel(\"fitting step\")\n",
                "plt.ylabel(r\"$(\\Gamma^*Q_i - Q_{i +  1})^2$\")\n",
                "plt.title(\"Training losses\")\n",
                "plt.show()"
            ]
        },
        {
            "cell_type": "code",
            "execution_count": null,
            "metadata": {
                "execution": {
                    "iopub.execute_input": "2022-09-09T17:49:11.316948Z",
                    "iopub.status.busy": "2022-09-09T17:49:11.316762Z",
                    "iopub.status.idle": "2022-09-09T17:49:11.504492Z",
                    "shell.execute_reply": "2022-09-09T17:49:11.504010Z"
                }
            },
            "outputs": [
                {
                    "data": {
                        "image/png": "[encoded data removed]",
                        "text/plain": [
                            "<Figure size 432x288 with 2 Axes>"
                        ]
                    },
                    "metadata": {
                        "needs_background": "light"
                    },
                    "output_type": "display_data"
                }
            ],
            "source": [
                "bellman_iteration = -1\n",
                "\n",
                "q_visu_mesh.set_values((iterated_q[bellman_iteration, :, :, 1] > iterated_q[bellman_iteration, :, :, 0]).astype(float))\n",
                "q_visu_mesh.show(f\"FQI Q policy, {max_bellman_iterations} iterations\", xlabel=\"x\", ylabel=\"v\")"
            ]
        },
        {
            "cell_type": "code",
            "execution_count": null,
            "metadata": {
                "execution": {
                    "iopub.execute_input": "2022-09-09T17:49:11.506501Z",
                    "iopub.status.busy": "2022-09-09T17:49:11.506324Z",
                    "iopub.status.idle": "2022-09-09T17:49:11.520178Z",
                    "shell.execute_reply": "2022-09-09T17:49:11.519677Z"
                }
            },
            "outputs": [],
            "source": [
                "# env.simulate(q, horizon, jnp.array([-0.5, 0]))"
            ]
        },
        {
            "cell_type": "code",
            "execution_count": null,
            "metadata": {
                "execution": {
                    "iopub.execute_input": "2022-09-09T17:49:11.522053Z",
                    "iopub.status.busy": "2022-09-09T17:49:11.521883Z",
                    "iopub.status.idle": "2022-09-09T17:49:21.234859Z",
                    "shell.execute_reply": "2022-09-09T17:49:21.234402Z"
                }
            },
            "outputs": [
                {
                    "data": {
                        "image/png": "[encoded data removed]",
                        "text/plain": [
                            "<Figure size 432x288 with 2 Axes>"
                        ]
                    },
                    "metadata": {
                        "needs_background": "light"
                    },
                    "output_type": "display_data"
                }
            ],
            "source": [
                "final_v = env.v_mesh(q, horizon, states_x, states_v)\n",
                "\n",
                "average_performance = final_v * samples_count\n",
                "\n",
                "q_visu_mesh.set_values(average_performance)\n",
                "q_visu_mesh.show(r\"$V^{\\pi_{fqi}}, \\mathbb{E}\\left[ V^{\\pi_{fqi}} \\right] =$\" + str(np.round(np.mean(average_performance), 2)), xlabel=\"x\", ylabel=\"v\")"
            ]
        },
        {
            "cell_type": "markdown",
            "metadata": {},
            "source": [
                "## Save the data"
            ]
        },
        {
            "cell_type": "code",
            "execution_count": null,
            "metadata": {
                "execution": {
                    "iopub.execute_input": "2022-09-09T17:49:21.236670Z",
                    "iopub.status.busy": "2022-09-09T17:49:21.236537Z",
                    "iopub.status.idle": "2022-09-09T17:49:21.248253Z",
                    "shell.execute_reply": "2022-09-09T17:49:21.247806Z"
                }
            },
            "outputs": [],
            "source": [
                "np.save(f\"figures/data/FQI/{max_bellman_iterations}_Q_{seed}.npy\", iterated_q)\n",
                "np.save(f\"figures/data/FQI/{max_bellman_iterations}_V_{seed}.npy\", iterated_v)"
            ]
        }
    ],
    "metadata": {
        "kernelspec": {
            "display_name": "Python 3.8.10 ('env_cpu': venv)",
            "language": "python",
            "name": "python3"
        },
        "language_info": {
            "codemirror_mode": {
                "name": "ipython",
                "version": 3
            },
            "file_extension": ".py",
            "mimetype": "text/x-python",
            "name": "python",
            "nbconvert_exporter": "python",
            "pygments_lexer": "ipython3",
            "version": "3.8.10"
        },
        "vscode": {
            "interpreter": {
                "hash": "af5525a3273d35d601ae265c5d3634806dd61a1c4d085ae098611a6832982bdb"
            }
        }
    },
    "nbformat": 4,
    "nbformat_minor": 2
}
