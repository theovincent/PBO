{
 "cells": [
  {
   "cell_type": "markdown",
   "metadata": {},
   "source": [
    "# PBO on Car On Hill\n",
    "\n",
    "## Define parameters"
   ]
  },
  {
   "cell_type": "code",
   "execution_count": 1,
   "metadata": {
    "execution": {
     "iopub.execute_input": "2022-08-19T13:25:41.468204Z",
     "iopub.status.busy": "2022-08-19T13:25:41.467930Z",
     "iopub.status.idle": "2022-08-19T13:25:42.218779Z",
     "shell.execute_reply": "2022-08-19T13:25:42.218253Z"
    }
   },
   "outputs": [
    {
     "name": "stderr",
     "output_type": "stream",
     "text": [
      "WARNING:absl:No GPU/TPU found, falling back to CPU. (Set TF_CPP_MIN_LOG_LEVEL=0 and rerun for more info.)\n"
     ]
    }
   ],
   "source": [
    "%load_ext autoreload\n",
    "%autoreload 2\n",
    "\n",
    "import warnings\n",
    "warnings.simplefilter(action='ignore', category=FutureWarning)\n",
    "import jax\n",
    "import jax.numpy as jnp\n",
    "import os\n",
    "import json\n",
    "\n",
    "parameters = json.load(open(\"parameters.json\"))\n",
    "env_seed = parameters[\"env_seed\"]\n",
    "gamma = parameters[\"gamma\"]\n",
    "\n",
    "# Sample collection\n",
    "oriented_state = jnp.array(parameters[\"oriented_state\"])\n",
    "n_random_samples = parameters[\"n_random_samples\"]\n",
    "n_oriented_samples = parameters[\"n_oriented_samples\"]\n",
    "n_samples = n_random_samples + n_oriented_samples\n",
    "n_weights = parameters[\"n_weights\"]\n",
    "\n",
    "# Trainings\n",
    "layers_dimension = parameters[\"layers_dimension\"]\n",
    "max_bellman_iterations = parameters[\"max_bellman_iterations\"]\n",
    "batch_size_samples = n_samples\n",
    "batch_size_weights = n_weights\n",
    "training_steps = 800\n",
    "fitting_steps = 4\n",
    "learning_rate = {\"first\": 0.001, \"last\": 0.000005, \"duration\": training_steps * fitting_steps * n_samples // batch_size_samples}\n",
    "max_patience = parameters[\"max_patience\"]\n",
    "add_infinity = False\n",
    "initial_std = 0.0005\n",
    "\n",
    "# Visualisation of errors and performances\n",
    "n_states_x = parameters[\"n_states_x\"]\n",
    "n_states_v = parameters[\"n_states_v\"]\n",
    "horizon = parameters[\"horizon\"]\n",
    "max_bellman_iterations_validation = max_bellman_iterations + 10\n",
    "plot_freq = 10\n",
    "\n",
    "# Search for an unused seed\n",
    "max_used_seed = 0\n",
    "for file in os.listdir(\"figures/data/PBO_linear/\"):\n",
    "    if int(file.split(\"_\")[0]) == max_bellman_iterations and int(file.split(\"_\")[2][:-4]) > max_used_seed:\n",
    "        max_used_seed = int(file.split(\"_\")[2][:-4])\n",
    "max_used_seed\n",
    "\n",
    "# keys\n",
    "seed = 2 # max_used_seed + 1\n",
    "sample_key = jax.random.PRNGKey(env_seed)\n",
    "key = jax.random.PRNGKey(seed)\n",
    "shuffle_key, q_network_key, random_weights_key, pbo_network_key = jax.random.split(key, 4)"
   ]
  },
  {
   "cell_type": "markdown",
   "metadata": {},
   "source": [
    "## Define environment"
   ]
  },
  {
   "cell_type": "code",
   "execution_count": 2,
   "metadata": {
    "execution": {
     "iopub.execute_input": "2022-08-19T13:25:42.222617Z",
     "iopub.status.busy": "2022-08-19T13:25:42.222343Z",
     "iopub.status.idle": "2022-08-19T13:25:42.293445Z",
     "shell.execute_reply": "2022-08-19T13:25:42.292935Z"
    }
   },
   "outputs": [],
   "source": [
    "import numpy as np\n",
    "\n",
    "from pbo.environment.car_on_hill import CarOnHillEnv\n",
    "\n",
    "\n",
    "max_pos = 1.0\n",
    "max_velocity = 3.0\n",
    "\n",
    "states_x = jnp.linspace(-max_pos, max_pos, n_states_x)\n",
    "boxes_x_size = (2 * max_pos) / (n_states_x - 1)\n",
    "states_x_boxes = (np.linspace(-max_pos, max_pos + boxes_x_size, n_states_x + 1) - boxes_x_size / 2)\n",
    "states_v = jnp.linspace(-max_velocity, max_velocity, n_states_v)\n",
    "boxes_v_size = (2 * max_velocity) / (n_states_v - 1)\n",
    "states_v_boxes = (np.linspace(-max_velocity, max_velocity + boxes_v_size, n_states_v + 1) - boxes_v_size / 2)\n",
    "\n",
    "\n",
    "env = CarOnHillEnv(max_pos, max_velocity, gamma)"
   ]
  },
  {
   "cell_type": "markdown",
   "metadata": {},
   "source": [
    "## Collect samples"
   ]
  },
  {
   "cell_type": "markdown",
   "metadata": {},
   "source": [
    "### Samples on the mesh and with a uniform policy"
   ]
  },
  {
   "cell_type": "code",
   "execution_count": 3,
   "metadata": {
    "execution": {
     "iopub.execute_input": "2022-08-19T13:25:42.296320Z",
     "iopub.status.busy": "2022-08-19T13:25:42.296148Z",
     "iopub.status.idle": "2022-08-19T13:25:47.192717Z",
     "shell.execute_reply": "2022-08-19T13:25:47.192237Z"
    }
   },
   "outputs": [
    {
     "name": "stdout",
     "output_type": "stream",
     "text": [
      "Number of episodes: 96\n"
     ]
    }
   ],
   "source": [
    "from pbo.sample_collection.replay_buffer import ReplayBuffer\n",
    "\n",
    "\n",
    "replay_buffer = ReplayBuffer()\n",
    "\n",
    "env.reset()\n",
    "n_episodes = 0\n",
    "n_steps = 0\n",
    "for idx_sample in range(n_random_samples):\n",
    "    state = env.state\n",
    "    \n",
    "    sample_key, key = jax.random.split(sample_key)\n",
    "    if jax.random.uniform(key) > 0.5:\n",
    "        action = jnp.array([0])\n",
    "    else:\n",
    "        action = jnp.array([1])\n",
    "    next_state, reward, absorbing, _ = env.step(action)\n",
    "    n_steps += 1\n",
    "\n",
    "    replay_buffer.add(state, action, reward, next_state, absorbing)\n",
    "\n",
    "    if absorbing or n_steps > horizon:\n",
    "        env.reset()\n",
    "        n_episodes += 1\n",
    "        n_steps = 0\n",
    "\n",
    "\n",
    "env.reset(oriented_state)\n",
    "n_episodes += 1\n",
    "n_steps = 0\n",
    "for idx_sample in range(n_oriented_samples):\n",
    "    state = env.state\n",
    "    \n",
    "    sample_key, key = jax.random.split(sample_key)\n",
    "    if jax.random.uniform(key) > 0.5:\n",
    "        action = jnp.array([0])\n",
    "    else:\n",
    "        action = jnp.array([1])\n",
    "    next_state, reward, absorbing, _ = env.step(action)\n",
    "    n_steps += 1\n",
    "\n",
    "    replay_buffer.add(state, action, reward, next_state, absorbing)\n",
    "\n",
    "    if absorbing or n_steps > horizon:\n",
    "        sample_key, key = jax.random.split(sample_key)\n",
    "        env.reset(jax.random.normal(key, (2,)) / 2 + oriented_state)\n",
    "\n",
    "        n_episodes += 1\n",
    "        n_steps = 0\n",
    "\n",
    "replay_buffer.cast_to_jax_array()\n",
    "assert sum(replay_buffer.rewards == 1) > 0, \"No positive reward has been sampled, please do something!\"\n",
    "print(f\"Number of episodes: {n_episodes}\")"
   ]
  },
  {
   "cell_type": "code",
   "execution_count": 4,
   "metadata": {
    "execution": {
     "iopub.execute_input": "2022-08-19T13:25:47.194495Z",
     "iopub.status.busy": "2022-08-19T13:25:47.194335Z",
     "iopub.status.idle": "2022-08-19T13:25:47.267854Z",
     "shell.execute_reply": "2022-08-19T13:25:47.267383Z"
    }
   },
   "outputs": [
    {
     "data": {
      "text/plain": [
       "DeviceArray([[1],\n",
       "             [1],\n",
       "             [0],\n",
       "             [1],\n",
       "             [0],\n",
       "             [1],\n",
       "             [0],\n",
       "             [1],\n",
       "             [0],\n",
       "             [0],\n",
       "             [1],\n",
       "             [1],\n",
       "             [0]], dtype=int32)"
      ]
     },
     "execution_count": 4,
     "metadata": {},
     "output_type": "execute_result"
    }
   ],
   "source": [
    "replay_buffer.actions[(replay_buffer.rewards == 1).flatten()]"
   ]
  },
  {
   "cell_type": "markdown",
   "metadata": {},
   "source": [
    "### Visualize samples"
   ]
  },
  {
   "cell_type": "code",
   "execution_count": 5,
   "metadata": {
    "execution": {
     "iopub.execute_input": "2022-08-19T13:25:47.269705Z",
     "iopub.status.busy": "2022-08-19T13:25:47.269572Z",
     "iopub.status.idle": "2022-08-19T13:25:50.160043Z",
     "shell.execute_reply": "2022-08-19T13:25:50.159585Z"
    }
   },
   "outputs": [
    {
     "data": {
      "image/png": "[encoded data removed]",
      "text/plain": [
       "<Figure size 432x288 with 2 Axes>"
      ]
     },
     "metadata": {
      "needs_background": "light"
     },
     "output_type": "display_data"
    }
   ],
   "source": [
    "from pbo.sample_collection.count_samples import count_samples\n",
    "from pbo.utils.two_dimesions_mesh import TwoDimesionsMesh\n",
    "\n",
    "\n",
    "samples_count, n_outside_boxes, rewards_count = count_samples(replay_buffer.states[:, 0], replay_buffer.states[:, 1], states_x_boxes, states_v_boxes, replay_buffer.rewards)\n",
    "samples_visu_mesh = TwoDimesionsMesh(states_x, states_v, sleeping_time=0, axis_equal=False)\n",
    "\n",
    "samples_visu_mesh.set_values(samples_count, zeros_to_nan=True)\n",
    "samples_visu_mesh.show(\n",
    "    f\"Samples repartition, \\n{int(100 * n_outside_boxes / n_samples)}% are outside the box.\", xlabel=\"x\", ylabel=\"v\"\n",
    ")"
   ]
  },
  {
   "cell_type": "code",
   "execution_count": 6,
   "metadata": {
    "execution": {
     "iopub.execute_input": "2022-08-19T13:25:50.161820Z",
     "iopub.status.busy": "2022-08-19T13:25:50.161637Z",
     "iopub.status.idle": "2022-08-19T13:25:50.354111Z",
     "shell.execute_reply": "2022-08-19T13:25:50.353649Z"
    }
   },
   "outputs": [
    {
     "data": {
      "image/png": "[encoded data removed]",
      "text/plain": [
       "<Figure size 432x288 with 2 Axes>"
      ]
     },
     "metadata": {
      "needs_background": "light"
     },
     "output_type": "display_data"
    }
   ],
   "source": [
    "samples_visu_mesh.set_values(rewards_count, zeros_to_nan=True)\n",
    "samples_visu_mesh.show(\n",
    "    f\"Rewards repartition, \\n{int(100 * n_outside_boxes / n_samples)}% are outside the box.\", xlabel=\"x\", ylabel=\"v\"\n",
    ")"
   ]
  },
  {
   "cell_type": "markdown",
   "metadata": {},
   "source": [
    "## Collect weights"
   ]
  },
  {
   "cell_type": "code",
   "execution_count": 7,
   "metadata": {
    "execution": {
     "iopub.execute_input": "2022-08-19T13:25:50.355906Z",
     "iopub.status.busy": "2022-08-19T13:25:50.355768Z",
     "iopub.status.idle": "2022-08-19T13:25:50.899830Z",
     "shell.execute_reply": "2022-08-19T13:25:50.899276Z"
    }
   },
   "outputs": [],
   "source": [
    "from pbo.weights_collection.weights_buffer import WeightsBuffer\n",
    "from pbo.networks.learnable_q import FullyConnectedQ\n",
    "\n",
    "\n",
    "weights_buffer = WeightsBuffer()\n",
    "\n",
    "# Add the validation weights\n",
    "q = FullyConnectedQ(\n",
    "    state_dim=2,\n",
    "    action_dim=1,\n",
    "    continuous_actions=False,\n",
    "    n_actions_on_max=2,\n",
    "    action_range_on_max=None,\n",
    "    gamma=gamma,\n",
    "    network_key=q_network_key,\n",
    "    random_weights_range=None,\n",
    "    random_weights_key=None,\n",
    "    learning_rate=None,\n",
    "    layers_dimension=layers_dimension,\n",
    "    zero_initializer=True,\n",
    ")\n",
    "validation_weights = q.to_weights(q.params)\n",
    "weights_buffer.add(validation_weights)\n",
    "\n",
    "# Add random weights\n",
    "q_random = FullyConnectedQ(\n",
    "    state_dim=2,\n",
    "    action_dim=1,\n",
    "    continuous_actions=False,\n",
    "    n_actions_on_max=2,\n",
    "    action_range_on_max=None,\n",
    "    gamma=gamma,\n",
    "    network_key=q_network_key,\n",
    "    random_weights_range=None,\n",
    "    random_weights_key=random_weights_key,\n",
    "    learning_rate=None,\n",
    "    layers_dimension=layers_dimension,\n",
    "    zero_initializer=True,\n",
    ")\n",
    "\n",
    "while len(weights_buffer) < n_weights:\n",
    "    weights = q_random.random_init_weights()\n",
    "    weights_buffer.add(weights)\n",
    "\n",
    "weights_buffer.cast_to_jax_array()"
   ]
  },
  {
   "cell_type": "markdown",
   "metadata": {},
   "source": [
    "## Train linear PBO"
   ]
  },
  {
   "cell_type": "code",
   "execution_count": 8,
   "metadata": {
    "execution": {
     "iopub.execute_input": "2022-08-19T13:25:50.901954Z",
     "iopub.status.busy": "2022-08-19T13:25:50.901807Z",
     "iopub.status.idle": "2022-08-19T13:28:31.861913Z",
     "shell.execute_reply": "2022-08-19T13:28:31.861414Z"
    }
   },
   "outputs": [
    {
     "data": {
      "image/png": "[encoded data removed]",
      "text/plain": [
       "<Figure size 432x288 with 2 Axes>"
      ]
     },
     "metadata": {
      "needs_background": "light"
     },
     "output_type": "display_data"
    },
    {
     "data": {
      "image/png": "[encoded data removed]",
      "text/plain": [
       "<Figure size 432x288 with 1 Axes>"
      ]
     },
     "metadata": {
      "needs_background": "light"
     },
     "output_type": "display_data"
    }
   ],
   "source": [
    "import matplotlib.pyplot as plt\n",
    "\n",
    "from pbo.sample_collection.dataloader import SampleDataLoader\n",
    "from pbo.weights_collection.dataloader import WeightsDataLoader\n",
    "from pbo.networks.learnable_pbo import LinearPBO\n",
    "\n",
    "\n",
    "q_visu_mesh = TwoDimesionsMesh(states_x, states_v, sleeping_time=0, axis_equal=False, zero_centered=True)\n",
    "\n",
    "data_loader_samples = SampleDataLoader(replay_buffer, batch_size_samples, shuffle_key)\n",
    "data_loader_weights = WeightsDataLoader(weights_buffer, batch_size_weights, shuffle_key)\n",
    "pbo = LinearPBO(q, max_bellman_iterations, add_infinity, pbo_network_key, learning_rate, initial_std)\n",
    "importance_iteration = jnp.ones(max_bellman_iterations + 1)\n",
    "\n",
    "l2_losses = np.ones((training_steps, fitting_steps)) * np.nan\n",
    "\n",
    "for training_step in range(training_steps):\n",
    "    params_target = pbo.params\n",
    "    best_loss = float('inf')\n",
    "    patience = 0\n",
    "\n",
    "    for fitting_step in range(fitting_steps):\n",
    "        cumulative_l2_loss = 0\n",
    "\n",
    "        data_loader_weights.shuffle()\n",
    "        for batch_weights in data_loader_weights:\n",
    "            data_loader_samples.shuffle()\n",
    "            for batch_samples in data_loader_samples:\n",
    "                pbo.params, pbo.optimizer_state, l2_loss = pbo.learn_on_batch(\n",
    "                    pbo.params, params_target, pbo.optimizer_state, batch_weights, batch_samples, importance_iteration\n",
    "                )\n",
    "                cumulative_l2_loss += l2_loss\n",
    "        \n",
    "        l2_losses[training_step, fitting_step] = cumulative_l2_loss\n",
    "        if cumulative_l2_loss < best_loss:\n",
    "            patience = 0\n",
    "            best_loss = cumulative_l2_loss\n",
    "        else:\n",
    "            patience += 1\n",
    "\n",
    "        if patience > max_patience:\n",
    "            break\n",
    "        \n",
    "    if training_step == training_steps // 2:\n",
    "        weights_buffer.cast_to_list()\n",
    "        weights_buffer.weights = weights_buffer.weights[:-max_bellman_iterations]\n",
    "        weights_buffer.add(pbo(pbo.params, validation_weights))\n",
    "        for bellman_iteration in range(max_bellman_iterations - 1):\n",
    "            weights_buffer.add(pbo(pbo.params, weights_buffer.weights[-1]))\n",
    "        weights_buffer.cast_to_jax_array()\n",
    "        \n",
    "        data_loader_weights = WeightsDataLoader(weights_buffer, batch_size_weights, shuffle_key)\n",
    "\n",
    "    if training_step == 3 * training_steps // 2:\n",
    "        weights_buffer.cast_to_list()\n",
    "        weights_buffer.weights = weights_buffer.weights[:- 2 * max_bellman_iterations]\n",
    "        weights_buffer.add(pbo(pbo.params, validation_weights))\n",
    "        for bellman_iteration in range(2 * max_bellman_iterations - 1):\n",
    "            weights_buffer.add(pbo(pbo.params, weights_buffer.weights[-1]))\n",
    "        weights_buffer.cast_to_jax_array()\n",
    "        \n",
    "        data_loader_weights = WeightsDataLoader(weights_buffer, batch_size_weights, shuffle_key)\n",
    "\n",
    "    if (training_step + 1) % plot_freq == 0 or training_step + 1 == training_steps:\n",
    "        if not pbo.add_infinity:\n",
    "            q_weight = validation_weights\n",
    "\n",
    "            if training_step > 3 * training_steps // 2:\n",
    "                n_iterations = 3 * max_bellman_iterations\n",
    "            elif training_step > training_steps // 2:\n",
    "                n_iterations = 2 * max_bellman_iterations\n",
    "            else:\n",
    "                n_iterations = max_bellman_iterations\n",
    "                \n",
    "            for _ in range(n_iterations):\n",
    "                q_weight = pbo(pbo.params, q_weight)\n",
    "\n",
    "        else:\n",
    "            q_weight = pbo.fixed_point(pbo.params)\n",
    "        q.params = q.to_params(q_weight)\n",
    "        diff_q = env.diff_q_mesh(q, states_x, states_v)\n",
    "\n",
    "        q_visu_mesh.set_values(diff_q)\n",
    "        q_visu_mesh.show(f\"Q differences, \\nl2 loss: {str(jnp.round(cumulative_l2_loss, 3))}, training step {training_step + 1}, fitting step: {fitting_step + 1}\", xlabel=\"x\", ylabel=\"v\")\n",
    "\n",
    "\n",
    "for training_step in range(0, training_steps, max(training_steps // 10, 1)):\n",
    "    plt.plot(l2_losses[training_step], label=f\"Training step {training_step + 1}\")\n",
    "\n",
    "plt.legend()\n",
    "plt.xlabel(\"fitting step\")\n",
    "plt.ylabel(r\"$\\sum_{k} \\left(\\Gamma^*Q_{\\Gamma_{\\phi_i}^k(w)} - Q_{\\Gamma_{\\phi_{i + 1}}^{k + 1}(w)} \\right)^2$\")\n",
    "plt.title(\"Training losses\")\n",
    "plt.show()"
   ]
  },
  {
   "cell_type": "code",
   "execution_count": 13,
   "metadata": {
    "execution": {
     "iopub.execute_input": "2022-08-19T13:28:31.863710Z",
     "iopub.status.busy": "2022-08-19T13:28:31.863571Z",
     "iopub.status.idle": "2022-08-19T13:28:32.050180Z",
     "shell.execute_reply": "2022-08-19T13:28:32.049768Z"
    }
   },
   "outputs": [
    {
     "data": {
      "image/png": "[encoded data removed]",
      "text/plain": [
       "<Figure size 432x288 with 2 Axes>"
      ]
     },
     "metadata": {
      "needs_background": "light"
     },
     "output_type": "display_data"
    }
   ],
   "source": [
    "if not pbo.add_infinity:\n",
    "    test_bellman_iterations = max_bellman_iterations_validation\n",
    "\n",
    "    q_weight = validation_weights\n",
    "    for _ in range(test_bellman_iterations):\n",
    "        q_weight = pbo(pbo.params, q_weight)\n",
    "else:\n",
    "    test_bellman_iterations = float(\"inf\")\n",
    "    q_weight = pbo.fixed_point(pbo.params)\n",
    "\n",
    "q.params = q.to_params(q_weight)\n",
    "diff_q = env.diff_q_mesh(q, states_x, states_v)\n",
    "\n",
    "q_visu_mesh.set_values(diff_q)\n",
    "q_visu_mesh.show(f\"Q policy, {test_bellman_iterations} iterations\", xlabel=\"x\", ylabel=\"v\")"
   ]
  },
  {
   "cell_type": "code",
   "execution_count": 16,
   "metadata": {
    "execution": {
     "iopub.execute_input": "2022-08-19T13:28:32.051910Z",
     "iopub.status.busy": "2022-08-19T13:28:32.051776Z",
     "iopub.status.idle": "2022-08-19T13:28:32.062072Z",
     "shell.execute_reply": "2022-08-19T13:28:32.061571Z"
    }
   },
   "outputs": [
    {
     "name": "stdout",
     "output_type": "stream",
     "text": [
      "[-0.5  0. ]\n",
      "[0.02359699]\n",
      "[0.02406]\n",
      "\n",
      "[-0.4803309  0.3866922]\n",
      "[0.0255693]\n",
      "[0.02499981]\n",
      "\n",
      "[-0.4644432  -0.07360946]\n",
      "[0.0227551]\n",
      "[0.02320467]\n",
      "\n",
      "[-0.4554107   0.25100097]\n",
      "[0.02449952]\n",
      "[0.02412234]\n",
      "\n",
      "[-0.4548895  -0.24071595]\n",
      "[0.02212648]\n",
      "[0.0224878]\n",
      "\n",
      "[-0.4629789   0.08185016]\n",
      "[0.02362449]\n",
      "[0.0236934]\n",
      "\n",
      "[-0.4391056   0.38683334]\n",
      "[0.02508081]\n",
      "[0.02429073]\n",
      "\n",
      "[-0.4268009  -0.14355384]\n",
      "[0.02190937]\n",
      "[0.02232556]\n",
      "\n",
      "[-0.42834127  0.11331648]\n",
      "[0.0233929]\n",
      "[0.02320127]\n",
      "\n",
      "[-0.44346735 -0.41229126]\n",
      "[0.02285402]\n",
      "[0.02172403]\n",
      "\n",
      "[-0.5085511 -0.8682607]\n",
      "[0.02714188]\n",
      "[0.02294444]\n",
      "\n",
      "[-0.61048657 -1.1267292 ]\n",
      "[0.03117712]\n",
      "[0.02814417]\n",
      "\n",
      "[-0.7246575 -1.1149738]\n",
      "[0.03392459]\n",
      "[0.03147347]\n",
      "\n",
      "[-0.82729447 -0.9179738 ]\n",
      "[-0.12830696]\n",
      "[0.03292261]\n",
      "\n",
      "[-0.88047487 -0.15880565]\n",
      "[0.032144]\n",
      "[0.03008349]\n",
      "\n",
      "[-0.8851968   0.06466179]\n",
      "[0.03094594]\n",
      "[0.03090353]\n",
      "\n",
      "[-0.8676256   0.28555948]\n",
      "[0.02958901]\n",
      "[0.03078704]\n",
      "\n",
      "[-0.801138   1.0595675]\n",
      "[0.03078704]\n",
      "[0.03078704]\n",
      "\n",
      "[-0.6854402  1.2256556]\n",
      "[0.03078704]\n",
      "[0.03078704]\n",
      "\n",
      "[-0.5643359  1.1453376]\n",
      "[0.03089373]\n",
      "[0.02895363]\n",
      "\n",
      "[-0.46621192  0.77754396]\n",
      "[0.02763121]\n",
      "[0.02604891]\n",
      "\n",
      "[-0.41395918  0.2540735 ]\n",
      "[0.0240251]\n",
      "[0.02341904]\n",
      "\n",
      "[-0.41650248 -0.30444434]\n",
      "[0.02155437]\n",
      "[0.02161644]\n",
      "\n",
      "[-0.43469843 -0.05270742]\n",
      "[0.0225213]\n",
      "[0.02276181]\n",
      "\n",
      "[-0.42665914  0.21051869]\n",
      "[0.02392738]\n",
      "[0.02349363]\n",
      "\n",
      "[-0.43245804 -0.32521063]\n",
      "[0.02207015]\n",
      "[0.02182241]\n",
      "\n",
      "[-0.49006563 -0.80985326]\n",
      "[0.02634226]\n",
      "[0.02190597]\n",
      "\n",
      "[-0.5885919 -1.1193502]\n",
      "[0.03059356]\n",
      "[0.02742593]\n",
      "\n",
      "[-0.7045123 -1.1534452]\n",
      "[0.0336539]\n",
      "[0.0311874]\n",
      "\n",
      "[-0.81216097 -0.9756649 ]\n",
      "[-0.1125969]\n",
      "[0.03294612]\n",
      "\n",
      "[-0.8707743  -0.21050945]\n",
      "[0.03220885]\n",
      "[0.02974562]\n",
      "\n",
      "[-0.8809368   0.00796612]\n",
      "[0.03117438]\n",
      "[0.03064279]\n",
      "\n",
      "[-0.86919206  0.22610418]\n",
      "[0.02960144]\n",
      "[0.03078704]\n",
      "\n",
      "[-0.8089439   0.99302787]\n",
      "[0.03078704]\n",
      "[0.03078704]\n",
      "\n",
      "[-0.69969976  1.1668913 ]\n",
      "[0.03078704]\n",
      "[0.03078704]\n",
      "\n",
      "[-0.58294576  1.1214547 ]\n",
      "[0.03078704]\n",
      "[0.029195]\n",
      "\n",
      "[-0.48490033  0.7986479 ]\n",
      "[0.0279734]\n",
      "[0.02644034]\n",
      "\n",
      "[-0.42887083  0.30577907]\n",
      "[0.02449702]\n",
      "[0.02384664]\n",
      "\n",
      "[-0.42524186 -0.2339876 ]\n",
      "[0.02137502]\n",
      "[0.02199979]\n",
      "\n",
      "[-0.43570116  0.02867473]\n",
      "[0.02299742]\n",
      "[0.02304812]\n",
      "\n",
      "[-0.41971618  0.28508866]\n",
      "[0.02427034]\n",
      "[0.02362065]\n",
      "\n",
      "[-0.4188084  -0.26711702]\n",
      "[0.0213917]\n",
      "[0.02177952]\n",
      "\n",
      "[-0.43314084 -0.01421198]\n",
      "[0.02272241]\n",
      "[0.02286227]\n",
      "\n",
      "[-0.42154703  0.24179032]\n",
      "[0.02404509]\n",
      "[0.02350904]\n",
      "\n",
      "[-0.42470592 -0.30430573]\n",
      "[0.02175595]\n",
      "[0.02175809]\n",
      "\n",
      "[-0.44204545 -0.03605083]\n",
      "[0.02270351]\n",
      "[0.02294333]\n",
      "\n",
      "[-0.4316536   0.24005008]\n",
      "[0.0241551]\n",
      "[0.02367724]\n",
      "\n",
      "[-0.43418327 -0.29006723]\n",
      "[0.02190597]\n",
      "[0.02196829]\n",
      "\n",
      "[-0.4491675 -0.0040895]\n",
      "[0.02297036]\n",
      "[0.02317159]\n",
      "\n",
      "[-0.4349715  0.2827755]\n",
      "[0.02443819]\n",
      "[0.02387558]\n",
      "\n",
      "[-0.43308544 -0.24548756]\n",
      "[0.02161668]\n",
      "[0.02209677]\n",
      "\n",
      "[-0.44385812  0.03400936]\n",
      "[0.02312465]\n",
      "[0.02320616]\n",
      "\n",
      "[-0.426531    0.30610934]\n",
      "[0.02447112]\n",
      "[0.02380745]\n",
      "\n",
      "[-0.42305437 -0.23731717]\n",
      "[0.02133007]\n",
      "[0.02195109]\n",
      "\n",
      "[-0.43406016  0.0212796 ]\n",
      "[0.02293576]\n",
      "[0.02299543]\n",
      "\n",
      "[-0.41895378  0.275239  ]\n",
      "[0.0242051]\n",
      "[0.02357499]\n",
      "\n",
      "[-0.41906118 -0.2773655 ]\n",
      "[0.02145822]\n",
      "[0.02174999]\n",
      "\n",
      "[-0.4343631  -0.02299106]\n",
      "[0.02268682]\n",
      "[0.02285428]\n",
      "\n",
      "[-0.42349157  0.23639375]\n",
      "[0.02403738]\n",
      "[0.02352466]\n",
      "\n",
      "[-0.42702383 -0.30628404]\n",
      "[0.02182476]\n",
      "[0.02179144]\n",
      "\n",
      "[-0.48326734 -0.8025141 ]\n",
      "[0.02613138]\n",
      "[0.02164115]\n",
      "\n",
      "[-0.5818672 -1.128453 ]\n",
      "[0.03048117]\n",
      "[0.02729948]\n",
      "\n",
      "[-0.6993831 -1.1746473]\n",
      "[0.03365208]\n",
      "[0.03120904]\n",
      "\n",
      "[-0.8093463  -0.99947786]\n",
      "[-0.12108714]\n",
      "[0.03305887]\n",
      "\n",
      "[-0.87019646 -0.23188083]\n",
      "[0.03232028]\n",
      "[0.02966504]\n",
      "\n",
      "[-0.8824607  -0.01255921]\n",
      "[0.03133272]\n",
      "[0.03060116]\n",
      "\n",
      "[-0.8726915   0.20728274]\n",
      "[0.02979846]\n",
      "[0.03078704]\n",
      "\n",
      "[-0.8144214  0.9720567]\n",
      "[0.03078704]\n",
      "[0.03078704]\n",
      "\n",
      "[-0.7069817  1.1533351]\n",
      "[0.03078704]\n",
      "[0.03078704]\n",
      "\n",
      "[-0.5907921  1.1250315]\n",
      "[0.03078704]\n",
      "[0.02934186]\n",
      "\n",
      "[-0.4914392  0.8201846]\n",
      "[0.02817385]\n",
      "[0.02662407]\n",
      "\n",
      "[-0.43270424  0.33696866]\n",
      "[0.02472042]\n",
      "[0.02401571]\n",
      "\n",
      "[-0.42574596 -0.1993432 ]\n",
      "[0.02157862]\n",
      "[0.02212299]\n",
      "\n",
      "[-0.43279544  0.06096272]\n",
      "[0.02314709]\n",
      "[0.02310486]\n",
      "\n",
      "[-0.45265839 -0.45330504]\n",
      "[0.02332203]\n",
      "[0.02174662]\n",
      "\n",
      "[-0.52084124 -0.8870593 ]\n",
      "[0.02755566]\n",
      "[0.02346899]\n",
      "\n",
      "[-0.62311745 -1.1145649 ]\n",
      "[0.03141715]\n",
      "[0.02842252]\n",
      "\n",
      "[-0.7348451 -1.0811332]\n",
      "[0.03397684]\n",
      "[0.03149898]\n",
      "\n",
      "[-0.8337013 -0.8782254]\n",
      "[-0.12159089]\n",
      "[0.03278576]\n",
      "\n",
      "[-0.8831399  -0.12295122]\n",
      "[0.03199883]\n",
      "[0.03024791]\n",
      "\n",
      "[-0.88424057  0.10100523]\n",
      "[0.03070857]\n",
      "[0.03078704]\n",
      "\n",
      "[-0.83708405  0.8540257 ]\n",
      "[0.03078704]\n",
      "[0.03078704]\n",
      "\n",
      "[-0.74057084  1.0595714 ]\n",
      "[0.03078704]\n",
      "[0.03078704]\n",
      "\n",
      "[-0.6305035  1.1046566]\n",
      "[0.03078704]\n",
      "[0.02995799]\n",
      "\n",
      "[-0.5283144  0.8953963]\n",
      "[0.0290405]\n",
      "[0.02750738]\n",
      "\n",
      "[-0.45852676  0.47584558]\n",
      "[0.02581905]\n",
      "[0.02491926]\n",
      "\n",
      "[-0.43598118 -0.03070715]\n",
      "[0.02266203]\n",
      "[0.02285664]\n",
      "\n",
      "[-0.42568946  0.23273136]\n",
      "[0.02404256]\n",
      "[0.02355038]\n",
      "\n",
      "[-0.4294053 -0.3062381]\n",
      "[0.02188326]\n",
      "[0.02183257]\n",
      "\n",
      "[-0.48543194 -0.79808414]\n",
      "[0.02615871]\n",
      "[0.02166943]\n",
      "\n",
      "[-0.58336323 -1.1197727 ]\n",
      "[0.03046705]\n",
      "[0.02727251]\n",
      "\n",
      "[-0.69991606 -1.1646951 ]\n",
      "[0.03360669]\n",
      "[0.03114261]\n",
      "\n",
      "[-0.8089462 -0.9910152]\n",
      "[-0.11195943]\n",
      "[0.03297676]\n",
      "\n",
      "[-0.86900604 -0.22429952]\n",
      "[0.03224634]\n",
      "[0.0296696]\n",
      "\n",
      "[-0.88058317 -0.00642678]\n",
      "[0.03125031]\n",
      "[0.03058912]\n",
      "\n",
      "[-0.87028253  0.21171957]\n",
      "[0.02971293]\n",
      "[0.03078704]\n",
      "\n",
      "[-0.8115413  0.9770128]\n",
      "[0.03078704]\n",
      "[0.03078704]\n",
      "\n",
      "[-0.70379746  1.1538608 ]\n",
      "[0.03078704]\n",
      "[0.03078704]\n",
      "\n",
      "[-0.58791566  1.1180874 ]\n",
      "[0.03078704]\n",
      "[0.02926938]\n",
      "\n",
      "[-0.48959577  0.8071246 ]\n",
      "[0.02807747]\n",
      "[0.02654918]\n",
      "\n"
     ]
    },
    {
     "data": {
      "text/plain": [
       "DeviceArray([False], dtype=bool)"
      ]
     },
     "execution_count": 16,
     "metadata": {},
     "output_type": "execute_result"
    }
   ],
   "source": [
    "env.simulate(q, horizon, jnp.array([-0.5, 0]))"
   ]
  },
  {
   "cell_type": "code",
   "execution_count": 14,
   "metadata": {
    "execution": {
     "iopub.execute_input": "2022-08-19T13:28:32.063749Z",
     "iopub.status.busy": "2022-08-19T13:28:32.063619Z",
     "iopub.status.idle": "2022-08-19T13:28:32.246904Z",
     "shell.execute_reply": "2022-08-19T13:28:32.246425Z"
    }
   },
   "outputs": [
    {
     "data": {
      "image/png": "[encoded data removed]",
      "text/plain": [
       "<Figure size 432x288 with 2 Axes>"
      ]
     },
     "metadata": {
      "needs_background": "light"
     },
     "output_type": "display_data"
    }
   ],
   "source": [
    "q_visu_mesh.set_values((diff_q > 0).astype(float))\n",
    "q_visu_mesh.show(f\"PBO Q policy, {test_bellman_iterations} iterations\", xlabel=\"x\", ylabel=\"v\")"
   ]
  },
  {
   "cell_type": "code",
   "execution_count": 15,
   "metadata": {
    "execution": {
     "iopub.execute_input": "2022-08-19T13:28:32.248654Z",
     "iopub.status.busy": "2022-08-19T13:28:32.248519Z",
     "iopub.status.idle": "2022-08-19T13:28:36.264549Z",
     "shell.execute_reply": "2022-08-19T13:28:36.264070Z"
    }
   },
   "outputs": [
    {
     "data": {
      "image/png": "[encoded data removed]",
      "text/plain": [
       "<Figure size 432x288 with 2 Axes>"
      ]
     },
     "metadata": {
      "needs_background": "light"
     },
     "output_type": "display_data"
    }
   ],
   "source": [
    "v_mesh_pbo = env.v_mesh(q, horizon, states_x, states_v)\n",
    "\n",
    "v_mesh_weighted_average = v_mesh_pbo * (samples_count > 0).astype(float)\n",
    "\n",
    "q_visu_mesh.set_values(v_mesh_weighted_average)\n",
    "q_visu_mesh.show(r\"$V^{\\pi_{pbo}}, \\mathbb{E}\\left[ V^{\\pi_{pbo}} \\right] =$\" + str(np.round(np.mean(v_mesh_weighted_average), 2)), xlabel=\"x\", ylabel=\"v\")"
   ]
  },
  {
   "cell_type": "markdown",
   "metadata": {},
   "source": [
    "## Save the data"
   ]
  },
  {
   "cell_type": "code",
   "execution_count": null,
   "metadata": {
    "execution": {
     "iopub.execute_input": "2022-08-19T13:28:36.266425Z",
     "iopub.status.busy": "2022-08-19T13:28:36.266289Z",
     "iopub.status.idle": "2022-08-19T13:32:00.615302Z",
     "shell.execute_reply": "2022-08-19T13:32:00.614670Z"
    }
   },
   "outputs": [],
   "source": [
    "# from tqdm.notebook import tqdm\n",
    "\n",
    "\n",
    "# iterated_q = np.zeros((max_bellman_iterations_validation + 2, n_states_x, n_states_v, 2))\n",
    "# iterated_v = np.zeros((max_bellman_iterations_validation + 2, n_states_x, n_states_v))\n",
    "# q_weights = validation_weights\n",
    "\n",
    "# q.params = q.to_params(q_weights)\n",
    "# iterated_q[0] = env.q_mesh(q, states_x, states_v)\n",
    "# iterated_v[0] = env.v_mesh(q, horizon, states_x, states_v)\n",
    "\n",
    "# for iteration in tqdm(range(1, max_bellman_iterations_validation + 1)):\n",
    "#     q_weights = pbo(pbo.params, q_weights)\n",
    "\n",
    "#     q.params = q.to_params(q_weights)\n",
    "#     iterated_q[iteration] = env.q_mesh(q, states_x, states_v)\n",
    "#     iterated_v[iteration] = env.v_mesh(q, horizon, states_x, states_v)\n",
    "\n",
    "# q.params = q.to_params(pbo.fixed_point(pbo.params))\n",
    "# iterated_q[max_bellman_iterations_validation + 1] = env.q_mesh(q, states_x, states_v)\n",
    "# iterated_v[max_bellman_iterations_validation + 1] = env.v_mesh(q, horizon, states_x, states_v)"
   ]
  },
  {
   "cell_type": "code",
   "execution_count": null,
   "metadata": {
    "execution": {
     "iopub.execute_input": "2022-08-19T13:32:00.617237Z",
     "iopub.status.busy": "2022-08-19T13:32:00.617093Z",
     "iopub.status.idle": "2022-08-19T13:32:00.628101Z",
     "shell.execute_reply": "2022-08-19T13:32:00.627634Z"
    }
   },
   "outputs": [],
   "source": [
    "# np.save(f\"figures/data/PBO_linear/{max_bellman_iterations}_Q_{seed}.npy\", iterated_q)\n",
    "# np.save(f\"figures/data/PBO_linear/{max_bellman_iterations}_V_{seed}.npy\", iterated_v)"
   ]
  }
 ],
 "metadata": {
  "kernelspec": {
   "display_name": "Python 3.8.10 ('env_cpu': venv)",
   "language": "python",
   "name": "python3"
  },
  "language_info": {
   "codemirror_mode": {
    "name": "ipython",
    "version": 3
   },
   "file_extension": ".py",
   "mimetype": "text/x-python",
   "name": "python",
   "nbconvert_exporter": "python",
   "pygments_lexer": "ipython3",
   "version": "3.8.10"
  },
  "vscode": {
   "interpreter": {
    "hash": "af5525a3273d35d601ae265c5d3634806dd61a1c4d085ae098611a6832982bdb"
   }
  },
  "widgets": {
   "application/vnd.jupyter.widget-state+json": {
    "state": {
     "11e3ee595ede4319a5aa108ffeed8b9a": {
      "model_module": "@jupyter-widgets/controls",
      "model_module_version": "1.5.0",
      "model_name": "HTMLModel",
      "state": {
       "_dom_classes": [],
       "_model_module": "@jupyter-widgets/controls",
       "_model_module_version": "1.5.0",
       "_model_name": "HTMLModel",
       "_view_count": null,
       "_view_module": "@jupyter-widgets/controls",
       "_view_module_version": "1.5.0",
       "_view_name": "HTMLView",
       "description": "",
       "description_tooltip": null,
       "layout": "IPY_MODEL_733760da7dae4281bfa14fb03927fd19",
       "placeholder": "​",
       "style": "IPY_MODEL_51c2658002f9431cb02a2b8688a07ba5",
       "value": "100%"
      }
     },
     "1325c7702a374742ade19e115c990aef": {
      "model_module": "@jupyter-widgets/base",
      "model_module_version": "1.2.0",
      "model_name": "LayoutModel",
      "state": {
       "_model_module": "@jupyter-widgets/base",
       "_model_module_version": "1.2.0",
       "_model_name": "LayoutModel",
       "_view_count": null,
       "_view_module": "@jupyter-widgets/base",
       "_view_module_version": "1.2.0",
       "_view_name": "LayoutView",
       "align_content": null,
       "align_items": null,
       "align_self": null,
       "border": null,
       "bottom": null,
       "display": null,
       "flex": null,
       "flex_flow": null,
       "grid_area": null,
       "grid_auto_columns": null,
       "grid_auto_flow": null,
       "grid_auto_rows": null,
       "grid_column": null,
       "grid_gap": null,
       "grid_row": null,
       "grid_template_areas": null,
       "grid_template_columns": null,
       "grid_template_rows": null,
       "height": null,
       "justify_content": null,
       "justify_items": null,
       "left": null,
       "margin": null,
       "max_height": null,
       "max_width": null,
       "min_height": null,
       "min_width": null,
       "object_fit": null,
       "object_position": null,
       "order": null,
       "overflow": null,
       "overflow_x": null,
       "overflow_y": null,
       "padding": null,
       "right": null,
       "top": null,
       "visibility": null,
       "width": null
      }
     },
     "3eb734e8ef0b40a7a0128abffb5e4277": {
      "model_module": "@jupyter-widgets/controls",
      "model_module_version": "1.5.0",
      "model_name": "ProgressStyleModel",
      "state": {
       "_model_module": "@jupyter-widgets/controls",
       "_model_module_version": "1.5.0",
       "_model_name": "ProgressStyleModel",
       "_view_count": null,
       "_view_module": "@jupyter-widgets/base",
       "_view_module_version": "1.2.0",
       "_view_name": "StyleView",
       "bar_color": null,
       "description_width": ""
      }
     },
     "43071d7fdafe44fe8bafa3f4b61f53f1": {
      "model_module": "@jupyter-widgets/controls",
      "model_module_version": "1.5.0",
      "model_name": "HBoxModel",
      "state": {
       "_dom_classes": [],
       "_model_module": "@jupyter-widgets/controls",
       "_model_module_version": "1.5.0",
       "_model_name": "HBoxModel",
       "_view_count": null,
       "_view_module": "@jupyter-widgets/controls",
       "_view_module_version": "1.5.0",
       "_view_name": "HBoxView",
       "box_style": "",
       "children": [
        "IPY_MODEL_11e3ee595ede4319a5aa108ffeed8b9a",
        "IPY_MODEL_a37b51198a7d483eb606520ed7de3e40",
        "IPY_MODEL_a635a81ec0a24f9d9fbf20e0b394eccd"
       ],
       "layout": "IPY_MODEL_1325c7702a374742ade19e115c990aef"
      }
     },
     "46f60ff244e14d14840d0cc388690022": {
      "model_module": "@jupyter-widgets/base",
      "model_module_version": "1.2.0",
      "model_name": "LayoutModel",
      "state": {
       "_model_module": "@jupyter-widgets/base",
       "_model_module_version": "1.2.0",
       "_model_name": "LayoutModel",
       "_view_count": null,
       "_view_module": "@jupyter-widgets/base",
       "_view_module_version": "1.2.0",
       "_view_name": "LayoutView",
       "align_content": null,
       "align_items": null,
       "align_self": null,
       "border": null,
       "bottom": null,
       "display": null,
       "flex": null,
       "flex_flow": null,
       "grid_area": null,
       "grid_auto_columns": null,
       "grid_auto_flow": null,
       "grid_auto_rows": null,
       "grid_column": null,
       "grid_gap": null,
       "grid_row": null,
       "grid_template_areas": null,
       "grid_template_columns": null,
       "grid_template_rows": null,
       "height": null,
       "justify_content": null,
       "justify_items": null,
       "left": null,
       "margin": null,
       "max_height": null,
       "max_width": null,
       "min_height": null,
       "min_width": null,
       "object_fit": null,
       "object_position": null,
       "order": null,
       "overflow": null,
       "overflow_x": null,
       "overflow_y": null,
       "padding": null,
       "right": null,
       "top": null,
       "visibility": null,
       "width": null
      }
     },
     "51c2658002f9431cb02a2b8688a07ba5": {
      "model_module": "@jupyter-widgets/controls",
      "model_module_version": "1.5.0",
      "model_name": "DescriptionStyleModel",
      "state": {
       "_model_module": "@jupyter-widgets/controls",
       "_model_module_version": "1.5.0",
       "_model_name": "DescriptionStyleModel",
       "_view_count": null,
       "_view_module": "@jupyter-widgets/base",
       "_view_module_version": "1.2.0",
       "_view_name": "StyleView",
       "description_width": ""
      }
     },
     "68cc29dba4b8494cabddfcc13ccba920": {
      "model_module": "@jupyter-widgets/controls",
      "model_module_version": "1.5.0",
      "model_name": "DescriptionStyleModel",
      "state": {
       "_model_module": "@jupyter-widgets/controls",
       "_model_module_version": "1.5.0",
       "_model_name": "DescriptionStyleModel",
       "_view_count": null,
       "_view_module": "@jupyter-widgets/base",
       "_view_module_version": "1.2.0",
       "_view_name": "StyleView",
       "description_width": ""
      }
     },
     "733760da7dae4281bfa14fb03927fd19": {
      "model_module": "@jupyter-widgets/base",
      "model_module_version": "1.2.0",
      "model_name": "LayoutModel",
      "state": {
       "_model_module": "@jupyter-widgets/base",
       "_model_module_version": "1.2.0",
       "_model_name": "LayoutModel",
       "_view_count": null,
       "_view_module": "@jupyter-widgets/base",
       "_view_module_version": "1.2.0",
       "_view_name": "LayoutView",
       "align_content": null,
       "align_items": null,
       "align_self": null,
       "border": null,
       "bottom": null,
       "display": null,
       "flex": null,
       "flex_flow": null,
       "grid_area": null,
       "grid_auto_columns": null,
       "grid_auto_flow": null,
       "grid_auto_rows": null,
       "grid_column": null,
       "grid_gap": null,
       "grid_row": null,
       "grid_template_areas": null,
       "grid_template_columns": null,
       "grid_template_rows": null,
       "height": null,
       "justify_content": null,
       "justify_items": null,
       "left": null,
       "margin": null,
       "max_height": null,
       "max_width": null,
       "min_height": null,
       "min_width": null,
       "object_fit": null,
       "object_position": null,
       "order": null,
       "overflow": null,
       "overflow_x": null,
       "overflow_y": null,
       "padding": null,
       "right": null,
       "top": null,
       "visibility": null,
       "width": null
      }
     },
     "96c7193c1e65472c9ebf2561780d7a7d": {
      "model_module": "@jupyter-widgets/base",
      "model_module_version": "1.2.0",
      "model_name": "LayoutModel",
      "state": {
       "_model_module": "@jupyter-widgets/base",
       "_model_module_version": "1.2.0",
       "_model_name": "LayoutModel",
       "_view_count": null,
       "_view_module": "@jupyter-widgets/base",
       "_view_module_version": "1.2.0",
       "_view_name": "LayoutView",
       "align_content": null,
       "align_items": null,
       "align_self": null,
       "border": null,
       "bottom": null,
       "display": null,
       "flex": null,
       "flex_flow": null,
       "grid_area": null,
       "grid_auto_columns": null,
       "grid_auto_flow": null,
       "grid_auto_rows": null,
       "grid_column": null,
       "grid_gap": null,
       "grid_row": null,
       "grid_template_areas": null,
       "grid_template_columns": null,
       "grid_template_rows": null,
       "height": null,
       "justify_content": null,
       "justify_items": null,
       "left": null,
       "margin": null,
       "max_height": null,
       "max_width": null,
       "min_height": null,
       "min_width": null,
       "object_fit": null,
       "object_position": null,
       "order": null,
       "overflow": null,
       "overflow_x": null,
       "overflow_y": null,
       "padding": null,
       "right": null,
       "top": null,
       "visibility": null,
       "width": null
      }
     },
     "a37b51198a7d483eb606520ed7de3e40": {
      "model_module": "@jupyter-widgets/controls",
      "model_module_version": "1.5.0",
      "model_name": "FloatProgressModel",
      "state": {
       "_dom_classes": [],
       "_model_module": "@jupyter-widgets/controls",
       "_model_module_version": "1.5.0",
       "_model_name": "FloatProgressModel",
       "_view_count": null,
       "_view_module": "@jupyter-widgets/controls",
       "_view_module_version": "1.5.0",
       "_view_name": "ProgressView",
       "bar_style": "success",
       "description": "",
       "description_tooltip": null,
       "layout": "IPY_MODEL_46f60ff244e14d14840d0cc388690022",
       "max": 25,
       "min": 0,
       "orientation": "horizontal",
       "style": "IPY_MODEL_3eb734e8ef0b40a7a0128abffb5e4277",
       "value": 25
      }
     },
     "a635a81ec0a24f9d9fbf20e0b394eccd": {
      "model_module": "@jupyter-widgets/controls",
      "model_module_version": "1.5.0",
      "model_name": "HTMLModel",
      "state": {
       "_dom_classes": [],
       "_model_module": "@jupyter-widgets/controls",
       "_model_module_version": "1.5.0",
       "_model_name": "HTMLModel",
       "_view_count": null,
       "_view_module": "@jupyter-widgets/controls",
       "_view_module_version": "1.5.0",
       "_view_name": "HTMLView",
       "description": "",
       "description_tooltip": null,
       "layout": "IPY_MODEL_96c7193c1e65472c9ebf2561780d7a7d",
       "placeholder": "​",
       "style": "IPY_MODEL_68cc29dba4b8494cabddfcc13ccba920",
       "value": " 25/25 [03:16&lt;00:00,  3.84s/it]"
      }
     }
    },
    "version_major": 2,
    "version_minor": 0
   }
  }
 },
 "nbformat": 4,
 "nbformat_minor": 2
}
