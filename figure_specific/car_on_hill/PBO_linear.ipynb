{
 "cells": [
  {
   "cell_type": "markdown",
   "metadata": {},
   "source": [
    "# PBO on Car On Hill\n",
    "\n",
    "## Define parameters"
   ]
  },
  {
   "cell_type": "code",
   "execution_count": 1,
   "metadata": {
    "execution": {
     "iopub.execute_input": "2022-08-18T15:38:33.253067Z",
     "iopub.status.busy": "2022-08-18T15:38:33.252828Z",
     "iopub.status.idle": "2022-08-18T15:38:34.434295Z",
     "shell.execute_reply": "2022-08-18T15:38:34.433720Z"
    }
   },
   "outputs": [
    {
     "name": "stderr",
     "output_type": "stream",
     "text": [
      "WARNING:absl:No GPU/TPU found, falling back to CPU. (Set TF_CPP_MIN_LOG_LEVEL=0 and rerun for more info.)\n"
     ]
    }
   ],
   "source": [
    "%load_ext autoreload\n",
    "%autoreload 2\n",
    "\n",
    "import warnings\n",
    "warnings.simplefilter(action='ignore', category=FutureWarning)\n",
    "import jax\n",
    "import jax.numpy as jnp\n",
    "import os\n",
    "import json\n",
    "\n",
    "parameters = json.load(open(\"parameters.json\"))\n",
    "env_seed = parameters[\"env_seed\"]\n",
    "gamma = parameters[\"gamma\"]\n",
    "\n",
    "# Sample collection\n",
    "oriented_state = jnp.array(parameters[\"oriented_state\"])\n",
    "n_random_samples = parameters[\"n_random_samples\"]\n",
    "n_oriented_samples = parameters[\"n_oriented_samples\"]\n",
    "n_samples = n_random_samples + n_oriented_samples\n",
    "n_weights = parameters[\"n_weights\"]\n",
    "\n",
    "# Trainings\n",
    "layers_dimension = parameters[\"layers_dimension\"]\n",
    "max_bellman_iterations = parameters[\"max_bellman_iterations\"]\n",
    "batch_size_samples = n_samples\n",
    "batch_size_weights = n_weights\n",
    "training_steps = 800\n",
    "fitting_steps = 10\n",
    "learning_rate = {\"first\": 0.001, \"last\": 0.00005, \"duration\": training_steps * fitting_steps * n_samples // batch_size_samples}\n",
    "max_patience = parameters[\"max_patience\"]\n",
    "add_infinity = False\n",
    "initial_std = 0.0005\n",
    "\n",
    "# Visualisation of errors and performances\n",
    "n_states_x = parameters[\"n_states_x\"]\n",
    "n_states_v = parameters[\"n_states_v\"]\n",
    "horizon = parameters[\"horizon\"]\n",
    "max_bellman_iterations_validation = max_bellman_iterations + 10\n",
    "plot_freq = 10\n",
    "\n",
    "# Search for an unused seed\n",
    "max_used_seed = 0\n",
    "for file in os.listdir(\"figures/data/PBO_linear/\"):\n",
    "    if int(file.split(\"_\")[0]) == max_bellman_iterations and int(file.split(\"_\")[2][:-4]) > max_used_seed:\n",
    "        max_used_seed = int(file.split(\"_\")[2][:-4])\n",
    "max_used_seed\n",
    "\n",
    "# keys\n",
    "seed = max_used_seed + 1\n",
    "sample_key = jax.random.PRNGKey(env_seed)\n",
    "key = jax.random.PRNGKey(seed)\n",
    "shuffle_key, q_network_key, random_weights_key, pbo_network_key = jax.random.split(key, 4)"
   ]
  },
  {
   "cell_type": "markdown",
   "metadata": {},
   "source": [
    "## Define environment"
   ]
  },
  {
   "cell_type": "code",
   "execution_count": 2,
   "metadata": {
    "execution": {
     "iopub.execute_input": "2022-08-18T15:38:34.438138Z",
     "iopub.status.busy": "2022-08-18T15:38:34.437753Z",
     "iopub.status.idle": "2022-08-18T15:38:34.559960Z",
     "shell.execute_reply": "2022-08-18T15:38:34.559377Z"
    }
   },
   "outputs": [],
   "source": [
    "import numpy as np\n",
    "\n",
    "from pbo.environment.car_on_hill import CarOnHillEnv\n",
    "\n",
    "\n",
    "max_pos = 1.0\n",
    "max_velocity = 3.0\n",
    "\n",
    "states_x = jnp.linspace(-max_pos, max_pos, n_states_x)\n",
    "boxes_x_size = (2 * max_pos) / (n_states_x - 1)\n",
    "states_x_boxes = (np.linspace(-max_pos, max_pos + boxes_x_size, n_states_x + 1) - boxes_x_size / 2)\n",
    "states_v = jnp.linspace(-max_velocity, max_velocity, n_states_v)\n",
    "boxes_v_size = (2 * max_velocity) / (n_states_v - 1)\n",
    "states_v_boxes = (np.linspace(-max_velocity, max_velocity + boxes_v_size, n_states_v + 1) - boxes_v_size / 2)\n",
    "\n",
    "\n",
    "env = CarOnHillEnv(max_pos, max_velocity, gamma)"
   ]
  },
  {
   "cell_type": "markdown",
   "metadata": {},
   "source": [
    "## Collect samples"
   ]
  },
  {
   "cell_type": "markdown",
   "metadata": {},
   "source": [
    "### Samples on the mesh and with a uniform policy"
   ]
  },
  {
   "cell_type": "code",
   "execution_count": 3,
   "metadata": {
    "execution": {
     "iopub.execute_input": "2022-08-18T15:38:34.565384Z",
     "iopub.status.busy": "2022-08-18T15:38:34.565182Z",
     "iopub.status.idle": "2022-08-18T15:38:39.421486Z",
     "shell.execute_reply": "2022-08-18T15:38:39.420591Z"
    }
   },
   "outputs": [
    {
     "name": "stdout",
     "output_type": "stream",
     "text": [
      "Number of episodes: 96\n"
     ]
    }
   ],
   "source": [
    "from pbo.sample_collection.replay_buffer import ReplayBuffer\n",
    "\n",
    "\n",
    "replay_buffer = ReplayBuffer()\n",
    "\n",
    "env.reset()\n",
    "n_episodes = 0\n",
    "n_steps = 0\n",
    "for idx_sample in range(n_random_samples):\n",
    "    state = env.state\n",
    "    \n",
    "    sample_key, key = jax.random.split(sample_key)\n",
    "    if jax.random.uniform(key) > 0.5:\n",
    "        action = jnp.array([0])\n",
    "    else:\n",
    "        action = jnp.array([1])\n",
    "    next_state, reward, absorbing, _ = env.step(action)\n",
    "    n_steps += 1\n",
    "\n",
    "    replay_buffer.add(state, action, reward, next_state, absorbing)\n",
    "\n",
    "    if absorbing or n_steps > horizon:\n",
    "        env.reset()\n",
    "        n_episodes += 1\n",
    "        n_steps = 0\n",
    "\n",
    "\n",
    "env.reset(oriented_state)\n",
    "n_episodes += 1\n",
    "n_steps = 0\n",
    "for idx_sample in range(n_oriented_samples):\n",
    "    state = env.state\n",
    "    \n",
    "    sample_key, key = jax.random.split(sample_key)\n",
    "    if jax.random.uniform(key) > 0.5:\n",
    "        action = jnp.array([0])\n",
    "    else:\n",
    "        action = jnp.array([1])\n",
    "    next_state, reward, absorbing, _ = env.step(action)\n",
    "    n_steps += 1\n",
    "\n",
    "    replay_buffer.add(state, action, reward, next_state, absorbing)\n",
    "\n",
    "    if absorbing or n_steps > horizon:\n",
    "        sample_key, key = jax.random.split(sample_key)\n",
    "        env.reset(jax.random.normal(key, (2,)) / 2 + oriented_state)\n",
    "\n",
    "        n_episodes += 1\n",
    "        n_steps = 0\n",
    "\n",
    "replay_buffer.cast_to_jax_array()\n",
    "assert sum(replay_buffer.rewards == 1) > 0, \"No positive reward has been sampled, please do something!\"\n",
    "print(f\"Number of episodes: {n_episodes}\")"
   ]
  },
  {
   "cell_type": "code",
   "execution_count": 4,
   "metadata": {
    "execution": {
     "iopub.execute_input": "2022-08-18T15:38:39.423710Z",
     "iopub.status.busy": "2022-08-18T15:38:39.423563Z",
     "iopub.status.idle": "2022-08-18T15:38:39.502201Z",
     "shell.execute_reply": "2022-08-18T15:38:39.501667Z"
    }
   },
   "outputs": [
    {
     "data": {
      "text/plain": [
       "DeviceArray([[1],\n",
       "             [1],\n",
       "             [0],\n",
       "             [1],\n",
       "             [0],\n",
       "             [1],\n",
       "             [0],\n",
       "             [1],\n",
       "             [0],\n",
       "             [0],\n",
       "             [1],\n",
       "             [1],\n",
       "             [0]], dtype=int32)"
      ]
     },
     "execution_count": 4,
     "metadata": {},
     "output_type": "execute_result"
    }
   ],
   "source": [
    "replay_buffer.actions[(replay_buffer.rewards == 1).flatten()]"
   ]
  },
  {
   "cell_type": "markdown",
   "metadata": {},
   "source": [
    "### Visualize samples"
   ]
  },
  {
   "cell_type": "code",
   "execution_count": 5,
   "metadata": {
    "execution": {
     "iopub.execute_input": "2022-08-18T15:38:39.504205Z",
     "iopub.status.busy": "2022-08-18T15:38:39.504021Z",
     "iopub.status.idle": "2022-08-18T15:38:42.532352Z",
     "shell.execute_reply": "2022-08-18T15:38:42.531813Z"
    }
   },
   "outputs": [
    {
     "data": {
      "image/png": "[encoded data removed]",
      "text/plain": [
       "<Figure size 432x288 with 2 Axes>"
      ]
     },
     "metadata": {
      "needs_background": "light"
     },
     "output_type": "display_data"
    }
   ],
   "source": [
    "from pbo.sample_collection.count_samples import count_samples\n",
    "from pbo.utils.two_dimesions_mesh import TwoDimesionsMesh\n",
    "\n",
    "\n",
    "samples_count, n_outside_boxes, rewards_count = count_samples(replay_buffer.states[:, 0], replay_buffer.states[:, 1], states_x_boxes, states_v_boxes, replay_buffer.rewards)\n",
    "samples_visu_mesh = TwoDimesionsMesh(states_x, states_v, sleeping_time=0, axis_equal=False)\n",
    "\n",
    "samples_visu_mesh.set_values(samples_count, zeros_to_nan=True)\n",
    "samples_visu_mesh.show(\n",
    "    f\"Samples repartition, \\n{int(100 * n_outside_boxes / n_samples)}% are outside the box.\", xlabel=\"x\", ylabel=\"v\"\n",
    ")"
   ]
  },
  {
   "cell_type": "code",
   "execution_count": 6,
   "metadata": {
    "execution": {
     "iopub.execute_input": "2022-08-18T15:38:42.534418Z",
     "iopub.status.busy": "2022-08-18T15:38:42.534146Z",
     "iopub.status.idle": "2022-08-18T15:38:42.750369Z",
     "shell.execute_reply": "2022-08-18T15:38:42.749867Z"
    }
   },
   "outputs": [
    {
     "data": {
      "image/png": "[encoded data removed]",
      "text/plain": [
       "<Figure size 432x288 with 2 Axes>"
      ]
     },
     "metadata": {
      "needs_background": "light"
     },
     "output_type": "display_data"
    }
   ],
   "source": [
    "samples_visu_mesh.set_values(rewards_count, zeros_to_nan=True)\n",
    "samples_visu_mesh.show(\n",
    "    f\"Rewards repartition, \\n{int(100 * n_outside_boxes / n_samples)}% are outside the box.\", xlabel=\"x\", ylabel=\"v\"\n",
    ")"
   ]
  },
  {
   "cell_type": "markdown",
   "metadata": {},
   "source": [
    "## Collect weights"
   ]
  },
  {
   "cell_type": "code",
   "execution_count": 7,
   "metadata": {
    "execution": {
     "iopub.execute_input": "2022-08-18T15:38:42.752237Z",
     "iopub.status.busy": "2022-08-18T15:38:42.752103Z",
     "iopub.status.idle": "2022-08-18T15:38:43.279499Z",
     "shell.execute_reply": "2022-08-18T15:38:43.278685Z"
    }
   },
   "outputs": [],
   "source": [
    "from pbo.weights_collection.weights_buffer import WeightsBuffer\n",
    "from pbo.networks.learnable_q import FullyConnectedQ\n",
    "\n",
    "\n",
    "weights_buffer = WeightsBuffer()\n",
    "\n",
    "# Add the validation weights\n",
    "q = FullyConnectedQ(\n",
    "    state_dim=2,\n",
    "    action_dim=1,\n",
    "    continuous_actions=False,\n",
    "    n_actions_on_max=2,\n",
    "    action_range_on_max=None,\n",
    "    gamma=gamma,\n",
    "    network_key=q_network_key,\n",
    "    random_weights_range=None,\n",
    "    random_weights_key=None,\n",
    "    learning_rate=None,\n",
    "    layers_dimension=layers_dimension,\n",
    "    zero_initializer=True,\n",
    ")\n",
    "validation_weights = q.to_weights(q.params)\n",
    "weights_buffer.add(validation_weights)\n",
    "\n",
    "# Add random weights\n",
    "q_random = FullyConnectedQ(\n",
    "    state_dim=2,\n",
    "    action_dim=1,\n",
    "    continuous_actions=False,\n",
    "    n_actions_on_max=2,\n",
    "    action_range_on_max=None,\n",
    "    gamma=gamma,\n",
    "    network_key=q_network_key,\n",
    "    random_weights_range=None,\n",
    "    random_weights_key=random_weights_key,\n",
    "    learning_rate=None,\n",
    "    layers_dimension=layers_dimension,\n",
    "    zero_initializer=True,\n",
    ")\n",
    "\n",
    "while len(weights_buffer) < n_weights:\n",
    "    weights = q_random.random_init_weights()\n",
    "    weights_buffer.add(weights)\n",
    "\n",
    "weights_buffer.cast_to_jax_array()"
   ]
  },
  {
   "cell_type": "markdown",
   "metadata": {},
   "source": [
    "## Train linear PBO"
   ]
  },
  {
   "cell_type": "code",
   "execution_count": 8,
   "metadata": {
    "execution": {
     "iopub.execute_input": "2022-08-18T15:38:43.282678Z",
     "iopub.status.busy": "2022-08-18T15:38:43.282448Z",
     "iopub.status.idle": "2022-08-18T15:40:06.526872Z",
     "shell.execute_reply": "2022-08-18T15:40:06.526374Z"
    }
   },
   "outputs": [
    {
     "data": {
      "image/png": "[encoded data removed]",
      "text/plain": [
       "<Figure size 432x288 with 2 Axes>"
      ]
     },
     "metadata": {
      "needs_background": "light"
     },
     "output_type": "display_data"
    },
    {
     "data": {
      "image/png": "[encoded data removed]",
      "text/plain": [
       "<Figure size 432x288 with 1 Axes>"
      ]
     },
     "metadata": {
      "needs_background": "light"
     },
     "output_type": "display_data"
    }
   ],
   "source": [
    "import matplotlib.pyplot as plt\n",
    "\n",
    "from pbo.sample_collection.dataloader import SampleDataLoader\n",
    "from pbo.weights_collection.dataloader import WeightsDataLoader\n",
    "from pbo.networks.learnable_pbo import LinearPBO\n",
    "\n",
    "\n",
    "q_visu_mesh = TwoDimesionsMesh(states_x, states_v, sleeping_time=0, axis_equal=False, zero_centered=True)\n",
    "\n",
    "data_loader_samples = SampleDataLoader(replay_buffer, batch_size_samples, shuffle_key)\n",
    "data_loader_weights = WeightsDataLoader(weights_buffer, batch_size_weights, shuffle_key)\n",
    "pbo = LinearPBO(q, max_bellman_iterations, add_infinity, pbo_network_key, learning_rate, initial_std)\n",
    "importance_iteration = jnp.ones(max_bellman_iterations + 1)\n",
    "\n",
    "l2_losses = np.ones((training_steps, fitting_steps)) * np.nan\n",
    "\n",
    "for training_step in range(training_steps):\n",
    "    params_target = pbo.params\n",
    "    best_loss = float('inf')\n",
    "    patience = 0\n",
    "\n",
    "    for fitting_step in range(fitting_steps):\n",
    "        cumulative_l2_loss = 0\n",
    "\n",
    "        data_loader_weights.shuffle()\n",
    "        for batch_weights in data_loader_weights:\n",
    "            data_loader_samples.shuffle()\n",
    "            for batch_samples in data_loader_samples:\n",
    "                pbo.params, pbo.optimizer_state, l2_loss = pbo.learn_on_batch(\n",
    "                    pbo.params, params_target, pbo.optimizer_state, batch_weights, batch_samples, importance_iteration\n",
    "                )\n",
    "                cumulative_l2_loss += l2_loss\n",
    "        \n",
    "        l2_losses[training_step, fitting_step] = cumulative_l2_loss\n",
    "        if cumulative_l2_loss < best_loss:\n",
    "            patience = 0\n",
    "            best_loss = cumulative_l2_loss\n",
    "        else:\n",
    "            patience += 1\n",
    "\n",
    "        if patience > max_patience:\n",
    "            break\n",
    "\n",
    "    if (training_step + 1) % plot_freq == 0 or training_step + 1 == training_steps:\n",
    "        if not pbo.add_infinity:\n",
    "            q_weight = validation_weights\n",
    "            for _ in range(max_bellman_iterations):\n",
    "                q_weight = pbo(pbo.params, q_weight)\n",
    "        else:\n",
    "            q_weight = pbo.fixed_point(pbo.params)\n",
    "        q.params = q.to_params(q_weight)\n",
    "        diff_q = env.diff_q_mesh(q, states_x, states_v)\n",
    "\n",
    "        q_visu_mesh.set_values(diff_q)\n",
    "        q_visu_mesh.show(f\"Q differences, \\nl2 loss: {str(jnp.round(cumulative_l2_loss, 3))}, training step {training_step + 1}, fitting step: {fitting_step + 1}\", xlabel=\"x\", ylabel=\"v\")\n",
    "\n",
    "\n",
    "for training_step in range(0, training_steps, max(training_steps // 10, 1)):\n",
    "    plt.plot(l2_losses[training_step], label=f\"Training step {training_step + 1}\")\n",
    "\n",
    "plt.legend()\n",
    "plt.xlabel(\"fitting step\")\n",
    "plt.ylabel(r\"$\\sum_{k} \\left(\\Gamma^*Q_{\\Gamma_{\\phi_i}^k(w)} - Q_{\\Gamma_{\\phi_{i + 1}}^{k + 1}(w)} \\right)^2$\")\n",
    "plt.title(\"Training losses\")\n",
    "plt.show()"
   ]
  },
  {
   "cell_type": "code",
   "execution_count": 9,
   "metadata": {
    "execution": {
     "iopub.execute_input": "2022-08-18T15:40:06.528671Z",
     "iopub.status.busy": "2022-08-18T15:40:06.528534Z",
     "iopub.status.idle": "2022-08-18T15:40:06.717713Z",
     "shell.execute_reply": "2022-08-18T15:40:06.717235Z"
    }
   },
   "outputs": [
    {
     "data": {
      "image/png": "[encoded data removed]",
      "text/plain": [
       "<Figure size 432x288 with 2 Axes>"
      ]
     },
     "metadata": {
      "needs_background": "light"
     },
     "output_type": "display_data"
    }
   ],
   "source": [
    "if not pbo.add_infinity:\n",
    "    test_bellman_iterations = max_bellman_iterations\n",
    "\n",
    "    q_weight = validation_weights\n",
    "    for _ in range(test_bellman_iterations):\n",
    "        q_weight = pbo(pbo.params, q_weight)\n",
    "else:\n",
    "    test_bellman_iterations = float(\"inf\")\n",
    "    q_weight = pbo.fixed_point(pbo.params)\n",
    "\n",
    "q.params = q.to_params(q_weight)\n",
    "diff_q = env.diff_q_mesh(q, states_x, states_v)\n",
    "\n",
    "q_visu_mesh.set_values(diff_q)\n",
    "q_visu_mesh.show(f\"Q policy, {test_bellman_iterations} iterations\", xlabel=\"x\", ylabel=\"v\")"
   ]
  },
  {
   "cell_type": "code",
   "execution_count": 10,
   "metadata": {
    "execution": {
     "iopub.execute_input": "2022-08-18T15:40:06.719533Z",
     "iopub.status.busy": "2022-08-18T15:40:06.719394Z",
     "iopub.status.idle": "2022-08-18T15:40:06.729564Z",
     "shell.execute_reply": "2022-08-18T15:40:06.728993Z"
    }
   },
   "outputs": [],
   "source": [
    "# env.simulate(q, horizon, jnp.array([-0.5, 0]))"
   ]
  },
  {
   "cell_type": "code",
   "execution_count": 11,
   "metadata": {
    "execution": {
     "iopub.execute_input": "2022-08-18T15:40:06.731238Z",
     "iopub.status.busy": "2022-08-18T15:40:06.731106Z",
     "iopub.status.idle": "2022-08-18T15:40:06.965299Z",
     "shell.execute_reply": "2022-08-18T15:40:06.964837Z"
    }
   },
   "outputs": [
    {
     "data": {
      "image/png": "[encoded data removed]",
      "text/plain": [
       "<Figure size 432x288 with 2 Axes>"
      ]
     },
     "metadata": {
      "needs_background": "light"
     },
     "output_type": "display_data"
    }
   ],
   "source": [
    "q_visu_mesh.set_values((diff_q > 0).astype(float))\n",
    "q_visu_mesh.show(f\"PBO Q policy, {test_bellman_iterations} iterations\", xlabel=\"x\", ylabel=\"v\")"
   ]
  },
  {
   "cell_type": "code",
   "execution_count": 12,
   "metadata": {
    "execution": {
     "iopub.execute_input": "2022-08-18T15:40:06.967538Z",
     "iopub.status.busy": "2022-08-18T15:40:06.967400Z",
     "iopub.status.idle": "2022-08-18T15:40:17.166734Z",
     "shell.execute_reply": "2022-08-18T15:40:17.166247Z"
    }
   },
   "outputs": [
    {
     "data": {
      "image/png": "[encoded data removed]",
      "text/plain": [
       "<Figure size 432x288 with 2 Axes>"
      ]
     },
     "metadata": {
      "needs_background": "light"
     },
     "output_type": "display_data"
    }
   ],
   "source": [
    "v_mesh_pbo = env.v_mesh(q, horizon, states_x, states_v)\n",
    "\n",
    "q_visu_mesh.set_values(v_mesh_pbo)\n",
    "q_visu_mesh.show(r\"$V^{\\pi_{pbo}}, \\mathbb{E}\\left[ V^{\\pi_{pbo}} \\right] =$\" + str(np.round(np.mean(v_mesh_pbo), 2)), xlabel=\"x\", ylabel=\"v\")"
   ]
  },
  {
   "cell_type": "markdown",
   "metadata": {},
   "source": [
    "## Save the data"
   ]
  },
  {
   "cell_type": "code",
   "execution_count": 13,
   "metadata": {
    "execution": {
     "iopub.execute_input": "2022-08-18T15:40:17.168610Z",
     "iopub.status.busy": "2022-08-18T15:40:17.168470Z",
     "iopub.status.idle": "2022-08-18T15:44:12.022308Z",
     "shell.execute_reply": "2022-08-18T15:44:12.021847Z"
    }
   },
   "outputs": [
    {
     "data": {
      "application/vnd.jupyter.widget-view+json": {
       "model_id": "00735a29cf34415c92615aa905266c1c",
       "version_major": 2,
       "version_minor": 0
      },
      "text/plain": [
       "  0%|          | 0/25 [00:00<?, ?it/s]"
      ]
     },
     "metadata": {},
     "output_type": "display_data"
    }
   ],
   "source": [
    "from tqdm.notebook import tqdm\n",
    "\n",
    "\n",
    "iterated_q = np.zeros((max_bellman_iterations_validation + 2, n_states_x, n_states_v, 2))\n",
    "iterated_v = np.zeros((max_bellman_iterations_validation + 2, n_states_x, n_states_v))\n",
    "q_weights = validation_weights\n",
    "\n",
    "q.params = q.to_params(q_weights)\n",
    "iterated_q[0] = env.q_mesh(q, states_x, states_v)\n",
    "iterated_v[0] = env.v_mesh(q, horizon, states_x, states_v)\n",
    "\n",
    "for iteration in tqdm(range(1, max_bellman_iterations_validation + 1)):\n",
    "    q_weights = pbo(pbo.params, q_weights)\n",
    "\n",
    "    q.params = q.to_params(q_weights)\n",
    "    iterated_q[iteration] = env.q_mesh(q, states_x, states_v)\n",
    "    iterated_v[iteration] = env.v_mesh(q, horizon, states_x, states_v)\n",
    "\n",
    "q.params = q.to_params(pbo.fixed_point(pbo.params))\n",
    "iterated_q[max_bellman_iterations_validation + 1] = env.q_mesh(q, states_x, states_v)\n",
    "iterated_v[max_bellman_iterations_validation + 1] = env.v_mesh(q, horizon, states_x, states_v)"
   ]
  },
  {
   "cell_type": "code",
   "execution_count": 14,
   "metadata": {
    "execution": {
     "iopub.execute_input": "2022-08-18T15:44:12.024621Z",
     "iopub.status.busy": "2022-08-18T15:44:12.024476Z",
     "iopub.status.idle": "2022-08-18T15:44:12.035499Z",
     "shell.execute_reply": "2022-08-18T15:44:12.035142Z"
    }
   },
   "outputs": [],
   "source": [
    "np.save(f\"figures/data/PBO_linear/{max_bellman_iterations}_Q_{seed}.npy\", iterated_q)\n",
    "np.save(f\"figures/data/PBO_linear/{max_bellman_iterations}_V_{seed}.npy\", iterated_v)"
   ]
  }
 ],
 "metadata": {
  "kernelspec": {
   "display_name": "Python 3.8.10 ('env_cpu': venv)",
   "language": "python",
   "name": "python3"
  },
  "language_info": {
   "codemirror_mode": {
    "name": "ipython",
    "version": 3
   },
   "file_extension": ".py",
   "mimetype": "text/x-python",
   "name": "python",
   "nbconvert_exporter": "python",
   "pygments_lexer": "ipython3",
   "version": "3.8.10"
  },
  "vscode": {
   "interpreter": {
    "hash": "af5525a3273d35d601ae265c5d3634806dd61a1c4d085ae098611a6832982bdb"
   }
  },
  "widgets": {
   "application/vnd.jupyter.widget-state+json": {
    "state": {
     "00735a29cf34415c92615aa905266c1c": {
      "model_module": "@jupyter-widgets/controls",
      "model_module_version": "1.5.0",
      "model_name": "HBoxModel",
      "state": {
       "_dom_classes": [],
       "_model_module": "@jupyter-widgets/controls",
       "_model_module_version": "1.5.0",
       "_model_name": "HBoxModel",
       "_view_count": null,
       "_view_module": "@jupyter-widgets/controls",
       "_view_module_version": "1.5.0",
       "_view_name": "HBoxView",
       "box_style": "",
       "children": [
        "IPY_MODEL_92908e96b88d42fc80ccb7f6d8fd32bc",
        "IPY_MODEL_8cd5203e4a344cae929743d47f615da3",
        "IPY_MODEL_478706dc52254c40a241fca457571b6d"
       ],
       "layout": "IPY_MODEL_bbcb58a269704cc7af3f2be540d31426"
      }
     },
     "2e295681775246e79d5f002cd38f85d7": {
      "model_module": "@jupyter-widgets/controls",
      "model_module_version": "1.5.0",
      "model_name": "DescriptionStyleModel",
      "state": {
       "_model_module": "@jupyter-widgets/controls",
       "_model_module_version": "1.5.0",
       "_model_name": "DescriptionStyleModel",
       "_view_count": null,
       "_view_module": "@jupyter-widgets/base",
       "_view_module_version": "1.2.0",
       "_view_name": "StyleView",
       "description_width": ""
      }
     },
     "3cefb9cf0cda4a94af14df0b11b8a0cc": {
      "model_module": "@jupyter-widgets/base",
      "model_module_version": "1.2.0",
      "model_name": "LayoutModel",
      "state": {
       "_model_module": "@jupyter-widgets/base",
       "_model_module_version": "1.2.0",
       "_model_name": "LayoutModel",
       "_view_count": null,
       "_view_module": "@jupyter-widgets/base",
       "_view_module_version": "1.2.0",
       "_view_name": "LayoutView",
       "align_content": null,
       "align_items": null,
       "align_self": null,
       "border": null,
       "bottom": null,
       "display": null,
       "flex": null,
       "flex_flow": null,
       "grid_area": null,
       "grid_auto_columns": null,
       "grid_auto_flow": null,
       "grid_auto_rows": null,
       "grid_column": null,
       "grid_gap": null,
       "grid_row": null,
       "grid_template_areas": null,
       "grid_template_columns": null,
       "grid_template_rows": null,
       "height": null,
       "justify_content": null,
       "justify_items": null,
       "left": null,
       "margin": null,
       "max_height": null,
       "max_width": null,
       "min_height": null,
       "min_width": null,
       "object_fit": null,
       "object_position": null,
       "order": null,
       "overflow": null,
       "overflow_x": null,
       "overflow_y": null,
       "padding": null,
       "right": null,
       "top": null,
       "visibility": null,
       "width": null
      }
     },
     "478706dc52254c40a241fca457571b6d": {
      "model_module": "@jupyter-widgets/controls",
      "model_module_version": "1.5.0",
      "model_name": "HTMLModel",
      "state": {
       "_dom_classes": [],
       "_model_module": "@jupyter-widgets/controls",
       "_model_module_version": "1.5.0",
       "_model_name": "HTMLModel",
       "_view_count": null,
       "_view_module": "@jupyter-widgets/controls",
       "_view_module_version": "1.5.0",
       "_view_name": "HTMLView",
       "description": "",
       "description_tooltip": null,
       "layout": "IPY_MODEL_a9f4178f7f0340f7b586169709aa20de",
       "placeholder": "​",
       "style": "IPY_MODEL_f59a6b320b284b3ba3e9af1969be2ce8",
       "value": " 25/25 [03:40&lt;00:00,  5.83s/it]"
      }
     },
     "8cd5203e4a344cae929743d47f615da3": {
      "model_module": "@jupyter-widgets/controls",
      "model_module_version": "1.5.0",
      "model_name": "FloatProgressModel",
      "state": {
       "_dom_classes": [],
       "_model_module": "@jupyter-widgets/controls",
       "_model_module_version": "1.5.0",
       "_model_name": "FloatProgressModel",
       "_view_count": null,
       "_view_module": "@jupyter-widgets/controls",
       "_view_module_version": "1.5.0",
       "_view_name": "ProgressView",
       "bar_style": "success",
       "description": "",
       "description_tooltip": null,
       "layout": "IPY_MODEL_9b0ad95dad61459e851ae284de2063e5",
       "max": 25.0,
       "min": 0.0,
       "orientation": "horizontal",
       "style": "IPY_MODEL_af27d7d6f0f74521bdb9be8db6118d4e",
       "value": 25.0
      }
     },
     "92908e96b88d42fc80ccb7f6d8fd32bc": {
      "model_module": "@jupyter-widgets/controls",
      "model_module_version": "1.5.0",
      "model_name": "HTMLModel",
      "state": {
       "_dom_classes": [],
       "_model_module": "@jupyter-widgets/controls",
       "_model_module_version": "1.5.0",
       "_model_name": "HTMLModel",
       "_view_count": null,
       "_view_module": "@jupyter-widgets/controls",
       "_view_module_version": "1.5.0",
       "_view_name": "HTMLView",
       "description": "",
       "description_tooltip": null,
       "layout": "IPY_MODEL_3cefb9cf0cda4a94af14df0b11b8a0cc",
       "placeholder": "​",
       "style": "IPY_MODEL_2e295681775246e79d5f002cd38f85d7",
       "value": "100%"
      }
     },
     "9b0ad95dad61459e851ae284de2063e5": {
      "model_module": "@jupyter-widgets/base",
      "model_module_version": "1.2.0",
      "model_name": "LayoutModel",
      "state": {
       "_model_module": "@jupyter-widgets/base",
       "_model_module_version": "1.2.0",
       "_model_name": "LayoutModel",
       "_view_count": null,
       "_view_module": "@jupyter-widgets/base",
       "_view_module_version": "1.2.0",
       "_view_name": "LayoutView",
       "align_content": null,
       "align_items": null,
       "align_self": null,
       "border": null,
       "bottom": null,
       "display": null,
       "flex": null,
       "flex_flow": null,
       "grid_area": null,
       "grid_auto_columns": null,
       "grid_auto_flow": null,
       "grid_auto_rows": null,
       "grid_column": null,
       "grid_gap": null,
       "grid_row": null,
       "grid_template_areas": null,
       "grid_template_columns": null,
       "grid_template_rows": null,
       "height": null,
       "justify_content": null,
       "justify_items": null,
       "left": null,
       "margin": null,
       "max_height": null,
       "max_width": null,
       "min_height": null,
       "min_width": null,
       "object_fit": null,
       "object_position": null,
       "order": null,
       "overflow": null,
       "overflow_x": null,
       "overflow_y": null,
       "padding": null,
       "right": null,
       "top": null,
       "visibility": null,
       "width": null
      }
     },
     "a9f4178f7f0340f7b586169709aa20de": {
      "model_module": "@jupyter-widgets/base",
      "model_module_version": "1.2.0",
      "model_name": "LayoutModel",
      "state": {
       "_model_module": "@jupyter-widgets/base",
       "_model_module_version": "1.2.0",
       "_model_name": "LayoutModel",
       "_view_count": null,
       "_view_module": "@jupyter-widgets/base",
       "_view_module_version": "1.2.0",
       "_view_name": "LayoutView",
       "align_content": null,
       "align_items": null,
       "align_self": null,
       "border": null,
       "bottom": null,
       "display": null,
       "flex": null,
       "flex_flow": null,
       "grid_area": null,
       "grid_auto_columns": null,
       "grid_auto_flow": null,
       "grid_auto_rows": null,
       "grid_column": null,
       "grid_gap": null,
       "grid_row": null,
       "grid_template_areas": null,
       "grid_template_columns": null,
       "grid_template_rows": null,
       "height": null,
       "justify_content": null,
       "justify_items": null,
       "left": null,
       "margin": null,
       "max_height": null,
       "max_width": null,
       "min_height": null,
       "min_width": null,
       "object_fit": null,
       "object_position": null,
       "order": null,
       "overflow": null,
       "overflow_x": null,
       "overflow_y": null,
       "padding": null,
       "right": null,
       "top": null,
       "visibility": null,
       "width": null
      }
     },
     "af27d7d6f0f74521bdb9be8db6118d4e": {
      "model_module": "@jupyter-widgets/controls",
      "model_module_version": "1.5.0",
      "model_name": "ProgressStyleModel",
      "state": {
       "_model_module": "@jupyter-widgets/controls",
       "_model_module_version": "1.5.0",
       "_model_name": "ProgressStyleModel",
       "_view_count": null,
       "_view_module": "@jupyter-widgets/base",
       "_view_module_version": "1.2.0",
       "_view_name": "StyleView",
       "bar_color": null,
       "description_width": ""
      }
     },
     "bbcb58a269704cc7af3f2be540d31426": {
      "model_module": "@jupyter-widgets/base",
      "model_module_version": "1.2.0",
      "model_name": "LayoutModel",
      "state": {
       "_model_module": "@jupyter-widgets/base",
       "_model_module_version": "1.2.0",
       "_model_name": "LayoutModel",
       "_view_count": null,
       "_view_module": "@jupyter-widgets/base",
       "_view_module_version": "1.2.0",
       "_view_name": "LayoutView",
       "align_content": null,
       "align_items": null,
       "align_self": null,
       "border": null,
       "bottom": null,
       "display": null,
       "flex": null,
       "flex_flow": null,
       "grid_area": null,
       "grid_auto_columns": null,
       "grid_auto_flow": null,
       "grid_auto_rows": null,
       "grid_column": null,
       "grid_gap": null,
       "grid_row": null,
       "grid_template_areas": null,
       "grid_template_columns": null,
       "grid_template_rows": null,
       "height": null,
       "justify_content": null,
       "justify_items": null,
       "left": null,
       "margin": null,
       "max_height": null,
       "max_width": null,
       "min_height": null,
       "min_width": null,
       "object_fit": null,
       "object_position": null,
       "order": null,
       "overflow": null,
       "overflow_x": null,
       "overflow_y": null,
       "padding": null,
       "right": null,
       "top": null,
       "visibility": null,
       "width": null
      }
     },
     "f59a6b320b284b3ba3e9af1969be2ce8": {
      "model_module": "@jupyter-widgets/controls",
      "model_module_version": "1.5.0",
      "model_name": "DescriptionStyleModel",
      "state": {
       "_model_module": "@jupyter-widgets/controls",
       "_model_module_version": "1.5.0",
       "_model_name": "DescriptionStyleModel",
       "_view_count": null,
       "_view_module": "@jupyter-widgets/base",
       "_view_module_version": "1.2.0",
       "_view_name": "StyleView",
       "description_width": ""
      }
     }
    },
    "version_major": 2,
    "version_minor": 0
   }
  }
 },
 "nbformat": 4,
 "nbformat_minor": 2
}
