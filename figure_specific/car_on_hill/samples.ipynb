{
    "cells": [
        {
            "cell_type": "markdown",
            "metadata": {},
            "source": [
                "# Samples on Car On Hill\n",
                "\n",
                "## Define parameters"
            ]
        },
        {
            "cell_type": "code",
            "execution_count": 1,
            "metadata": {
                "execution": {
                    "iopub.execute_input": "2022-08-18T14:43:05.331617Z",
                    "iopub.status.busy": "2022-08-18T14:43:05.331255Z",
                    "iopub.status.idle": "2022-08-18T14:43:06.174988Z",
                    "shell.execute_reply": "2022-08-18T14:43:06.174248Z"
                }
            },
            "outputs": [
                {
                    "name": "stderr",
                    "output_type": "stream",
                    "text": [
                        "WARNING:absl:No GPU/TPU found, falling back to CPU. (Set TF_CPP_MIN_LOG_LEVEL=0 and rerun for more info.)\n"
                    ]
                }
            ],
            "source": [
                "%load_ext autoreload\n",
                "%autoreload 2\n",
                "\n",
                "import warnings\n",
                "warnings.simplefilter(action='ignore', category=FutureWarning)\n",
                "import jax\n",
                "import jax.numpy as jnp\n",
                "import os\n",
                "import json\n",
                "\n",
                "parameters = json.load(open(\"parameters.json\"))\n",
                "env_seed = parameters[\"env_seed\"]\n",
                "gamma = parameters[\"gamma\"]\n",
                "\n",
                "# Sample collection\n",
                "oriented_state = jnp.array(parameters[\"oriented_state\"])\n",
                "n_random_samples = parameters[\"n_random_samples\"]\n",
                "n_oriented_samples = parameters[\"n_oriented_samples\"]\n",
                "n_samples = n_random_samples + n_oriented_samples\n",
                "\n",
                "# Visualisation of errors and performances\n",
                "n_states_x = parameters[\"n_states_x\"]\n",
                "n_states_v = parameters[\"n_states_v\"]\n",
                "horizon = 100\n",
                "\n",
                "\n",
                "# keys\n",
                "sample_key = jax.random.PRNGKey(env_seed)"
            ]
        },
        {
            "cell_type": "markdown",
            "metadata": {},
            "source": [
                "## Define environment"
            ]
        },
        {
            "cell_type": "code",
            "execution_count": 2,
            "metadata": {
                "execution": {
                    "iopub.execute_input": "2022-08-18T14:43:06.178718Z",
                    "iopub.status.busy": "2022-08-18T14:43:06.178300Z",
                    "iopub.status.idle": "2022-08-18T14:43:06.266811Z",
                    "shell.execute_reply": "2022-08-18T14:43:06.266076Z"
                }
            },
            "outputs": [],
            "source": [
                "import numpy as np\n",
                "\n",
                "from pbo.environments.car_on_hill import CarOnHillEnv\n",
                "\n",
                "\n",
                "max_pos = 1.0\n",
                "max_velocity = 3.0\n",
                "\n",
                "states_x = jnp.linspace(-max_pos, max_pos, n_states_x)\n",
                "boxes_x_size = (2 * max_pos) / (n_states_x - 1)\n",
                "states_x_boxes = (np.linspace(-max_pos, max_pos + boxes_x_size, n_states_x + 1) - boxes_x_size / 2)\n",
                "states_v = jnp.linspace(-max_velocity, max_velocity, n_states_v)\n",
                "boxes_v_size = (2 * max_velocity) / (n_states_v - 1)\n",
                "states_v_boxes = (np.linspace(-max_velocity, max_velocity + boxes_v_size, n_states_v + 1) - boxes_v_size / 2)\n",
                "\n",
                "\n",
                "env = CarOnHillEnv(max_pos, max_velocity, gamma)"
            ]
        },
        {
            "cell_type": "markdown",
            "metadata": {},
            "source": [
                "## Collect samples"
            ]
        },
        {
            "cell_type": "markdown",
            "metadata": {},
            "source": [
                "### Samples on the mesh and with a uniform policy"
            ]
        },
        {
            "cell_type": "code",
            "execution_count": 3,
            "metadata": {
                "execution": {
                    "iopub.execute_input": "2022-08-18T14:43:06.272479Z",
                    "iopub.status.busy": "2022-08-18T14:43:06.272138Z",
                    "iopub.status.idle": "2022-08-18T14:43:11.091335Z",
                    "shell.execute_reply": "2022-08-18T14:43:11.090829Z"
                }
            },
            "outputs": [
                {
                    "name": "stdout",
                    "output_type": "stream",
                    "text": [
                        "Number of episodes: 96\n"
                    ]
                }
            ],
            "source": [
                "from pbo.sample_collection.replay_buffer import ReplayBuffer\n",
                "\n",
                "\n",
                "replay_buffer = ReplayBuffer()\n",
                "\n",
                "env.reset()\n",
                "n_episodes = 0\n",
                "n_steps = 0\n",
                "for idx_sample in range(n_random_samples):\n",
                "    state = env.state\n",
                "    \n",
                "    sample_key, key = jax.random.split(sample_key)\n",
                "    if jax.random.uniform(key) > 0.5:\n",
                "        action = jnp.array([0])\n",
                "    else:\n",
                "        action = jnp.array([1])\n",
                "    next_state, reward, absorbing, _ = env.step(action)\n",
                "    n_steps += 1\n",
                "\n",
                "    replay_buffer.add(state, action, reward, next_state, absorbing)\n",
                "\n",
                "    if absorbing or n_steps > horizon:\n",
                "        env.reset()\n",
                "        n_episodes += 1\n",
                "        n_steps = 0\n",
                "\n",
                "\n",
                "env.reset(oriented_state)\n",
                "n_episodes += 1\n",
                "n_steps = 0\n",
                "for idx_sample in range(n_oriented_samples):\n",
                "    state = env.state\n",
                "    \n",
                "    sample_key, key = jax.random.split(sample_key)\n",
                "    if jax.random.uniform(key) > 0.5:\n",
                "        action = jnp.array([0])\n",
                "    else:\n",
                "        action = jnp.array([1])\n",
                "    next_state, reward, absorbing, _ = env.step(action)\n",
                "    n_steps += 1\n",
                "\n",
                "    replay_buffer.add(state, action, reward, next_state, absorbing)\n",
                "\n",
                "    if absorbing or n_steps > horizon:\n",
                "        sample_key, key = jax.random.split(sample_key)\n",
                "        env.reset(jax.random.normal(key, (2,)) / 2 + oriented_state)\n",
                "\n",
                "        n_episodes += 1\n",
                "        n_steps = 0\n",
                "\n",
                "replay_buffer.cast_to_jax_array()\n",
                "assert sum(replay_buffer.rewards == 1) > 0, \"No positive reward has been sampled, please do something!\"\n",
                "print(f\"Number of episodes: {n_episodes}\")"
            ]
        },
        {
            "cell_type": "code",
            "execution_count": 4,
            "metadata": {
                "execution": {
                    "iopub.execute_input": "2022-08-18T14:43:11.093058Z",
                    "iopub.status.busy": "2022-08-18T14:43:11.092919Z",
                    "iopub.status.idle": "2022-08-18T14:43:11.166673Z",
                    "shell.execute_reply": "2022-08-18T14:43:11.166246Z"
                }
            },
            "outputs": [
                {
                    "data": {
                        "text/plain": [
                            "DeviceArray([[1],\n",
                            "             [1],\n",
                            "             [0],\n",
                            "             [1],\n",
                            "             [0],\n",
                            "             [1],\n",
                            "             [0],\n",
                            "             [1],\n",
                            "             [0],\n",
                            "             [0],\n",
                            "             [1],\n",
                            "             [1],\n",
                            "             [0]], dtype=int32)"
                        ]
                    },
                    "execution_count": 4,
                    "metadata": {},
                    "output_type": "execute_result"
                }
            ],
            "source": [
                "replay_buffer.actions[(replay_buffer.rewards == 1).flatten()]"
            ]
        },
        {
            "cell_type": "markdown",
            "metadata": {},
            "source": [
                "### Visualize samples"
            ]
        },
        {
            "cell_type": "code",
            "execution_count": 5,
            "metadata": {
                "execution": {
                    "iopub.execute_input": "2022-08-18T14:43:11.168469Z",
                    "iopub.status.busy": "2022-08-18T14:43:11.168332Z",
                    "iopub.status.idle": "2022-08-18T14:43:14.131574Z",
                    "shell.execute_reply": "2022-08-18T14:43:14.131014Z"
                }
            },
            "outputs": [
                {
                    "data": {
                        "image/png": "[encoded data removed]",
                        "text/plain": [
                            "<Figure size 432x288 with 2 Axes>"
                        ]
                    },
                    "metadata": {
                        "needs_background": "light"
                    },
                    "output_type": "display_data"
                }
            ],
            "source": [
                "import matplotlib.pyplot as plt\n",
                "\n",
                "plt.rc(\"font\", size=15)\n",
                "\n",
                "from pbo.sample_collection.count_samples import count_samples\n",
                "from pbo.utils.two_dimesions_mesh import TwoDimesionsMesh\n",
                "\n",
                "\n",
                "samples_count, n_outside_boxes, rewards_count = count_samples(replay_buffer.states[:, 0], replay_buffer.states[:, 1], states_x_boxes, states_v_boxes, replay_buffer.rewards)\n",
                "samples_visu_mesh = TwoDimesionsMesh(states_x, states_v, sleeping_time=0, axis_equal=False)\n",
                "\n",
                "samples_visu_mesh.set_values(samples_count, zeros_to_nan=True)\n",
                "samples_visu_mesh.show(\n",
                "    \"\", xlabel=\"x\", ylabel=\"v\", plot=False, ticks_freq=2\n",
                ")\n",
                "_ = plt.savefig(f\"figures/samples.pdf\", bbox_inches='tight')"
            ]
        },
        {
            "cell_type": "code",
            "execution_count": 6,
            "metadata": {
                "execution": {
                    "iopub.execute_input": "2022-08-18T14:43:14.134050Z",
                    "iopub.status.busy": "2022-08-18T14:43:14.133730Z",
                    "iopub.status.idle": "2022-08-18T14:43:14.341455Z",
                    "shell.execute_reply": "2022-08-18T14:43:14.341002Z"
                }
            },
            "outputs": [
                {
                    "data": {
                        "image/png": "[encoded data removed]",
                        "text/plain": [
                            "<Figure size 432x288 with 2 Axes>"
                        ]
                    },
                    "metadata": {
                        "needs_background": "light"
                    },
                    "output_type": "display_data"
                }
            ],
            "source": [
                "samples_visu_mesh.set_values(rewards_count, zeros_to_nan=True)\n",
                "samples_visu_mesh.show(\n",
                "    \"\", xlabel=\"x\", ylabel=\"v\", plot=False, ticks_freq=2\n",
                ")\n",
                "_ = plt.savefig(f\"figures/rewards.pdf\", bbox_inches='tight')"
            ]
        },
        {
            "cell_type": "markdown",
            "metadata": {},
            "source": [
                "## Save the data"
            ]
        },
        {
            "cell_type": "code",
            "execution_count": 7,
            "metadata": {
                "execution": {
                    "iopub.execute_input": "2022-08-18T14:46:16.412433Z",
                    "iopub.status.busy": "2022-08-18T14:46:16.412249Z",
                    "iopub.status.idle": "2022-08-18T14:46:16.425401Z",
                    "shell.execute_reply": "2022-08-18T14:46:16.424896Z"
                }
            },
            "outputs": [],
            "source": [
                "if not os.path.exists(\"figures/data/\"):\n",
                "    os.mkdir(\"figures/data/\")\n",
                "np.save(f\"figures/data/samples_count.npy\", samples_count)"
            ]
        }
    ],
    "metadata": {
        "kernelspec": {
            "display_name": "Python 3.8.10 ('env_cpu': venv)",
            "language": "python",
            "name": "python3"
        },
        "language_info": {
            "codemirror_mode": {
                "name": "ipython",
                "version": 3
            },
            "file_extension": ".py",
            "mimetype": "text/x-python",
            "name": "python",
            "nbconvert_exporter": "python",
            "pygments_lexer": "ipython3",
            "version": "3.8.10"
        },
        "vscode": {
            "interpreter": {
                "hash": "af5525a3273d35d601ae265c5d3634806dd61a1c4d085ae098611a6832982bdb"
            }
        }
    },
    "nbformat": 4,
    "nbformat_minor": 2
}