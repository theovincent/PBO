{
    "cells": [
        {
            "cell_type": "markdown",
            "metadata": {},
            "source": [
                "# Optimal policy on Car On Hill\n",
                "\n",
                "## Define parameters"
            ]
        },
        {
            "cell_type": "code",
            "execution_count": 1,
            "metadata": {},
            "outputs": [],
            "source": [
                "%load_ext autoreload\n",
                "%autoreload 2\n",
                "\n",
                "import os\n",
                "import numpy as np\n",
                "import jax\n",
                "import jax.numpy as jnp\n",
                "\n",
                "\n",
                "gamma = 0.95\n",
                "n_actions = 2\n",
                "\n",
                "# Visualisation of errors and performances\n",
                "n_states_x = 17\n",
                "n_states_v = 17\n",
                "horizon = 100"
            ]
        },
        {
            "cell_type": "markdown",
            "metadata": {},
            "source": [
                "## Define environment"
            ]
        },
        {
            "cell_type": "code",
            "execution_count": 2,
            "metadata": {},
            "outputs": [
                {
                    "name": "stderr",
                    "output_type": "stream",
                    "text": [
                        "/home/vincent/Darmstadt/PBO/env_cpu/lib/python3.8/site-packages/haiku/_src/data_structures.py:37: FutureWarning: jax.tree_structure is deprecated, and will be removed in a future release. Use jax.tree_util.tree_structure instead.\n",
                        "  PyTreeDef = type(jax.tree_structure(None))\n",
                        "WARNING:absl:No GPU/TPU found, falling back to CPU. (Set TF_CPP_MIN_LOG_LEVEL=0 and rerun for more info.)\n"
                    ]
                }
            ],
            "source": [
                "from pbo.environment.car_on_hill import CarOnHillEnv\n",
                "\n",
                "\n",
                "max_pos = 1.0\n",
                "max_velocity = 3.0\n",
                "\n",
                "states_x = jnp.linspace(-max_pos, max_pos, n_states_x)\n",
                "boxes_x_size = (2 * max_pos) / (n_states_x - 1)\n",
                "states_x_boxes = (np.linspace(-max_pos, max_pos + boxes_x_size, n_states_x + 1) - boxes_x_size / 2)\n",
                "states_v = jnp.linspace(-max_velocity, max_velocity, n_states_v)\n",
                "boxes_v_size = (2 * max_velocity) / (n_states_v - 1)\n",
                "states_v_boxes = (np.linspace(-max_velocity, max_velocity + boxes_v_size, n_states_v + 1) - boxes_v_size / 2)\n",
                "\n",
                "\n",
                "env = CarOnHillEnv(max_pos, max_velocity, gamma)"
            ]
        },
        {
            "cell_type": "markdown",
            "metadata": {},
            "source": [
                "## Compute optimal Q"
            ]
        },
        {
            "cell_type": "code",
            "execution_count": 3,
            "metadata": {},
            "outputs": [
                {
                    "data": {
                        "application/vnd.jupyter.widget-view+json": {
                            "model_id": "dbcb15ed103a401897d492bbe79f7b13",
                            "version_major": 2,
                            "version_minor": 0
                        },
                        "text/plain": [
                            "  0%|          | 0/17 [00:00<?, ?it/s]"
                        ]
                    },
                    "metadata": {},
                    "output_type": "display_data"
                },
                {
                    "data": {
                        "application/vnd.jupyter.widget-view+json": {
                            "model_id": "f34ec90fd64d4135b952322743535bd6",
                            "version_major": 2,
                            "version_minor": 0
                        },
                        "text/plain": [
                            "  0%|          | 0/17 [00:00<?, ?it/s]"
                        ]
                    },
                    "metadata": {},
                    "output_type": "display_data"
                },
                {
                    "data": {
                        "application/vnd.jupyter.widget-view+json": {
                            "model_id": "3097c0793e4e4c41a8f6a3c1d9f2664d",
                            "version_major": 2,
                            "version_minor": 0
                        },
                        "text/plain": [
                            "  0%|          | 0/17 [00:00<?, ?it/s]"
                        ]
                    },
                    "metadata": {},
                    "output_type": "display_data"
                },
                {
                    "data": {
                        "application/vnd.jupyter.widget-view+json": {
                            "model_id": "43332662897f426ea37b54ea80e8e4ad",
                            "version_major": 2,
                            "version_minor": 0
                        },
                        "text/plain": [
                            "  0%|          | 0/17 [00:00<?, ?it/s]"
                        ]
                    },
                    "metadata": {},
                    "output_type": "display_data"
                },
                {
                    "ename": "KeyboardInterrupt",
                    "evalue": "",
                    "output_type": "error",
                    "traceback": [
                        "\u001b[0;31m---------------------------------------------------------------------------\u001b[0m",
                        "\u001b[0;31mKeyboardInterrupt\u001b[0m                         Traceback (most recent call last)",
                        "\u001b[1;32m/home/vincent/Darmstadt/PBO/figure_specific/car_on_hill/optimal.ipynb Cell 6\u001b[0m in \u001b[0;36m<cell line: 9>\u001b[0;34m()\u001b[0m\n\u001b[1;32m     <a href='vscode-notebook-cell:/home/vincent/Darmstadt/PBO/figure_specific/car_on_hill/optimal.ipynb#ch0000005?line=11'>12</a>\u001b[0m             env\u001b[39m.\u001b[39mreset(np\u001b[39m.\u001b[39marray([state_x, state_v]))\n\u001b[1;32m     <a href='vscode-notebook-cell:/home/vincent/Darmstadt/PBO/figure_specific/car_on_hill/optimal.ipynb#ch0000005?line=12'>13</a>\u001b[0m             next_state, reward, absorbing, _ \u001b[39m=\u001b[39m env\u001b[39m.\u001b[39mstep(np\u001b[39m.\u001b[39marray([action]))\n\u001b[0;32m---> <a href='vscode-notebook-cell:/home/vincent/Darmstadt/PBO/figure_specific/car_on_hill/optimal.ipynb#ch0000005?line=14'>15</a>\u001b[0m             optimal_q[idx_state_x, idx_state_v, idx_action] \u001b[39m=\u001b[39m reward[\u001b[39m0\u001b[39m] \u001b[39m+\u001b[39m (\u001b[39m1\u001b[39m \u001b[39m-\u001b[39m absorbing[\u001b[39m0\u001b[39m]) \u001b[39m*\u001b[39m gamma \u001b[39m*\u001b[39m env\u001b[39m.\u001b[39;49moptimal_v(next_state, horizon)\n\u001b[1;32m     <a href='vscode-notebook-cell:/home/vincent/Darmstadt/PBO/figure_specific/car_on_hill/optimal.ipynb#ch0000005?line=16'>17</a>\u001b[0m visu_mesh\u001b[39m.\u001b[39mset_values(optimal_q[:, :, \u001b[39m1\u001b[39m] \u001b[39m-\u001b[39m optimal_q[:, :, \u001b[39m0\u001b[39m])\n\u001b[1;32m     <a href='vscode-notebook-cell:/home/vincent/Darmstadt/PBO/figure_specific/car_on_hill/optimal.ipynb#ch0000005?line=17'>18</a>\u001b[0m visu_mesh\u001b[39m.\u001b[39mshow(\n\u001b[1;32m     <a href='vscode-notebook-cell:/home/vincent/Darmstadt/PBO/figure_specific/car_on_hill/optimal.ipynb#ch0000005?line=18'>19</a>\u001b[0m     \u001b[39m\"\u001b[39m\u001b[39mOptimal Q\u001b[39m\u001b[39m\"\u001b[39m, xlabel\u001b[39m=\u001b[39m\u001b[39m\"\u001b[39m\u001b[39mx\u001b[39m\u001b[39m\"\u001b[39m, ylabel\u001b[39m=\u001b[39m\u001b[39m\"\u001b[39m\u001b[39mv\u001b[39m\u001b[39m\"\u001b[39m\n\u001b[1;32m     <a href='vscode-notebook-cell:/home/vincent/Darmstadt/PBO/figure_specific/car_on_hill/optimal.ipynb#ch0000005?line=19'>20</a>\u001b[0m )\n",
                        "File \u001b[0;32m~/Darmstadt/PBO/pbo/environment/car_on_hill.py:156\u001b[0m, in \u001b[0;36mCarOnHillEnv.optimal_v\u001b[0;34m(self, state, max_steps)\u001b[0m\n\u001b[1;32m    155\u001b[0m \u001b[39mdef\u001b[39;00m \u001b[39moptimal_v\u001b[39m(\u001b[39mself\u001b[39m, state: jnp\u001b[39m.\u001b[39mndarray, max_steps: \u001b[39mint\u001b[39m) \u001b[39m-\u001b[39m\u001b[39m>\u001b[39m \u001b[39mfloat\u001b[39m:\n\u001b[0;32m--> 156\u001b[0m     success, step_to_absorbing \u001b[39m=\u001b[39m \u001b[39mself\u001b[39;49m\u001b[39m.\u001b[39;49moptimal_steps_to_absorbing(state, max_steps)\n\u001b[1;32m    158\u001b[0m     \u001b[39mif\u001b[39;00m step_to_absorbing \u001b[39m==\u001b[39m \u001b[39m0\u001b[39m:\n\u001b[1;32m    159\u001b[0m         \u001b[39mreturn\u001b[39;00m \u001b[39m0\u001b[39m\n",
                        "File \u001b[0;32m~/Darmstadt/PBO/pbo/environment/car_on_hill.py:142\u001b[0m, in \u001b[0;36mCarOnHillEnv.optimal_steps_to_absorbing\u001b[0;34m(self, state, max_steps)\u001b[0m\n\u001b[1;32m    140\u001b[0m \u001b[39mfor\u001b[39;00m action \u001b[39min\u001b[39;00m \u001b[39mrange\u001b[39m(\u001b[39m2\u001b[39m):\n\u001b[1;32m    141\u001b[0m     \u001b[39mself\u001b[39m\u001b[39m.\u001b[39mstate \u001b[39m=\u001b[39m state_\n\u001b[0;32m--> 142\u001b[0m     next_state, reward, _, _ \u001b[39m=\u001b[39m \u001b[39mself\u001b[39;49m\u001b[39m.\u001b[39;49mstep(jnp\u001b[39m.\u001b[39;49marray([action]))\n\u001b[1;32m    144\u001b[0m     \u001b[39mif\u001b[39;00m reward \u001b[39m==\u001b[39m \u001b[39m1\u001b[39m:\n\u001b[1;32m    145\u001b[0m         \u001b[39mreturn\u001b[39;00m \u001b[39mTrue\u001b[39;00m, step \u001b[39m+\u001b[39m \u001b[39m1\u001b[39m\n",
                        "File \u001b[0;32m~/Darmstadt/PBO/pbo/environment/car_on_hill.py:45\u001b[0m, in \u001b[0;36mCarOnHillEnv.step\u001b[0;34m(self, action)\u001b[0m\n\u001b[1;32m     41\u001b[0m new_state \u001b[39m=\u001b[39m odeint(\u001b[39mself\u001b[39m\u001b[39m.\u001b[39m_dpds, sa, [\u001b[39m0\u001b[39m, \u001b[39mself\u001b[39m\u001b[39m.\u001b[39m_dt])\n\u001b[1;32m     43\u001b[0m \u001b[39mself\u001b[39m\u001b[39m.\u001b[39mstate \u001b[39m=\u001b[39m jnp\u001b[39m.\u001b[39marray(new_state[\u001b[39m-\u001b[39m\u001b[39m1\u001b[39m, :\u001b[39m-\u001b[39m\u001b[39m1\u001b[39m])\n\u001b[0;32m---> 45\u001b[0m \u001b[39mif\u001b[39;00m \u001b[39mself\u001b[39;49m\u001b[39m.\u001b[39;49mstate[\u001b[39m0\u001b[39;49m] \u001b[39m<\u001b[39m \u001b[39m-\u001b[39m\u001b[39mself\u001b[39m\u001b[39m.\u001b[39mmax_pos \u001b[39mor\u001b[39;00m np\u001b[39m.\u001b[39mabs(\u001b[39mself\u001b[39m\u001b[39m.\u001b[39mstate[\u001b[39m1\u001b[39m]) \u001b[39m>\u001b[39m \u001b[39mself\u001b[39m\u001b[39m.\u001b[39mmax_velocity:\n\u001b[1;32m     46\u001b[0m     reward \u001b[39m=\u001b[39m \u001b[39m-\u001b[39m\u001b[39m1.0\u001b[39m\n\u001b[1;32m     47\u001b[0m     absorbing \u001b[39m=\u001b[39m \u001b[39mTrue\u001b[39;00m\n",
                        "File \u001b[0;32m~/Darmstadt/PBO/env_cpu/lib/python3.8/site-packages/jax/_src/numpy/lax_numpy.py:3597\u001b[0m, in \u001b[0;36m_rewriting_take\u001b[0;34m(arr, idx, indices_are_sorted, unique_indices, mode, fill_value)\u001b[0m\n\u001b[1;32m   3594\u001b[0m   \u001b[39mreturn\u001b[39;00m _getslice(arr, start, stop)\n\u001b[1;32m   3596\u001b[0m treedef, static_idx, dynamic_idx \u001b[39m=\u001b[39m _split_index_for_jit(idx, arr\u001b[39m.\u001b[39mshape)\n\u001b[0;32m-> 3597\u001b[0m \u001b[39mreturn\u001b[39;00m _gather(arr, treedef, static_idx, dynamic_idx, indices_are_sorted,\n\u001b[1;32m   3598\u001b[0m                unique_indices, mode, fill_value)\n",
                        "File \u001b[0;32m~/Darmstadt/PBO/env_cpu/lib/python3.8/site-packages/jax/_src/numpy/lax_numpy.py:3606\u001b[0m, in \u001b[0;36m_gather\u001b[0;34m(arr, treedef, static_idx, dynamic_idx, indices_are_sorted, unique_indices, mode, fill_value)\u001b[0m\n\u001b[1;32m   3603\u001b[0m \u001b[39mdef\u001b[39;00m \u001b[39m_gather\u001b[39m(arr, treedef, static_idx, dynamic_idx, indices_are_sorted,\n\u001b[1;32m   3604\u001b[0m             unique_indices, mode, fill_value):\n\u001b[1;32m   3605\u001b[0m   idx \u001b[39m=\u001b[39m _merge_static_and_dynamic_indices(treedef, static_idx, dynamic_idx)\n\u001b[0;32m-> 3606\u001b[0m   indexer \u001b[39m=\u001b[39m _index_to_gather(shape(arr), idx)  \u001b[39m# shared with _scatter_update\u001b[39;00m\n\u001b[1;32m   3607\u001b[0m   y \u001b[39m=\u001b[39m arr\n\u001b[1;32m   3609\u001b[0m   \u001b[39mif\u001b[39;00m fill_value \u001b[39mis\u001b[39;00m \u001b[39mnot\u001b[39;00m \u001b[39mNone\u001b[39;00m:\n",
                        "File \u001b[0;32m~/Darmstadt/PBO/env_cpu/lib/python3.8/site-packages/jax/_src/numpy/lax_numpy.py:3806\u001b[0m, in \u001b[0;36m_index_to_gather\u001b[0;34m(x_shape, idx, normalize_indices)\u001b[0m\n\u001b[1;32m   3803\u001b[0m \u001b[39mif\u001b[39;00m core\u001b[39m.\u001b[39msymbolic_equal_dim(x_shape[x_axis], \u001b[39m0\u001b[39m):\n\u001b[1;32m   3804\u001b[0m   \u001b[39m# XLA gives error when indexing into an axis of size 0\u001b[39;00m\n\u001b[1;32m   3805\u001b[0m   \u001b[39mraise\u001b[39;00m \u001b[39mIndexError\u001b[39;00m(\u001b[39mf\u001b[39m\u001b[39m\"\u001b[39m\u001b[39mindex is out of bounds for axis \u001b[39m\u001b[39m{\u001b[39;00mx_axis\u001b[39m}\u001b[39;00m\u001b[39m with size 0\u001b[39m\u001b[39m\"\u001b[39m)\n\u001b[0;32m-> 3806\u001b[0m i \u001b[39m=\u001b[39m _normalize_index(i, x_shape[x_axis]) \u001b[39mif\u001b[39;00m normalize_indices \u001b[39melse\u001b[39;00m i\n\u001b[1;32m   3807\u001b[0m i \u001b[39m=\u001b[39m lax\u001b[39m.\u001b[39mconvert_element_type(i, index_dtype)\n\u001b[1;32m   3808\u001b[0m gather_indices\u001b[39m.\u001b[39mappend((i, \u001b[39mlen\u001b[39m(gather_indices_shape)))\n",
                        "File \u001b[0;32m~/Darmstadt/PBO/env_cpu/lib/python3.8/site-packages/jax/_src/numpy/lax_numpy.py:3481\u001b[0m, in \u001b[0;36m_normalize_index\u001b[0;34m(index, axis_size)\u001b[0m\n\u001b[1;32m   3476\u001b[0m \u001b[39melse\u001b[39;00m:\n\u001b[1;32m   3477\u001b[0m   axis_size_val \u001b[39m=\u001b[39m lax\u001b[39m.\u001b[39mconvert_element_type(core\u001b[39m.\u001b[39mdimension_as_value(axis_size),\n\u001b[1;32m   3478\u001b[0m                                            _dtype(index))\n\u001b[1;32m   3479\u001b[0m \u001b[39mreturn\u001b[39;00m lax\u001b[39m.\u001b[39mselect(\n\u001b[1;32m   3480\u001b[0m   lax\u001b[39m.\u001b[39mlt(index, _lax_const(index, \u001b[39m0\u001b[39m)),\n\u001b[0;32m-> 3481\u001b[0m   lax\u001b[39m.\u001b[39;49madd(index, axis_size_val),\n\u001b[1;32m   3482\u001b[0m   index)\n",
                        "File \u001b[0;32m~/Darmstadt/PBO/env_cpu/lib/python3.8/site-packages/jax/_src/lax/lax.py:445\u001b[0m, in \u001b[0;36madd\u001b[0;34m(x, y)\u001b[0m\n\u001b[1;32m    443\u001b[0m \u001b[39mdef\u001b[39;00m \u001b[39madd\u001b[39m(x: Array, y: Array) \u001b[39m-\u001b[39m\u001b[39m>\u001b[39m Array:\n\u001b[1;32m    444\u001b[0m   \u001b[39mr\u001b[39m\u001b[39m\"\"\"Elementwise addition: :math:`x + y`.\"\"\"\u001b[39;00m\n\u001b[0;32m--> 445\u001b[0m   \u001b[39mreturn\u001b[39;00m add_p\u001b[39m.\u001b[39;49mbind(x, y)\n",
                        "File \u001b[0;32m~/Darmstadt/PBO/env_cpu/lib/python3.8/site-packages/jax/core.py:324\u001b[0m, in \u001b[0;36mPrimitive.bind\u001b[0;34m(self, *args, **params)\u001b[0m\n\u001b[1;32m    321\u001b[0m \u001b[39mdef\u001b[39;00m \u001b[39mbind\u001b[39m(\u001b[39mself\u001b[39m, \u001b[39m*\u001b[39margs, \u001b[39m*\u001b[39m\u001b[39m*\u001b[39mparams):\n\u001b[1;32m    322\u001b[0m   \u001b[39massert\u001b[39;00m (\u001b[39mnot\u001b[39;00m config\u001b[39m.\u001b[39mjax_enable_checks \u001b[39mor\u001b[39;00m\n\u001b[1;32m    323\u001b[0m           \u001b[39mall\u001b[39m(\u001b[39misinstance\u001b[39m(arg, Tracer) \u001b[39mor\u001b[39;00m valid_jaxtype(arg) \u001b[39mfor\u001b[39;00m arg \u001b[39min\u001b[39;00m args)), args\n\u001b[0;32m--> 324\u001b[0m   \u001b[39mreturn\u001b[39;00m \u001b[39mself\u001b[39;49m\u001b[39m.\u001b[39;49mbind_with_trace(find_top_trace(args), args, params)\n",
                        "File \u001b[0;32m~/Darmstadt/PBO/env_cpu/lib/python3.8/site-packages/jax/core.py:327\u001b[0m, in \u001b[0;36mPrimitive.bind_with_trace\u001b[0;34m(self, trace, args, params)\u001b[0m\n\u001b[1;32m    326\u001b[0m \u001b[39mdef\u001b[39;00m \u001b[39mbind_with_trace\u001b[39m(\u001b[39mself\u001b[39m, trace, args, params):\n\u001b[0;32m--> 327\u001b[0m   out \u001b[39m=\u001b[39m trace\u001b[39m.\u001b[39;49mprocess_primitive(\u001b[39mself\u001b[39;49m, \u001b[39mmap\u001b[39;49m(trace\u001b[39m.\u001b[39;49mfull_raise, args), params)\n\u001b[1;32m    328\u001b[0m   \u001b[39mreturn\u001b[39;00m \u001b[39mmap\u001b[39m(full_lower, out) \u001b[39mif\u001b[39;00m \u001b[39mself\u001b[39m\u001b[39m.\u001b[39mmultiple_results \u001b[39melse\u001b[39;00m full_lower(out)\n",
                        "File \u001b[0;32m~/Darmstadt/PBO/env_cpu/lib/python3.8/site-packages/jax/core.py:684\u001b[0m, in \u001b[0;36mEvalTrace.process_primitive\u001b[0;34m(self, primitive, tracers, params)\u001b[0m\n\u001b[1;32m    683\u001b[0m \u001b[39mdef\u001b[39;00m \u001b[39mprocess_primitive\u001b[39m(\u001b[39mself\u001b[39m, primitive, tracers, params):\n\u001b[0;32m--> 684\u001b[0m   \u001b[39mreturn\u001b[39;00m primitive\u001b[39m.\u001b[39;49mimpl(\u001b[39m*\u001b[39;49mtracers, \u001b[39m*\u001b[39;49m\u001b[39m*\u001b[39;49mparams)\n",
                        "File \u001b[0;32m~/Darmstadt/PBO/env_cpu/lib/python3.8/site-packages/jax/_src/dispatch.py:101\u001b[0m, in \u001b[0;36mapply_primitive\u001b[0;34m(prim, *args, **params)\u001b[0m\n\u001b[1;32m     98\u001b[0m \u001b[39m\"\"\"Impl rule that compiles and runs a single primitive 'prim' using XLA.\"\"\"\u001b[39;00m\n\u001b[1;32m     99\u001b[0m compiled_fun \u001b[39m=\u001b[39m xla_primitive_callable(prim, \u001b[39m*\u001b[39munsafe_map(arg_spec, args),\n\u001b[1;32m    100\u001b[0m                                       \u001b[39m*\u001b[39m\u001b[39m*\u001b[39mparams)\n\u001b[0;32m--> 101\u001b[0m \u001b[39mreturn\u001b[39;00m compiled_fun(\u001b[39m*\u001b[39;49margs)\n",
                        "File \u001b[0;32m~/Darmstadt/PBO/env_cpu/lib/python3.8/site-packages/jax/_src/dispatch.py:167\u001b[0m, in \u001b[0;36mxla_primitive_callable.<locals>.<lambda>\u001b[0;34m(*args, **kw)\u001b[0m\n\u001b[1;32m    164\u001b[0m compiled \u001b[39m=\u001b[39m _xla_callable_uncached(lu\u001b[39m.\u001b[39mwrap_init(prim_fun), device, \u001b[39mNone\u001b[39;00m,\n\u001b[1;32m    165\u001b[0m                                   prim\u001b[39m.\u001b[39mname, donated_invars, \u001b[39mFalse\u001b[39;00m, \u001b[39m*\u001b[39marg_specs)\n\u001b[1;32m    166\u001b[0m \u001b[39mif\u001b[39;00m \u001b[39mnot\u001b[39;00m prim\u001b[39m.\u001b[39mmultiple_results:\n\u001b[0;32m--> 167\u001b[0m   \u001b[39mreturn\u001b[39;00m \u001b[39mlambda\u001b[39;00m \u001b[39m*\u001b[39margs, \u001b[39m*\u001b[39m\u001b[39m*\u001b[39mkw: compiled(\u001b[39m*\u001b[39;49margs, \u001b[39m*\u001b[39;49m\u001b[39m*\u001b[39;49mkw)[\u001b[39m0\u001b[39m]\n\u001b[1;32m    168\u001b[0m \u001b[39melse\u001b[39;00m:\n\u001b[1;32m    169\u001b[0m   \u001b[39mreturn\u001b[39;00m compiled\n",
                        "File \u001b[0;32m~/Darmstadt/PBO/env_cpu/lib/python3.8/site-packages/jax/_src/dispatch.py:733\u001b[0m, in \u001b[0;36m_execute_compiled\u001b[0;34m(name, compiled, input_handler, output_buffer_counts, result_handler, has_unordered_effects, ordered_effects, kept_var_idx, *args)\u001b[0m\n\u001b[1;32m    730\u001b[0m \u001b[39mif\u001b[39;00m has_unordered_effects \u001b[39mor\u001b[39;00m ordered_effects:\n\u001b[1;32m    731\u001b[0m   in_flat, token_handler \u001b[39m=\u001b[39m _add_tokens(has_unordered_effects, ordered_effects,\n\u001b[1;32m    732\u001b[0m                                        device, in_flat)\n\u001b[0;32m--> 733\u001b[0m out_flat \u001b[39m=\u001b[39m compiled\u001b[39m.\u001b[39;49mexecute(in_flat)\n\u001b[1;32m    734\u001b[0m check_special(name, out_flat)\n\u001b[1;32m    735\u001b[0m out_bufs \u001b[39m=\u001b[39m unflatten(out_flat, output_buffer_counts)\n",
                        "\u001b[0;31mKeyboardInterrupt\u001b[0m: "
                    ]
                }
            ],
            "source": [
                "from tqdm.notebook import tqdm\n",
                "from pbo.utils.two_dimesions_mesh import TwoDimesionsMesh\n",
                "\n",
                "\n",
                "visu_mesh = TwoDimesionsMesh(states_x, states_v, sleeping_time=0, axis_equal=False)\n",
                "\n",
                "optimal_q = np.zeros((n_states_x, n_states_v, n_actions))\n",
                "\n",
                "for idx_state_x, state_x in enumerate(tqdm(states_x)):\n",
                "    for idx_state_v, state_v in enumerate(tqdm(states_v, leave=False)):\n",
                "        for idx_action, action in enumerate(range(n_actions)):\n",
                "            env.reset(np.array([state_x, state_v]))\n",
                "            next_state, reward, absorbing, _ = env.step(np.array([action]))\n",
                "\n",
                "            optimal_q[idx_state_x, idx_state_v, idx_action] = reward[0] + (1 - absorbing[0]) * gamma * env.optimal_v(next_state, horizon)\n",
                "\n",
                "visu_mesh.set_values(optimal_q[:, :, 1] - optimal_q[:, :, 0])\n",
                "visu_mesh.show(\n",
                "    \"Optimal Q\", xlabel=\"x\", ylabel=\"v\"\n",
                ")"
            ]
        },
        {
            "cell_type": "code",
            "execution_count": 4,
            "metadata": {},
            "outputs": [],
            "source": [
                "np.save(f\"figures/data/optimal/Q.npy\", optimal_q)"
            ]
        },
        {
            "cell_type": "markdown",
            "metadata": {},
            "source": [
                "## Compute optimal V"
            ]
        },
        {
            "cell_type": "code",
            "execution_count": null,
            "metadata": {},
            "outputs": [],
            "source": [
                "optimal_v = np.zeros((n_states_x, n_states_v))\n",
                "\n",
                "for idx_state_x, state_x in enumerate(tqdm(states_x)):\n",
                "    for idx_state_v, state_v in enumerate(tqdm(states_v, leave=False)):\n",
                "        optimal_v[idx_state_x, idx_state_v] = env.optimal_v(np.array([state_x, state_v]), horizon)\n",
                "\n",
                "visu_mesh.set_values(optimal_v)\n",
                "visu_mesh.show(\n",
                "    \"Optimal V\", xlabel=\"x\", ylabel=\"v\"\n",
                ")"
            ]
        },
        {
            "cell_type": "code",
            "execution_count": null,
            "metadata": {},
            "outputs": [],
            "source": [
                "np.save(f\"figures/data/optimal/V.npy\", optimal_v)"
            ]
        }
    ],
    "metadata": {
        "kernelspec": {
            "display_name": "Python 3.8.10 ('env_cpu': venv)",
            "language": "python",
            "name": "python3"
        },
        "language_info": {
            "codemirror_mode": {
                "name": "ipython",
                "version": 3
            },
            "file_extension": ".py",
            "mimetype": "text/x-python",
            "name": "python",
            "nbconvert_exporter": "python",
            "pygments_lexer": "ipython3",
            "version": "3.8.10"
        },
        "orig_nbformat": 4,
        "vscode": {
            "interpreter": {
                "hash": "af5525a3273d35d601ae265c5d3634806dd61a1c4d085ae098611a6832982bdb"
            }
        }
    },
    "nbformat": 4,
    "nbformat_minor": 2
}
