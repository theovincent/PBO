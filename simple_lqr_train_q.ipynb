{
    "cells": [
        {
            "cell_type": "markdown",
            "metadata": {},
            "source": [
                "# Train a simple Q on a LQR environment\n",
                "\n",
                "## Define paramters"
            ]
        },
        {
            "cell_type": "code",
            "execution_count": 54,
            "metadata": {},
            "outputs": [
                {
                    "name": "stdout",
                    "output_type": "stream",
                    "text": [
                        "The autoreload extension is already loaded. To reload it, use:\n",
                        "  %reload_ext autoreload\n"
                    ]
                }
            ],
            "source": [
                "%load_ext autoreload\n",
                "%autoreload 2\n",
                "\n",
                "import jax\n",
                "\n",
                "# keys\n",
                "seed = 1\n",
                "key = jax.random.PRNGKey(seed)\n",
                "env_key, key = jax.random.split(key)\n",
                "shuffle_key, q_network_key, random_weights_key = jax.random.split(key, 3)\n",
                "\n",
                "# Box over states and actions\n",
                "max_discrete_state = 5\n",
                "n_discrete_states = 7\n",
                "max_discrete_action = 5\n",
                "n_discrete_actions = 7\n",
                "\n",
                "# Q function\n",
                "random_weights_range = 1\n",
                "\n",
                "# Q trainings\n",
                "tolerance = 0.1\n",
                "max_iterations = 10000\n",
                "batch_size = 20\n",
                "learning_rate = {\"first\": 0.001, \"last\": 0.0005, \"duration\": max_iterations}\n",
                "\n",
                "# Visualisation\n",
                "plot_freq = 200\n",
                "sleeping_time = 0"
            ]
        },
        {
            "cell_type": "markdown",
            "metadata": {},
            "source": [
                "## Define environment"
            ]
        },
        {
            "cell_type": "code",
            "execution_count": 55,
            "metadata": {},
            "outputs": [
                {
                    "name": "stdout",
                    "output_type": "stream",
                    "text": [
                        "Transition: s' = As + Ba\n",
                        "Transition: s' = -0.10490131378173828s + -0.6472394466400146a\n",
                        "Reward: Qs² + Ra² + 2 Ssa\n",
                        "Reward: -0.21946656703948975s² + -0.19231724739074707a² + -0.11510777473449707sa\n"
                    ]
                }
            ],
            "source": [
                "import numpy as np\n",
                "\n",
                "from pbo.environment.linear_quadratic import LinearQuadraticEnv\n",
                "\n",
                "\n",
                "discrete_states = np.linspace(-max_discrete_state, max_discrete_state, n_discrete_states)\n",
                "state_box_half_size = max_discrete_state / n_discrete_states\n",
                "discrete_states_boxes = np.linspace(\n",
                "    -max_discrete_state - state_box_half_size, max_discrete_state + state_box_half_size, n_discrete_states + 1\n",
                ")\n",
                "\n",
                "discrete_actions = np.linspace(-max_discrete_action, max_discrete_action, n_discrete_actions)\n",
                "action_box_half_size = max_discrete_action / n_discrete_actions\n",
                "discrete_actions_boxes = np.linspace(\n",
                "    -max_discrete_action - action_box_half_size, max_discrete_action + action_box_half_size, n_discrete_actions + 1\n",
                ")\n",
                "\n",
                "env = LinearQuadraticEnv(env_key, max_init_state=max_discrete_state)"
            ]
        },
        {
            "cell_type": "markdown",
            "metadata": {},
            "source": [
                "## Collect samples"
            ]
        },
        {
            "cell_type": "markdown",
            "metadata": {},
            "source": [
                "### Samples on the mesh"
            ]
        },
        {
            "cell_type": "code",
            "execution_count": 56,
            "metadata": {},
            "outputs": [],
            "source": [
                "import jax.numpy as jnp\n",
                "\n",
                "from pbo.sample_collection.replay_buffer import ReplayBuffer\n",
                "\n",
                "n_samples = n_discrete_states * n_discrete_actions\n",
                "replay_buffer = ReplayBuffer()\n",
                "\n",
                "for state in discrete_states:\n",
                "    for action in discrete_actions:\n",
                "        env.reset(jnp.array([state]))\n",
                "        next_state, reward, _, _ = env.step(jnp.array([action]))\n",
                "\n",
                "        replay_buffer.add(jnp.array([state]), jnp.array([action]), reward, next_state)"
            ]
        },
        {
            "cell_type": "markdown",
            "metadata": {},
            "source": [
                "## Visualize samples"
            ]
        },
        {
            "cell_type": "code",
            "execution_count": 57,
            "metadata": {},
            "outputs": [
                {
                    "data": {
                        "image/png": "[encoded data removed]",
                        "text/plain": [
                            "<Figure size 432x288 with 2 Axes>"
                        ]
                    },
                    "metadata": {
                        "needs_background": "light"
                    },
                    "output_type": "display_data"
                }
            ],
            "source": [
                "from pbo.sample_collection.count_samples import count_samples\n",
                "from pbo.utils.state_action_mesh import StateActionMesh\n",
                "\n",
                "\n",
                "samples_count, n_outside_boxes = count_samples(replay_buffer, discrete_states_boxes, discrete_actions_boxes)\n",
                "samples_visu_mesh = StateActionMesh(discrete_states, discrete_actions, sleeping_time=0)\n",
                "\n",
                "samples_visu_mesh.set_values(samples_count, zeros_to_nan=True)\n",
                "samples_visu_mesh.show(\n",
                "    f\"Samples repartition, \\n{int(100 * n_outside_boxes / n_samples)}% are outside the box.\"\n",
                ")\n"
            ]
        },
        {
            "cell_type": "markdown",
            "metadata": {},
            "source": [
                "## Optimal Q function"
            ]
        },
        {
            "cell_type": "code",
            "execution_count": 58,
            "metadata": {},
            "outputs": [
                {
                    "data": {
                        "image/png": "[encoded data removed]",
                        "text/plain": [
                            "<Figure size 432x288 with 2 Axes>"
                        ]
                    },
                    "metadata": {
                        "needs_background": "light"
                    },
                    "output_type": "display_data"
                }
            ],
            "source": [
                "optimal_q = env.optimal_Q_mesh(discrete_states, discrete_actions)\n",
                "\n",
                "q_visu_mesh = StateActionMesh(discrete_states, discrete_actions, sleeping_time)\n",
                "\n",
                "q_visu_mesh.set_values(optimal_q)\n",
                "q_visu_mesh.show(\"Optimal q function\")"
            ]
        },
        {
            "cell_type": "markdown",
            "metadata": {},
            "source": [
                "## Build q network and its dataloader"
            ]
        },
        {
            "cell_type": "code",
            "execution_count": 62,
            "metadata": {},
            "outputs": [],
            "source": [
                "from pbo.networks.q import TheoreticalQ\n",
                "from pbo.sample_collection.dataloader import SampleDataLoader\n",
                "\n",
                "\n",
                "q = TheoreticalQ(\n",
                "    network_key=q_network_key,\n",
                "    random_weights_range=random_weights_range,\n",
                "    random_weights_key=random_weights_key,\n",
                "    action_range_on_max=0,\n",
                "    n_actions_on_max=0,\n",
                ")\n",
                "\n",
                "replay_buffer.cast_to_jax_array()\n",
                "data_loader = SampleDataLoader(replay_buffer, batch_size, shuffle_key)"
            ]
        },
        {
            "cell_type": "markdown",
            "metadata": {},
            "source": [
                "## Define the optimizer"
            ]
        },
        {
            "cell_type": "code",
            "execution_count": 63,
            "metadata": {},
            "outputs": [],
            "source": [
                "import jax\n",
                "import optax\n",
                "\n",
                "\n",
                "learning_rate_schedule = optax.linear_schedule(learning_rate[\"first\"], learning_rate[\"last\"], learning_rate[\"duration\"])\n",
                "optimizer = optax.adam(learning_rate_schedule)\n",
                "optimizer_state = optimizer.init(q.params)\n",
                "\n",
                "\n",
                "@jax.jit\n",
                "def learn_on_batch(\n",
                "    params: dict, optimizer_state: tuple, batch: jnp.ndarray\n",
                ") -> tuple:\n",
                "    batch_targets = env.optimal_Q_values(batch[\"state\"], batch[\"action\"])\n",
                "\n",
                "    loss, grad_loss = q.l2_loss_and_grad(params, batch[\"state\"], batch[\"action\"], batch_targets)\n",
                "    updates, optimizer_state = optimizer.update(grad_loss, optimizer_state)\n",
                "    params = optax.apply_updates(params, updates)\n",
                "\n",
                "    return params, optimizer_state, loss"
            ]
        },
        {
            "cell_type": "markdown",
            "metadata": {},
            "source": [
                "## Train Q \n",
                "Objective: See if the representation power of the network of Q is powerful enough to represent the optimal Q"
            ]
        },
        {
            "cell_type": "code",
            "execution_count": 64,
            "metadata": {},
            "outputs": [
                {
                    "data": {
                        "image/png": "[encoded data removed]",
                        "text/plain": [
                            "<Figure size 432x288 with 2 Axes>"
                        ]
                    },
                    "metadata": {
                        "needs_background": "light"
                    },
                    "output_type": "display_data"
                },
                {
                    "data": {
                        "image/png": "[encoded data removed]",
                        "text/plain": [
                            "<Figure size 432x288 with 2 Axes>"
                        ]
                    },
                    "metadata": {
                        "needs_background": "light"
                    },
                    "output_type": "display_data"
                }
            ],
            "source": [
                "import jax.numpy as jnp\n",
                "\n",
                "from pbo.utils.shared_axis_plot import shared_axis_plot\n",
                "\n",
                "\n",
                "# For visualization\n",
                "former_discrete_q = q.discretize(q.to_weights(q.params).reshape((1, -1)), discrete_states, discrete_actions)[0]\n",
                "l1_losses = []\n",
                "shifts = []\n",
                "\n",
                "iteration = 0\n",
                "l1_loss = float(\"inf\")\n",
                "\n",
                "while l1_loss > tolerance and iteration < max_iterations:\n",
                "    cumulative_l2_loss = 0\n",
                "\n",
                "    data_loader.shuffle()\n",
                "    for batch in data_loader:\n",
                "        q.params, optimizer_state, loss = learn_on_batch(q.params, optimizer_state, batch)\n",
                "        cumulative_l2_loss += loss\n",
                "\n",
                "    iteration += 1\n",
                "\n",
                "    # Visualization\n",
                "    if iteration % plot_freq == 0:\n",
                "        discrete_q = q.discretize(q.to_weights(q.params).reshape((1, -1)), discrete_states, discrete_actions)[0]\n",
                "\n",
                "        l1_loss = jnp.abs(optimal_q - discrete_q).mean()\n",
                "        shift = jnp.linalg.norm(discrete_q - former_discrete_q)\n",
                "        \n",
                "        q_visu_mesh.set_values(optimal_q - discrete_q)\n",
                "        q_visu_mesh.show(f\"Optimal Q - Discrete Q at iteration {iteration}, \\n l1 loss: {l1_loss}, tolerance: {tolerance}, shift: {int(shift)}\")\n",
                "        \n",
                "        l1_losses.append(l1_loss)\n",
                "        shifts.append(shift)\n",
                "        former_discrete_q = discrete_q\n",
                "\n",
                "shared_axis_plot(l1_losses, shifts, f\"every {plot_freq} iteration\", \"l1 loss\", \"shift\")"
            ]
        }
    ],
    "metadata": {
        "interpreter": {
            "hash": "1432d270abb514d077d760a4c8d2edd41cc0752b595b0513fca29951003961c1"
        },
        "kernelspec": {
            "display_name": "Python 3.8.10 ('env': venv)",
            "language": "python",
            "name": "python3"
        },
        "language_info": {
            "codemirror_mode": {
                "name": "ipython",
                "version": 3
            },
            "file_extension": ".py",
            "mimetype": "text/x-python",
            "name": "python",
            "nbconvert_exporter": "python",
            "pygments_lexer": "ipython3",
            "version": "3.8.10"
        },
        "orig_nbformat": 4
    },
    "nbformat": 4,
    "nbformat_minor": 2
}
