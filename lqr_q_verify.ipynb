{
    "cells": [
        {
            "cell_type": "markdown",
            "metadata": {},
            "source": [
                "# Train Q on a LQR environment\n",
                "\n",
                "## Define paramters"
            ]
        },
        {
            "cell_type": "code",
            "execution_count": 1,
            "metadata": {},
            "outputs": [
                {
                    "name": "stderr",
                    "output_type": "stream",
                    "text": [
                        "WARNING:absl:No GPU/TPU found, falling back to CPU. (Set TF_CPP_MIN_LOG_LEVEL=0 and rerun for more info.)\n"
                    ]
                }
            ],
            "source": [
                "%load_ext autoreload\n",
                "%autoreload 2\n",
                "\n",
                "import jax\n",
                "\n",
                "# keys\n",
                "seed = 1\n",
                "key = jax.random.PRNGKey(seed)\n",
                "env_key, key = jax.random.split(key)\n",
                "shuffle_key, q_network_key, random_weights_key = jax.random.split(key, 3)\n",
                "\n",
                "# Box over states and actions\n",
                "max_discrete_state = 5\n",
                "n_discrete_states = 7\n",
                "max_discrete_action = 5\n",
                "n_discrete_actions = 7\n",
                "\n",
                "gamma = 1\n",
                "\n",
                "# Q function\n",
                "layers_dimension = [50]\n",
                "random_weights_range = 1\n",
                "\n",
                "# Q trainings\n",
                "tolerance = 0.1\n",
                "max_iterations = 10000\n",
                "batch_size = 6\n",
                "learning_rate = {\"first\": 0.001, \"last\": 0.0005, \"duration\": max_iterations}\n",
                "\n",
                "# Visualisation\n",
                "plot_freq = 200\n",
                "sleeping_time = 0"
            ]
        },
        {
            "cell_type": "markdown",
            "metadata": {},
            "source": [
                "## Define environment"
            ]
        },
        {
            "cell_type": "code",
            "execution_count": 122,
            "metadata": {},
            "outputs": [
                {
                    "name": "stdout",
                    "output_type": "stream",
                    "text": [
                        "sdfskldjf\n",
                        "False\n",
                        "sdfskldjf\n",
                        "False\n",
                        "sdfskldjf\n",
                        "False\n",
                        "sdfskldjf\n",
                        "True\n",
                        "Transition: s' = As + Ba\n",
                        "Transition: s' = -0.10490131378173828s + -0.6472394466400146a\n",
                        "Reward: Qs² + Ra² + 2 Ssa\n",
                        "Reward: -0.21946656703948975s² + -0.19231724739074707a² + -0.11510777473449707sa\n",
                        "True\n"
                    ]
                }
            ],
            "source": [
                "import numpy as np\n",
                "\n",
                "from pbo.environment.linear_quadratic import LinearQuadraticEnv\n",
                "\n",
                "\n",
                "discrete_states = np.linspace(-max_discrete_state, max_discrete_state, n_discrete_states)\n",
                "state_box_half_size = max_discrete_state / n_discrete_states\n",
                "discrete_states_boxes = np.linspace(\n",
                "    -max_discrete_state - state_box_half_size, max_discrete_state + state_box_half_size, n_discrete_states + 1\n",
                ")\n",
                "\n",
                "discrete_actions = np.linspace(-max_discrete_action, max_discrete_action, n_discrete_actions)\n",
                "action_box_half_size = max_discrete_action / n_discrete_actions\n",
                "discrete_actions_boxes = np.linspace(\n",
                "    -max_discrete_action - action_box_half_size, max_discrete_action + action_box_half_size, n_discrete_actions + 1\n",
                ")\n",
                "\n",
                "env = LinearQuadraticEnv(env_key, max_init_state=max_discrete_state)"
            ]
        },
        {
            "cell_type": "code",
            "execution_count": 121,
            "metadata": {},
            "outputs": [
                {
                    "name": "stdout",
                    "output_type": "stream",
                    "text": [
                        "False\n"
                    ]
                },
                {
                    "data": {
                        "text/plain": [
                            "(DeviceArray([[-0.25750542]], dtype=float32),\n",
                            " DeviceArray([[0.48829055]], dtype=float32),\n",
                            " DeviceArray([[-0.8696904]], dtype=float32),\n",
                            " DeviceArray([[0.7071922]], dtype=float32))"
                        ]
                    },
                    "execution_count": 121,
                    "metadata": {},
                    "output_type": "execute_result"
                }
            ],
            "source": [
                "def check_ricatti_equation(P: float, A: float, B: float, Q: float, R: float, S: float):\n",
                "    return abs(Q + A ** 2 * P - (S + A * P * B) ** 2 / (R + B **2 * P) - P) < 1e-8\n",
                "    \n",
                "\n",
                "parameters_key_, reset_key = jax.random.split(env_key) \n",
                "\n",
                "parameters_key, key = jax.random.split(parameters_key_)\n",
                "A = jax.random.uniform(key, (1, 1), minval=-1, maxval=1)\n",
                "parameters_key, key = jax.random.split(parameters_key)\n",
                "B = jax.random.uniform(key, (1, 1), minval=-1, maxval=1)\n",
                "parameters_key, key = jax.random.split(parameters_key)\n",
                "Q = jax.random.uniform(key, (1, 1), minval=-1, maxval=0)\n",
                "parameters_key, key = jax.random.split(parameters_key)\n",
                "R = jax.random.uniform(key, (1, 1), minval=-1, maxval=1)\n",
                "parameters_key, key = jax.random.split(parameters_key)\n",
                "S = jax.random.uniform(key, (1, 1), minval=-0.5, maxval=0.5)\n",
                "\n",
                "P = jnp.array(sc_linalg.solve_discrete_are(A, B, Q, R, s=S))\n",
                "print(\n",
                "    check_ricatti_equation(\n",
                "        P[0, 0], A[0, 0], B[0, 0], Q[0, 0], R[0, 0], S[0, 0]\n",
                "    )\n",
                ")\n",
                "A, B, Q, R"
            ]
        },
        {
            "cell_type": "code",
            "execution_count": 73,
            "metadata": {},
            "outputs": [
                {
                    "data": {
                        "text/plain": [
                            "DeviceArray([[-39.241913]], dtype=float32)"
                        ]
                    },
                    "execution_count": 73,
                    "metadata": {},
                    "output_type": "execute_result"
                }
            ],
            "source": [
                "env.P"
            ]
        },
        {
            "cell_type": "code",
            "execution_count": 78,
            "metadata": {},
            "outputs": [
                {
                    "data": {
                        "text/plain": [
                            "array([[-39.24191228]])"
                        ]
                    },
                    "execution_count": 78,
                    "metadata": {},
                    "output_type": "execute_result"
                }
            ],
            "source": [
                "sc_linalg.solve_discrete_are(env.A, env.B, env.Q, env.R, s=env.S)"
            ]
        },
        {
            "cell_type": "code",
            "execution_count": 86,
            "metadata": {},
            "outputs": [
                {
                    "data": {
                        "text/plain": [
                            "dtype('int32')"
                        ]
                    },
                    "execution_count": 86,
                    "metadata": {},
                    "output_type": "execute_result"
                }
            ],
            "source": [
                "A.dtype"
            ]
        },
        {
            "cell_type": "code",
            "execution_count": 81,
            "metadata": {},
            "outputs": [
                {
                    "data": {
                        "text/plain": [
                            "-2.2782484861758303"
                        ]
                    },
                    "execution_count": 81,
                    "metadata": {},
                    "output_type": "execute_result"
                }
            ],
            "source": [
                "import scipy.linalg as sc_linalg\n",
                "\n",
                "A = jnp.array([[5]])\n",
                "B = jnp.array([[9]])\n",
                "Q = jnp.array([[2]])\n",
                "R = jnp.array([[4]])\n",
                "S = jnp.array([[5]])\n",
                "\n",
                "P = sc_linalg.solve_discrete_are(A, B, Q, R, s=S)[0, 0]\n",
                "\n",
                "P"
            ]
        },
        {
            "cell_type": "code",
            "execution_count": 91,
            "metadata": {},
            "outputs": [
                {
                    "data": {
                        "text/plain": [
                            "DeviceArray([[-0.29060966]], dtype=float32)"
                        ]
                    },
                    "execution_count": 91,
                    "metadata": {},
                    "output_type": "execute_result"
                }
            ],
            "source": [
                "Q + A ** 2 * P - (S + A * P * B) ** 2 / (R + B ** 2 * P)"
            ]
        },
        {
            "cell_type": "code",
            "execution_count": 123,
            "metadata": {},
            "outputs": [
                {
                    "name": "stdout",
                    "output_type": "stream",
                    "text": [
                        "Ex q -5.2326875\n",
                        "Theo q -5.2326875\n"
                    ]
                }
            ],
            "source": [
                "import numpy as np\n",
                "import jax.numpy as jnp \n",
                "\n",
                "\n",
                "def theo_q(env, state, action):\n",
                "    k = env.Q[0, 0] + env.A[0, 0] ** 2 * env.P[0, 0]\n",
                "    i = env.S[0, 0] + env.A[0, 0] * env.B[0, 0] * env.P[0, 0]\n",
                "    m = env.R[0, 0] + env.B[0, 0] ** 2 * env.P[0, 0]\n",
                "\n",
                "    return state ** 2 * k + 2 * state * action * i + action ** 2 * m\n",
                "\n",
                "\n",
                "\n",
                "def ex_q(env, state, action):\n",
                "    first = True\n",
                "    reward = [float(\"inf\")]\n",
                "    q_value = 0\n",
                "\n",
                "    env.reset(state=state)\n",
                "\n",
                "    while abs(reward[0]) > 1e-9:\n",
                "        if first:\n",
                "            _, reward, _, _ = env.step(action)\n",
                "            first = False\n",
                "        else:\n",
                "            _, reward, _, _ = env.step(env.optimal_action())\n",
                "\n",
                "        q_value += reward[0]\n",
                "\n",
                "    return q_value\n",
                "\n",
                "\n",
                "state = 1\n",
                "action = 4\n",
                "\n",
                "print(\"Ex q\", ex_q(env, jnp.array([state]), jnp.array([action])))\n",
                "print(\"Theo q\", theo_q(env, state, action))"
            ]
        },
        {
            "cell_type": "code",
            "execution_count": 7,
            "metadata": {},
            "outputs": [
                {
                    "name": "stdout",
                    "output_type": "stream",
                    "text": [
                        "Ex v -0.52837765\n",
                        "Theo v -39.241913\n"
                    ]
                }
            ],
            "source": [
                "import numpy as np\n",
                "import jax.numpy as jnp \n",
                "\n",
                "\n",
                "def theo_v(env, state):\n",
                "    return state ** 2 * env.P[0, 0]\n",
                "\n",
                "\n",
                "\n",
                "def ex_v(env, state):\n",
                "    reward = [float(\"inf\")]\n",
                "    v_value = 0\n",
                "\n",
                "    env.reset(state=state)\n",
                "\n",
                "    while abs(reward[0]) > 1e-9:\n",
                "        _, reward, _, _ = env.step(env.optimal_action())\n",
                "\n",
                "        v_value += reward[0]\n",
                "\n",
                "    return v_value\n",
                "\n",
                "\n",
                "state = 1\n",
                "\n",
                "print(\"Ex v\", ex_v(env, jnp.array([state])))\n",
                "print(\"Theo v\", theo_v(env, state))"
            ]
        },
        {
            "cell_type": "code",
            "execution_count": 31,
            "metadata": {},
            "outputs": [
                {
                    "data": {
                        "text/plain": [
                            "DeviceArray([[-39.241913]], dtype=float32)"
                        ]
                    },
                    "execution_count": 31,
                    "metadata": {},
                    "output_type": "execute_result"
                }
            ],
            "source": [
                "env.P"
            ]
        },
        {
            "cell_type": "code",
            "execution_count": 30,
            "metadata": {},
            "outputs": [
                {
                    "name": "stdout",
                    "output_type": "stream",
                    "text": [
                        "Rewards: 252968.62 [252968.69]\n",
                        "Next state: -2699.1597 [-2699.1597]\n"
                    ]
                }
            ],
            "source": [
                "state = 590\n",
                "action = -3254\n",
                "\n",
                "env.reset(jnp.array([state]))\n",
                "\n",
                "reward_t = state ** 2 * env.Q[0, 0] + 2 * state * action * env.S[0, 0] + action ** 2 * env.R[0, 0]\n",
                "next_state_t = state * env.A[0, 0] + action * env.B[0, 0]\n",
                "\n",
                "next_state_ex, reward_ex, _, _ = env.step(jnp.array([action]))\n",
                "\n",
                "print(\"Rewards:\", reward_t, reward_ex)\n",
                "print(\"Next state:\", next_state_t, next_state_ex)"
            ]
        },
        {
            "cell_type": "markdown",
            "metadata": {},
            "source": [
                "## Collect samples"
            ]
        },
        {
            "cell_type": "markdown",
            "metadata": {},
            "source": [
                "### Samples on the mesh"
            ]
        },
        {
            "cell_type": "code",
            "execution_count": 6,
            "metadata": {},
            "outputs": [],
            "source": [
                "import jax.numpy as jnp\n",
                "\n",
                "from pbo.sample_collection.replay_buffer import ReplayBuffer\n",
                "\n",
                "n_samples = n_discrete_states * n_discrete_actions\n",
                "replay_buffer = ReplayBuffer()\n",
                "\n",
                "for state in discrete_states:\n",
                "    for action in discrete_actions:\n",
                "        env.reset(jnp.array([state]))\n",
                "        next_state, reward, _, _ = env.step(jnp.array([action]))\n",
                "\n",
                "        replay_buffer.add(jnp.array([state]), jnp.array([action]), reward, next_state)"
            ]
        },
        {
            "cell_type": "markdown",
            "metadata": {},
            "source": [
                "## Visualize samples"
            ]
        },
        {
            "cell_type": "code",
            "execution_count": 7,
            "metadata": {},
            "outputs": [
                {
                    "data": {
                        "image/png": "[encoded data removed]",
                        "text/plain": [
                            "<Figure size 432x288 with 2 Axes>"
                        ]
                    },
                    "metadata": {
                        "needs_background": "light"
                    },
                    "output_type": "display_data"
                }
            ],
            "source": [
                "from pbo.sample_collection.count_samples import count_samples\n",
                "from pbo.utils.state_action_mesh import StateActionMesh\n",
                "\n",
                "\n",
                "samples_count, n_outside_boxes = count_samples(replay_buffer, discrete_states_boxes, discrete_actions_boxes)\n",
                "samples_visu_mesh = StateActionMesh(discrete_states, discrete_actions, sleeping_time=0)\n",
                "\n",
                "samples_visu_mesh.set_values(samples_count, zeros_to_nan=True)\n",
                "samples_visu_mesh.show(\n",
                "    f\"Samples repartition, \\n{int(100 * n_outside_boxes / n_samples)}% are outside the box.\"\n",
                ")\n"
            ]
        },
        {
            "cell_type": "markdown",
            "metadata": {},
            "source": [
                "## Optimal Q function"
            ]
        },
        {
            "cell_type": "code",
            "execution_count": 34,
            "metadata": {},
            "outputs": [],
            "source": [
                "import numpy as np \n",
                "\n",
                "\n",
                "def theoretical_q(env, state, action):\n",
                "    return state ** 2 * (env.Q[0, 0] + env.A[0, 0] ** 2 * env.P[0, 0]) + 2 * state * action * (env.S[0, 0] + env.A[0, 0] * env.B[0, 0] * env.P[0, 0]) + action ** 2 * (env.R[0, 0] + env.B[0, 0] ** 2 * env.P[0, 0])\n",
                "\n",
                "    \n",
                "def compute_optimal_Q_lqr(\n",
                "    env,\n",
                "    states: np.ndarray,\n",
                "    actions: np.ndarray,\n",
                ") -> np.ndarray:\n",
                "    Q_values = np.zeros((len(states), len(actions)))\n",
                "\n",
                "    for idx_state, state in enumerate(states):\n",
                "        for idx_action, action in enumerate(actions):\n",
                "            Q_values[idx_state, idx_action] = theoretical_q(env, state, action)\n",
                "\n",
                "    return Q_values"
            ]
        },
        {
            "cell_type": "code",
            "execution_count": 38,
            "metadata": {},
            "outputs": [
                {
                    "data": {
                        "text/plain": [
                            "DeviceArray(-225.04744, dtype=float32)"
                        ]
                    },
                    "execution_count": 38,
                    "metadata": {},
                    "output_type": "execute_result"
                }
            ],
            "source": [
                "state = 1\n",
                "action = 4\n",
                "\n",
                "get_Q_value(env, jnp.array([state]), jnp.array([action]), 1)\n",
                "theoretical_q(env, state, action)"
            ]
        },
        {
            "cell_type": "code",
            "execution_count": 28,
            "metadata": {},
            "outputs": [
                {
                    "data": {
                        "image/png": "[encoded data removed]",
                        "text/plain": [
                            "<Figure size 432x288 with 2 Axes>"
                        ]
                    },
                    "metadata": {
                        "needs_background": "light"
                    },
                    "output_type": "display_data"
                }
            ],
            "source": [
                "import pandas as pd\n",
                "from pbo.utils.compute_Q_lqr import compute_Q_lqr, get_Q_value\n",
                "\n",
                "\n",
                "optimal_q = compute_Q_lqr(env, discrete_states, discrete_actions, gamma)\n",
                "optimal_q_pd = pd.DataFrame(optimal_q, index=jnp.around(discrete_states, 2), columns=jnp.around(discrete_actions, 2))\n",
                "\n",
                "q_visu_mesh = StateActionMesh(discrete_states, discrete_actions, sleeping_time)\n",
                "\n",
                "q_visu_mesh.set_values(optimal_q)\n",
                "q_visu_mesh.show(\"Optimal q function\")"
            ]
        },
        {
            "cell_type": "code",
            "execution_count": 23,
            "metadata": {},
            "outputs": [
                {
                    "data": {
                        "image/png": "[encoded data removed]",
                        "text/plain": [
                            "<Figure size 432x288 with 2 Axes>"
                        ]
                    },
                    "metadata": {
                        "needs_background": "light"
                    },
                    "output_type": "display_data"
                }
            ],
            "source": [
                "q_visu_mesh.set_values(optimal_theoretical_q - optimal_q)\n",
                "q_visu_mesh.show(\"Optimal theoretical q function\")"
            ]
        },
        {
            "cell_type": "code",
            "execution_count": 19,
            "metadata": {},
            "outputs": [
                {
                    "data": {
                        "image/png": "[encoded data removed]",
                        "text/plain": [
                            "<Figure size 432x288 with 2 Axes>"
                        ]
                    },
                    "metadata": {
                        "needs_background": "light"
                    },
                    "output_type": "display_data"
                }
            ],
            "source": [
                "import pandas as pd\n",
                "from pbo.utils.compute_Q_lqr import compute_Q_lqr\n",
                "\n",
                "\n",
                "optimal_theoretical_q = compute_optimal_Q_lqr(env, discrete_states, discrete_actions)\n",
                "\n",
                "q_visu_mesh = StateActionMesh(discrete_states, discrete_actions, sleeping_time)\n",
                "\n",
                "q_visu_mesh.set_values(optimal_theoretical_q)\n",
                "q_visu_mesh.show(\"Optimal theoretical q function\")"
            ]
        },
        {
            "cell_type": "markdown",
            "metadata": {},
            "source": [
                "## Build q network and its dataloader"
            ]
        },
        {
            "cell_type": "code",
            "execution_count": 6,
            "metadata": {},
            "outputs": [],
            "source": [
                "from pbo.networks.q import FullyConnectedQ\n",
                "from pbo.sample_collection.dataloader import SampleDataLoader\n",
                "\n",
                "\n",
                "q = FullyConnectedQ(\n",
                "    layers_dimension=layers_dimension,\n",
                "    network_key=q_network_key,\n",
                "    random_weights_range=random_weights_range,\n",
                "    random_weights_key=random_weights_key,\n",
                "    action_range_on_max=0,\n",
                "    n_actions_on_max=0,\n",
                ")\n",
                "\n",
                "replay_buffer.cast_to_jax_array()\n",
                "data_loader = SampleDataLoader(replay_buffer, batch_size, shuffle_key)"
            ]
        },
        {
            "cell_type": "markdown",
            "metadata": {},
            "source": [
                "## Train Q \n",
                "Objective: See if the representation power of the network of Q is powerful enough to represent the optimal Q"
            ]
        },
        {
            "cell_type": "code",
            "execution_count": 7,
            "metadata": {},
            "outputs": [
                {
                    "data": {
                        "image/png": "[encoded data removed]",
                        "text/plain": [
                            "<Figure size 432x288 with 2 Axes>"
                        ]
                    },
                    "metadata": {
                        "needs_background": "light"
                    },
                    "output_type": "display_data"
                },
                {
                    "data": {
                        "image/png": "[encoded data removed]",
                        "text/plain": [
                            "<Figure size 432x288 with 2 Axes>"
                        ]
                    },
                    "metadata": {
                        "needs_background": "light"
                    },
                    "output_type": "display_data"
                }
            ],
            "source": [
                "import optax\n",
                "import jax.numpy as jnp\n",
                "\n",
                "from pbo.utils.shared_axis_plot import shared_axis_plot\n",
                "\n",
                "learning_rate_schedule = optax.linear_schedule(learning_rate[\"first\"], learning_rate[\"last\"], learning_rate[\"duration\"])\n",
                "optimizer = optax.adam(learning_rate_schedule)\n",
                "optimizer_state = optimizer.init(q.params)\n",
                "\n",
                "# For visualization\n",
                "former_discrete_q = q.discretize(q.to_weights(q.params).reshape((1, -1)), discrete_states, discrete_actions)[0]\n",
                "cumulative_losses = []\n",
                "shifts = []\n",
                "\n",
                "iteration = 0\n",
                "cumulative_loss = float(\"inf\")\n",
                "stopping_criterion = tolerance * data_loader.n_samples\n",
                "\n",
                "while cumulative_loss > stopping_criterion and iteration < max_iterations:\n",
                "    cumulative_loss = 0\n",
                "\n",
                "    data_loader.shuffle()\n",
                "    for batch in data_loader:\n",
                "        # the target is the optimal Q\n",
                "        target = jnp.diag(optimal_q_pd.loc[jnp.around(batch[\"state\"].flatten(), 2), jnp.around(batch[\"action\"].flatten(), 2)].values).reshape(-1, 1)\n",
                "\n",
                "        loss, grad_loss = q.l1_loss_and_grad(q.params, batch[\"state\"], batch[\"action\"], target)\n",
                "        updates, data_optimizer_state = optimizer.update(\n",
                "            grad_loss, optimizer_state\n",
                "        )\n",
                "        q.params = optax.apply_updates(q.params, updates)\n",
                "\n",
                "        cumulative_loss += loss\n",
                "\n",
                "    iteration += 1\n",
                "\n",
                "    # Visualization\n",
                "    if iteration % plot_freq == 0:\n",
                "        discrete_q = q.discretize(q.to_weights(q.params).reshape((1, -1)), discrete_states, discrete_actions)[0]\n",
                "        shift = jnp.abs(discrete_q - former_discrete_q).sum()\n",
                "        \n",
                "        q_visu_mesh.set_values(optimal_q - discrete_q)\n",
                "        q_visu_mesh.show(f\"Optimal Q - Discrete Q at iteration {iteration}, \\nloss: {int(cumulative_loss)}, shift: {int(shift)}, stopping criterion: {stopping_criterion}\")\n",
                "        \n",
                "        cumulative_losses.append(cumulative_loss)\n",
                "        shifts.append(shift)\n",
                "        former_discrete_q = discrete_q\n",
                "\n",
                "final_discrete_q = q.discretize(q.to_weights(q.params).reshape((1, -1)), discrete_states, discrete_actions)[0]\n",
                "q_visu_mesh.set_values(optimal_q - final_discrete_q)\n",
                "q_visu_mesh.show(f\"Optimal Q - Discrete Q at iteration {iteration}, \\n final loss: {int(cumulative_loss)}, stopping criterion: {stopping_criterion}\")\n",
                "\n",
                "shared_axis_plot(cumulative_losses, shifts, f\"every {plot_freq} iteration\", \"cumulative loss\", \"shift\")"
            ]
        },
        {
            "cell_type": "markdown",
            "metadata": {},
            "source": [
                "## Maximizing Q over actions"
            ]
        },
        {
            "cell_type": "code",
            "execution_count": 8,
            "metadata": {},
            "outputs": [
                {
                    "data": {
                        "image/png": "[encoded data removed]",
                        "text/plain": [
                            "<Figure size 432x288 with 1 Axes>"
                        ]
                    },
                    "metadata": {
                        "needs_background": "light"
                    },
                    "output_type": "display_data"
                }
            ],
            "source": [
                "import matplotlib.pyplot as plt\n",
                "\n",
                "\n",
                "random_q_params = q.to_params(q.random_weights())\n",
                "# random_q_params = q.to_params(q.random_init_weights())\n",
                "random_state = jnp.array([np.random.uniform(-max_discrete_state, max_discrete_state)])\n",
                "\n",
                "discrete_actions_on_max = jnp.linspace(\n",
                "    -20, 20, num=10000\n",
                ").reshape((-1, 1))\n",
                "\n",
                "q_values = q.network.apply(\n",
                "    random_q_params, random_state.repeat(len(discrete_actions_on_max)).reshape((-1, 1)), discrete_actions_on_max\n",
                ")\n",
                "\n",
                "plt.plot(discrete_actions_on_max, q_values)\n",
                "plt.xlabel(\"action\")\n",
                "plt.ylabel(\"Q value\")\n",
                "_ = plt.title(f\"Max(Q): {int(q_values.max())}, for state {int(random_state[0])}\")"
            ]
        },
        {
            "cell_type": "markdown",
            "metadata": {},
            "source": [
                "- Q is not spiky so discretizing the action space should work\n",
                "- Taking random init weights gives smaller maximums than taking random weights"
            ]
        }
    ],
    "metadata": {
        "interpreter": {
            "hash": "1432d270abb514d077d760a4c8d2edd41cc0752b595b0513fca29951003961c1"
        },
        "kernelspec": {
            "display_name": "Python 3.8.10 ('env': venv)",
            "language": "python",
            "name": "python3"
        },
        "language_info": {
            "codemirror_mode": {
                "name": "ipython",
                "version": 3
            },
            "file_extension": ".py",
            "mimetype": "text/x-python",
            "name": "python",
            "nbconvert_exporter": "python",
            "pygments_lexer": "ipython3",
            "version": "3.8.10"
        },
        "orig_nbformat": 4
    },
    "nbformat": 4,
    "nbformat_minor": 2
}
