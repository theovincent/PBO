{
    "cells": [
        {
            "cell_type": "markdown",
            "metadata": {},
            "source": [
                "# PBO learnt on several iterations and one weigth one the car on hill environment\n",
                "\n",
                "## Define parameters"
            ]
        },
        {
            "cell_type": "code",
            "execution_count": 31,
            "metadata": {},
            "outputs": [
                {
                    "name": "stdout",
                    "output_type": "stream",
                    "text": [
                        "The autoreload extension is already loaded. To reload it, use:\n",
                        "  %reload_ext autoreload\n"
                    ]
                }
            ],
            "source": [
                "%load_ext autoreload\n",
                "%autoreload 2\n",
                "\n",
                "import numpy as np\n",
                "import jax\n",
                "import jax.numpy as jnp\n",
                "\n",
                "# keys\n",
                "seed = 0\n",
                "key = jax.random.PRNGKey(seed)\n",
                "shuffle_key, q_network_key, random_weights_key, pbo_network_key = jax.random.split(key, 4)\n",
                "\n",
                "# Sample collection\n",
                "n_states_x = 20\n",
                "n_states_v = 20\n",
                "n_actions = 2\n",
                "n_samples = n_states_x * n_states_v * n_actions\n",
                "gamma = 0.9\n",
                "\n",
                "# # Weights collection\n",
                "n_weights = 500\n",
                "\n",
                "# # Trainings\n",
                "layers_dimension = (20, 20)\n",
                "max_bellman_iterations = 10\n",
                "batch_size_samples = n_samples // 4\n",
                "\n",
                "# ## Linear PBO\n",
                "fitting_steps = 4\n",
                "training_steps = 10\n",
                "batch_size_weights = n_weights\n",
                "learning_rate = {\"first\": 0.0005, \"last\": 0.00005, \"duration\": fitting_steps * n_samples // batch_size_samples}\n",
                "\n",
                "# ## Q-learning\n",
                "fitting_steps_q = fitting_steps * training_steps\n",
                "learning_rate_q = {\"first\": 0.001, \"last\": 0.0005, \"duration\": fitting_steps_q * n_samples // batch_size_samples}\n",
                "\n",
                "# # Visualisation of errors and performances\n",
                "max_bellman_iterations_validation = max_bellman_iterations + 20\n",
                "horizon = 50"
            ]
        },
        {
            "cell_type": "markdown",
            "metadata": {},
            "source": [
                "## Define environment"
            ]
        },
        {
            "cell_type": "code",
            "execution_count": 2,
            "metadata": {},
            "outputs": [],
            "source": [
                "from pbo.environment.car_on_hill import CarOnHillEnv\n",
                "\n",
                "max_pos = 1.0\n",
                "max_velocity = 3.0\n",
                "\n",
                "states_x = jnp.linspace(-max_pos, max_pos, n_states_x)\n",
                "boxes_x_size = (2 * max_pos) / (n_states_x - 1)\n",
                "states_x_boxes = (np.linspace(-max_pos, max_pos + boxes_x_size, n_states_x + 1) - boxes_x_size / 2)\n",
                "states_v = jnp.linspace(-max_velocity, max_velocity, n_states_v)\n",
                "boxes_v_size = (2 * max_velocity) / (n_states_v - 1)\n",
                "states_v_boxes = (np.linspace(-max_velocity, max_velocity + boxes_v_size, n_states_v + 1) - boxes_v_size / 2)\n",
                "\n",
                "\n",
                "env = CarOnHillEnv(max_pos, max_velocity, gamma)"
            ]
        },
        {
            "cell_type": "markdown",
            "metadata": {},
            "source": [
                "## Collect samples"
            ]
        },
        {
            "cell_type": "markdown",
            "metadata": {},
            "source": [
                "### Samples on the mesh"
            ]
        },
        {
            "cell_type": "code",
            "execution_count": 3,
            "metadata": {},
            "outputs": [],
            "source": [
                "from pbo.sample_collection.replay_buffer import ReplayBuffer\n",
                "\n",
                "\n",
                "replay_buffer = ReplayBuffer()\n",
                "\n",
                "n_samples = n_states_x * n_states_v * n_actions\n",
                "\n",
                "for state_x in states_x:\n",
                "    for state_v in states_v:\n",
                "        state = jnp.array([state_x, state_v])\n",
                "        \n",
                "        for action in jnp.arange(n_actions):\n",
                "            env.reset(state)\n",
                "            next_state, reward, _, _ = env.step(jnp.array([action]))\n",
                "\n",
                "            replay_buffer.add(state, jnp.array([action]), reward, next_state)\n",
                "\n",
                "replay_buffer.cast_to_jax_array()"
            ]
        },
        {
            "cell_type": "markdown",
            "metadata": {},
            "source": [
                "### Visualize samples"
            ]
        },
        {
            "cell_type": "code",
            "execution_count": 4,
            "metadata": {},
            "outputs": [
                {
                    "data": {
                        "image/png": "[encoded data removed]",
                        "text/plain": [
                            "<Figure size 432x288 with 2 Axes>"
                        ]
                    },
                    "metadata": {
                        "needs_background": "light"
                    },
                    "output_type": "display_data"
                }
            ],
            "source": [
                "from pbo.sample_collection.count_samples import count_samples\n",
                "from pbo.utils.two_dimesions_mesh import TwoDimesionsMesh\n",
                "\n",
                "\n",
                "samples_count, n_outside_boxes = count_samples(replay_buffer.states[:, 0], replay_buffer.states[:, 1], states_x_boxes, states_v_boxes)\n",
                "samples_visu_mesh = TwoDimesionsMesh(states_x, states_v, sleeping_time=0)\n",
                "\n",
                "samples_visu_mesh.set_values(samples_count, zeros_to_nan=True)\n",
                "samples_visu_mesh.show(\n",
                "    f\"Samples repartition, \\n{int(100 * n_outside_boxes / n_samples)}% are outside the box.\", xlabel=\"x\", ylabel=\"v\"\n",
                ")"
            ]
        },
        {
            "cell_type": "markdown",
            "metadata": {},
            "source": [
                "## Optimal Q function"
            ]
        },
        {
            "cell_type": "code",
            "execution_count": 5,
            "metadata": {},
            "outputs": [],
            "source": [
                "# optimal_v = env.optimal_v_mesh(states_x, states_v, max_steps=10)\n",
                "\n",
                "# q_visu_mesh = TwoDimesionsMesh(states_x, states_v, sleeping_time=0)\n",
                "\n",
                "# q_visu_mesh.set_values(optimal_v)\n",
                "# q_visu_mesh.show(\"Optimal v function\", xlabel=\"x\", ylabel=\"v\")"
            ]
        },
        {
            "cell_type": "markdown",
            "metadata": {},
            "source": [
                "## Train Q with Fitted-Q"
            ]
        },
        {
            "cell_type": "code",
            "execution_count": 6,
            "metadata": {},
            "outputs": [
                {
                    "data": {
                        "application/vnd.jupyter.widget-view+json": {
                            "model_id": "d50d2decdd704b8e91fe69c6d6c9e50a",
                            "version_major": 2,
                            "version_minor": 0
                        },
                        "text/plain": [
                            "  0%|          | 0/5 [00:00<?, ?it/s]"
                        ]
                    },
                    "metadata": {},
                    "output_type": "display_data"
                },
                {
                    "data": {
                        "application/vnd.jupyter.widget-view+json": {
                            "model_id": "f94f26f9a2294737b9f5c27a6002516a",
                            "version_major": 2,
                            "version_minor": 0
                        },
                        "text/plain": [
                            "  0%|          | 0/200 [00:00<?, ?it/s]"
                        ]
                    },
                    "metadata": {},
                    "output_type": "display_data"
                },
                {
                    "data": {
                        "application/vnd.jupyter.widget-view+json": {
                            "model_id": "421fb5032edc4246b182fa0455d606d9",
                            "version_major": 2,
                            "version_minor": 0
                        },
                        "text/plain": [
                            "  0%|          | 0/200 [00:00<?, ?it/s]"
                        ]
                    },
                    "metadata": {},
                    "output_type": "display_data"
                },
                {
                    "data": {
                        "application/vnd.jupyter.widget-view+json": {
                            "model_id": "277f3c73d032449589ec717bcc0119a1",
                            "version_major": 2,
                            "version_minor": 0
                        },
                        "text/plain": [
                            "  0%|          | 0/200 [00:00<?, ?it/s]"
                        ]
                    },
                    "metadata": {},
                    "output_type": "display_data"
                },
                {
                    "data": {
                        "application/vnd.jupyter.widget-view+json": {
                            "model_id": "b057e453038349318460fccb8dc5c70e",
                            "version_major": 2,
                            "version_minor": 0
                        },
                        "text/plain": [
                            "  0%|          | 0/200 [00:00<?, ?it/s]"
                        ]
                    },
                    "metadata": {},
                    "output_type": "display_data"
                },
                {
                    "data": {
                        "application/vnd.jupyter.widget-view+json": {
                            "model_id": "cf6d442e134c4f9795f0b16c69d85dde",
                            "version_major": 2,
                            "version_minor": 0
                        },
                        "text/plain": [
                            "  0%|          | 0/200 [00:00<?, ?it/s]"
                        ]
                    },
                    "metadata": {},
                    "output_type": "display_data"
                },
                {
                    "data": {
                        "image/png": "[encoded data removed]",
                        "text/plain": [
                            "<Figure size 432x288 with 1 Axes>"
                        ]
                    },
                    "metadata": {
                        "needs_background": "light"
                    },
                    "output_type": "display_data"
                }
            ],
            "source": [
                "import matplotlib.pyplot as plt \n",
                "from tqdm.notebook import tqdm\n",
                "\n",
                "from pbo.sample_collection.dataloader import SampleDataLoader\n",
                "from pbo.networks.learnable_q import FullyConnectedQ\n",
                "\n",
                "\n",
                "data_loader_samples = SampleDataLoader(replay_buffer, batch_size_samples, shuffle_key)\n",
                "q = FullyConnectedQ(\n",
                "    state_dim=2,\n",
                "    action_dim=1,\n",
                "    continuous_actions=False,\n",
                "    n_actions_on_max=n_actions,\n",
                "    action_range_on_max=None,\n",
                "    gamma=gamma,\n",
                "    network_key=q_network_key,\n",
                "    random_weights_range=None,\n",
                "    random_weights_key=random_weights_key,\n",
                "    learning_rate=learning_rate_q,\n",
                "    layers_dimension=layers_dimension,\n",
                "    zero_initializer=True,\n",
                ")\n",
                "validation_initial_weight = q.to_weights(q.params)\n",
                "\n",
                "l2_losses = np.zeros((max_bellman_iterations, fitting_steps_q))\n",
                "\n",
                "for bellman_iteration in tqdm(range(max_bellman_iterations)):\n",
                "    params_target = q.params\n",
                "    q.reset_optimizer()\n",
                "\n",
                "    for step in tqdm(range(fitting_steps_q), leave=False):\n",
                "        cumulative_l2_loss = 0\n",
                "        \n",
                "        data_loader_samples.shuffle()\n",
                "        for batch_samples in data_loader_samples:\n",
                "            q.params, q.optimizer_state, l2_loss = q.learn_on_batch(q.params, params_target, q.optimizer_state, batch_samples)\n",
                "            cumulative_l2_loss += l2_loss\n",
                "\n",
                "        l2_losses[bellman_iteration, step] = cumulative_l2_loss\n",
                "\n",
                "\n",
                "\n",
                "for bellman_iteration in range(max_bellman_iterations):\n",
                "    plt.plot(l2_losses[bellman_iteration], label=f\"Iteration {bellman_iteration + 1}\")\n",
                "\n",
                "plt.legend()\n",
                "plt.xlabel(\"fitting step\")\n",
                "plt.ylabel(r\"$(\\Gamma^*Q_i - Q_{i +  1})^2$\")\n",
                "plt.title(\"Training losses\")\n",
                "plt.show()"
            ]
        },
        {
            "cell_type": "code",
            "execution_count": 7,
            "metadata": {},
            "outputs": [
                {
                    "name": "stdout",
                    "output_type": "stream",
                    "text": [
                        "[-0.5  0. ]\n",
                        "[-0.08628818]\n",
                        "[-0.08109996]\n",
                        "\n",
                        "[-0.4803309  0.3866922]\n",
                        "[-0.05683526]\n",
                        "[-0.03228384]\n",
                        "\n",
                        "[-0.4254183  0.690585 ]\n",
                        "[-0.06118373]\n",
                        "[-0.00042003]\n",
                        "\n",
                        "[-0.34757635  0.83584267]\n",
                        "[-0.04429268]\n",
                        "[0.04344343]\n",
                        "\n",
                        "[-0.2641553   0.80664194]\n",
                        "[-5.5139884e-05]\n",
                        "[0.09902559]\n",
                        "\n",
                        "[-0.19029287  0.65616035]\n",
                        "[0.04119655]\n",
                        "[0.14246483]\n",
                        "\n",
                        "[-0.13487127  0.44623253]\n",
                        "[0.05721693]\n",
                        "[0.16364485]\n",
                        "\n",
                        "[-0.10178459  0.2134663 ]\n",
                        "[0.04634076]\n",
                        "[0.16397873]\n",
                        "\n",
                        "[-0.09239412 -0.02605632]\n",
                        "[0.01511377]\n",
                        "[0.14327392]\n",
                        "\n",
                        "[-0.10697368 -0.26488298]\n",
                        "[-0.03717101]\n",
                        "[0.09711606]\n",
                        "\n",
                        "[-0.14507785 -0.494572  ]\n",
                        "[-0.11536702]\n",
                        "[0.02366389]\n",
                        "\n",
                        "[-0.20496078 -0.69564986]\n",
                        "[-0.21022812]\n",
                        "[-0.06751394]\n",
                        "\n",
                        "[-0.28187156 -0.825685  ]\n",
                        "[-0.28637874]\n",
                        "[-0.15029567]\n",
                        "\n",
                        "[-0.3655518 -0.8199489]\n",
                        "[-0.29797074]\n",
                        "[-0.19049095]\n",
                        "\n",
                        "[-0.43982083 -0.63601804]\n",
                        "[-0.23672016]\n",
                        "[-0.17620684]\n",
                        "\n",
                        "[-0.48786    -0.30687606]\n",
                        "[-0.14571998]\n",
                        "[-0.12752694]\n",
                        "\n",
                        "[-0.49905953  0.08663929]\n",
                        "[-0.07492007]\n",
                        "[-0.0687765]\n",
                        "\n",
                        "[-0.47111082  0.4626276 ]\n",
                        "[-0.05698192]\n",
                        "[-0.02469759]\n",
                        "\n",
                        "[-0.4099146   0.73743236]\n",
                        "[-0.0605328]\n",
                        "[0.0072783]\n",
                        "\n",
                        "[-0.32934913  0.84321684]\n",
                        "[-0.03615288]\n",
                        "[0.05534755]\n",
                        "\n",
                        "[-0.24691547  0.7818876 ]\n",
                        "[0.01022901]\n",
                        "[0.11012648]\n",
                        "\n",
                        "[-0.17651168  0.6139878 ]\n",
                        "[0.04715934]\n",
                        "[0.14897135]\n",
                        "\n",
                        "[-0.12572461  0.3968957 ]\n",
                        "[0.05690613]\n",
                        "[0.16541044]\n",
                        "\n",
                        "[-0.09771423  0.16176212]\n",
                        "[0.04115372]\n",
                        "[0.16138886]\n",
                        "\n",
                        "[-0.09352445 -0.07813954]\n",
                        "[0.00576705]\n",
                        "[0.13558915]\n",
                        "\n",
                        "[-0.11327416 -0.3159088 ]\n",
                        "[-0.05190068]\n",
                        "[0.08339962]\n",
                        "\n",
                        "[-0.15631999 -0.54165405]\n",
                        "[-0.13533688]\n",
                        "[0.00475307]\n",
                        "\n",
                        "[-0.22045135 -0.73190576]\n",
                        "[-0.23000805]\n",
                        "[-0.08738622]\n",
                        "\n",
                        "[-0.29993224 -0.838273  ]\n",
                        "[-0.2956071]\n",
                        "[-0.1636301]\n",
                        "\n",
                        "[-0.38308793 -0.79532295]\n",
                        "[-0.28991428]\n",
                        "[-0.19165143]\n",
                        "\n",
                        "[-0.45296213 -0.57443196]\n",
                        "[-0.21765263]\n",
                        "[-0.1676605]\n",
                        "\n",
                        "[-0.49362355 -0.22406603]\n",
                        "[-0.12705074]\n",
                        "[-0.11481609]\n",
                        "\n",
                        "[-0.4962468  0.1724741]\n",
                        "[-0.06636354]\n",
                        "[-0.05724482]\n",
                        "\n",
                        "[-0.46029368  0.53378   ]\n",
                        "[-0.0582147]\n",
                        "[-0.01785913]\n",
                        "\n",
                        "[-0.39348346  0.7760146 ]\n",
                        "[-0.05828609]\n",
                        "[0.0159727]\n",
                        "\n",
                        "[-0.31105083  0.8424754 ]\n",
                        "[-0.02689062]\n",
                        "[0.06759858]\n",
                        "\n",
                        "[-0.23026784  0.7521636 ]\n",
                        "[0.01999843]\n",
                        "[0.12039499]\n",
                        "\n",
                        "[-0.16366997  0.5696129 ]\n",
                        "[0.05175912]\n",
                        "[0.15439297]\n",
                        "\n",
                        "[-0.11765699  0.34677604]\n",
                        "[0.05538093]\n",
                        "[0.16623263]\n",
                        "\n",
                        "[-0.09476774  0.10985589]\n",
                        "[0.03508776]\n",
                        "[0.15779026]\n",
                        "\n",
                        "[-0.09578365 -0.13013281]\n",
                        "[-0.00461854]\n",
                        "[0.12664542]\n",
                        "\n",
                        "[-0.12067611 -0.36641768]\n",
                        "[-0.06791635]\n",
                        "[0.06838752]\n",
                        "\n",
                        "[-0.16856699 -0.5871656 ]\n",
                        "[-0.15594788]\n",
                        "[-0.0148615]\n",
                        "\n",
                        "[-0.23668776 -0.7643093 ]\n",
                        "[-0.24844992]\n",
                        "[-0.10653819]\n",
                        "\n",
                        "[-0.3181895  -0.84369797]\n",
                        "[-0.30127177]\n",
                        "[-0.17456724]\n",
                        "\n",
                        "[-0.39999494 -0.7619677 ]\n",
                        "[-0.27852547]\n",
                        "[-0.1902395]\n",
                        "\n",
                        "[-0.46469858 -0.50663793]\n",
                        "[-0.19776751]\n",
                        "[-0.15779026]\n",
                        "\n",
                        "[-0.49756607 -0.13912259]\n",
                        "[-0.10982024]\n",
                        "[-0.10184265]\n",
                        "\n",
                        "[-0.49158826  0.2566854 ]\n",
                        "[-0.06065729]\n",
                        "[-0.04674492]\n",
                        "\n",
                        "[-0.4479931  0.599253 ]\n",
                        "[-0.05976843]\n",
                        "[-0.01135343]\n",
                        "\n"
                    ]
                },
                {
                    "data": {
                        "text/plain": [
                            "DeviceArray([False], dtype=bool)"
                        ]
                    },
                    "execution_count": 7,
                    "metadata": {},
                    "output_type": "execute_result"
                }
            ],
            "source": [
                "env.simulate(q, horizon, jnp.array([-0.5, 0]))"
            ]
        },
        {
            "cell_type": "markdown",
            "metadata": {},
            "source": [
                "## Collect weights"
            ]
        },
        {
            "cell_type": "code",
            "execution_count": 8,
            "metadata": {},
            "outputs": [],
            "source": [
                "from pbo.weights_collection.weights_buffer import WeightsBuffer\n",
                "\n",
                "\n",
                "weights_buffer = WeightsBuffer()\n",
                "\n",
                "# Add initial validation weights\n",
                "weights_buffer.add(validation_initial_weight)\n",
                "\n",
                "# Add randow weights\n",
                "q = FullyConnectedQ(\n",
                "    state_dim=2,\n",
                "    action_dim=1,\n",
                "    continuous_actions=False,\n",
                "    n_actions_on_max=n_actions,\n",
                "    action_range_on_max=None,\n",
                "    gamma=gamma,\n",
                "    network_key=q_network_key,\n",
                "    random_weights_range=None,\n",
                "    random_weights_key=random_weights_key,\n",
                "    learning_rate=None,\n",
                "    layers_dimension=layers_dimension,\n",
                "    zero_initializer=False,\n",
                ")\n",
                "\n",
                "while len(weights_buffer) < n_weights:\n",
                "    weights = q.random_init_weights()\n",
                "    weights_buffer.add(weights)\n",
                "\n",
                "weights_buffer.cast_to_jax_array()"
            ]
        },
        {
            "cell_type": "markdown",
            "metadata": {},
            "source": [
                "## Train non linear PBO"
            ]
        },
        {
            "cell_type": "code",
            "execution_count": 9,
            "metadata": {},
            "outputs": [],
            "source": [
                "# from tqdm.notebook import tqdm\n",
                "\n",
                "# from pbo.sample_collection.dataloader import SampleDataLoader\n",
                "# from pbo.weights_collection.dataloader import WeightsDataLoader\n",
                "# from pbo.networks.learnable_pbo import TabularPBO\n",
                "\n",
                "\n",
                "# data_loader_samples = SampleDataLoader(replay_buffer, batch_size_samples, shuffle_key)\n",
                "# data_loader_weights = WeightsDataLoader(weights_buffer, batch_size_weights, shuffle_key)\n",
                "# pbo_tabular = TabularPBO(q, max_bellman_iterations, add_infinity, pbo_network_key, learning_rate, n_actions)\n",
                "# importance_iteration = jnp.ones(max_bellman_iterations + 1)\n",
                "# importance_iteration = importance_iteration.at[-1].set(0)\n",
                "\n",
                "# for _ in tqdm(range(training_steps)):\n",
                "#     params_target = pbo_tabular.params\n",
                "\n",
                "#     for _ in range(fitting_steps):\n",
                "#         data_loader_weights.shuffle()\n",
                "#         for batch_weights in data_loader_weights:\n",
                "#             data_loader_samples.shuffle()\n",
                "#             for batch_samples in data_loader_samples:\n",
                "#                 pbo_tabular.params, pbo_tabular.optimizer_state, _ = pbo_tabular.learn_on_batch(\n",
                "#                     pbo_tabular.params, params_target, pbo_tabular.optimizer_state, batch_weights, batch_samples, importance_iteration\n",
                "#                 )\n",
                "\n",
                "# training_losses_tabular = np.zeros(max_bellman_iterations_validation)\n",
                "# validation_losses_tabular = np.zeros(max_bellman_iterations_validation)\n",
                "# absording_probabilities_tabular = np.zeros((max_bellman_iterations_validation, horizon))\n",
                "\n",
                "# batch_iterated_weights = validation_initial_weight.reshape((1, -1))\n",
                "# for bellman_iteration in range(max_bellman_iterations_validation):\n",
                "#     q_i = q.discretize(batch_iterated_weights, states, actions)[0]\n",
                "#     batch_iterated_weights = pbo_tabular(pbo_tabular.params, batch_iterated_weights)\n",
                "#     q_i_plus_1 = q.discretize(batch_iterated_weights, states, actions)[0]\n",
                "#     policy_q = q_i_plus_1.argmax(axis=1)\n",
                "\n",
                "#     training_losses_tabular[bellman_iteration] = jnp.abs(env.apply_bellman_operator(q_i) - q_i_plus_1).mean()\n",
                "#     validation_losses_tabular[bellman_iteration] = jnp.abs(optimal_q - q_i_plus_1).mean()\n",
                "#     absording_probabilities_tabular[bellman_iteration] = env.absorbing_probability(policy_q, horizon)\n"
            ]
        },
        {
            "cell_type": "markdown",
            "metadata": {},
            "source": [
                "## Train linear PBO"
            ]
        },
        {
            "cell_type": "code",
            "execution_count": 37,
            "metadata": {},
            "outputs": [
                {
                    "data": {
                        "application/vnd.jupyter.widget-view+json": {
                            "model_id": "a0133145cd894ef6894b9c7c8629a958",
                            "version_major": 2,
                            "version_minor": 0
                        },
                        "text/plain": [
                            "  0%|          | 0/10 [00:00<?, ?it/s]"
                        ]
                    },
                    "metadata": {},
                    "output_type": "display_data"
                },
                {
                    "data": {
                        "application/vnd.jupyter.widget-view+json": {
                            "model_id": "8400158cc95844b780ff74e909de85d3",
                            "version_major": 2,
                            "version_minor": 0
                        },
                        "text/plain": [
                            "0it [00:00, ?it/s]"
                        ]
                    },
                    "metadata": {},
                    "output_type": "display_data"
                },
                {
                    "data": {
                        "application/vnd.jupyter.widget-view+json": {
                            "model_id": "d13d3b1a029144e89a3569ddfbe533fd",
                            "version_major": 2,
                            "version_minor": 0
                        },
                        "text/plain": [
                            "  0%|          | 0/1 [00:00<?, ?it/s]"
                        ]
                    },
                    "metadata": {},
                    "output_type": "display_data"
                },
                {
                    "data": {
                        "application/vnd.jupyter.widget-view+json": {
                            "model_id": "fe974ef68e2742faaefc69347e4a32ca",
                            "version_major": 2,
                            "version_minor": 0
                        },
                        "text/plain": [
                            "  0%|          | 0/2 [00:00<?, ?it/s]"
                        ]
                    },
                    "metadata": {},
                    "output_type": "display_data"
                },
                {
                    "data": {
                        "application/vnd.jupyter.widget-view+json": {
                            "model_id": "87ba1d6ce2f543b890cef185c4bc41f0",
                            "version_major": 2,
                            "version_minor": 0
                        },
                        "text/plain": [
                            "  0%|          | 0/3 [00:00<?, ?it/s]"
                        ]
                    },
                    "metadata": {},
                    "output_type": "display_data"
                },
                {
                    "data": {
                        "application/vnd.jupyter.widget-view+json": {
                            "model_id": "1c4405bb024342b29dc7826dd4a0e0d8",
                            "version_major": 2,
                            "version_minor": 0
                        },
                        "text/plain": [
                            "  0%|          | 0/4 [00:00<?, ?it/s]"
                        ]
                    },
                    "metadata": {},
                    "output_type": "display_data"
                },
                {
                    "data": {
                        "application/vnd.jupyter.widget-view+json": {
                            "model_id": "882ca811f946421f945af291cdf6ea42",
                            "version_major": 2,
                            "version_minor": 0
                        },
                        "text/plain": [
                            "  0%|          | 0/5 [00:00<?, ?it/s]"
                        ]
                    },
                    "metadata": {},
                    "output_type": "display_data"
                },
                {
                    "data": {
                        "application/vnd.jupyter.widget-view+json": {
                            "model_id": "8fbc1c4d19e341fa8ea2756342bf0e2c",
                            "version_major": 2,
                            "version_minor": 0
                        },
                        "text/plain": [
                            "  0%|          | 0/6 [00:00<?, ?it/s]"
                        ]
                    },
                    "metadata": {},
                    "output_type": "display_data"
                },
                {
                    "data": {
                        "application/vnd.jupyter.widget-view+json": {
                            "model_id": "0abe9ee9710b414d88062d8862c926a8",
                            "version_major": 2,
                            "version_minor": 0
                        },
                        "text/plain": [
                            "  0%|          | 0/7 [00:00<?, ?it/s]"
                        ]
                    },
                    "metadata": {},
                    "output_type": "display_data"
                },
                {
                    "data": {
                        "application/vnd.jupyter.widget-view+json": {
                            "model_id": "4086bbc55a2341c1ae3522a6384d925f",
                            "version_major": 2,
                            "version_minor": 0
                        },
                        "text/plain": [
                            "  0%|          | 0/8 [00:00<?, ?it/s]"
                        ]
                    },
                    "metadata": {},
                    "output_type": "display_data"
                },
                {
                    "data": {
                        "application/vnd.jupyter.widget-view+json": {
                            "model_id": "ee96eb66954c4a9b8272e856bba46317",
                            "version_major": 2,
                            "version_minor": 0
                        },
                        "text/plain": [
                            "  0%|          | 0/9 [00:00<?, ?it/s]"
                        ]
                    },
                    "metadata": {},
                    "output_type": "display_data"
                },
                {
                    "data": {
                        "image/png": "[encoded data removed]",
                        "text/plain": [
                            "<Figure size 432x288 with 1 Axes>"
                        ]
                    },
                    "metadata": {
                        "needs_background": "light"
                    },
                    "output_type": "display_data"
                }
            ],
            "source": [
                "from tqdm.notebook import tqdm\n",
                "\n",
                "from pbo.sample_collection.dataloader import SampleDataLoader\n",
                "from pbo.weights_collection.dataloader import WeightsDataLoader\n",
                "from pbo.networks.learnable_pbo import LinearPBO\n",
                "\n",
                "\n",
                "data_loader_samples = SampleDataLoader(replay_buffer, batch_size_samples, shuffle_key)\n",
                "data_loader_weights = WeightsDataLoader(weights_buffer, batch_size_weights, shuffle_key)\n",
                "pbo = LinearPBO(q, max_bellman_iterations, True, pbo_network_key, learning_rate)  # add_infinity == True\n",
                "importance_iteration = jnp.ones(max_bellman_iterations + 1)\n",
                "# importance_iteration = importance_iteration.at[-1].set(0)\n",
                "\n",
                "l2_losses = np.zeros((training_steps, training_steps + 1))\n",
                "\n",
                "for training_step in tqdm(range(training_steps)):\n",
                "    params_target = pbo.params\n",
                "    pbo.reset_optimizer()\n",
                "\n",
                "    for fitting_step in tqdm(range(training_step + 1), leave=False):\n",
                "        cumulative_l2_loss = 0\n",
                "\n",
                "        data_loader_weights.shuffle()\n",
                "        for batch_weights in data_loader_weights:\n",
                "            data_loader_samples.shuffle()\n",
                "            for batch_samples in data_loader_samples:\n",
                "                pbo.params, pbo.optimizer_state, l2_loss = pbo.learn_on_batch(\n",
                "                    pbo.params, params_target, pbo.optimizer_state, batch_weights, batch_samples, importance_iteration\n",
                "                )\n",
                "                cumulative_l2_loss += l2_loss\n",
                "        \n",
                "        l2_losses[training_step, fitting_step] = cumulative_l2_loss\n",
                "\n",
                "\n",
                "for training_step in range(0, training_steps):\n",
                "    plt.plot(l2_losses[training_step], label=f\"Training step {training_step + 1}\")\n",
                "\n",
                "plt.legend()\n",
                "plt.xlabel(\"fitting step\")\n",
                "plt.ylabel(r\"$\\sum_{k} \\left(\\Gamma^*Q_{\\Gamma_{\\phi_i}^k(w)} - Q_{\\Gamma_{\\phi_{i + 1}}^{k + 1}(w)} \\right)^2$\")\n",
                "plt.title(\"Training losses\")\n",
                "plt.show()"
            ]
        },
        {
            "cell_type": "code",
            "execution_count": 38,
            "metadata": {},
            "outputs": [
                {
                    "data": {
                        "text/plain": [
                            "array([[ 0.        ,  0.        ,  0.        ,  0.        ,  0.        ,\n",
                            "         0.        ,  0.        ,  0.        ,  0.        ,  0.        ],\n",
                            "       [ 3.18892193,  0.        ,  0.        ,  0.        ,  0.        ,\n",
                            "         0.        ,  0.        ,  0.        ,  0.        ,  0.        ],\n",
                            "       [16.14351845,  2.7064352 ,  0.        ,  0.        ,  0.        ,\n",
                            "         0.        ,  0.        ,  0.        ,  0.        ,  0.        ],\n",
                            "       [ 2.5636785 ,  2.41587758,  2.38887143,  0.        ,  0.        ,\n",
                            "         0.        ,  0.        ,  0.        ,  0.        ,  0.        ],\n",
                            "       [ 5.47698593,  2.69439244,  4.27882051,  5.21411991,  0.        ,\n",
                            "         0.        ,  0.        ,  0.        ,  0.        ,  0.        ],\n",
                            "       [ 3.27674365,  2.66794848,  2.5458777 ,  2.45292306,  2.42897868,\n",
                            "         0.        ,  0.        ,  0.        ,  0.        ,  0.        ],\n",
                            "       [ 2.73283219,  2.60177064,  2.45334053,  2.35612822,  2.33764839,\n",
                            "         2.29282403,  0.        ,  0.        ,  0.        ,  0.        ],\n",
                            "       [ 2.85088968,  2.56772423,  2.46210933,  2.37758589,  2.32222438,\n",
                            "         2.27112436,  2.23798561,  0.        ,  0.        ,  0.        ],\n",
                            "       [ 2.55280828,  2.5150187 ,  2.48208547,  2.4951098 ,  2.46938562,\n",
                            "         2.43837309,  2.40827227,  2.38397884,  0.        ,  0.        ],\n",
                            "       [ 4.61672735,  2.50763202,  2.57186866,  2.58079433,  2.57779384,\n",
                            "         2.57322979,  2.56757593,  2.5616076 ,  2.55552912,  0.        ]])"
                        ]
                    },
                    "execution_count": 38,
                    "metadata": {},
                    "output_type": "execute_result"
                }
            ],
            "source": [
                "l2_losses"
            ]
        },
        {
            "cell_type": "code",
            "execution_count": 39,
            "metadata": {},
            "outputs": [
                {
                    "name": "stderr",
                    "output_type": "stream",
                    "text": [
                        "/tmp/ipykernel_8609/1071063445.py:5: UserWarning: Attempting to set identical bottom == top == 0 results in singular transformations; automatically expanding.\n",
                        "  plt.ylim(0, max(l2_losses[0]))\n"
                    ]
                },
                {
                    "data": {
                        "image/png": "[encoded data removed]",
                        "text/plain": [
                            "<Figure size 432x288 with 1 Axes>"
                        ]
                    },
                    "metadata": {
                        "needs_background": "light"
                    },
                    "output_type": "display_data"
                }
            ],
            "source": [
                "for training_step in range(0, training_steps):\n",
                "    plt.plot(l2_losses[training_step], label=f\"Training step {training_step + 1}\")\n",
                "\n",
                "plt.legend()\n",
                "plt.ylim(0, max(l2_losses[0]))\n",
                "plt.xlabel(\"fitting step\")\n",
                "plt.ylabel(r\"$\\sum_{k} \\left(\\Gamma^*Q_{\\Gamma_{\\phi_i}^k(w)} - Q_{\\Gamma_{\\phi_{i + 1}}^{k + 1}(w)} \\right)^2$\")\n",
                "plt.title(\"Training losses\")\n",
                "plt.show()"
            ]
        },
        {
            "cell_type": "code",
            "execution_count": 58,
            "metadata": {},
            "outputs": [
                {
                    "name": "stdout",
                    "output_type": "stream",
                    "text": [
                        "[-0.5  0. ]\n",
                        "[-0.3225807]\n",
                        "[-0.51208484]\n",
                        "\n",
                        "[-0.5196691 -0.3866922]\n",
                        "[-0.08661258]\n",
                        "[-0.4829303]\n",
                        "\n",
                        "[-0.57458174 -0.69058496]\n",
                        "[0.13617855]\n",
                        "[-0.41740727]\n",
                        "\n",
                        "[-0.6524237  -0.83584255]\n",
                        "[0.30957687]\n",
                        "[-0.37386394]\n",
                        "\n",
                        "[-0.73584473 -0.8066418 ]\n",
                        "[0.40311736]\n",
                        "[-0.3848462]\n",
                        "\n",
                        "[-0.80970716 -0.6561602 ]\n",
                        "[0.38864774]\n",
                        "[-0.4331876]\n",
                        "\n",
                        "[-0.86512876 -0.44623235]\n",
                        "[0.2655896]\n",
                        "[-0.50151515]\n",
                        "\n",
                        "[-0.8982154  -0.21346611]\n",
                        "[0.06338322]\n",
                        "[-0.5799229]\n",
                        "\n",
                        "[-0.9076059  0.0260565]\n",
                        "[-0.17048126]\n",
                        "[-0.652246]\n",
                        "\n",
                        "[-0.8930263  0.2648832]\n",
                        "[-0.3865322]\n",
                        "[-0.69823956]\n",
                        "\n",
                        "[-0.8549221   0.49457222]\n",
                        "[-0.55749094]\n",
                        "[-0.7050581]\n",
                        "\n",
                        "[-0.7950392  0.6956501]\n",
                        "[-0.67465115]\n",
                        "[-0.67336106]\n",
                        "\n",
                        "[-0.6857938  1.4989254]\n",
                        "[-0.81392753]\n",
                        "[-0.56519854]\n",
                        "\n",
                        "[-0.49860302  2.1752536 ]\n",
                        "[-0.60165656]\n",
                        "[-0.48283255]\n",
                        "\n",
                        "[-0.27590668  2.1455553 ]\n",
                        "[-0.44525182]\n",
                        "[-0.4033481]\n",
                        "\n",
                        "[-0.08456759  1.660017  ]\n",
                        "[-0.4412378]\n",
                        "[-0.36836803]\n",
                        "\n",
                        "[0.05863285 1.2697309 ]\n",
                        "[-0.37997925]\n",
                        "[-0.31767285]\n",
                        "\n",
                        "[0.17655253 1.1034458 ]\n",
                        "[-0.26295412]\n",
                        "[-0.24543738]\n",
                        "\n",
                        "[0.28163967 1.0094086 ]\n",
                        "[-0.13771379]\n",
                        "[-0.15996146]\n",
                        "\n",
                        "[0.34894246 0.32713163]\n",
                        "[-0.16026491]\n",
                        "[0.03956592]\n",
                        "\n",
                        "[0.37930828 0.2857564 ]\n",
                        "[-0.1310789]\n",
                        "[0.08064485]\n",
                        "\n",
                        "[0.40716586 0.27662122]\n",
                        "[-0.09898627]\n",
                        "[0.11186355]\n",
                        "\n",
                        "[0.43567654 0.2988943 ]\n",
                        "[-0.05955064]\n",
                        "[0.13583332]\n",
                        "\n",
                        "[0.46804708 0.35431677]\n",
                        "[-0.00786591]\n",
                        "[0.15430027]\n",
                        "\n",
                        "[0.5077771  0.44690055]\n",
                        "[0.06065762]\n",
                        "[0.16825366]\n",
                        "\n",
                        "[0.55884165 0.58189905]\n",
                        "[0.14734393]\n",
                        "[0.17872554]\n",
                        "\n",
                        "[0.62572646 0.76387876]\n",
                        "[0.24468368]\n",
                        "[0.18864119]\n",
                        "\n",
                        "[0.67421854 0.20836177]\n",
                        "[0.19346017]\n",
                        "[0.36043847]\n",
                        "\n",
                        "[0.7067113 0.4444146]\n",
                        "[0.2748862]\n",
                        "[0.32262272]\n",
                        "\n",
                        "[0.76383907 0.7024384 ]\n",
                        "[0.3609459]\n",
                        "[0.29913312]\n",
                        "\n",
                        "[0.8085419 0.1934379]\n",
                        "[0.31400526]\n",
                        "[0.44498768]\n",
                        "\n",
                        "[0.8422988  0.48356566]\n",
                        "[0.394647]\n",
                        "[0.3920305]\n",
                        "\n",
                        "[ 0.8660229  -0.00825143]\n",
                        "[0.32417136]\n",
                        "[0.51905024]\n",
                        "\n",
                        "[0.8803506  0.29547516]\n",
                        "[0.38934973]\n",
                        "[0.45546305]\n",
                        "\n",
                        "[0.9253817 0.6070336]\n",
                        "[0.46470085]\n",
                        "[0.40584365]\n",
                        "\n",
                        "[0.96237665 0.13388748]\n",
                        "[0.41428623]\n",
                        "[0.5279343]\n",
                        "\n",
                        "[0.9920769  0.46108702]\n",
                        "[0.48672512]\n",
                        "[0.46531767]\n",
                        "\n"
                    ]
                },
                {
                    "data": {
                        "text/plain": [
                            "DeviceArray([ True], dtype=bool)"
                        ]
                    },
                    "execution_count": 58,
                    "metadata": {},
                    "output_type": "execute_result"
                }
            ],
            "source": [
                "q_weight = validation_initial_weight\n",
                "for _ in range(max_bellman_iterations):\n",
                "    q_weight = pbo(pbo.params, q_weight)\n",
                "q.params = q.to_params(q_weight)\n",
                "\n",
                "# q.params = q.to_params(pbo.fixed_point(pbo.params))\n",
                "\n",
                "\n",
                "env.simulate(q, horizon, jnp.array([-0.5, 0]))"
            ]
        },
        {
            "cell_type": "code",
            "execution_count": 14,
            "metadata": {},
            "outputs": [],
            "source": [
                "# training_losses = np.zeros(max_bellman_iterations_validation)\n",
                "# validation_losses = np.zeros(max_bellman_iterations_validation)\n",
                "# absording_probabilities = np.zeros((max_bellman_iterations_validation, horizon))\n",
                "\n",
                "# batch_iterated_weights = validation_initial_weight.reshape((1, -1))\n",
                "# for bellman_iteration in range(max_bellman_iterations_validation):\n",
                "#     q_i = q.discretize(batch_iterated_weights, states, actions)[0]\n",
                "#     batch_iterated_weights = pbo(pbo.params, batch_iterated_weights)\n",
                "#     q_i_plus_1 = q.discretize(batch_iterated_weights, states, actions)[0]\n",
                "#     policy_q = q_i_plus_1.argmax(axis=1)\n",
                "\n",
                "#     training_losses[bellman_iteration] = jnp.abs(env.apply_bellman_operator(q_i) - q_i_plus_1).mean()\n",
                "#     validation_losses[bellman_iteration] = jnp.abs(optimal_q - q_i_plus_1).mean()\n",
                "#     absording_probabilities[bellman_iteration] = env.absorbing_probability(policy_q, horizon)\n",
                "\n",
                "#     print(policy_q)"
            ]
        },
        {
            "cell_type": "markdown",
            "metadata": {},
            "source": [
                "## Visualize errors in Q functions"
            ]
        },
        {
            "cell_type": "code",
            "execution_count": 15,
            "metadata": {},
            "outputs": [
                {
                    "ename": "NameError",
                    "evalue": "name 'validation_losses' is not defined",
                    "output_type": "error",
                    "traceback": [
                        "\u001b[0;31m---------------------------------------------------------------------------\u001b[0m",
                        "\u001b[0;31mNameError\u001b[0m                                 Traceback (most recent call last)",
                        "\u001b[1;32m/home/vincent/Darmstadt/PBO/pbo_car_on_hill.ipynb Cell 26'\u001b[0m in \u001b[0;36m<cell line: 5>\u001b[0;34m()\u001b[0m\n\u001b[1;32m      <a href='vscode-notebook-cell:/home/vincent/Darmstadt/PBO/pbo_car_on_hill.ipynb#ch0000024?line=0'>1</a>\u001b[0m \u001b[39mimport\u001b[39;00m \u001b[39mmatplotlib\u001b[39;00m\u001b[39m.\u001b[39;00m\u001b[39mpyplot\u001b[39;00m \u001b[39mas\u001b[39;00m \u001b[39mplt\u001b[39;00m \n\u001b[1;32m      <a href='vscode-notebook-cell:/home/vincent/Darmstadt/PBO/pbo_car_on_hill.ipynb#ch0000024?line=2'>3</a>\u001b[0m iterations \u001b[39m=\u001b[39m \u001b[39mrange\u001b[39m(\u001b[39m1\u001b[39m, max_bellman_iterations_validation \u001b[39m+\u001b[39m \u001b[39m1\u001b[39m)\n\u001b[0;32m----> <a href='vscode-notebook-cell:/home/vincent/Darmstadt/PBO/pbo_car_on_hill.ipynb#ch0000024?line=4'>5</a>\u001b[0m plt\u001b[39m.\u001b[39mplot(iterations, validation_losses, label\u001b[39m=\u001b[39m\u001b[39m\"\u001b[39m\u001b[39mpbo linear\u001b[39m\u001b[39m\"\u001b[39m, color\u001b[39m=\u001b[39m\u001b[39m\"\u001b[39m\u001b[39mgreen\u001b[39m\u001b[39m\"\u001b[39m)\n\u001b[1;32m      <a href='vscode-notebook-cell:/home/vincent/Darmstadt/PBO/pbo_car_on_hill.ipynb#ch0000024?line=5'>6</a>\u001b[0m plt\u001b[39m.\u001b[39mplot(iterations, validation_losses_tabular, label\u001b[39m=\u001b[39m\u001b[39m\"\u001b[39m\u001b[39mpbo max-linear\u001b[39m\u001b[39m\"\u001b[39m, color\u001b[39m=\u001b[39m\u001b[39m\"\u001b[39m\u001b[39mgrey\u001b[39m\u001b[39m\"\u001b[39m, linestyle\u001b[39m=\u001b[39m\u001b[39m\"\u001b[39m\u001b[39m--\u001b[39m\u001b[39m\"\u001b[39m)\n\u001b[1;32m      <a href='vscode-notebook-cell:/home/vincent/Darmstadt/PBO/pbo_car_on_hill.ipynb#ch0000024?line=6'>7</a>\u001b[0m plt\u001b[39m.\u001b[39mplot(iterations, validation_losses_optimal, label\u001b[39m=\u001b[39m\u001b[39m\"\u001b[39m\u001b[39mpbo optimal\u001b[39m\u001b[39m\"\u001b[39m, color\u001b[39m=\u001b[39m\u001b[39m\"\u001b[39m\u001b[39mblack\u001b[39m\u001b[39m\"\u001b[39m)\n",
                        "\u001b[0;31mNameError\u001b[0m: name 'validation_losses' is not defined"
                    ]
                }
            ],
            "source": [
                "import matplotlib.pyplot as plt \n",
                "\n",
                "iterations = range(1, max_bellman_iterations_validation + 1)\n",
                "\n",
                "plt.plot(iterations, validation_losses, label=\"pbo linear\", color=\"green\")\n",
                "plt.plot(iterations, validation_losses_tabular, label=\"pbo max-linear\", color=\"grey\", linestyle=\"--\")\n",
                "plt.plot(iterations, validation_losses_optimal, label=\"pbo optimal\", color=\"black\")\n",
                "plt.plot(range(1, max_bellman_iterations + 1), validation_losses_q, label=\"FQI\", color=\"red\", linewidth=4)\n",
                "plt.vlines(max_bellman_iterations, 0, np.max(validation_losses_q), color=\"black\", linestyle=\"--\")\n",
                "\n",
                "plt.xticks(iterations)\n",
                "plt.xlabel(\"iterations\")\n",
                "\n",
                "plt.title(r\"$|| Q^* - Q_i ||_1$\")\n",
                "_ = plt.legend()"
            ]
        },
        {
            "cell_type": "code",
            "execution_count": null,
            "metadata": {},
            "outputs": [],
            "source": [
                "plt.plot(iterations, training_losses, label=\"pbo linear\", color=\"green\")\n",
                "plt.plot(iterations, training_losses_tabular, label=\"pbo max-linear\", color=\"grey\")\n",
                "plt.plot(iterations, training_losses_optimal, label=\"pbo optimal\", color=\"black\")\n",
                "plt.plot(range(1, max_bellman_iterations + 1), training_losses_q, label=\"FQI\", color=\"red\")\n",
                "plt.vlines(max_bellman_iterations, 0, np.maximum(np.max(training_losses_q), np.max(training_losses)), color=\"black\", linestyle=\"--\")\n",
                "\n",
                "plt.xticks(iterations)\n",
                "plt.xlabel(\"iterations\")\n",
                "\n",
                "plt.title(r\"$|| \\Gamma^*Q_{i-1} - Q_i ||_1$\")\n",
                "_ = plt.legend()"
            ]
        },
        {
            "cell_type": "markdown",
            "metadata": {},
            "source": [
                "## Understanding the learning process"
            ]
        },
        {
            "cell_type": "code",
            "execution_count": null,
            "metadata": {},
            "outputs": [],
            "source": [
                "empirical_transition_proba = np.zeros((n_states, n_states * n_actions))\n",
                "\n",
                "for idx_sample in range(len(replay_buffer.states)):\n",
                "    state = replay_buffer.states[idx_sample, 0]\n",
                "    action = replay_buffer.actions[idx_sample, 0]\n",
                "    next_state = replay_buffer.next_states[idx_sample, 0]\n",
                "\n",
                "    empirical_transition_proba[next_state, state * n_actions + action] += 1 \n",
                "\n",
                "empirical_transition_proba /= n_repetitions\n"
            ]
        },
        {
            "cell_type": "code",
            "execution_count": null,
            "metadata": {},
            "outputs": [],
            "source": [
                "np.linalg.norm(empirical_transition_proba - pbo_tabular.params[\"TabularPBONet/linear\"][\"w\"] / gamma)"
            ]
        },
        {
            "cell_type": "markdown",
            "metadata": {},
            "source": [
                "## Visualize errors in preformances"
            ]
        },
        {
            "cell_type": "code",
            "execution_count": null,
            "metadata": {},
            "outputs": [],
            "source": [
                "iteration = 5\n",
                "time = range(1, horizon + 1)\n",
                "\n",
                "\n",
                "plt.plot(time, absording_probabilities[iteration], label=\"pbo linear\", color=\"green\")\n",
                "plt.plot(time, absording_probabilities_tabular[iteration], label=\"pbo max-linear\", color=\"grey\", linestyle=\"--\")\n",
                "plt.plot(time, absording_probabilities_optimal[iteration], label=\"pbo optimal\", color=\"black\")\n",
                "plt.plot(time, absording_probabilities_q[min([iteration, max_bellman_iterations - 1])], label=\"FQI\", color=\"red\")\n",
                "\n",
                "plt.xticks(time)\n",
                "plt.xlabel(\"time\")\n",
                "\n",
                "plt.title(r\"$P^{\\pi}(s_i =$ absorbing state)\")\n",
                "_ = plt.legend()"
            ]
        },
        {
            "cell_type": "code",
            "execution_count": null,
            "metadata": {},
            "outputs": [],
            "source": [
                "iteration = 1\n",
                "\n",
                "\n",
                "plt.plot(iterations, absording_probabilities[:, -1], label=\"pbo linear\", color=\"green\")\n",
                "plt.plot(iterations, absording_probabilities_tabular[:, -1], label=\"pbo max-linear\", color=\"grey\", linestyle=\"--\")\n",
                "plt.plot(iterations, absording_probabilities_optimal[:, -1], label=\"pbo optimal\", color=\"black\")\n",
                "plt.plot(range(1, max_bellman_iterations + 1), absording_probabilities_q[:, -1], label=\"FQI\", color=\"red\")\n",
                "plt.vlines(max_bellman_iterations, 0, 1, color=\"black\", linestyle=\"--\")\n",
                "\n",
                "plt.xticks(iterations)\n",
                "plt.xlabel(\"iterations\")\n",
                "\n",
                "plt.title(r\"$P^{\\pi}(s_i =$ absorbing state)\" + f\" after {horizon} steps\")\n",
                "_ = plt.legend()"
            ]
        }
    ],
    "metadata": {
        "interpreter": {
            "hash": "1432d270abb514d077d760a4c8d2edd41cc0752b595b0513fca29951003961c1"
        },
        "kernelspec": {
            "display_name": "Python 3.8.10 ('env': venv)",
            "language": "python",
            "name": "python3"
        },
        "language_info": {
            "codemirror_mode": {
                "name": "ipython",
                "version": 3
            },
            "file_extension": ".py",
            "mimetype": "text/x-python",
            "name": "python",
            "nbconvert_exporter": "python",
            "pygments_lexer": "ipython3",
            "version": "3.8.10"
        },
        "orig_nbformat": 4
    },
    "nbformat": 4,
    "nbformat_minor": 2
}
