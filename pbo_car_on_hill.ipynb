{
    "cells": [
        {
            "cell_type": "markdown",
            "metadata": {},
            "source": [
                "# PBO learnt on several iterations and one weigth one the car on hill environment\n",
                "\n",
                "## Define parameters"
            ]
        },
        {
            "cell_type": "code",
            "execution_count": 1,
            "metadata": {},
            "outputs": [
                {
                    "name": "stderr",
                    "output_type": "stream",
                    "text": [
                        "WARNING:absl:No GPU/TPU found, falling back to CPU. (Set TF_CPP_MIN_LOG_LEVEL=0 and rerun for more info.)\n"
                    ]
                }
            ],
            "source": [
                "%load_ext autoreload\n",
                "%autoreload 2\n",
                "\n",
                "import numpy as np\n",
                "import jax\n",
                "import jax.numpy as jnp\n",
                "\n",
                "# keys\n",
                "seed = 0\n",
                "key = jax.random.PRNGKey(seed)\n",
                "shuffle_key, q_network_key, random_weights_key, pbo_network_key = jax.random.split(key, 4)\n",
                "\n",
                "# Sample collection\n",
                "n_states_x = 20\n",
                "n_states_v = 20\n",
                "n_actions = 2\n",
                "n_samples = n_states_x * n_states_v * n_actions\n",
                "gamma = 0.9\n",
                "\n",
                "# # Weights collection\n",
                "# n_weights = 500\n",
                "\n",
                "# # Trainings\n",
                "layers_dimension = (20, 20)\n",
                "max_bellman_iterations = 10\n",
                "batch_size_samples = n_samples\n",
                "\n",
                "# ## Linear PBO\n",
                "fitting_steps = 8\n",
                "training_steps = 100\n",
                "# batch_size_weights = n_weights\n",
                "# learning_rate = {\"first\": 0.01, \"last\": 0.001, \"duration\": training_steps * fitting_steps * n_samples // batch_size_samples}\n",
                "\n",
                "# ## Q-learning\n",
                "fitting_steps_q = fitting_steps * training_steps\n",
                "learning_rate_q = {\"first\": 0.01, \"last\": 0.0005, \"duration\": fitting_steps_q * n_samples // batch_size_samples}\n",
                "\n",
                "# # Visualisation of errors and performances\n",
                "# max_bellman_iterations_validation = max_bellman_iterations + 20\n",
                "# horizon = 10"
            ]
        },
        {
            "cell_type": "markdown",
            "metadata": {},
            "source": [
                "## Define environment"
            ]
        },
        {
            "cell_type": "code",
            "execution_count": 2,
            "metadata": {},
            "outputs": [],
            "source": [
                "from pbo.environment.car_on_hill import CarOnHillEnv\n",
                "\n",
                "max_pos = 1.0\n",
                "max_velocity = 3.0\n",
                "\n",
                "states_x = jnp.linspace(-max_pos, max_pos, n_states_x)\n",
                "boxes_x_size = (2 * max_pos) / (n_states_x - 1)\n",
                "states_x_boxes = (np.linspace(-max_pos, max_pos + boxes_x_size, n_states_x + 1) - boxes_x_size / 2)\n",
                "states_v = jnp.linspace(-max_velocity, max_velocity, n_states_v)\n",
                "boxes_v_size = (2 * max_velocity) / (n_states_v - 1)\n",
                "states_v_boxes = (np.linspace(-max_velocity, max_velocity + boxes_v_size, n_states_v + 1) - boxes_v_size / 2)\n",
                "\n",
                "\n",
                "env = CarOnHillEnv(max_pos, max_velocity, gamma)"
            ]
        },
        {
            "cell_type": "markdown",
            "metadata": {},
            "source": [
                "## Collect samples"
            ]
        },
        {
            "cell_type": "markdown",
            "metadata": {},
            "source": [
                "### Samples on the mesh"
            ]
        },
        {
            "cell_type": "code",
            "execution_count": 3,
            "metadata": {},
            "outputs": [],
            "source": [
                "from pbo.sample_collection.replay_buffer import ReplayBuffer\n",
                "\n",
                "\n",
                "replay_buffer = ReplayBuffer()\n",
                "\n",
                "n_samples = n_states_x * n_states_v * n_actions\n",
                "\n",
                "for state_x in states_x:\n",
                "    for state_v in states_v:\n",
                "        state = jnp.array([state_x, state_v])\n",
                "        \n",
                "        for action in jnp.arange(n_actions):\n",
                "            env.reset(state)\n",
                "            next_state, reward, _, _ = env.step(jnp.array([action]))\n",
                "\n",
                "            replay_buffer.add(state, jnp.array([action]), reward, next_state)\n",
                "\n",
                "replay_buffer.cast_to_jax_array()"
            ]
        },
        {
            "cell_type": "markdown",
            "metadata": {},
            "source": [
                "### Visualize samples"
            ]
        },
        {
            "cell_type": "code",
            "execution_count": 4,
            "metadata": {},
            "outputs": [
                {
                    "data": {
                        "image/png": "[encoded data removed]",
                        "text/plain": [
                            "<Figure size 432x288 with 2 Axes>"
                        ]
                    },
                    "metadata": {
                        "needs_background": "light"
                    },
                    "output_type": "display_data"
                }
            ],
            "source": [
                "from pbo.sample_collection.count_samples import count_samples\n",
                "from pbo.utils.two_dimesions_mesh import TwoDimesionsMesh\n",
                "\n",
                "\n",
                "samples_count, n_outside_boxes = count_samples(replay_buffer.states[:, 0], replay_buffer.states[:, 1], states_x_boxes, states_v_boxes)\n",
                "samples_visu_mesh = TwoDimesionsMesh(states_x, states_v, sleeping_time=0)\n",
                "\n",
                "samples_visu_mesh.set_values(samples_count, zeros_to_nan=True)\n",
                "samples_visu_mesh.show(\n",
                "    f\"Samples repartition, \\n{int(100 * n_outside_boxes / n_samples)}% are outside the box.\", xlabel=\"x\", ylabel=\"v\"\n",
                ")"
            ]
        },
        {
            "cell_type": "markdown",
            "metadata": {},
            "source": [
                "## Optimal Q function"
            ]
        },
        {
            "cell_type": "code",
            "execution_count": 5,
            "metadata": {},
            "outputs": [],
            "source": [
                "# optimal_v = env.optimal_v_mesh(states_x, states_v, max_steps=10)\n",
                "\n",
                "# q_visu_mesh = TwoDimesionsMesh(states_x, states_v, sleeping_time=0)\n",
                "\n",
                "# q_visu_mesh.set_values(optimal_v)\n",
                "# q_visu_mesh.show(\"Optimal v function\", xlabel=\"x\", ylabel=\"v\")"
            ]
        },
        {
            "cell_type": "markdown",
            "metadata": {},
            "source": [
                "## Train Q with Fitted-Q"
            ]
        },
        {
            "cell_type": "code",
            "execution_count": 6,
            "metadata": {},
            "outputs": [
                {
                    "data": {
                        "application/vnd.jupyter.widget-view+json": {
                            "model_id": "21f3689d58304a8f8b49354e2760289c",
                            "version_major": 2,
                            "version_minor": 0
                        },
                        "text/plain": [
                            "  0%|          | 0/10 [00:00<?, ?it/s]"
                        ]
                    },
                    "metadata": {},
                    "output_type": "display_data"
                },
                {
                    "data": {
                        "application/vnd.jupyter.widget-view+json": {
                            "model_id": "aad6684e71f2406bb3d70772605898b0",
                            "version_major": 2,
                            "version_minor": 0
                        },
                        "text/plain": [
                            "  0%|          | 0/800 [00:00<?, ?it/s]"
                        ]
                    },
                    "metadata": {},
                    "output_type": "display_data"
                },
                {
                    "data": {
                        "application/vnd.jupyter.widget-view+json": {
                            "model_id": "2f3e800df50e4e2a88e08bb7ed1aa93e",
                            "version_major": 2,
                            "version_minor": 0
                        },
                        "text/plain": [
                            "  0%|          | 0/800 [00:00<?, ?it/s]"
                        ]
                    },
                    "metadata": {},
                    "output_type": "display_data"
                },
                {
                    "data": {
                        "application/vnd.jupyter.widget-view+json": {
                            "model_id": "c09209fdd67c44e3ac3ec1dda0f506c9",
                            "version_major": 2,
                            "version_minor": 0
                        },
                        "text/plain": [
                            "  0%|          | 0/800 [00:00<?, ?it/s]"
                        ]
                    },
                    "metadata": {},
                    "output_type": "display_data"
                },
                {
                    "data": {
                        "application/vnd.jupyter.widget-view+json": {
                            "model_id": "9acb0d7c11ec49aaab89d23d08a41891",
                            "version_major": 2,
                            "version_minor": 0
                        },
                        "text/plain": [
                            "  0%|          | 0/800 [00:00<?, ?it/s]"
                        ]
                    },
                    "metadata": {},
                    "output_type": "display_data"
                },
                {
                    "data": {
                        "application/vnd.jupyter.widget-view+json": {
                            "model_id": "fa3d3a5d99864888a6e21ba57ce2e6ac",
                            "version_major": 2,
                            "version_minor": 0
                        },
                        "text/plain": [
                            "  0%|          | 0/800 [00:00<?, ?it/s]"
                        ]
                    },
                    "metadata": {},
                    "output_type": "display_data"
                },
                {
                    "data": {
                        "application/vnd.jupyter.widget-view+json": {
                            "model_id": "a0e2be1d20964006b785a3fb5b74aa1a",
                            "version_major": 2,
                            "version_minor": 0
                        },
                        "text/plain": [
                            "  0%|          | 0/800 [00:00<?, ?it/s]"
                        ]
                    },
                    "metadata": {},
                    "output_type": "display_data"
                },
                {
                    "data": {
                        "application/vnd.jupyter.widget-view+json": {
                            "model_id": "19928d365cb84d1bb647c17e07f0e22a",
                            "version_major": 2,
                            "version_minor": 0
                        },
                        "text/plain": [
                            "  0%|          | 0/800 [00:00<?, ?it/s]"
                        ]
                    },
                    "metadata": {},
                    "output_type": "display_data"
                },
                {
                    "data": {
                        "application/vnd.jupyter.widget-view+json": {
                            "model_id": "19e6995c15024cc0ac79891bf0be9c82",
                            "version_major": 2,
                            "version_minor": 0
                        },
                        "text/plain": [
                            "  0%|          | 0/800 [00:00<?, ?it/s]"
                        ]
                    },
                    "metadata": {},
                    "output_type": "display_data"
                },
                {
                    "data": {
                        "application/vnd.jupyter.widget-view+json": {
                            "model_id": "079eecdc6e6c4c68900e80c0eee18f4a",
                            "version_major": 2,
                            "version_minor": 0
                        },
                        "text/plain": [
                            "  0%|          | 0/800 [00:00<?, ?it/s]"
                        ]
                    },
                    "metadata": {},
                    "output_type": "display_data"
                },
                {
                    "data": {
                        "application/vnd.jupyter.widget-view+json": {
                            "model_id": "914baf5446864ff9a98406c75ebd5930",
                            "version_major": 2,
                            "version_minor": 0
                        },
                        "text/plain": [
                            "  0%|          | 0/800 [00:00<?, ?it/s]"
                        ]
                    },
                    "metadata": {},
                    "output_type": "display_data"
                },
                {
                    "data": {
                        "image/png": "[encoded data removed]",
                        "text/plain": [
                            "<Figure size 432x288 with 1 Axes>"
                        ]
                    },
                    "metadata": {
                        "needs_background": "light"
                    },
                    "output_type": "display_data"
                }
            ],
            "source": [
                "import matplotlib.pyplot as plt \n",
                "from tqdm.notebook import tqdm\n",
                "\n",
                "from pbo.sample_collection.dataloader import SampleDataLoader\n",
                "from pbo.networks.learnable_q import FullyConnectedQ\n",
                "\n",
                "\n",
                "data_loader_samples = SampleDataLoader(replay_buffer, batch_size_samples, shuffle_key)\n",
                "q = FullyConnectedQ(\n",
                "    state_dim=2,\n",
                "    action_dim=1,\n",
                "    continuous_actions=False,\n",
                "    n_actions_on_max=n_actions,\n",
                "    action_range_on_max=None,\n",
                "    gamma=gamma,\n",
                "    network_key=q_network_key,\n",
                "    random_weights_range=None,\n",
                "    random_weights_key=random_weights_key,\n",
                "    learning_rate=learning_rate_q,\n",
                "    layers_dimension=layers_dimension,\n",
                "    zero_initializer=True,\n",
                ")\n",
                "validation_initial_weight = q.to_weights(q.params)\n",
                "\n",
                "l2_losses = np.zeros((max_bellman_iterations, fitting_steps_q))\n",
                "\n",
                "for bellman_iteration in tqdm(range(max_bellman_iterations)):\n",
                "    params_target = q.params\n",
                "    q.reset_optimizer()\n",
                "\n",
                "    for step in tqdm(range(fitting_steps_q), leave=False):\n",
                "        cumulative_l2_loss = 0\n",
                "        \n",
                "        data_loader_samples.shuffle()\n",
                "        for batch_samples in data_loader_samples:\n",
                "            q.params, q.optimizer_state, l2_loss = q.learn_on_batch(q.params, params_target, q.optimizer_state, batch_samples)\n",
                "            cumulative_l2_loss += l2_loss\n",
                "\n",
                "        l2_losses[bellman_iteration, step] = cumulative_l2_loss\n",
                "\n",
                "\n",
                "\n",
                "for bellman_iteration in range(max_bellman_iterations):\n",
                "    plt.plot(l2_losses[bellman_iteration], label=f\"Iteration {bellman_iteration + 1}\")\n",
                "\n",
                "plt.legend()\n",
                "plt.xlabel(\"fitting step\")\n",
                "plt.ylabel(r\"$(\\Gamma^*Q_i - Q_{i +  1})^2$\")\n",
                "plt.title(\"Training losses\")\n",
                "plt.show()"
            ]
        },
        {
            "cell_type": "code",
            "execution_count": 7,
            "metadata": {},
            "outputs": [
                {
                    "data": {
                        "text/plain": [
                            "{'FullyConnectedNet/linear_1': {'b': DeviceArray([ 1.3971016 ,  1.1539813 ,  1.5840217 , -1.0679629 ,\n",
                            "               -1.465124  ,  0.07541741,  0.77470636,  2.2564056 ,\n",
                            "               -0.8290226 , -0.04282959, -0.29242182,  1.162372  ,\n",
                            "                0.5772206 , -1.3916606 , -1.2500947 , -0.2285249 ,\n",
                            "                0.48767728, -0.6001903 ,  1.1308362 , -1.1601233 ],            dtype=float32),\n",
                            "  'w': DeviceArray([[ 1.3654505 ,  0.11776257,  0.7901506 ,  1.2507362 ,\n",
                            "                 0.7676051 , -1.7739033 , -2.214622  , -3.3058035 ,\n",
                            "                 0.9408997 , -0.65916586, -0.57619256,  0.23800902,\n",
                            "                 1.6228905 ,  1.3566806 , -2.1153908 , -0.9732251 ,\n",
                            "                -0.01780795,  1.0818092 ,  0.6498985 , -2.9762008 ],\n",
                            "               [ 0.996759  ,  0.615903  ,  0.7240202 ,  1.0158168 ,\n",
                            "                 0.9021353 ,  0.08263005, -1.1678977 ,  1.279449  ,\n",
                            "                 0.83709246,  0.06610074,  1.0534371 , -0.8243971 ,\n",
                            "                -0.24844763, -0.20305821, -1.0833633 ,  0.7340373 ,\n",
                            "                 0.29255792,  0.2622058 ,  0.43303743, -0.14452124],\n",
                            "               [ 2.105544  ,  0.783057  ,  0.2954062 , -0.08307353,\n",
                            "                 1.2414038 , -0.15225875, -0.18947929,  0.7942213 ,\n",
                            "                -1.8272538 ,  2.3881805 , -1.8778332 ,  0.37042287,\n",
                            "                -0.03778072, -4.1541457 , -1.1060653 ,  0.39459965,\n",
                            "                -2.6066604 , -0.01862985, -0.02747936,  0.15126534]],            dtype=float32)},\n",
                            " 'FullyConnectedNet/linear_2': {'b': DeviceArray([ 0.21031784,  0.2117573 , -0.4260062 , -0.35804063,\n",
                            "               -0.14425278, -0.7216112 , -0.58143353, -0.01612417,\n",
                            "                0.46991488,  0.5619295 , -0.12521476, -0.37296066,\n",
                            "                0.5164532 , -0.09729662,  0.42397794,  0.10237422,\n",
                            "               -0.01911322,  0.05966133,  0.04148777,  0.23227537],            dtype=float32),\n",
                            "  'w': DeviceArray([[-7.05902457e-01,  4.36862856e-01, -4.64081824e-01,\n",
                            "                -3.32092494e-02,  2.26350501e-01, -4.36448395e-01,\n",
                            "                -7.67355978e-01, -3.45087260e-01,  4.99846339e-01,\n",
                            "                 5.31767786e-01,  2.65174955e-01, -3.03004801e-01,\n",
                            "                 9.27144662e-02, -7.68202364e-01,  1.95789963e-01,\n",
                            "                 1.77204177e-01,  2.03938410e-02,  7.58334845e-02,\n",
                            "                 4.46742773e-01,  7.68610060e-01],\n",
                            "               [-5.74828267e-01,  1.41133773e+00,  2.08016366e-01,\n",
                            "                -1.10194004e+00,  4.95561808e-01,  6.32609576e-02,\n",
                            "                -9.48019266e-01,  2.13610768e-01, -1.71918496e-01,\n",
                            "                -5.77719808e-02, -3.47850978e-01,  4.55741167e-01,\n",
                            "                -5.71309030e-01, -1.71276122e-01, -1.23462453e-01,\n",
                            "                -1.95695013e-01,  2.54614919e-01,  5.41226327e-01,\n",
                            "                 5.50113976e-01,  8.96362662e-01],\n",
                            "               [-1.19738007e+00,  1.62290430e+00, -7.67949522e-02,\n",
                            "                -4.92704272e-01,  2.67946143e-02, -1.47387743e+00,\n",
                            "                -1.52678347e+00,  1.93941951e-01,  2.11823851e-01,\n",
                            "                 2.09103033e-01, -9.98184562e-01, -5.27930446e-03,\n",
                            "                -7.86533058e-01, -2.72304416e-01,  5.35797060e-01,\n",
                            "                 5.53618848e-01, -6.86565280e-01,  8.26943159e-01,\n",
                            "                 2.54900396e-01,  6.36242867e-01],\n",
                            "               [ 6.44891858e-01, -5.40274009e-02,  6.29966080e-01,\n",
                            "                 8.11870217e-01, -5.61858475e-01,  1.03612375e+00,\n",
                            "                 1.25551677e+00,  1.34628594e+00, -1.67237496e+00,\n",
                            "                 6.07486032e-02,  5.70098758e-02,  1.00920701e+00,\n",
                            "                 7.74318039e-01,  4.17885751e-01,  2.33623147e+00,\n",
                            "                 6.93590492e-02,  7.71872625e-02, -7.55658820e-02,\n",
                            "                -8.87632728e-01, -1.40787646e-01],\n",
                            "               [ 1.00546934e-01,  2.24106222e-01,  6.49129510e-01,\n",
                            "                -1.95759669e-01, -7.07040280e-02,  2.33644342e+00,\n",
                            "                -1.64825785e+00,  9.86986458e-01, -1.64202583e+00,\n",
                            "                -2.65966922e-01, -1.42226681e-01,  7.86324501e-01,\n",
                            "                 4.11504328e-01,  3.80769581e-01, -5.93014807e-02,\n",
                            "                -7.79500082e-02, -1.18210602e+00, -6.11813441e-02,\n",
                            "                -1.27748895e+00, -2.58410156e-01],\n",
                            "               [ 1.26808715e+00, -1.25051725e+00, -1.04693675e+00,\n",
                            "                -1.98490405e+00, -4.49933976e-01, -2.78805828e+00,\n",
                            "                -4.03804731e+00, -9.97146904e-01,  1.86219001e+00,\n",
                            "                 1.76279008e+00,  2.41103694e-01, -6.34271264e-01,\n",
                            "                 1.16770566e+00,  3.44561011e-01, -1.00498271e+00,\n",
                            "                -1.14928246e+00,  1.00693136e-01,  2.95860201e-01,\n",
                            "                 1.27570641e+00, -1.50375620e-01],\n",
                            "               [-8.49383771e-01, -1.27285779e-01,  3.13217163e-01,\n",
                            "                -1.01428938e+00,  1.05382967e+00,  1.33116949e+00,\n",
                            "                -9.32982564e-02, -2.94528306e-01,  3.07654232e-01,\n",
                            "                 5.63551784e-01,  3.21651995e-01, -1.50242314e-01,\n",
                            "                 9.44169044e-01,  4.14302468e-01, -3.92233789e-01,\n",
                            "                 1.10690331e+00,  4.54381198e-01,  4.62831914e-01,\n",
                            "                -8.06693554e-01,  3.77111048e-01],\n",
                            "               [ 3.26643080e-01,  1.06450009e+00, -9.49260116e-01,\n",
                            "                -1.48562714e-01,  1.78204373e-01, -1.83858621e+00,\n",
                            "                -3.92804235e-01, -4.81929481e-02,  4.78582941e-02,\n",
                            "                 1.60647321e+00, -8.74441206e-01, -5.93720019e-01,\n",
                            "                 1.32732347e-01,  1.36438727e+00, -1.19007814e+00,\n",
                            "                -1.34121490e+00, -6.23446286e-01,  1.32864669e-01,\n",
                            "                 2.08061910e+00,  5.35221159e-01],\n",
                            "               [ 6.17413938e-01, -1.21260631e+00, -9.45201963e-02,\n",
                            "                -3.55406433e-01,  1.77752420e-01,  9.52034533e-01,\n",
                            "                 3.25687218e+00,  2.25331873e-01, -3.26723665e-01,\n",
                            "                -1.13552713e+00,  7.97057271e-01,  4.27604228e-01,\n",
                            "                 1.27512133e-02, -8.08067620e-01,  1.10723281e+00,\n",
                            "                -3.32986921e-01,  3.82713318e-01, -1.03347278e+00,\n",
                            "                -6.04722142e-01, -4.86815542e-01],\n",
                            "               [ 6.51244581e-01, -5.68435848e-01, -3.76786917e-01,\n",
                            "                -3.29801321e-01, -1.57618836e-01,  5.13364375e-01,\n",
                            "                -1.48690641e+00, -1.98439658e-01, -3.35119665e-01,\n",
                            "                -3.34833339e-02,  2.50566334e-01,  8.91082883e-02,\n",
                            "                 4.86942500e-01, -1.56197891e-01, -1.36043608e+00,\n",
                            "                -4.40155506e-01,  4.11919266e-01, -7.76692986e-01,\n",
                            "                 2.89341360e-01,  9.14438143e-02],\n",
                            "               [ 3.41492534e-01, -4.10861045e-01,  1.89374641e-01,\n",
                            "                 4.45940286e-01,  1.15694158e-01,  6.02716386e-01,\n",
                            "                 2.60826898e+00,  4.31453675e-01, -3.64095271e-01,\n",
                            "                 3.49898130e-01,  5.98680556e-01,  3.99779171e-01,\n",
                            "                -8.24811757e-02, -1.61588609e-01, -1.01566337e-01,\n",
                            "                -1.30641204e-03, -1.94784075e-01, -5.98208606e-01,\n",
                            "                -4.58042473e-01,  6.57634214e-02],\n",
                            "               [-8.77993032e-02, -2.56171048e-01, -5.61929822e-01,\n",
                            "                 9.14300621e-01, -3.11703742e-01, -2.27790311e-01,\n",
                            "                -1.44234562e+00, -1.08302343e+00,  7.30061591e-01,\n",
                            "                 1.17199290e+00, -1.93130881e-01, -4.11580980e-01,\n",
                            "                -5.38049161e-01, -2.87340462e-01, -3.25840235e-01,\n",
                            "                 1.26486135e+00,  3.73276561e-01, -2.59297609e-01,\n",
                            "                -2.10574657e-01, -1.92147925e-01],\n",
                            "               [-1.87315965e+00,  3.90112901e+00,  1.27983289e-02,\n",
                            "                 6.26684844e-01,  3.91170859e-01,  8.60698342e-01,\n",
                            "                 1.76811123e+00,  1.22558141e+00, -1.64145422e+00,\n",
                            "                -3.69490981e-01,  8.87607411e-02,  2.67082363e-01,\n",
                            "                -3.34275156e-01, -3.85121591e-02, -2.18047008e-01,\n",
                            "                -2.32782826e-01,  5.87724566e-01,  3.10678095e-01,\n",
                            "                -6.49015963e-01, -6.31814182e-01],\n",
                            "               [ 3.63720804e-01, -5.82010090e-01,  2.59307206e-01,\n",
                            "                 1.00714028e+00, -1.03731923e-01,  1.28015983e+00,\n",
                            "                 1.59641349e+00, -2.88260400e-01,  7.60432929e-02,\n",
                            "                -2.56714404e-01,  8.05067003e-01, -9.20513943e-02,\n",
                            "                -1.84332475e-01, -3.55215520e-01, -2.37610787e-02,\n",
                            "                -1.39005303e-01,  3.72302860e-01, -2.24256024e-01,\n",
                            "                -8.48237336e-01, -1.00293612e+00],\n",
                            "               [ 8.36362064e-01, -6.86352253e-01,  1.27873033e-01,\n",
                            "                 3.44324335e-02,  3.24367210e-02,  1.07215023e+00,\n",
                            "                 8.55425656e-01,  3.61770093e-01, -1.88549310e-01,\n",
                            "                 2.73493621e-02,  8.96539867e-01,  4.34004039e-01,\n",
                            "                 9.48288679e-01,  2.64194787e-01, -9.07117009e-01,\n",
                            "                -7.75185049e-01,  8.62200081e-01, -5.65768838e-01,\n",
                            "                -6.72193244e-02, -4.76599514e-01],\n",
                            "               [ 1.21635854e-01, -1.28339112e+00, -1.81237206e-01,\n",
                            "                 3.08132470e-01, -5.71600378e-01, -7.46243060e-01,\n",
                            "                -3.39100420e-01, -5.01268208e-01, -1.19026475e-01,\n",
                            "                 5.30057788e-01,  1.72047392e-01, -5.12115695e-02,\n",
                            "                 7.92049766e-02, -6.13674104e-01, -1.02914166e+00,\n",
                            "                 1.16857374e+00,  4.64583747e-02, -4.30220068e-01,\n",
                            "                 9.76017237e-01, -4.69206721e-02],\n",
                            "               [-9.07117069e-01,  7.55539775e-01,  7.98064351e-01,\n",
                            "                -5.07292747e-01,  1.88137785e-01, -7.68733919e-01,\n",
                            "                -1.14903010e-01, -7.07763314e-01,  5.61952770e-01,\n",
                            "                 7.43596733e-01, -4.94967878e-01, -6.07289970e-01,\n",
                            "                -5.19820929e-01, -6.93681300e-01,  1.79999459e+00,\n",
                            "                 5.96791744e-01, -2.09944367e-01,  5.79698145e-01,\n",
                            "                 6.08373344e-01,  3.64504576e-01],\n",
                            "               [ 3.94728005e-01,  4.27860260e-01,  2.28019261e+00,\n",
                            "                 3.74282539e-01, -3.67431819e-01,  1.69444144e+00,\n",
                            "                 1.29752171e+00,  1.30702317e+00, -4.46042871e+00,\n",
                            "                -1.15467751e+00, -2.64721662e-01,  2.14078379e+00,\n",
                            "                -1.12913072e+00,  3.84025961e-01,  3.09036160e+00,\n",
                            "                 8.82131219e-01, -2.66906261e-01, -2.38567702e-02,\n",
                            "                -7.64372528e-01,  3.24860394e-01],\n",
                            "               [-4.34597075e-01,  1.60280621e+00, -2.98327655e-01,\n",
                            "                 4.36090022e-01, -9.22610387e-02,  2.74490654e-01,\n",
                            "                -2.26224706e-01,  1.90442473e-01, -1.11929856e-01,\n",
                            "                 2.21831277e-01, -6.01103187e-01,  3.27114314e-02,\n",
                            "                -5.25163293e-01, -1.02269039e-01,  3.81308384e-02,\n",
                            "                 1.57380909e-01, -4.14105117e-01,  4.56000239e-01,\n",
                            "                 7.44060576e-01,  1.61298290e-02],\n",
                            "               [-1.25127482e+00,  1.48690987e+00,  7.76804924e-01,\n",
                            "                -2.59680778e-01,  5.58334649e-01, -2.69817233e-01,\n",
                            "                -1.19207072e+00,  1.78336847e+00, -8.40598762e-01,\n",
                            "                 1.61654305e+00, -2.13354945e+00,  1.16799235e+00,\n",
                            "                 8.28149915e-01,  2.19171929e+00,  9.99136508e-01,\n",
                            "                -4.39073503e-01, -4.21535969e-01,  1.24755096e+00,\n",
                            "                -3.41562539e-01,  3.44987959e-02]], dtype=float32)},\n",
                            " 'FullyConnectedNet/linear_last': {'b': DeviceArray([0.0658832], dtype=float32),\n",
                            "  'w': DeviceArray([[-1.1838753 ],\n",
                            "               [ 1.6047791 ],\n",
                            "               [ 0.83232176],\n",
                            "               [-0.7816993 ],\n",
                            "               [ 0.38298097],\n",
                            "               [ 1.560962  ],\n",
                            "               [-1.0026277 ],\n",
                            "               [ 1.3415048 ],\n",
                            "               [-2.356723  ],\n",
                            "               [-0.5238608 ],\n",
                            "               [-1.5656899 ],\n",
                            "               [ 1.232025  ],\n",
                            "               [-1.0074222 ],\n",
                            "               [ 0.69750565],\n",
                            "               [ 0.32215044],\n",
                            "               [-0.6794974 ],\n",
                            "               [-0.4885389 ],\n",
                            "               [ 1.5735579 ],\n",
                            "               [-0.3312708 ],\n",
                            "               [ 0.8100519 ]], dtype=float32)}}"
                        ]
                    },
                    "execution_count": 7,
                    "metadata": {},
                    "output_type": "execute_result"
                }
            ],
            "source": [
                "q.params"
            ]
        },
        {
            "cell_type": "code",
            "execution_count": 13,
            "metadata": {},
            "outputs": [
                {
                    "name": "stdout",
                    "output_type": "stream",
                    "text": [
                        "[-0.5  0. ]\n",
                        "[0.10676977]\n",
                        "[0.10855681]\n",
                        "\n",
                        "[-0.4803309  0.3866922]\n",
                        "[0.2108224]\n",
                        "[0.15949462]\n",
                        "\n",
                        "[-0.4644432  -0.07360946]\n",
                        "[0.12808254]\n",
                        "[0.10558365]\n",
                        "\n",
                        "[-0.49462128 -0.52065015]\n",
                        "[0.15226915]\n",
                        "[0.0934889]\n",
                        "\n",
                        "[-0.56500036 -0.8598361 ]\n",
                        "[0.30119386]\n",
                        "[0.25317088]\n",
                        "\n",
                        "[-0.6596816  -0.99540234]\n",
                        "[0.27887973]\n",
                        "[0.30046403]\n",
                        "\n",
                        "[-0.72371167 -0.28574812]\n",
                        "[0.20725289]\n",
                        "[0.16743886]\n",
                        "\n",
                        "[-0.7496779  -0.22731304]\n",
                        "[0.1950092]\n",
                        "[0.16750517]\n",
                        "\n",
                        "[-0.7681563  -0.13834417]\n",
                        "[0.1761198]\n",
                        "[0.16742578]\n",
                        "\n",
                        "[-0.7767922  -0.03270167]\n",
                        "[0.15884355]\n",
                        "[0.1713253]\n",
                        "\n",
                        "[-0.74374664  0.69815487]\n",
                        "[0.15328619]\n",
                        "[0.26338428]\n",
                        "\n",
                        "[-0.63610834  1.4526507 ]\n",
                        "[0.16341847]\n",
                        "[0.577462]\n",
                        "\n",
                        "[-0.45970848  1.995874  ]\n",
                        "[0.23818046]\n",
                        "[0.15434934]\n",
                        "\n",
                        "[-0.29430467  1.2706723 ]\n",
                        "[0.324272]\n",
                        "[0.27311507]\n",
                        "\n",
                        "[-0.20659263  0.4933903 ]\n",
                        "[0.3854015]\n",
                        "[0.37636328]\n",
                        "\n",
                        "[-0.19402578 -0.2396531 ]\n",
                        "[0.23955825]\n",
                        "[0.3827124]\n",
                        "\n",
                        "[-0.22509116 -0.3763616 ]\n",
                        "[0.26775724]\n",
                        "[0.34560272]\n",
                        "\n",
                        "[-0.26784736 -0.4693512 ]\n",
                        "[0.30358472]\n",
                        "[0.27612385]\n",
                        "\n",
                        "[-0.3511074 -1.1956398]\n",
                        "[0.25421324]\n",
                        "[0.22725889]\n",
                        "\n",
                        "[-0.5031018 -1.790788 ]\n",
                        "[0.02512306]\n",
                        "[0.29654968]\n",
                        "\n",
                        "[-0.6542993 -1.1821387]\n",
                        "[0.23097655]\n",
                        "[0.30759284]\n",
                        "\n",
                        "[-0.73602223 -0.4529769 ]\n",
                        "[0.24663284]\n",
                        "[0.19358796]\n",
                        "\n",
                        "[-0.77695495 -0.35683575]\n",
                        "[0.2130264]\n",
                        "[0.17754443]\n",
                        "\n",
                        "[-0.8060333  -0.21981682]\n",
                        "[0.17700267]\n",
                        "[0.16557388]\n",
                        "\n",
                        "[-0.82024443 -0.06239332]\n",
                        "[0.15560208]\n",
                        "[0.16990614]\n",
                        "\n",
                        "[-0.7897618  0.67806  ]\n",
                        "[0.17235506]\n",
                        "[0.27357116]\n",
                        "\n",
                        "[-0.68254423  1.4749552 ]\n",
                        "[0.23919684]\n",
                        "[0.6392039]\n",
                        "\n",
                        "[-0.49821183  2.1433122 ]\n",
                        "[0.14913751]\n",
                        "[0.54403794]\n",
                        "\n",
                        "[-0.27840877  2.1223228 ]\n",
                        "[-0.11177788]\n",
                        "[0.37302116]\n",
                        "\n",
                        "[-0.08878531  1.647767  ]\n",
                        "[0.25714603]\n",
                        "[1.0622475]\n",
                        "\n",
                        "[0.05308549 1.2508656 ]\n",
                        "[0.2366907]\n",
                        "[1.3533353]\n",
                        "\n",
                        "[0.16862273 1.0740926 ]\n",
                        "[0.17627935]\n",
                        "[2.7581286]\n",
                        "\n",
                        "[0.2700918 0.9656113]\n",
                        "[0.04208039]\n",
                        "[3.8933125]\n",
                        "\n",
                        "[0.36408755 0.9276095 ]\n",
                        "[0.9329519]\n",
                        "[4.7903395]\n",
                        "\n",
                        "[0.4584869 0.9752618]\n",
                        "[3.2993052]\n",
                        "[5.9205813]\n",
                        "\n",
                        "[0.56207246 1.1104953 ]\n",
                        "[5.2536497]\n",
                        "[7.2638597]\n",
                        "\n",
                        "[0.683183  1.3234385]\n",
                        "[7.197372]\n",
                        "[8.597483]\n",
                        "\n",
                        "[0.8288183 1.5981019]\n",
                        "[9.650138]\n",
                        "[10.031277]\n",
                        "\n"
                    ]
                },
                {
                    "data": {
                        "text/plain": [
                            "DeviceArray([ True], dtype=bool)"
                        ]
                    },
                    "execution_count": 13,
                    "metadata": {},
                    "output_type": "execute_result"
                }
            ],
            "source": [
                "env.simulate(q, 100, jnp.array([-0.5, 0]))"
            ]
        },
        {
            "cell_type": "code",
            "execution_count": 14,
            "metadata": {},
            "outputs": [
                {
                    "ename": "KeyboardInterrupt",
                    "evalue": "",
                    "output_type": "error",
                    "traceback": [
                        "\u001b[0;31m---------------------------------------------------------------------------\u001b[0m",
                        "\u001b[0;31mKeyboardInterrupt\u001b[0m                         Traceback (most recent call last)",
                        "\u001b[1;32m/home/vincent/Darmstadt/PBO/pbo_car_on_hill.ipynb Cell 16'\u001b[0m in \u001b[0;36m<cell line: 1>\u001b[0;34m()\u001b[0m\n\u001b[0;32m----> <a href='vscode-notebook-cell:/home/vincent/Darmstadt/PBO/pbo_car_on_hill.ipynb#ch0000064?line=0'>1</a>\u001b[0m env\u001b[39m.\u001b[39;49moptimal_v(jnp\u001b[39m.\u001b[39;49marray([\u001b[39m-\u001b[39;49m\u001b[39m0.5\u001b[39;49m, \u001b[39m0\u001b[39;49m]), \u001b[39m50\u001b[39;49m)\n",
                        "File \u001b[0;32m~/Darmstadt/PBO/pbo/environment/car_on_hill.py:147\u001b[0m, in \u001b[0;36mCarOnHillEnv.optimal_v\u001b[0;34m(self, state, max_steps)\u001b[0m\n\u001b[1;32m    146\u001b[0m \u001b[39mdef\u001b[39;00m \u001b[39moptimal_v\u001b[39m(\u001b[39mself\u001b[39m, state: jnp\u001b[39m.\u001b[39mndarray, max_steps: \u001b[39mint\u001b[39m) \u001b[39m-\u001b[39m\u001b[39m>\u001b[39m \u001b[39mfloat\u001b[39m:\n\u001b[0;32m--> 147\u001b[0m     success, step_to_absorbing \u001b[39m=\u001b[39m \u001b[39mself\u001b[39;49m\u001b[39m.\u001b[39;49moptimal_steps_to_absorbing([state], max_steps)\n\u001b[1;32m    149\u001b[0m     \u001b[39mreturn\u001b[39;00m \u001b[39mself\u001b[39m\u001b[39m.\u001b[39mgamma \u001b[39m*\u001b[39m\u001b[39m*\u001b[39m (step_to_absorbing \u001b[39m-\u001b[39m \u001b[39m1\u001b[39m) \u001b[39mif\u001b[39;00m success \u001b[39melse\u001b[39;00m \u001b[39m-\u001b[39m\u001b[39mself\u001b[39m\u001b[39m.\u001b[39mgamma \u001b[39m*\u001b[39m\u001b[39m*\u001b[39m (step_to_absorbing \u001b[39m-\u001b[39m \u001b[39m1\u001b[39m)\n",
                        "File \u001b[0;32m~/Darmstadt/PBO/pbo/environment/car_on_hill.py:134\u001b[0m, in \u001b[0;36mCarOnHillEnv.optimal_steps_to_absorbing\u001b[0;34m(self, state, max_steps)\u001b[0m\n\u001b[1;32m    132\u001b[0m \u001b[39mfor\u001b[39;00m action \u001b[39min\u001b[39;00m \u001b[39mrange\u001b[39m(\u001b[39m2\u001b[39m):\n\u001b[1;32m    133\u001b[0m     \u001b[39mself\u001b[39m\u001b[39m.\u001b[39mstate \u001b[39m=\u001b[39m state_\n\u001b[0;32m--> 134\u001b[0m     next_state, reward, _, _ \u001b[39m=\u001b[39m \u001b[39mself\u001b[39;49m\u001b[39m.\u001b[39;49mstep(jnp\u001b[39m.\u001b[39;49marray([action]))\n\u001b[1;32m    136\u001b[0m     \u001b[39mif\u001b[39;00m reward \u001b[39m==\u001b[39m \u001b[39m1\u001b[39m:\n\u001b[1;32m    137\u001b[0m         \u001b[39mreturn\u001b[39;00m \u001b[39mTrue\u001b[39;00m, step \u001b[39m+\u001b[39m \u001b[39m1\u001b[39m\n",
                        "File \u001b[0;32m~/Darmstadt/PBO/pbo/environment/car_on_hill.py:43\u001b[0m, in \u001b[0;36mCarOnHillEnv.step\u001b[0;34m(self, action)\u001b[0m\n\u001b[1;32m     39\u001b[0m new_state \u001b[39m=\u001b[39m odeint(\u001b[39mself\u001b[39m\u001b[39m.\u001b[39m_dpds, sa, [\u001b[39m0\u001b[39m, \u001b[39mself\u001b[39m\u001b[39m.\u001b[39m_dt])\n\u001b[1;32m     41\u001b[0m \u001b[39mself\u001b[39m\u001b[39m.\u001b[39mstate \u001b[39m=\u001b[39m jnp\u001b[39m.\u001b[39marray(new_state[\u001b[39m-\u001b[39m\u001b[39m1\u001b[39m, :\u001b[39m-\u001b[39m\u001b[39m1\u001b[39m])\n\u001b[0;32m---> 43\u001b[0m \u001b[39mif\u001b[39;00m \u001b[39mself\u001b[39;49m\u001b[39m.\u001b[39;49mstate[\u001b[39m0\u001b[39;49m] \u001b[39m<\u001b[39m \u001b[39m-\u001b[39m\u001b[39mself\u001b[39m\u001b[39m.\u001b[39mmax_pos \u001b[39mor\u001b[39;00m np\u001b[39m.\u001b[39mabs(\u001b[39mself\u001b[39m\u001b[39m.\u001b[39mstate[\u001b[39m1\u001b[39m]) \u001b[39m>\u001b[39m \u001b[39mself\u001b[39m\u001b[39m.\u001b[39mmax_velocity:\n\u001b[1;32m     44\u001b[0m     reward \u001b[39m=\u001b[39m \u001b[39m-\u001b[39m\u001b[39m1.0\u001b[39m\n\u001b[1;32m     45\u001b[0m     absorbing \u001b[39m=\u001b[39m \u001b[39mTrue\u001b[39;00m\n",
                        "File \u001b[0;32m~/Darmstadt/PBO/env/lib/python3.8/site-packages/jax/_src/numpy/lax_numpy.py:3544\u001b[0m, in \u001b[0;36m_rewriting_take\u001b[0;34m(arr, idx, indices_are_sorted, unique_indices, mode, fill_value)\u001b[0m\n\u001b[1;32m   3541\u001b[0m   \u001b[39mreturn\u001b[39;00m _getslice(arr, start, stop)\n\u001b[1;32m   3543\u001b[0m treedef, static_idx, dynamic_idx \u001b[39m=\u001b[39m _split_index_for_jit(idx, arr\u001b[39m.\u001b[39mshape)\n\u001b[0;32m-> 3544\u001b[0m \u001b[39mreturn\u001b[39;00m _gather(arr, treedef, static_idx, dynamic_idx, indices_are_sorted,\n\u001b[1;32m   3545\u001b[0m                unique_indices, mode, fill_value)\n",
                        "File \u001b[0;32m~/Darmstadt/PBO/env/lib/python3.8/site-packages/jax/_src/numpy/lax_numpy.py:3553\u001b[0m, in \u001b[0;36m_gather\u001b[0;34m(arr, treedef, static_idx, dynamic_idx, indices_are_sorted, unique_indices, mode, fill_value)\u001b[0m\n\u001b[1;32m   3550\u001b[0m \u001b[39mdef\u001b[39;00m \u001b[39m_gather\u001b[39m(arr, treedef, static_idx, dynamic_idx, indices_are_sorted,\n\u001b[1;32m   3551\u001b[0m             unique_indices, mode, fill_value):\n\u001b[1;32m   3552\u001b[0m   idx \u001b[39m=\u001b[39m _merge_static_and_dynamic_indices(treedef, static_idx, dynamic_idx)\n\u001b[0;32m-> 3553\u001b[0m   indexer \u001b[39m=\u001b[39m _index_to_gather(shape(arr), idx)  \u001b[39m# shared with _scatter_update\u001b[39;00m\n\u001b[1;32m   3554\u001b[0m   y \u001b[39m=\u001b[39m arr\n\u001b[1;32m   3556\u001b[0m   \u001b[39mif\u001b[39;00m fill_value \u001b[39mis\u001b[39;00m \u001b[39mnot\u001b[39;00m \u001b[39mNone\u001b[39;00m:\n",
                        "File \u001b[0;32m~/Darmstadt/PBO/env/lib/python3.8/site-packages/jax/_src/numpy/lax_numpy.py:3672\u001b[0m, in \u001b[0;36m_index_to_gather\u001b[0;34m(x_shape, idx, normalize_indices)\u001b[0m\n\u001b[1;32m   3668\u001b[0m \u001b[39m# The positions of the advanced indexes in x's shape.\u001b[39;00m\n\u001b[1;32m   3669\u001b[0m \u001b[39m# collapsed, after None axes have been removed. See below.\u001b[39;00m\n\u001b[1;32m   3670\u001b[0m x_advanced_axes \u001b[39m=\u001b[39m \u001b[39mNone\u001b[39;00m\n\u001b[0;32m-> 3672\u001b[0m \u001b[39mif\u001b[39;00m _is_advanced_int_indexer(idx):\n\u001b[1;32m   3673\u001b[0m   idx_no_nones \u001b[39m=\u001b[39m [(i, d) \u001b[39mfor\u001b[39;00m i, d \u001b[39min\u001b[39;00m \u001b[39menumerate\u001b[39m(idx) \u001b[39mif\u001b[39;00m d \u001b[39mis\u001b[39;00m \u001b[39mnot\u001b[39;00m \u001b[39mNone\u001b[39;00m]\n\u001b[1;32m   3674\u001b[0m   advanced_pairs \u001b[39m=\u001b[39m (\n\u001b[1;32m   3675\u001b[0m     (asarray(e), i, j) \u001b[39mfor\u001b[39;00m j, (i, e) \u001b[39min\u001b[39;00m \u001b[39menumerate\u001b[39m(idx_no_nones)\n\u001b[1;32m   3676\u001b[0m     \u001b[39mif\u001b[39;00m isscalar(e) \u001b[39mor\u001b[39;00m \u001b[39misinstance\u001b[39m(e, (Sequence, ndarray, np\u001b[39m.\u001b[39mndarray)))\n",
                        "File \u001b[0;32m~/Darmstadt/PBO/env/lib/python3.8/site-packages/jax/_src/numpy/lax_numpy.py:3961\u001b[0m, in \u001b[0;36m_is_advanced_int_indexer\u001b[0;34m(idx)\u001b[0m\n\u001b[1;32m   3959\u001b[0m \u001b[39m# https://docs.scipy.org/doc/numpy/reference/arrays.indexing.html#advanced-indexing\u001b[39;00m\n\u001b[1;32m   3960\u001b[0m \u001b[39massert\u001b[39;00m \u001b[39misinstance\u001b[39m(idx, \u001b[39mtuple\u001b[39m)\n\u001b[0;32m-> 3961\u001b[0m \u001b[39mif\u001b[39;00m _all(e \u001b[39mis\u001b[39;49;00m \u001b[39mNone\u001b[39;49;00m \u001b[39mor\u001b[39;49;00m e \u001b[39mis\u001b[39;49;00m \u001b[39mEllipsis\u001b[39;49m \u001b[39mor\u001b[39;49;00m \u001b[39misinstance\u001b[39;49m(e, \u001b[39mslice\u001b[39;49m)\n\u001b[1;32m   3962\u001b[0m         \u001b[39mor\u001b[39;49;00m _is_scalar(e) \u001b[39mand\u001b[39;49;00m issubdtype(_dtype(e), np\u001b[39m.\u001b[39;49minteger) \u001b[39mfor\u001b[39;49;00m e \u001b[39min\u001b[39;49;00m idx):\n\u001b[1;32m   3963\u001b[0m   \u001b[39mreturn\u001b[39;00m \u001b[39mFalse\u001b[39;00m\n\u001b[1;32m   3964\u001b[0m \u001b[39mreturn\u001b[39;00m _all(e \u001b[39mis\u001b[39;00m \u001b[39mNone\u001b[39;00m \u001b[39mor\u001b[39;00m e \u001b[39mis\u001b[39;00m \u001b[39mEllipsis\u001b[39m \u001b[39mor\u001b[39;00m \u001b[39misinstance\u001b[39m(e, \u001b[39mslice\u001b[39m)\n\u001b[1;32m   3965\u001b[0m             \u001b[39mor\u001b[39;00m _is_int_arraylike(e) \u001b[39mfor\u001b[39;00m e \u001b[39min\u001b[39;00m idx)\n",
                        "\u001b[0;31mKeyboardInterrupt\u001b[0m: "
                    ]
                }
            ],
            "source": [
                "env.optimal_v(jnp.array([-0.5, 0]), 50)"
            ]
        },
        {
            "cell_type": "code",
            "execution_count": 9,
            "metadata": {},
            "outputs": [
                {
                    "data": {
                        "image/png": "[encoded data removed]",
                        "text/plain": [
                            "<Figure size 432x288 with 1 Axes>"
                        ]
                    },
                    "metadata": {
                        "needs_background": "light"
                    },
                    "output_type": "display_data"
                }
            ],
            "source": [
                "import matplotlib.pyplot as plt \n",
                "\n",
                "for bellman_iteration in range(max_bellman_iterations):\n",
                "    plt.plot(l2_losses[bellman_iteration], label=f\"Iteration {bellman_iteration + 1}\")\n",
                "\n",
                "plt.legend()\n",
                "plt.xlabel(\"fitting step\")\n",
                "plt.ylabel(r\"$(\\Gamma^*Q_i - Q_{i +  1})^2$\")\n",
                "plt.title(\"Training losses\")\n",
                "plt.show()"
            ]
        },
        {
            "cell_type": "markdown",
            "metadata": {},
            "source": [
                "## Collect weights"
            ]
        },
        {
            "cell_type": "code",
            "execution_count": 10,
            "metadata": {},
            "outputs": [
                {
                    "ename": "NameError",
                    "evalue": "name 'TableQ' is not defined",
                    "output_type": "error",
                    "traceback": [
                        "\u001b[0;31m---------------------------------------------------------------------------\u001b[0m",
                        "\u001b[0;31mNameError\u001b[0m                                 Traceback (most recent call last)",
                        "\u001b[1;32m/home/vincent/Darmstadt/PBO/pbo_car_on_hill.ipynb Cell 18'\u001b[0m in \u001b[0;36m<cell line: 10>\u001b[0;34m()\u001b[0m\n\u001b[1;32m      <a href='vscode-notebook-cell:/home/vincent/Darmstadt/PBO/pbo_car_on_hill.ipynb#ch0000017?line=6'>7</a>\u001b[0m weights_buffer\u001b[39m.\u001b[39madd(validation_initial_weight)\n\u001b[1;32m      <a href='vscode-notebook-cell:/home/vincent/Darmstadt/PBO/pbo_car_on_hill.ipynb#ch0000017?line=8'>9</a>\u001b[0m \u001b[39m# Add randow weights\u001b[39;00m\n\u001b[0;32m---> <a href='vscode-notebook-cell:/home/vincent/Darmstadt/PBO/pbo_car_on_hill.ipynb#ch0000017?line=9'>10</a>\u001b[0m q \u001b[39m=\u001b[39m TableQ(\n\u001b[1;32m     <a href='vscode-notebook-cell:/home/vincent/Darmstadt/PBO/pbo_car_on_hill.ipynb#ch0000017?line=10'>11</a>\u001b[0m     gamma\u001b[39m=\u001b[39mgamma,\n\u001b[1;32m     <a href='vscode-notebook-cell:/home/vincent/Darmstadt/PBO/pbo_car_on_hill.ipynb#ch0000017?line=11'>12</a>\u001b[0m     network_key\u001b[39m=\u001b[39mq_network_key,\n\u001b[1;32m     <a href='vscode-notebook-cell:/home/vincent/Darmstadt/PBO/pbo_car_on_hill.ipynb#ch0000017?line=12'>13</a>\u001b[0m     random_weights_range\u001b[39m=\u001b[39m\u001b[39mNone\u001b[39;00m,\n\u001b[1;32m     <a href='vscode-notebook-cell:/home/vincent/Darmstadt/PBO/pbo_car_on_hill.ipynb#ch0000017?line=13'>14</a>\u001b[0m     random_weights_key\u001b[39m=\u001b[39mrandom_weights_key,\n\u001b[1;32m     <a href='vscode-notebook-cell:/home/vincent/Darmstadt/PBO/pbo_car_on_hill.ipynb#ch0000017?line=14'>15</a>\u001b[0m     n_states\u001b[39m=\u001b[39mn_states,\n\u001b[1;32m     <a href='vscode-notebook-cell:/home/vincent/Darmstadt/PBO/pbo_car_on_hill.ipynb#ch0000017?line=15'>16</a>\u001b[0m     n_actions\u001b[39m=\u001b[39mn_actions,\n\u001b[1;32m     <a href='vscode-notebook-cell:/home/vincent/Darmstadt/PBO/pbo_car_on_hill.ipynb#ch0000017?line=16'>17</a>\u001b[0m     learning_rate\u001b[39m=\u001b[39mlearning_rate_q\n\u001b[1;32m     <a href='vscode-notebook-cell:/home/vincent/Darmstadt/PBO/pbo_car_on_hill.ipynb#ch0000017?line=17'>18</a>\u001b[0m )\n\u001b[1;32m     <a href='vscode-notebook-cell:/home/vincent/Darmstadt/PBO/pbo_car_on_hill.ipynb#ch0000017?line=19'>20</a>\u001b[0m \u001b[39mwhile\u001b[39;00m \u001b[39mlen\u001b[39m(weights_buffer) \u001b[39m<\u001b[39m n_weights:\n\u001b[1;32m     <a href='vscode-notebook-cell:/home/vincent/Darmstadt/PBO/pbo_car_on_hill.ipynb#ch0000017?line=20'>21</a>\u001b[0m     weights \u001b[39m=\u001b[39m q\u001b[39m.\u001b[39mrandom_init_weights()\n",
                        "\u001b[0;31mNameError\u001b[0m: name 'TableQ' is not defined"
                    ]
                }
            ],
            "source": [
                "from pbo.weights_collection.weights_buffer import WeightsBuffer\n",
                "\n",
                "\n",
                "weights_buffer = WeightsBuffer()\n",
                "\n",
                "# Add initial validation weights\n",
                "weights_buffer.add(validation_initial_weight)\n",
                "\n",
                "# Add randow weights\n",
                "q = TableQ(\n",
                "    gamma=gamma,\n",
                "    network_key=q_network_key,\n",
                "    random_weights_range=None,\n",
                "    random_weights_key=random_weights_key,\n",
                "    n_states=n_states,\n",
                "    n_actions=n_actions,\n",
                "    learning_rate=learning_rate_q\n",
                ")\n",
                "\n",
                "while len(weights_buffer) < n_weights:\n",
                "    weights = q.random_init_weights()\n",
                "    weights_buffer.add(weights)\n",
                "\n",
                "weights_buffer.cast_to_jax_array()"
            ]
        },
        {
            "cell_type": "markdown",
            "metadata": {},
            "source": [
                "## Train non linear PBO"
            ]
        },
        {
            "cell_type": "code",
            "execution_count": null,
            "metadata": {},
            "outputs": [],
            "source": [
                "from tqdm.notebook import tqdm\n",
                "\n",
                "from pbo.sample_collection.dataloader import SampleDataLoader\n",
                "from pbo.weights_collection.dataloader import WeightsDataLoader\n",
                "from pbo.networks.learnable_pbo import TabularPBO\n",
                "\n",
                "\n",
                "data_loader_samples = SampleDataLoader(replay_buffer, batch_size_samples, shuffle_key)\n",
                "data_loader_weights = WeightsDataLoader(weights_buffer, batch_size_weights, shuffle_key)\n",
                "pbo_tabular = TabularPBO(q, max_bellman_iterations, add_infinity, pbo_network_key, learning_rate, n_actions)\n",
                "importance_iteration = jnp.ones(max_bellman_iterations + 1)\n",
                "importance_iteration = importance_iteration.at[-1].set(0)\n",
                "\n",
                "for _ in tqdm(range(training_steps)):\n",
                "    params_target = pbo_tabular.params\n",
                "\n",
                "    for _ in range(fitting_steps):\n",
                "        data_loader_weights.shuffle()\n",
                "        for batch_weights in data_loader_weights:\n",
                "            data_loader_samples.shuffle()\n",
                "            for batch_samples in data_loader_samples:\n",
                "                pbo_tabular.params, pbo_tabular.optimizer_state, _ = pbo_tabular.learn_on_batch(\n",
                "                    pbo_tabular.params, params_target, pbo_tabular.optimizer_state, batch_weights, batch_samples, importance_iteration\n",
                "                )\n",
                "\n",
                "training_losses_tabular = np.zeros(max_bellman_iterations_validation)\n",
                "validation_losses_tabular = np.zeros(max_bellman_iterations_validation)\n",
                "absording_probabilities_tabular = np.zeros((max_bellman_iterations_validation, horizon))\n",
                "\n",
                "batch_iterated_weights = validation_initial_weight.reshape((1, -1))\n",
                "for bellman_iteration in range(max_bellman_iterations_validation):\n",
                "    q_i = q.discretize(batch_iterated_weights, states, actions)[0]\n",
                "    batch_iterated_weights = pbo_tabular(pbo_tabular.params, batch_iterated_weights)\n",
                "    q_i_plus_1 = q.discretize(batch_iterated_weights, states, actions)[0]\n",
                "    policy_q = q_i_plus_1.argmax(axis=1)\n",
                "\n",
                "    training_losses_tabular[bellman_iteration] = jnp.abs(env.apply_bellman_operator(q_i) - q_i_plus_1).mean()\n",
                "    validation_losses_tabular[bellman_iteration] = jnp.abs(optimal_q - q_i_plus_1).mean()\n",
                "    absording_probabilities_tabular[bellman_iteration] = env.absorbing_probability(policy_q, horizon)\n"
            ]
        },
        {
            "cell_type": "markdown",
            "metadata": {},
            "source": [
                "## Train linear PBO"
            ]
        },
        {
            "cell_type": "code",
            "execution_count": null,
            "metadata": {},
            "outputs": [],
            "source": [
                "from tqdm.notebook import tqdm\n",
                "\n",
                "from pbo.sample_collection.dataloader import SampleDataLoader\n",
                "from pbo.weights_collection.dataloader import WeightsDataLoader\n",
                "from pbo.networks.learnable_pbo import LinearPBO\n",
                "\n",
                "\n",
                "data_loader_samples = SampleDataLoader(replay_buffer, batch_size_samples, shuffle_key)\n",
                "data_loader_weights = WeightsDataLoader(weights_buffer, batch_size_weights, shuffle_key)\n",
                "pbo = LinearPBO(q, max_bellman_iterations, True, pbo_network_key, learning_rate)  # infinity added\n",
                "importance_iteration = jnp.ones(max_bellman_iterations + 1)\n",
                "\n",
                "\n",
                "for _ in tqdm(range(training_steps)):\n",
                "    params_target = pbo.params\n",
                "    for _ in range(fitting_steps):\n",
                "        data_loader_weights.shuffle()\n",
                "        for batch_weights in data_loader_weights:\n",
                "            data_loader_samples.shuffle()\n",
                "            for batch_samples in data_loader_samples:\n",
                "                pbo.params, pbo.optimizer_state, _ = pbo.learn_on_batch(\n",
                "                    pbo.params, params_target, pbo.optimizer_state, batch_weights, batch_samples, importance_iteration\n",
                "                )\n",
                "\n",
                "training_losses = np.zeros(max_bellman_iterations_validation)\n",
                "validation_losses = np.zeros(max_bellman_iterations_validation)\n",
                "absording_probabilities = np.zeros((max_bellman_iterations_validation, horizon))\n",
                "\n",
                "batch_iterated_weights = validation_initial_weight.reshape((1, -1))\n",
                "for bellman_iteration in range(max_bellman_iterations_validation):\n",
                "    q_i = q.discretize(batch_iterated_weights, states, actions)[0]\n",
                "    batch_iterated_weights = pbo(pbo.params, batch_iterated_weights)\n",
                "    q_i_plus_1 = q.discretize(batch_iterated_weights, states, actions)[0]\n",
                "    policy_q = q_i_plus_1.argmax(axis=1)\n",
                "\n",
                "    training_losses[bellman_iteration] = jnp.abs(env.apply_bellman_operator(q_i) - q_i_plus_1).mean()\n",
                "    validation_losses[bellman_iteration] = jnp.abs(optimal_q - q_i_plus_1).mean()\n",
                "    absording_probabilities[bellman_iteration] = env.absorbing_probability(policy_q, horizon)\n",
                "\n",
                "    print(policy_q)"
            ]
        },
        {
            "cell_type": "markdown",
            "metadata": {},
            "source": [
                "## Visualize errors in Q functions"
            ]
        },
        {
            "cell_type": "code",
            "execution_count": null,
            "metadata": {},
            "outputs": [],
            "source": [
                "import matplotlib.pyplot as plt \n",
                "\n",
                "iterations = range(1, max_bellman_iterations_validation + 1)\n",
                "\n",
                "plt.plot(iterations, validation_losses, label=\"pbo linear\", color=\"green\")\n",
                "plt.plot(iterations, validation_losses_tabular, label=\"pbo max-linear\", color=\"grey\", linestyle=\"--\")\n",
                "plt.plot(iterations, validation_losses_optimal, label=\"pbo optimal\", color=\"black\")\n",
                "plt.plot(range(1, max_bellman_iterations + 1), validation_losses_q, label=\"FQI\", color=\"red\", linewidth=4)\n",
                "plt.vlines(max_bellman_iterations, 0, np.max(validation_losses_q), color=\"black\", linestyle=\"--\")\n",
                "\n",
                "plt.xticks(iterations)\n",
                "plt.xlabel(\"iterations\")\n",
                "\n",
                "plt.title(r\"$|| Q^* - Q_i ||_1$\")\n",
                "_ = plt.legend()"
            ]
        },
        {
            "cell_type": "code",
            "execution_count": null,
            "metadata": {},
            "outputs": [],
            "source": [
                "plt.plot(iterations, training_losses, label=\"pbo linear\", color=\"green\")\n",
                "plt.plot(iterations, training_losses_tabular, label=\"pbo max-linear\", color=\"grey\")\n",
                "plt.plot(iterations, training_losses_optimal, label=\"pbo optimal\", color=\"black\")\n",
                "plt.plot(range(1, max_bellman_iterations + 1), training_losses_q, label=\"FQI\", color=\"red\")\n",
                "plt.vlines(max_bellman_iterations, 0, np.maximum(np.max(training_losses_q), np.max(training_losses)), color=\"black\", linestyle=\"--\")\n",
                "\n",
                "plt.xticks(iterations)\n",
                "plt.xlabel(\"iterations\")\n",
                "\n",
                "plt.title(r\"$|| \\Gamma^*Q_{i-1} - Q_i ||_1$\")\n",
                "_ = plt.legend()"
            ]
        },
        {
            "cell_type": "markdown",
            "metadata": {},
            "source": [
                "## Understanding the learning process"
            ]
        },
        {
            "cell_type": "code",
            "execution_count": null,
            "metadata": {},
            "outputs": [],
            "source": [
                "empirical_transition_proba = np.zeros((n_states, n_states * n_actions))\n",
                "\n",
                "for idx_sample in range(len(replay_buffer.states)):\n",
                "    state = replay_buffer.states[idx_sample, 0]\n",
                "    action = replay_buffer.actions[idx_sample, 0]\n",
                "    next_state = replay_buffer.next_states[idx_sample, 0]\n",
                "\n",
                "    empirical_transition_proba[next_state, state * n_actions + action] += 1 \n",
                "\n",
                "empirical_transition_proba /= n_repetitions\n"
            ]
        },
        {
            "cell_type": "code",
            "execution_count": null,
            "metadata": {},
            "outputs": [],
            "source": [
                "np.linalg.norm(empirical_transition_proba - pbo_tabular.params[\"TabularPBONet/linear\"][\"w\"] / gamma)"
            ]
        },
        {
            "cell_type": "markdown",
            "metadata": {},
            "source": [
                "## Visualize errors in preformances"
            ]
        },
        {
            "cell_type": "code",
            "execution_count": null,
            "metadata": {},
            "outputs": [],
            "source": [
                "iteration = 5\n",
                "time = range(1, horizon + 1)\n",
                "\n",
                "\n",
                "plt.plot(time, absording_probabilities[iteration], label=\"pbo linear\", color=\"green\")\n",
                "plt.plot(time, absording_probabilities_tabular[iteration], label=\"pbo max-linear\", color=\"grey\", linestyle=\"--\")\n",
                "plt.plot(time, absording_probabilities_optimal[iteration], label=\"pbo optimal\", color=\"black\")\n",
                "plt.plot(time, absording_probabilities_q[min([iteration, max_bellman_iterations - 1])], label=\"FQI\", color=\"red\")\n",
                "\n",
                "plt.xticks(time)\n",
                "plt.xlabel(\"time\")\n",
                "\n",
                "plt.title(r\"$P^{\\pi}(s_i =$ absorbing state)\")\n",
                "_ = plt.legend()"
            ]
        },
        {
            "cell_type": "code",
            "execution_count": null,
            "metadata": {},
            "outputs": [],
            "source": [
                "iteration = 1\n",
                "\n",
                "\n",
                "plt.plot(iterations, absording_probabilities[:, -1], label=\"pbo linear\", color=\"green\")\n",
                "plt.plot(iterations, absording_probabilities_tabular[:, -1], label=\"pbo max-linear\", color=\"grey\", linestyle=\"--\")\n",
                "plt.plot(iterations, absording_probabilities_optimal[:, -1], label=\"pbo optimal\", color=\"black\")\n",
                "plt.plot(range(1, max_bellman_iterations + 1), absording_probabilities_q[:, -1], label=\"FQI\", color=\"red\")\n",
                "plt.vlines(max_bellman_iterations, 0, 1, color=\"black\", linestyle=\"--\")\n",
                "\n",
                "plt.xticks(iterations)\n",
                "plt.xlabel(\"iterations\")\n",
                "\n",
                "plt.title(r\"$P^{\\pi}(s_i =$ absorbing state)\" + f\" after {horizon} steps\")\n",
                "_ = plt.legend()"
            ]
        }
    ],
    "metadata": {
        "interpreter": {
            "hash": "1432d270abb514d077d760a4c8d2edd41cc0752b595b0513fca29951003961c1"
        },
        "kernelspec": {
            "display_name": "Python 3.8.10 ('env': venv)",
            "language": "python",
            "name": "python3"
        },
        "language_info": {
            "codemirror_mode": {
                "name": "ipython",
                "version": 3
            },
            "file_extension": ".py",
            "mimetype": "text/x-python",
            "name": "python",
            "nbconvert_exporter": "python",
            "pygments_lexer": "ipython3",
            "version": "3.8.10"
        },
        "orig_nbformat": 4
    },
    "nbformat": 4,
    "nbformat_minor": 2
}
