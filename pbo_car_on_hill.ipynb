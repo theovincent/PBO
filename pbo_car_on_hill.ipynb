{
    "cells": [
        {
            "cell_type": "markdown",
            "metadata": {},
            "source": [
                "# PBO learnt on several iterations and one weigth one the car on hill environment\n",
                "\n",
                "## Define parameters"
            ]
        },
        {
            "cell_type": "code",
            "execution_count": 1,
            "metadata": {},
            "outputs": [
                {
                    "name": "stderr",
                    "output_type": "stream",
                    "text": [
                        "WARNING:absl:No GPU/TPU found, falling back to CPU. (Set TF_CPP_MIN_LOG_LEVEL=0 and rerun for more info.)\n"
                    ]
                }
            ],
            "source": [
                "%load_ext autoreload\n",
                "%autoreload 2\n",
                "\n",
                "import numpy as np\n",
                "import jax\n",
                "import jax.numpy as jnp\n",
                "\n",
                "# keys\n",
                "seed = 0\n",
                "key = jax.random.PRNGKey(seed)\n",
                "shuffle_key, q_network_key, random_weights_key, pbo_network_key = jax.random.split(key, 4)\n",
                "\n",
                "# Sample collection\n",
                "n_states_x = 20\n",
                "n_states_v = 20\n",
                "n_actions = 2\n",
                "n_samples = n_states_x * n_states_v * n_actions\n",
                "gamma = 0.9\n",
                "\n",
                "# # Weights collection\n",
                "n_weights = 500\n",
                "\n",
                "# # Trainings\n",
                "layers_dimension = (20, 20)\n",
                "max_bellman_iterations = 5\n",
                "batch_size_samples = n_samples\n",
                "\n",
                "# ## Linear PBO\n",
                "fitting_steps = 20\n",
                "training_steps = 2\n",
                "batch_size_weights = n_weights\n",
                "learning_rate = {\"first\": 0.005, \"last\": 0.001, \"duration\": fitting_steps * n_samples // batch_size_samples}\n",
                "\n",
                "# ## Q-learning\n",
                "fitting_steps_q = fitting_steps * training_steps\n",
                "learning_rate_q = {\"first\": 0.001, \"last\": 0.0005, \"duration\": fitting_steps_q * n_samples // batch_size_samples}\n",
                "\n",
                "# # Visualisation of errors and performances\n",
                "max_bellman_iterations_validation = max_bellman_iterations + 20\n",
                "horizon = 50"
            ]
        },
        {
            "cell_type": "markdown",
            "metadata": {},
            "source": [
                "## Define environment"
            ]
        },
        {
            "cell_type": "code",
            "execution_count": 2,
            "metadata": {},
            "outputs": [],
            "source": [
                "from pbo.environment.car_on_hill import CarOnHillEnv\n",
                "\n",
                "max_pos = 1.0\n",
                "max_velocity = 3.0\n",
                "\n",
                "states_x = jnp.linspace(-max_pos, max_pos, n_states_x)\n",
                "boxes_x_size = (2 * max_pos) / (n_states_x - 1)\n",
                "states_x_boxes = (np.linspace(-max_pos, max_pos + boxes_x_size, n_states_x + 1) - boxes_x_size / 2)\n",
                "states_v = jnp.linspace(-max_velocity, max_velocity, n_states_v)\n",
                "boxes_v_size = (2 * max_velocity) / (n_states_v - 1)\n",
                "states_v_boxes = (np.linspace(-max_velocity, max_velocity + boxes_v_size, n_states_v + 1) - boxes_v_size / 2)\n",
                "\n",
                "\n",
                "env = CarOnHillEnv(max_pos, max_velocity, gamma)"
            ]
        },
        {
            "cell_type": "markdown",
            "metadata": {},
            "source": [
                "## Collect samples"
            ]
        },
        {
            "cell_type": "markdown",
            "metadata": {},
            "source": [
                "### Samples on the mesh"
            ]
        },
        {
            "cell_type": "code",
            "execution_count": 3,
            "metadata": {},
            "outputs": [],
            "source": [
                "from pbo.sample_collection.replay_buffer import ReplayBuffer\n",
                "\n",
                "\n",
                "replay_buffer = ReplayBuffer()\n",
                "\n",
                "n_samples = n_states_x * n_states_v * n_actions\n",
                "\n",
                "for state_x in states_x:\n",
                "    for state_v in states_v:\n",
                "        state = jnp.array([state_x, state_v])\n",
                "        \n",
                "        for action in jnp.arange(n_actions):\n",
                "            env.reset(state)\n",
                "            next_state, reward, _, _ = env.step(jnp.array([action]))\n",
                "\n",
                "            replay_buffer.add(state, jnp.array([action]), reward, next_state)\n",
                "\n",
                "replay_buffer.cast_to_jax_array()"
            ]
        },
        {
            "cell_type": "markdown",
            "metadata": {},
            "source": [
                "### Visualize samples"
            ]
        },
        {
            "cell_type": "code",
            "execution_count": 4,
            "metadata": {},
            "outputs": [
                {
                    "data": {
                        "image/png": "[encoded data removed]",
                        "text/plain": [
                            "<Figure size 432x288 with 2 Axes>"
                        ]
                    },
                    "metadata": {
                        "needs_background": "light"
                    },
                    "output_type": "display_data"
                }
            ],
            "source": [
                "from pbo.sample_collection.count_samples import count_samples\n",
                "from pbo.utils.two_dimesions_mesh import TwoDimesionsMesh\n",
                "\n",
                "\n",
                "samples_count, n_outside_boxes = count_samples(replay_buffer.states[:, 0], replay_buffer.states[:, 1], states_x_boxes, states_v_boxes)\n",
                "samples_visu_mesh = TwoDimesionsMesh(states_x, states_v, sleeping_time=0)\n",
                "\n",
                "samples_visu_mesh.set_values(samples_count, zeros_to_nan=True)\n",
                "samples_visu_mesh.show(\n",
                "    f\"Samples repartition, \\n{int(100 * n_outside_boxes / n_samples)}% are outside the box.\", xlabel=\"x\", ylabel=\"v\"\n",
                ")"
            ]
        },
        {
            "cell_type": "markdown",
            "metadata": {},
            "source": [
                "## Optimal Q function"
            ]
        },
        {
            "cell_type": "code",
            "execution_count": 5,
            "metadata": {},
            "outputs": [],
            "source": [
                "# optimal_v = env.optimal_v_mesh(states_x, states_v, max_steps=10)\n",
                "\n",
                "# q_visu_mesh = TwoDimesionsMesh(states_x, states_v, sleeping_time=0)\n",
                "\n",
                "# q_visu_mesh.set_values(optimal_v)\n",
                "# q_visu_mesh.show(\"Optimal v function\", xlabel=\"x\", ylabel=\"v\")"
            ]
        },
        {
            "cell_type": "markdown",
            "metadata": {},
            "source": [
                "## Train Q with Fitted-Q"
            ]
        },
        {
            "cell_type": "code",
            "execution_count": 6,
            "metadata": {},
            "outputs": [],
            "source": [
                "import matplotlib.pyplot as plt \n",
                "from tqdm.notebook import tqdm\n",
                "\n",
                "from pbo.sample_collection.dataloader import SampleDataLoader\n",
                "from pbo.networks.learnable_q import FullyConnectedQ\n",
                "\n",
                "\n",
                "data_loader_samples = SampleDataLoader(replay_buffer, batch_size_samples, shuffle_key)\n",
                "q = FullyConnectedQ(\n",
                "    state_dim=2,\n",
                "    action_dim=1,\n",
                "    continuous_actions=False,\n",
                "    n_actions_on_max=n_actions,\n",
                "    action_range_on_max=None,\n",
                "    gamma=gamma,\n",
                "    network_key=q_network_key,\n",
                "    random_weights_range=None,\n",
                "    random_weights_key=random_weights_key,\n",
                "    learning_rate=learning_rate_q,\n",
                "    layers_dimension=layers_dimension,\n",
                "    zero_initializer=True,\n",
                ")\n",
                "validation_initial_weight = q.to_weights(q.params)\n",
                "\n",
                "# l2_losses = np.zeros((max_bellman_iterations, fitting_steps_q))\n",
                "\n",
                "# for bellman_iteration in tqdm(range(max_bellman_iterations)):\n",
                "#     params_target = q.params\n",
                "#     q.reset_optimizer()\n",
                "\n",
                "#     for step in tqdm(range(fitting_steps_q), leave=False):\n",
                "#         cumulative_l2_loss = 0\n",
                "        \n",
                "#         data_loader_samples.shuffle()\n",
                "#         for batch_samples in data_loader_samples:\n",
                "#             q.params, q.optimizer_state, l2_loss = q.learn_on_batch(q.params, params_target, q.optimizer_state, batch_samples)\n",
                "#             cumulative_l2_loss += l2_loss\n",
                "\n",
                "#         l2_losses[bellman_iteration, step] = cumulative_l2_loss\n",
                "\n",
                "\n",
                "\n",
                "# for bellman_iteration in range(max_bellman_iterations):\n",
                "#     plt.plot(l2_losses[bellman_iteration], label=f\"Iteration {bellman_iteration + 1}\")\n",
                "\n",
                "# plt.legend()\n",
                "# plt.xlabel(\"fitting step\")\n",
                "# plt.ylabel(r\"$(\\Gamma^*Q_i - Q_{i +  1})^2$\")\n",
                "# plt.title(\"Training losses\")\n",
                "# plt.show()"
            ]
        },
        {
            "cell_type": "code",
            "execution_count": 7,
            "metadata": {},
            "outputs": [],
            "source": [
                "# env.simulate(q, horizon, jnp.array([-0.5, 0]))"
            ]
        },
        {
            "cell_type": "markdown",
            "metadata": {},
            "source": [
                "## Collect weights"
            ]
        },
        {
            "cell_type": "code",
            "execution_count": 8,
            "metadata": {},
            "outputs": [],
            "source": [
                "from pbo.weights_collection.weights_buffer import WeightsBuffer\n",
                "\n",
                "\n",
                "weights_buffer = WeightsBuffer()\n",
                "\n",
                "# Add initial validation weights\n",
                "weights_buffer.add(validation_initial_weight)\n",
                "\n",
                "# Add randow weights\n",
                "q = FullyConnectedQ(\n",
                "    state_dim=2,\n",
                "    action_dim=1,\n",
                "    continuous_actions=False,\n",
                "    n_actions_on_max=n_actions,\n",
                "    action_range_on_max=None,\n",
                "    gamma=gamma,\n",
                "    network_key=q_network_key,\n",
                "    random_weights_range=None,\n",
                "    random_weights_key=random_weights_key,\n",
                "    learning_rate=None,\n",
                "    layers_dimension=layers_dimension,\n",
                "    zero_initializer=False,\n",
                ")\n",
                "\n",
                "while len(weights_buffer) < n_weights:\n",
                "    weights = q.random_init_weights()\n",
                "    weights_buffer.add(weights)\n",
                "\n",
                "weights_buffer.cast_to_jax_array()"
            ]
        },
        {
            "cell_type": "markdown",
            "metadata": {},
            "source": [
                "## Train non linear PBO"
            ]
        },
        {
            "cell_type": "code",
            "execution_count": 9,
            "metadata": {},
            "outputs": [],
            "source": [
                "# from tqdm.notebook import tqdm\n",
                "\n",
                "# from pbo.sample_collection.dataloader import SampleDataLoader\n",
                "# from pbo.weights_collection.dataloader import WeightsDataLoader\n",
                "# from pbo.networks.learnable_pbo import TabularPBO\n",
                "\n",
                "\n",
                "# data_loader_samples = SampleDataLoader(replay_buffer, batch_size_samples, shuffle_key)\n",
                "# data_loader_weights = WeightsDataLoader(weights_buffer, batch_size_weights, shuffle_key)\n",
                "# pbo_tabular = TabularPBO(q, max_bellman_iterations, add_infinity, pbo_network_key, learning_rate, n_actions)\n",
                "# importance_iteration = jnp.ones(max_bellman_iterations + 1)\n",
                "# importance_iteration = importance_iteration.at[-1].set(0)\n",
                "\n",
                "# for _ in tqdm(range(training_steps)):\n",
                "#     params_target = pbo_tabular.params\n",
                "\n",
                "#     for _ in range(fitting_steps):\n",
                "#         data_loader_weights.shuffle()\n",
                "#         for batch_weights in data_loader_weights:\n",
                "#             data_loader_samples.shuffle()\n",
                "#             for batch_samples in data_loader_samples:\n",
                "#                 pbo_tabular.params, pbo_tabular.optimizer_state, _ = pbo_tabular.learn_on_batch(\n",
                "#                     pbo_tabular.params, params_target, pbo_tabular.optimizer_state, batch_weights, batch_samples, importance_iteration\n",
                "#                 )\n",
                "\n",
                "# training_losses_tabular = np.zeros(max_bellman_iterations_validation)\n",
                "# validation_losses_tabular = np.zeros(max_bellman_iterations_validation)\n",
                "# absording_probabilities_tabular = np.zeros((max_bellman_iterations_validation, horizon))\n",
                "\n",
                "# batch_iterated_weights = validation_initial_weight.reshape((1, -1))\n",
                "# for bellman_iteration in range(max_bellman_iterations_validation):\n",
                "#     q_i = q.discretize(batch_iterated_weights, states, actions)[0]\n",
                "#     batch_iterated_weights = pbo_tabular(pbo_tabular.params, batch_iterated_weights)\n",
                "#     q_i_plus_1 = q.discretize(batch_iterated_weights, states, actions)[0]\n",
                "#     policy_q = q_i_plus_1.argmax(axis=1)\n",
                "\n",
                "#     training_losses_tabular[bellman_iteration] = jnp.abs(env.apply_bellman_operator(q_i) - q_i_plus_1).mean()\n",
                "#     validation_losses_tabular[bellman_iteration] = jnp.abs(optimal_q - q_i_plus_1).mean()\n",
                "#     absording_probabilities_tabular[bellman_iteration] = env.absorbing_probability(policy_q, horizon)\n"
            ]
        },
        {
            "cell_type": "markdown",
            "metadata": {},
            "source": [
                "## Train linear PBO"
            ]
        },
        {
            "cell_type": "code",
            "execution_count": 10,
            "metadata": {},
            "outputs": [
                {
                    "data": {
                        "application/vnd.jupyter.widget-view+json": {
                            "model_id": "5f654cbc3c7c42e4adfd72b28656c240",
                            "version_major": 2,
                            "version_minor": 0
                        },
                        "text/plain": [
                            "  0%|          | 0/2 [00:00<?, ?it/s]"
                        ]
                    },
                    "metadata": {},
                    "output_type": "display_data"
                },
                {
                    "data": {
                        "application/vnd.jupyter.widget-view+json": {
                            "model_id": "022fe3e91e6b4c5581264db5777e5150",
                            "version_major": 2,
                            "version_minor": 0
                        },
                        "text/plain": [
                            "  0%|          | 0/20 [00:00<?, ?it/s]"
                        ]
                    },
                    "metadata": {},
                    "output_type": "display_data"
                },
                {
                    "data": {
                        "application/vnd.jupyter.widget-view+json": {
                            "model_id": "1ca80c539774491f910c9a0ff1c79edb",
                            "version_major": 2,
                            "version_minor": 0
                        },
                        "text/plain": [
                            "  0%|          | 0/20 [00:00<?, ?it/s]"
                        ]
                    },
                    "metadata": {},
                    "output_type": "display_data"
                },
                {
                    "data": {
                        "image/png": "[encoded data removed]",
                        "text/plain": [
                            "<Figure size 432x288 with 1 Axes>"
                        ]
                    },
                    "metadata": {
                        "needs_background": "light"
                    },
                    "output_type": "display_data"
                }
            ],
            "source": [
                "from tqdm.notebook import tqdm\n",
                "\n",
                "from pbo.sample_collection.dataloader import SampleDataLoader\n",
                "from pbo.weights_collection.dataloader import WeightsDataLoader\n",
                "from pbo.networks.learnable_pbo import LinearPBO\n",
                "\n",
                "\n",
                "data_loader_samples = SampleDataLoader(replay_buffer, batch_size_samples, shuffle_key)\n",
                "data_loader_weights = WeightsDataLoader(weights_buffer, batch_size_weights, shuffle_key)\n",
                "pbo = LinearPBO(q, max_bellman_iterations, False, pbo_network_key, learning_rate)  # add_infinity == False\n",
                "importance_iteration = jnp.ones(max_bellman_iterations + 1)\n",
                "importance_iteration = importance_iteration.at[-1].set(0)\n",
                "\n",
                "l2_losses = np.ones((training_steps, fitting_steps)) * np.nan\n",
                "\n",
                "for training_step in tqdm(range(training_steps)):\n",
                "    params_target = pbo.params\n",
                "    pbo.reset_optimizer()\n",
                "\n",
                "    for fitting_step in tqdm(range(fitting_steps), leave=False):\n",
                "        cumulative_l2_loss = 0\n",
                "\n",
                "        data_loader_weights.shuffle()\n",
                "        for batch_weights in data_loader_weights:\n",
                "            data_loader_samples.shuffle()\n",
                "            for batch_samples in data_loader_samples:\n",
                "                pbo.params, pbo.optimizer_state, l2_loss = pbo.learn_on_batch(\n",
                "                    pbo.params, params_target, pbo.optimizer_state, batch_weights, batch_samples, importance_iteration\n",
                "                )\n",
                "                cumulative_l2_loss += l2_loss\n",
                "        \n",
                "        l2_losses[training_step, fitting_step] = cumulative_l2_loss\n",
                "\n",
                "\n",
                "for training_step in range(0, training_steps):\n",
                "    plt.plot(l2_losses[training_step], label=f\"Training step {training_step + 1}\")\n",
                "\n",
                "plt.legend()\n",
                "plt.xlabel(\"fitting step\")\n",
                "plt.ylabel(r\"$\\sum_{k} \\left(\\Gamma^*Q_{\\Gamma_{\\phi_i}^k(w)} - Q_{\\Gamma_{\\phi_{i + 1}}^{k + 1}(w)} \\right)^2$\")\n",
                "plt.title(\"Training losses\")\n",
                "plt.show()"
            ]
        },
        {
            "cell_type": "code",
            "execution_count": 11,
            "metadata": {},
            "outputs": [
                {
                    "data": {
                        "image/png": "[encoded data removed]",
                        "text/plain": [
                            "<Figure size 432x288 with 1 Axes>"
                        ]
                    },
                    "metadata": {
                        "needs_background": "light"
                    },
                    "output_type": "display_data"
                }
            ],
            "source": [
                "for training_step in range(0, training_steps):\n",
                "    plt.plot(l2_losses[training_step], label=f\"Training step {training_step + 1}\")\n",
                "\n",
                "plt.legend()\n",
                "plt.ylim(0, max(l2_losses[0]))\n",
                "plt.xlabel(\"fitting step\")\n",
                "plt.ylabel(r\"$\\sum_{k} \\left(\\Gamma^*Q_{\\Gamma_{\\phi_i}^k(w)} - Q_{\\Gamma_{\\phi_{i + 1}}^{k + 1}(w)} \\right)^2$\")\n",
                "plt.title(\"Training losses\")\n",
                "plt.show()"
            ]
        },
        {
            "cell_type": "code",
            "execution_count": 18,
            "metadata": {},
            "outputs": [
                {
                    "name": "stdout",
                    "output_type": "stream",
                    "text": [
                        "[-0.5  0. ]\n",
                        "[0.6268103]\n",
                        "[0.17103378]\n",
                        "\n",
                        "[-0.5196691 -0.3866922]\n",
                        "[0.47279114]\n",
                        "[-0.55779403]\n",
                        "\n",
                        "[-0.57458174 -0.69058496]\n",
                        "[0.2673598]\n",
                        "[-0.7554908]\n",
                        "\n",
                        "[-0.6524237  -0.83584255]\n",
                        "[0.06260683]\n",
                        "[-0.6843038]\n",
                        "\n",
                        "[-0.73584473 -0.8066418 ]\n",
                        "[0.09662189]\n",
                        "[-0.65332377]\n",
                        "\n",
                        "[-0.80970716 -0.6561602 ]\n",
                        "[0.34403843]\n",
                        "[-0.6478604]\n",
                        "\n",
                        "[-0.86512876 -0.44623235]\n",
                        "[0.57548136]\n",
                        "[-0.5826738]\n",
                        "\n",
                        "[-0.8982154  -0.21346611]\n",
                        "[0.646629]\n",
                        "[-0.40779492]\n",
                        "\n",
                        "[-0.9076059  0.0260565]\n",
                        "[0.5986049]\n",
                        "[-0.10742742]\n",
                        "\n",
                        "[-0.8930263  0.2648832]\n",
                        "[0.6138802]\n",
                        "[0.23722236]\n",
                        "\n",
                        "[-0.8549221   0.49457222]\n",
                        "[1.1008425]\n",
                        "[1.3107587]\n",
                        "\n",
                        "[-0.76628727  1.2963631 ]\n",
                        "[1.8595774]\n",
                        "[1.837961]\n",
                        "\n",
                        "[-0.6286001  1.4109532]\n",
                        "[1.7429363]\n",
                        "[1.7292233]\n",
                        "\n",
                        "[-0.49606472  1.1774063 ]\n",
                        "[1.7227463]\n",
                        "[1.7306318]\n",
                        "\n",
                        "[-0.36453333  1.3916577 ]\n",
                        "[1.2355365]\n",
                        "[1.5470353]\n",
                        "\n",
                        "[-0.22928752  1.2691866 ]\n",
                        "[1.0141748]\n",
                        "[1.4915599]\n",
                        "\n",
                        "[-0.11606108  0.9825167 ]\n",
                        "[1.1219141]\n",
                        "[1.5987861]\n",
                        "\n",
                        "[-0.03378949  0.6624721 ]\n",
                        "[1.3212061]\n",
                        "[1.7562273]\n",
                        "\n",
                        "[0.01684932 0.35719728]\n",
                        "[0.8233159]\n",
                        "[1.4995807]\n",
                        "\n",
                        "[0.03816321 0.06910338]\n",
                        "[0.2514977]\n",
                        "[1.1547027]\n",
                        "\n",
                        "[ 0.03066551 -0.21901986]\n",
                        "[-0.09509763]\n",
                        "[0.5500242]\n",
                        "\n",
                        "[-0.00567098 -0.51055753]\n",
                        "[-0.2779734]\n",
                        "[-0.1639663]\n",
                        "\n",
                        "[-0.07260342 -0.82936025]\n",
                        "[-0.21695775]\n",
                        "[-0.6504367]\n",
                        "\n",
                        "[-0.19774757 -1.707956  ]\n",
                        "[-0.07487008]\n",
                        "[-0.34994784]\n",
                        "\n",
                        "[-0.4189979 -2.6883285]\n",
                        "[-0.40865266]\n",
                        "[-0.18789685]\n",
                        "\n",
                        "[-0.6674481 -2.1219766]\n",
                        "[-0.68916136]\n",
                        "[-0.3455437]\n",
                        "\n",
                        "[-0.83266073 -1.1964095 ]\n",
                        "[-0.5427677]\n",
                        "[-0.38938573]\n",
                        "\n",
                        "[-0.91174656 -0.40646362]\n",
                        "[0.5919457]\n",
                        "[-0.55804396]\n",
                        "\n",
                        "[-0.93934286 -0.14490084]\n",
                        "[0.62836933]\n",
                        "[-0.3424744]\n",
                        "\n",
                        "[-0.9406853   0.11806601]\n",
                        "[0.56597984]\n",
                        "[-0.00526708]\n",
                        "\n",
                        "[-0.91576123  0.37995642]\n",
                        "[0.78151816]\n",
                        "[0.54681945]\n",
                        "\n",
                        "[-0.86493784  0.6339959 ]\n",
                        "[1.3044422]\n",
                        "[1.7406414]\n",
                        "\n",
                        "[-0.761245   1.4616244]\n",
                        "[1.8168044]\n",
                        "[1.7929859]\n",
                        "\n",
                        "[-0.6064396  1.5764683]\n",
                        "[1.5944372]\n",
                        "[1.676012]\n",
                        "\n",
                        "[-0.4218147  2.019287 ]\n",
                        "[0.8944518]\n",
                        "[1.4291918]\n",
                        "\n",
                        "[-0.2248193  1.8350543]\n",
                        "[0.55573934]\n",
                        "[1.2405218]\n",
                        "\n",
                        "[-0.06299799  1.3926177 ]\n",
                        "[0.58240604]\n",
                        "[1.2986546]\n",
                        "\n",
                        "[0.05635748 1.0417739 ]\n",
                        "[0.80148345]\n",
                        "[1.5077049]\n",
                        "\n",
                        "[0.14941232 0.82691157]\n",
                        "[0.98283654]\n",
                        "[1.662817]\n",
                        "\n",
                        "[0.22289145 0.64807117]\n",
                        "[1.0226711]\n",
                        "[1.7320441]\n",
                        "\n",
                        "[0.28022048 0.50506884]\n",
                        "[0.8444666]\n",
                        "[1.6564965]\n",
                        "\n",
                        "[0.3252749  0.40292582]\n",
                        "[0.6650344]\n",
                        "[1.5301578]\n",
                        "\n",
                        "[0.36215165 0.34109566]\n",
                        "[0.521474]\n",
                        "[1.4461285]\n",
                        "\n",
                        "[0.39474216 0.3167579 ]\n",
                        "[0.40806317]\n",
                        "[1.4056599]\n",
                        "\n",
                        "[0.42669407 0.3282324 ]\n",
                        "[0.34368038]\n",
                        "[1.4046221]\n",
                        "\n",
                        "[0.4616055  0.37629655]\n",
                        "[0.34524363]\n",
                        "[1.4489845]\n",
                        "\n",
                        "[0.50327826 0.4641589 ]\n",
                        "[0.4396217]\n",
                        "[1.5521706]\n",
                        "\n",
                        "[0.5559185 0.5964426]\n",
                        "[0.646912]\n",
                        "[1.7105045]\n",
                        "\n",
                        "[0.62418556 0.7771834 ]\n",
                        "[0.8534513]\n",
                        "[1.8491366]\n",
                        "\n",
                        "[0.71300757 1.0073297 ]\n",
                        "[0.8384035]\n",
                        "[1.857882]\n",
                        "\n"
                    ]
                },
                {
                    "data": {
                        "text/plain": [
                            "DeviceArray([False], dtype=bool)"
                        ]
                    },
                    "execution_count": 18,
                    "metadata": {},
                    "output_type": "execute_result"
                }
            ],
            "source": [
                "q_weight = validation_initial_weight\n",
                "for _ in range(max_bellman_iterations + 5):\n",
                "    q_weight = pbo(pbo.params, q_weight)\n",
                "q.params = q.to_params(q_weight)\n",
                "\n",
                "# q.params = q.to_params(pbo.fixed_point(pbo.params))\n",
                "\n",
                "\n",
                "env.simulate(q, horizon, jnp.array([-0.5, 0]))"
            ]
        },
        {
            "cell_type": "code",
            "execution_count": 13,
            "metadata": {},
            "outputs": [],
            "source": [
                "# training_losses = np.zeros(max_bellman_iterations_validation)\n",
                "# validation_losses = np.zeros(max_bellman_iterations_validation)\n",
                "# absording_probabilities = np.zeros((max_bellman_iterations_validation, horizon))\n",
                "\n",
                "# batch_iterated_weights = validation_initial_weight.reshape((1, -1))\n",
                "# for bellman_iteration in range(max_bellman_iterations_validation):\n",
                "#     q_i = q.discretize(batch_iterated_weights, states, actions)[0]\n",
                "#     batch_iterated_weights = pbo(pbo.params, batch_iterated_weights)\n",
                "#     q_i_plus_1 = q.discretize(batch_iterated_weights, states, actions)[0]\n",
                "#     policy_q = q_i_plus_1.argmax(axis=1)\n",
                "\n",
                "#     training_losses[bellman_iteration] = jnp.abs(env.apply_bellman_operator(q_i) - q_i_plus_1).mean()\n",
                "#     validation_losses[bellman_iteration] = jnp.abs(optimal_q - q_i_plus_1).mean()\n",
                "#     absording_probabilities[bellman_iteration] = env.absorbing_probability(policy_q, horizon)\n",
                "\n",
                "#     print(policy_q)"
            ]
        },
        {
            "cell_type": "markdown",
            "metadata": {},
            "source": [
                "## Visualize errors in Q functions"
            ]
        },
        {
            "cell_type": "code",
            "execution_count": 14,
            "metadata": {},
            "outputs": [
                {
                    "ename": "NameError",
                    "evalue": "name 'validation_losses' is not defined",
                    "output_type": "error",
                    "traceback": [
                        "\u001b[0;31m---------------------------------------------------------------------------\u001b[0m",
                        "\u001b[0;31mNameError\u001b[0m                                 Traceback (most recent call last)",
                        "\u001b[1;32m/home/vincent/Darmstadt/PBO/pbo_car_on_hill.ipynb Cell 25'\u001b[0m in \u001b[0;36m<cell line: 5>\u001b[0;34m()\u001b[0m\n\u001b[1;32m      <a href='vscode-notebook-cell:/home/vincent/Darmstadt/PBO/pbo_car_on_hill.ipynb#ch0000025?line=0'>1</a>\u001b[0m \u001b[39mimport\u001b[39;00m \u001b[39mmatplotlib\u001b[39;00m\u001b[39m.\u001b[39;00m\u001b[39mpyplot\u001b[39;00m \u001b[39mas\u001b[39;00m \u001b[39mplt\u001b[39;00m \n\u001b[1;32m      <a href='vscode-notebook-cell:/home/vincent/Darmstadt/PBO/pbo_car_on_hill.ipynb#ch0000025?line=2'>3</a>\u001b[0m iterations \u001b[39m=\u001b[39m \u001b[39mrange\u001b[39m(\u001b[39m1\u001b[39m, max_bellman_iterations_validation \u001b[39m+\u001b[39m \u001b[39m1\u001b[39m)\n\u001b[0;32m----> <a href='vscode-notebook-cell:/home/vincent/Darmstadt/PBO/pbo_car_on_hill.ipynb#ch0000025?line=4'>5</a>\u001b[0m plt\u001b[39m.\u001b[39mplot(iterations, validation_losses, label\u001b[39m=\u001b[39m\u001b[39m\"\u001b[39m\u001b[39mpbo linear\u001b[39m\u001b[39m\"\u001b[39m, color\u001b[39m=\u001b[39m\u001b[39m\"\u001b[39m\u001b[39mgreen\u001b[39m\u001b[39m\"\u001b[39m)\n\u001b[1;32m      <a href='vscode-notebook-cell:/home/vincent/Darmstadt/PBO/pbo_car_on_hill.ipynb#ch0000025?line=5'>6</a>\u001b[0m plt\u001b[39m.\u001b[39mplot(iterations, validation_losses_tabular, label\u001b[39m=\u001b[39m\u001b[39m\"\u001b[39m\u001b[39mpbo max-linear\u001b[39m\u001b[39m\"\u001b[39m, color\u001b[39m=\u001b[39m\u001b[39m\"\u001b[39m\u001b[39mgrey\u001b[39m\u001b[39m\"\u001b[39m, linestyle\u001b[39m=\u001b[39m\u001b[39m\"\u001b[39m\u001b[39m--\u001b[39m\u001b[39m\"\u001b[39m)\n\u001b[1;32m      <a href='vscode-notebook-cell:/home/vincent/Darmstadt/PBO/pbo_car_on_hill.ipynb#ch0000025?line=6'>7</a>\u001b[0m plt\u001b[39m.\u001b[39mplot(iterations, validation_losses_optimal, label\u001b[39m=\u001b[39m\u001b[39m\"\u001b[39m\u001b[39mpbo optimal\u001b[39m\u001b[39m\"\u001b[39m, color\u001b[39m=\u001b[39m\u001b[39m\"\u001b[39m\u001b[39mblack\u001b[39m\u001b[39m\"\u001b[39m)\n",
                        "\u001b[0;31mNameError\u001b[0m: name 'validation_losses' is not defined"
                    ]
                }
            ],
            "source": [
                "import matplotlib.pyplot as plt \n",
                "\n",
                "iterations = range(1, max_bellman_iterations_validation + 1)\n",
                "\n",
                "plt.plot(iterations, validation_losses, label=\"pbo linear\", color=\"green\")\n",
                "plt.plot(iterations, validation_losses_tabular, label=\"pbo max-linear\", color=\"grey\", linestyle=\"--\")\n",
                "plt.plot(iterations, validation_losses_optimal, label=\"pbo optimal\", color=\"black\")\n",
                "plt.plot(range(1, max_bellman_iterations + 1), validation_losses_q, label=\"FQI\", color=\"red\", linewidth=4)\n",
                "plt.vlines(max_bellman_iterations, 0, np.max(validation_losses_q), color=\"black\", linestyle=\"--\")\n",
                "\n",
                "plt.xticks(iterations)\n",
                "plt.xlabel(\"iterations\")\n",
                "\n",
                "plt.title(r\"$|| Q^* - Q_i ||_1$\")\n",
                "_ = plt.legend()"
            ]
        },
        {
            "cell_type": "code",
            "execution_count": null,
            "metadata": {},
            "outputs": [],
            "source": [
                "plt.plot(iterations, training_losses, label=\"pbo linear\", color=\"green\")\n",
                "plt.plot(iterations, training_losses_tabular, label=\"pbo max-linear\", color=\"grey\")\n",
                "plt.plot(iterations, training_losses_optimal, label=\"pbo optimal\", color=\"black\")\n",
                "plt.plot(range(1, max_bellman_iterations + 1), training_losses_q, label=\"FQI\", color=\"red\")\n",
                "plt.vlines(max_bellman_iterations, 0, np.maximum(np.max(training_losses_q), np.max(training_losses)), color=\"black\", linestyle=\"--\")\n",
                "\n",
                "plt.xticks(iterations)\n",
                "plt.xlabel(\"iterations\")\n",
                "\n",
                "plt.title(r\"$|| \\Gamma^*Q_{i-1} - Q_i ||_1$\")\n",
                "_ = plt.legend()"
            ]
        },
        {
            "cell_type": "markdown",
            "metadata": {},
            "source": [
                "## Understanding the learning process"
            ]
        },
        {
            "cell_type": "code",
            "execution_count": null,
            "metadata": {},
            "outputs": [],
            "source": [
                "empirical_transition_proba = np.zeros((n_states, n_states * n_actions))\n",
                "\n",
                "for idx_sample in range(len(replay_buffer.states)):\n",
                "    state = replay_buffer.states[idx_sample, 0]\n",
                "    action = replay_buffer.actions[idx_sample, 0]\n",
                "    next_state = replay_buffer.next_states[idx_sample, 0]\n",
                "\n",
                "    empirical_transition_proba[next_state, state * n_actions + action] += 1 \n",
                "\n",
                "empirical_transition_proba /= n_repetitions\n"
            ]
        },
        {
            "cell_type": "code",
            "execution_count": null,
            "metadata": {},
            "outputs": [],
            "source": [
                "np.linalg.norm(empirical_transition_proba - pbo_tabular.params[\"TabularPBONet/linear\"][\"w\"] / gamma)"
            ]
        },
        {
            "cell_type": "markdown",
            "metadata": {},
            "source": [
                "## Visualize errors in preformances"
            ]
        },
        {
            "cell_type": "code",
            "execution_count": null,
            "metadata": {},
            "outputs": [],
            "source": [
                "iteration = 5\n",
                "time = range(1, horizon + 1)\n",
                "\n",
                "\n",
                "plt.plot(time, absording_probabilities[iteration], label=\"pbo linear\", color=\"green\")\n",
                "plt.plot(time, absording_probabilities_tabular[iteration], label=\"pbo max-linear\", color=\"grey\", linestyle=\"--\")\n",
                "plt.plot(time, absording_probabilities_optimal[iteration], label=\"pbo optimal\", color=\"black\")\n",
                "plt.plot(time, absording_probabilities_q[min([iteration, max_bellman_iterations - 1])], label=\"FQI\", color=\"red\")\n",
                "\n",
                "plt.xticks(time)\n",
                "plt.xlabel(\"time\")\n",
                "\n",
                "plt.title(r\"$P^{\\pi}(s_i =$ absorbing state)\")\n",
                "_ = plt.legend()"
            ]
        },
        {
            "cell_type": "code",
            "execution_count": null,
            "metadata": {},
            "outputs": [],
            "source": [
                "iteration = 1\n",
                "\n",
                "\n",
                "plt.plot(iterations, absording_probabilities[:, -1], label=\"pbo linear\", color=\"green\")\n",
                "plt.plot(iterations, absording_probabilities_tabular[:, -1], label=\"pbo max-linear\", color=\"grey\", linestyle=\"--\")\n",
                "plt.plot(iterations, absording_probabilities_optimal[:, -1], label=\"pbo optimal\", color=\"black\")\n",
                "plt.plot(range(1, max_bellman_iterations + 1), absording_probabilities_q[:, -1], label=\"FQI\", color=\"red\")\n",
                "plt.vlines(max_bellman_iterations, 0, 1, color=\"black\", linestyle=\"--\")\n",
                "\n",
                "plt.xticks(iterations)\n",
                "plt.xlabel(\"iterations\")\n",
                "\n",
                "plt.title(r\"$P^{\\pi}(s_i =$ absorbing state)\" + f\" after {horizon} steps\")\n",
                "_ = plt.legend()"
            ]
        }
    ],
    "metadata": {
        "interpreter": {
            "hash": "1432d270abb514d077d760a4c8d2edd41cc0752b595b0513fca29951003961c1"
        },
        "kernelspec": {
            "display_name": "Python 3.8.10 ('env': venv)",
            "language": "python",
            "name": "python3"
        },
        "language_info": {
            "codemirror_mode": {
                "name": "ipython",
                "version": 3
            },
            "file_extension": ".py",
            "mimetype": "text/x-python",
            "name": "python",
            "nbconvert_exporter": "python",
            "pygments_lexer": "ipython3",
            "version": "3.8.10"
        },
        "orig_nbformat": 4
    },
    "nbformat": 4,
    "nbformat_minor": 2
}
