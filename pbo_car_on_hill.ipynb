{
    "cells": [
        {
            "cell_type": "markdown",
            "metadata": {},
            "source": [
                "# PBO learnt on several iterations and one weigth one the car on hill environment\n",
                "\n",
                "## Define parameters"
            ]
        },
        {
            "cell_type": "code",
            "execution_count": 24,
            "metadata": {},
            "outputs": [
                {
                    "name": "stdout",
                    "output_type": "stream",
                    "text": [
                        "The autoreload extension is already loaded. To reload it, use:\n",
                        "  %reload_ext autoreload\n"
                    ]
                }
            ],
            "source": [
                "%load_ext autoreload\n",
                "%autoreload 2\n",
                "\n",
                "import numpy as np\n",
                "import jax\n",
                "import jax.numpy as jnp\n",
                "\n",
                "# keys\n",
                "seed = 0\n",
                "key = jax.random.PRNGKey(seed)\n",
                "sample_key, shuffle_key, q_network_key, random_weights_key, pbo_network_key = jax.random.split(key, 5)\n",
                "\n",
                "\n",
                "# Sample collection\n",
                "n_states_x = 10\n",
                "n_states_v = 10\n",
                "n_actions = 2\n",
                "n_uniform_samples = 200\n",
                "n_samples = n_states_x * n_states_v * n_actions * n_uniform_samples\n",
                "gamma = 0.9\n",
                "\n",
                "# # Weights collection\n",
                "n_weights = 100\n",
                "\n",
                "# # Trainings\n",
                "layers_dimension = (10,)\n",
                "max_bellman_iterations = 5\n",
                "batch_size_samples = n_samples\n",
                "\n",
                "# ## Linear PBO\n",
                "training_steps = 100\n",
                "fitting_steps = 5\n",
                "batch_size_weights = n_weights\n",
                "learning_rate = {\"first\": 0.001, \"last\": 0.00005, \"duration\": training_steps * fitting_steps * n_samples // batch_size_samples}\n",
                "\n",
                "# ## Q-learning\n",
                "fitting_steps_q = fitting_steps * training_steps\n",
                "learning_rate_q = {\"first\": 0.01, \"last\": 0.005, \"duration\": fitting_steps_q * n_samples // batch_size_samples}\n",
                "\n",
                "# # Visualisation of errors and performances\n",
                "horizon = 70"
            ]
        },
        {
            "cell_type": "markdown",
            "metadata": {},
            "source": [
                "## Define environment"
            ]
        },
        {
            "cell_type": "code",
            "execution_count": 2,
            "metadata": {},
            "outputs": [],
            "source": [
                "from pbo.environment.car_on_hill import CarOnHillEnv\n",
                "\n",
                "max_pos = 1.0\n",
                "max_velocity = 3.0\n",
                "\n",
                "states_x = jnp.linspace(-max_pos, max_pos, n_states_x)\n",
                "boxes_x_size = (2 * max_pos) / (n_states_x - 1)\n",
                "states_x_boxes = (np.linspace(-max_pos, max_pos + boxes_x_size, n_states_x + 1) - boxes_x_size / 2)\n",
                "states_v = jnp.linspace(-max_velocity, max_velocity, n_states_v)\n",
                "boxes_v_size = (2 * max_velocity) / (n_states_v - 1)\n",
                "states_v_boxes = (np.linspace(-max_velocity, max_velocity + boxes_v_size, n_states_v + 1) - boxes_v_size / 2)\n",
                "\n",
                "\n",
                "env = CarOnHillEnv(max_pos, max_velocity, gamma)"
            ]
        },
        {
            "cell_type": "markdown",
            "metadata": {},
            "source": [
                "## Collect samples"
            ]
        },
        {
            "cell_type": "markdown",
            "metadata": {},
            "source": [
                "### Samples on the mesh and with a uniform policy"
            ]
        },
        {
            "cell_type": "code",
            "execution_count": 27,
            "metadata": {},
            "outputs": [],
            "source": [
                "from pbo.sample_collection.replay_buffer import ReplayBuffer\n",
                "\n",
                "\n",
                "replay_buffer = ReplayBuffer()\n",
                "\n",
                "n_samples = n_states_x * n_states_v * n_actions\n",
                "\n",
                "for state_x in states_x:\n",
                "    for state_v in states_v:\n",
                "        state = jnp.array([state_x, state_v])\n",
                "        \n",
                "        for action in jnp.arange(n_actions):\n",
                "            env.reset(state)\n",
                "            next_state, reward, _, _ = env.step(jnp.array([action]))\n",
                "\n",
                "            replay_buffer.add(state, jnp.array([action]), reward, next_state)\n",
                "\n",
                "env.reset()\n",
                "for idx_sample in range(n_uniform_samples):\n",
                "    sample_key, key = jax.random.split(sample_key)\n",
                "    if jax.random.uniform(key) > 0.5:\n",
                "        action = jnp.array([0])\n",
                "    else:\n",
                "        action = jnp.array([1])\n",
                "    next_state, reward, absording, _ = env.step(action)\n",
                "\n",
                "    replay_buffer.add(env.state, action, reward, next_state)\n",
                "\n",
                "    if absording:\n",
                "        env.reset()\n",
                "\n",
                "replay_buffer.cast_to_jax_array()"
            ]
        },
        {
            "cell_type": "markdown",
            "metadata": {},
            "source": [
                "### Visualize samples"
            ]
        },
        {
            "cell_type": "code",
            "execution_count": 28,
            "metadata": {},
            "outputs": [
                {
                    "data": {
                        "image/png": "[encoded data removed]",
                        "text/plain": [
                            "<Figure size 432x288 with 2 Axes>"
                        ]
                    },
                    "metadata": {
                        "needs_background": "light"
                    },
                    "output_type": "display_data"
                }
            ],
            "source": [
                "from pbo.sample_collection.count_samples import count_samples\n",
                "from pbo.utils.two_dimesions_mesh import TwoDimesionsMesh\n",
                "\n",
                "\n",
                "samples_count, n_outside_boxes = count_samples(replay_buffer.states[:, 0], replay_buffer.states[:, 1], states_x_boxes, states_v_boxes)\n",
                "samples_visu_mesh = TwoDimesionsMesh(states_x, states_v, sleeping_time=0, axis_equal=False)\n",
                "\n",
                "samples_visu_mesh.set_values(samples_count, zeros_to_nan=True)\n",
                "samples_visu_mesh.show(\n",
                "    f\"Samples repartition, \\n{int(100 * n_outside_boxes / n_samples)}% are outside the box.\", xlabel=\"x\", ylabel=\"v\"\n",
                ")"
            ]
        },
        {
            "cell_type": "markdown",
            "metadata": {},
            "source": [
                "## Optimal Q function"
            ]
        },
        {
            "cell_type": "code",
            "execution_count": 5,
            "metadata": {},
            "outputs": [
                {
                    "data": {
                        "application/vnd.jupyter.widget-view+json": {
                            "model_id": "00cad387e9a04f15941328ced25c6ca9",
                            "version_major": 2,
                            "version_minor": 0
                        },
                        "text/plain": [
                            "  0%|          | 0/80 [00:00<?, ?it/s]"
                        ]
                    },
                    "metadata": {},
                    "output_type": "display_data"
                },
                {
                    "data": {
                        "image/png": "[encoded data removed]",
                        "text/plain": [
                            "<Figure size 432x288 with 1 Axes>"
                        ]
                    },
                    "metadata": {
                        "needs_background": "light"
                    },
                    "output_type": "display_data"
                }
            ],
            "source": [
                "import matplotlib.pyplot as plt \n",
                "from tqdm.notebook import tqdm\n",
                "\n",
                "from pbo.sample_collection.dataloader import SampleDataLoader\n",
                "from pbo.networks.learnable_q import FullyConnectedQ\n",
                "\n",
                "\n",
                "max_bellman_iterations_optimal = 80\n",
                "fitting_steps_q_optimal = 800\n",
                "\n",
                "data_loader_samples = SampleDataLoader(replay_buffer, n_samples, shuffle_key)\n",
                "q_optimal = FullyConnectedQ(\n",
                "    state_dim=2,\n",
                "    action_dim=1,\n",
                "    continuous_actions=False,\n",
                "    n_actions_on_max=n_actions,\n",
                "    action_range_on_max=None,\n",
                "    gamma=gamma,\n",
                "    network_key=q_network_key,\n",
                "    random_weights_range=None,\n",
                "    random_weights_key=random_weights_key,\n",
                "    learning_rate={\"first\": 0.01, \"last\": 0.0005, \"duration\": fitting_steps_q_optimal},\n",
                "    layers_dimension=layers_dimension,\n",
                "    zero_initializer=True,\n",
                ")\n",
                "\n",
                "l2_losses = np.ones((max_bellman_iterations_optimal, fitting_steps_q_optimal)) * np.nan\n",
                "\n",
                "for bellman_iteration in tqdm(range(max_bellman_iterations_optimal)):\n",
                "    params_target = q_optimal.params\n",
                "    q_optimal.reset_optimizer()\n",
                "\n",
                "    for step in range(fitting_steps_q_optimal):\n",
                "        cumulative_l2_loss = 0\n",
                "        \n",
                "        data_loader_samples.shuffle()\n",
                "        for batch_samples in data_loader_samples:\n",
                "            q_optimal.params, q_optimal.optimizer_state, l2_loss = q_optimal.learn_on_batch(q_optimal.params, params_target, q_optimal.optimizer_state, batch_samples)\n",
                "            cumulative_l2_loss += l2_loss\n",
                "\n",
                "        l2_losses[bellman_iteration, step] = cumulative_l2_loss\n",
                "\n",
                "\n",
                "for bellman_iteration in range(0, max_bellman_iterations_optimal, 10):\n",
                "    plt.plot(l2_losses[bellman_iteration], label=f\"Iteration {bellman_iteration + 1}\")\n",
                "\n",
                "plt.legend()\n",
                "plt.xlabel(\"fitting step\")\n",
                "plt.ylabel(r\"$(\\Gamma^*Q_i - Q_{i +  1})^2$\")\n",
                "plt.title(\"Training losses\")\n",
                "plt.show()"
            ]
        },
        {
            "cell_type": "code",
            "execution_count": 6,
            "metadata": {},
            "outputs": [
                {
                    "name": "stdout",
                    "output_type": "stream",
                    "text": [
                        "[-0.5  0. ]\n",
                        "[0.14574909]\n",
                        "[0.07916451]\n",
                        "\n",
                        "[-0.5196691 -0.3866922]\n",
                        "[0.28718567]\n",
                        "[0.13193417]\n",
                        "\n",
                        "[-0.57458174 -0.69058496]\n",
                        "[0.37403107]\n",
                        "[0.15771961]\n",
                        "\n",
                        "[-0.6524237  -0.83584255]\n",
                        "[0.44891167]\n",
                        "[0.2568674]\n",
                        "\n",
                        "[-0.73584473 -0.8066418 ]\n",
                        "[0.5384903]\n",
                        "[0.46590614]\n",
                        "\n",
                        "[-0.80970716 -0.6561602 ]\n",
                        "[0.65133095]\n",
                        "[0.6975241]\n",
                        "\n",
                        "[-0.8379713   0.08472195]\n",
                        "[1.1751661]\n",
                        "[1.4421768]\n",
                        "\n",
                        "[-0.79239184  0.83640504]\n",
                        "[1.6387291]\n",
                        "[2.1696672]\n",
                        "\n",
                        "[-0.6681012  1.6570239]\n",
                        "[1.5453362]\n",
                        "[2.4723535]\n",
                        "\n",
                        "[-0.46682808  2.2751522 ]\n",
                        "[0.3974409]\n",
                        "[2.0570374]\n",
                        "\n",
                        "[-0.24085198  2.121697  ]\n",
                        "[1.3503857]\n",
                        "[3.8410726]\n",
                        "\n",
                        "[-0.05408749  1.6044002 ]\n",
                        "[2.1842976]\n",
                        "[4.0276837]\n",
                        "\n",
                        "[0.08628011 1.2741613 ]\n",
                        "[1.8574238]\n",
                        "[4.7152777]\n",
                        "\n",
                        "[0.2062369 1.1392648]\n",
                        "[2.1791286]\n",
                        "[7.1913586]\n",
                        "\n",
                        "[0.31660053 1.0807475 ]\n",
                        "[3.8138838]\n",
                        "[9.357697]\n",
                        "\n",
                        "[0.425263 1.10823 ]\n",
                        "[7.8691177]\n",
                        "[10.649012]\n",
                        "\n",
                        "[0.5414516 1.2311448]\n",
                        "[10.6478405]\n",
                        "[11.789333]\n",
                        "\n",
                        "[0.6743681 1.4400225]\n",
                        "[12.193687]\n",
                        "[13.029063]\n",
                        "\n",
                        "[0.8316725 1.7153956]\n",
                        "[12.795765]\n",
                        "[14.117152]\n",
                        "\n"
                    ]
                },
                {
                    "data": {
                        "text/plain": [
                            "DeviceArray([ True], dtype=bool)"
                        ]
                    },
                    "execution_count": 6,
                    "metadata": {},
                    "output_type": "execute_result"
                }
            ],
            "source": [
                "env.simulate(q_optimal, horizon, jnp.array([-0.5, 0]))"
            ]
        },
        {
            "cell_type": "code",
            "execution_count": 7,
            "metadata": {},
            "outputs": [
                {
                    "data": {
                        "image/png": "[encoded data removed]",
                        "text/plain": [
                            "<Figure size 432x288 with 2 Axes>"
                        ]
                    },
                    "metadata": {
                        "needs_background": "light"
                    },
                    "output_type": "display_data"
                }
            ],
            "source": [
                "optimal_diff_q = env.diff_q_mesh(q_optimal, states_x, states_v)\n",
                "\n",
                "q_visu_mesh = TwoDimesionsMesh(states_x, states_v, sleeping_time=0, axis_equal=False, zero_centered=True)\n",
                "\n",
                "q_visu_mesh.set_values(optimal_diff_q)\n",
                "q_visu_mesh.show(\"Optimal Q differences\", xlabel=\"x\", ylabel=\"v\")"
            ]
        },
        {
            "cell_type": "code",
            "execution_count": 8,
            "metadata": {},
            "outputs": [
                {
                    "data": {
                        "image/png": "[encoded data removed]",
                        "text/plain": [
                            "<Figure size 432x288 with 2 Axes>"
                        ]
                    },
                    "metadata": {
                        "needs_background": "light"
                    },
                    "output_type": "display_data"
                }
            ],
            "source": [
                "q_visu_mesh.set_values((optimal_diff_q > 0).astype(float))\n",
                "q_visu_mesh.show(\"Optimal Q policy\", xlabel=\"x\", ylabel=\"v\")"
            ]
        },
        {
            "cell_type": "markdown",
            "metadata": {},
            "source": [
                "## Train Q with Fitted-Q"
            ]
        },
        {
            "cell_type": "code",
            "execution_count": 9,
            "metadata": {},
            "outputs": [
                {
                    "data": {
                        "image/png": "[encoded data removed]",
                        "text/plain": [
                            "<Figure size 432x288 with 2 Axes>"
                        ]
                    },
                    "metadata": {
                        "needs_background": "light"
                    },
                    "output_type": "display_data"
                },
                {
                    "data": {
                        "image/png": "[encoded data removed]",
                        "text/plain": [
                            "<Figure size 432x288 with 1 Axes>"
                        ]
                    },
                    "metadata": {
                        "needs_background": "light"
                    },
                    "output_type": "display_data"
                }
            ],
            "source": [
                "import matplotlib.pyplot as plt \n",
                "from tqdm.notebook import tqdm\n",
                "\n",
                "from pbo.sample_collection.dataloader import SampleDataLoader\n",
                "from pbo.networks.learnable_q import FullyConnectedQ\n",
                "\n",
                "\n",
                "data_loader_samples = SampleDataLoader(replay_buffer, batch_size_samples, shuffle_key)\n",
                "q = FullyConnectedQ(\n",
                "    state_dim=2,\n",
                "    action_dim=1,\n",
                "    continuous_actions=False,\n",
                "    n_actions_on_max=n_actions,\n",
                "    action_range_on_max=None,\n",
                "    gamma=gamma,\n",
                "    network_key=q_network_key,\n",
                "    random_weights_range=None,\n",
                "    random_weights_key=random_weights_key,\n",
                "    learning_rate=learning_rate_q,\n",
                "    layers_dimension=layers_dimension,\n",
                "    zero_initializer=True,\n",
                ")\n",
                "\n",
                "l2_losses = np.zeros((max_bellman_iterations, fitting_steps_q))\n",
                "\n",
                "for bellman_iteration in range(max_bellman_iterations):\n",
                "    params_target = q.params\n",
                "\n",
                "    for step in range(fitting_steps_q):\n",
                "        cumulative_l2_loss = 0\n",
                "        \n",
                "        data_loader_samples.shuffle()\n",
                "        for batch_samples in data_loader_samples:\n",
                "            q.params, q.optimizer_state, l2_loss = q.learn_on_batch(q.params, params_target, q.optimizer_state, batch_samples)\n",
                "            cumulative_l2_loss += l2_loss\n",
                "\n",
                "        l2_losses[bellman_iteration, step] = cumulative_l2_loss\n",
                "\n",
                "    diff_q = env.diff_q_mesh(q, states_x, states_v)\n",
                "\n",
                "    q_visu_mesh.set_values(diff_q)\n",
                "    q_visu_mesh.show(f\"Q differences, \\nl2 loss: {str(jnp.round(cumulative_l2_loss, 3))}, iteration {bellman_iteration + 1}\", xlabel=\"x\", ylabel=\"v\")\n",
                "\n",
                "\n",
                "\n",
                "for bellman_iteration in range(max_bellman_iterations):\n",
                "    plt.plot(l2_losses[bellman_iteration], label=f\"Iteration {bellman_iteration + 1}\")\n",
                "\n",
                "plt.legend()\n",
                "plt.xlabel(\"fitting step\")\n",
                "plt.ylabel(r\"$(\\Gamma^*Q_i - Q_{i +  1})^2$\")\n",
                "plt.title(\"Training losses\")\n",
                "plt.show()"
            ]
        },
        {
            "cell_type": "code",
            "execution_count": 10,
            "metadata": {},
            "outputs": [
                {
                    "data": {
                        "image/png": "[encoded data removed]",
                        "text/plain": [
                            "<Figure size 432x288 with 2 Axes>"
                        ]
                    },
                    "metadata": {
                        "needs_background": "light"
                    },
                    "output_type": "display_data"
                }
            ],
            "source": [
                "diff_q = env.diff_q_mesh(q, states_x, states_v)\n",
                "\n",
                "q_visu_mesh.set_values((diff_q > 0).astype(float))\n",
                "q_visu_mesh.show(\"Q policy\", xlabel=\"x\", ylabel=\"v\")"
            ]
        },
        {
            "cell_type": "code",
            "execution_count": 11,
            "metadata": {},
            "outputs": [
                {
                    "data": {
                        "image/png": "[encoded data removed]",
                        "text/plain": [
                            "<Figure size 432x288 with 2 Axes>"
                        ]
                    },
                    "metadata": {
                        "needs_background": "light"
                    },
                    "output_type": "display_data"
                }
            ],
            "source": [
                "q_visu_mesh.set_values(optimal_diff_q - diff_q)\n",
                "q_visu_mesh.show(f\"Optimal Q differences - Q differences,\\nIf high, Q should go more confident to go to the right.\", xlabel=\"x\", ylabel=\"v\")"
            ]
        },
        {
            "cell_type": "code",
            "execution_count": 12,
            "metadata": {},
            "outputs": [
                {
                    "name": "stdout",
                    "output_type": "stream",
                    "text": [
                        "[-0.5  0. ]\n",
                        "[0.36572057]\n",
                        "[0.35640174]\n",
                        "\n",
                        "[-0.5196691 -0.3866922]\n",
                        "[0.30050665]\n",
                        "[0.3679468]\n",
                        "\n",
                        "[-0.5355568   0.07360952]\n",
                        "[0.38094777]\n",
                        "[0.3836828]\n",
                        "\n",
                        "[-0.5053787  0.5206502]\n",
                        "[0.3123265]\n",
                        "[0.23329002]\n",
                        "\n",
                        "[-0.47415787  0.09371723]\n",
                        "[0.35203284]\n",
                        "[0.306516]\n",
                        "\n",
                        "[-0.4872082 -0.3507429]\n",
                        "[0.31387]\n",
                        "[0.36633414]\n",
                        "\n",
                        "[-0.50271744  0.04574394]\n",
                        "[0.36838275]\n",
                        "[0.35195476]\n",
                        "\n",
                        "[-0.51769924 -0.3402948 ]\n",
                        "[0.31229073]\n",
                        "[0.3739547]\n",
                        "\n",
                        "[-0.52928126  0.11211871]\n",
                        "[0.38112396]\n",
                        "[0.37194246]\n",
                        "\n",
                        "[-0.5352233  -0.22884539]\n",
                        "[0.33407778]\n",
                        "[0.3882094]\n",
                        "\n",
                        "[-0.5344211   0.24466373]\n",
                        "[0.3844884]\n",
                        "[0.3560992]\n",
                        "\n",
                        "[-0.5270286  -0.09943872]\n",
                        "[0.35963517]\n",
                        "[0.3881889]\n",
                        "\n",
                        "[-0.51442367  0.34771731]\n",
                        "[0.35823137]\n",
                        "[0.3004442]\n",
                        "\n",
                        "[-0.4990467  -0.04534642]\n",
                        "[0.36260813]\n",
                        "[0.36179525]\n",
                        "\n",
                        "[-0.5231919  -0.42928585]\n",
                        "[0.2889126]\n",
                        "[0.3607009]\n",
                        "\n",
                        "[-0.54287356  0.04130004]\n",
                        "[0.3794257]\n",
                        "[0.39366227]\n",
                        "\n",
                        "[-0.5151656  0.5046774]\n",
                        "[0.3302284]\n",
                        "[0.25708884]\n",
                        "\n",
                        "[-0.484523  0.09796 ]\n",
                        "[0.35836965]\n",
                        "[0.319094]\n",
                        "\n",
                        "[-0.4961961 -0.327719 ]\n",
                        "[0.3183654]\n",
                        "[0.37040704]\n",
                        "\n",
                        "[-0.50860053  0.08367193]\n",
                        "[0.37159246]\n",
                        "[0.3521697]\n",
                        "\n",
                        "[-0.51934063 -0.29479823]\n",
                        "[0.3225984]\n",
                        "[0.3788553]\n",
                        "\n",
                        "[-0.526368    0.15635528]\n",
                        "[0.38079613]\n",
                        "[0.36137336]\n",
                        "\n",
                        "[-0.5283249  -0.19480309]\n",
                        "[0.3424812]\n",
                        "[0.38805324]\n",
                        "\n",
                        "[-0.5248449  0.2633799]\n",
                        "[0.37656814]\n",
                        "[0.33802122]\n",
                        "\n",
                        "[-0.51659924 -0.10133414]\n",
                        "[0.35912746]\n",
                        "[0.38121766]\n",
                        "\n",
                        "[-0.5051474  0.3267561]\n",
                        "[0.3516435]\n",
                        "[0.29047328]\n",
                        "\n",
                        "[-0.49270597 -0.08199967]\n",
                        "[0.3581044]\n",
                        "[0.36055475]\n",
                        "\n",
                        "[-0.4816763   0.29882926]\n",
                        "[0.33162206]\n",
                        "[0.25934857]\n",
                        "\n",
                        "[-0.4741647  -0.15085463]\n",
                        "[0.3476078]\n",
                        "[0.35298032]\n",
                        "\n",
                        "[-0.47162285  0.20079608]\n",
                        "[0.33833832]\n",
                        "[0.27317327]\n",
                        "\n",
                        "[-0.47452685 -0.2580241 ]\n",
                        "[0.3327493]\n",
                        "[0.36158818]\n",
                        "\n",
                        "[-0.4823167   0.10494062]\n",
                        "[0.356597]\n",
                        "[0.31452173]\n",
                        "\n",
                        "[-0.49352092 -0.32550558]\n",
                        "[0.31909388]\n",
                        "[0.36969823]\n",
                        "\n",
                        "[-0.50597066  0.08060393]\n",
                        "[0.37035257]\n",
                        "[0.34958416]\n",
                        "\n",
                        "[-0.51726454 -0.3026408 ]\n",
                        "[0.32118803]\n",
                        "[0.37771255]\n",
                        "\n",
                        "[-0.5252433   0.14547364]\n",
                        "[0.3801468]\n",
                        "[0.36181074]\n",
                        "\n",
                        "[-0.52836436 -0.20679665]\n",
                        "[0.3400485]\n",
                        "[0.3875187]\n",
                        "\n",
                        "[-0.52604294  0.2525446 ]\n",
                        "[0.37814695]\n",
                        "[0.3421914]\n",
                        "\n",
                        "[-0.51872665 -0.1087713 ]\n",
                        "[0.358141]\n",
                        "[0.38301498]\n",
                        "\n",
                        "[-0.5077959   0.32397038]\n",
                        "[0.35478133]\n",
                        "[0.2956875]\n",
                        "\n",
                        "[-0.49536654 -0.07948819]\n",
                        "[0.35889882]\n",
                        "[0.36259657]\n",
                        "\n",
                        "[-0.4838343   0.30622345]\n",
                        "[0.33254832]\n",
                        "[0.2606755]\n",
                        "\n",
                        "[-0.4754067  -0.14022481]\n",
                        "[0.34894508]\n",
                        "[0.35274452]\n",
                        "\n",
                        "[-0.47171342  0.21279106]\n",
                        "[0.33659083]\n",
                        "[0.26970667]\n",
                        "\n",
                        "[-0.47344697 -0.24695432]\n",
                        "[0.33453768]\n",
                        "[0.36046046]\n",
                        "\n",
                        "[-0.4802731   0.11281714]\n",
                        "[0.35474735]\n",
                        "[0.30984873]\n",
                        "\n",
                        "[-0.49090534 -0.32215452]\n",
                        "[0.32002681]\n",
                        "[0.36898738]\n",
                        "\n",
                        "[-0.5032856  0.0786549]\n",
                        "[0.36908]\n",
                        "[0.34672743]\n",
                        "\n",
                        "[-0.51502967 -0.30956855]\n",
                        "[0.3199939]\n",
                        "[0.3766188]\n",
                        "\n",
                        "[-0.52388686  0.13511997]\n",
                        "[0.3793679]\n",
                        "[0.36186582]\n",
                        "\n",
                        "[-0.52814394 -0.21876553]\n",
                        "[0.3376096]\n",
                        "[0.3867995]\n",
                        "\n",
                        "[-0.5270022   0.24126622]\n",
                        "[0.37942904]\n",
                        "[0.34600097]\n",
                        "\n",
                        "[-0.52068174 -0.11706895]\n",
                        "[0.35691673]\n",
                        "[0.3845845]\n",
                        "\n",
                        "[-0.51037246  0.32006237]\n",
                        "[0.35792845]\n",
                        "[0.30104238]\n",
                        "\n",
                        "[-0.49806982 -0.07810608]\n",
                        "[0.3595752]\n",
                        "[0.3647923]\n",
                        "\n",
                        "[-0.48614094  0.31266794]\n",
                        "[0.33383423]\n",
                        "[0.26257437]\n",
                        "\n",
                        "[-0.4768745  -0.13017075]\n",
                        "[0.3502336]\n",
                        "[0.35274798]\n",
                        "\n",
                        "[-0.47206324  0.22470659]\n",
                        "[0.33501107]\n",
                        "[0.2666301]\n",
                        "\n",
                        "[-0.47261056 -0.23549327]\n",
                        "[0.33630675]\n",
                        "[0.35931653]\n",
                        "\n",
                        "[-0.478411    0.12151725]\n",
                        "[0.35282546]\n",
                        "[0.30511206]\n",
                        "\n",
                        "[-0.48837358 -0.31769902]\n",
                        "[0.3211468]\n",
                        "[0.36825866]\n",
                        "\n",
                        "[-0.50057024  0.07784287]\n",
                        "[0.36777073]\n",
                        "[0.3436082]\n",
                        "\n",
                        "[-0.5126565 -0.3155144]\n",
                        "[0.3190269]\n",
                        "[0.37558323]\n",
                        "\n",
                        "[-0.52231103  0.12538797]\n",
                        "[0.37848216]\n",
                        "[0.36155206]\n",
                        "\n",
                        "[-0.5276656  -0.23060088]\n",
                        "[0.33519822]\n",
                        "[0.38592583]\n",
                        "\n",
                        "[-0.52771395  0.22964881]\n",
                        "[0.38041693]\n",
                        "[0.349423]\n",
                        "\n",
                        "[-0.5224467  -0.12615158]\n",
                        "[0.35546154]\n",
                        "[0.385902]\n",
                        "\n",
                        "[-0.5128536   0.31507057]\n",
                        "[0.36103147]\n",
                        "[0.30647308]\n",
                        "\n",
                        "[-0.50079095 -0.07786565]\n",
                        "[0.36011165]\n",
                        "[0.36709958]\n",
                        "\n",
                        "[-0.48857513  0.31810096]\n",
                        "[0.3354686]\n",
                        "[0.26502806]\n",
                        "\n"
                    ]
                },
                {
                    "data": {
                        "text/plain": [
                            "DeviceArray([False], dtype=bool)"
                        ]
                    },
                    "execution_count": 12,
                    "metadata": {},
                    "output_type": "execute_result"
                }
            ],
            "source": [
                "env.simulate(q, horizon, jnp.array([-0.5, 0]))"
            ]
        },
        {
            "cell_type": "markdown",
            "metadata": {},
            "source": [
                "## Collect weights"
            ]
        },
        {
            "cell_type": "code",
            "execution_count": 13,
            "metadata": {},
            "outputs": [],
            "source": [
                "from pbo.weights_collection.weights_buffer import WeightsBuffer\n",
                "\n",
                "\n",
                "weights_buffer = WeightsBuffer()\n",
                "\n",
                "# Add initial validation weights\n",
                "validation_initial_weight = q.to_weights(q.params) * 0\n",
                "weights_buffer.add(validation_initial_weight)\n",
                "\n",
                "# Add randow weights\n",
                "q_pbo = FullyConnectedQ(\n",
                "    state_dim=2,\n",
                "    action_dim=1,\n",
                "    continuous_actions=False,\n",
                "    n_actions_on_max=n_actions,\n",
                "    action_range_on_max=None,\n",
                "    gamma=gamma,\n",
                "    network_key=q_network_key,\n",
                "    random_weights_range=None,\n",
                "    random_weights_key=random_weights_key,\n",
                "    learning_rate=None,\n",
                "    layers_dimension=layers_dimension,\n",
                "    zero_initializer=False,\n",
                ")\n",
                "\n",
                "while len(weights_buffer) < n_weights:\n",
                "    weights = q_pbo.random_init_weights()\n",
                "    weights_buffer.add(weights)\n",
                "\n",
                "weights_buffer.cast_to_jax_array()"
            ]
        },
        {
            "cell_type": "markdown",
            "metadata": {},
            "source": [
                "## Train linear PBO"
            ]
        },
        {
            "cell_type": "code",
            "execution_count": 19,
            "metadata": {},
            "outputs": [
                {
                    "data": {
                        "image/png": "[encoded data removed]",
                        "text/plain": [
                            "<Figure size 432x288 with 2 Axes>"
                        ]
                    },
                    "metadata": {
                        "needs_background": "light"
                    },
                    "output_type": "display_data"
                },
                {
                    "data": {
                        "image/png": "[encoded data removed]",
                        "text/plain": [
                            "<Figure size 432x288 with 1 Axes>"
                        ]
                    },
                    "metadata": {
                        "needs_background": "light"
                    },
                    "output_type": "display_data"
                }
            ],
            "source": [
                "from tqdm.notebook import tqdm\n",
                "\n",
                "from pbo.sample_collection.dataloader import SampleDataLoader\n",
                "from pbo.weights_collection.dataloader import WeightsDataLoader\n",
                "from pbo.networks.learnable_pbo import LinearPBO\n",
                "\n",
                "\n",
                "data_loader_samples = SampleDataLoader(replay_buffer, batch_size_samples, shuffle_key)\n",
                "data_loader_weights = WeightsDataLoader(weights_buffer, batch_size_weights, shuffle_key)\n",
                "pbo = LinearPBO(q_pbo, max_bellman_iterations, True, pbo_network_key, learning_rate)  # add_infinity == True\n",
                "importance_iteration = jnp.ones(max_bellman_iterations + 1)\n",
                "\n",
                "l2_losses = np.ones((training_steps, fitting_steps)) * np.nan\n",
                "\n",
                "for training_step in range(training_steps):\n",
                "    params_target = pbo.params\n",
                "    # pbo.reset_optimizer()\n",
                "\n",
                "    for fitting_step in range(fitting_steps):\n",
                "        cumulative_l2_loss = 0\n",
                "\n",
                "        data_loader_weights.shuffle()\n",
                "        for batch_weights in data_loader_weights:\n",
                "            data_loader_samples.shuffle()\n",
                "            for batch_samples in data_loader_samples:\n",
                "                pbo.params, pbo.optimizer_state, l2_loss = pbo.learn_on_batch(\n",
                "                    pbo.params, params_target, pbo.optimizer_state, batch_weights, batch_samples, importance_iteration\n",
                "                )\n",
                "                cumulative_l2_loss += l2_loss\n",
                "        \n",
                "        l2_losses[training_step, fitting_step] = cumulative_l2_loss\n",
                "\n",
                "    q_weight = validation_initial_weight\n",
                "    for _ in range(max_bellman_iterations + 100):\n",
                "        q_weight = pbo(pbo.params, q_weight)\n",
                "    q_pbo.params = q.to_params(q_weight)\n",
                "    diff_q_pbo = env.diff_q_mesh(q_pbo, states_x, states_v)\n",
                "\n",
                "    q_visu_mesh.set_values(diff_q_pbo)\n",
                "    q_visu_mesh.show(f\"Q differences, \\nl2 loss: {str(jnp.round(cumulative_l2_loss, 3))}, training step {training_step + 1}\", xlabel=\"x\", ylabel=\"v\")\n",
                "\n",
                "\n",
                "for training_step in range(0, training_steps, 10):\n",
                "    plt.plot(l2_losses[training_step], label=f\"Training step {training_step + 1}\")\n",
                "\n",
                "plt.legend()\n",
                "plt.xlabel(\"fitting step\")\n",
                "plt.ylabel(r\"$\\sum_{k} \\left(\\Gamma^*Q_{\\Gamma_{\\phi_i}^k(w)} - Q_{\\Gamma_{\\phi_{i + 1}}^{k + 1}(w)} \\right)^2$\")\n",
                "plt.title(\"Training losses\")\n",
                "plt.show()"
            ]
        },
        {
            "cell_type": "code",
            "execution_count": 20,
            "metadata": {},
            "outputs": [
                {
                    "data": {
                        "image/png": "[encoded data removed]",
                        "text/plain": [
                            "<Figure size 432x288 with 2 Axes>"
                        ]
                    },
                    "metadata": {
                        "needs_background": "light"
                    },
                    "output_type": "display_data"
                }
            ],
            "source": [
                "test_bellman_iterations = max_bellman_iterations + 1000\n",
                "\n",
                "q_weight = validation_initial_weight\n",
                "for _ in range(test_bellman_iterations):\n",
                "    q_weight = pbo(pbo.params, q_weight)\n",
                "q_pbo.params = q_pbo.to_params(q_weight)\n",
                "\n",
                "q_pbo.params = q_pbo.to_params(pbo.fixed_point(pbo.params))\n",
                "\n",
                "diff_q_pbo = env.diff_q_mesh(q_pbo, states_x, states_v)\n",
                "\n",
                "q_visu_mesh = TwoDimesionsMesh(states_x, states_v, sleeping_time=0, axis_equal=False, zero_centered=True)\n",
                "\n",
                "q_visu_mesh.set_values(diff_q_pbo)\n",
                "q_visu_mesh.show(f\"Q policy, {test_bellman_iterations} iterations\", xlabel=\"x\", ylabel=\"v\")"
            ]
        },
        {
            "cell_type": "code",
            "execution_count": 21,
            "metadata": {},
            "outputs": [
                {
                    "data": {
                        "image/png": "[encoded data removed]",
                        "text/plain": [
                            "<Figure size 432x288 with 2 Axes>"
                        ]
                    },
                    "metadata": {
                        "needs_background": "light"
                    },
                    "output_type": "display_data"
                }
            ],
            "source": [
                "q_visu_mesh.set_values((diff_q_pbo > 0).astype(float))\n",
                "q_visu_mesh.show(f\"Q policy, {test_bellman_iterations} iterations\", xlabel=\"x\", ylabel=\"v\")"
            ]
        },
        {
            "cell_type": "code",
            "execution_count": 22,
            "metadata": {},
            "outputs": [
                {
                    "data": {
                        "image/png": "[encoded data removed]",
                        "text/plain": [
                            "<Figure size 432x288 with 2 Axes>"
                        ]
                    },
                    "metadata": {
                        "needs_background": "light"
                    },
                    "output_type": "display_data"
                }
            ],
            "source": [
                "q_visu_mesh.set_values(optimal_diff_q - diff_q_pbo)\n",
                "q_visu_mesh.show(f\"Optimal Q differences - Q differences,\\nIf high, Q should go more confident to go to the right.\\n{test_bellman_iterations} iterations\", xlabel=\"x\", ylabel=\"v\")"
            ]
        },
        {
            "cell_type": "code",
            "execution_count": 23,
            "metadata": {},
            "outputs": [
                {
                    "name": "stdout",
                    "output_type": "stream",
                    "text": [
                        "[-0.5  0. ]\n",
                        "[0.5662705]\n",
                        "[0.4264123]\n",
                        "\n",
                        "[-0.5196691 -0.3866922]\n",
                        "[0.4364527]\n",
                        "[0.41885173]\n",
                        "\n",
                        "[-0.57458174 -0.69058496]\n",
                        "[0.3857098]\n",
                        "[0.44903153]\n",
                        "\n",
                        "[-0.6150591  -0.11151298]\n",
                        "[0.54026914]\n",
                        "[0.5061749]\n",
                        "\n",
                        "[-0.63391644 -0.25889763]\n",
                        "[0.49053442]\n",
                        "[0.5180204]\n",
                        "\n",
                        "[-0.6286202   0.36428759]\n",
                        "[0.63537425]\n",
                        "[0.5746244]\n",
                        "\n",
                        "[-0.5999781   0.19810008]\n",
                        "[0.62309635]\n",
                        "[0.5272213]\n",
                        "\n",
                        "[-0.59043485 -0.01075097]\n",
                        "[0.57290125]\n",
                        "[0.49253184]\n",
                        "\n",
                        "[-0.60205024 -0.21727782]\n",
                        "[0.50200504]\n",
                        "[0.48993406]\n",
                        "\n",
                        "[-0.6323185  -0.37707025]\n",
                        "[0.45541155]\n",
                        "[0.51430833]\n",
                        "\n",
                        "[-0.6386382   0.25126037]\n",
                        "[0.632136]\n",
                        "[0.5688094]\n",
                        "\n",
                        "[-0.6200628   0.11366919]\n",
                        "[0.60919684]\n",
                        "[0.53253204]\n",
                        "\n",
                        "[-0.61670476 -0.04771309]\n",
                        "[0.5624944]\n",
                        "[0.5120505]\n",
                        "\n",
                        "[-0.6292682  -0.19906881]\n",
                        "[0.5103172]\n",
                        "[0.5152865]\n",
                        "\n",
                        "[-0.61839825  0.4151988 ]\n",
                        "[0.6326606]\n",
                        "[0.57080626]\n",
                        "\n",
                        "[-0.58580637  0.22453456]\n",
                        "[0.6250885]\n",
                        "[0.51947397]\n",
                        "\n",
                        "[-0.5751363  -0.01508794]\n",
                        "[0.5702692]\n",
                        "[0.47952402]\n",
                        "\n",
                        "[-0.5887138 -0.2514252]\n",
                        "[0.48910737]\n",
                        "[0.47730976]\n",
                        "\n",
                        "[-0.62357926 -0.43296173]\n",
                        "[0.4404774]\n",
                        "[0.50497663]\n",
                        "\n",
                        "[-0.6358487  0.1888592]\n",
                        "[0.6243974]\n",
                        "[0.5572285]\n",
                        "\n",
                        "[-0.6236349   0.05110598]\n",
                        "[0.5936123]\n",
                        "[0.52791905]\n",
                        "\n",
                        "[-0.6259849  -0.09727082]\n",
                        "[0.5459186]\n",
                        "[0.51697004]\n",
                        "\n",
                        "[-0.64241105 -0.22549418]\n",
                        "[0.5021223]\n",
                        "[0.52697]\n",
                        "\n",
                        "[-0.63335186  0.40588462]\n",
                        "[0.63451463]\n",
                        "[0.58322096]\n",
                        "\n",
                        "[-0.6001504   0.24602228]\n",
                        "[0.6285937]\n",
                        "[0.5343979]\n",
                        "\n",
                        "[-0.5859335   0.03306315]\n",
                        "[0.5859321]\n",
                        "[0.49338883]\n",
                        "\n",
                        "[-0.5937785  -0.18706481]\n",
                        "[0.5118616]\n",
                        "[0.48376417]\n",
                        "\n",
                        "[-0.62198544 -0.3666985 ]\n",
                        "[0.45715308]\n",
                        "[0.504776]\n",
                        "\n",
                        "[-0.6279221   0.24864255]\n",
                        "[0.63112986]\n",
                        "[0.55876815]\n",
                        "\n",
                        "[-0.6106591   0.09040418]\n",
                        "[0.60312116]\n",
                        "[0.5212405]\n",
                        "\n",
                        "[-0.6104859  -0.08700329]\n",
                        "[0.548605]\n",
                        "[0.5036195]\n",
                        "\n",
                        "[-0.62743926 -0.24595979]\n",
                        "[0.49430722]\n",
                        "[0.51222587]\n",
                        "\n",
                        "[-0.6212701   0.36863112]\n",
                        "[0.63464063]\n",
                        "[0.56860757]\n",
                        "\n",
                        "[-0.59294665  0.18741071]\n",
                        "[0.6209469]\n",
                        "[0.5198092]\n",
                        "\n",
                        "[-0.58515245 -0.0344062 ]\n",
                        "[0.56478643]\n",
                        "[0.4859321]\n",
                        "\n",
                        "[-0.59957737 -0.24875978]\n",
                        "[0.49106205]\n",
                        "[0.48684222]\n",
                        "\n",
                        "[-0.6330972  -0.40938723]\n",
                        "[0.44723165]\n",
                        "[0.514446]\n",
                        "\n",
                        "[-0.64251125  0.2219316 ]\n",
                        "[0.62931806]\n",
                        "[0.56812245]\n",
                        "\n",
                        "[-0.6264233   0.09419178]\n",
                        "[0.6050248]\n",
                        "[0.5356608]\n",
                        "\n",
                        "[-0.6243289  -0.05304737]\n",
                        "[0.5611126]\n",
                        "[0.518523]\n",
                        "\n",
                        "[-0.63666224 -0.1892719 ]\n",
                        "[0.5141545]\n",
                        "[0.5225891]\n",
                        "\n",
                        "[-0.624385    0.43355116]\n",
                        "[0.6321505]\n",
                        "[0.5776495]\n",
                        "\n",
                        "[-0.58937913  0.25360113]\n",
                        "[0.62822413]\n",
                        "[0.5266175]\n",
                        "\n",
                        "[-0.5755223   0.01839435]\n",
                        "[0.58072954]\n",
                        "[0.4832876]\n",
                        "\n",
                        "[-0.58583456 -0.22081737]\n",
                        "[0.4992932]\n",
                        "[0.47574365]\n",
                        "\n",
                        "[-0.61806846 -0.41189092]\n",
                        "[0.44492716]\n",
                        "[0.5002997]\n",
                        "\n",
                        "[-0.6286385   0.20173389]\n",
                        "[0.62580025]\n",
                        "[0.5525886]\n",
                        "\n",
                        "[-0.6158775   0.04892232]\n",
                        "[0.5925517]\n",
                        "[0.52075684]\n",
                        "\n",
                        "[-0.6192002  -0.11418238]\n",
                        "[0.53957814]\n",
                        "[0.509765]\n",
                        "\n",
                        "[-0.63790894 -0.25335604]\n",
                        "[0.49261513]\n",
                        "[0.5219498]\n",
                        "\n",
                        "[-0.63183653  0.37423587]\n",
                        "[0.63546926]\n",
                        "[0.57861376]\n",
                        "\n",
                        "[-0.60189486  0.21369685]\n",
                        "[0.6253023]\n",
                        "[0.5311258]\n",
                        "\n",
                        "[-0.5906431   0.00719373]\n",
                        "[0.5785512]\n",
                        "[0.49450123]\n",
                        "\n",
                        "[-0.60050833 -0.20086432]\n",
                        "[0.50758]\n",
                        "[0.4891225]\n",
                        "\n",
                        "[-0.6293618  -0.36568135]\n",
                        "[0.45817572]\n",
                        "[0.5117078]\n",
                        "\n",
                        "[-0.6347492   0.25846976]\n",
                        "[0.63248205]\n",
                        "[0.5663084]\n",
                        "\n",
                        "[-0.6158515   0.11274194]\n",
                        "[0.6087166]\n",
                        "[0.5286983]\n",
                        "\n",
                        "[-0.61299956 -0.05673288]\n",
                        "[0.5592186]\n",
                        "[0.5080331]\n",
                        "\n",
                        "[-0.626795   -0.21422186]\n",
                        "[0.5049466]\n",
                        "[0.51249576]\n",
                        "\n",
                        "[-0.6175618   0.39777717]\n",
                        "[0.6334063]\n",
                        "[0.5684303]\n",
                        "\n",
                        "[-0.58676255  0.2067887 ]\n",
                        "[0.62306404]\n",
                        "[0.5176227]\n",
                        "\n",
                        "[-0.5777168  -0.02922466]\n",
                        "[0.565888]\n",
                        "[0.48028356]\n",
                        "\n",
                        "[-0.5923942  -0.25887874]\n",
                        "[0.48698416]\n",
                        "[0.48029667]\n",
                        "\n",
                        "[-0.6275995  -0.43223375]\n",
                        "[0.44112134]\n",
                        "[0.5087645]\n",
                        "\n",
                        "[-0.6395547   0.19428678]\n",
                        "[0.6254399]\n",
                        "[0.5613981]\n",
                        "\n",
                        "[-0.6264512  0.0631844]\n",
                        "[0.5970775]\n",
                        "[0.531865]\n",
                        "\n",
                        "[-0.6273576  -0.08099113]\n",
                        "[0.55167425]\n",
                        "[0.5192824]\n",
                        "\n",
                        "[-0.64208645 -0.20843154]\n",
                        "[0.5078762]\n",
                        "[0.52714795]\n",
                        "\n",
                        "[-0.6313728   0.42173928]\n",
                        "[0.633522]\n",
                        "[0.5828883]\n",
                        "\n",
                        "[-0.59681416  0.25675336]\n",
                        "[0.6291938]\n",
                        "[0.53317434]\n",
                        "\n"
                    ]
                },
                {
                    "data": {
                        "text/plain": [
                            "DeviceArray([False], dtype=bool)"
                        ]
                    },
                    "execution_count": 23,
                    "metadata": {},
                    "output_type": "execute_result"
                }
            ],
            "source": [
                "q_weight = validation_initial_weight\n",
                "for _ in range(test_bellman_iterations):\n",
                "    q_weight = pbo(pbo.params, q_weight)\n",
                "q_pbo.params = q_pbo.to_params(q_weight)\n",
                "\n",
                "q_pbo.params = q_pbo.to_params(pbo.fixed_point(pbo.params))\n",
                "\n",
                "\n",
                "env.simulate(q_pbo, horizon, jnp.array([-0.5, 0]))"
            ]
        }
    ],
    "metadata": {
        "interpreter": {
            "hash": "1432d270abb514d077d760a4c8d2edd41cc0752b595b0513fca29951003961c1"
        },
        "kernelspec": {
            "display_name": "Python 3.8.10 ('env': venv)",
            "language": "python",
            "name": "python3"
        },
        "language_info": {
            "codemirror_mode": {
                "name": "ipython",
                "version": 3
            },
            "file_extension": ".py",
            "mimetype": "text/x-python",
            "name": "python",
            "nbconvert_exporter": "python",
            "pygments_lexer": "ipython3",
            "version": "3.8.10"
        },
        "orig_nbformat": 4
    },
    "nbformat": 4,
    "nbformat_minor": 2
}
