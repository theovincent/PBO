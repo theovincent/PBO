{
 "cells": [
  {
   "cell_type": "code",
   "execution_count": 53,
   "metadata": {},
   "outputs": [
    {
     "name": "stdout",
     "output_type": "stream",
     "text": [
      "Parameter containing:\n",
      "tensor([[-0., 0.],\n",
      "        [0., 0.],\n",
      "        [-0., 0.]], requires_grad=True)\n",
      "Parameter containing:\n",
      "tensor([-100000.,      -0.,      -0.], requires_grad=True)\n",
      "Parameter containing:\n",
      "tensor([[0., -0., 0.]], requires_grad=True)\n",
      "Parameter containing:\n",
      "tensor([9999.], requires_grad=True)\n"
     ]
    }
   ],
   "source": [
    "import numpy as np\n",
    "import torch\n",
    "import torch.optim as optim\n",
    "\n",
    "from pbo.agents.q_networks import QFullyConnectedNet\n",
    "\n",
    "layer_dimension = 3\n",
    "random_weights_range = 10\n",
    "gamma = 0.99\n",
    "\n",
    "Q_network = QFullyConnectedNet(\n",
    "    layer_dimension=layer_dimension,\n",
    "    random_weights_range=random_weights_range,\n",
    "    max_action=10,\n",
    "    n_discrete_actions=100,\n",
    ")\n",
    "\n",
    "optimizer = optim.SGD(Q_network.parameters(), lr=1, momentum=0.9)\n",
    "\n",
    "weights = Q_network.get_random_weights() * 0\n",
    "weights[6] = -100000\n",
    "weights[-1] = 10000\n",
    "Q_network.set_weights(weights)\n",
    "\n",
    "\n",
    "optimizer.zero_grad()\n",
    "\n",
    "loss = Q_network(torch.Tensor([1]), torch.Tensor([1]))\n",
    "loss.backward()\n",
    "\n",
    "optimizer.step()\n",
    "\n",
    "for i in Q_network.parameters():\n",
    "    print(i)"
   ]
  },
  {
   "cell_type": "code",
   "execution_count": 55,
   "metadata": {},
   "outputs": [
    {
     "data": {
      "text/plain": [
       "Parameter containing:\n",
       "tensor([9999.], requires_grad=True)"
      ]
     },
     "execution_count": 55,
     "metadata": {},
     "output_type": "execute_result"
    }
   ],
   "source": [
    "Q_network.network.linear_2.bias"
   ]
  },
  {
   "cell_type": "code",
   "execution_count": 54,
   "metadata": {},
   "outputs": [
    {
     "data": {
      "text/plain": [
       "tensor([9999.], grad_fn=<AddBackward0>)"
      ]
     },
     "execution_count": 54,
     "metadata": {},
     "output_type": "execute_result"
    }
   ],
   "source": [
    "Q_network(torch.Tensor([1]), torch.Tensor([1]))"
   ]
  },
  {
   "cell_type": "code",
   "execution_count": 52,
   "metadata": {},
   "outputs": [
    {
     "data": {
      "text/plain": [
       "[{'params': [Parameter containing:\n",
       "   tensor([[0., -0.],\n",
       "           [0., 0.],\n",
       "           [0., 0.]], requires_grad=True),\n",
       "   Parameter containing:\n",
       "   tensor([-100000.,       0.,       0.], requires_grad=True),\n",
       "   Parameter containing:\n",
       "   tensor([[0., 0., -0.]], requires_grad=True),\n",
       "   Parameter containing:\n",
       "   tensor([99.], requires_grad=True)],\n",
       "  'lr': 1,\n",
       "  'momentum': 0.9,\n",
       "  'dampening': 0,\n",
       "  'weight_decay': 0,\n",
       "  'nesterov': False,\n",
       "  'maximize': False}]"
      ]
     },
     "execution_count": 52,
     "metadata": {},
     "output_type": "execute_result"
    }
   ],
   "source": [
    "optimizer.param_groups"
   ]
  }
 ],
 "metadata": {
  "interpreter": {
   "hash": "637b3343a8f1690def737a76a7e83ae3a0770ea616a4909b65899c37d05cb3cc"
  },
  "kernelspec": {
   "display_name": "Python 3.8.10 ('env': venv)",
   "language": "python",
   "name": "python3"
  },
  "language_info": {
   "codemirror_mode": {
    "name": "ipython",
    "version": 3
   },
   "file_extension": ".py",
   "mimetype": "text/x-python",
   "name": "python",
   "nbconvert_exporter": "python",
   "pygments_lexer": "ipython3",
   "version": "3.8.10"
  },
  "orig_nbformat": 4
 },
 "nbformat": 4,
 "nbformat_minor": 2
}
