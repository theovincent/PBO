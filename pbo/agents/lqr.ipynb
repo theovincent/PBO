{
 "cells": [
  {
   "cell_type": "code",
   "execution_count": 1,
   "metadata": {},
   "outputs": [],
   "source": [
    "import scipy.linalg as sc_linalg\n",
    "\n",
    "\n",
    "def check_riccati(P, A, B, Q, R, S):\n",
    "    return np.linalg.norm(Q + A.T @ P @ A - (S + A.T @ P @ B) @ sc_linalg.inv(R + B.T @ P @ B) @ (S + B.T @ P @ A) - P)\n",
    "\n",
    "\n",
    "def check_riccati_with_sol_without_S(P, A, B, Q, R):\n",
    "    a_equa = B[0, 0] ** 2\n",
    "    b_equa = R[0, 0] * (1 - A[0, 0] ** 2) -  B[0, 0] ** 2 * Q[0, 0]\n",
    "    c_equa = - R[0, 0] * Q[0, 0]\n",
    "\n",
    "    delta_equa = b_equa ** 2 - 4 * a_equa * c_equa\n",
    "\n",
    "    return np.linalg.norm (- b_equa / (2 * a_equa) - np.sqrt(delta_equa) / (2 * a_equa) - P[0, 0])"
   ]
  },
  {
   "cell_type": "code",
   "execution_count": 4,
   "metadata": {},
   "outputs": [
    {
     "name": "stdout",
     "output_type": "stream",
     "text": [
      "Transition: s' = As + Ba\n",
      "Transition: s' = 1.0s + 1.0a\n",
      "Reward: Qs² + Ra² + 2 Sas\n",
      "Reward: -1.0s² + -1.0a² + 2 0.0as\n",
      "\n"
     ]
    }
   ],
   "source": [
    "import numpy as np\n",
    "\n",
    "A = np.ones((1, 1)) * 1 # 5 * (2 * np.random.random(size=(1, 1)) - 1)\n",
    "B = np.ones((1, 1)) * 1 # 5 * (2 * np.random.random(size=(1, 1)) - 1)\n",
    "Q = np.ones((1, 1)) * - 1 # 5 * (2 * np.random.random(size=(1, 1)) - 1)\n",
    "R = np.ones((1, 1)) * - 1 # 5 * (2 * np.random.random(size=(1, 1)) - 1)\n",
    "S = np.zeros((1, 1))\n",
    "\n",
    "print(\"Transition: s' = As + Ba\")\n",
    "print(f\"Transition: s' = {np.around(A[0, 0], 2)}s + {np.around(B[0, 0], 2)}a\")\n",
    "print(\"Reward: Qs² + Ra² + 2 Sas\")\n",
    "print(f\"Reward: {np.around(Q[0, 0], 2)}s² + {np.around(R[0, 0], 2)}a² + 2 {np.around(S[0, 0], 2)}as\")\n",
    "print()\n",
    "\n",
    "P = sc_linalg.solve_discrete_are(A, B, Q, R, s=S)\n",
    "riccati_norm_error = check_riccati(P, A, B, Q, R, S)\n",
    "\n",
    "assert riccati_norm_error < 1e-9, f\"Riccati equation is not verified: {riccati_norm_error}\"\n",
    "\n",
    "S_hat = S + A.T @ P @ B\n",
    "R_hat = R + B.T @ P @ B\n",
    "K = sc_linalg.inv(R_hat) @ S_hat"
   ]
  },
  {
   "cell_type": "code",
   "execution_count": 9,
   "metadata": {},
   "outputs": [
    {
     "data": {
      "text/plain": [
       "0.6180339887498949"
      ]
     },
     "execution_count": 9,
     "metadata": {},
     "output_type": "execute_result"
    }
   ],
   "source": [
    "a_equa = B[0, 0] ** 2\n",
    "b_equa = R[0, 0] * (1 - A[0, 0] ** 2) -  B[0, 0] ** 2 * Q[0, 0]\n",
    "c_equa = - R[0, 0] * Q[0, 0]\n",
    "\n",
    "delta_equa = b_equa ** 2 - 4 * a_equa * c_equa\n",
    "\n",
    "- b_equa / (2 * a_equa) + np.sqrt(delta_equa) / (2 * a_equa)"
   ]
  },
  {
   "cell_type": "code",
   "execution_count": 5,
   "metadata": {},
   "outputs": [
    {
     "data": {
      "text/plain": [
       "(array([[-2.61803399]]), array([[0.61803399]]), array([[-1.61803399]]))"
      ]
     },
     "execution_count": 5,
     "metadata": {},
     "output_type": "execute_result"
    }
   ],
   "source": [
    "R_hat, K, P"
   ]
  },
  {
   "cell_type": "code",
   "execution_count": 12,
   "metadata": {},
   "outputs": [
    {
     "name": "stdout",
     "output_type": "stream",
     "text": [
      "State: 4 action: -3.47 next state: 0.53 reward: -28.06\n",
      "State: 0.53 action: -1.33 next state: -0.8 reward: -2.04\n",
      "State: -0.8 action: 1.49 next state: 0.7 reward: -2.87\n",
      "State: 0.7 action: -1.43 next state: -0.73 reward: -2.53\n",
      "State: -0.73 action: 1.45 next state: 0.72 reward: -2.65\n",
      "State: 0.72 action: -1.44 next state: -0.73 reward: -2.6\n",
      "State: -0.73 action: 1.45 next state: 0.72 reward: -2.62\n",
      "State: 0.72 action: -1.45 next state: -0.72 reward: -2.62\n",
      "State: -0.72 action: 1.45 next state: 0.72 reward: -2.62\n",
      "State: 0.72 action: -1.45 next state: -0.72 reward: -2.62\n"
     ]
    }
   ],
   "source": [
    "state = np.array([4])\n",
    "\n",
    "for i in range(10):\n",
    "    action = - K @ state\n",
    "    action = action + 1 if action > 0 else action - 1\n",
    "    next_state = A @ state + B @ action\n",
    "    reward = state.T @ Q @ state + 2 * state.T @ S @ action + action.T @ R @ action\n",
    "\n",
    "    print(\n",
    "        \"State:\", np.around(state[0], 2), \n",
    "        \"action:\", np.around(action[0], 2), \n",
    "        \"next state:\", np.around(next_state[0], 2), \n",
    "        \"reward:\", np.around(reward, 2)\n",
    "    )\n",
    "    state = next_state"
   ]
  },
  {
   "cell_type": "code",
   "execution_count": 33,
   "metadata": {},
   "outputs": [
    {
     "data": {
      "text/plain": [
       "(array([[-14.51282393]]), array([[-86.65466183]]))"
      ]
     },
     "execution_count": 33,
     "metadata": {},
     "output_type": "execute_result"
    }
   ],
   "source": [
    "A * R, R + B**2 @ P"
   ]
  },
  {
   "cell_type": "code",
   "execution_count": 21,
   "metadata": {},
   "outputs": [
    {
     "name": "stdout",
     "output_type": "stream",
     "text": [
      "-3.408517062164548 -3.408517062164548\n",
      "1.0286411805850395 1.0286411805850393\n"
     ]
    }
   ],
   "source": [
    "import control\n",
    "\n",
    "K_control, P_control, _ = control.dlqr(A, B, Q, R, S)\n",
    "\n",
    "print(P_control[0, 0], P[0, 0])\n",
    "print(K_control[0, 0], K[0, 0])"
   ]
  },
  {
   "cell_type": "code",
   "execution_count": 36,
   "metadata": {},
   "outputs": [
    {
     "data": {
      "text/plain": [
       "array([-0.08784434+0.j])"
      ]
     },
     "execution_count": 36,
     "metadata": {},
     "output_type": "execute_result"
    }
   ],
   "source": [
    "_"
   ]
  },
  {
   "cell_type": "code",
   "execution_count": 1,
   "metadata": {},
   "outputs": [
    {
     "name": "stdout",
     "output_type": "stream",
     "text": [
      "Transition: s' = As + Ba\n",
      "Transition: s' = -0.49s + -0.49a\n",
      "Reward: Qs² + Ra² + 2 Sas\n",
      "Reward: -0.13s² + -0.62a² + 2 0.0as\n"
     ]
    }
   ],
   "source": [
    "import numpy as np \n",
    "\n",
    "from pbo.environment.linear_quadratic import LinearQuadraticEnv\n",
    "import control\n",
    "import scipy\n",
    "\n",
    "mdp = LinearQuadraticEnv(\n",
    "    A=2 * np.random.random(size=(1, 1)) - 1,\n",
    "    B=2 * np.random.random(size=(1, 1)) - 1,\n",
    "    Q=2 * np.random.random(size=(1, 1)) - 1,\n",
    "    R=2 * np.random.random(size=(1, 1)) - 1,\n",
    "    S=np.zeros((1, 1)),\n",
    "    max_pos=10,\n",
    "    max_action=10,\n",
    "    initial_state=np.array([3]),\n",
    ")\n",
    "\n",
    "# dlqr minimises J = \\\\Sum_0^\\\\infty (s[n]' Q_given s[n] + a[n]' R_given a[n] + + 2 s[n]' S_given a[n])\n",
    "# here we want to maximises the quantity \n",
    "# this is why we need to have Q_given = -Q, R_given = -R, S_given = -S\n",
    "K, S, E = control.dlqr(mdp.A, mdp.B, -mdp.Q, -mdp.R, -mdp.S)\n",
    "# scipy.linalg.solve_discrete_are(mdp.A, B, Q, R, e=E, s=S)\n",
    "\n",
    "print(\"Transition: s' = As + Ba\")\n",
    "print(f\"Transition: s' = {np.around(mdp.A[0, 0], 2)}s + {np.around(mdp.A[0, 0], 2)}a\")\n",
    "print(\"Reward: Qs² + Ra² + 2 Sas\")\n",
    "print(f\"Reward: {np.around(mdp.Q[0, 0], 2)}s² + {np.around(mdp.R[0, 0], 2)}a² + 2 {np.around(mdp.S[0, 0], 2)}as\")"
   ]
  },
  {
   "cell_type": "code",
   "execution_count": 22,
   "metadata": {},
   "outputs": [],
   "source": [
    "def check_riccati(P, A, B, Q, R, S):\n",
    "    return np.linalg.norm(Q + A.T @ P @ A - (S + A.T @ P @ B) @ scipy.linalg.inv(R + B.T @ P @ B) @ (S + B.T @ P @ A) - P)"
   ]
  },
  {
   "cell_type": "code",
   "execution_count": 23,
   "metadata": {},
   "outputs": [
    {
     "data": {
      "text/plain": [
       "2.7755575615628914e-17"
      ]
     },
     "execution_count": 23,
     "metadata": {},
     "output_type": "execute_result"
    }
   ],
   "source": [
    "check_riccati(P, mdp.A, mdp.B, mdp.Q, mdp.R, mdp.S)"
   ]
  },
  {
   "cell_type": "code",
   "execution_count": 19,
   "metadata": {},
   "outputs": [
    {
     "name": "stdout",
     "output_type": "stream",
     "text": [
      "K from theory: 2.4123148502450835\n",
      "K given: 1.377419857182332\n"
     ]
    }
   ],
   "source": [
    "S_hat = mdp.S + mdp.B * S * mdp.A\n",
    "R_hat = mdp.R + mdp.B * S * mdp.B\n",
    "K_hat = S_hat[0, 0] / R_hat[0, 0]\n",
    "print(\"K from theory:\", K_hat)\n",
    "print(\"K given:\", K[0, 0])"
   ]
  },
  {
   "cell_type": "code",
   "execution_count": 62,
   "metadata": {},
   "outputs": [
    {
     "name": "stdout",
     "output_type": "stream",
     "text": [
      "State: 3 Action: 0.01 Reward: -0.9793\n",
      "State: 0.06 Action: 0.0 Reward: -0.0004\n",
      "State: 0.0 Action: 0.0 Reward: -0.0\n",
      "State: 0.0 Action: 0.0 Reward: -0.0\n",
      "State: 0.0 Action: 0.0 Reward: -0.0\n",
      "State: 0.0 Action: 0.0 Reward: -0.0\n",
      "State: 0.0 Action: 0.0 Reward: -0.0\n",
      "State: 0.0 Action: 0.0 Reward: -0.0\n",
      "State: 0.0 Action: 0.0 Reward: -0.0\n",
      "State: 0.0 Action: 0.0 Reward: -0.0\n"
     ]
    }
   ],
   "source": [
    "import control\n",
    "\n",
    "K, S, E = control.dlqr(mdp.A, mdp.B, mdp.Q, mdp.R)\n",
    "# K = np.array([[0]])\n",
    "\n",
    "state = mdp.reset()\n",
    "terminal = False\n",
    "step = 0\n",
    "\n",
    "while not terminal and step < 10:\n",
    "    next_state, reward, terminal, _ = mdp.step(- K @ state)\n",
    "\n",
    "    print(f\"State: {np.around(state[0], 2)}\", end=\" \")\n",
    "    print(f\"Action: {np.around((- K @ state)[0], 2)}\", end=\" \")\n",
    "    print(f\"Reward: {np.around(reward, 4)}\")\n",
    "\n",
    "    state = next_state\n",
    "    step += 1"
   ]
  },
  {
   "cell_type": "code",
   "execution_count": 67,
   "metadata": {},
   "outputs": [
    {
     "data": {
      "text/plain": [
       "array([[0.10885098]])"
      ]
     },
     "execution_count": 67,
     "metadata": {},
     "output_type": "execute_result"
    }
   ],
   "source": [
    "S"
   ]
  },
  {
   "cell_type": "code",
   "execution_count": 64,
   "metadata": {},
   "outputs": [
    {
     "data": {
      "text/plain": [
       "-0.0021193163077151203"
      ]
     },
     "execution_count": 64,
     "metadata": {},
     "output_type": "execute_result"
    }
   ],
   "source": [
    "K[0, 0]"
   ]
  },
  {
   "cell_type": "code",
   "execution_count": 65,
   "metadata": {},
   "outputs": [
    {
     "data": {
      "text/plain": [
       "array([[-1.41677715]])"
      ]
     },
     "execution_count": 65,
     "metadata": {},
     "output_type": "execute_result"
    }
   ],
   "source": [
    "mdp.A * 3 + mdp.B * 1.91"
   ]
  },
  {
   "cell_type": "code",
   "execution_count": 66,
   "metadata": {},
   "outputs": [
    {
     "data": {
      "text/plain": [
       "-0.0012833809110176309"
      ]
     },
     "execution_count": 66,
     "metadata": {},
     "output_type": "execute_result"
    }
   ],
   "source": [
    "(mdp.A[0, 0] * S[0, 0] * mdp.B[0, 0]) / (mdp.R[0, 0] + mdp.B[0, 0] ** 2)"
   ]
  }
 ],
 "metadata": {
  "interpreter": {
   "hash": "637b3343a8f1690def737a76a7e83ae3a0770ea616a4909b65899c37d05cb3cc"
  },
  "kernelspec": {
   "display_name": "Python 3.8.10 ('env': venv)",
   "language": "python",
   "name": "python3"
  },
  "language_info": {
   "codemirror_mode": {
    "name": "ipython",
    "version": 3
   },
   "file_extension": ".py",
   "mimetype": "text/x-python",
   "name": "python",
   "nbconvert_exporter": "python",
   "pygments_lexer": "ipython3",
   "version": "3.8.10"
  },
  "orig_nbformat": 4
 },
 "nbformat": 4,
 "nbformat_minor": 2
}
