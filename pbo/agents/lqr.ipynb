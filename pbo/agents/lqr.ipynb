{
 "cells": [
  {
   "cell_type": "code",
   "execution_count": 18,
   "metadata": {},
   "outputs": [
    {
     "name": "stdout",
     "output_type": "stream",
     "text": [
      "Transition: s' = As + Ba\n",
      "Transition: s' = -0.66s + -0.66a\n",
      "Reward: Qs² + Ra² + 2 Sas\n",
      "Reward: 0.42s² + -0.14a² + 2 0.0as\n"
     ]
    }
   ],
   "source": [
    "import numpy as np \n",
    "\n",
    "from pbo.environment.linear_quadratic import LinearQuadraticEnv\n",
    "import control\n",
    "\n",
    "mdp = LinearQuadraticEnv(\n",
    "    A=2 * np.random.random(size=(1, 1)) - 1,\n",
    "    B=2 * np.random.random(size=(1, 1)) - 1,\n",
    "    Q=2 * np.random.random(size=(1, 1)) - 1,\n",
    "    R=2 * np.random.random(size=(1, 1)) - 1,\n",
    "    S=np.zeros((1, 1)),\n",
    "    max_pos=10,\n",
    "    max_action=10,\n",
    "    initial_state=np.array([3]),\n",
    ")\n",
    "\n",
    "# dlqr minimises J = \\\\Sum_0^\\\\infty (s[n]' Q_given s[n] + a[n]' R_given a[n] + + 2 s[n]' S_given a[n])\n",
    "# here we want to maximises the quantity \n",
    "# this is why we need to have Q_given = -Q, R_given = -R, S_given = -S\n",
    "K, S, E = control.dlqr(mdp.A, mdp.B, -mdp.Q, -mdp.R, -mdp.S)\n",
    "\n",
    "print(\"Transition: s' = As + Ba\")\n",
    "print(f\"Transition: s' = {np.around(mdp.A[0, 0], 2)}s + {np.around(mdp.A[0, 0], 2)}a\")\n",
    "print(\"Reward: Qs² + Ra² + 2 Sas\")\n",
    "print(f\"Reward: {np.around(mdp.Q[0, 0], 2)}s² + {np.around(mdp.R[0, 0], 2)}a² + 2 {np.around(mdp.S[0, 0], 2)}as\")"
   ]
  },
  {
   "cell_type": "code",
   "execution_count": 19,
   "metadata": {},
   "outputs": [
    {
     "name": "stdout",
     "output_type": "stream",
     "text": [
      "K from theory: 2.4123148502450835\n",
      "K given: 1.377419857182332\n"
     ]
    }
   ],
   "source": [
    "S_hat = mdp.S + mdp.B * S * mdp.A\n",
    "R_hat = mdp.R + mdp.B * S * mdp.B\n",
    "K_hat = S_hat[0, 0] / R_hat[0, 0]\n",
    "print(\"K from theory:\", K_hat)\n",
    "print(\"K given:\", K[0, 0])"
   ]
  },
  {
   "cell_type": "code",
   "execution_count": 62,
   "metadata": {},
   "outputs": [
    {
     "name": "stdout",
     "output_type": "stream",
     "text": [
      "State: 3 Action: 0.01 Reward: -0.9793\n",
      "State: 0.06 Action: 0.0 Reward: -0.0004\n",
      "State: 0.0 Action: 0.0 Reward: -0.0\n",
      "State: 0.0 Action: 0.0 Reward: -0.0\n",
      "State: 0.0 Action: 0.0 Reward: -0.0\n",
      "State: 0.0 Action: 0.0 Reward: -0.0\n",
      "State: 0.0 Action: 0.0 Reward: -0.0\n",
      "State: 0.0 Action: 0.0 Reward: -0.0\n",
      "State: 0.0 Action: 0.0 Reward: -0.0\n",
      "State: 0.0 Action: 0.0 Reward: -0.0\n"
     ]
    }
   ],
   "source": [
    "import control\n",
    "\n",
    "K, S, E = control.dlqr(mdp.A, mdp.B, mdp.Q, mdp.R)\n",
    "# K = np.array([[0]])\n",
    "\n",
    "state = mdp.reset()\n",
    "terminal = False\n",
    "step = 0\n",
    "\n",
    "while not terminal and step < 10:\n",
    "    next_state, reward, terminal, _ = mdp.step(- K @ state)\n",
    "\n",
    "    print(f\"State: {np.around(state[0], 2)}\", end=\" \")\n",
    "    print(f\"Action: {np.around((- K @ state)[0], 2)}\", end=\" \")\n",
    "    print(f\"Reward: {np.around(reward, 4)}\")\n",
    "\n",
    "    state = next_state\n",
    "    step += 1"
   ]
  },
  {
   "cell_type": "code",
   "execution_count": 67,
   "metadata": {},
   "outputs": [
    {
     "data": {
      "text/plain": [
       "array([[0.10885098]])"
      ]
     },
     "execution_count": 67,
     "metadata": {},
     "output_type": "execute_result"
    }
   ],
   "source": [
    "S"
   ]
  },
  {
   "cell_type": "code",
   "execution_count": 64,
   "metadata": {},
   "outputs": [
    {
     "data": {
      "text/plain": [
       "-0.0021193163077151203"
      ]
     },
     "execution_count": 64,
     "metadata": {},
     "output_type": "execute_result"
    }
   ],
   "source": [
    "K[0, 0]"
   ]
  },
  {
   "cell_type": "code",
   "execution_count": 65,
   "metadata": {},
   "outputs": [
    {
     "data": {
      "text/plain": [
       "array([[-1.41677715]])"
      ]
     },
     "execution_count": 65,
     "metadata": {},
     "output_type": "execute_result"
    }
   ],
   "source": [
    "mdp.A * 3 + mdp.B * 1.91"
   ]
  },
  {
   "cell_type": "code",
   "execution_count": 66,
   "metadata": {},
   "outputs": [
    {
     "data": {
      "text/plain": [
       "-0.0012833809110176309"
      ]
     },
     "execution_count": 66,
     "metadata": {},
     "output_type": "execute_result"
    }
   ],
   "source": [
    "(mdp.A[0, 0] * S[0, 0] * mdp.B[0, 0]) / (mdp.R[0, 0] + mdp.B[0, 0] ** 2)"
   ]
  }
 ],
 "metadata": {
  "interpreter": {
   "hash": "637b3343a8f1690def737a76a7e83ae3a0770ea616a4909b65899c37d05cb3cc"
  },
  "kernelspec": {
   "display_name": "Python 3.8.10 ('env': venv)",
   "language": "python",
   "name": "python3"
  },
  "language_info": {
   "codemirror_mode": {
    "name": "ipython",
    "version": 3
   },
   "file_extension": ".py",
   "mimetype": "text/x-python",
   "name": "python",
   "nbconvert_exporter": "python",
   "pygments_lexer": "ipython3",
   "version": "3.8.10"
  },
  "orig_nbformat": 4
 },
 "nbformat": 4,
 "nbformat_minor": 2
}
