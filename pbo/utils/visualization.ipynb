{
 "cells": [
  {
   "cell_type": "code",
   "execution_count": 5,
   "metadata": {},
   "outputs": [],
   "source": [
    "import matplotlib.pyplot as plt\n",
    "import numpy as np\n",
    "from IPython.display import clear_output\n",
    "\n",
    "\n",
    "class StateActionMesh:\n",
    "    def __init__(self, action_max: float, n_actions: int, state_max: float, n_states: int) -> \"StateActionMesh\":\n",
    "        self.action_max = action_max\n",
    "        self.n_actions = n_actions\n",
    "        self.state_max = state_max\n",
    "        self.n_states = n_states\n",
    "\n",
    "        self.values = np.zeros((self.n_states, self.n_actions))\n",
    "    \n",
    "    def set_values(self, values: np.ndarray) -> None:\n",
    "        assert values.shape == (self.n_states, self.n_actions), f\"given shape values: {values.shape} don't match with environment values: {(self.n_states, self.n_actions)}\"\n",
    "        \n",
    "        self.values = values\n",
    "\n",
    "    def set_title(self, title: str) -> None:\n",
    "        self.set_title(title)\n",
    "\n",
    "    def show(self):\n",
    "        clear_output(wait=True)\n",
    "        self.fig, self.ax = plt.subplots()\n",
    "        \n",
    "        colors = self.ax.pcolor(self.values)\n",
    "        self.fig.colorbar(colors, ax=self.ax)\n",
    "        self.fig.tight_layout()\n",
    "\n",
    "        self.fig.canvas.draw()\n",
    "        plt.show()"
   ]
  },
  {
   "cell_type": "code",
   "execution_count": 6,
   "metadata": {},
   "outputs": [
    {
     "data": {
      "image/png": "[encoded data removed]",
      "text/plain": [
       "<Figure size 432x288 with 2 Axes>"
      ]
     },
     "metadata": {
      "needs_background": "light"
     },
     "output_type": "display_data"
    }
   ],
   "source": [
    "import time\n",
    "\n",
    "n_states = 3\n",
    "n_actions = 5\n",
    "\n",
    "state_action_mesh = StateActionMesh(10, n_actions, 10, n_states)\n",
    "\n",
    "for i in range(4):\n",
    "    values = np.random.rand(n_states, n_actions)\n",
    "    state_action_mesh.set_values(values)\n",
    "    state_action_mesh.show()\n",
    "    time.sleep(0.1)\n"
   ]
  }
 ],
 "metadata": {
  "interpreter": {
   "hash": "637b3343a8f1690def737a76a7e83ae3a0770ea616a4909b65899c37d05cb3cc"
  },
  "kernelspec": {
   "display_name": "Python 3.8.10 ('env': venv)",
   "language": "python",
   "name": "python3"
  },
  "language_info": {
   "codemirror_mode": {
    "name": "ipython",
    "version": 3
   },
   "file_extension": ".py",
   "mimetype": "text/x-python",
   "name": "python",
   "nbconvert_exporter": "python",
   "pygments_lexer": "ipython3",
   "version": "3.8.10"
  },
  "orig_nbformat": 4
 },
 "nbformat": 4,
 "nbformat_minor": 2
}
