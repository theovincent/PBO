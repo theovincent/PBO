{
 "cells": [
  {
   "cell_type": "code",
   "execution_count": 82,
   "metadata": {},
   "outputs": [
    {
     "data": {
      "image/png": "[encoded data removed]",
      "text/plain": [
       "<Figure size 432x288 with 1 Axes>"
      ]
     },
     "metadata": {
      "needs_background": "light"
     },
     "output_type": "display_data"
    }
   ],
   "source": [
    "%load_ext autoreload\n",
    "%autoreload 2\n",
    "\n",
    "import jax\n",
    "import jax.numpy as jnp\n",
    "import gym\n",
    "\n",
    "from pbo.environments.pong import PongEnv\n",
    "\n",
    "\n",
    "env_key = jax.random.PRNGKey(0)\n",
    "\n",
    "\n",
    "env = PongEnv(env_key)\n",
    "\n",
    "env.reset()\n",
    "\n",
    "for _ in range(10):\n",
    "    _, _, absorbing, _ = env.step(jnp.array([5]))\n",
    "\n",
    "    env.render()\n",
    "    if absorbing[0]:\n",
    "        break\n",
    "# env.close()"
   ]
  }
 ],
 "metadata": {
  "kernelspec": {
   "display_name": "Python 3.8.10 ('env_cpu': venv)",
   "language": "python",
   "name": "python3"
  },
  "language_info": {
   "codemirror_mode": {
    "name": "ipython",
    "version": 3
   },
   "file_extension": ".py",
   "mimetype": "text/x-python",
   "name": "python",
   "nbconvert_exporter": "python",
   "pygments_lexer": "ipython3",
   "version": "3.8.10"
  },
  "orig_nbformat": 4,
  "vscode": {
   "interpreter": {
    "hash": "af5525a3273d35d601ae265c5d3634806dd61a1c4d085ae098611a6832982bdb"
   }
  }
 },
 "nbformat": 4,
 "nbformat_minor": 2
}
