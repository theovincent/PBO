{
 "cells": [
  {
   "cell_type": "code",
   "execution_count": 1,
   "metadata": {},
   "outputs": [
    {
     "name": "stderr",
     "output_type": "stream",
     "text": [
      "WARNING:absl:No GPU/TPU found, falling back to CPU. (Set TF_CPP_MIN_LOG_LEVEL=0 and rerun for more info.)\n"
     ]
    }
   ],
   "source": [
    "%load_ext autoreload\n",
    "%autoreload 2\n",
    "\n",
    "import jax\n",
    "import jax.numpy as jnp\n",
    "\n",
    "from pbo.environment.chain_walk import ChainWalkEnv\n",
    "\n",
    "\n",
    "key = jax.random.PRNGKey(0)\n",
    "\n",
    "env = ChainWalkEnv(key, 10, 0.9, 0.8)"
   ]
  },
  {
   "cell_type": "code",
   "execution_count": 2,
   "metadata": {},
   "outputs": [
    {
     "name": "stdout",
     "output_type": "stream",
     "text": [
      "Initial state: 6\n",
      "State: 7, reward: 0, absorbing: False\n",
      "State: 8, reward: 0, absorbing: False\n",
      "State: 9, reward: 0, absorbing: True\n",
      "State: 9, reward: 1, absorbing: True\n",
      "State: 9, reward: 1, absorbing: True\n",
      "State: 9, reward: 1, absorbing: True\n",
      "State: 9, reward: 1, absorbing: True\n",
      "State: 9, reward: 1, absorbing: True\n",
      "State: 9, reward: 1, absorbing: True\n",
      "State: 9, reward: 1, absorbing: True\n"
     ]
    }
   ],
   "source": [
    "env.reset()\n",
    "print(f\"Initial state: {env.state[0]}\")\n",
    "\n",
    "for step in range(10):\n",
    "    state, reward, absorbing, _ = env.step(jnp.array([1]))\n",
    "\n",
    "    print(f\"State: {state[0]}, reward: {reward[0]}, absorbing: {absorbing}\")\n"
   ]
  },
  {
   "cell_type": "code",
   "execution_count": 5,
   "metadata": {},
   "outputs": [
    {
     "data": {
      "text/plain": [
       "DeviceArray([[4.999999 , 4.999999 ],\n",
       "             [4.8913035, 3.147447 ],\n",
       "             [3.8279765, 2.4632194],\n",
       "             [2.9958074, 1.9277368],\n",
       "             [2.344545 , 1.8756359],\n",
       "             [1.8756359, 2.344545 ],\n",
       "             [1.9277368, 2.9958074],\n",
       "             [2.4632194, 3.8279765],\n",
       "             [3.147447 , 4.8913035],\n",
       "             [4.999999 , 4.999999 ]], dtype=float32)"
      ]
     },
     "execution_count": 5,
     "metadata": {},
     "output_type": "execute_result"
    }
   ],
   "source": [
    "env.optimal_Q_mesh()"
   ]
  },
  {
   "cell_type": "code",
   "execution_count": 6,
   "metadata": {},
   "outputs": [
    {
     "data": {
      "text/plain": [
       "DeviceArray([[1. , 1. ],\n",
       "             [0.9, 0. ],\n",
       "             [0. , 0. ],\n",
       "             [0. , 0. ],\n",
       "             [0. , 0. ],\n",
       "             [0. , 0. ],\n",
       "             [0. , 0. ],\n",
       "             [0. , 0. ],\n",
       "             [0. , 0.9],\n",
       "             [1. , 1. ]], dtype=float32)"
      ]
     },
     "execution_count": 6,
     "metadata": {},
     "output_type": "execute_result"
    }
   ],
   "source": [
    "env.apply_bellman_operator(jnp.zeros((10, 2)))"
   ]
  }
 ],
 "metadata": {
  "interpreter": {
   "hash": "1432d270abb514d077d760a4c8d2edd41cc0752b595b0513fca29951003961c1"
  },
  "kernelspec": {
   "display_name": "Python 3.8.10 ('env': venv)",
   "language": "python",
   "name": "python3"
  },
  "language_info": {
   "codemirror_mode": {
    "name": "ipython",
    "version": 3
   },
   "file_extension": ".py",
   "mimetype": "text/x-python",
   "name": "python",
   "nbconvert_exporter": "python",
   "pygments_lexer": "ipython3",
   "version": "3.8.10"
  },
  "orig_nbformat": 4
 },
 "nbformat": 4,
 "nbformat_minor": 2
}
