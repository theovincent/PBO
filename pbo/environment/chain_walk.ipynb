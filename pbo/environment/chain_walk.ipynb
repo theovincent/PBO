{
 "cells": [
  {
   "cell_type": "code",
   "execution_count": 1,
   "metadata": {},
   "outputs": [
    {
     "name": "stderr",
     "output_type": "stream",
     "text": [
      "WARNING:absl:No GPU/TPU found, falling back to CPU. (Set TF_CPP_MIN_LOG_LEVEL=0 and rerun for more info.)\n"
     ]
    }
   ],
   "source": [
    "%load_ext autoreload\n",
    "%autoreload 2\n",
    "\n",
    "import jax\n",
    "import jax.numpy as jnp\n",
    "\n",
    "from pbo.environment.chain_walk import ChainWalk\n",
    "\n",
    "\n",
    "key = jax.random.PRNGKey(0)\n",
    "\n",
    "env = ChainWalk(10, 0.9, 0.8, key)"
   ]
  },
  {
   "cell_type": "code",
   "execution_count": 2,
   "metadata": {},
   "outputs": [
    {
     "name": "stdout",
     "output_type": "stream",
     "text": [
      "Initial state: 6\n",
      "State: 7, reward: 0, absorbing: False\n",
      "State: 8, reward: 0, absorbing: False\n",
      "State: 9, reward: 0, absorbing: True\n",
      "State: 9, reward: 1, absorbing: True\n",
      "State: 9, reward: 1, absorbing: True\n",
      "State: 9, reward: 1, absorbing: True\n",
      "State: 9, reward: 1, absorbing: True\n",
      "State: 9, reward: 1, absorbing: True\n",
      "State: 9, reward: 1, absorbing: True\n",
      "State: 9, reward: 1, absorbing: True\n"
     ]
    }
   ],
   "source": [
    "env.reset()\n",
    "print(f\"Initial state: {env.state[0]}\")\n",
    "\n",
    "for step in range(10):\n",
    "    state, reward, absorbing, _ = env.step(jnp.array([1]))\n",
    "\n",
    "    print(f\"State: {state[0]}, reward: {reward[0]}, absorbing: {absorbing}\")\n"
   ]
  },
  {
   "cell_type": "code",
   "execution_count": 3,
   "metadata": {},
   "outputs": [
    {
     "data": {
      "text/plain": [
       "DeviceArray([[4.999997 , 4.999997 ],\n",
       "             [3.9130409, 2.5179565],\n",
       "             [3.0623796, 1.9705747],\n",
       "             [2.396645 , 1.542189 ],\n",
       "             [1.8756351, 1.5005082],\n",
       "             [1.5005082, 1.8756351],\n",
       "             [1.542189 , 2.396645 ],\n",
       "             [1.9705747, 3.0623796],\n",
       "             [2.5179565, 3.9130409],\n",
       "             [4.999997 , 4.999997 ]], dtype=float32)"
      ]
     },
     "execution_count": 3,
     "metadata": {},
     "output_type": "execute_result"
    }
   ],
   "source": [
    "env.optimal_Q_mesh()"
   ]
  }
 ],
 "metadata": {
  "interpreter": {
   "hash": "1432d270abb514d077d760a4c8d2edd41cc0752b595b0513fca29951003961c1"
  },
  "kernelspec": {
   "display_name": "Python 3.8.10 ('env': venv)",
   "language": "python",
   "name": "python3"
  },
  "language_info": {
   "codemirror_mode": {
    "name": "ipython",
    "version": 3
   },
   "file_extension": ".py",
   "mimetype": "text/x-python",
   "name": "python",
   "nbconvert_exporter": "python",
   "pygments_lexer": "ipython3",
   "version": "3.8.10"
  },
  "orig_nbformat": 4
 },
 "nbformat": 4,
 "nbformat_minor": 2
}
