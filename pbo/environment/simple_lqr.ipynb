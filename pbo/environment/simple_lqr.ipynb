{
 "cells": [
  {
   "cell_type": "code",
   "execution_count": 1,
   "metadata": {},
   "outputs": [
    {
     "name": "stdout",
     "output_type": "stream",
     "text": [
      "Transition: s' = As + Ba\n",
      "Transition: s' = -2.27s + 6.03a\n",
      "Reward: Qs² + Ra² + 2 Ssa\n",
      "Reward: -6.6s² + -3.48a² + -4.22sa\n"
     ]
    }
   ],
   "source": [
    "import numpy as np\n",
    "import scipy.linalg as sc_linalg\n",
    "\n",
    "controllable = False\n",
    "\n",
    "while not controllable:\n",
    "    A = np.random.uniform(-10, 10, size=1)[0]\n",
    "    B = np.random.uniform(-10, 10, size=1)[0]\n",
    "    Q = np.random.uniform(-10, 0, size=1)[0]\n",
    "    R = np.random.uniform(-10, 10, size=1)[0]\n",
    "    S = np.random.uniform(-5, 5, size=1)[0]\n",
    "\n",
    "    P = sc_linalg.solve_discrete_are(A, B, Q, R, s=S)[0, 0]\n",
    "    S_hat = S + A * B * P\n",
    "    R_hat = R + B ** 2 * P\n",
    "    K = S_hat / R_hat\n",
    "\n",
    "    if R_hat < 0:\n",
    "        controllable = True\n",
    "\n",
    "        print(\"Transition: s' = As + Ba\")\n",
    "        print(f\"Transition: s' = {np.around(A, 2)}s + {np.around(B, 2)}a\")\n",
    "        print(\"Reward: Qs² + Ra² + 2 Ssa\")\n",
    "        print(f\"Reward: {np.around(Q, 2)}s² + {np.around(R, 2)}a² + {np.around(2 * S, 2)}sa\")"
   ]
  },
  {
   "cell_type": "code",
   "execution_count": 6,
   "metadata": {},
   "outputs": [
    {
     "name": "stdout",
     "output_type": "stream",
     "text": [
      "State: 4 action: 1.46 next state: -0.26 reward: -137.71\n",
      "State: -0.26 action: -0.09 next state: 0.02 reward: -0.58\n",
      "State: 0.02 action: 0.01 next state: -0.0 reward: -0.0\n",
      "State: -0.0 action: -0.0 next state: 0.0 reward: -0.0\n",
      "State: 0.0 action: 0.0 next state: -0.0 reward: -0.0\n",
      "State: -0.0 action: -0.0 next state: 0.0 reward: -0.0\n",
      "State: 0.0 action: 0.0 next state: -0.0 reward: -0.0\n",
      "State: -0.0 action: -0.0 next state: 0.0 reward: -0.0\n",
      "State: 0.0 action: 0.0 next state: -0.0 reward: -0.0\n",
      "State: -0.0 action: -0.0 next state: 0.0 reward: -0.0\n",
      "State: 0.0 action: 0.0 next state: -0.0 reward: -0.0\n",
      "State: -0.0 action: -0.0 next state: 0.0 reward: -0.0\n",
      "State: 0.0 action: 0.0 next state: -0.0 reward: -0.0\n",
      "State: -0.0 action: -0.0 next state: 0.0 reward: -0.0\n",
      "State: 0.0 action: 0.0 next state: -0.0 reward: -0.0\n",
      "Sum reward: -138.2975634687804\n",
      "V function: V(s) = Ps²\n",
      "-138.29756346878048\n"
     ]
    }
   ],
   "source": [
    "initial_state = 4\n",
    "state = initial_state\n",
    "sum_reward = 0\n",
    "\n",
    "for i in range(15):\n",
    "    action = - K * state\n",
    "    next_state = A * state + B * action\n",
    "    reward = state ** 2 * Q + action ** 2 * R + 2 * state * action * S\n",
    "\n",
    "    print(\n",
    "        \"State:\", np.around(state, 2), \n",
    "        \"action:\", np.around(action, 2), \n",
    "        \"next state:\", np.around(next_state, 2), \n",
    "        \"reward:\", np.around(reward, 2)\n",
    "    )\n",
    "    state = next_state\n",
    "    sum_reward += reward\n",
    "\n",
    "print(f\"Sum reward: {sum_reward}\")\n",
    "print(f\"V function: V(s) = Ps²\")\n",
    "print(P * initial_state ** 2)"
   ]
  },
  {
   "cell_type": "code",
   "execution_count": null,
   "metadata": {},
   "outputs": [],
   "source": []
  }
 ],
 "metadata": {
  "interpreter": {
   "hash": "637b3343a8f1690def737a76a7e83ae3a0770ea616a4909b65899c37d05cb3cc"
  },
  "kernelspec": {
   "display_name": "Python 3.8.10 ('env': venv)",
   "language": "python",
   "name": "python3"
  },
  "language_info": {
   "codemirror_mode": {
    "name": "ipython",
    "version": 3
   },
   "file_extension": ".py",
   "mimetype": "text/x-python",
   "name": "python",
   "nbconvert_exporter": "python",
   "pygments_lexer": "ipython3",
   "version": "3.8.10"
  },
  "orig_nbformat": 4
 },
 "nbformat": 4,
 "nbformat_minor": 2
}
