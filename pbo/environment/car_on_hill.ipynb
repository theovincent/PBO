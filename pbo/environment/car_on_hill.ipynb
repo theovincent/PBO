{
 "cells": [
  {
   "cell_type": "code",
   "execution_count": 2,
   "metadata": {},
   "outputs": [
    {
     "name": "stdout",
     "output_type": "stream",
     "text": [
      "The autoreload extension is already loaded. To reload it, use:\n",
      "  %reload_ext autoreload\n"
     ]
    }
   ],
   "source": [
    "%load_ext autoreload\n",
    "%autoreload 2\n",
    "\n",
    "from pbo.environment.car_on_hill import CarOnHillEnv\n",
    "import numpy as np\n",
    "\n",
    "max_pos = 1.0\n",
    "max_velocity = 3.0\n",
    "gamma = 0.9\n",
    "\n",
    "\n",
    "env = CarOnHillEnv(max_pos, max_velocity, gamma)"
   ]
  },
  {
   "cell_type": "code",
   "execution_count": 5,
   "metadata": {},
   "outputs": [],
   "source": [
    "import jax.numpy as jnp \n",
    "\n",
    "\n",
    "env.reset()\n",
    "absorbing = False\n",
    "step = 0\n",
    "\n",
    "\n",
    "while not absorbing and step < 15:\n",
    "    env.render()\n",
    "\n",
    "    _, reward, absorbing, _ = env.step(jnp.array([1]))\n",
    "    step += 1\n",
    "\n",
    "env.close()"
   ]
  }
 ],
 "metadata": {
  "kernelspec": {
   "display_name": "Python 3.8.10 ('env': venv)",
   "language": "python",
   "name": "python3"
  },
  "language_info": {
   "codemirror_mode": {
    "name": "ipython",
    "version": 3
   },
   "file_extension": ".py",
   "mimetype": "text/x-python",
   "name": "python",
   "nbconvert_exporter": "python",
   "pygments_lexer": "ipython3",
   "version": "3.8.10"
  },
  "orig_nbformat": 4,
  "vscode": {
   "interpreter": {
    "hash": "1432d270abb514d077d760a4c8d2edd41cc0752b595b0513fca29951003961c1"
   }
  }
 },
 "nbformat": 4,
 "nbformat_minor": 2
}
