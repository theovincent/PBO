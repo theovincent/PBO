{
 "cells": [
  {
   "cell_type": "code",
   "execution_count": 3,
   "metadata": {},
   "outputs": [
    {
     "name": "stdout",
     "output_type": "stream",
     "text": [
      "The autoreload extension is already loaded. To reload it, use:\n",
      "  %reload_ext autoreload\n"
     ]
    }
   ],
   "source": [
    "%load_ext autoreload\n",
    "%autoreload 2\n",
    "\n",
    "import warnings\n",
    "warnings.simplefilter(action='ignore', category=FutureWarning)\n",
    "from pbo.environment.car_on_hill import CarOnHillEnv\n",
    "import numpy as np\n",
    "\n",
    "max_pos = 1.0\n",
    "max_velocity = 3.0\n",
    "gamma = 0.9\n",
    "\n",
    "\n",
    "env = CarOnHillEnv(max_pos, max_velocity, gamma)"
   ]
  },
  {
   "cell_type": "code",
   "execution_count": 4,
   "metadata": {},
   "outputs": [
    {
     "name": "stderr",
     "output_type": "stream",
     "text": [
      "WARNING:absl:No GPU/TPU found, falling back to CPU. (Set TF_CPP_MIN_LOG_LEVEL=0 and rerun for more info.)\n"
     ]
    }
   ],
   "source": [
    "import jax.numpy as jnp \n",
    "\n",
    "\n",
    "env.reset()\n",
    "absorbing = False\n",
    "step = 0\n",
    "\n",
    "\n",
    "while not absorbing and step < 15:\n",
    "    env.render()\n",
    "\n",
    "    _, reward, absorbing, _ = env.step(jnp.array([1]))\n",
    "    step += 1\n",
    "\n",
    "env.close()"
   ]
  },
  {
   "cell_type": "markdown",
   "metadata": {},
   "source": [
    "## Time analysis"
   ]
  },
  {
   "cell_type": "code",
   "execution_count": 435,
   "metadata": {},
   "outputs": [],
   "source": [
    "import jax \n",
    "\n",
    "def f(next_state):\n",
    "    too_fast = (jnp.abs(next_state[1]) > env.max_velocity).astype(float)\n",
    "    too_far_left = (next_state[0] < -env.max_pos).astype(float)\n",
    "    too_far_right = (next_state[0] > env.max_pos).astype(float)\n",
    "\n",
    "    return (jnp.minimum(too_far_left + too_fast, 1)) * jnp.array([-1.0, 1]) + (too_far_right * (1 - too_fast)) * jnp.array([1.0, 1])\n",
    "\n",
    "jit_f = jax.jit(f)"
   ]
  },
  {
   "cell_type": "code",
   "execution_count": 443,
   "metadata": {},
   "outputs": [
    {
     "name": "stdout",
     "output_type": "stream",
     "text": [
      "500 steps: 0.025224685668945312\n"
     ]
    }
   ],
   "source": [
    "import time\n",
    "from scipy.integrate import odeint\n",
    "\n",
    "action_input = jnp.array([1])\n",
    "\n",
    "t0 = time.time()\n",
    "\n",
    "\n",
    "reward, absording = f(env.state)\n",
    "\n",
    "env.state, jnp.array([reward]), jnp.array([absorbing]), {}\n",
    "\n",
    "print(\"500 steps:\", 500 * (time.time() - t0) / 60)"
   ]
  },
  {
   "cell_type": "code",
   "execution_count": 331,
   "metadata": {},
   "outputs": [
    {
     "ename": "NameError",
     "evalue": "name 'scipy' is not defined",
     "output_type": "error",
     "traceback": [
      "\u001b[0;31m---------------------------------------------------------------------------\u001b[0m",
      "\u001b[0;31mNameError\u001b[0m                                 Traceback (most recent call last)",
      "\u001b[1;32m/home/vincent/Darmstadt/PBO/pbo/environment/car_on_hill.ipynb Cell 5\u001b[0m in \u001b[0;36m<cell line: 1>\u001b[0;34m()\u001b[0m\n\u001b[0;32m----> <a href='vscode-notebook-cell:/home/vincent/Darmstadt/PBO/pbo/environment/car_on_hill.ipynb#X14sZmlsZQ%3D%3D?line=0'>1</a>\u001b[0m scipy\u001b[39m.\u001b[39mintegrate\u001b[39m.\u001b[39msolve_ivp\n",
      "\u001b[0;31mNameError\u001b[0m: name 'scipy' is not defined"
     ]
    }
   ],
   "source": [
    "import "
   ]
  },
  {
   "cell_type": "code",
   "execution_count": null,
   "metadata": {},
   "outputs": [],
   "source": [
    "        action = self.actions_values[action[0]]\n",
    "        sa = np.append(self.state, action)\n",
    "        new_state = odeint(self._dpds, sa, [0, self._dt])\n",
    "\n",
    "        self.state = jnp.array(new_state[-1, :-1])\n",
    "\n",
    "        if self.state[0] < -self.max_pos or np.abs(self.state[1]) > self.max_velocity:\n",
    "            reward = -1.0\n",
    "            absorbing = True\n",
    "        elif self.state[0] > self.max_pos and np.abs(self.state[1]) <= self.max_velocity:\n",
    "            reward = 1.0\n",
    "            absorbing = True\n",
    "        else:\n",
    "            reward = 0.0\n",
    "            absorbing = False\n",
    "\n",
    "        return self.state, jnp.array([reward]), jnp.array([absorbing]), {}"
   ]
  }
 ],
 "metadata": {
  "kernelspec": {
   "display_name": "Python 3.8.10 ('env_cpu': venv)",
   "language": "python",
   "name": "python3"
  },
  "language_info": {
   "codemirror_mode": {
    "name": "ipython",
    "version": 3
   },
   "file_extension": ".py",
   "mimetype": "text/x-python",
   "name": "python",
   "nbconvert_exporter": "python",
   "pygments_lexer": "ipython3",
   "version": "3.8.10"
  },
  "orig_nbformat": 4,
  "vscode": {
   "interpreter": {
    "hash": "af5525a3273d35d601ae265c5d3634806dd61a1c4d085ae098611a6832982bdb"
   }
  }
 },
 "nbformat": 4,
 "nbformat_minor": 2
}
