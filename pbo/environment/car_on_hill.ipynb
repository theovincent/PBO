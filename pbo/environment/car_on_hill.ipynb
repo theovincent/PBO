{
 "cells": [
  {
   "cell_type": "code",
   "execution_count": 1,
   "metadata": {},
   "outputs": [
    {
     "name": "stderr",
     "output_type": "stream",
     "text": [
      "WARNING:absl:No GPU/TPU found, falling back to CPU. (Set TF_CPP_MIN_LOG_LEVEL=0 and rerun for more info.)\n"
     ]
    }
   ],
   "source": [
    "%load_ext autoreload\n",
    "%autoreload 2\n",
    "\n",
    "import warnings\n",
    "warnings.simplefilter(action='ignore', category=FutureWarning)\n",
    "from pbo.environment.car_on_hill import CarOnHillEnv\n",
    "import numpy as np\n",
    "\n",
    "max_pos = 1.0\n",
    "max_velocity = 3.0\n",
    "gamma = 0.9\n",
    "\n",
    "\n",
    "env = CarOnHillEnv(max_pos, max_velocity, gamma)"
   ]
  },
  {
   "cell_type": "code",
   "execution_count": 2,
   "metadata": {},
   "outputs": [],
   "source": [
    "import jax.numpy as jnp \n",
    "\n",
    "\n",
    "env.reset()\n",
    "absorbing = False\n",
    "step = 0\n",
    "\n",
    "\n",
    "while not absorbing and step < 15:\n",
    "    env.render()\n",
    "\n",
    "    _, reward, absorbing, _ = env.step(jnp.array([1]))\n",
    "    step += 1\n",
    "\n",
    "env.close()"
   ]
  },
  {
   "cell_type": "markdown",
   "metadata": {},
   "source": [
    "## Time analysis"
   ]
  },
  {
   "cell_type": "code",
   "execution_count": 3,
   "metadata": {},
   "outputs": [],
   "source": [
    "from scipy.integrate import odeint\n",
    "\n",
    "\n",
    "def old_step(environment, action: jnp.ndarray) -> tuple:\n",
    "    action = environment.actions_values[action[0]]\n",
    "    sa = np.append(environment.state, action)\n",
    "    new_state = odeint(environment._dpds, sa, [0, environment._dt])\n",
    "\n",
    "    environment.state = jnp.array(new_state[-1, :-1])\n",
    "\n",
    "    if environment.state[0] < -environment.max_pos or np.abs(environment.state[1]) > environment.max_velocity:\n",
    "        reward = -1.0\n",
    "        absorbing = True\n",
    "    elif environment.state[0] > environment.max_pos and np.abs(environment.state[1]) <= environment.max_velocity:\n",
    "        reward = 1.0\n",
    "        absorbing = True\n",
    "    else:\n",
    "        reward = 0.0\n",
    "        absorbing = False\n",
    "\n",
    "    return environment.state, jnp.array([reward]), jnp.array([absorbing]), {}"
   ]
  },
  {
   "cell_type": "code",
   "execution_count": 4,
   "metadata": {},
   "outputs": [
    {
     "name": "stdout",
     "output_type": "stream",
     "text": [
      "5000 steps: 0.3800457715988159\n"
     ]
    }
   ],
   "source": [
    "import time\n",
    "from scipy.integrate import odeint\n",
    "\n",
    "env.reset()\n",
    "\n",
    "t0 = time.time()\n",
    "\n",
    "for i in range(100):\n",
    "    old_step(env, jnp.array([i % 2]))\n",
    "\n",
    "print(\"5000 steps:\", 50 * (time.time() - t0) / 60)"
   ]
  },
  {
   "cell_type": "code",
   "execution_count": 5,
   "metadata": {},
   "outputs": [
    {
     "name": "stdout",
     "output_type": "stream",
     "text": [
      "5000 steps: 0.029874642690022785\n"
     ]
    }
   ],
   "source": [
    "env.reset()\n",
    "\n",
    "t0 = time.time()\n",
    "\n",
    "for i in range(100):\n",
    "    env.step(jnp.array([i % 2]))\n",
    "\n",
    "print(\"5000 steps:\", 50 * (time.time() - t0) / 60)"
   ]
  }
 ],
 "metadata": {
  "kernelspec": {
   "display_name": "Python 3.8.10 ('env_cpu': venv)",
   "language": "python",
   "name": "python3"
  },
  "language_info": {
   "codemirror_mode": {
    "name": "ipython",
    "version": 3
   },
   "file_extension": ".py",
   "mimetype": "text/x-python",
   "name": "python",
   "nbconvert_exporter": "python",
   "pygments_lexer": "ipython3",
   "version": "3.8.10"
  },
  "orig_nbformat": 4,
  "vscode": {
   "interpreter": {
    "hash": "af5525a3273d35d601ae265c5d3634806dd61a1c4d085ae098611a6832982bdb"
   }
  }
 },
 "nbformat": 4,
 "nbformat_minor": 2
}
