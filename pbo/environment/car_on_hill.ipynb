{
 "cells": [
  {
   "cell_type": "code",
   "execution_count": 1,
   "metadata": {},
   "outputs": [],
   "source": [
    "%load_ext autoreload\n",
    "%autoreload 2\n",
    "\n",
    "from pbo.environment.car_on_hill import CarOnHillEnv\n",
    "\n",
    "env = CarOnHillEnv(0.9)"
   ]
  },
  {
   "cell_type": "code",
   "execution_count": 2,
   "metadata": {},
   "outputs": [
    {
     "name": "stderr",
     "output_type": "stream",
     "text": [
      "WARNING:absl:No GPU/TPU found, falling back to CPU. (Set TF_CPP_MIN_LOG_LEVEL=0 and rerun for more info.)\n"
     ]
    },
    {
     "name": "stdout",
     "output_type": "stream",
     "text": [
      "[-0.5  0. ]\n",
      "[-0.4803309  0.3866922]\n",
      "[-0.4254183  0.690585 ]\n",
      "[-0.34757635  0.83584267]\n",
      "[-0.2641553   0.80664194]\n"
     ]
    }
   ],
   "source": [
    "import jax.numpy as jnp \n",
    "\n",
    "\n",
    "env.reset()\n",
    "\n",
    "\n",
    "for _ in range(5):\n",
    "    env.render()\n",
    "\n",
    "    print(env.state)\n",
    "    env.step(jnp.array([1]))\n",
    "\n",
    "env.close()"
   ]
  }
 ],
 "metadata": {
  "kernelspec": {
   "display_name": "Python 3.8.10 ('env': venv)",
   "language": "python",
   "name": "python3"
  },
  "language_info": {
   "codemirror_mode": {
    "name": "ipython",
    "version": 3
   },
   "file_extension": ".py",
   "mimetype": "text/x-python",
   "name": "python",
   "nbconvert_exporter": "python",
   "pygments_lexer": "ipython3",
   "version": "3.8.10"
  },
  "orig_nbformat": 4,
  "vscode": {
   "interpreter": {
    "hash": "1432d270abb514d077d760a4c8d2edd41cc0752b595b0513fca29951003961c1"
   }
  }
 },
 "nbformat": 4,
 "nbformat_minor": 2
}
