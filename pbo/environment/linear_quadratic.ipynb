{
 "cells": [
  {
   "cell_type": "code",
   "execution_count": 21,
   "metadata": {},
   "outputs": [],
   "source": [
    "import numpy as np \n",
    "from mushroom_rl.environments import LQR\n",
    "\n",
    "mdp = LQR(\n",
    "    2 * np.random.random(size=(1, 1)) - 1,\n",
    "    2 * np.random.random(size=(1, 1)) - 1,\n",
    "    2 * np.random.random(size=(1, 1)) - 1,\n",
    "    2 * np.random.random(size=(1, 1)) - 1,\n",
    "    max_pos=10,\n",
    "    max_action=10,\n",
    "    initial_state=np.array([0]),\n",
    ")"
   ]
  },
  {
   "cell_type": "code",
   "execution_count": 12,
   "metadata": {},
   "outputs": [
    {
     "data": {
      "text/plain": [
       "0"
      ]
     },
     "execution_count": 12,
     "metadata": {},
     "output_type": "execute_result"
    }
   ],
   "source": [
    "mdp.reset()"
   ]
  },
  {
   "cell_type": "code",
   "execution_count": 22,
   "metadata": {},
   "outputs": [
    {
     "data": {
      "text/plain": [
       "(array([[0.68039847]]), array([[-0.67849909]]))"
      ]
     },
     "execution_count": 22,
     "metadata": {},
     "output_type": "execute_result"
    }
   ],
   "source": [
    "mdp.Q, mdp.R"
   ]
  }
 ],
 "metadata": {
  "interpreter": {
   "hash": "637b3343a8f1690def737a76a7e83ae3a0770ea616a4909b65899c37d05cb3cc"
  },
  "kernelspec": {
   "display_name": "Python 3.8.10 ('env': venv)",
   "language": "python",
   "name": "python3"
  },
  "language_info": {
   "codemirror_mode": {
    "name": "ipython",
    "version": 3
   },
   "file_extension": ".py",
   "mimetype": "text/x-python",
   "name": "python",
   "nbconvert_exporter": "python",
   "pygments_lexer": "ipython3",
   "version": "3.8.10"
  },
  "orig_nbformat": 4
 },
 "nbformat": 4,
 "nbformat_minor": 2
}
