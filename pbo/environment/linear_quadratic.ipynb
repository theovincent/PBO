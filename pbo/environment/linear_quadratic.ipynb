{
 "cells": [
  {
   "cell_type": "markdown",
   "metadata": {},
   "source": [
    "## Define the environment"
   ]
  },
  {
   "cell_type": "code",
   "execution_count": 8,
   "metadata": {},
   "outputs": [
    {
     "name": "stdout",
     "output_type": "stream",
     "text": [
      "Transition: s' = As + Ba\n",
      "Transition: s' = -2.71s + -9.2a\n",
      "Reward: Qs² + Ra² + 2 Ssa\n",
      "Reward: -2.63s² + -9.41a² + -7.84sa\n"
     ]
    }
   ],
   "source": [
    "import numpy as np \n",
    "from pbo.environment.linear_quadratic import LinearQuadraticEnv\n",
    "\n",
    "env = LinearQuadraticEnv(max_state=10, max_action=10)"
   ]
  },
  {
   "cell_type": "markdown",
   "metadata": {},
   "source": [
    "## Test random agent"
   ]
  },
  {
   "cell_type": "code",
   "execution_count": 9,
   "metadata": {},
   "outputs": [
    {
     "name": "stdout",
     "output_type": "stream",
     "text": [
      "State: 3 Action: 0.91 Reward: -52.7361\n",
      "State: -10.0 Action: 0.46 Reward: -228.6492\n",
      "State: 10.0 Action: 0.5 Reward: -304.8608\n",
      "State: -10.0 Action: -0.95 Reward: -345.7079\n",
      "State: 10.0 Action: 0.69 Reward: -321.8144\n",
      "State: -10.0 Action: 0.91 Reward: -199.3837\n",
      "State: 10.0 Action: -1.0 Reward: -194.0642\n",
      "State: -10.0 Action: -0.91 Reward: -342.4143\n",
      "State: 10.0 Action: 0.12 Reward: -272.6523\n",
      "State: -10.0 Action: 0.5 Reward: -225.9548\n",
      "Sum reward: -2488.2379508988265\n"
     ]
    }
   ],
   "source": [
    "initial_state = np.array([3])\n",
    "state = env.reset(state=initial_state)\n",
    "terminal = False\n",
    "step = 0\n",
    "sum_reward = 0\n",
    "\n",
    "while not terminal and step < 10:\n",
    "    action = np.random.uniform(-1, 1, size=1)\n",
    "    next_state, reward, terminal, _ = env.step(action)\n",
    "\n",
    "    print(f\"State: {np.around(state[0], 2)}\", end=\" \")\n",
    "    print(f\"Action: {np.around(action[0], 2)}\", end=\" \")\n",
    "    print(f\"Reward: {np.around(reward, 4)}\")\n",
    "\n",
    "    state = next_state\n",
    "    sum_reward += reward\n",
    "    step += 1\n",
    "\n",
    "print(f\"Sum reward: {sum_reward}\")"
   ]
  },
  {
   "cell_type": "markdown",
   "metadata": {},
   "source": [
    "## Test optimal agent"
   ]
  },
  {
   "cell_type": "code",
   "execution_count": 14,
   "metadata": {},
   "outputs": [
    {
     "name": "stdout",
     "output_type": "stream",
     "text": [
      "State: 3 Action: -0.92 Reward: -10.0303\n",
      "State: 0.3 Action: -0.09 Reward: -0.1013\n",
      "State: 0.03 Action: -0.01 Reward: -0.001\n",
      "State: 0.0 Action: -0.0 Reward: -0.0\n",
      "State: 0.0 Action: -0.0 Reward: -0.0\n",
      "State: 0.0 Action: -0.0 Reward: -0.0\n",
      "State: 0.0 Action: -0.0 Reward: -0.0\n",
      "State: 0.0 Action: -0.0 Reward: -0.0\n",
      "State: 0.0 Action: -0.0 Reward: -0.0\n",
      "State: 0.0 Action: -0.0 Reward: -0.0\n",
      "Sum reward: -10.132686460508383\n"
     ]
    }
   ],
   "source": [
    "initial_state = np.array([3])\n",
    "state = env.reset(state=initial_state)\n",
    "terminal = False\n",
    "step = 0\n",
    "sum_reward = 0\n",
    "\n",
    "\n",
    "while not terminal and step < 10:\n",
    "    action = env.optimal_action()\n",
    "    next_state, reward, terminal, _ = env.step(action)\n",
    "\n",
    "    print(f\"State: {np.around(state[0], 2)}\", end=\" \")\n",
    "    print(f\"Action: {np.around(action[0], 2)}\", end=\" \")\n",
    "    print(f\"Reward: {np.around(reward, 4)}\")\n",
    "\n",
    "    state = next_state\n",
    "    sum_reward += reward\n",
    "    step += 1\n",
    "print(f\"Sum reward: {sum_reward}\")"
   ]
  }
 ],
 "metadata": {
  "interpreter": {
   "hash": "637b3343a8f1690def737a76a7e83ae3a0770ea616a4909b65899c37d05cb3cc"
  },
  "kernelspec": {
   "display_name": "Python 3.8.10 ('env': venv)",
   "language": "python",
   "name": "python3"
  },
  "language_info": {
   "codemirror_mode": {
    "name": "ipython",
    "version": 3
   },
   "file_extension": ".py",
   "mimetype": "text/x-python",
   "name": "python",
   "nbconvert_exporter": "python",
   "pygments_lexer": "ipython3",
   "version": "3.8.10"
  },
  "orig_nbformat": 4
 },
 "nbformat": 4,
 "nbformat_minor": 2
}
