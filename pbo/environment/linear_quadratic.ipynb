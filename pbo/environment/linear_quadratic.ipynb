{
 "cells": [
  {
   "cell_type": "code",
   "execution_count": 5,
   "metadata": {},
   "outputs": [
    {
     "name": "stdout",
     "output_type": "stream",
     "text": [
      "Transition: s' = As + Ba\n",
      "Transition: s' = -0.76s + -0.76a\n",
      "Reward: Qs² + Ra² + 2 Sas\n",
      "Reward: -0.95s² + -0.47a² + -0.36as\n"
     ]
    }
   ],
   "source": [
    "import numpy as np \n",
    "from pbo.environment.linear_quadratic import LinearQuadraticEnv\n",
    "\n",
    "mdp = LinearQuadraticEnv(\n",
    "    A=2 * np.random.random(size=(1, 1)) - 1,\n",
    "    B=2 * np.random.random(size=(1, 1)) - 1,\n",
    "    Q=2 * np.random.random(size=(1, 1)) - 1,\n",
    "    R=2 * np.random.random(size=(1, 1)) - 1,\n",
    "    S=2 * np.random.random(size=(1, 1)) - 1,\n",
    "    max_pos=10,\n",
    "    max_action=10,\n",
    "    initial_state=np.array([3]),\n",
    ")\n",
    "\n",
    "print(\"Transition: s' = As + Ba\")\n",
    "print(f\"Transition: s' = {np.around(mdp.A[0, 0], 2)}s + {np.around(mdp.A[0, 0], 2)}a\")\n",
    "print(\"Reward: Qs² + Ra² + 2 Sas\")\n",
    "print(f\"Reward: {np.around(mdp.Q[0, 0], 2)}s² + {np.around(mdp.R[0, 0], 2)}a² + {2 * np.around(mdp.S[0, 0], 2)}as\")"
   ]
  },
  {
   "cell_type": "code",
   "execution_count": 6,
   "metadata": {},
   "outputs": [
    {
     "name": "stdout",
     "output_type": "stream",
     "text": [
      "State: 3 Action: 0.25 Reward: -8.8236\n",
      "State: -2.4 Action: 0.83 Reward: -5.0441\n",
      "State: 1.48 Action: -0.49 Reward: -1.937\n",
      "State: -0.93 Action: -0.28 Reward: -0.9485\n",
      "State: 0.83 Action: -0.84 Reward: -0.727\n",
      "State: -0.28 Action: -0.13 Reward: -0.0955\n",
      "State: 0.27 Action: 0.3 Reward: -0.1406\n",
      "State: -0.33 Action: 0.16 Reward: -0.0969\n",
      "State: 0.19 Action: 0.45 Reward: -0.1589\n",
      "State: -0.33 Action: 0.23 Reward: -0.1002\n"
     ]
    }
   ],
   "source": [
    "state = mdp.reset()\n",
    "terminal = False\n",
    "step = 0\n",
    "\n",
    "while not terminal and step < 10:\n",
    "    action = 2 * np.random.random(size=1) - 1\n",
    "    next_state, reward, terminal, _ = mdp.step(action)\n",
    "\n",
    "    print(f\"State: {np.around(state[0], 2)}\", end=\" \")\n",
    "    print(f\"Action: {np.around(action[0], 2)}\", end=\" \")\n",
    "    print(f\"Reward: {np.around(reward, 4)}\")\n",
    "\n",
    "    state = next_state\n",
    "    step += 1"
   ]
  }
 ],
 "metadata": {
  "interpreter": {
   "hash": "637b3343a8f1690def737a76a7e83ae3a0770ea616a4909b65899c37d05cb3cc"
  },
  "kernelspec": {
   "display_name": "Python 3.8.10 ('env': venv)",
   "language": "python",
   "name": "python3"
  },
  "language_info": {
   "codemirror_mode": {
    "name": "ipython",
    "version": 3
   },
   "file_extension": ".py",
   "mimetype": "text/x-python",
   "name": "python",
   "nbconvert_exporter": "python",
   "pygments_lexer": "ipython3",
   "version": "3.8.10"
  },
  "orig_nbformat": 4
 },
 "nbformat": 4,
 "nbformat_minor": 2
}
