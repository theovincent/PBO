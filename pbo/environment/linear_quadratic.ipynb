{
 "cells": [
  {
   "cell_type": "markdown",
   "metadata": {},
   "source": [
    "## Define the environment"
   ]
  },
  {
   "cell_type": "code",
   "execution_count": 4,
   "metadata": {},
   "outputs": [
    {
     "name": "stdout",
     "output_type": "stream",
     "text": [
      "Transition: s' = As + Ba\n",
      "Transition: s' = -0.44256162643432617s + 0.37337517738342285a\n",
      "Reward: Qs² + Ra² + 2 Ssa\n",
      "Reward: -0.41404926776885986s² + -0.48342466354370117a² + 0.8196666240692139sa\n"
     ]
    }
   ],
   "source": [
    "import numpy as np \n",
    "from pbo.environment.linear_quadratic import LinearQuadraticEnv\n",
    "import jax\n",
    "\n",
    "\n",
    "key = jax.random.PRNGKey(0)\n",
    "\n",
    "env = LinearQuadraticEnv(key, max_init_state=5)"
   ]
  },
  {
   "cell_type": "markdown",
   "metadata": {},
   "source": [
    "## Test random agent"
   ]
  },
  {
   "cell_type": "code",
   "execution_count": 5,
   "metadata": {},
   "outputs": [
    {
     "name": "stdout",
     "output_type": "stream",
     "text": [
      "State: 3 Action: -0.95 Reward: [-6.4953]\n",
      "State: -1.6799999475479126 Action: -0.45 Reward: [-0.6468]\n",
      "State: 0.5799999833106995 Action: -0.7 Reward: [-0.7091]\n",
      "State: -0.5199999809265137 Action: -0.94 Reward: [-0.14109999]\n",
      "State: -0.11999999731779099 Action: 0.66 Reward: [-0.2857]\n",
      "State: 0.29999998211860657 Action: 0.45 Reward: [-0.0239]\n",
      "State: 0.029999999329447746 Action: -0.38 Reward: [-0.07889999]\n",
      "State: -0.14999999105930328 Action: 0.54 Reward: [-0.2224]\n",
      "State: 0.26999998092651367 Action: 0.43 Reward: [-0.0241]\n",
      "State: 0.03999999910593033 Action: -0.24 Reward: [-0.0375]\n",
      "Sum reward: [-8.664504]\n"
     ]
    }
   ],
   "source": [
    "initial_state = np.array([3])\n",
    "state = env.reset(state=initial_state)\n",
    "terminal = False\n",
    "step = 0\n",
    "sum_reward = 0\n",
    "\n",
    "while not terminal and step < 10:\n",
    "    action = np.random.uniform(-1, 1, size=1)\n",
    "    next_state, reward, terminal, _ = env.step(action)\n",
    "\n",
    "    print(f\"State: {np.around(state[0], 2)}\", end=\" \")\n",
    "    print(f\"Action: {np.around(action[0], 2)}\", end=\" \")\n",
    "    print(f\"Reward: {np.around(reward, 4)}\")\n",
    "\n",
    "    state = next_state\n",
    "    sum_reward += reward\n",
    "    step += 1\n",
    "\n",
    "print(f\"Sum reward: {sum_reward}\")"
   ]
  },
  {
   "cell_type": "markdown",
   "metadata": {},
   "source": [
    "## Test optimal agent"
   ]
  },
  {
   "cell_type": "code",
   "execution_count": 6,
   "metadata": {},
   "outputs": [
    {
     "name": "stdout",
     "output_type": "stream",
     "text": [
      "State: 3 Action: 2.559999942779541 Reward: [-0.59959996]\n",
      "State: -0.3700000047683716 Action: -0.3199999928474426 Reward: [-0.0092]\n",
      "State: 0.04999999701976776 Action: 0.03999999910593033 Reward: [-1.e-04]\n",
      "State: -0.009999999776482582 Action: 0.0 Reward: [0.]\n",
      "State: 0.0 Action: 0.0 Reward: [0.]\n",
      "State: 0.0 Action: 0.0 Reward: [0.]\n",
      "State: 0.0 Action: 0.0 Reward: [0.]\n",
      "State: 0.0 Action: 0.0 Reward: [0.]\n",
      "State: 0.0 Action: 0.0 Reward: [0.]\n",
      "State: 0.0 Action: 0.0 Reward: [0.]\n",
      "Sum reward: [-0.6089273]\n"
     ]
    }
   ],
   "source": [
    "initial_state = np.array([3])\n",
    "state = env.reset(state=initial_state)\n",
    "terminal = False\n",
    "step = 0\n",
    "sum_reward = 0\n",
    "\n",
    "\n",
    "while not terminal and step < 10:\n",
    "    action = env.optimal_action()\n",
    "    next_state, reward, terminal, _ = env.step(action)\n",
    "\n",
    "    print(f\"State: {np.around(state[0], 2)}\", end=\" \")\n",
    "    print(f\"Action: {np.around(action[0], 2)}\", end=\" \")\n",
    "    print(f\"Reward: {np.around(reward, 4)}\")\n",
    "\n",
    "    state = next_state\n",
    "    sum_reward += reward\n",
    "    step += 1\n",
    "print(f\"Sum reward: {sum_reward}\")"
   ]
  }
 ],
 "metadata": {
  "kernelspec": {
   "display_name": "Python 3.8.10 ('env': venv)",
   "language": "python",
   "name": "python3"
  },
  "language_info": {
   "codemirror_mode": {
    "name": "ipython",
    "version": 3
   },
   "file_extension": ".py",
   "mimetype": "text/x-python",
   "name": "python",
   "nbconvert_exporter": "python",
   "pygments_lexer": "ipython3",
   "version": "3.8.10"
  },
  "orig_nbformat": 4,
  "vscode": {
   "interpreter": {
    "hash": "1432d270abb514d077d760a4c8d2edd41cc0752b595b0513fca29951003961c1"
   }
  }
 },
 "nbformat": 4,
 "nbformat_minor": 2
}
