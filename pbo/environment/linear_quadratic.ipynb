{
 "cells": [
  {
   "cell_type": "markdown",
   "metadata": {},
   "source": [
    "## Define the environment"
   ]
  },
  {
   "cell_type": "code",
   "execution_count": 1,
   "metadata": {},
   "outputs": [
    {
     "name": "stdout",
     "output_type": "stream",
     "text": [
      "Transition: s' = As + Ba\n",
      "Transition: s' = 0.75s + 7.68a\n",
      "Reward: Qs² + Ra² + 2 Ssa\n",
      "Reward: -6.63s² + 8.86a² + -9.98sa\n"
     ]
    }
   ],
   "source": [
    "import numpy as np \n",
    "from pbo.environment.linear_quadratic import LinearQuadraticEnv\n",
    "\n",
    "env = LinearQuadraticEnv(max_state=10, max_action=10)"
   ]
  },
  {
   "cell_type": "markdown",
   "metadata": {},
   "source": [
    "## Test random agent"
   ]
  },
  {
   "cell_type": "code",
   "execution_count": 2,
   "metadata": {},
   "outputs": [
    {
     "name": "stdout",
     "output_type": "stream",
     "text": [
      "State: 3 Action: 0.15 Reward: -64.0117\n",
      "State: 3.41 Action: 0.08 Reward: -79.9077\n",
      "State: 3.16 Action: 0.34 Reward: -75.7654\n",
      "State: 4.96 Action: -0.15 Reward: -155.355\n",
      "State: 2.59 Action: -0.23 Reward: -38.2513\n",
      "State: 0.22 Action: 0.8 Reward: 3.621\n",
      "State: 6.29 Action: 0.18 Reward: -273.6145\n",
      "State: 6.14 Action: 0.22 Reward: -262.8402\n",
      "State: 6.3 Action: -0.36 Reward: -239.0955\n",
      "State: 1.96 Action: 0.83 Reward: -35.6203\n",
      "Sum reward: -1220.8405640331735\n"
     ]
    }
   ],
   "source": [
    "initial_state = np.array([3])\n",
    "state = env.reset(state=initial_state)\n",
    "terminal = False\n",
    "step = 0\n",
    "sum_reward = 0\n",
    "\n",
    "while not terminal and step < 10:\n",
    "    action = np.random.uniform(-1, 1, size=1)\n",
    "    next_state, reward, terminal, _ = env.step(action)\n",
    "\n",
    "    print(f\"State: {np.around(state[0], 2)}\", end=\" \")\n",
    "    print(f\"Action: {np.around(action[0], 2)}\", end=\" \")\n",
    "    print(f\"Reward: {np.around(reward, 4)}\")\n",
    "\n",
    "    state = next_state\n",
    "    sum_reward += reward\n",
    "    step += 1\n",
    "\n",
    "print(f\"Sum reward: {sum_reward}\")"
   ]
  },
  {
   "cell_type": "markdown",
   "metadata": {},
   "source": [
    "## Test optimal agent"
   ]
  },
  {
   "cell_type": "code",
   "execution_count": 3,
   "metadata": {},
   "outputs": [
    {
     "name": "stdout",
     "output_type": "stream",
     "text": [
      "State: 3 Action: -0.35 Reward: -48.1232\n",
      "State: -0.43 Action: 0.05 Reward: -0.9947\n",
      "State: 0.06 Action: -0.01 Reward: -0.0206\n",
      "State: -0.01 Action: 0.0 Reward: -0.0004\n",
      "State: 0.0 Action: -0.0 Reward: -0.0\n",
      "State: -0.0 Action: 0.0 Reward: -0.0\n",
      "State: 0.0 Action: -0.0 Reward: -0.0\n",
      "State: -0.0 Action: 0.0 Reward: -0.0\n",
      "State: 0.0 Action: -0.0 Reward: -0.0\n",
      "State: -0.0 Action: 0.0 Reward: -0.0\n",
      "Sum reward: -49.13890580906188\n"
     ]
    }
   ],
   "source": [
    "initial_state = np.array([3])\n",
    "state = env.reset(state=initial_state)\n",
    "terminal = False\n",
    "step = 0\n",
    "sum_reward = 0\n",
    "\n",
    "\n",
    "while not terminal and step < 10:\n",
    "    action = env.optimal_action()\n",
    "    next_state, reward, terminal, _ = env.step(action)\n",
    "\n",
    "    print(f\"State: {np.around(state[0], 2)}\", end=\" \")\n",
    "    print(f\"Action: {np.around(action[0], 2)}\", end=\" \")\n",
    "    print(f\"Reward: {np.around(reward, 4)}\")\n",
    "\n",
    "    state = next_state\n",
    "    sum_reward += reward\n",
    "    step += 1\n",
    "print(f\"Sum reward: {sum_reward}\")"
   ]
  }
 ],
 "metadata": {
  "interpreter": {
   "hash": "637b3343a8f1690def737a76a7e83ae3a0770ea616a4909b65899c37d05cb3cc"
  },
  "kernelspec": {
   "display_name": "Python 3.8.10 ('env': venv)",
   "language": "python",
   "name": "python3"
  },
  "language_info": {
   "codemirror_mode": {
    "name": "ipython",
    "version": 3
   },
   "file_extension": ".py",
   "mimetype": "text/x-python",
   "name": "python",
   "nbconvert_exporter": "python",
   "pygments_lexer": "ipython3",
   "version": "3.8.10"
  },
  "orig_nbformat": 4
 },
 "nbformat": 4,
 "nbformat_minor": 2
}
