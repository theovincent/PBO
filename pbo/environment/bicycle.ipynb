{
 "cells": [
  {
   "cell_type": "code",
   "execution_count": 21,
   "metadata": {},
   "outputs": [
    {
     "name": "stdout",
     "output_type": "stream",
     "text": [
      "The autoreload extension is already loaded. To reload it, use:\n",
      "  %reload_ext autoreload\n"
     ]
    }
   ],
   "source": [
    "%load_ext autoreload\n",
    "%autoreload 2\n",
    "\n",
    "import jax\n",
    "from pbo.environment.bicycle import BicycleEnv\n",
    "\n",
    "\n",
    "env = BicycleEnv(jax.random.PRNGKey(10))"
   ]
  },
  {
   "cell_type": "code",
   "execution_count": 25,
   "metadata": {},
   "outputs": [],
   "source": [
    "env.reset()\n",
    "\n",
    "for _ in range(1000):\n",
    "    action = [0, 0]\n",
    "    state, reward, absorbing = env.step(action)\n",
    "\n",
    "    if absorbing[0]:\n",
    "        break\n",
    "    env.render(action)\n",
    "    env.add_position()"
   ]
  },
  {
   "cell_type": "code",
   "execution_count": 26,
   "metadata": {},
   "outputs": [],
   "source": [
    "env.close()"
   ]
  },
  {
   "cell_type": "code",
   "execution_count": 147,
   "metadata": {},
   "outputs": [],
   "source": [
    "import numpy as np \n",
    "\n",
    "from pbo.environment.viewer import Viewer\n",
    "\n",
    "state = env.state\n",
    "\n",
    "viewer = Viewer(2, 2, width=1000, height=1000)\n",
    "\n",
    "dark_blue = (102, 153, 255)\n",
    "light_blue = (131, 247, 228)\n",
    "grey = (200, 200, 200)\n",
    "red = (255, 0, 0)\n",
    "\n",
    "omega, _, theta, _, psi = state\n",
    "\n",
    "# Split in three screens\n",
    "viewer.line([1, 0], [1, 1], width=2)\n",
    "viewer.line([0, 1], [2, 1], width=2)\n",
    "center_left = [0.5, 0.5]\n",
    "center_right = [1.5, 0.1]\n",
    "center_top = [1, 1.5]\n",
    "\n",
    "# --- Left plot --- #\n",
    "# Axes\n",
    "viewer.text(viewer._translate([0.4, -0.04], center_left), \"x\")\n",
    "viewer.line(\n",
    "    viewer._translate([-0.4, 0], center_left), viewer._translate([0.4, 0], center_left), width=2\n",
    ")\n",
    "viewer.arrow_head(viewer._translate([0.4, 0], center_left), 0.05, 0)\n",
    "viewer.text(viewer._translate([-0.06, 0.4], center_left), \"y\")\n",
    "viewer.line(\n",
    "    viewer._translate([0, -0.4], center_left), viewer._translate([0, 0.4], center_left), width=2\n",
    ")\n",
    "viewer.arrow_head(viewer._translate([0, 0.4], center_left), 0.05, np.pi / 2)\n",
    "viewer.text(viewer._translate([-0.45, -0.4], center_left), \"z\")\n",
    "viewer.circle(viewer._translate([-0.4, -0.4], center_left), 0.01, width=1)\n",
    "viewer.circle(viewer._translate([-0.4, -0.4], center_left), 0.005, width=2)\n",
    "\n",
    "# Bicycle\n",
    "viewer.line(\n",
    "    viewer._translate(viewer._rotate([-0.3, 0], psi), center_left),\n",
    "    viewer._translate(viewer._rotate([0.3, 0], psi), center_left),\n",
    "    color=dark_blue,\n",
    "    width=5,\n",
    ")\n",
    "\n",
    "# Handbar\n",
    "viewer.line(\n",
    "    viewer._translate(\n",
    "        viewer._rotate([0, -0.15], psi), center_left + viewer._rotate([0.3, 0], psi)\n",
    "    ),\n",
    "    viewer._translate(\n",
    "        viewer._rotate([0, 0.15], psi), center_left + viewer._rotate([0.3, 0], psi)\n",
    "    ),\n",
    "    color=grey,\n",
    "    width=1,\n",
    ")\n",
    "viewer.line(\n",
    "    viewer._translate(\n",
    "        viewer._rotate([0, -0.15], psi + theta), center_left + viewer._rotate([0.3, 0], psi)\n",
    "    ),\n",
    "    viewer._translate(\n",
    "        viewer._rotate([0, 0.15], psi + theta), center_left + viewer._rotate([0.3, 0], psi)\n",
    "    ),\n",
    "    color=light_blue,\n",
    "    width=5,\n",
    ")\n",
    "\n",
    "# Torque\n",
    "if action is not None:\n",
    "    viewer.torque_arrow(center_left + viewer._rotate([0.3, 0], psi), action[1], 2, 0.1)\n",
    "\n",
    "# --- Right plot --- #\n",
    "# Axes\n",
    "viewer.text(viewer._translate([0.4, -0.04], center_right), \"x\")\n",
    "viewer.line(\n",
    "    viewer._translate([-0.4, 0], center_right), viewer._translate([0.4, 0], center_right), width=2\n",
    ")\n",
    "viewer.arrow_head(viewer._translate([0.4, 0], center_right), 0.05, 0)\n",
    "viewer.text(viewer._translate([-0.06, 0.7], center_right), \"z\")\n",
    "viewer.line(\n",
    "    viewer._translate([0, -0.1], center_right), viewer._translate([0, 0.7], center_right), width=2\n",
    ")\n",
    "viewer.arrow_head(viewer._translate([0, 0.7], center_right), 0.05, np.pi / 2)\n",
    "viewer.text(viewer._translate([0.4, 0.78], center_right), \"y\")\n",
    "viewer.circle(viewer._translate([0.4, 0.8], center_right), 0.01, width=1)\n",
    "viewer.line(\n",
    "    viewer._translate(viewer._rotate([-0.01, 0], np.pi / 4), center_right + np.array([0.4, 0.8])),\n",
    "    viewer._translate(viewer._rotate([0.01, 0], np.pi / 4), center_right + np.array([0.4, 0.8])),\n",
    "    width=1,\n",
    ")\n",
    "viewer.line(\n",
    "    viewer._translate(viewer._rotate([0, -0.01], np.pi / 4), center_right + np.array([0.4, 0.8])),\n",
    "    viewer._translate(viewer._rotate([0, 0.01], np.pi / 4), center_right + np.array([0.4, 0.8])),\n",
    "    width=1,\n",
    ")\n",
    "\n",
    "# Bicycle\n",
    "viewer.line(\n",
    "    viewer._translate([0, 0], center_right),\n",
    "    viewer._translate(viewer._rotate([0, 0.7], -env.omega_bound), center_right),\n",
    "    color=grey,\n",
    "    width=1,\n",
    ")\n",
    "viewer.line(\n",
    "    viewer._translate([0, 0], center_right),\n",
    "    viewer._translate(viewer._rotate([0, 0.7], env.omega_bound), center_right),\n",
    "    color=grey,\n",
    "    width=1,\n",
    ")\n",
    "viewer.line(\n",
    "    viewer._translate([0, 0], center_right),\n",
    "    viewer._translate(viewer._rotate([0, 0.7], -omega), center_right),\n",
    "    color=dark_blue,\n",
    "    width=5,\n",
    ")\n",
    "\n",
    "# Center of mass\n",
    "if action is not None:\n",
    "    viewer.circle(\n",
    "        viewer._translate(\n",
    "            viewer._rotate([action[0] * 0.02 * 0.7 / env._h, 0.7], -omega), center_right\n",
    "        ),\n",
    "        0.01,\n",
    "        color=red,\n",
    "        width=10,\n",
    "    )\n",
    "\n",
    "# --- Top plot --- #\n",
    "# Axes\n",
    "viewer.text(viewer._translate([0.8, -0.04], center_top), \"x\")\n",
    "viewer.line(\n",
    "    viewer._translate([-0.8, 0], center_top), viewer._translate([0.8, 0], center_top), width=2\n",
    ")\n",
    "viewer.arrow_head(viewer._translate([0.8, 0], center_top), 0.05, 0)\n",
    "viewer.text(viewer._translate([-0.06, 0.4], center_top), \"y\")\n",
    "viewer.line(\n",
    "    viewer._translate([0, -0.4], center_top), viewer._translate([0, 0.4], center_top), width=2\n",
    ")\n",
    "viewer.arrow_head(viewer._translate([0, 0.4], center_top), 0.05, np.pi / 2)\n",
    "viewer.text(viewer._translate([-0.45, -0.4], center_top), \"z\")\n",
    "viewer.circle(viewer._translate([-0.4, -0.4], center_top), 0.01, width=1)\n",
    "viewer.circle(viewer._translate([-0.4, -0.4], center_top), 0.005, width=2)\n",
    "\n",
    "# Add positions\n",
    "for position in env.positions:\n",
    "    viewer.line(viewer._translate(position[:2] / (2.1 * env.max_distance), center_top), viewer._translate(position[2:] / (2.1 * env.max_distance), center_top))\n",
    "\n",
    "viewer.display(10)\n",
    "viewer.close()"
   ]
  },
  {
   "cell_type": "code",
   "execution_count": 134,
   "metadata": {},
   "outputs": [
    {
     "data": {
      "text/plain": [
       "[<matplotlib.lines.Line2D at 0x7fd2709d0400>]"
      ]
     },
     "execution_count": 134,
     "metadata": {},
     "output_type": "execute_result"
    },
    {
     "data": {
      "image/png": "[encoded data removed]",
      "text/plain": [
       "<Figure size 432x288 with 1 Axes>"
      ]
     },
     "metadata": {
      "needs_background": "light"
     },
     "output_type": "display_data"
    }
   ],
   "source": [
    "import matplotlib.pyplot as plt\n",
    "\n",
    "\n",
    "plt.plot([env.positions[i][0] for i in range(len(env.positions))], [env.positions[i][1] for i in range(len(env.positions))])\n",
    "plt.plot([env.positions[i][2] for i in range(len(env.positions))], [env.positions[i][3] for i in range(len(env.positions))])"
   ]
  },
  {
   "cell_type": "code",
   "execution_count": 149,
   "metadata": {},
   "outputs": [],
   "source": [
    "env.close()"
   ]
  }
 ],
 "metadata": {
  "kernelspec": {
   "display_name": "Python 3.8.10 ('env_cpu': venv)",
   "language": "python",
   "name": "python3"
  },
  "language_info": {
   "codemirror_mode": {
    "name": "ipython",
    "version": 3
   },
   "file_extension": ".py",
   "mimetype": "text/x-python",
   "name": "python",
   "nbconvert_exporter": "python",
   "pygments_lexer": "ipython3",
   "version": "3.8.10"
  },
  "orig_nbformat": 4,
  "vscode": {
   "interpreter": {
    "hash": "af5525a3273d35d601ae265c5d3634806dd61a1c4d085ae098611a6832982bdb"
   }
  }
 },
 "nbformat": 4,
 "nbformat_minor": 2
}
