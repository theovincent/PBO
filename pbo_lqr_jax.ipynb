{
 "cells": [
  {
   "cell_type": "markdown",
   "metadata": {},
   "source": [
    "# PBO against LQR\n",
    "\n",
    "## Define environment"
   ]
  },
  {
   "cell_type": "code",
   "execution_count": 8,
   "metadata": {},
   "outputs": [
    {
     "name": "stdout",
     "output_type": "stream",
     "text": [
      "The autoreload extension is already loaded. To reload it, use:\n",
      "  %reload_ext autoreload\n",
      "Transition: s' = As + Ba\n",
      "Transition: s' = 4.08s + -1.95a\n",
      "Reward: Qs² + Ra² + 2 Ssa\n",
      "Reward: -7.89s² + -2.3a² + -4.2sa\n"
     ]
    }
   ],
   "source": [
    "%load_ext autoreload\n",
    "%autoreload 2\n",
    "\n",
    "import numpy as np\n",
    "\n",
    "from pbo.environment.linear_quadratic import LinearQuadraticEnv\n",
    "\n",
    "\n",
    "max_discrete_state = 7\n",
    "env = LinearQuadraticEnv(max_init_state=max_discrete_state)"
   ]
  },
  {
   "cell_type": "markdown",
   "metadata": {},
   "source": [
    "## Data collection"
   ]
  },
  {
   "cell_type": "code",
   "execution_count": 9,
   "metadata": {},
   "outputs": [],
   "source": [
    "from pbo.data_collection.replay_buffer import ReplayBuffer\n",
    "\n",
    "\n",
    "max_discrete_action = 9\n",
    "n_samples = 100\n",
    "epsilon_greedy = 0.7\n",
    "max_episode_length = 4\n",
    "\n",
    "replay_buffer = ReplayBuffer()\n",
    "\n",
    "state = env.reset()\n",
    "idx_sample = 0\n",
    "epidose_length = 0\n",
    "\n",
    "while idx_sample < n_samples:\n",
    "    if np.random.random() < epsilon_greedy:\n",
    "        action = env.optimal_action()\n",
    "    else:\n",
    "        action = np.random.uniform(-max_discrete_action, max_discrete_action, size=1)\n",
    "    next_state, reward, _, _ = env.step(action)\n",
    "\n",
    "    replay_buffer.add(state, action, np.array([reward]), next_state)\n",
    "\n",
    "    epidose_length += 1\n",
    "    idx_sample += 1\n",
    "\n",
    "    if epidose_length >= max_episode_length:\n",
    "        state = env.reset()\n",
    "        epidose_length = 0\n",
    "    else:    \n",
    "        state = next_state\n"
   ]
  },
  {
   "cell_type": "markdown",
   "metadata": {},
   "source": [
    "## Visualize samples"
   ]
  },
  {
   "cell_type": "code",
   "execution_count": 10,
   "metadata": {},
   "outputs": [
    {
     "data": {
      "image/png": "[encoded data removed]",
      "text/plain": [
       "<Figure size 432x288 with 2 Axes>"
      ]
     },
     "metadata": {
      "needs_background": "light"
     },
     "output_type": "display_data"
    }
   ],
   "source": [
    "from pbo.data_collection.count_samples import count_samples\n",
    "from pbo.utils.state_action_mesh import StateActionMesh\n",
    "\n",
    "\n",
    "n_discrete_states = 5\n",
    "n_discrete_actions = 7\n",
    "\n",
    "samples_count, n_outside_boxes = count_samples(\n",
    "    replay_buffer, max_discrete_state, n_discrete_states, max_discrete_action, n_discrete_actions\n",
    ")\n",
    "samples_visualization_mesh = StateActionMesh(\n",
    "    max_discrete_state, n_discrete_states, max_discrete_action, n_discrete_actions, sleeping_time=0\n",
    ")\n",
    "\n",
    "samples_visualization_mesh.set_values(samples_count)\n",
    "samples_visualization_mesh.show(\n",
    "    f\"Samples repartition, \\n{int(100 * n_outside_boxes / n_samples)}% are outside the box.\"\n",
    ")\n"
   ]
  },
  {
   "cell_type": "code",
   "execution_count": 11,
   "metadata": {},
   "outputs": [],
   "source": [
    "from pbo.data_collection.dataloader import DataLoader\n",
    "\n",
    "\n",
    "batch_size = 8\n",
    "    \n",
    "replay_buffer.cast_to_jax_array()\n",
    "data_loader = DataLoader(replay_buffer, batch_size)"
   ]
  },
  {
   "cell_type": "markdown",
   "metadata": {},
   "source": [
    "## Building networks"
   ]
  },
  {
   "cell_type": "code",
   "execution_count": 20,
   "metadata": {},
   "outputs": [],
   "source": [
    "import jax \n",
    "\n",
    "from pbo.networks.jax.q import FullyConnectedQFunction\n",
    "from pbo.networks.jax.pbo import LinearPBOFunction\n",
    "\n",
    "\n",
    "layer_dimension = 3\n",
    "random_weights_range = 10\n",
    "gamma = 1\n",
    "\n",
    "seed = 0\n",
    "key = jax.random.PRNGKey(seed)\n",
    "key, q_network_key = jax.random.split(key)\n",
    "random_weights_key, pbo_network_key = jax.random.split(key)\n",
    "\n",
    "q_function = FullyConnectedQFunction(\n",
    "    layer_dimension=layer_dimension,\n",
    "    network_key=q_network_key,\n",
    "    random_weights_range=random_weights_range,\n",
    "    random_weights_key=random_weights_key,\n",
    "    max_action=max_discrete_action,\n",
    "    n_discrete_actions=n_discrete_actions,\n",
    ")\n",
    "\n",
    "pbo_function = LinearPBOFunction(pbo_network_key, gamma, q_function)"
   ]
  },
  {
   "cell_type": "markdown",
   "metadata": {},
   "source": [
    "## The goal: optimal Q function"
   ]
  },
  {
   "cell_type": "code",
   "execution_count": 21,
   "metadata": {},
   "outputs": [
    {
     "data": {
      "image/png": "[encoded data removed]",
      "text/plain": [
       "<Figure size 432x288 with 2 Axes>"
      ]
     },
     "metadata": {
      "needs_background": "light"
     },
     "output_type": "display_data"
    }
   ],
   "source": [
    "from pbo.utils.compute_Q_lqr import compute_Q_lqr\n",
    "\n",
    "\n",
    "sleeping_time = 0.4\n",
    "\n",
    "optimal_Q = compute_Q_lqr(env, max_discrete_state, n_discrete_states, max_discrete_action, n_discrete_actions, gamma)\n",
    "\n",
    "q_funcions_visualization_mesh = StateActionMesh(max_discrete_state, n_discrete_states, max_discrete_action, n_discrete_actions, sleeping_time)\n",
    "\n",
    "q_funcions_visualization_mesh.set_values(optimal_Q)\n",
    "q_funcions_visualization_mesh.show(\"Optimal q function\")"
   ]
  },
  {
   "cell_type": "markdown",
   "metadata": {},
   "source": [
    "## Training"
   ]
  },
  {
   "cell_type": "code",
   "execution_count": 22,
   "metadata": {},
   "outputs": [
    {
     "ename": "TypeError",
     "evalue": "prod requires ndarray or scalar arguments, got <class 'tuple'> at position 0.",
     "output_type": "error",
     "traceback": [
      "\u001b[0;31m---------------------------------------------------------------------------\u001b[0m",
      "\u001b[0;31mTypeError\u001b[0m                                 Traceback (most recent call last)",
      "\u001b[1;32m/home/theovincent/Darmstadt/PBO/pbo_lqr_jax.ipynb Cell 13'\u001b[0m in \u001b[0;36m<cell line: 9>\u001b[0;34m()\u001b[0m\n\u001b[1;32m     <a href='vscode-notebook-cell:/home/theovincent/Darmstadt/PBO/pbo_lqr_jax.ipynb#ch0000013?line=9'>10</a>\u001b[0m random_weights \u001b[39m=\u001b[39m q_function\u001b[39m.\u001b[39mget_random_weights()\n\u001b[1;32m     <a href='vscode-notebook-cell:/home/theovincent/Darmstadt/PBO/pbo_lqr_jax.ipynb#ch0000013?line=11'>12</a>\u001b[0m \u001b[39mfor\u001b[39;00m batch \u001b[39min\u001b[39;00m data_loader:\n\u001b[0;32m---> <a href='vscode-notebook-cell:/home/theovincent/Darmstadt/PBO/pbo_lqr_jax.ipynb#ch0000013?line=12'>13</a>\u001b[0m     loss, grad_loss \u001b[39m=\u001b[39m pbo_function\u001b[39m.\u001b[39;49mloss_and_grad_loss(pbo_function\u001b[39m.\u001b[39;49mparams, batch, random_weights)\n\u001b[1;32m     <a href='vscode-notebook-cell:/home/theovincent/Darmstadt/PBO/pbo_lqr_jax.ipynb#ch0000013?line=13'>14</a>\u001b[0m     updates, optimizer_state \u001b[39m=\u001b[39m optimizer\u001b[39m.\u001b[39mupdate(\n\u001b[1;32m     <a href='vscode-notebook-cell:/home/theovincent/Darmstadt/PBO/pbo_lqr_jax.ipynb#ch0000013?line=14'>15</a>\u001b[0m         grad_loss, optimizer_state\n\u001b[1;32m     <a href='vscode-notebook-cell:/home/theovincent/Darmstadt/PBO/pbo_lqr_jax.ipynb#ch0000013?line=15'>16</a>\u001b[0m     )\n\u001b[1;32m     <a href='vscode-notebook-cell:/home/theovincent/Darmstadt/PBO/pbo_lqr_jax.ipynb#ch0000013?line=16'>17</a>\u001b[0m     pbo_function\u001b[39m.\u001b[39mparams \u001b[39m=\u001b[39m optax\u001b[39m.\u001b[39mapply_updates(pbo_function\u001b[39m.\u001b[39mparams, updates)\n",
      "    \u001b[0;31m[... skipping hidden 22 frame]\u001b[0m\n",
      "File \u001b[0;32m~/Darmstadt/PBO/pbo/networks/jax/pbo.py:19\u001b[0m, in \u001b[0;36mBasePBOFunction.loss\u001b[0;34m(self, pbo_params, batch, weights)\u001b[0m\n\u001b[1;32m     <a href='file:///home/theovincent/Darmstadt/PBO/pbo/networks/jax/pbo.py?line=17'>18</a>\u001b[0m \u001b[39mdef\u001b[39;00m \u001b[39mloss\u001b[39m(\u001b[39mself\u001b[39m, pbo_params: hk\u001b[39m.\u001b[39mParams, batch: \u001b[39mdict\u001b[39m, weights: jnp\u001b[39m.\u001b[39mndarray) \u001b[39m-\u001b[39m\u001b[39m>\u001b[39m jnp\u001b[39m.\u001b[39mndarray:\n\u001b[0;32m---> <a href='file:///home/theovincent/Darmstadt/PBO/pbo/networks/jax/pbo.py?line=18'>19</a>\u001b[0m     q_params \u001b[39m=\u001b[39m \u001b[39mself\u001b[39;49m\u001b[39m.\u001b[39;49mq_function\u001b[39m.\u001b[39;49mconvert_to_params(weights)\n\u001b[1;32m     <a href='file:///home/theovincent/Darmstadt/PBO/pbo/networks/jax/pbo.py?line=19'>20</a>\u001b[0m     target \u001b[39m=\u001b[39m batch[\u001b[39m\"\u001b[39m\u001b[39mreward\u001b[39m\u001b[39m\"\u001b[39m] \u001b[39m+\u001b[39m \u001b[39mself\u001b[39m\u001b[39m.\u001b[39mgamma \u001b[39m*\u001b[39m \u001b[39mself\u001b[39m\u001b[39m.\u001b[39mq_function\u001b[39m.\u001b[39mmax_value(q_params, batch[\u001b[39m\"\u001b[39m\u001b[39mnext_state\u001b[39m\u001b[39m\"\u001b[39m])\n\u001b[1;32m     <a href='file:///home/theovincent/Darmstadt/PBO/pbo/networks/jax/pbo.py?line=20'>21</a>\u001b[0m     target \u001b[39m=\u001b[39m jax\u001b[39m.\u001b[39mlax\u001b[39m.\u001b[39mstop_gradient(target)\n",
      "File \u001b[0;32m~/Darmstadt/PBO/pbo/networks/jax/q.py:71\u001b[0m, in \u001b[0;36mBaseQFunction.convert_to_params\u001b[0;34m(self, weight)\u001b[0m\n\u001b[1;32m     <a href='file:///home/theovincent/Darmstadt/PBO/pbo/networks/jax/q.py?line=67'>68</a>\u001b[0m     params[key_layer] \u001b[39m=\u001b[39m \u001b[39mdict\u001b[39m()\n\u001b[1;32m     <a href='file:///home/theovincent/Darmstadt/PBO/pbo/networks/jax/q.py?line=68'>69</a>\u001b[0m     \u001b[39mfor\u001b[39;00m key_weight_layer, weight_layer \u001b[39min\u001b[39;00m layer\u001b[39m.\u001b[39mitems():\n\u001b[1;32m     <a href='file:///home/theovincent/Darmstadt/PBO/pbo/networks/jax/q.py?line=69'>70</a>\u001b[0m         params[key_layer][key_weight_layer] \u001b[39m=\u001b[39m weight[\n\u001b[0;32m---> <a href='file:///home/theovincent/Darmstadt/PBO/pbo/networks/jax/q.py?line=70'>71</a>\u001b[0m             current_idx : current_idx \u001b[39m+\u001b[39m jnp\u001b[39m.\u001b[39;49mprod(weight_layer\u001b[39m.\u001b[39;49mshape)\n\u001b[1;32m     <a href='file:///home/theovincent/Darmstadt/PBO/pbo/networks/jax/q.py?line=71'>72</a>\u001b[0m         ]\u001b[39m.\u001b[39mreshape(weight_layer\u001b[39m.\u001b[39mshape)\n\u001b[1;32m     <a href='file:///home/theovincent/Darmstadt/PBO/pbo/networks/jax/q.py?line=73'>74</a>\u001b[0m         current_idx \u001b[39m+\u001b[39m\u001b[39m=\u001b[39m jnp\u001b[39m.\u001b[39mprod(weight_layer\u001b[39m.\u001b[39mshape)\n\u001b[1;32m     <a href='file:///home/theovincent/Darmstadt/PBO/pbo/networks/jax/q.py?line=75'>76</a>\u001b[0m \u001b[39mreturn\u001b[39;00m params\n",
      "File \u001b[0;32m~/Darmstadt/PBO/env_jax/lib/python3.8/site-packages/jax/_src/numpy/reductions.py:180\u001b[0m, in \u001b[0;36mprod\u001b[0;34m(a, axis, dtype, out, keepdims, initial, where)\u001b[0m\n\u001b[1;32m    <a href='file:///home/theovincent/Darmstadt/PBO/env_jax/lib/python3.8/site-packages/jax/_src/numpy/reductions.py?line=176'>177</a>\u001b[0m \u001b[39m@_wraps\u001b[39m(np\u001b[39m.\u001b[39mprod, skip_params\u001b[39m=\u001b[39m[\u001b[39m'\u001b[39m\u001b[39mout\u001b[39m\u001b[39m'\u001b[39m])\n\u001b[1;32m    <a href='file:///home/theovincent/Darmstadt/PBO/env_jax/lib/python3.8/site-packages/jax/_src/numpy/reductions.py?line=177'>178</a>\u001b[0m \u001b[39mdef\u001b[39;00m \u001b[39mprod\u001b[39m(a, axis: Optional[Union[\u001b[39mint\u001b[39m, Tuple[\u001b[39mint\u001b[39m, \u001b[39m.\u001b[39m\u001b[39m.\u001b[39m\u001b[39m.\u001b[39m]]] \u001b[39m=\u001b[39m \u001b[39mNone\u001b[39;00m, dtype\u001b[39m=\u001b[39m\u001b[39mNone\u001b[39;00m,\n\u001b[1;32m    <a href='file:///home/theovincent/Darmstadt/PBO/env_jax/lib/python3.8/site-packages/jax/_src/numpy/reductions.py?line=178'>179</a>\u001b[0m          out\u001b[39m=\u001b[39m\u001b[39mNone\u001b[39;00m, keepdims\u001b[39m=\u001b[39m\u001b[39mNone\u001b[39;00m, initial\u001b[39m=\u001b[39m\u001b[39mNone\u001b[39;00m, where\u001b[39m=\u001b[39m\u001b[39mNone\u001b[39;00m):\n\u001b[0;32m--> <a href='file:///home/theovincent/Darmstadt/PBO/env_jax/lib/python3.8/site-packages/jax/_src/numpy/reductions.py?line=179'>180</a>\u001b[0m   \u001b[39mreturn\u001b[39;00m _reduce_prod(a, axis\u001b[39m=\u001b[39;49m_ensure_optional_axes(axis), dtype\u001b[39m=\u001b[39;49mdtype,\n\u001b[1;32m    <a href='file:///home/theovincent/Darmstadt/PBO/env_jax/lib/python3.8/site-packages/jax/_src/numpy/reductions.py?line=180'>181</a>\u001b[0m                       out\u001b[39m=\u001b[39;49mout, keepdims\u001b[39m=\u001b[39;49mkeepdims, initial\u001b[39m=\u001b[39;49minitial, where\u001b[39m=\u001b[39;49mwhere)\n",
      "    \u001b[0;31m[... skipping hidden 7 frame]\u001b[0m\n",
      "File \u001b[0;32m~/Darmstadt/PBO/env_jax/lib/python3.8/site-packages/jax/_src/numpy/reductions.py:172\u001b[0m, in \u001b[0;36m_reduce_prod\u001b[0;34m(a, axis, dtype, out, keepdims, initial, where)\u001b[0m\n\u001b[1;32m    <a href='file:///home/theovincent/Darmstadt/PBO/env_jax/lib/python3.8/site-packages/jax/_src/numpy/reductions.py?line=168'>169</a>\u001b[0m \u001b[39m@partial\u001b[39m(api\u001b[39m.\u001b[39mjit, static_argnames\u001b[39m=\u001b[39m(\u001b[39m'\u001b[39m\u001b[39maxis\u001b[39m\u001b[39m'\u001b[39m, \u001b[39m'\u001b[39m\u001b[39mdtype\u001b[39m\u001b[39m'\u001b[39m, \u001b[39m'\u001b[39m\u001b[39mkeepdims\u001b[39m\u001b[39m'\u001b[39m), inline\u001b[39m=\u001b[39m\u001b[39mTrue\u001b[39;00m)\n\u001b[1;32m    <a href='file:///home/theovincent/Darmstadt/PBO/env_jax/lib/python3.8/site-packages/jax/_src/numpy/reductions.py?line=169'>170</a>\u001b[0m \u001b[39mdef\u001b[39;00m \u001b[39m_reduce_prod\u001b[39m(a, axis: Optional[Union[\u001b[39mint\u001b[39m, Tuple[\u001b[39mint\u001b[39m, \u001b[39m.\u001b[39m\u001b[39m.\u001b[39m\u001b[39m.\u001b[39m]]] \u001b[39m=\u001b[39m \u001b[39mNone\u001b[39;00m,\n\u001b[1;32m    <a href='file:///home/theovincent/Darmstadt/PBO/env_jax/lib/python3.8/site-packages/jax/_src/numpy/reductions.py?line=170'>171</a>\u001b[0m                  dtype\u001b[39m=\u001b[39m\u001b[39mNone\u001b[39;00m, out\u001b[39m=\u001b[39m\u001b[39mNone\u001b[39;00m, keepdims\u001b[39m=\u001b[39m\u001b[39mNone\u001b[39;00m, initial\u001b[39m=\u001b[39m\u001b[39mNone\u001b[39;00m, where\u001b[39m=\u001b[39m\u001b[39mNone\u001b[39;00m):\n\u001b[0;32m--> <a href='file:///home/theovincent/Darmstadt/PBO/env_jax/lib/python3.8/site-packages/jax/_src/numpy/reductions.py?line=171'>172</a>\u001b[0m   \u001b[39mreturn\u001b[39;00m _reduction(a, \u001b[39m\"\u001b[39;49m\u001b[39mprod\u001b[39;49m\u001b[39m\"\u001b[39;49m, np\u001b[39m.\u001b[39;49mprod, lax\u001b[39m.\u001b[39;49mmul, \u001b[39m1\u001b[39;49m,\n\u001b[1;32m    <a href='file:///home/theovincent/Darmstadt/PBO/env_jax/lib/python3.8/site-packages/jax/_src/numpy/reductions.py?line=172'>173</a>\u001b[0m                     bool_op\u001b[39m=\u001b[39;49mlax\u001b[39m.\u001b[39;49mbitwise_and, upcast_f16_for_computation\u001b[39m=\u001b[39;49m\u001b[39mTrue\u001b[39;49;00m,\n\u001b[1;32m    <a href='file:///home/theovincent/Darmstadt/PBO/env_jax/lib/python3.8/site-packages/jax/_src/numpy/reductions.py?line=173'>174</a>\u001b[0m                     axis\u001b[39m=\u001b[39;49maxis, dtype\u001b[39m=\u001b[39;49mdtype, out\u001b[39m=\u001b[39;49mout, keepdims\u001b[39m=\u001b[39;49mkeepdims,\n\u001b[1;32m    <a href='file:///home/theovincent/Darmstadt/PBO/env_jax/lib/python3.8/site-packages/jax/_src/numpy/reductions.py?line=174'>175</a>\u001b[0m                     initial\u001b[39m=\u001b[39;49minitial, where_\u001b[39m=\u001b[39;49mwhere)\n",
      "File \u001b[0;32m~/Darmstadt/PBO/env_jax/lib/python3.8/site-packages/jax/_src/numpy/reductions.py:67\u001b[0m, in \u001b[0;36m_reduction\u001b[0;34m(a, name, np_fun, op, init_val, has_identity, preproc, bool_op, upcast_f16_for_computation, axis, dtype, out, keepdims, initial, where_, parallel_reduce)\u001b[0m\n\u001b[1;32m     <a href='file:///home/theovincent/Darmstadt/PBO/env_jax/lib/python3.8/site-packages/jax/_src/numpy/reductions.py?line=64'>65</a>\u001b[0m \u001b[39mif\u001b[39;00m out \u001b[39mis\u001b[39;00m \u001b[39mnot\u001b[39;00m \u001b[39mNone\u001b[39;00m:\n\u001b[1;32m     <a href='file:///home/theovincent/Darmstadt/PBO/env_jax/lib/python3.8/site-packages/jax/_src/numpy/reductions.py?line=65'>66</a>\u001b[0m   \u001b[39mraise\u001b[39;00m \u001b[39mNotImplementedError\u001b[39;00m(\u001b[39mf\u001b[39m\u001b[39m\"\u001b[39m\u001b[39mThe \u001b[39m\u001b[39m'\u001b[39m\u001b[39mout\u001b[39m\u001b[39m'\u001b[39m\u001b[39m argument to jnp.\u001b[39m\u001b[39m{\u001b[39;00mname\u001b[39m}\u001b[39;00m\u001b[39m is not supported.\u001b[39m\u001b[39m\"\u001b[39m)\n\u001b[0;32m---> <a href='file:///home/theovincent/Darmstadt/PBO/env_jax/lib/python3.8/site-packages/jax/_src/numpy/reductions.py?line=66'>67</a>\u001b[0m _check_arraylike(name, a)\n\u001b[1;32m     <a href='file:///home/theovincent/Darmstadt/PBO/env_jax/lib/python3.8/site-packages/jax/_src/numpy/reductions.py?line=67'>68</a>\u001b[0m lax_internal\u001b[39m.\u001b[39m_check_user_dtype_supported(dtype, name)\n\u001b[1;32m     <a href='file:///home/theovincent/Darmstadt/PBO/env_jax/lib/python3.8/site-packages/jax/_src/numpy/reductions.py?line=68'>69</a>\u001b[0m axis \u001b[39m=\u001b[39m core\u001b[39m.\u001b[39mconcrete_or_error(\u001b[39mNone\u001b[39;00m, axis, \u001b[39mf\u001b[39m\u001b[39m\"\u001b[39m\u001b[39maxis argument to jnp.\u001b[39m\u001b[39m{\u001b[39;00mname\u001b[39m}\u001b[39;00m\u001b[39m().\u001b[39m\u001b[39m\"\u001b[39m)\n",
      "File \u001b[0;32m~/Darmstadt/PBO/env_jax/lib/python3.8/site-packages/jax/_src/numpy/util.py:298\u001b[0m, in \u001b[0;36m_check_arraylike\u001b[0;34m(fun_name, *args)\u001b[0m\n\u001b[1;32m    <a href='file:///home/theovincent/Darmstadt/PBO/env_jax/lib/python3.8/site-packages/jax/_src/numpy/util.py?line=294'>295</a>\u001b[0m pos, arg \u001b[39m=\u001b[39m \u001b[39mnext\u001b[39m((i, arg) \u001b[39mfor\u001b[39;00m i, arg \u001b[39min\u001b[39;00m \u001b[39menumerate\u001b[39m(args)\n\u001b[1;32m    <a href='file:///home/theovincent/Darmstadt/PBO/env_jax/lib/python3.8/site-packages/jax/_src/numpy/util.py?line=295'>296</a>\u001b[0m                 \u001b[39mif\u001b[39;00m \u001b[39mnot\u001b[39;00m _arraylike(arg))\n\u001b[1;32m    <a href='file:///home/theovincent/Darmstadt/PBO/env_jax/lib/python3.8/site-packages/jax/_src/numpy/util.py?line=296'>297</a>\u001b[0m msg \u001b[39m=\u001b[39m \u001b[39m\"\u001b[39m\u001b[39m{}\u001b[39;00m\u001b[39m requires ndarray or scalar arguments, got \u001b[39m\u001b[39m{}\u001b[39;00m\u001b[39m at position \u001b[39m\u001b[39m{}\u001b[39;00m\u001b[39m.\u001b[39m\u001b[39m\"\u001b[39m\n\u001b[0;32m--> <a href='file:///home/theovincent/Darmstadt/PBO/env_jax/lib/python3.8/site-packages/jax/_src/numpy/util.py?line=297'>298</a>\u001b[0m \u001b[39mraise\u001b[39;00m \u001b[39mTypeError\u001b[39;00m(msg\u001b[39m.\u001b[39mformat(fun_name, \u001b[39mtype\u001b[39m(arg), pos))\n",
      "\u001b[0;31mTypeError\u001b[0m: prod requires ndarray or scalar arguments, got <class 'tuple'> at position 0."
     ]
    }
   ],
   "source": [
    "import optax\n",
    "\n",
    "n_iteration = 3\n",
    "learning_rate = 0.001\n",
    "\n",
    "optimizer = optax.sgd(learning_rate=learning_rate)\n",
    "optimizer_state = optimizer.init(pbo_function.params)\n",
    "\n",
    "for iteration in range(n_iteration):\n",
    "    random_weights = q_function.get_random_weights()\n",
    "\n",
    "    for batch in data_loader:\n",
    "        loss, grad_loss = pbo_function.loss_and_grad_loss(pbo_function.params, batch, random_weights)\n",
    "        updates, optimizer_state = optimizer.update(\n",
    "            grad_loss, optimizer_state\n",
    "        )\n",
    "        pbo_function.params = optax.apply_updates(pbo_function.params, updates)\n",
    "    \n",
    "    # Plot the fixed point Q network\n",
    "    fixed_point_params = q_function.convert_to_params(pbo_function.get_fixed_point())\n",
    "    discrete_q_network = q_function.get_discrete_q(fixed_point_params, max_discrete_state, n_discrete_states)\n",
    "    \n",
    "    q_funcions_visualization_mesh.set_values(discrete_q_network)\n",
    "    q_funcions_visualization_mesh.show(f\"Discrete Q function at iteration {iteration}\")\n",
    "    "
   ]
  }
 ],
 "metadata": {
  "interpreter": {
   "hash": "85ad58bfe5dc690cebf88e6b8b9b0a3df420baa8d03408dec79dd083e4752b99"
  },
  "kernelspec": {
   "display_name": "Python 3.8.10 ('env_jax': venv)",
   "language": "python",
   "name": "python3"
  },
  "language_info": {
   "codemirror_mode": {
    "name": "ipython",
    "version": 3
   },
   "file_extension": ".py",
   "mimetype": "text/x-python",
   "name": "python",
   "nbconvert_exporter": "python",
   "pygments_lexer": "ipython3",
   "version": "3.8.10"
  },
  "orig_nbformat": 4
 },
 "nbformat": 4,
 "nbformat_minor": 2
}
