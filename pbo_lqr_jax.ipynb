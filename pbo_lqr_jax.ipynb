{
 "cells": [
  {
   "cell_type": "markdown",
   "metadata": {},
   "source": [
    "# PBO against LQR\n",
    "## Define environment"
   ]
  },
  {
   "cell_type": "code",
   "execution_count": 1,
   "metadata": {},
   "outputs": [
    {
     "name": "stdout",
     "output_type": "stream",
     "text": [
      "Transition: s' = As + Ba\n",
      "Transition: s' = 7.34s + 6.26a\n",
      "Reward: Qs² + Ra² + 2 Ssa\n",
      "Reward: -3.22s² + -8.77a² + -0.74sa\n"
     ]
    }
   ],
   "source": [
    "%load_ext autoreload\n",
    "%autoreload 2\n",
    "\n",
    "import numpy as np\n",
    "\n",
    "from pbo.environment.linear_quadratic import LinearQuadraticEnv\n",
    "\n",
    "\n",
    "max_discrete_state = 7\n",
    "env = LinearQuadraticEnv(max_init_state=max_discrete_state)"
   ]
  },
  {
   "cell_type": "markdown",
   "metadata": {},
   "source": [
    "## Data collection"
   ]
  },
  {
   "cell_type": "code",
   "execution_count": 2,
   "metadata": {},
   "outputs": [],
   "source": [
    "from pbo.data_collection.replay_buffer import ReplayBuffer\n",
    "\n",
    "\n",
    "max_discrete_action = 9\n",
    "n_samples = 100\n",
    "epsilon_greedy = 0.7\n",
    "max_episode_length = 4\n",
    "\n",
    "replay_buffer = ReplayBuffer()\n",
    "\n",
    "state = env.reset()\n",
    "idx_sample = 0\n",
    "epidose_length = 0\n",
    "\n",
    "while idx_sample < n_samples:\n",
    "    if np.random.random() < epsilon_greedy:\n",
    "        action = env.optimal_action()\n",
    "    else:\n",
    "        action = np.random.uniform(-max_discrete_action, max_discrete_action, size=1)\n",
    "    next_state, reward, _, _ = env.step(action)\n",
    "\n",
    "    replay_buffer.add(state, action, np.array([reward]), next_state)\n",
    "\n",
    "    epidose_length += 1\n",
    "    idx_sample += 1\n",
    "\n",
    "    if epidose_length >= max_episode_length:\n",
    "        state = env.reset()\n",
    "        epidose_length = 0\n",
    "    else:    \n",
    "        state = next_state\n"
   ]
  },
  {
   "cell_type": "markdown",
   "metadata": {},
   "source": [
    "## Visualize samples"
   ]
  },
  {
   "cell_type": "code",
   "execution_count": 3,
   "metadata": {},
   "outputs": [
    {
     "data": {
      "image/png": "[encoded data removed]",
      "text/plain": [
       "<Figure size 432x288 with 2 Axes>"
      ]
     },
     "metadata": {
      "needs_background": "light"
     },
     "output_type": "display_data"
    }
   ],
   "source": [
    "from pbo.data_collection.count_samples import count_samples\n",
    "from pbo.utils.state_action_mesh import StateActionMesh\n",
    "\n",
    "\n",
    "n_discrete_states = 5\n",
    "n_discrete_actions = 7\n",
    "\n",
    "samples_count, n_outside_boxes = count_samples(\n",
    "    replay_buffer, max_discrete_state, n_discrete_states, max_discrete_action, n_discrete_actions\n",
    ")\n",
    "samples_visualization_mesh = StateActionMesh(\n",
    "    max_discrete_state, n_discrete_states, max_discrete_action, n_discrete_actions, sleeping_time=0\n",
    ")\n",
    "\n",
    "samples_visualization_mesh.set_values(samples_count)\n",
    "samples_visualization_mesh.show(\n",
    "    f\"Samples repartition, \\n{int(100 * n_outside_boxes / n_samples)}% are outside the box.\"\n",
    ")\n"
   ]
  },
  {
   "cell_type": "code",
   "execution_count": 4,
   "metadata": {},
   "outputs": [
    {
     "name": "stderr",
     "output_type": "stream",
     "text": [
      "WARNING:absl:No GPU/TPU found, falling back to CPU. (Set TF_CPP_MIN_LOG_LEVEL=0 and rerun for more info.)\n"
     ]
    }
   ],
   "source": [
    "from pbo.data_collection.dataloader import DataLoader\n",
    "\n",
    "\n",
    "batch_size = 8\n",
    "    \n",
    "replay_buffer.cast_to_jax_array()\n",
    "data_loader = DataLoader(replay_buffer, batch_size)"
   ]
  },
  {
   "cell_type": "markdown",
   "metadata": {},
   "source": [
    "## Building networks"
   ]
  },
  {
   "cell_type": "code",
   "execution_count": 5,
   "metadata": {},
   "outputs": [],
   "source": [
    "import jax \n",
    "\n",
    "from pbo.networks.jax.q import FullyConnectedQFunction\n",
    "from pbo.networks.jax.pbo import LinearPBOFunction\n",
    "\n",
    "\n",
    "layer_dimension = 3\n",
    "random_weights_range = 10\n",
    "gamma = 1\n",
    "\n",
    "seed = 0\n",
    "key = jax.random.PRNGKey(seed)\n",
    "key, q_network_key = jax.random.split(key)\n",
    "random_weights_key, pbo_network_key = jax.random.split(key)\n",
    "\n",
    "q_function = FullyConnectedQFunction(\n",
    "    layer_dimension=layer_dimension,\n",
    "    network_key=q_network_key,\n",
    "    random_weights_range=random_weights_range,\n",
    "    random_weights_key=random_weights_key,\n",
    "    max_action=max_discrete_action,\n",
    "    n_discrete_actions=n_discrete_actions,\n",
    ")\n",
    "\n",
    "pbo_function = LinearPBOFunction(network_key=pbo_network_key, gamma=gamma, q_weights_dimensions=q_function.q_weights_dimensions)"
   ]
  },
  {
   "cell_type": "markdown",
   "metadata": {},
   "source": [
    "## The goal: optimal Q function"
   ]
  },
  {
   "cell_type": "code",
   "execution_count": 6,
   "metadata": {},
   "outputs": [
    {
     "data": {
      "image/png": "[encoded data removed]",
      "text/plain": [
       "<Figure size 432x288 with 2 Axes>"
      ]
     },
     "metadata": {
      "needs_background": "light"
     },
     "output_type": "display_data"
    }
   ],
   "source": [
    "from pbo.utils.compute_Q_lqr import compute_Q_lqr\n",
    "\n",
    "\n",
    "sleeping_time = 0.4\n",
    "\n",
    "optimal_Q = compute_Q_lqr(env, max_discrete_state, n_discrete_states, max_discrete_action, n_discrete_actions, gamma)\n",
    "\n",
    "q_funcions_visualization_mesh = StateActionMesh(max_discrete_state, n_discrete_states, max_discrete_action, n_discrete_actions, sleeping_time)\n",
    "\n",
    "q_funcions_visualization_mesh.set_values(optimal_Q)\n",
    "q_funcions_visualization_mesh.show(\"Optimal q function\")"
   ]
  },
  {
   "cell_type": "markdown",
   "metadata": {},
   "source": [
    "## Training"
   ]
  },
  {
   "cell_type": "code",
   "execution_count": 7,
   "metadata": {},
   "outputs": [
    {
     "ename": "TypeError",
     "evalue": "Argument '<pbo.networks.jax.q.FullyConnectedQFunction object at 0x7f6efc54cf40>' of type <class 'pbo.networks.jax.q.FullyConnectedQFunction'> is not a valid JAX type.",
     "output_type": "error",
     "traceback": [
      "\u001b[0;31m---------------------------------------------------------------------------\u001b[0m",
      "\u001b[0;31mTypeError\u001b[0m                                 Traceback (most recent call last)",
      "\u001b[1;32m/home/theovincent/Darmstadt/PBO/pbo_lqr_jax.ipynb Cell 13'\u001b[0m in \u001b[0;36m<cell line: 9>\u001b[0;34m()\u001b[0m\n\u001b[1;32m     <a href='vscode-notebook-cell:/home/theovincent/Darmstadt/PBO/pbo_lqr_jax.ipynb#ch0000013?line=9'>10</a>\u001b[0m random_weights \u001b[39m=\u001b[39m q_function\u001b[39m.\u001b[39mget_random_weights()\n\u001b[1;32m     <a href='vscode-notebook-cell:/home/theovincent/Darmstadt/PBO/pbo_lqr_jax.ipynb#ch0000013?line=11'>12</a>\u001b[0m \u001b[39mfor\u001b[39;00m batch \u001b[39min\u001b[39;00m data_loader:\n\u001b[0;32m---> <a href='vscode-notebook-cell:/home/theovincent/Darmstadt/PBO/pbo_lqr_jax.ipynb#ch0000013?line=12'>13</a>\u001b[0m     loss, grad_loss \u001b[39m=\u001b[39m pbo_function\u001b[39m.\u001b[39;49mloss_and_grad_loss(pbo_function\u001b[39m.\u001b[39;49mparams, batch, random_weights, q_function)\n\u001b[1;32m     <a href='vscode-notebook-cell:/home/theovincent/Darmstadt/PBO/pbo_lqr_jax.ipynb#ch0000013?line=13'>14</a>\u001b[0m     updates, optimizer_state \u001b[39m=\u001b[39m optimizer\u001b[39m.\u001b[39mupdate(\n\u001b[1;32m     <a href='vscode-notebook-cell:/home/theovincent/Darmstadt/PBO/pbo_lqr_jax.ipynb#ch0000013?line=14'>15</a>\u001b[0m         grad_loss, optimizer_state\n\u001b[1;32m     <a href='vscode-notebook-cell:/home/theovincent/Darmstadt/PBO/pbo_lqr_jax.ipynb#ch0000013?line=15'>16</a>\u001b[0m     )\n\u001b[1;32m     <a href='vscode-notebook-cell:/home/theovincent/Darmstadt/PBO/pbo_lqr_jax.ipynb#ch0000013?line=16'>17</a>\u001b[0m     pbo_function\u001b[39m.\u001b[39mparams \u001b[39m=\u001b[39m optax\u001b[39m.\u001b[39mapply_updates(pbo_function\u001b[39m.\u001b[39mparams, updates)\n",
      "    \u001b[0;31m[... skipping hidden 2 frame]\u001b[0m\n",
      "File \u001b[0;32m~/Darmstadt/PBO/env_jax/lib/python3.8/site-packages/jax/_src/api.py:2856\u001b[0m, in \u001b[0;36m_check_arg\u001b[0;34m(arg)\u001b[0m\n\u001b[1;32m   <a href='file:///home/theovincent/Darmstadt/PBO/env_jax/lib/python3.8/site-packages/jax/_src/api.py?line=2853'>2854</a>\u001b[0m \u001b[39mdef\u001b[39;00m \u001b[39m_check_arg\u001b[39m(arg):\n\u001b[1;32m   <a href='file:///home/theovincent/Darmstadt/PBO/env_jax/lib/python3.8/site-packages/jax/_src/api.py?line=2854'>2855</a>\u001b[0m   \u001b[39mif\u001b[39;00m \u001b[39mnot\u001b[39;00m (\u001b[39misinstance\u001b[39m(arg, core\u001b[39m.\u001b[39mTracer) \u001b[39mor\u001b[39;00m _valid_jaxtype(arg)):\n\u001b[0;32m-> <a href='file:///home/theovincent/Darmstadt/PBO/env_jax/lib/python3.8/site-packages/jax/_src/api.py?line=2855'>2856</a>\u001b[0m     \u001b[39mraise\u001b[39;00m \u001b[39mTypeError\u001b[39;00m(\u001b[39mf\u001b[39m\u001b[39m\"\u001b[39m\u001b[39mArgument \u001b[39m\u001b[39m'\u001b[39m\u001b[39m{\u001b[39;00marg\u001b[39m}\u001b[39;00m\u001b[39m'\u001b[39m\u001b[39m of type \u001b[39m\u001b[39m{\u001b[39;00m\u001b[39mtype\u001b[39m(arg)\u001b[39m}\u001b[39;00m\u001b[39m is not a valid JAX type.\u001b[39m\u001b[39m\"\u001b[39m)\n",
      "\u001b[0;31mTypeError\u001b[0m: Argument '<pbo.networks.jax.q.FullyConnectedQFunction object at 0x7f6efc54cf40>' of type <class 'pbo.networks.jax.q.FullyConnectedQFunction'> is not a valid JAX type."
     ]
    }
   ],
   "source": [
    "import optax\n",
    "\n",
    "n_iteration = 3\n",
    "learning_rate = 0.001\n",
    "\n",
    "optimizer = optax.sgd(learning_rate=learning_rate)\n",
    "optimizer_state = optimizer.init(pbo_function.params)\n",
    "\n",
    "for iteration in range(n_iteration):\n",
    "    random_weights = q_function.get_random_weights()\n",
    "\n",
    "    for batch in data_loader:\n",
    "        loss, grad_loss = pbo_function.loss_and_grad_loss(pbo_function.params, batch, random_weights, q_function)\n",
    "        updates, optimizer_state = optimizer.update(\n",
    "            grad_loss, optimizer_state\n",
    "        )\n",
    "        pbo_function.params = optax.apply_updates(pbo_function.params, updates)\n",
    "    \n",
    "    # Plot the fixed point Q network\n",
    "    fixed_point_params = q_function.convert_to_params(pbo_function.get_fixed_point())\n",
    "    discrete_q_network = q_function.get_discrete_q(fixed_point_params, max_discrete_state, n_discrete_states)\n",
    "    \n",
    "    q_funcions_visualization_mesh.set_values(discrete_q_network)\n",
    "    q_funcions_visualization_mesh.show(f\"Discrete Q function at iteration {iteration}\")\n",
    "    "
   ]
  }
 ],
 "metadata": {
  "interpreter": {
   "hash": "85ad58bfe5dc690cebf88e6b8b9b0a3df420baa8d03408dec79dd083e4752b99"
  },
  "kernelspec": {
   "display_name": "Python 3.8.10 ('env_jax': venv)",
   "language": "python",
   "name": "python3"
  },
  "language_info": {
   "codemirror_mode": {
    "name": "ipython",
    "version": 3
   },
   "file_extension": ".py",
   "mimetype": "text/x-python",
   "name": "python",
   "nbconvert_exporter": "python",
   "pygments_lexer": "ipython3",
   "version": "3.8.10"
  },
  "orig_nbformat": 4
 },
 "nbformat": 4,
 "nbformat_minor": 2
}
