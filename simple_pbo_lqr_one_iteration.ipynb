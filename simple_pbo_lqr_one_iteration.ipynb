{
    "cells": [
        {
            "cell_type": "markdown",
            "metadata": {},
            "source": [
                "# PBO learnt on one iteration and several weigths\n",
                "\n",
                "## Define paramters"
            ]
        },
        {
            "cell_type": "code",
            "execution_count": 1,
            "metadata": {},
            "outputs": [
                {
                    "name": "stderr",
                    "output_type": "stream",
                    "text": [
                        "WARNING:absl:No GPU/TPU found, falling back to CPU. (Set TF_CPP_MIN_LOG_LEVEL=0 and rerun for more info.)\n"
                    ]
                }
            ],
            "source": [
                "%load_ext autoreload\n",
                "%autoreload 2\n",
                "\n",
                "import jax\n",
                "\n",
                "# keys\n",
                "seed = 1\n",
                "key = jax.random.PRNGKey(seed)\n",
                "env_key, key = jax.random.split(key)\n",
                "shuffle_key, q_network_key, random_weights_key, pbo_network_key = jax.random.split(key, 4)\n",
                "\n",
                "# Box over states and actions\n",
                "max_discrete_state = 5\n",
                "n_discrete_states = 7\n",
                "max_discrete_action = 5\n",
                "n_discrete_actions = 7\n",
                "\n",
                "n_weights = 10\n",
                "\n",
                "# Q function\n",
                "action_range_on_max = max_discrete_action\n",
                "n_actions_on_max = 50\n",
                "\n",
                "# PBO trainings\n",
                "tolerance = 0.1\n",
                "max_iterations = 10000\n",
                "batch_size_samples = 20\n",
                "batch_size_weights = n_weights\n",
                "learning_rate = {\"first\": 0.001, \"last\": 0.00005, \"duration\": max_iterations}\n",
                "\n",
                "# Visualisation\n",
                "plot_freq = 200\n",
                "n_iterations = 5\n",
                "sleeping_time = 0"
            ]
        },
        {
            "cell_type": "markdown",
            "metadata": {},
            "source": [
                "## Define environment"
            ]
        },
        {
            "cell_type": "code",
            "execution_count": 2,
            "metadata": {},
            "outputs": [
                {
                    "name": "stdout",
                    "output_type": "stream",
                    "text": [
                        "Transition: s' = As + Ba\n",
                        "Transition: s' = -0.10490131378173828s + -0.6472394466400146a\n",
                        "Reward: Qs² + Ra² + 2 Ssa\n",
                        "Reward: -0.21946656703948975s² + -0.19231724739074707a² + -0.11510777473449707sa\n"
                    ]
                }
            ],
            "source": [
                "import numpy as np\n",
                "\n",
                "from pbo.environment.linear_quadratic import LinearQuadraticEnv\n",
                "\n",
                "\n",
                "discrete_states = np.linspace(-max_discrete_state, max_discrete_state, n_discrete_states)\n",
                "state_box_half_size = max_discrete_state / n_discrete_states\n",
                "discrete_states_boxes = np.linspace(\n",
                "    -max_discrete_state - state_box_half_size, max_discrete_state + state_box_half_size, n_discrete_states + 1\n",
                ")\n",
                "\n",
                "discrete_actions = np.linspace(-max_discrete_action, max_discrete_action, n_discrete_actions)\n",
                "action_box_half_size = max_discrete_action / n_discrete_actions\n",
                "discrete_actions_boxes = np.linspace(\n",
                "    -max_discrete_action - action_box_half_size, max_discrete_action + action_box_half_size, n_discrete_actions + 1\n",
                ")\n",
                "\n",
                "env = LinearQuadraticEnv(env_key, max_init_state=max_discrete_state)"
            ]
        },
        {
            "cell_type": "markdown",
            "metadata": {},
            "source": [
                "## Collect samples"
            ]
        },
        {
            "cell_type": "markdown",
            "metadata": {},
            "source": [
                "### Samples on the mesh"
            ]
        },
        {
            "cell_type": "code",
            "execution_count": 3,
            "metadata": {},
            "outputs": [],
            "source": [
                "import jax.numpy as jnp\n",
                "\n",
                "from pbo.sample_collection.replay_buffer import ReplayBuffer\n",
                "\n",
                "\n",
                "n_samples = n_discrete_states * n_discrete_actions\n",
                "replay_buffer = ReplayBuffer()\n",
                "\n",
                "for state in discrete_states:\n",
                "    for action in discrete_actions:\n",
                "        env.reset(jnp.array([state]))\n",
                "        next_state, reward, _, _ = env.step(jnp.array([action]))\n",
                "\n",
                "        replay_buffer.add(jnp.array([state]), jnp.array([action]), reward, next_state)"
            ]
        },
        {
            "cell_type": "markdown",
            "metadata": {},
            "source": [
                "## Visualize samples"
            ]
        },
        {
            "cell_type": "code",
            "execution_count": 4,
            "metadata": {},
            "outputs": [
                {
                    "data": {
                        "image/png": "[encoded data removed]",
                        "text/plain": [
                            "<Figure size 432x288 with 2 Axes>"
                        ]
                    },
                    "metadata": {
                        "needs_background": "light"
                    },
                    "output_type": "display_data"
                }
            ],
            "source": [
                "from pbo.sample_collection.count_samples import count_samples\n",
                "from pbo.utils.state_action_mesh import StateActionMesh\n",
                "\n",
                "\n",
                "samples_count, n_outside_boxes = count_samples(replay_buffer, discrete_states_boxes, discrete_actions_boxes)\n",
                "samples_visu_mesh = StateActionMesh(discrete_states, discrete_actions, sleeping_time=0)\n",
                "\n",
                "samples_visu_mesh.set_values(samples_count, zeros_to_nan=True)\n",
                "samples_visu_mesh.show(\n",
                "    f\"Samples repartition, \\n{int(100 * n_outside_boxes / n_samples)}% are outside the box.\"\n",
                ")\n"
            ]
        },
        {
            "cell_type": "markdown",
            "metadata": {},
            "source": [
                "## Optimal Q function"
            ]
        },
        {
            "cell_type": "code",
            "execution_count": 5,
            "metadata": {},
            "outputs": [
                {
                    "data": {
                        "image/png": "[encoded data removed]",
                        "text/plain": [
                            "<Figure size 432x288 with 2 Axes>"
                        ]
                    },
                    "metadata": {
                        "needs_background": "light"
                    },
                    "output_type": "display_data"
                }
            ],
            "source": [
                "optimal_q = env.optimal_Q_mesh(discrete_states, discrete_actions)\n",
                "\n",
                "q_visu_mesh = StateActionMesh(discrete_states, discrete_actions, sleeping_time)\n",
                "\n",
                "q_visu_mesh.set_values(optimal_q)\n",
                "q_visu_mesh.show(\"Optimal q function\")"
            ]
        },
        {
            "cell_type": "markdown",
            "metadata": {},
            "source": [
                "## Build q network"
            ]
        },
        {
            "cell_type": "code",
            "execution_count": 6,
            "metadata": {},
            "outputs": [],
            "source": [
                "from pbo.networks.q import TheoreticalQ\n",
                "\n",
                "\n",
                "q = TheoreticalQ(\n",
                "    network_key=q_network_key,\n",
                "    random_weights_range=None,\n",
                "    random_weights_key=random_weights_key,\n",
                "    action_range_on_max=action_range_on_max,\n",
                "    n_actions_on_max=n_actions_on_max,\n",
                ")"
            ]
        },
        {
            "cell_type": "markdown",
            "metadata": {},
            "source": [
                "## Build the PBOs network and the dataloaders"
            ]
        },
        {
            "cell_type": "code",
            "execution_count": 21,
            "metadata": {},
            "outputs": [],
            "source": [
                "from pbo.networks.pbo import LinearPBO, OptimalPBO, OptimalLinearPBO\n",
                "from pbo.sample_collection.dataloader import SampleDataLoader\n",
                "from pbo.weights_collection.dataloader import WeightsDataLoader\n",
                "\n",
                "replay_buffer.cast_to_jax_array()\n",
                "data_loader_samples = SampleDataLoader(replay_buffer, batch_size_samples, shuffle_key)\n",
                "\n",
                "random_weights_qs = jnp.vstack([q.random_init_weights() for _ in range(n_weights)])\n",
                "data_loader_weights = WeightsDataLoader(random_weights_qs, batch_size_weights, shuffle_key)\n",
                "\n",
                "pbo = LinearPBO(pbo_network_key, q, learning_rate, max_bellman_iterations=1)\n",
                "pbo_optimal = OptimalPBO(env.A[0, 0], env.B[0, 0], env.Q[0, 0], env.R[0, 0], env.S[0, 0])\n",
                "pbo_optimal_linear = OptimalLinearPBO(data_loader_weights.weights, pbo_optimal(data_loader_weights.weights))"
            ]
        },
        {
            "cell_type": "markdown",
            "metadata": {},
            "source": [
                "## Train PBO on one iteration"
            ]
        },
        {
            "cell_type": "markdown",
            "metadata": {},
            "source": [
                "### Define the targets of the random init weights"
            ]
        },
        {
            "cell_type": "code",
            "execution_count": null,
            "metadata": {},
            "outputs": [],
            "source": [
                "import matplotlib.pyplot as plt\n",
                "\n",
                "plt.bar(index, data[row], bar_width, bottom=y_offset, color=colors[row])"
            ]
        },
        {
            "cell_type": "code",
            "execution_count": 8,
            "metadata": {},
            "outputs": [],
            "source": [
                "full_batch = {\n",
                "    \"reward\": replay_buffer.rewards,\n",
                "    \"next_state\": replay_buffer.next_states,\n",
                "}\n",
                "target_discrete_iterated_qs = pbo.compute_target(full_batch, data_loader_weights.weights).reshape((n_weights, n_discrete_states, n_discrete_actions))"
            ]
        },
        {
            "cell_type": "markdown",
            "metadata": {},
            "source": [
                "### Training"
            ]
        },
        {
            "cell_type": "code",
            "execution_count": 18,
            "metadata": {},
            "outputs": [
                {
                    "data": {
                        "image/png": "[encoded data removed]",
                        "text/plain": [
                            "<Figure size 432x288 with 3 Axes>"
                        ]
                    },
                    "metadata": {
                        "needs_background": "light"
                    },
                    "output_type": "display_data"
                },
                {
                    "ename": "KeyboardInterrupt",
                    "evalue": "",
                    "output_type": "error",
                    "traceback": [
                        "\u001b[0;31m---------------------------------------------------------------------------\u001b[0m",
                        "\u001b[0;31mKeyboardInterrupt\u001b[0m                         Traceback (most recent call last)",
                        "\u001b[1;32m/home/vincent/Darmstadt/PBO/simple_pbo_lqr_one_iteration.ipynb Cell 20'\u001b[0m in \u001b[0;36m<cell line: 12>\u001b[0;34m()\u001b[0m\n\u001b[1;32m     <a href='vscode-notebook-cell:/home/vincent/Darmstadt/PBO/simple_pbo_lqr_one_iteration.ipynb#ch0000019?line=15'>16</a>\u001b[0m \u001b[39mfor\u001b[39;00m batch_weights \u001b[39min\u001b[39;00m data_loader_weights:\n\u001b[1;32m     <a href='vscode-notebook-cell:/home/vincent/Darmstadt/PBO/simple_pbo_lqr_one_iteration.ipynb#ch0000019?line=16'>17</a>\u001b[0m     data_loader_samples\u001b[39m.\u001b[39mshuffle()\n\u001b[0;32m---> <a href='vscode-notebook-cell:/home/vincent/Darmstadt/PBO/simple_pbo_lqr_one_iteration.ipynb#ch0000019?line=17'>18</a>\u001b[0m     \u001b[39mfor\u001b[39;00m batch_samples \u001b[39min\u001b[39;00m data_loader_samples:\n\u001b[1;32m     <a href='vscode-notebook-cell:/home/vincent/Darmstadt/PBO/simple_pbo_lqr_one_iteration.ipynb#ch0000019?line=18'>19</a>\u001b[0m         pbo\u001b[39m.\u001b[39mparams, pbo\u001b[39m.\u001b[39moptimizer_state, l2_loss \u001b[39m=\u001b[39m pbo\u001b[39m.\u001b[39mlearn_on_batch(pbo\u001b[39m.\u001b[39mparams, pbo\u001b[39m.\u001b[39moptimizer_state, batch_samples, batch_weights)\n\u001b[1;32m     <a href='vscode-notebook-cell:/home/vincent/Darmstadt/PBO/simple_pbo_lqr_one_iteration.ipynb#ch0000019?line=19'>20</a>\u001b[0m         cumulative_l2_loss \u001b[39m+\u001b[39m\u001b[39m=\u001b[39m l2_loss\n",
                        "File \u001b[0;32m~/Darmstadt/PBO/pbo/sample_collection/dataloader.py:37\u001b[0m, in \u001b[0;36mSampleDataLoader.__getitem__\u001b[0;34m(self, idx)\u001b[0m\n\u001b[1;32m     <a href='file:///home/vincent/Darmstadt/PBO/pbo/sample_collection/dataloader.py?line=33'>34</a>\u001b[0m     \u001b[39mraise\u001b[39;00m \u001b[39mStopIteration\u001b[39;00m\n\u001b[1;32m     <a href='file:///home/vincent/Darmstadt/PBO/pbo/sample_collection/dataloader.py?line=35'>36</a>\u001b[0m start \u001b[39m=\u001b[39m idx \u001b[39m*\u001b[39m \u001b[39mself\u001b[39m\u001b[39m.\u001b[39mbatch_size\n\u001b[0;32m---> <a href='file:///home/vincent/Darmstadt/PBO/pbo/sample_collection/dataloader.py?line=36'>37</a>\u001b[0m end \u001b[39m=\u001b[39m jnp\u001b[39m.\u001b[39;49mminimum((idx \u001b[39m+\u001b[39;49m \u001b[39m1\u001b[39;49m) \u001b[39m*\u001b[39;49m \u001b[39mself\u001b[39;49m\u001b[39m.\u001b[39;49mbatch_size, \u001b[39mself\u001b[39;49m\u001b[39m.\u001b[39;49mn_samples)\n\u001b[1;32m     <a href='file:///home/vincent/Darmstadt/PBO/pbo/sample_collection/dataloader.py?line=37'>38</a>\u001b[0m idxs \u001b[39m=\u001b[39m \u001b[39mself\u001b[39m\u001b[39m.\u001b[39mindexes[start:end]\n\u001b[1;32m     <a href='file:///home/vincent/Darmstadt/PBO/pbo/sample_collection/dataloader.py?line=39'>40</a>\u001b[0m \u001b[39mreturn\u001b[39;00m \u001b[39mself\u001b[39m\u001b[39m.\u001b[39mjitted_getitem(idxs)\n",
                        "\u001b[0;31mKeyboardInterrupt\u001b[0m: "
                    ]
                }
            ],
            "source": [
                "from pbo.utils.shared_axis_plot import shared_axis_plot\n",
                "from pbo.utils.weights_iterator import WeightsIterator\n",
                "\n",
                "\n",
                "# For visualization\n",
                "weights_iterator = WeightsIterator(env, pbo, n_iterations, data_loader_weights.weights[0], 0)\n",
                "l1_losses = []\n",
                "\n",
                "iteration = 0\n",
                "l1_loss = float(\"inf\")\n",
                "\n",
                "while l1_loss > tolerance and iteration < max_iterations:\n",
                "    cumulative_l2_loss = 0\n",
                "    \n",
                "    data_loader_weights.shuffle()\n",
                "    for batch_weights in data_loader_weights:\n",
                "        data_loader_samples.shuffle()\n",
                "        for batch_samples in data_loader_samples:\n",
                "            pbo.params, pbo.optimizer_state, l2_loss = pbo.learn_on_batch(pbo.params, pbo.optimizer_state, batch_samples, batch_weights)\n",
                "            cumulative_l2_loss += l2_loss\n",
                "\n",
                "    iteration += 1\n",
                "\n",
                "    # Visualization\n",
                "    if iteration % plot_freq == 0:\n",
                "        discrete_iterated_qs = q.discretize(pbo.network.apply(pbo.params, data_loader_weights.weights), discrete_states, discrete_actions)\n",
                "        l1_loss = np.abs(target_discrete_iterated_qs - discrete_iterated_qs).sum(axis=(1, 2)).mean(axis=0)\n",
                "\n",
                "        weights_iterator.iterate_on_params(pbo.params, pbo.fixed_point())\n",
                "        weights_iterator.show(f\"Iterations on the initial weights[0] at training iteration: {iteration}, \\nl1 loss {str(np.round(l1_loss, 2))}, tolerance: {tolerance}\")\n",
                "\n",
                "        l1_losses.append(l1_loss)\n",
                "\n",
                "\n",
                "shared_axis_plot(l1_losses, np.array(l1_losses) * np.nan, f\"every {plot_freq} iteration\", \"l1 loss\")"
            ]
        },
        {
            "cell_type": "markdown",
            "metadata": {},
            "source": [
                "## Validation"
            ]
        },
        {
            "cell_type": "markdown",
            "metadata": {},
            "source": [
                "### on weights"
            ]
        },
        {
            "cell_type": "code",
            "execution_count": null,
            "metadata": {},
            "outputs": [],
            "source": [
                "n_weights_val = 500\n",
                "random_weights_qs_val = jnp.vstack([q.random_init_weights() for _ in range(n_weights_val)])\n",
                "\n",
                "full_batch = {\n",
                "    \"reward\": replay_buffer.rewards,\n",
                "    \"next_state\": replay_buffer.next_states,\n",
                "}\n",
                "target_discrete_iterated_qs_val = pbo.compute_target(full_batch, random_weights_qs_val).reshape((n_weights_val, n_discrete_states, n_discrete_actions))\n",
                "discrete_iterated_qs_val = q.discretize(pbo.network.apply(pbo.params, random_weights_qs_val), discrete_states, discrete_actions)\n",
                "\n",
                "validation_loss = jnp.abs(target_discrete_iterated_qs_val - discrete_iterated_qs_val).mean()\n",
                "\n",
                "q_visu_mesh.set_values(jnp.abs(target_discrete_iterated_qs_val - discrete_iterated_qs_val).mean(axis=0))\n",
                "q_visu_mesh.show(f\"||Iterated Q with Bellmann - Iterated Q with PBO||_1 on validation weights, \\n validation l1 loss: {int(validation_loss)}\")"
            ]
        },
        {
            "cell_type": "markdown",
            "metadata": {},
            "source": [
                "### on samples"
            ]
        },
        {
            "cell_type": "code",
            "execution_count": null,
            "metadata": {},
            "outputs": [],
            "source": [
                "n_discrete_states_val = 2 * n_discrete_states\n",
                "n_discrete_actions_val = 2 * n_discrete_actions\n",
                "discrete_states_val = np.linspace(-max_discrete_state - 3, max_discrete_state + 3, n_discrete_states_val)\n",
                "discrete_actions_val = np.linspace(-max_discrete_action - 3 , max_discrete_action + 3, n_discrete_actions_val)\n",
                "n_samples_val = n_discrete_states_val * n_discrete_actions_val\n",
                "\n",
                "q_visu_mesh_val = StateActionMesh(discrete_states_val, discrete_actions_val, sleeping_time)\n",
                "\n",
                "replay_buffer_val = ReplayBuffer()\n",
                "\n",
                "for state in discrete_states_val:\n",
                "    for action in discrete_actions_val:\n",
                "        env.reset(jnp.array([state]))\n",
                "        next_state, reward, _, _ = env.step(jnp.array([action]))\n",
                "\n",
                "        replay_buffer_val.add(jnp.array([state]), jnp.array([action]), reward, next_state)\n",
                "        \n",
                "        \n",
                "replay_buffer_val.cast_to_jax_array()\n",
                "\n",
                "full_batch = {\n",
                "    \"reward\": replay_buffer_val.rewards,\n",
                "    \"next_state\": replay_buffer_val.next_states,\n",
                "}\n",
                "target_discrete_iterated_qs_val = pbo.compute_target(full_batch, random_weights_qs).reshape((n_weights, n_discrete_states_val, n_discrete_actions_val))\n",
                "discrete_iterated_qs_val = q.discretize(pbo.network.apply(pbo.params, random_weights_qs), discrete_states_val, discrete_actions_val)\n",
                "\n",
                "validation_loss = jnp.abs(target_discrete_iterated_qs_val - discrete_iterated_qs_val).mean()\n",
                "\n",
                "q_visu_mesh_val.set_values(jnp.abs(target_discrete_iterated_qs_val - discrete_iterated_qs_val).mean(axis=0))\n",
                "q_visu_mesh_val.show(f\"||Iterated Q with Bellmann - Iterated Q with PBO||_1 on validation samples, \\n validation l1 loss: {int(validation_loss)}\")"
            ]
        }
    ],
    "metadata": {
        "interpreter": {
            "hash": "1432d270abb514d077d760a4c8d2edd41cc0752b595b0513fca29951003961c1"
        },
        "kernelspec": {
            "display_name": "Python 3.8.10 ('env': venv)",
            "language": "python",
            "name": "python3"
        },
        "language_info": {
            "codemirror_mode": {
                "name": "ipython",
                "version": 3
            },
            "file_extension": ".py",
            "mimetype": "text/x-python",
            "name": "python",
            "nbconvert_exporter": "python",
            "pygments_lexer": "ipython3",
            "version": "3.8.10"
        },
        "orig_nbformat": 4
    },
    "nbformat": 4,
    "nbformat_minor": 2
}
