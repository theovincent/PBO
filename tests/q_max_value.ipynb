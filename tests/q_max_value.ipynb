{
 "cells": [
  {
   "cell_type": "code",
   "execution_count": 1,
   "metadata": {},
   "outputs": [
    {
     "name": "stderr",
     "output_type": "stream",
     "text": [
      "WARNING:absl:No GPU/TPU found, falling back to CPU. (Set TF_CPP_MIN_LOG_LEVEL=0 and rerun for more info.)\n"
     ]
    },
    {
     "data": {
      "text/plain": [
       "2"
      ]
     },
     "execution_count": 1,
     "metadata": {},
     "output_type": "execute_result"
    }
   ],
   "source": [
    "\n",
    "%load_ext autoreload\n",
    "%autoreload 2\n",
    "\n",
    "import jax.numpy as jnp\n",
    "import jax\n",
    "\n",
    "from pbo.networks.learnable_q import TableQ\n",
    "\n",
    "\n",
    "seed = 0\n",
    "key = jax.random.PRNGKey(seed)\n",
    "q_network_key, random_weights_key = jax.random.split(key)\n",
    "\n",
    "\n",
    "q = TableQ(\n",
    "    1,\n",
    "    17,\n",
    "    1,\n",
    "    2,\n",
    "    0.9,\n",
    "    q_network_key,\n",
    "    None,\n",
    "    random_weights_key,\n",
    "    None,\n",
    "    zero_initializer=False,\n",
    ")\n",
    "batch_states = jnp.array([[15]])\n",
    "\n",
    "q.n_actions_on_max"
   ]
  },
  {
   "cell_type": "code",
   "execution_count": 2,
   "metadata": {},
   "outputs": [
    {
     "data": {
      "text/plain": [
       "DeviceArray([[0.5195305]], dtype=float32)"
      ]
     },
     "execution_count": 2,
     "metadata": {},
     "output_type": "execute_result"
    }
   ],
   "source": [
    "q.max_value(q.params, batch_states)"
   ]
  },
  {
   "cell_type": "code",
   "execution_count": 3,
   "metadata": {},
   "outputs": [
    {
     "name": "stdout",
     "output_type": "stream",
     "text": [
      "[0.39729893]\n",
      "[0.5195305]\n"
     ]
    }
   ],
   "source": [
    "print(q(q.params, batch_states[0], jnp.array([0])))\n",
    "print(q(q.params, batch_states[0], jnp.array([1])))"
   ]
  },
  {
   "cell_type": "code",
   "execution_count": 4,
   "metadata": {},
   "outputs": [
    {
     "data": {
      "text/plain": [
       "2"
      ]
     },
     "execution_count": 4,
     "metadata": {},
     "output_type": "execute_result"
    }
   ],
   "source": [
    "q.n_actions_on_max"
   ]
  },
  {
   "cell_type": "code",
   "execution_count": 5,
   "metadata": {},
   "outputs": [
    {
     "data": {
      "text/plain": [
       "DeviceArray([[0.5195305]], dtype=float32)"
      ]
     },
     "execution_count": 5,
     "metadata": {},
     "output_type": "execute_result"
    }
   ],
   "source": [
    "index_batch_states = jnp.arange(batch_states.shape[0])\n",
    "\n",
    "indexes_states_mesh, indexes_actions_mesh = jnp.meshgrid(\n",
    "    index_batch_states, q.index_actions_on_max, indexing=\"ij\"\n",
    ")\n",
    "states = batch_states[indexes_states_mesh.flatten()]\n",
    "actions = q.discrete_actions_on_max[indexes_actions_mesh.flatten()]\n",
    "\n",
    "# Dangerous reshape: the indexing of meshgrid is 'ij'.\n",
    "batch_values = q(q.params, states, actions).reshape((batch_states.shape[0], q.n_actions_on_max))\n",
    "\n",
    "batch_values.max(axis=1).reshape((-1, 1))"
   ]
  }
 ],
 "metadata": {
  "kernelspec": {
   "display_name": "Python 3.8.10 ('env': venv)",
   "language": "python",
   "name": "python3"
  },
  "language_info": {
   "codemirror_mode": {
    "name": "ipython",
    "version": 3
   },
   "file_extension": ".py",
   "mimetype": "text/x-python",
   "name": "python",
   "nbconvert_exporter": "python",
   "pygments_lexer": "ipython3",
   "version": "3.8.10"
  },
  "orig_nbformat": 4,
  "vscode": {
   "interpreter": {
    "hash": "1432d270abb514d077d760a4c8d2edd41cc0752b595b0513fca29951003961c1"
   }
  }
 },
 "nbformat": 4,
 "nbformat_minor": 2
}
